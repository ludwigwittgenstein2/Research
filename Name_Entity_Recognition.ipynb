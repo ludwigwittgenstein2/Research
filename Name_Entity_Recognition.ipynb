{
  "cells": [
    {
      "cell_type": "markdown",
      "metadata": {
        "id": "view-in-github",
        "colab_type": "text"
      },
      "source": [
        "<a href=\"https://colab.research.google.com/github/ludwigwittgenstein2/Research/blob/master/Name_Entity_Recognition.ipynb\" target=\"_parent\"><img src=\"https://colab.research.google.com/assets/colab-badge.svg\" alt=\"Open In Colab\"/></a>"
      ]
    },
    {
      "cell_type": "markdown",
      "metadata": {
        "id": "X63uWyUiNR5q"
      },
      "source": [
        "#Title: Name Entity Recognition using SPACY and BERT model \n",
        "### by Rick Rejeleene\n",
        "\n",
        "Name Entity Recognition (NER) is an Information Extraction task in Natural Language Processing.\n",
        "\n",
        "In this, we approach NER using SPACY and Transformer based Model, BERT"
      ]
    },
    {
      "cell_type": "markdown",
      "metadata": {
        "id": "2zui6sh-9t3j"
      },
      "source": [
        "#Objective \n",
        "\n",
        ">a. BERT NER \n",
        "\n",
        ">b. SPACY NER\n",
        "\n",
        "\n",
        ">We compare both with metrics. \n",
        "\n",
        ">c. Results/Publish\n",
        "\n",
        "Paper link: https://docs.google.com/document/d/1cidVb2qUS_9KrUWrzngaxXPADxBz09matYFjx1RhPwY/edit"
      ]
    },
    {
      "cell_type": "markdown",
      "metadata": {
        "id": "VacuMzurg3ny"
      },
      "source": [
        "## What dataset are we using for this task? \n",
        "\n",
        "> U.S Census dataset \n",
        "\n",
        "Link for Dataset: https://drive.google.com/drive/folders/1ozzGFfKH2LFz7Gc2RZm6d4s6SYVw0jGb?usp=sharing\n",
        "\n",
        "\n",
        "##How to do Name Entity Recognition on Custom Dataset using SPACY3? \n",
        "\n",
        "1. Dataset \n",
        "2. Spacy Library\n",
        "3. Training\n",
        "\n",
        "First We require to annotate our custom dataset: \n",
        "\n",
        "a. NER Annotator \n",
        "\n",
        "https://tecoholic.github.io/ner-annotator/\n",
        "\n",
        "b. We require our dataset to be in txt file to be uploaded\n",
        "\n",
        "c. In the NER annotator, apply labels that you desire \n",
        "\n",
        "d. Use Export Annotation to export your annotated dataset\n",
        "\n"
      ]
    },
    {
      "cell_type": "markdown",
      "metadata": {
        "id": "89OQe3RJhbaY"
      },
      "source": [
        "# What's next? \n",
        "\n",
        "a. Once you have your training dataset\n",
        "\n",
        "b. Use Spacy3\n",
        "\n",
        "\n"
      ]
    },
    {
      "cell_type": "markdown",
      "source": [
        "#Objective: SPACY NER on custom dataset"
      ],
      "metadata": {
        "id": "k0pTvZ6uEWhN"
      }
    },
    {
      "cell_type": "code",
      "execution_count": null,
      "metadata": {
        "colab": {
          "base_uri": "https://localhost:8080/"
        },
        "id": "l7-ZlPjbOzJn",
        "outputId": "8fe7e231-dc75-4bee-fde8-427edc93d851"
      },
      "outputs": [
        {
          "output_type": "stream",
          "name": "stdout",
          "text": [
            "Looking in indexes: https://pypi.org/simple, https://us-python.pkg.dev/colab-wheels/public/simple/\n",
            "Requirement already satisfied: torch in /usr/local/lib/python3.7/dist-packages (1.12.1+cu113)\n",
            "Requirement already satisfied: typing-extensions in /usr/local/lib/python3.7/dist-packages (from torch) (4.1.1)\n",
            "Looking in indexes: https://pypi.org/simple, https://us-python.pkg.dev/colab-wheels/public/simple/\n",
            "Requirement already satisfied: tqdm in /usr/local/lib/python3.7/dist-packages (4.64.1)\n"
          ]
        }
      ],
      "source": [
        "! pip install -U spacy -q\n",
        "!pip install torch\n",
        "!pip install tqdm"
      ]
    },
    {
      "cell_type": "code",
      "execution_count": null,
      "metadata": {
        "id": "fiOsPsBMVxAr"
      },
      "outputs": [],
      "source": [
        "import torch\n",
        "import spacy\n",
        "from spacy.tokens import DocBin\n",
        "from tqdm import tqdm\n",
        "nlp = spacy.blank(\"en\") # load a new spacy model\n",
        "db = DocBin() # create a DocBin object"
      ]
    },
    {
      "cell_type": "markdown",
      "source": [
        "## Load custom dataset \n",
        "\n",
        "> Upload annotation json dataset\n",
        "\n",
        "> Re-name to training_data.json\n",
        "\n",
        "> Run code"
      ],
      "metadata": {
        "id": "QJKcxq8EEi4X"
      }
    },
    {
      "cell_type": "code",
      "execution_count": null,
      "metadata": {
        "id": "arnG4jIiV27G"
      },
      "outputs": [],
      "source": [
        "import json\n",
        "f = open('training_data.json')\n",
        "TRAIN_DATA = json.load(f)"
      ]
    },
    {
      "cell_type": "code",
      "execution_count": null,
      "metadata": {
        "colab": {
          "base_uri": "https://localhost:8080/"
        },
        "id": "4Ach9PqEV5UN",
        "outputId": "ae8d115f-0c56-4cd3-e15e-8da71978be5c"
      },
      "outputs": [
        {
          "output_type": "stream",
          "name": "stderr",
          "text": [
            "100%|██████████| 50/50 [00:00<00:00, 676.25it/s]\n"
          ]
        }
      ],
      "source": [
        "for text, annot in tqdm(TRAIN_DATA['annotations']): \n",
        "    doc = nlp.make_doc(text) \n",
        "    ents = []\n",
        "    for start, end, label in annot[\"entities\"]:\n",
        "        span = doc.char_span(start, end, label=label, alignment_mode=\"contract\")\n",
        "        if span is None:\n",
        "            print(\"Skipping entity\")\n",
        "        else:\n",
        "            ents.append(span)\n",
        "    doc.ents = ents \n",
        "    db.add(doc)\n",
        "\n",
        "db.to_disk(\"./training_data.spacy\") # save the docbin object"
      ]
    },
    {
      "cell_type": "code",
      "execution_count": null,
      "metadata": {
        "id": "QXd6QJnxOVa-"
      },
      "outputs": [],
      "source": [
        "class NerDataset(torch.utils.data.Dataset):\n",
        "  \"\"\"\n",
        "  Custom dataset implementation to get (text,labels) tuples\n",
        "  Inputs:\n",
        "   - df : dataframe with columns [tags, sentence]\n",
        "  \"\"\"\n",
        "  \n",
        "  def __init__(self, df):\n",
        "    if not isinstance(df, pd.DataFrame):\n",
        "      raise TypeError('Input should be a dataframe')\n",
        "    \n",
        "    if \"tags\" not in df.columns or \"sentence\" not in df.columns:\n",
        "      raise ValueError(\"Dataframe should contain 'tags' and 'sentence' columns\")\n",
        "\n",
        "     \n",
        "    \n",
        "    tags_list = [i.split() for i in df[\"tags\"].values.tolist()]\n",
        "    texts = df[\"sentence\"].values.tolist()\n",
        "\n",
        "    self.texts = [tokenizer(text, padding = \"max_length\", truncation = True, return_tensors = \"pt\") for text in texts]\n",
        "    self.labels = [match_tokens_labels(text, tags) for text,tags in zip(self.texts, tags_list)]\n",
        "\n",
        "  def __len__(self):\n",
        "    return len(self.labels)\n",
        "\n",
        "  def __getitem__(self, idx):\n",
        "    batch_text = self.texts[idx]\n",
        "    batch_labels = self.labels[idx]\n",
        "\n",
        "    return batch_text, torch.LongTensor(batch_labels)"
      ]
    },
    {
      "cell_type": "code",
      "execution_count": null,
      "metadata": {
        "colab": {
          "base_uri": "https://localhost:8080/"
        },
        "id": "N1KFT3iXUJHR",
        "outputId": "278f5561-16c4-4ab2-9be1-765d7e0d3d35"
      },
      "outputs": [
        {
          "output_type": "stream",
          "name": "stdout",
          "text": [
            "\u001b[38;5;3m⚠ To generate a more effective transformer-based config (GPU-only),\n",
            "install the spacy-transformers package and re-run this command. The config\n",
            "generated now does not use transformers.\u001b[0m\n",
            "\u001b[38;5;4mℹ Generated config template specific for your use case\u001b[0m\n",
            "- Language: en\n",
            "- Pipeline: ner\n",
            "- Optimize for: efficiency\n",
            "- Hardware: CPU\n",
            "- Transformer: None\n",
            "\u001b[38;5;2m✔ Auto-filled config with all values\u001b[0m\n",
            "\u001b[38;5;2m✔ Saved config\u001b[0m\n",
            "config.cfg\n",
            "You can now add your data and train your pipeline:\n",
            "python -m spacy train config.cfg --paths.train ./train.spacy --paths.dev ./dev.spacy\n"
          ]
        }
      ],
      "source": [
        "! python -m spacy init config config.cfg --lang en --pipeline ner --optimize efficiency"
      ]
    },
    {
      "cell_type": "code",
      "execution_count": null,
      "metadata": {
        "colab": {
          "base_uri": "https://localhost:8080/"
        },
        "id": "bv7YZSLpULyE",
        "outputId": "43c2c44c-f543-4114-9fb9-07d2b53c8453"
      },
      "outputs": [
        {
          "output_type": "stream",
          "name": "stdout",
          "text": [
            "\u001b[38;5;4mℹ Saving to output directory: .\u001b[0m\n",
            "\u001b[38;5;4mℹ Using CPU\u001b[0m\n",
            "\u001b[38;5;4mℹ To switch to GPU 0, use the option: --gpu-id 0\u001b[0m\n",
            "\u001b[1m\n",
            "=========================== Initializing pipeline ===========================\u001b[0m\n",
            "[2022-11-21 21:27:35,687] [INFO] Set up nlp object from config\n",
            "INFO:spacy:Set up nlp object from config\n",
            "[2022-11-21 21:27:35,708] [INFO] Pipeline: ['tok2vec', 'ner']\n",
            "INFO:spacy:Pipeline: ['tok2vec', 'ner']\n",
            "[2022-11-21 21:27:35,716] [INFO] Created vocabulary\n",
            "INFO:spacy:Created vocabulary\n",
            "[2022-11-21 21:27:35,720] [INFO] Finished initializing nlp object\n",
            "INFO:spacy:Finished initializing nlp object\n",
            "[2022-11-21 21:27:36,085] [INFO] Initialized pipeline components: ['tok2vec', 'ner']\n",
            "INFO:spacy:Initialized pipeline components: ['tok2vec', 'ner']\n",
            "\u001b[38;5;2m✔ Initialized pipeline\u001b[0m\n",
            "\u001b[1m\n",
            "============================= Training pipeline =============================\u001b[0m\n",
            "\u001b[38;5;4mℹ Pipeline: ['tok2vec', 'ner']\u001b[0m\n",
            "\u001b[38;5;4mℹ Initial learn rate: 0.001\u001b[0m\n",
            "E    #       LOSS TOK2VEC  LOSS NER  ENTS_F  ENTS_P  ENTS_R  SCORE \n",
            "---  ------  ------------  --------  ------  ------  ------  ------\n",
            "  0       0          0.00     53.67    0.00    0.00    0.00    0.00\n",
            " 15     200        188.38   3399.76   98.74   98.95   98.53    0.99\n",
            " 34     400         74.59    179.96   99.47   99.58   99.37    0.99\n",
            " 58     600         58.69     70.82  100.00  100.00  100.00    1.00\n",
            " 88     800          8.38      6.39  100.00  100.00  100.00    1.00\n",
            "123    1000         37.82      6.35  100.00  100.00  100.00    1.00\n",
            "167    1200        122.11     57.63  100.00  100.00  100.00    1.00\n",
            "217    1400        118.87     41.06   99.69   99.58   99.79    1.00\n",
            "283    1600         74.87     23.06  100.00  100.00  100.00    1.00\n",
            "357    1800         35.46      6.53  100.00  100.00  100.00    1.00\n",
            "457    2000          0.00      0.00  100.00  100.00  100.00    1.00\n",
            "557    2200        143.39     36.98  100.00  100.00  100.00    1.00\n",
            "\u001b[38;5;2m✔ Saved pipeline to output directory\u001b[0m\n",
            "model-last\n"
          ]
        }
      ],
      "source": [
        "!python -m spacy train config.cfg --output ./ --paths.train ./training_data.spacy --paths.dev ./training_data.spacy"
      ]
    },
    {
      "cell_type": "code",
      "execution_count": null,
      "metadata": {
        "id": "z1zFlEpiUPO8"
      },
      "outputs": [],
      "source": [
        "nlp_ner = spacy.load(\"/content/model-best\")"
      ]
    },
    {
      "cell_type": "markdown",
      "source": [
        "## Test out addresss from dataset using SPACY\n",
        "\n",
        ">uncomment and add any input for checking"
      ],
      "metadata": {
        "id": "tidiEIUkFsL_"
      }
    },
    {
      "cell_type": "code",
      "execution_count": null,
      "metadata": {
        "id": "2iiMSFTCUNRH"
      },
      "outputs": [],
      "source": [
        "#doc = nlp_ner('Mr. Breonia Adam , PhD, QC, \"\t\"513 LANDWYCK LN, FLOWER MOUND ,TX 75028') # input sample text\n",
        "doc = nlp_ner('Mr. Jasper Bauer , Jr, IQCP, 11096 GINGERWOOD WAY, RANCHO CORDOVA ,CA 95670')"
      ]
    },
    {
      "cell_type": "code",
      "source": [
        "#doc = nlp_ner('MS. Lilly Alldredge , Jr, CLIA, 8243 WORMWOOD RD, JACKSONVILLE ,FL 32210')"
      ],
      "metadata": {
        "id": "GwxzSgUNsGOp"
      },
      "execution_count": null,
      "outputs": []
    },
    {
      "cell_type": "code",
      "source": [
        "#doc = nlp_ner ('Mr. Madelyn Adams , Sr, CLIA, 102 HILLVIEW DR, CLOVERDALE ,CA 95425')"
      ],
      "metadata": {
        "id": "FsH2g7aYtA1u"
      },
      "execution_count": null,
      "outputs": []
    },
    {
      "cell_type": "markdown",
      "source": [
        "#Results from SPACY NER"
      ],
      "metadata": {
        "id": "M1rI0YoGFx6x"
      }
    },
    {
      "cell_type": "code",
      "source": [
        "#doc = nlp_ner ('Miss Shazia Aman, Sr, Dr, 105 West HillCrest Rock Drive, Little Rock, AR, 72004')"
      ],
      "metadata": {
        "id": "KqbpaRgjtHPP"
      },
      "execution_count": null,
      "outputs": []
    },
    {
      "cell_type": "code",
      "execution_count": null,
      "metadata": {
        "colab": {
          "base_uri": "https://localhost:8080/",
          "height": 52
        },
        "id": "VGLrLhtKWiXw",
        "outputId": "1a97ec7a-3296-4cf1-ea3f-fe4c49a545bc"
      },
      "outputs": [
        {
          "output_type": "display_data",
          "data": {
            "text/plain": [
              "<IPython.core.display.HTML object>"
            ],
            "text/html": [
              "<span class=\"tex2jax_ignore\"><div class=\"entities\" style=\"line-height: 2.5; direction: ltr\">\n",
              "<mark class=\"entity\" style=\"background: #ddd; padding: 0.45em 0.6em; margin: 0 0.25em; line-height: 1; border-radius: 0.35em;\">\n",
              "    Mr.\n",
              "    <span style=\"font-size: 0.8em; font-weight: bold; line-height: 1; border-radius: 0.35em; vertical-align: middle; margin-left: 0.5rem\">PREFIX TITLE </span>\n",
              "</mark>\n",
              " \n",
              "<mark class=\"entity\" style=\"background: #ddd; padding: 0.45em 0.6em; margin: 0 0.25em; line-height: 1; border-radius: 0.35em;\">\n",
              "    Jasper\n",
              "    <span style=\"font-size: 0.8em; font-weight: bold; line-height: 1; border-radius: 0.35em; vertical-align: middle; margin-left: 0.5rem\">GIVEN NAME</span>\n",
              "</mark>\n",
              " \n",
              "<mark class=\"entity\" style=\"background: #ddd; padding: 0.45em 0.6em; margin: 0 0.25em; line-height: 1; border-radius: 0.35em;\">\n",
              "    Bauer\n",
              "    <span style=\"font-size: 0.8em; font-weight: bold; line-height: 1; border-radius: 0.35em; vertical-align: middle; margin-left: 0.5rem\"> FAMILY NAME</span>\n",
              "</mark>\n",
              " , \n",
              "<mark class=\"entity\" style=\"background: #ddd; padding: 0.45em 0.6em; margin: 0 0.25em; line-height: 1; border-radius: 0.35em;\">\n",
              "    Jr, IQCP\n",
              "    <span style=\"font-size: 0.8em; font-weight: bold; line-height: 1; border-radius: 0.35em; vertical-align: middle; margin-left: 0.5rem\">SUFFIX TITLE</span>\n",
              "</mark>\n",
              ", \n",
              "<mark class=\"entity\" style=\"background: #ddd; padding: 0.45em 0.6em; margin: 0 0.25em; line-height: 1; border-radius: 0.35em;\">\n",
              "    11096 GINGERWOOD WAY,\n",
              "    <span style=\"font-size: 0.8em; font-weight: bold; line-height: 1; border-radius: 0.35em; vertical-align: middle; margin-left: 0.5rem\">PREFIX TITLE </span>\n",
              "</mark>\n",
              " \n",
              "<mark class=\"entity\" style=\"background: #ddd; padding: 0.45em 0.6em; margin: 0 0.25em; line-height: 1; border-radius: 0.35em;\">\n",
              "    RANCHO\n",
              "    <span style=\"font-size: 0.8em; font-weight: bold; line-height: 1; border-radius: 0.35em; vertical-align: middle; margin-left: 0.5rem\">STREET SUFFIX </span>\n",
              "</mark>\n",
              " \n",
              "<mark class=\"entity\" style=\"background: #ddd; padding: 0.45em 0.6em; margin: 0 0.25em; line-height: 1; border-radius: 0.35em;\">\n",
              "    CORDOVA ,\n",
              "    <span style=\"font-size: 0.8em; font-weight: bold; line-height: 1; border-radius: 0.35em; vertical-align: middle; margin-left: 0.5rem\">GIVEN NAME</span>\n",
              "</mark>\n",
              "\n",
              "<mark class=\"entity\" style=\"background: #ddd; padding: 0.45em 0.6em; margin: 0 0.25em; line-height: 1; border-radius: 0.35em;\">\n",
              "    CA\n",
              "    <span style=\"font-size: 0.8em; font-weight: bold; line-height: 1; border-radius: 0.35em; vertical-align: middle; margin-left: 0.5rem\">STATE NAME</span>\n",
              "</mark>\n",
              " \n",
              "<mark class=\"entity\" style=\"background: #ddd; padding: 0.45em 0.6em; margin: 0 0.25em; line-height: 1; border-radius: 0.35em;\">\n",
              "    95670\n",
              "    <span style=\"font-size: 0.8em; font-weight: bold; line-height: 1; border-radius: 0.35em; vertical-align: middle; margin-left: 0.5rem\">STREET NUMBER</span>\n",
              "</mark>\n",
              "</div></span>"
            ]
          },
          "metadata": {}
        }
      ],
      "source": [
        "spacy.displacy.render(doc, style=\"ent\", jupyter=True) # display in Jupyter"
      ]
    },
    {
      "cell_type": "markdown",
      "source": [
        "#Name Entity Recognition using Transformer based models"
      ],
      "metadata": {
        "id": "bCIWStPJF96M"
      }
    },
    {
      "cell_type": "code",
      "execution_count": 143,
      "metadata": {
        "colab": {
          "base_uri": "https://localhost:8080/"
        },
        "id": "MKcNSpY8_awd",
        "outputId": "50dea8c6-6856-4931-ae50-9564a35209e1"
      },
      "outputs": [
        {
          "output_type": "stream",
          "name": "stdout",
          "text": [
            "Looking in indexes: https://pypi.org/simple, https://us-python.pkg.dev/colab-wheels/public/simple/\n",
            "Requirement already satisfied: transformers in /usr/local/lib/python3.7/dist-packages (4.24.0)\n",
            "Requirement already satisfied: packaging>=20.0 in /usr/local/lib/python3.7/dist-packages (from transformers) (21.3)\n",
            "Requirement already satisfied: numpy>=1.17 in /usr/local/lib/python3.7/dist-packages (from transformers) (1.21.6)\n",
            "Requirement already satisfied: regex!=2019.12.17 in /usr/local/lib/python3.7/dist-packages (from transformers) (2022.6.2)\n",
            "Requirement already satisfied: filelock in /usr/local/lib/python3.7/dist-packages (from transformers) (3.8.0)\n",
            "Requirement already satisfied: tqdm>=4.27 in /usr/local/lib/python3.7/dist-packages (from transformers) (4.64.1)\n",
            "Requirement already satisfied: pyyaml>=5.1 in /usr/local/lib/python3.7/dist-packages (from transformers) (6.0)\n",
            "Requirement already satisfied: huggingface-hub<1.0,>=0.10.0 in /usr/local/lib/python3.7/dist-packages (from transformers) (0.11.0)\n",
            "Requirement already satisfied: tokenizers!=0.11.3,<0.14,>=0.11.1 in /usr/local/lib/python3.7/dist-packages (from transformers) (0.13.2)\n",
            "Requirement already satisfied: requests in /usr/local/lib/python3.7/dist-packages (from transformers) (2.23.0)\n",
            "Requirement already satisfied: importlib-metadata in /usr/local/lib/python3.7/dist-packages (from transformers) (4.13.0)\n",
            "Requirement already satisfied: typing-extensions>=3.7.4.3 in /usr/local/lib/python3.7/dist-packages (from huggingface-hub<1.0,>=0.10.0->transformers) (4.1.1)\n",
            "Requirement already satisfied: pyparsing!=3.0.5,>=2.0.2 in /usr/local/lib/python3.7/dist-packages (from packaging>=20.0->transformers) (3.0.9)\n",
            "Requirement already satisfied: zipp>=0.5 in /usr/local/lib/python3.7/dist-packages (from importlib-metadata->transformers) (3.10.0)\n",
            "Requirement already satisfied: chardet<4,>=3.0.2 in /usr/local/lib/python3.7/dist-packages (from requests->transformers) (3.0.4)\n",
            "Requirement already satisfied: certifi>=2017.4.17 in /usr/local/lib/python3.7/dist-packages (from requests->transformers) (2022.9.24)\n",
            "Requirement already satisfied: idna<3,>=2.5 in /usr/local/lib/python3.7/dist-packages (from requests->transformers) (2.10)\n",
            "Requirement already satisfied: urllib3!=1.25.0,!=1.25.1,<1.26,>=1.21.1 in /usr/local/lib/python3.7/dist-packages (from requests->transformers) (1.24.3)\n"
          ]
        }
      ],
      "source": [
        "!pip install transformers"
      ]
    },
    {
      "cell_type": "code",
      "execution_count": 151,
      "metadata": {
        "id": "O-OS_lRnipb4",
        "colab": {
          "base_uri": "https://localhost:8080/",
          "height": 91
        },
        "outputId": "6d2f4f95-4bca-4bdc-cf70-2883e3821cba"
      },
      "outputs": [
        {
          "output_type": "stream",
          "name": "stdout",
          "text": [
            "[('[CLS]', 'O'), ('Mr', 'O'), ('.', 'O'), ('B', 'B-FAMILY_NAME'), ('##re', 'B-FAMILY_NAME'), ('##onia', 'B-FAMILY_NAME'), ('Adam', 'B-FAMILY_NAME'), (',', 'O'), ('PhD', 'O'), (',', 'O'), ('Q', 'O'), ('##C', 'B-STREET_SUFFIX'), (',', 'O'), ('51', 'O'), ('##3', 'O'), ('LA', 'B-STREET_SUFFIX'), ('##ND', 'B-STREET_NUMBER'), ('##W', 'B-STREET_NUMBER'), ('##Y', 'B-STREET_NUMBER'), ('##C', 'B-STREET_NUMBER'), ('##K', 'B-STREET_NUMBER'), ('L', 'O'), ('##N', 'O'), (',', 'O'), ('FL', 'O'), ('##OW', 'O'), ('##ER', 'O'), ('M', 'O'), ('##O', 'O'), ('##UN', 'O'), ('##D', 'O'), (',', 'O'), ('TX', 'B-STREET_SUFFIX'), ('750', 'O'), ('##28', 'O'), ('[SEP]', 'O')]\n"
          ]
        },
        {
          "output_type": "execute_result",
          "data": {
            "text/plain": [
              "'\\nMR -> Prefix Title\\nBREONIA -> Given Name\\nADAM -> Family Name\\nPHD QC -> Suffix Title\\n513 -> Street Number\\nLANDWYCK -> Street Name\\nLN -> Street Suffix\\nFLOWER MOUND -> City Name\\nTX -> State Name\\n75028 -> Zip Code\\n\\n'"
            ],
            "application/vnd.google.colaboratory.intrinsic+json": {
              "type": "string"
            }
          },
          "metadata": {},
          "execution_count": 151
        }
      ],
      "source": [
        "from transformers import AutoModelForTokenClassification, AutoTokenizer\n",
        "import torch\n",
        "\n",
        "model = AutoModelForTokenClassification.from_pretrained(\"dbmdz/bert-large-cased-finetuned-conll03-english\")\n",
        "tokenizer = AutoTokenizer.from_pretrained(\"bert-base-cased\")\n",
        "\"\"\"\n",
        "label_list = [\n",
        "    \"O\",       # Outside of a named entity\n",
        "    \"B-PREFIX\",  # Beginning of a miscellaneous entity right after another miscellaneous entity\n",
        "    \"I-GIVEN\",  # Miscellaneous entity\n",
        "    \"B-FAMILY\",   # Beginning of a person's name right after another person's name\n",
        "    \"I-NAME\",   # Person's name\n",
        "    \"B-STREET\",   # Beginning of an organisation right after another organisation\n",
        "    \"I-CITY\",   # Organisation\n",
        "    \"B-STATE\",   # Beginning of a location right after another location\n",
        "    \"I-ZIP\"    # Location\n",
        "]\n",
        "\"\"\"\n",
        "\n",
        "label_list = [\n",
        "    \"O\",       # Outside of a named entity\n",
        "    \"B-PREFIX\",  # Beginning of a miscellaneous entity right after another miscellaneous entity\n",
        "    \"I-SUFFIX_TITLE\",  # Miscellaneous entity\n",
        "    \"B-GIVEN_NAME\",   # Beginning of a person's name right after another person's name\n",
        "    \"B-FAMILY_NAME\",   # Beginning of a person's name right after another person's name\n",
        "    \"I-NAME\",   # Person's name\n",
        "    \"B-STREET_NUMBER\",   # Beginning of an organisation right after another organisation\n",
        "    \"B-STREET_NAME\",   # Beginning of an organisation right after another organisation\n",
        "    \"B-STREET_SUFFIX\",   # Beginning of an organisation right after another organisation\n",
        "    \"I-CITY\",   # Organisation\n",
        "    \"B-STATE_NAME\",   # Beginning of a location right after another location\n",
        "    \"I-ZIP\"    # Location\n",
        "]\n",
        "\n",
        "sequence = \"Mr. Breonia Adam , PhD, QC, \"\t\"513 LANDWYCK LN, FLOWER MOUND ,TX 75028\"\n",
        "\n",
        "# Bit of a hack to get the tokens with the special tokens\n",
        "tokens = tokenizer.tokenize(tokenizer.decode(tokenizer.encode(sequence)))\n",
        "inputs = tokenizer.encode(sequence, return_tensors=\"pt\")\n",
        "\n",
        "outputs = model(inputs)[0]\n",
        "predictions = torch.argmax(outputs, dim=2)\n",
        "\n",
        "print([(token, label_list[prediction]) for token, prediction in zip(tokens, predictions[0].tolist())])\n",
        "\n",
        "\"\"\"\n",
        "MR -> Prefix Title\n",
        "BREONIA -> Given Name\n",
        "ADAM -> Family Name\n",
        "PHD QC -> Suffix Title\n",
        "513 -> Street Number\n",
        "LANDWYCK -> Street Name\n",
        "LN -> Street Suffix\n",
        "FLOWER MOUND -> City Name\n",
        "TX -> State Name\n",
        "75028 -> Zip Code\n",
        "\n",
        "\"\"\"\n",
        "\n"
      ]
    },
    {
      "cell_type": "code",
      "source": [
        "f = open('/content/Cleaned_Simple_50.txt', 'r')\n",
        "content = f.read()\n",
        "print(content)"
      ],
      "metadata": {
        "colab": {
          "base_uri": "https://localhost:8080/"
        },
        "id": "QF5NJu1zI8f8",
        "outputId": "be2ae63d-5675-4ed9-f93e-9f5078356e86"
      },
      "execution_count": 154,
      "outputs": [
        {
          "output_type": "stream",
          "name": "stdout",
          "text": [
            "Number\tName\tAddress\n",
            "2\t\"Dean. Alex Abadi , Jr, QA, \"\t\"14646 RANCHERO RD, HESPERIA ,CA 92345\"\n",
            "3\t\"Dr. Lyla Abbatiello , Jr, CLIA, \"\t\"517 N MOUNTAIN AVE, # 202, UPLAND ,CA 91786\"\n",
            "4\t\"Mr. Kylia Abbott , Jr, QC, \"\t\"2731 PONKAN MEADOW DR, APOPKA ,FL 32712\"\n",
            "5\t\"Mrs. Bryce Abbott , Jr, QA, \"\t\"237 SAINT TROPEZ LN, LINCOLN ,CA 95648\"\n",
            "6\t\"Ms. Daniela Abella , PhD, IQCP,\"\t\"20054 CHICKEN DR, DECATUR ,AR 72722\"\n",
            "7\t\"Mr. Jacob Abraham , Jr, CLIA, \"\t\"3006 E 17TH ST, # 6, OAKLAND ,CA 94601\"\n",
            "8\t\"Mr. Reily Acevedo , PhD, QC,\"\t\"15123 BROOKHURST ST, APT 357, WESTMINSTER ,CA 92683\"\n",
            "9\t\"Col. Micaela Acevedo , PhD, QA, \"\t\"1724 HORIZON HEIGHTS CIR, EL CAJON ,CA 92019\"\n",
            "10\t\"Mr. Breonia Adam , PhD, QC, \"\t\"513 LANDWYCK LN, FLOWER MOUND ,TX 75028\"\n",
            "11\t\"Mr. Miranda Adam , Jr, QA,\"\t\"3503 E CORNELL ST, LUBBOCK ,TX 79403\"\n",
            "12\t\"Mr. Madelyn Adams , Sr, CLIA\"\t\"102 HILLVIEW DR, CLOVERDALE ,CA 95425\"\n",
            "13\t\"Mr. Jase Adams , PhD, QC, \"\t\"1940 MARKET ST, FERNDALE ,CA 95536\"\n",
            "14\t\"Col. Jessica Adams , PhD, QA, \"\t\"3120 11TH ST SW, LEHIGH ACRES ,FL 33976\"\n",
            "15\t\"Dean. Samuel Adams , Sr, IQCP, \"\t\"11419 SAN MINIATO AVE, BAKERSFIELD ,CA 93312\"\n",
            "16\t\"Dr. Kara Adams , Sr, QC\"\t\"12 CHATHAM CT, SAN JOSE ,CA 95139\"\n",
            "17\t\"Mr. Brittany Adams , Sr, QA,\"\t\"PO BOX 436, PRAIRIE GROVE ,AR 72753\"\n",
            "18\t\"Mrs. Mykenzi Adams , PhD, \"\t\"CLIA, 3902 FM 1653, CANTON ,TX 75103\"\n",
            "19\t\"Ms. Xaivore Adcock , PhD, \"\t\"QC, 7010 ALMOND GREEN DR, SAN ANTONIO ,TX 78250\"\n",
            "20\t\"Mr. Jackson Adeeb , PhD, \"\t\"QA, 2490 CORINTH AVE, APT 3, LOS ANGELES ,CA 90064\"\n",
            "21\t\"Ms. Nicole Adkins , Jr, IQCP, \"\t\"36718 COTTONWOOD ST, WINCHESTER ,CA 92596\"\n",
            "22\t\"Ms. Dalton Agan , Sr, CLIA, \"\t\"1204 NILDA AVE, MOUNTAIN VIEW ,CA 94040\"\n",
            "23\t\"Ms. Brian Aguilar , Sr, QC,\"\t\"481 LESTER AVE, CLOVIS ,CA 93619\"\n",
            "24\t\"Ms. Casey Aguilar , Jr, QA, \"\t\"47-325 BORDEAUX DR, LA QUINTA ,CA 92253\"\n",
            "25\t\"Ms. Janea Aguilera , Jr, QC, \"\t\"5710 ONIA LN, RICHMOND ,TX 77469\"\n",
            "26\t\"Ms. Lucas Ahlbach , Jr, QA, \"\t\"622 SPRINGDALE CIR, PALM SPRINGS ,FL 33461\"\n",
            "27\t\"Dean. Julia Aitken , Sr, CLIA, \"\t\"10 CALLE DE VIDA, RANCHO SANTA MARGARITA ,CA 92688\"\n",
            "28\t\"Dr. Tea Akins , Sr, QC, \"\t\"3107 GALLOWAY OAKS DR, LAKELAND ,FL 33810\"\n",
            "29\t\"Mr. Qais Al-Sabahi , Sr, QA, \"\t\"2808 40TH AVE W, BRADENTON ,FL 34205\"\n",
            "30\t\"Mr. Parsa Alaeddini , Sr, IQCP,\"\t\"311 N ROBERTSON BLVD, # 656, BEVERLY HILLS ,CA 90211\"\n",
            "31\t\"Mr. Carolina Alaniz , Jr, QA, \"\t\"612 28TH ST, RICHMOND ,CA 94804\"\n",
            "32\t\"Dean. Aryanna Albarran , Jr, CLIA, \"\t\"3508 SIMSBURY CT, CARLSBAD ,CA 92010\"\n",
            "33\t\"Dr. Micah Albonico , Sr, QC, \"\t\"2003 KIMBROOK DR, ROUND ROCK ,TX 78681\"\n",
            "34\t\"Mr. Anyssa Alcantar , Jr, QA, \"\t\"1514 OLD ANNETTA RD, ALEDO ,TX 76008\"\n",
            "35\t\"Mr. Alexa Alcon , Jr, IQCP, \"\t\"PO BOX 755, DANVILLE ,CA 94526\"\n",
            "36\t\"Dean. Gracie Aldama , Jr, CLIA, \"\t\"2046 JEWELL LEE LN, PENSACOLA ,FL 32534\"\n",
            "37\t\"Dr. Tristan Alderman , Sr, QC, \"\t\"709 S 3RD AVE, PARAGOULD ,AR 72450\"\n",
            "38\t\"Mr. Jim Aldridge , Sr, QA,\"\t\"6000 63RD TER, PINELLAS PARK ,FL 33781\"\n",
            "39\t\"Mr. Zackry Aldridge , Sr, CLIA,\"\t\"329 S VILLAGE DR, MCKINNEY ,TX 75070\"\n",
            "40\t\"Dean. Ricky Aleman , Jr, QC,\"\t\"10550 BOLSA AVE, APT 19, GARDEN GROVE ,CA 92843\"\n",
            "41\t\"Dr. Daniel Alexander , Jr, QA,\"\t\"21527 BLACK OPAL LN, KINGWOOD ,TX 77339\"\n",
            "42\t\"Ms. Zachary Alexander , Jr, IQCP,\"\t\"6161 NW 44TH TER, COCONUT CREEK ,FL 33073\"\n",
            "43\t\"Ms. Brooke Alexander , Jr, CLIA,\"\t\"36491 YAMAS DR, APT 3205, WILDOMAR ,CA 92595\"\n",
            "44\t\"Ms. Olivia Alexander , Sr, QC,\"\t\"17460 CAMINITO BAYA, SAN DIEGO ,CA 92127\"\n",
            "45\t\"Mr. Mirabella Alexander , Sr, QA,\"\t\"24850 HANCOCK AVE, APT B207, MURRIETA ,CA 92562\"\n",
            "46\t\"Mr. Kyree Alexander , Sr, IQCP,\"\t\"4894 N GEARHART AVE, FRESNO ,CA 93726\"\n",
            "47\t\"Dean. Sonny Alfieri , Jr, CLIA,\"\t\"47085 CHRIS ALLEN WAY, AGUANGA ,CA 92536\"\n",
            "48\t\"Dr. Cathon Alford , Jr, QC,\"\t\"106 HERCULES ST, APT B, SHEPPARD AFB ,TX 76311\"\n",
            "49\t\"Col. Sam Alimentato , PhD, QA,\"\t\"12285 MORRISON ST, MORENO VALLEY ,CA 92555\"\n",
            "50\t\"MS. Lilly Alldredge , Jr, CLIA,\"\t\"8243 WORMWOOD RD, JACKSONVILLE ,FL 32210\"\n",
            "51\t\"Ms. Bradley Allen , Jr, QC,\"\t\"3905 SAN GABRIEL DR, PENSACOLA ,FL 32504\"\n",
            "52\t\"Ms. Angel Allen , Jr, QA,\"\t\"5609 VICTORIA GARDENS BLVD, APT 1106, PORT ORANGE ,FL 32127\"\n",
            "53\t\"Mr. Sean Allen , Jr, IQCP,\"\t\"5241 MILLENIA BLVD, APT 209, ORLANDO ,FL 32839\"\n",
            "54\t\"Mr. Miles Allen , PhD,\"\t\"CLIA, 1130 SUNSET DR, VISTA ,CA 92081\"\n",
            "55\t\"Dean. Peyton Allen , Jr, QC,\"\t\"122 N BLOOMINGTON ST, STE F, LOWELL ,AR 72745\"\n",
            "56\t\"Dr. Lindsay Allen , PhD, QA,\"\t\"701 REDWOOD BLVD, APT 77, REDDING ,CA 96003\"\n",
            "57\t\"Col. DaMarea Allen , PhD, QC,\"\t\"9924 REGENT CIR, LITTLE ROCK ,AR 72204\"\n",
            "58\t\"MS. Lucy Allen , PhD, QA,\"\t\"6127 PLAYFAIR WAY, CORONA ,CA 92880\"\n",
            "59\t\"Dean . Quinton Allinger , Jr, CLIA,\"\t\"5726 COBBLESTONE DR, ROCKLIN ,CA 95765\"\n",
            "60\t\"Dean. Bilal Almi , Sr, QC,\"\t\"366 W SUMMERFIELD CIR, ANAHEIM ,CA 92802\"\n",
            "61\t\"Dean. Isaiah Alonso , PhD, QA,\"\t\"124 PENNSYLVANIA DR, JACKSONVILLE ,AR 72076\"\n",
            "62\t\"Dr. Toni Alonzo , PhD, IQCP,\"\t\"4270 GRAND VIEW BLVD, LOS ANGELES ,CA 90066\"\n",
            "63\t\"Col. Lyan Alsaeedi , Sr,\"\t\"CLIA, 302 MEADOW LN, HITCHCOCK ,TX 77563\"\n",
            "64\t\"MS. Harold Alvarez , Sr, QC,\"\t\"1106 E FREEDOM, SILOAM SPRINGS ,AR 72761\"\n",
            "65\t\"Ms. Isaac Alvarez , Sr, QA,\"\t\"27511 CAPRICHO, MISSION VIEJO ,CA 92692\"\n",
            "66\t\"Ms. Jessica Amanti , PhD,\"\t\"IQCP, 892 MICHAEL DR, APT 4, CAMPBELL ,CA 95008\"\n",
            "67\t\"Mr. Julissa Amaya , PhD, CLIA,\"\t\"PO BOX 2606, SAN RAMON ,CA 94583\"\n",
            "68\t\"Mr. Liberty Amdahl , PhD, QC,\"\t\"290 W RANDALL WOBBE LN, SPRINGDALE ,AR 72764\"\n",
            "69\t\"Dean. Josh Amerson , Jr, QA,\"\t\"772 WALKER CUTOFF, MALVERN ,AR 72104\"\n",
            "70\t\"Dr. Kaiya Amin , Sr, IQCP,\"\t\"31013 OAKHILL DR, TEMECULA ,CA 92591\"\n",
            "71\t\"Col. Katelyn Amos , Sr, CLIA,\"\t\"552 CALLE MONTEREY, SAN DIMAS ,CA 91773\"\n",
            "72\t\"MS. Katie Amstutz , Jr, QC,\"\t\"PO BOX 310095, GUATAY ,CA 91931\"\n",
            "73\t\"Dean . Olivia Anagnostopolous , Jr, QA,\"\t\"901 E RANCHCREEK RD, COVINA ,CA 91724\"\n",
            "74\t\"Dean. Santino Anastasia , Jr, CLIA,\"\t\"7486 CHASE AVE, HESPERIA ,CA 92345\"\n",
            "75\t\"Dean. McKenzie Anderson , Sr, QC,\"\t\"2870 COLUMBINE CT, THOUSAND OAKS ,CA 91360\"\n",
            "76\t\"Dr. Brendan Anderson , Sr, QA,\"\t\"4070 HUERFANO AVE, APT 218, SAN DIEGO ,CA 92117\"\n",
            "77\t\"Col. Ariana Anderson , Sr, IQCP,\"\t\"870 SEQUOIA BLVD, TRACY ,CA 95376\"\n",
            "78\t\"MS. Andrew Anderson , Sr, CLIA,\"\t\"1400 COMMANCHE CIR, ATLANTA ,TX 75551\"\n",
            "79\t\"Ms. Wyatt Anderson , Jr, QC,\"\t\"4101 ROCKY RIDGE TRL, ROGERS ,AR 72756\"\n",
            "80\t\"Ms. Allison Anderson , Jr, QA,\"\t\"15130 WRIGHT CT, FONTANA ,CA 92336\"\n",
            "81\t\"Mr. Ashley Anderson , Sr, IQCP,\"\t\"300 N LAUREL ST, BRYANT ,AR 72022\"\n",
            "82\t\"Mr. Syrenitee Anderson , Jr, CLIA,\"\t\"27170 WESTVIEW LN, VALENCIA ,CA 91354\"\n",
            "83\t\"Dean. Kelly Anderson , Jr, QC,\"\t\"211 OUACHITA ROAD 17, CHIDESTER ,AR 71726\"\n",
            "84\t\"Dr. Natasha Anderson , Jr, QA,\"\t\"113 GALVESTON RD, HOT SPRINGS NATIONAL PARK ,AR 71913\"\n",
            "85\t\"Col. Paxton Andrews , Sr, IQCP,\"\t\"4174 CIRRUS WAY, RIVERSIDE ,CA 92503\"\n",
            "86\t\"MS. Peter Andromidas , Sr, CLIA,\"\t\"784 LAKE DOE BLVD, APOPKA ,FL 32703\"\n",
            "87\t\"Dean . Destiny Aniagor , Sr, QC,\"\t\"11715 BAIRD AVE, PORTER RANCH ,CA 91326\"\n",
            "88\t\"Dean. Maya Annunziato , Sr, QA,\"\t\"3511 MAXSON RD, APT A, EL MONTE ,CA 91732\"\n",
            "89\t\"Dean. Tramiris Anthony , Jr, CLIA,\"\t\"104 1/2 N BELLE AVE, CORONA ,CA 92882\"\n",
            "90\t\"Dr. Emmalee Antkoviak , Jr, QC,\"\t\"5909 MASTERSON DR, PLANO ,TX 75093\"\n",
            "91\t\"Col. Emmery Antoine , Jr, QA,\"\t\"2414 N TUSTIN AVE, APT P2, SANTA ANA ,CA 92705\"\n",
            "92\t\"MS. Naisya Antoine , Jr, IQCP,\"\t\"6550 SE 42ND CT, OCALA ,FL 34480\"\n",
            "93\t\"Ms. Jaliscia Antonio , Sr, CLIA,\"\t\"15023 ASH ST, HESPERIA ,CA 92345\"\n",
            "94\t\"Ms. Billy Apenowich , Sr, QC,\"\t\"1117 E SUMPTER ST, MEXIA ,TX 76667\"\n",
            "95\t\"Mr. Blake Appleton , Sr, QA,\"\t\"128 FAIRHILL LN, GUN BARREL CITY ,TX 75156\"\n",
            "96\t\"Mr. Michael Arana , Jr, IQCP,\"\t\"1215 OHIO AVE, LONG BEACH ,CA 90804\"\n",
            "97\t\"Dean. Annmarie Arango , Jr, CLIA,\"\t\"627 S VELARE ST, APT 16, ANAHEIM ,CA 92804\"\n",
            "98\t\"Dr. Alyssa Arends , PhD, QC,\"\t\"5140 WESTCHASE LOOP, LUMBERTON ,TX 77657\"\n",
            "99\t\"Col. Celeste Areolla , Jr, QA,\"\t\"31332 GLENDALOUGH WAY, WESLEY CHAPEL ,FL 33545\"\n",
            "100\t\"MS. Ryan Arevalo , Jr, IQCP,\"\t\"1830 MARSHALL ST, HOUSTON ,TX 77098\"\n",
            "101\t\"Dean . Liliana Arias , Jr, CLIA,\"\t\"101 S COIT RD, NO 36-219, RICHARDSON ,TX 75080\"\n",
            "102\t\"Dean. Layne Armstrong , Jr, QC,\"\t\"PO BOX 52332, IRVINE ,CA 92619\"\n",
            "103\t\"Dean. Wilson Armstrong , PhD,\"\t\"QA, PO BOX 940, ALACHUA ,FL 32616\"\n",
            "104\t\"Dr. Wade Armstrong , Jr, CLIA,\"\t\"4511 COUNTRY GATE CT, VALRICO ,FL 33596\"\n",
            "105\t\"Col. Trey Armstrong , PhD,\"\t\"QC, 9647 SHALE ST, ALTA LOMA ,CA 91737\"\n",
            "106\t\"MS. Conner Arneson , PhD,\"\t\"QA, 372 MANOR PARK CIR, PACHECO ,CA 94553\"\n",
            "107\t\"Ms. Adin Arnett , PhD,\"\t\"IQCP, 201 S MAGNOLIA AVE, APT 22, ANAHEIM ,CA 92804\"\n",
            "108\t\"Ms. Kira Arney , Jr,\"\t\"CLIA, 11320 BAIRD AVE, PORTER RANCH ,CA 91326\"\n",
            "109\t\"Mr. Christian Arnold , Sr, QC,\"\t\"7303 LUTHER DR, SACRAMENTO ,CA 95823\"\n",
            "110\t\"Mr. Conner Arnold , PhD, QA,\"\t\"913 WAYSIDE WAY, RICHARDSON ,TX 75080\"\n",
            "111\t\"Dean. Regan Arnold , PhD, IQCP,\"\t\"1431 FORRESTAL AVE, SAN JOSE ,CA 95110\"\n",
            "112\t\"Dr. Roberto Arreguin Jr , Sr, CLIA,\"\t\"7111 SAN PABLO DR, HOUSTON ,TX 77083\"\n",
            "113\t\"Col. Abigail Arrenholz , Sr, QC,\"\t\"1578 THORNWOOD DR, CONCORD ,CA 94521\"\n",
            "114\t\"MS. Alex Arrieta , Sr, QA,\"\t\"328 CARPIO DR, DIAMOND BAR ,CA 91765\"\n",
            "115\t\"Dean . Felicity Arrington , PhD, IQCP,\"\t\"17 DOMINGUEZ ST, ALISO VIEJO ,CA 92656\"\n",
            "116\t\"Dean. Hunny Bunny Arriola , PhD, CLIA,\"\t\"11581 CLIFFWOOD CT, RIVERSIDE ,CA 92505\"\n",
            "117\t\"Dean. Grace Arrowood , PhD, QC,\"\t\"1030 N MAGNOLIA AVE, APT 219, ANAHEIM ,CA 92801\"\n",
            "118\t\"Dr. Audrey Arrowood , Jr, QA,\"\t\"10808 BANCROFT AVE, OAKLAND ,CA 94603\"\n",
            "119\t\"Col. Armani Artis , Sr, CLIA,\"\t\"5002 SHADOWOOD TRL, COLLEYVILLE ,TX 76034\"\n",
            "120\t\"MS. Elijah Aschbrenner , Sr, QC,\"\t\"2324 GREENWICH ST, SAN FRANCISCO ,CA 94123\"\n",
            "121\t\"Ms. Jenna Aschenbrenner , Jr, QA,\"\t\"PO BOX 360338, MILPITAS ,CA 95036\"\n",
            "122\t\"Ms. Samantha Ashburn , Jr, IQCP,\"\t\"272 SAN LUIS ST, POMONA ,CA 91767\"\n",
            "123\t\"Mr. Michael Ashley , Jr, CLIA,\"\t\"17300 NW 68TH AVE, APT 203, HIALEAH ,FL 33015\"\n",
            "124\t\"Mr. Dusty Ashmore , Sr, QC,\"\t\"963 E EL CAMINO REAL , # 324, SUNNYVALE ,CA 94087\"\n",
            "125\t\"Dean. Gregory Astorga , Sr, QA,\"\t\"484 LAKEPORT AVE, # 261, OAKLAND ,CA 94610\"\n",
            "126\t\"Dr. Laci Atwood , Sr, IQCP,\"\t\"4901 STIMSON ST, APT 4, HOUSTON ,TX 77023\"\n",
            "127\t\"Col. Stephanie Austin , Sr, CLIA,\"\t\"540 W WILSON AVE, APT 106, GLENDALE ,CA 91203\"\n",
            "128\t\"MS. Isaiah Austin , Jr, QC,\"\t\"6846 ARROWCHASE CT, KATY ,TX 77449\"\n",
            "129\t\"Dean . James Auxier , Jr, QA,\"\t\"15325 ORANGE AVE, SPC F14, PARAMOUNT ,CA 90723\"\n",
            "130\t\"Dean. Isabel Avalos , Sr, IQCP,\"\t\"PO BOX 1931, SALINAS ,CA 93902\"\n",
            "131\t\"Dean. Larry Avent Jr , Jr, CLIA,\"\t\"6855 PALOS DR, RIVERSIDE ,CA 92503\"\n",
            "132\t\"Dr. Luca Aversa , Jr, QC,\"\t\"1502 SUDBURY DR, PASADENA ,TX 77504\"\n",
            "133\t\"Col. Zaida Aviles , Jr, QA,\"\t\"12074 FERINA ST, NORWALK ,CA 90650\"\n",
            "134\t\"MS. Kaylee Avina-Luna , Sr, CLIA,\"\t\"8620 COMPTON AVE, LOS ANGELES ,CA 90002\"\n",
            "135\t\"Ms. Shining Ayaan , Sr, QC,\"\t\"8242 PETERS AVE, MIDWAY CITY ,CA 92655\"\n",
            "136\t\"Ms. William Ayerle , Sr, QA,\"\t\"2744 ALLESSANDRA CT, LANCASTER ,CA 93535\"\n",
            "137\t\"Mr. Will Ayers , Sr, IQCP,\"\t\"4945 CONWAY TER, FREMONT ,CA 94555\"\n",
            "138\t\"Mr. Brandon Azuara , Jr, CLIA,\"\t\"2130 GOLDRIDGE ST, SELMA ,CA 93662\"\n",
            "139\t\"Dean. Anna B , Jr, QC,\"\t\"725 ACACIA ST, LAKE ELSINORE ,CA 92530\"\n",
            "140\t\"Dr. Catherine Babcock , Jr, QA,\"\t\"4552 ABRUZZI CIR, STOCKTON ,CA 95206\"\n",
            "141\t\"Col. Luke Baca , Jr, IQCP,\"\t\"404 GRAVES AVE, FLORESVILLE ,TX 78114\"\n",
            "142\t\"MS. Luke Baca , Sr, CLIA,\"\t\"12549 CLALLAM RD, APPLE VALLEY ,CA 92308\"\n",
            "143\t\"Dean . Luke Baca , Sr, QC,\"\t\"44534 STONEBRIDGE LN, LANCASTER ,CA 93536\"\n",
            "144\t\"Dean. Danny Bacsik , Sr, QA,\"\t\"10001 OTIS ST, SOUTH GATE ,CA 90280\"\n",
            "145\t\"Dr. Stephanie Bader , Jr, IQCP,\"\t\"9180 WATER RD, COTATI ,CA 94931\"\n",
            "146\t\"Col. Makayla Baetzel , Jr, CLIA,\"\t\"12400 CYPRESS AVE, SPC 154, CHINO ,CA 91710\"\n",
            "147\t\"MS. Nolan Baggett , PhD, QC,\"\t\"534 E PIERSON ST, HAMILTON ,TX 76531\"\n",
            "148\t\"Dean . Nolan Baggett , Jr, QA,\"\t\"625 60TH ST, SAN DIEGO ,CA 92114\"\n",
            "149\t\"Dean. Krista Bagley , Jr, CLIA,\"\t\"13590 CORCORAN ST, SAN FERNANDO ,CA 91340\"\n",
            "150\t\"Dean. Marcy Bahls , Jr, QC,\"\t\"404 TIEGS ST, LEAGUE CITY ,TX 77573\"\n",
            "151\t\"Dr. Levi Bailey , Jr, QA,\"\t\"3056 MAUDE ST, RIVERSIDE ,CA 92506\"\n",
            "152\t\"Col. Scottie Bailey , PhD,\"\t\"IQCP, 54200 AVENIDA DIAZ, LA QUINTA ,CA 92253\"\n",
            "153\t\"MS. Emma Bailie , Jr, CLIA,\"\t\"16018 KATHERINE ST, FONTANA ,CA 92335\"\n",
            "154\t\"Ms. Jayden Baker , PhD, QC,\"\t\"950 N DUESENBERG DR, APT 11203, ONTARIO ,CA 91764\"\n",
            "155\t\"Ms. Ashley Baker , PhD, QA,\"\t\"430 N CORONADO ST, APT 8, LOS ANGELES ,CA 90026\"\n",
            "156\t\"Mr. Jayden Baker , PhD, QC,\"\t\"1774 GOTHAM ST, CHULA VISTA ,CA 91913\"\n",
            "157\t\"Mr. Jayden Baker , Jr, QA,\"\t\"107 W 6TH ST, ROCKPORT ,TX 78382\"\n",
            "158\t\"Dean. Daniel Baker , Sr, CLIA,\"\t\"425 PINEVIEW LN, FORT WORTH ,TX 76140\"\n",
            "159\t\"Dr. Kyle Baker , PhD, QC,\"\t\"405 RANCHO ARROYO PKWY, APT 229, FREMONT ,CA 94536\"\n",
            "160\t\"Col. Anthony Baker-LaViolette , PhD, QA,\"\t\"1030 W MAGNOLIA ST, COMPTON ,CA 90220\"\n",
            "161\t\"MS. Millie Baldwin , Sr, IQCP\"\t\"3277 MORNING RIDGE AVE, THOUSAND OAKS ,CA 91362\"\n",
            "162\t\"Dean . Grant Balentyne , Sr, CLIA,\"\t\"5720 FOREST PARK RD, APT 2406, DALLAS ,TX 75235\"\n",
            "163\t\"Dean. John Balestreri , Sr, QC,\"\t\"1121 CROMWELL ST, POMONA ,CA 91768\"\n",
            "164\t\"Dean. Emily Ball , PhD, QA,\"\t\"33519 WINSTON WAY, UNIT A, TEMECULA ,CA 92592\"\n",
            "165\t\"Dr. Jacob Ballard , PhD, QC,\"\t\"1060 PORT SULLIVAN DR, LITTLE ELM ,TX 75068\"\n",
            "166\t\"Col. Kayleigh Banfalvy , PhD, QA,\"\t\"11457 STARLIGHT AVE, WHITTIER ,CA 90604\"\n",
            "167\t\"MS. Jeremy Banish , Jr, CLIA,\"\t\"8308 GLENDON WAY, SACRAMENTO ,CA 95829\"\n",
            "168\t\"Ms. Hailey Bankhead , Sr, QC,\"\t\"6027 3RD AVE, LOS ANGELES ,CA 90043\"\n",
            "169\t\"Ms. Hannah Bankos , Sr,QA,\"\t\" 9547 N BOYD AVE, FRESNO ,CA 93720\"\n",
            "170\t\"Mr. Janessa Banks , Jr, IQCP,\"\t\"PO BOX 138083, CLERMONT ,FL 34713\"\n",
            "171\t\"Mr. Madison Banks , Jr, QC,\"\t\"29972 GRANGER PL, CASTAIC ,CA 91384\"\n",
            "172\t\"Dean. Adlee Barajas , Jr, QA,\"\t\"4423 STOREY AVE, MIDLAND ,TX 79703\"\n",
            "173\t\"Dr. Isaac Barba , Sr, CLIA,\"\t\"64 RANCHO DR, TIBURON ,CA 94920\"\n",
            "174\t\"Col. Lane Barber , Sr, QC,\"\t\"789 N CENTRAL AVE, MODESTO ,CA 95351\"\n",
            "175\t\"MS. Molly Barcalow , Sr, QA,\"\t\"9279B LAKE MURRAY BLVD, SAN DIEGO ,CA 92119\"\n",
            "176\t\"Dean . Diego Barch , Sr, IQCP,\"\t\"2960 COLONY DR, TRACY ,CA 95376\"\n",
            "177\t\"Dean. Edward Barcus Jr , Jr, CLIA,\"\t\"16537 NICOYA DR, HACIENDA HEIGHTS ,CA 91745\"\n",
            "178\t\"Col. Emily Barger , Jr, QC,\"\t\"22 PRIORY LN, PALM COAST ,FL 32164\"\n",
            "179\t\"Dean. Jacob Barker , Sr, QA,\"\t\"2508 PARADISE CIR, KISSIMMEE ,FL 34741\"\n",
            "180\t\"Dr. Zack Barker , Jr, QC,\"\t\"10070 SW 77TH CT, MIAMI ,FL 33156\"\n",
            "181\t\"Mr. Dani Barker , Jr, QA,\"\t\"604 INTERLUDE LN, ORLANDO ,FL 32824\"\n",
            "182\t\"Mrs. Lauren Barkman , Jr, CLIA,\"\t\"7047 SAN VICENTE ST, PARAMOUNT ,CA 90723\"\n",
            "183\t\"Ms. Rocco Barkoff , Sr, QC\"\t\"7831 MELROSE ST, BUENA PARK ,CA 90621\"\n",
            "184\t\"Mr. Aaron Barlow , Sr, QA\"\t\", 412 MILAGROSA CIR, CHULA VISTA ,CA 91910\"\n",
            "185\t\"Mr. Katherine Barnard , Sr, IQCP\"\t\", 3200 COLLINS AVE, APT 81, MIAMI BEACH ,FL 33140\"\n",
            "186\t\"Col. Amber Barnard , Sr, QC,\"\t\"6403 CORMORANT CIR, ROCKLIN ,CA 95765\"\n",
            "187\t\"Mr. Morgan Barnes , Jr, QA,\"\t\"6137 GOLIAD AVE, DALLAS ,TX 75214\"\n",
            "188\t\"Mr. Braedyn Barnes , Jr, CLIA,\"\t\"12250 S KIRKWOOD RD, APT 1411, STAFFORD ,TX 77477\"\n",
            "189\t\"Mr. Blake Barnes , Jr, QC,\"\t\"4416 N CLARK AVE, APT 3, TAMPA ,FL 33614\"\n",
            "190\t\"Mr. Braedyn Barnes , Jr, QA,\"\t\"7890 LAGO DEL MAR DR, APT 144, BOCA RATON ,FL 33433\"\n",
            "191\t\"Col. Arley Barnett , Sr, IQCP,\"\t\"3808 DAUPHINE ST, SEBRING ,FL 33872\"\n",
            "192\t\"Dean. Austin Barnett , Sr, CLIA,\"\t\"8803 VAN NUYS BLVD, APT 6, PANORAMA CITY ,CA 91402\"\n",
            "193\t\"Dr. Sarah Barr , Sr, QC,\"\t\"3010 REYNA ST, CORPUS CHRISTI ,TX 78405\"\n",
            "194\t\"Mr. Jakob Barrera , Jr, QA,\"\t\"2369 WHISPERING MAPLE DR, ORLANDO ,FL 32837\"\n",
            "195\t\"Mrs. Santiago Barrera , Jr, QC,\"\t\"938 N FELICIDAD ST, ANAHEIM ,CA 92801\"\n",
            "196\t\"Ms. Joselyn Barrett , Jr, QA,\"\t\"1831 PALM ST, HOUSTON ,TX 77004\"\n",
            "197\t\"Mr. Brendan Barrie , Sr, , CLIA,\"\t\"PO BOX 2022, FREEDOM ,CA 95019\"\n",
            "198\t\"Ms. MaKennah Barron , Sr, QC,\"\t\"1131 S ALDER AVE, ORLANDO ,FL 32807\"\n",
            "199\t\"Ms. Sam Barrow , Sr, QA,\"\t\"12010 GREENROCK LN, HOUSTON ,TX 77044\"\n",
            "200\t\"Ms. Dryden Barry , Sr, IQCP,\"\t\"475 N MIDWAY DR, UNIT 163, ESCONDIDO ,CA 92027\"\n",
            "201\t\"Ms. John Bartels , Jr, QC,\"\t\"4548 STERN AVE, SHERMAN OAKS ,CA 91423\"\n",
            "202\t\"Ms. Alivia Bartlett , Jr, QA,\"\t\"235 S SAN AUGUSTINE AVE, SAN ANTONIO ,TX 78237\"\n",
            "203\t\"Ms. Audrianna Bartol , Jr, CLIA,\"\t\"23 MIDWAY AVE, SALINAS ,CA 93905\"\n",
            "204\t\"Dean. Dustin Bass , Jr, QC,\"\t\"45 MCCARTHY AVE, SAN FRANCISCO ,CA 94134\"\n",
            "205\t\"Dr. Johnny Bass Jr , Sr, QA,\"\t\"1403 WOLF CT, SALINAS ,CA 93905\"\n",
            "206\t\"Mr. Alexis Bassett , Sr, IQCP\"\t\"24 ISLAND VIEW DR, BAY POINT ,CA 94565\"\n",
            "207\t\"Mr. Camden Bataille , Sr, CLIA,\"\t\"103 JOHN ST, ENGLAND ,AR 72046\"\n",
            "208\t\"Mr. Lilly Batche , Jr, QC,\"\t\"18621 NW 42ND CT, MIAMI GARDENS ,FL 33055\"\n",
            "209\t\"Dean. Rebekah Batchelor , Jr, QA,\"\t\"1231 27TH AVE S, ST PETERSBURG ,FL 33705\"\n",
            "210\t\"Dr. Keanah Bates , Jr, QC,\"\t\"PO BOX 1353, WATSONVILLE ,CA 95077\"\n",
            "211\t\"Mr. Reyna Bates , Sr, QA,\"\t\"12117 MARIGOLD AVE, MORENO VALLEY ,CA 92557\"\n",
            "212\t\"Mr. Alianna Batista , Sr, CLIA\"\t\"1863 SW 9TH ST, MIAMI ,FL 33135\"\n",
            "213\t\"Dean. Ivy Batmale , Sr, QC,\"\t\"2838 1/2 MCGEE AVE, BERKELEY ,CA 94703\"\n",
            "214\t\"Dr. Endsley Batton , Sr, QA,\"\t\"5220 CHOLLAS PKWY, SAN DIEGO ,CA 92105\"\n",
            "215\t\"Mr. Jasper Bauer , Jr, IQCP,\"\t\"11096 GINGERWOOD WAY, RANCHO CORDOVA ,CA 95670\"\n",
            "216\t\"Mr. Arie Baugh , Jr, QA,\"\t\"1813 SW 107TH AVE, APT 2409, MIAMI ,FL 33165\"\n",
            "217\t\"Dean. Sheridan Bautista , Jr, IQCP,\"\t\"3161 FM 660, FERRIS ,TX 75125\"\n",
            "218\t\"Dr. Claire Bautista , Jr, CLIA,\"\t\"122 NW 110TH ST, MIAMI SHORES ,FL 33168\"\n",
            "219\t\"Ms. Jordan Baxter , Sr, QC,\"\t\"1440 BRIAR OAK DR, ROYAL PALM BEACH ,FL 33411\"\n",
            "220\t\"Ms. Andrew Bay , Sr, QA,\"\t\"1421 S DALLAS, FORT SMITH ,AR 72901\"\n",
            "221\t\"Ms. Christopher Bayardo , Sr, IQCP,\"\t\"1240 HASTINGS RANCH DR, PASADENA ,CA 91107\"\n",
            "222\t\"Mr. Nathaniel Bayless , Jr, CLIA,\"\t\"7547 VAN NESS, SAN ANTONIO ,TX 78251\"\n",
            "223\t\"Mr. Dylan Beach , Jr, QC,\"\t\"905 W 39TH PL, HIALEAH ,FL 33012\"\n",
            "224\t\"Dean. Logan Beadell , Jr, QA,\"\t\"519 LESLIE DR, HALLANDALE BEACH ,FL 33009\"\n",
            "225\t\"Dr. McKoy Beard , Sr, IQCP,\"\t\"929 TRAMELLS TRL, KISSIMMEE ,FL 34744\"\n",
            "226\t\"Col. Micayla Beavers , Sr, CLIA,\"\t\"22849 SAILFISH RD, BOCA RATON ,FL 33428\"\n",
            "227\t\"MS. Emily Beazley , Sr, QC,\"\t\"13498 FIRESTONE ST, HESPERIA ,CA 92344\"\n",
            "228\t\"Ms. Bradley Becerra , Sr, QA,\"\t\"9534 STATE ST, SOUTH GATE ,CA 90280\"\n",
            "229\t\"Ms. Elizabeth Bechen , Jr, CLIA,\"\t\"2363 E BALL RD, # 264, ANAHEIM ,CA 92806\"\n",
            "230\t\"Mr. Matthew Beck , Jr, QC,\"\t\"4731 W 8TH PL, HIALEAH ,FL 33012\"\n",
            "231\t\"Mr. Rylee Beck , Jr, QA,\"\t\"1726 WOODED ACRES DR, HUMBLE ,TX 77396\"\n",
            "232\t\"Dean. Casey Beck , Jr, IQCP,\"\t\"202 PARK SPRINGS CIR, APT 2, PLANT CITY ,FL 33566\"\n",
            "233\t\"Dr. Lincoln Becker , Sr, CLIA,\"\t\"1773 NW 114TH ST, MIAMI ,FL 33167\"\n",
            "234\t\"Col. Aiden Becker , Sr, QC,\"\t\"4122 WELLINGTON WOODS CIR, APT 208, KISSIMMEE ,FL 34741\"\n",
            "235\t\"MS. Logan Becker , Sr, QA,\"\t\"12902 DUFFIELD AVE, LA MIRADA ,CA 90638\"\n",
            "236\t\"Dean . Layla Beckstrand , Jr, IQCP,\"\t\"3802 CLOVER LN, DEER PARK ,TX 77536\"\n",
            "237\t\"Dean. Kadenn Beers , Jr, CLIA,\"\t\"132 GOLDENROD AVE, PERRIS ,CA 92570\"\n",
            "238\t\"Dean. Rylee Beers , Jr, QC\"\t\"1902 RIANE LN, HOUSTON ,TX 77049\"\n",
            "239\t\"Dr. Kendal Beffre , Sr, QA,\"\t\"2011 SW 60TH AVE, MIAMI ,FL 33155\"\n",
            "240\t\"Col. Debra Begrin , Sr, IQCP\"\t\"4467 PHILADELPHIA CIR, KISSIMMEE ,FL 34746\"\n",
            "241\t\"MS. Hadley Behrend , Sr, CLIA,\"\t\"6875 EDINBURGH RD, CORONA ,CA 92880\"\n",
            "242\t\"Ms. Austin Belaska , Sr, QC,\"\t\"1807 SE 8TH AVE, OCALA ,FL 34471\"\n",
            "243\t\"Ms. Caroline Belcher , Jr, QA,\"\t\"1533 JOHN SMITH DR, IRVING ,TX 75061\"\n",
            "244\t\"Mr. Tisa Belcher , Jr, CLIA,\"\t\"9717 EL TEPEYAC AVE, EL PASO ,TX 79927\"\n",
            "245\t\"Mr. Lillian Belfield , Jr, QC,\"\t\"17419 NW 62ND CT, HIALEAH ,FL 33015\"\n",
            "246\t\"Dean. Aaron Bell , Jr, QA,\"\t\"909 W 25TH ST, CAMERON ,TX 76520\"\n",
            "247\t\"Dr. Remington Bell , Sr, IQCP\"\t\"14830 CARTER RD, VICTORVILLE ,CA 92394\"\n",
            "248\t\"Col. Ben Bellavia-Cortezi , Sr, CLIA,\"\t\"6702 GULF DR, PANAMA CITY ,FL 32408\"\n",
            "249\t\"MS. Jonathan Belle-Isle , Sr, QC,\"\t\"9025 HOGANS BND, TAMPA ,FL 33647\"\n",
            "250\t\"Dean . Andre Bellis , Jr, QA,\"\t\"10317 NICKLAUS DR, NEW PORT RICHEY ,FL 34655\"\n",
            "251\t\"Ms. Dylan Bellow , Jr, IQCP,\"\t\"403 E DOWNS ST, STOCKTON ,CA 95204\"\n",
            "252\t\"Ms. Dominic Beltran , PhD, CLIA,\"\t\"2917 FAIRMONT DR, PANAMA CITY ,FL 32405\"\n",
            "253\t\"Dean. Joshua Bembo , Jr, QC,\"\t\"8867 BERGAMO CIR, STOCKTON ,CA 95212\"\n",
            "254\t\"Dr. Yanuel Benavides , Jr, QA,\"\t\"110 CURRENCY DR, DEL RIO ,TX 78840\"\n",
            "255\t\"Mr. Lauren Bendesky , Jr, IQCP,\"\t\"330 CEDRON CHASE, SAN ANTONIO ,TX 78253\"\n",
            "256\t\"Mr. Christine Benedyk , Jr, CLIA,\"\t\"41584 MARGARITA RD, APT 282, TEMECULA ,CA 92591\"\n",
            "257\t\"Mr. Dezma Benitez , PhD, QC,\"\t\"8805 HIDDEN HILL DR, FORT WORTH ,TX 76179\"\n",
            "258\t\"Dean. Emerie Benner , Jr, QA,\"\t\"10074 STONEHENGE CIR, APT 209, BOYNTON BEACH ,FL 33437\"\n",
            "259\t\"Dr. Cortnie Bennett , PhD, CLIA,\"\t\"878 CARMONA CT, CHULA VISTA ,CA 91910\"\n",
            "260\t\"Mrs. Audrey Bennett , PhD, QC\"\t\"8355 GLENCREST DR, SUN VALLEY ,CA 91352\"\n",
            "261\t\"Dr. Bryce Bennett , PhD, QA,\"\t\"208 HIGHLANDS RIDGE LN, DAVENPORT ,FL 33897\"\n",
            "262\t\"Dr. Sidney Bennett , Jr, IQCP,\"\t\"6403 SW MALLET RD, BENTONVILLE ,AR 72712\"\n",
            "263\t\"Mr. Olivia Bensinger , Sr, CLIA,\"\t\"11949 CHARLTON LN, ORLANDO ,FL 32827\"\n",
            "264\t\"Dean. Tyler Bentley , PhD, QC,\"\t\"213 LANDINGS BLVD, WESTON ,FL 33327\"\n",
            "265\t\"Dr. Trenton Bentley , PhD, QA,\"\t\"605 COLBY CIR, APT 1, CLAREMONT ,CA 91711\"\n",
            "266\t\"Col. Brody Bequette , Sr, IQCP,\"\t\"2519 E HIGHWAY 248, WALDRON ,AR 72958\"\n",
            "267\t\"MS. Adam Berdugo , Sr, CLIA,\"\t\"387 HARTWOOD AVE, SPRING HILL ,FL 34606\"\n",
            "268\t\"Dean . Adam Berdugo , Sr, QC,\"\t\"918 E DOUGLAS AVE, VISALIA ,CA 93292\"\n",
            "269\t\"Dean. Zoe Bergen , PhD, QA,\"\t\"1711 CHINABERRY DR, GREENWOOD ,AR 72936\"\n",
            "270\t\"Col. Kaleigh Berman , PhD, IQCP,\"\t\"1314 WILD PINE DR, SAINT AUGUSTINE ,FL 32084\"\n",
            "271\t\"Dean. Joshua Bermudez , PhD, CLIA,\"\t\"370 MILLWOOD LN, SAN ANTONIO ,TX 78216\"\n",
            "272\t\"Dr. Katelyn Bernard , Jr, QC,\"\t\"4701 PALADIUM DR, MANSFIELD ,TX 76063\"\n",
            "273\t\"Mr. Micah Bernstein , Sr, QA,\"\t\"7210 YOSHIDA ST, PENSACOLA ,FL 32526\"\n",
            "274\t\"Mrs. Rachel Berreckman , Sr, CLIA,\"\t\"1527 WOODWIND CT, FORT MYERS ,FL 33919\"\n",
            "275\t\"Ms. Nestor Berrios , Jr, QC,\"\t\"2068 ERNEST WAY, ARCATA ,CA 95521\"\n",
            "276\t\"Mr. Miranda Berry , Jr, QA,\"\t\"14456 KENTFIELD PL, POWAY ,CA 92064\"\n",
            "277\t\"Mr. Brooke Berry , Jr, IQCP,\"\t\"14456 KENTFIELD PL, POWAY ,CA 92064\"\n",
            "278\t\"Col. Johnathan Berry , Sr, CLIA,\"\t\"PO BOX 243, ODEM ,TX 78370\"\n",
            "279\t\"Mr. Zachary Berry , Sr, QC,\"\t\"PO BOX 7586, FORT MYERS ,FL 33911\"\n",
            "280\t\"Mr. Brenton Beshers , Sr, QA,\"\t\"PO BOX 2721, BARTOW ,FL 33831\"\n",
            "281\t\"Mr. Gage Besing , Sr, IQCP,\"\t\"5042 BUFFWOOD WAY, SACRAMENTO ,CA 95841\"\n",
            "282\t\"Mr. Ian Besner , Jr, CLIA,\"\t\"340 FEGAN DR, # B, SAN CLEMENTE ,CA 92672\"\n",
            "283\t\"Col. Brielle Beus , Jr, QC,\"\t\"2005 SUNSET CT, WEATHERFORD ,TX 76088\"\n",
            "284\t\"Dean. Caitlin Beverly , Sr, QA,\"\t\"5106 GLENHAVEN DR, BAYTOWN ,TX 77521\"\n",
            "285\t\"Dr. Terence Beverly , Jr, IQCP,\"\t\"9822 HASKELL AVE, NORTH HILLS ,CA 91343\"\n",
            "286\t\"Mr. Harlie Bevers , Jr, CLIA,\"\t\"3805 DILLINGHAM AVE, MODESTO ,CA 95357\"\n",
            "287\t\"Mrs. Spencer Bezold , Jr, QC,\"\t\"6242 WARNER AVE, APT 27A, HUNTINGTON BEACH ,CA 92647\"\n",
            "288\t\"Ms. Gregory Bibb , Sr, QA,\"\t\"326 S WINDOMERE AVE, APT A, DALLAS ,TX 75208\"\n",
            "289\t\"Mr. Tyler Bidle , Sr, CLIA,\"\t\"2113 SW CAPE COD DR, PORT ST LUCIE ,FL 34953\"\n",
            "290\t\"Ms. Christian Bienek , Sr, QC,\"\t\"1116 JOHN WAYNE DR, YUBA CITY ,CA 95991\"\n",
            "291\t\"Ms. Evan Bigby , Sr, QA,\"\t\"384 LITTLE MAZARN RD, HOT SPRINGS NATIONAL PARK ,AR 71913\"\n",
            "292\t\"Ms. Toby Bigelow , Jr, IQCP,\"\t\"2675 PINE SHADOW LN, CLERMONT ,FL 34711\"\n",
            "293\t\"Ms. Samuel Biggs , Jr, CLIA,\"\t\"6676 COLGATE AVE, LOS ANGELES ,CA 90048\"\n",
            "294\t\"Ms. Tyler Biggs , Jr, QC,\"\t\"33625 BRUSHY HOLLOW DR, YUCAIPA ,CA 92399\"\n",
            "295\t\"Dean. Dominique Bigler , Jr, QA\"\t\"4639 CORNELL, FRESNO ,CA 93703\"\n",
            "296\t\"Dr. Kaylee Bill , Sr, IQCP,\"\t\"5578 THYER ST, NORTH PORT ,FL 34288\"\n",
            "297\t\"Mr. Damon Billeck , Sr, CLIA,\"\t\"8051 SABLE WOODS DR N, JACKSONVILLE ,FL 32244\"\n",
            "298\t\"Mr. Erik Binks , Sr, QC,\"\t\"911 FANNIN ST, LOCKHART ,TX 78644\"\n",
            "299\t\"Mr. Connor Bint , Jr, QA,\"\t\"PO BOX 1303, BELLEVIEW ,FL 34421\"\n",
            "300\t\"Dean. Ali Birdon , Jr, IQCP,\"\t\"8 SAGEBRUSH, CONWAY ,AR 72032\"\n",
            "301\t\"Dr. Drew Birdsall , PhD, CLIA,\"\t\"907 TIMBER OAKS CT, ARLINGTON ,TX 76010\"\n",
            "302\t\"Mrs. Christian Bishop , Jr, QC\"\t\"7611 SE DOVE ST, HOBE SOUND ,FL 33455\"\n",
            "303\t\"Ms. Makala Bishop , Jr, QA,\"\t\"41 FOREST CIR, LITTLE ROCK ,AR 72211\"\n",
            "304\t\"Mr. Emmalynn Bishop , Jr, CLIA,\"\t\"2993 WHITE CEDAR CIR, KISSIMMEE ,FL 34741\"\n",
            "305\t\"Ms. Tiana Bishop , Jr, QC,\"\t\"10442 LUDERS AVE, GARDEN GROVE ,CA 92843\"\n",
            "306\t\"Ms. Kobie Bivings , PhD, QA\"\t\"6810 PARK ST S, APT 14, SOUTH PASADENA ,FL 33707\"\n",
            "307\t\"Ms. Bernardo Bizinoto , Jr, IQCP,\"\t\"33562 SPIN DRIFT CT, DANA POINT ,CA 92629\"\n",
            "308\t\"Ms. Audrey Blache , PhD, CLIA,\"\t\"10107 OUTLAW BND, CONVERSE ,TX 78109\"\n",
            "309\t\"Ms. Naomi Black , PhD, QC,\"\t\"6565 CHADBOURNE AVE, RIVERSIDE ,CA 92505\"\n",
            "310\t\"Dean. Jordan Blackwell , PhD, QA,\"\t\"417 CROWN POINTE DR, BAKERSFIELD ,CA 93312\"\n",
            "311\t\"Dr. Elijah Blades , Jr, IQCP,\"\t\"910 NE 179TH TER, NORTH MIAMI BEACH ,FL 33162\"\n",
            "312\t\"Mr. Addison Blair , Sr, CLIA\"\t\"4348 53RD ST, APT 6, SAN DIEGO, CA 92115\"\n",
            "313\t\"Mr. Annie Blake , PhD, QC,\"\t\"17533 BALSAM AVE, SONOMA ,CA 95476\"\n",
            "314\t\"Mr. Jaylon Blanchard-Grern , PhD, QA\"\t\", 13510 HIDDEN VALLEY ST, CORONA ,CA 92880\"\n",
            "315\t\"Dean. Estela Blanco , Sr, IQCP,\"\t\"650 FLOYD ST SE, PALM BAY ,FL 32909\"\n",
            "316\t\"Dr. Jonathan Bland , Sr, CLIA,\"\t\"1300 BURTON DR, APT 196, VACAVILLE ,CA 95687\"\n",
            "317\t\"Dean. Elijah Bland , Sr, QC,\"\t\"4106 15TH AVE W, BRADENTON ,FL 34205\"\n",
            "318\t\"Dr. Madelyn Blankenship , PhD, QA,\"\t\"456 COUNTY ROAD 67634, DAYTON ,TX 77535\"\n",
            "319\t\"Mr. Wilson Bledsoe , PhD, CLIA,\"\t\" 1850 KATELLA ST, SAN DIEGO ,CA 92154\"\n",
            "320\t\"Mrs. Dane Blei , PhD, QC,\"\t\"1955 MELISSA OAKS DR, GULF BREEZE ,FL 32563\"\n",
            "321\t\"Ms. Brady Bliss , Jr, QA,\"\t\"PO BOX 1534, ARMONA ,CA 93202\"\n",
            "322\t\"Mr. Joshua Blomgren , Sr, IQCP,\"\t\"3424 MANGO TREE DR, EDGEWATER ,FL 32141\"\n",
            "323\t\"Mr. Victoria Boals , Sr, CLIA,\"\t\"17406 PONDEROSA PINES DR, HOUSTON ,TX 77090\"\n",
            "324\t\"Col. Holly Bobholz , Jr, QC,\"\t\"255 E BOLIVAR ST, SPC 75, SALINAS ,CA 93906\"\n",
            "325\t\"Mr. Jordan Bodger , Jr, QA,\"\t\"2121 E GRAND AVE, # G27, ESCONDIDO ,CA 92027\"\n",
            "326\t\"Mr. Merrick Bognar , Jr, IQCP\"\t\"4214 W 101ST ST, APT 2, INGLEWOOD ,CA 90304\"\n",
            "327\t\"Mr. Jonathan Bohlsen , Sr, CLIA,\"\t\"1421 GARZA RD, HARLINGEN ,TX 78552\"\n",
            "328\t\"Mr. Jackson Bojarski , Sr, QC,\"\t\"PO BOX 857, WEST COLUMBIA ,TX 77486\"\n",
            "329\t\"Col. Brittany Bollenbacher , Sr, QA,\"\t\"PO BOX 681, BLOOMINGTON ,CA 92316\"\n",
            "330\t\"Dean. Justin Bolton , Sr, IQCP,\"\t\"7719 DASHWOOD, SAN ANTONIO ,TX 78240\"\n",
            "331\t\"Dr. Kayla Bolton , Jr, CLIA\"\t\"368 REDWING CIR, CORONA ,CA 92882\"\n",
            "332\t\"Mr. Kayla Bolton , Jr, QC\"\t\"560 N CEDAR ST, ESCONDIDO ,CA 92025\"\n",
            "333\t\"Mrs. Marco Bonato , Sr, QA,\"\t\"16443 1/2 CALIFORNIA AVE, PARAMOUNT ,CA 90723\"\n",
            "334\t\"Ms. Jason Bond , Jr, CLIA\"\t\"14234 COHASSET ST, VAN NUYS ,CA 91405\"\n",
            "335\t\"Mr. Kin Bonifassi , Jr, QC,\"\t\"16100 BROOKDALE DR, GUERNEVILLE ,CA 95446\"\n",
            "336\t\"Ms. Elizabeth Bonilla , Jr, QA,\"\t\"5144 LURGAN RD, LAND O LAKES ,FL 34638\"\n",
            "337\t\"Ms. Liam Bonner , Sr, IQCP,\"\t\"861 NW 33RD AVE, FT LAUDERDALE ,FL 33311\"\n",
            "338\t\"Ms. Brittany Boone , Sr, CLIA,\"\t\"6256 GLENVIEW DR, APT 157, NORTH RICHLAND HILLS ,TX 76180\"\n",
            "339\t\"Ms. Trevor Boone , Sr, QC,\"\t\"5401 SW 131ST AVE, MIAMI ,FL 33175\"\n",
            "340\t\"Ms. Roman Booth , Sr, QA,\"\t\"2735 W 70TH ST, HIALEAH ,FL 33016\"\n",
            "341\t\"Mr. Jared Border , Jr, IQCP,\"\t\"2392 CHENAULT DR, FRISCO ,TX 75034\"\n",
            "342\t\"Dean. Tara Borders , Jr, CLIA,\"\t\"601 S 5TH ST, WILLS POINT ,TX 75169\"\n",
            "343\t\"Dr. Kaleb Borders , Jr, QC,\"\t\"1424 SE 27TH ST, GAINESVILLE ,FL 32641\"\n",
            "344\t\"Mr. Ali Borgen , Jr, QA,\"\t\"11330 TOKAY CIR, FONTANA ,CA 92337\"\n",
            "345\t\"Mr. Sarah Boss , Sr, IQCP,\"\t\"16722 EMERSON CT, DELHI ,CA 95315\"\n",
            "346\t\"Mr. Makayla Bouchea , Sr, CLIA,\"\t\"9537 MISTY RIVER WAY, ELK GROVE ,CA 95624\"\n",
            "347\t\"Dean. Taylor Bouma , Sr, QC,\"\t\"216 1/2 N BREED ST, LOS ANGELES ,CA 90033\"\n",
            "348\t\"Dr. Evan Bourg , Jr, QA,\"\t\"2812 GARDEN DR S, APT 305, LAKE WORTH ,FL 33461\"\n",
            "349\t\"Ms. Kurt Bourne , Jr, CLIA\"\t\"PO BOX 90712, SAN BERNARDINO ,CA 92427\"\n",
            "350\t\"Ms. Vincent Bowen , PhD, QC,\"\t\"1141 S FAIRFAX AVE, APT 6, LOS ANGELES ,CA 90019\"\n",
            "351\t\"Ms. Sydney Bowling , Jr, QA\"\t\"1611 NW 19TH ST, APT 8, MIAMI ,FL 33125\"\n",
            "352\t\"Ms. Josh Box , Jr, IQCP,\"\t\"7008 N 23RD ST, MCALLEN ,TX 78504\"\n",
            "353\t\"Ms. Big Boy , Jr, CLIA,\"\t\"25 KNIGHT BOXX RD, APT 8208, ORANGE PARK ,FL 32065\"\n",
            "354\t\"Ms. Miranda Boyd , Jr, QC,\"\t\"4215 BOULDER PASS CT, BAKERSFIELD ,CA 93311\"\n",
            "355\t\"Mr. Brinley Boyd , PhD, QA,\"\t\"827 N FIG ST, APT A9, ESCONDIDO ,CA 92026\"\n",
            "356\t\"Dean. Michael Boyd , Jr, IQCP,\"\t\"5229 CLEON AVE, APT A, NORTH HOLLYWOOD ,CA 91601\"\n",
            "357\t\"Dr. Mackenzie Boykin , PhD, CLIA,\"\t\"9450 MAGNOLIA SPRINGS RD, PENSACOLA ,FL 32526\"\n",
            "358\t\"Mr. Carson Boyle , PhD, QC\"\t\"1770 SHERRY LN, APT 91, SANTA ANA ,CA 92705\"\n",
            "359\t\"Mr. Owen Boyle , PhD, QA,\"\t\"8912 HEIL AVE, APT 7, WESTMINSTER ,CA 92683\"\n",
            "360\t\"Mr. Tori Boynton , Jr, IQCP,\"\t\"1645 HELIX ST, SPRING VALLEY ,CA 91977\"\n",
            "361\t\"Dean. Ryan Boysen , Sr, CLIA,\"\t\"PO BOX 1465, LEBEC ,CA 93243\"\n",
            "362\t\"Dr. Jacob Bradford , PhD, QC,\"\t\"2025 BRIGHT DR, APT 8, HIALEAH ,FL 33010\"\n",
            "363\t\"Ms. Lucy Bradford , PhD, QA,\"\t\"1717 MERCED ST, DOS PALOS ,CA 93620\"\n",
            "364\t\"Ms. Braxton Bradford , Sr, CLIA,\"\t\"4325 ELK DR, ANTIOCH ,CA 94531\"\n",
            "365\t\"Ms. Amiyah Bradshaw , Sr, QC,\"\t\"8218 DRYCREEK DR, TAMPA ,FL 33615\"\n",
            "366\t\"Ms. Mark Braithwaite , Sr, QA,\"\t\"1732 ANDY WILLIAMS PL, EL PASO ,TX 79936\"\n",
            "367\t\"Ms. Paxton Brake , PhD, IQCP,\"\t\"1946 PALMGROVE AVE, POMONA ,CA 91767\"\n",
            "368\t\"Mr. Ellory Branan , PhD, CLIA,\"\t\"1041 MORO CT, TUSTIN ,CA 92780\"\n",
            "369\t\"Mr. Kylie Branch , PhD, QC,\"\t\"1840 E 53RD ST, LOS ANGELES ,CA 90058\"\n",
            "370\t\"Mr. Katelyn Brand , Jr, QA,\"\t\"408 GRISWOLD ST, # 3, GLENDALE ,CA 91205\"\n",
            "371\t\"Ms. Ren√É¬©e Brandon , Sr, IQCP,\"\t\"1355 S PERRIS BLVD, PERRIS ,CA 92570\"\n",
            "372\t\"Ms. Ryker Brandt , Sr, CLIA,\"\t\"5772 GARDEN GROVE BLVD, SPC 648, WESTMINSTER ,CA 92683\"\n",
            "373\t\"Ms. Addyson Brankle , Jr, QC,\"\t\"126 W LOMITA BLVD, WILMINGTON ,CA 90744\"\n",
            "374\t\"Ms. Ben Brannan , Jr, QA\"\t\"10604 CROCKETT ST, SUN VALLEY ,CA 91352\"\n",
            "375\t\"Ms. Logan Brant , Jr, IQCP,\"\t\"25781 STEPHENS ST, ESPARTO ,CA 95627\"\n",
            "376\t\"Dean. Chelsea Brantwein , Sr, CLIA,\"\t\"1859 LOMA VISTA ST, RIVERSIDE ,CA 92507\"\n",
            "377\t\"Dr. Isabella Brashear , Sr, QC,\"\t\"7510 NW 6TH CT, MARGATE ,FL 33063\"\n",
            "378\t\"Mr. Sienna Braun , Sr, QA,\"\t\"1063 MANCHESTER CIR, WINTER PARK ,FL 32792\"\n",
            "379\t\"Mr. Richard Bravo III , Sr, CLIA,\"\t\"4521 OLD LA BLANCA RD, DONNA ,TX 78537\"\n",
            "380\t\"Mr. Alahya Breeden , Jr, QC,\"\t\"6040 DELLA CT, ROHNERT PARK ,CA 94928\"\n",
            "381\t\"Dean. Charles Breen , Jr, QA,\"\t\"5294 TIFFANY ANNE CIR, WEST PALM BEACH ,FL 33417\"\n",
            "382\t\"Dr. Chrissy Breese , Sr, IQCP,\"\t\"8931 AGLIANA CIR, BOYNTON BEACH ,FL 33472\"\n",
            "383\t\"Col. Travis Brennan , Jr, CLIA,\"\t\"4731 WHITE TAIL LN, SARASOTA ,FL 34238\"\n",
            "384\t\"MS. Reid Brewer , Jr, QC,\"\t\"3127 UPSHUR AVE, APT C, TWENTYNINE PALMS ,CA 92277\"\n",
            "385\t\"Dean . Mikaela Brewer , Jr, QA\"\t\"3680 KEYSTONE AVE, LOS ANGELES ,CA 90034\"\n",
            "386\t\"Dean. Ben Brewer , Sr, IQCP,\"\t\"33015 SEVILLE ST, LAKE ELSINORE ,CA 92530\"\n",
            "387\t\"Col. Adyson Brickhouse , Sr, CLIA,\"\t\"3601 E HOLT AVE, APT 108, WEST COVINA ,CA 91791\"\n",
            "388\t\"Dean. Addison Bridges , Sr, QC,\"\t\"1227 ROSEGATE BLVD, RIVIERA BEACH ,FL 33404\"\n",
            "389\t\"Dr. Drew Bridges , Sr, QA,\"\t\"PO BOX 1211, CHINO ,CA 91708\"\n",
            "390\t\"Mr. Nicholas Brierley , Jr, IQCP,\"\t\"1800 S BROADWAY , APT 210, SANTA ANA ,CA 92707\"\n",
            "391\t\"Mrs. Cassidy Briggs , Jr, CLIA,\"\t\"7620 N EL DORADO ST, APT 301, STOCKTON ,CA 95207\"\n",
            "392\t\"Ms. Ava Bright , Jr, QC,\"\t\"901 SW 128TH TER, APT A205, PEMBROKE PINES ,FL 33027\"\n",
            "393\t\"Mr. Devin Brindley , Jr, QA,\"\t\"4122 E CHAPMAN AVE, STE 8, ORANGE ,CA 92869\"\n",
            "394\t\"Mr. Maddie Briscoe , Sr, CLIA,\"\t\"1227 PECAN ST, CLUTE ,TX 77531\"\n",
            "395\t\"Col. Johnny Britt , Sr, QC,\"\t\"3176 INDIANAPOLIS AVE, CLOVIS ,CA 93619\"\n",
            "396\t\"Mr. Oscar Broca III , Sr, QA,\"\t\"10729 W CLAIRMONT CIR, APT 112K-3, TAMARAC ,FL 33321\"\n",
            "397\t\"Mr. Raenalynn Brock , Jr, IQCP,\"\t\"15938 TURTLE BAY PL, FONTANA ,CA 92336\"\n",
            "398\t\"Mr. Walker Brooks , Jr, CLIA,\"\t\"592 ELMWOOD WAY, LIVINGSTON ,CA 95334\"\n",
            "399\t\"Mr. Hallie Brooks , PhD, QC,\"\t\"4630 W RIO BRAVO DR, FRESNO ,CA 93722\"\n",
            "400\t\"Col. Aiden Brooks-Spencer , Jr, QA,\"\t\"6208 JENNIE DR, FORT WORTH ,TX 76133\"\n",
            "401\t\"Dean. Cheyenne Broswell , Jr, IQCP,\"\t\"354 MUSTANG RD, WAXAHACHIE ,TX 75165\"\n",
            "402\t\"Dr. Zarriyah Broussard , Jr, CLIA,\"\t\"5575 BRISTOL BAY LN N, JACKSONVILLE ,FL 32244\"\n",
            "403\t\"Mr. Bentley Broussard , Jr, QC,\"\t\"3695 STEVENSON BLVD, APT 307, FREMONT ,CA 94538\"\n",
            "404\t\"Mrs. Chloe Brown , PhD, QA,\"\t\"1420 BLUE CLOVER LN, WEST PALM BEACH ,FL 33415\"\n",
            "405\t\"Ms. Lauren Brown , Jr, IQCP,\"\t\"1111 SERENGETI WAY, ROCKLEDGE ,FL 32955\"\n",
            "406\t\"Mr. Elizabeth Brown , PhD, CLIA,\"\t\"1790 BROOKS ST, SAN MATEO ,CA 94403\"\n",
            "407\t\"Ms. Reed Brown , PhD, QC,\"\t\"7330 SW 22ND PL, GAINESVILLE ,FL 32607\"\n",
            "408\t\"Dean. Parker Brown , PhD, QA,\"\t\"941 BREDENBERG LN, TURLOCK ,CA 95380\"\n",
            "409\t\"Dr. Elizabeth Brown , Jr, CLIA,\"\t\"1490 N HIGH ST, LAKEPORT ,CA 95453\"\n",
            "410\t\"Col. Collin Brown , Sr, QC,\"\t\"4340 NW 168TH TER, MIAMI GARDENS ,FL 33055\"\n",
            "411\t\"MS. Jayson Brown , PhD, QA,\"\t\"203 S ARNAZ DR, APT A, BEVERLY HILLS ,CA 90211\"\n",
            "412\t\"Dean . Ryan Brown , PhD, IQCP,\"\t\"3874 MAYWOOD DR N, FRESNO ,CA 93703\"\n",
            "413\t\"Dean. Asher Brown , Sr, CLIA,\"\t\"4738 W STUART AVE, FRESNO ,CA 93722\"\n",
            "414\t\"Col. Shawn Brown , Sr, QC,\"\t\"178 DRIVE , APT 431, SUNNY ISLES ,FL 33160\"\n",
            "415\t\"Dean. Lila Brown , Sr, QA,\"\t\"13514 HOLLOW VIEW ST, SAN ANTONIO ,TX 78232\"\n",
            "416\t\"Dr. Lila Rose Brown , PhD, IQCP,\"\t\"3020 NW 157TH ST, OPA LOCKA ,FL 33054\"\n",
            "417\t\"Mr. Zane Brown , PhD, CLIA\"\t\"647 E JENNER ST, LANCASTER ,CA 93535\"\n",
            "418\t\"Mrs. Kaylee Brown , PhD, QC,\"\t\"14691 MULBERRY ST, HESPERIA ,CA 92345\"\n",
            "419\t\"Ms. Laron Brown , Jr, QA,\"\t\"301 W WOODWARD AVE, APT D, ALHAMBRA ,CA 91801\"\n",
            "420\t\"Mr. Howell Brown III , Sr, IQCP,\"\t\"1695 74TH AVE N, SAINT PETERSBURG ,FL 33702\"\n",
            "421\t\"Mr. Eli Browning , Sr, CLIA,\"\t\"1050 BENTON ST, APT 1329, SANTA CLARA ,CA 95050\"\n",
            "422\t\"Col. Michael Bruhn , Jr, QC,\"\t\"1695 74TH AVE N, SAINT PETERSBURG ,FL 33702\"\n",
            "423\t\"Mr. Jayson Bruining , Jr, QA,\"\t\"121 E FELICITA AVE, ESCONDIDO ,CA 92025\"\n",
            "424\t\"Mr. Jack Brumfield , Jr, CLIA,\"\t\"13510 ELIAS CIR, SAN BENITO ,TX 78586\"\n",
            "425\t\"Mr. Owenn Brumfield , Sr, QC,\"\t\"30592 TOMALES LN, MURRIETA ,CA 92563\"\n",
            "426\t\"Mr. Jason Brummett , Sr, QA,\"\t\"2013 LINCOLN A, BOCA RATON ,FL 33434\"\n",
            "427\t\"Col. Nathann Brundage , Sr, IQCP,\"\t\"2358 N MOUNTAINSIDE DR, LOS BANOS ,CA 93635\"\n",
            "428\t\"Dean. Kierstyn Brunell , Sr, CLIA,\"\t\"1046 LONGFELLOW CT, SARASOTA ,FL 34243\"\n",
            "429\t\"Dr. Holly Bruner , Jr, QC,\"\t\"4513 MONTEREY DR, TAMARAC ,FL 33319\"\n",
            "430\t\"Mr. Tyler Brunson , Jr, QA,\"\t\"12 STONEPINE, IRVINE ,CA 92604\"\n",
            "431\t\"Mrs. Addison Bryan , Sr, IQCP,\"\t\"11050 SW 7TH ST, MIAMI ,FL 33174\"\n",
            "432\t\"Ms. Austin Bryant , Jr, CLIA\"\t\"7115 SW 70TH AVE, MIAMI ,FL 33143\"\n",
            "433\t\"Mr. Rosamond Bryant , Jr, QC,\"\t\"419 NW 83RD ST, MIAMI ,FL 33150\"\n",
            "434\t\"Ms. Madison Bryant , Jr, QA,\"\t\"19175 SW 194TH AVE, MIAMI ,FL 33187\"\n",
            "435\t\"Dean. Daniel Buchdid , Sr, IQCP,\"\t\"180 AVENIDA DESCANSO , UNIT E, OCEANSIDE ,CA 92057\"\n",
            "436\t\"Dr. Carter Buciciero , Sr, CLIA\"\t\"1097 MANIGAN AVE, OVIEDO ,FL 32765\"\n",
            "437\t\"Col. Grace Buckel , Sr, QC,\"\t\"630 AMADOR AVE, SEASIDE ,CA 93955\"\n",
            "438\t\"MS. Blake Buckel , Sr, QA,\"\t\"5723 NW 86TH AVE, TAMARAC ,FL 33321\"\n",
            "439\t\"Dean . Riley Buckholz , Jr, CLIA,\"\t\"9724 FOLLETT DR, SANTEE ,CA 92071\"\n",
            "440\t\"Dean. James Buckley , Jr, QC,\"\t\"95 HART LN, APT J233, PERRIS ,CA 92571\"\n",
            "441\t\"Col. Rachel Buckner , Jr, QA,\"\t\"810 S CROCKETT DR, ABILENE ,TX 79605\"\n",
            "442\t\"Dean. Jake Buerkle , Jr, IQCP,\"\t\"19054 PARTHENIA ST, APT 5, NORTHRIDGE ,CA 91324\"\n",
            "443\t\"Dr. Christopher Buford , Sr, CLIA,\"\t\"10167 VENA AVE, ARLETA ,CA 91331\"\n",
            "444\t\"Mr. Vivian Bui , Sr, QC,\"\t\"8023 LAKE DR, APT 105, DORAL ,FL 33166\"\n",
            "445\t\"Mrs. Emma Bulich , Sr, QA,\"\t\"3889 COLMA AVE, MERCED ,CA 95348\"\n",
            "446\t\"Ms. Briellynn Bullard , Jr, IQCP,\"\t\"19732 NICHOLAS AVE, CERRITOS ,CA 90703\"\n",
            "447\t\"Mr. Bethany Bullerman , Jr, CLIA,\"\t\"2011 SUNSET DR, ESCONDIDO ,CA 92025\"\n",
            "448\t\"Mr. Adriana Bullington , Jr, QC,\"\t\"221 9TH ST, GREENFIELD ,CA 93927\"\n",
            "449\t\"Col. Colton Bullock , Sr, QA,\"\t\"1541 E LA PALMA AVE, ANAHEIM ,CA 92805\"\n",
            "450\t\"Mr. William Bunn , Sr, IQCP,\"\t\"1541 E LA PALMA AVE, UNIT C4, ANAHEIM ,CA 92805\"\n",
            "451\t\"Mr. Michael Buno , Sr, CLIA,\"\t\"409 8TH ST, EAGLE LAKE ,TX 77434\"\n",
            "452\t\"Mr. Shelby Burchett , Sr, QC,\"\t\"1433 W 11TH ST, POMONA ,CA 91766\"\n",
            "453\t\"Mr. Tyler Burdick , Jr, QA,\"\t\"16711 LOUKELTON ST, LA PUENTE ,CA 91744\"\n",
            "454\t\"Col. Amanda Bures , Jr, CLIA,\"\t\"11472 SW FIELDSTONE WAY, PORT SAINT LUCIE ,FL 34987\"\n",
            "455\t\"Dean. James Burgess , Jr, QC,\"\t\"108 E AVENUE I, ROBSTOWN ,TX 78380\"\n",
            "456\t\"Dr. Braeden Burgess , Jr, QA,\"\t\"665 SEA VALE ST, APT 4, CHULA VISTA ,CA 91910\"\n",
            "457\t\"Mr. Marissa Burghart , Sr, IQCP,\"\t\"43406 62ND ST W, LANCASTER ,CA 93536\"\n",
            "458\t\"Mrs. Skylor Burgos , Sr, CLIA,\"\t\"2395 N MACY ST, SAN BERNARDINO ,CA 92407\"\n",
            "459\t\"Ms. Colin Burkdoll , Sr, QC,\"\t\"10810 MCCLEAREN DR, HOUSTON ,TX 77096\"\n",
            "460\t\"Mr. Tyler Burke , Jr, QA,\"\t\"507 5TH AVE SE, GRAVETTE ,AR 72736\"\n",
            "461\t\"Ms. Joseph Burke , Jr, QA,\"\t\"795 HARBOR CLIFF WAY, UNIT 197, OCEANSIDE ,CA 92054\"\n",
            "462\t\"Dean. Gattlin Burke , Jr,\"\t\"IQCP, 378 PROMENADE CIR, SUISUN CITY ,CA 94585\"\n",
            "463\t\"Dr. Dylan Burke , Sr, CLIA,\"\t\"1400 A ST, APT 301, ANTIOCH ,CA 94509\"\n",
            "464\t\"Col. Alex Burkos , Sr, QC,\"\t\"34 BRIONES CT, BAY POINT ,CA 94565\"\n",
            "465\t\"MS. Courtney Burnette , Sr, QA,\"\t\"2415 OLD RAVEN LN SW, VERO BEACH ,FL 32962\"\n",
            "466\t\"Dean . Gyle Burnette , Sr, IQCP\"\t\" 3609 MEADOW PARK DR, ROUND ROCK ,TX 78665\"\n",
            "467\t\"Dean. Brandon Burnside , Jr, CLIA,\"\t\"1113 LOMBARD ST, OXNARD ,CA 93030\"\n",
            "468\t\"Col. Ryan Burow , Jr, QC,\"\t\"843 JAMES PL, POMONA ,CA 91767\"\n",
            "469\t\"Dean. Madison Burt , Jr, QA,\"\t\"6005 FELIX AVE, RICHMOND ,CA 94805\"\n",
            "470\t\"Dr. Addison Burton , Jr, IQCP,\"\t\"29245 GRANITE RIDGE CT, SUN CITY ,CA 92587\"\n",
            "471\t\"Mr. Carson Busby , Sr, CLIA,\"\t\"2800 UNIVERSITY AVE, SAN DIEGO ,CA 92104\"\n",
            "472\t\"Mrs. Brady Bustrum , Sr, QC,\"\t\"5455 GRAND PRIX CT, FONTANA ,CA 92336\"\n",
            "473\t\"Ms. Jaxson Butkus , Sr, QA,CLIA,\"\t\"474 DRIFTWOOD DR, EL CENTRO ,CA 92243\"\n",
            "474\t\"Mr. Lenzie Butland , Jr,\"\t\" 12800 HARRISGLENN DR, APT 912, AUSTIN ,TX 78753\"\n",
            "475\t\"Mr. Alaya Butler , Jr, QC,\"\t\"1040 CHAMPION AVE, LEHIGH ACRES ,FL 33971\"\n",
            "476\t\"Col. Timothy Butler , Jr, QA,\"\t\"1329 MILL XING, GARLAND ,TX 75040\"\n",
            "477\t\"Mr. Tyler Butler-Figueroa , Sr, IQCP,\"\t\"16150 KIETH HARROW BLVD, HOUSTON ,TX 77084\"\n",
            "478\t\"Mr. Ryan Butterworth , Sr, CLIA,\"\t\"13114 BIDWELL DR, AUSTIN ,TX 78729\"\n",
            "479\t\"Mr. Chad Buzick , Sr, QC,\"\t\"1850 PARKRIDGE AVE, NORCO ,CA 92860\"\n",
            "480\t\"Mr. Grace Byrd , Sr, QA,\"\t\"7181 E DRAKE DR, ANAHEIM ,CA 92807\"\n",
            "481\t\"Col. Grace Byrd , Jr, IQCP,\"\t\"7634 DARTMOUTH AVE, RANCHO CUCAMONGA ,CA 91730\"\n",
            "482\t\"Dean. Cian Byrne , Jr, CLIA,\"\t\"15360 SW 154TH TER, MIAMI ,FL 33187\"\n",
            "483\t\"Dr. Stephanie-Lynn C , Jr, QC\"\t\"627 S VELARE ST, APT 16, ANAHEIM ,CA 92804\"\n",
            "484\t\"Mr. Zach Cadwalder , Jr, QA,\"\t\"PO BOX 9994, MORENO VALLEY ,CA 92552\"\n",
            "485\t\"Mrs. Alexandria Caggia , Sr, IQCP,\"\t\"561 PRAIRIE DELL ST, LEWISVILLE ,TX 75067\"\n",
            "486\t\"Ms. Erin Cahalin , Sr, CLIA,\"\t\"16998 BLACKIE RD, SALINAS ,CA 93907\"\n",
            "487\t\"Mr. Johnathon Cahill , Sr, QC,\"\t\"16764 GOLFVIEW DR, WESTON ,FL 33326\"\n",
            "488\t\"Ms. Jonathan Calderon , Jr, QA,\"\t\"8207 MISTY LANDING CT, HUMBLE ,TX 77396\"\n",
            "489\t\"Mr. Destiny Calhoun , Jr, CLIA,\"\t\"5504 HILLMAN ST, HOUSTON ,TX 77023\"\n",
            "490\t\"Col. Destiny Calhoun , Jr, QC,\"\t\"8207 MISTY LANDING CT, HUMBLE ,TX 77396\"\n",
            "491\t\"Mr. Ray Callaway , Sr, QA,\"\t\"1505 BRENTWOOD DR, PINE BLUFF ,AR 71601\"\n",
            "492\t\"Mr. Jace Calloway , Sr, IQCP,\"\t\"PO BOX 17402, LONG BEACH ,CA 90807\"\n",
            "493\t\"Mr. Angel Caloca Jr , Sr, CLIA, \"\t\"16406 GELDING WAY, MORENO VALLEY ,CA 92555\"\n",
            "494\t\"Mr. Abigail Calvo , Sr, QC,\"\t\"34763 JOHN ALBERT DR, MADERA ,CA 93636\"\n",
            "495\t\"Col. Gracie Camba , Jr, QA,\"\t\"5731 WARDELL WAY, SACRAMENTO ,CA 95823\"\n"
          ]
        }
      ]
    },
    {
      "cell_type": "code",
      "source": [
        "#use if you want to close file\n",
        "f.close()"
      ],
      "metadata": {
        "id": "0d_k05tpJBvF"
      },
      "execution_count": 153,
      "outputs": []
    },
    {
      "cell_type": "code",
      "source": [
        "from transformers import pipeline\n",
        "import pandas as pd\n",
        "f = open('/content/Cleaned_Simple_50.txt', 'r')\n",
        "content = f.read()\n",
        "\n",
        "text = content\n",
        "\n",
        "#text = 'Mr. Breonia Adam , PhD, QC, \"\t\"513 LANDWYCK LN, FLOWER MOUND ,TX 75028'\n",
        "\n",
        "tagger = pipeline(task='ner', aggregation_strategy='simple', grouped_entities=True)\n",
        "named_ents = tagger(text)\n",
        "stored_data = pd.DataFrame(named_ents)"
      ],
      "metadata": {
        "colab": {
          "base_uri": "https://localhost:8080/"
        },
        "id": "ys9kbRimJDkS",
        "outputId": "d1e963e4-3111-429e-a723-e82db062d329"
      },
      "execution_count": 155,
      "outputs": [
        {
          "output_type": "stream",
          "name": "stderr",
          "text": [
            "No model was supplied, defaulted to dbmdz/bert-large-cased-finetuned-conll03-english and revision f2482bf (https://huggingface.co/dbmdz/bert-large-cased-finetuned-conll03-english).\n",
            "Using a pipeline without specifying a model name and revision in production is not recommended.\n",
            "/usr/local/lib/python3.7/dist-packages/transformers/pipelines/token_classification.py:136: UserWarning: `grouped_entities` is deprecated and will be removed in version v5.0.0, defaulted to `aggregation_strategy=\"simple\"` instead.\n",
            "  \"`grouped_entities` is deprecated and will be removed in version v5.0.0, defaulted to\"\n"
          ]
        }
      ]
    },
    {
      "cell_type": "code",
      "source": [
        "print(stored_data)"
      ],
      "metadata": {
        "colab": {
          "base_uri": "https://localhost:8080/"
        },
        "id": "Oqc0tZp5JMXB",
        "outputId": "4c0d08cb-d488-4eae-d616-2493beb8ef18"
      },
      "execution_count": 160,
      "outputs": [
        {
          "output_type": "stream",
          "name": "stdout",
          "text": [
            "   entity_group     score          word  start   end\n",
            "0           PER  0.597720          Dean     23    27\n",
            "1           PER  0.978966    Alex Abadi     29    39\n",
            "2           PER  0.919571            Jr     42    44\n",
            "3           LOC  0.654975            RA     59    61\n",
            "4           ORG  0.598351    ##NCHERO R     61    69\n",
            "..          ...       ...           ...    ...   ...\n",
            "71          ORG  0.615709             L    988   989\n",
            "72          LOC  0.381800          ##IG    991   993\n",
            "73          ORG  0.581082          ACRE    995   999\n",
            "74          PER  0.996841  Samuel Adams   1022  1034\n",
            "75          PER  0.843554            Sr   1037  1039\n",
            "\n",
            "[76 rows x 5 columns]\n"
          ]
        }
      ]
    },
    {
      "cell_type": "code",
      "source": [],
      "metadata": {
        "id": "GEBtEprR6Lza"
      },
      "execution_count": null,
      "outputs": []
    },
    {
      "cell_type": "code",
      "source": [
        "#output to a CSV File\n",
        "stored_data.to_csv('NER_LAbels.csv', sep='\\t')"
      ],
      "metadata": {
        "id": "YioXSjmqJRaB"
      },
      "execution_count": 162,
      "outputs": []
    },
    {
      "cell_type": "markdown",
      "metadata": {
        "id": "_WaetlvTiqJN"
      },
      "source": [
        "# SPACY PARSER"
      ]
    },
    {
      "cell_type": "code",
      "execution_count": null,
      "metadata": {
        "colab": {
          "base_uri": "https://localhost:8080/"
        },
        "id": "dc_B5IImCEXL",
        "outputId": "da0f8502-58b4-49d4-c523-47f1d99a0276"
      },
      "outputs": [
        {
          "output_type": "stream",
          "name": "stdout",
          "text": [
            "Looking in indexes: https://pypi.org/simple, https://us-python.pkg.dev/colab-wheels/public/simple/\n",
            "Requirement already satisfied: spacy in /usr/local/lib/python3.7/dist-packages (3.4.3)\n",
            "Requirement already satisfied: catalogue<2.1.0,>=2.0.6 in /usr/local/lib/python3.7/dist-packages (from spacy) (2.0.8)\n",
            "Requirement already satisfied: pydantic!=1.8,!=1.8.1,<1.11.0,>=1.7.4 in /usr/local/lib/python3.7/dist-packages (from spacy) (1.10.2)\n",
            "Requirement already satisfied: jinja2 in /usr/local/lib/python3.7/dist-packages (from spacy) (2.11.3)\n",
            "Requirement already satisfied: srsly<3.0.0,>=2.4.3 in /usr/local/lib/python3.7/dist-packages (from spacy) (2.4.5)\n",
            "Requirement already satisfied: thinc<8.2.0,>=8.1.0 in /usr/local/lib/python3.7/dist-packages (from spacy) (8.1.5)\n",
            "Requirement already satisfied: wasabi<1.1.0,>=0.9.1 in /usr/local/lib/python3.7/dist-packages (from spacy) (0.10.1)\n",
            "Requirement already satisfied: spacy-loggers<2.0.0,>=1.0.0 in /usr/local/lib/python3.7/dist-packages (from spacy) (1.0.3)\n",
            "Requirement already satisfied: typer<0.8.0,>=0.3.0 in /usr/local/lib/python3.7/dist-packages (from spacy) (0.7.0)\n",
            "Requirement already satisfied: setuptools in /usr/local/lib/python3.7/dist-packages (from spacy) (57.4.0)\n",
            "Requirement already satisfied: spacy-legacy<3.1.0,>=3.0.10 in /usr/local/lib/python3.7/dist-packages (from spacy) (3.0.10)\n",
            "Requirement already satisfied: langcodes<4.0.0,>=3.2.0 in /usr/local/lib/python3.7/dist-packages (from spacy) (3.3.0)\n",
            "Requirement already satisfied: murmurhash<1.1.0,>=0.28.0 in /usr/local/lib/python3.7/dist-packages (from spacy) (1.0.9)\n",
            "Requirement already satisfied: pathy>=0.3.5 in /usr/local/lib/python3.7/dist-packages (from spacy) (0.8.1)\n",
            "Requirement already satisfied: tqdm<5.0.0,>=4.38.0 in /usr/local/lib/python3.7/dist-packages (from spacy) (4.64.1)\n",
            "Requirement already satisfied: requests<3.0.0,>=2.13.0 in /usr/local/lib/python3.7/dist-packages (from spacy) (2.28.1)\n",
            "Requirement already satisfied: packaging>=20.0 in /usr/local/lib/python3.7/dist-packages (from spacy) (21.3)\n",
            "Requirement already satisfied: numpy>=1.15.0 in /usr/local/lib/python3.7/dist-packages (from spacy) (1.21.6)\n",
            "Requirement already satisfied: preshed<3.1.0,>=3.0.2 in /usr/local/lib/python3.7/dist-packages (from spacy) (3.0.8)\n",
            "Requirement already satisfied: typing-extensions<4.2.0,>=3.7.4 in /usr/local/lib/python3.7/dist-packages (from spacy) (4.1.1)\n",
            "Requirement already satisfied: cymem<2.1.0,>=2.0.2 in /usr/local/lib/python3.7/dist-packages (from spacy) (2.0.7)\n",
            "Requirement already satisfied: zipp>=0.5 in /usr/local/lib/python3.7/dist-packages (from catalogue<2.1.0,>=2.0.6->spacy) (3.10.0)\n",
            "Requirement already satisfied: pyparsing!=3.0.5,>=2.0.2 in /usr/local/lib/python3.7/dist-packages (from packaging>=20.0->spacy) (3.0.9)\n",
            "Requirement already satisfied: smart-open<6.0.0,>=5.2.1 in /usr/local/lib/python3.7/dist-packages (from pathy>=0.3.5->spacy) (5.2.1)\n",
            "Requirement already satisfied: idna<4,>=2.5 in /usr/local/lib/python3.7/dist-packages (from requests<3.0.0,>=2.13.0->spacy) (2.10)\n",
            "Requirement already satisfied: certifi>=2017.4.17 in /usr/local/lib/python3.7/dist-packages (from requests<3.0.0,>=2.13.0->spacy) (2022.9.24)\n",
            "Requirement already satisfied: urllib3<1.27,>=1.21.1 in /usr/local/lib/python3.7/dist-packages (from requests<3.0.0,>=2.13.0->spacy) (1.24.3)\n",
            "Requirement already satisfied: charset-normalizer<3,>=2 in /usr/local/lib/python3.7/dist-packages (from requests<3.0.0,>=2.13.0->spacy) (2.1.1)\n",
            "Requirement already satisfied: blis<0.8.0,>=0.7.8 in /usr/local/lib/python3.7/dist-packages (from thinc<8.2.0,>=8.1.0->spacy) (0.7.9)\n",
            "Requirement already satisfied: confection<1.0.0,>=0.0.1 in /usr/local/lib/python3.7/dist-packages (from thinc<8.2.0,>=8.1.0->spacy) (0.0.3)\n",
            "Requirement already satisfied: click<9.0.0,>=7.1.1 in /usr/local/lib/python3.7/dist-packages (from typer<0.8.0,>=0.3.0->spacy) (7.1.2)\n",
            "Requirement already satisfied: MarkupSafe>=0.23 in /usr/local/lib/python3.7/dist-packages (from jinja2->spacy) (2.0.1)\n"
          ]
        }
      ],
      "source": [
        "!pip install spacy"
      ]
    },
    {
      "cell_type": "code",
      "execution_count": null,
      "metadata": {
        "colab": {
          "base_uri": "https://localhost:8080/"
        },
        "id": "qqjUaHYfCTJV",
        "outputId": "d781c66c-cf8a-4652-e521-9ac183b7689b"
      },
      "outputs": [
        {
          "output_type": "stream",
          "name": "stdout",
          "text": [
            "Looking in indexes: https://pypi.org/simple, https://us-python.pkg.dev/colab-wheels/public/simple/\n",
            "Collecting spacy_conll\n",
            "  Downloading spacy_conll-3.2.0-py3-none-any.whl (21 kB)\n",
            "Requirement already satisfied: spacy>=3.0.1 in /usr/local/lib/python3.7/dist-packages (from spacy_conll) (3.4.3)\n",
            "Requirement already satisfied: srsly<3.0.0,>=2.4.3 in /usr/local/lib/python3.7/dist-packages (from spacy>=3.0.1->spacy_conll) (2.4.5)\n",
            "Requirement already satisfied: thinc<8.2.0,>=8.1.0 in /usr/local/lib/python3.7/dist-packages (from spacy>=3.0.1->spacy_conll) (8.1.5)\n",
            "Requirement already satisfied: setuptools in /usr/local/lib/python3.7/dist-packages (from spacy>=3.0.1->spacy_conll) (57.4.0)\n",
            "Requirement already satisfied: catalogue<2.1.0,>=2.0.6 in /usr/local/lib/python3.7/dist-packages (from spacy>=3.0.1->spacy_conll) (2.0.8)\n",
            "Requirement already satisfied: pydantic!=1.8,!=1.8.1,<1.11.0,>=1.7.4 in /usr/local/lib/python3.7/dist-packages (from spacy>=3.0.1->spacy_conll) (1.10.2)\n",
            "Requirement already satisfied: typer<0.8.0,>=0.3.0 in /usr/local/lib/python3.7/dist-packages (from spacy>=3.0.1->spacy_conll) (0.7.0)\n",
            "Requirement already satisfied: cymem<2.1.0,>=2.0.2 in /usr/local/lib/python3.7/dist-packages (from spacy>=3.0.1->spacy_conll) (2.0.7)\n",
            "Requirement already satisfied: langcodes<4.0.0,>=3.2.0 in /usr/local/lib/python3.7/dist-packages (from spacy>=3.0.1->spacy_conll) (3.3.0)\n",
            "Requirement already satisfied: requests<3.0.0,>=2.13.0 in /usr/local/lib/python3.7/dist-packages (from spacy>=3.0.1->spacy_conll) (2.28.1)\n",
            "Requirement already satisfied: packaging>=20.0 in /usr/local/lib/python3.7/dist-packages (from spacy>=3.0.1->spacy_conll) (21.3)\n",
            "Requirement already satisfied: tqdm<5.0.0,>=4.38.0 in /usr/local/lib/python3.7/dist-packages (from spacy>=3.0.1->spacy_conll) (4.64.1)\n",
            "Requirement already satisfied: wasabi<1.1.0,>=0.9.1 in /usr/local/lib/python3.7/dist-packages (from spacy>=3.0.1->spacy_conll) (0.10.1)\n",
            "Requirement already satisfied: numpy>=1.15.0 in /usr/local/lib/python3.7/dist-packages (from spacy>=3.0.1->spacy_conll) (1.21.6)\n",
            "Requirement already satisfied: pathy>=0.3.5 in /usr/local/lib/python3.7/dist-packages (from spacy>=3.0.1->spacy_conll) (0.8.1)\n",
            "Requirement already satisfied: spacy-legacy<3.1.0,>=3.0.10 in /usr/local/lib/python3.7/dist-packages (from spacy>=3.0.1->spacy_conll) (3.0.10)\n",
            "Requirement already satisfied: murmurhash<1.1.0,>=0.28.0 in /usr/local/lib/python3.7/dist-packages (from spacy>=3.0.1->spacy_conll) (1.0.9)\n",
            "Requirement already satisfied: preshed<3.1.0,>=3.0.2 in /usr/local/lib/python3.7/dist-packages (from spacy>=3.0.1->spacy_conll) (3.0.8)\n",
            "Requirement already satisfied: typing-extensions<4.2.0,>=3.7.4 in /usr/local/lib/python3.7/dist-packages (from spacy>=3.0.1->spacy_conll) (4.1.1)\n",
            "Requirement already satisfied: jinja2 in /usr/local/lib/python3.7/dist-packages (from spacy>=3.0.1->spacy_conll) (2.11.3)\n",
            "Requirement already satisfied: spacy-loggers<2.0.0,>=1.0.0 in /usr/local/lib/python3.7/dist-packages (from spacy>=3.0.1->spacy_conll) (1.0.3)\n",
            "Requirement already satisfied: zipp>=0.5 in /usr/local/lib/python3.7/dist-packages (from catalogue<2.1.0,>=2.0.6->spacy>=3.0.1->spacy_conll) (3.10.0)\n",
            "Requirement already satisfied: pyparsing!=3.0.5,>=2.0.2 in /usr/local/lib/python3.7/dist-packages (from packaging>=20.0->spacy>=3.0.1->spacy_conll) (3.0.9)\n",
            "Requirement already satisfied: smart-open<6.0.0,>=5.2.1 in /usr/local/lib/python3.7/dist-packages (from pathy>=0.3.5->spacy>=3.0.1->spacy_conll) (5.2.1)\n",
            "Requirement already satisfied: idna<4,>=2.5 in /usr/local/lib/python3.7/dist-packages (from requests<3.0.0,>=2.13.0->spacy>=3.0.1->spacy_conll) (2.10)\n",
            "Requirement already satisfied: certifi>=2017.4.17 in /usr/local/lib/python3.7/dist-packages (from requests<3.0.0,>=2.13.0->spacy>=3.0.1->spacy_conll) (2022.9.24)\n",
            "Requirement already satisfied: urllib3<1.27,>=1.21.1 in /usr/local/lib/python3.7/dist-packages (from requests<3.0.0,>=2.13.0->spacy>=3.0.1->spacy_conll) (1.24.3)\n",
            "Requirement already satisfied: charset-normalizer<3,>=2 in /usr/local/lib/python3.7/dist-packages (from requests<3.0.0,>=2.13.0->spacy>=3.0.1->spacy_conll) (2.1.1)\n",
            "Requirement already satisfied: blis<0.8.0,>=0.7.8 in /usr/local/lib/python3.7/dist-packages (from thinc<8.2.0,>=8.1.0->spacy>=3.0.1->spacy_conll) (0.7.9)\n",
            "Requirement already satisfied: confection<1.0.0,>=0.0.1 in /usr/local/lib/python3.7/dist-packages (from thinc<8.2.0,>=8.1.0->spacy>=3.0.1->spacy_conll) (0.0.3)\n",
            "Requirement already satisfied: click<9.0.0,>=7.1.1 in /usr/local/lib/python3.7/dist-packages (from typer<0.8.0,>=0.3.0->spacy>=3.0.1->spacy_conll) (7.1.2)\n",
            "Requirement already satisfied: MarkupSafe>=0.23 in /usr/local/lib/python3.7/dist-packages (from jinja2->spacy>=3.0.1->spacy_conll) (2.0.1)\n",
            "Installing collected packages: spacy-conll\n",
            "Successfully installed spacy-conll-3.2.0\n"
          ]
        }
      ],
      "source": [
        "!pip install spacy_conll "
      ]
    },
    {
      "cell_type": "code",
      "execution_count": null,
      "metadata": {
        "colab": {
          "base_uri": "https://localhost:8080/"
        },
        "id": "56VTR7PyCafm",
        "outputId": "80731e35-611e-49f0-8c70-cbfe7ff4c0e5"
      },
      "outputs": [
        {
          "output_type": "stream",
          "name": "stdout",
          "text": [
            "Looking in indexes: https://pypi.org/simple, https://us-python.pkg.dev/colab-wheels/public/simple/\n",
            "Collecting spacy-stanza\n",
            "  Downloading spacy_stanza-1.0.2-py3-none-any.whl (9.7 kB)\n",
            "Requirement already satisfied: spacy<4.0.0,>=3.0.0 in /usr/local/lib/python3.7/dist-packages (from spacy-stanza) (3.4.3)\n",
            "Collecting stanza<1.5.0,>=1.2.0\n",
            "  Downloading stanza-1.4.2-py3-none-any.whl (691 kB)\n",
            "\u001b[K     |████████████████████████████████| 691 kB 6.9 MB/s \n",
            "\u001b[?25hRequirement already satisfied: setuptools in /usr/local/lib/python3.7/dist-packages (from spacy<4.0.0,>=3.0.0->spacy-stanza) (57.4.0)\n",
            "Requirement already satisfied: spacy-loggers<2.0.0,>=1.0.0 in /usr/local/lib/python3.7/dist-packages (from spacy<4.0.0,>=3.0.0->spacy-stanza) (1.0.3)\n",
            "Requirement already satisfied: thinc<8.2.0,>=8.1.0 in /usr/local/lib/python3.7/dist-packages (from spacy<4.0.0,>=3.0.0->spacy-stanza) (8.1.5)\n",
            "Requirement already satisfied: jinja2 in /usr/local/lib/python3.7/dist-packages (from spacy<4.0.0,>=3.0.0->spacy-stanza) (2.11.3)\n",
            "Requirement already satisfied: typer<0.8.0,>=0.3.0 in /usr/local/lib/python3.7/dist-packages (from spacy<4.0.0,>=3.0.0->spacy-stanza) (0.7.0)\n",
            "Requirement already satisfied: pydantic!=1.8,!=1.8.1,<1.11.0,>=1.7.4 in /usr/local/lib/python3.7/dist-packages (from spacy<4.0.0,>=3.0.0->spacy-stanza) (1.10.2)\n",
            "Requirement already satisfied: requests<3.0.0,>=2.13.0 in /usr/local/lib/python3.7/dist-packages (from spacy<4.0.0,>=3.0.0->spacy-stanza) (2.28.1)\n",
            "Requirement already satisfied: cymem<2.1.0,>=2.0.2 in /usr/local/lib/python3.7/dist-packages (from spacy<4.0.0,>=3.0.0->spacy-stanza) (2.0.7)\n",
            "Requirement already satisfied: typing-extensions<4.2.0,>=3.7.4 in /usr/local/lib/python3.7/dist-packages (from spacy<4.0.0,>=3.0.0->spacy-stanza) (4.1.1)\n",
            "Requirement already satisfied: preshed<3.1.0,>=3.0.2 in /usr/local/lib/python3.7/dist-packages (from spacy<4.0.0,>=3.0.0->spacy-stanza) (3.0.8)\n",
            "Requirement already satisfied: spacy-legacy<3.1.0,>=3.0.10 in /usr/local/lib/python3.7/dist-packages (from spacy<4.0.0,>=3.0.0->spacy-stanza) (3.0.10)\n",
            "Requirement already satisfied: langcodes<4.0.0,>=3.2.0 in /usr/local/lib/python3.7/dist-packages (from spacy<4.0.0,>=3.0.0->spacy-stanza) (3.3.0)\n",
            "Requirement already satisfied: srsly<3.0.0,>=2.4.3 in /usr/local/lib/python3.7/dist-packages (from spacy<4.0.0,>=3.0.0->spacy-stanza) (2.4.5)\n",
            "Requirement already satisfied: wasabi<1.1.0,>=0.9.1 in /usr/local/lib/python3.7/dist-packages (from spacy<4.0.0,>=3.0.0->spacy-stanza) (0.10.1)\n",
            "Requirement already satisfied: tqdm<5.0.0,>=4.38.0 in /usr/local/lib/python3.7/dist-packages (from spacy<4.0.0,>=3.0.0->spacy-stanza) (4.64.1)\n",
            "Requirement already satisfied: murmurhash<1.1.0,>=0.28.0 in /usr/local/lib/python3.7/dist-packages (from spacy<4.0.0,>=3.0.0->spacy-stanza) (1.0.9)\n",
            "Requirement already satisfied: catalogue<2.1.0,>=2.0.6 in /usr/local/lib/python3.7/dist-packages (from spacy<4.0.0,>=3.0.0->spacy-stanza) (2.0.8)\n",
            "Requirement already satisfied: pathy>=0.3.5 in /usr/local/lib/python3.7/dist-packages (from spacy<4.0.0,>=3.0.0->spacy-stanza) (0.8.1)\n",
            "Requirement already satisfied: numpy>=1.15.0 in /usr/local/lib/python3.7/dist-packages (from spacy<4.0.0,>=3.0.0->spacy-stanza) (1.21.6)\n",
            "Requirement already satisfied: packaging>=20.0 in /usr/local/lib/python3.7/dist-packages (from spacy<4.0.0,>=3.0.0->spacy-stanza) (21.3)\n",
            "Requirement already satisfied: zipp>=0.5 in /usr/local/lib/python3.7/dist-packages (from catalogue<2.1.0,>=2.0.6->spacy<4.0.0,>=3.0.0->spacy-stanza) (3.10.0)\n",
            "Requirement already satisfied: pyparsing!=3.0.5,>=2.0.2 in /usr/local/lib/python3.7/dist-packages (from packaging>=20.0->spacy<4.0.0,>=3.0.0->spacy-stanza) (3.0.9)\n",
            "Requirement already satisfied: smart-open<6.0.0,>=5.2.1 in /usr/local/lib/python3.7/dist-packages (from pathy>=0.3.5->spacy<4.0.0,>=3.0.0->spacy-stanza) (5.2.1)\n",
            "Requirement already satisfied: certifi>=2017.4.17 in /usr/local/lib/python3.7/dist-packages (from requests<3.0.0,>=2.13.0->spacy<4.0.0,>=3.0.0->spacy-stanza) (2022.9.24)\n",
            "Requirement already satisfied: charset-normalizer<3,>=2 in /usr/local/lib/python3.7/dist-packages (from requests<3.0.0,>=2.13.0->spacy<4.0.0,>=3.0.0->spacy-stanza) (2.1.1)\n",
            "Requirement already satisfied: urllib3<1.27,>=1.21.1 in /usr/local/lib/python3.7/dist-packages (from requests<3.0.0,>=2.13.0->spacy<4.0.0,>=3.0.0->spacy-stanza) (1.24.3)\n",
            "Requirement already satisfied: idna<4,>=2.5 in /usr/local/lib/python3.7/dist-packages (from requests<3.0.0,>=2.13.0->spacy<4.0.0,>=3.0.0->spacy-stanza) (2.10)\n",
            "Requirement already satisfied: torch>=1.3.0 in /usr/local/lib/python3.7/dist-packages (from stanza<1.5.0,>=1.2.0->spacy-stanza) (1.12.1+cu113)\n",
            "Requirement already satisfied: six in /usr/local/lib/python3.7/dist-packages (from stanza<1.5.0,>=1.2.0->spacy-stanza) (1.15.0)\n",
            "Requirement already satisfied: protobuf in /usr/local/lib/python3.7/dist-packages (from stanza<1.5.0,>=1.2.0->spacy-stanza) (3.19.6)\n",
            "Collecting emoji\n",
            "  Downloading emoji-2.2.0.tar.gz (240 kB)\n",
            "\u001b[K     |████████████████████████████████| 240 kB 5.7 MB/s \n",
            "\u001b[?25hRequirement already satisfied: blis<0.8.0,>=0.7.8 in /usr/local/lib/python3.7/dist-packages (from thinc<8.2.0,>=8.1.0->spacy<4.0.0,>=3.0.0->spacy-stanza) (0.7.9)\n",
            "Requirement already satisfied: confection<1.0.0,>=0.0.1 in /usr/local/lib/python3.7/dist-packages (from thinc<8.2.0,>=8.1.0->spacy<4.0.0,>=3.0.0->spacy-stanza) (0.0.3)\n",
            "Requirement already satisfied: click<9.0.0,>=7.1.1 in /usr/local/lib/python3.7/dist-packages (from typer<0.8.0,>=0.3.0->spacy<4.0.0,>=3.0.0->spacy-stanza) (7.1.2)\n",
            "Requirement already satisfied: MarkupSafe>=0.23 in /usr/local/lib/python3.7/dist-packages (from jinja2->spacy<4.0.0,>=3.0.0->spacy-stanza) (2.0.1)\n",
            "Building wheels for collected packages: emoji\n",
            "  Building wheel for emoji (setup.py) ... \u001b[?25l\u001b[?25hdone\n",
            "  Created wheel for emoji: filename=emoji-2.2.0-py3-none-any.whl size=234926 sha256=5f97ee359ee09c0ae7cd472c3113bb4d80a257826c50ccd249b2f0a6f57322cb\n",
            "  Stored in directory: /root/.cache/pip/wheels/f3/e3/f2/1de1c2e3ed742e1df73e0f15d58864e50c7e64f607b548d6cf\n",
            "Successfully built emoji\n",
            "Installing collected packages: emoji, stanza, spacy-stanza\n",
            "Successfully installed emoji-2.2.0 spacy-stanza-1.0.2 stanza-1.4.2\n"
          ]
        }
      ],
      "source": [
        "!pip install spacy-stanza"
      ]
    },
    {
      "cell_type": "code",
      "execution_count": null,
      "metadata": {
        "colab": {
          "base_uri": "https://localhost:8080/"
        },
        "id": "DucUPFRpCDX6",
        "outputId": "e60f9ad4-53b1-43b5-863c-de6e01d80d63"
      },
      "outputs": [
        {
          "output_type": "stream",
          "name": "stdout",
          "text": [
            "# sent_id = 1\n",
            "# text = Mr. Jasper Bauer , Jr, IQCP, 11096 GINGERWOOD WAY, RANCHO CORDOVA ,CA 95670\n",
            "1\tMr.\tMr.\tPROPN\tNNP\tNumber=Sing\t0\troot\t_\t_\n",
            "2\tJasper\tJasper\tPROPN\tNNP\tNumber=Sing\t1\tflat\t_\t_\n",
            "3\tBauer\tBauer\tPROPN\tNNP\tNumber=Sing\t1\tflat\t_\t_\n",
            "4\t,\t,\tPUNCT\t,\t_\t1\tpunct\t_\t_\n",
            "5\tJr\tJr\tPROPN\tNNP\tNumber=Sing\t1\tlist\t_\tSpaceAfter=No\n",
            "6\t,\t,\tPUNCT\t,\t_\t1\tpunct\t_\t_\n",
            "7\tIQCP\tIQCP\tPROPN\tNNP\tNumber=Sing\t1\tlist\t_\tSpaceAfter=No\n",
            "8\t,\t,\tPUNCT\t,\t_\t1\tpunct\t_\t_\n",
            "9\t11096\t11096\tNUM\tCD\tNumForm=Digit|NumType=Card\t7\tlist\t_\t_\n",
            "10\tGINGERWOOD\tgingerwood\tNOUN\tNN\tNumber=Sing\t11\tcompound\t_\t_\n",
            "11\tWAY\tway\tNOUN\tNN\tNumber=Sing\t1\tlist\t_\tSpaceAfter=No\n",
            "12\t,\t,\tPUNCT\t,\t_\t1\tpunct\t_\t_\n",
            "13\tRANCHO\tRANCHO\tPROPN\tNNP\tNumber=Sing\t14\tcompound\t_\t_\n",
            "14\tCORDOVA\tCORDOVA\tPROPN\tNNP\tNumber=Sing\t1\tlist\t_\t_\n",
            "15\t,\t,\tPUNCT\t,\t_\t16\tpunct\t_\tSpaceAfter=No\n",
            "16\tCA\tCA\tPROPN\tNNP\tNumber=Sing\t1\tlist\t_\t_\n",
            "17\t95670\t95670\tNUM\tCD\tNumForm=Digit|NumType=Card\t1\tlist\t_\tSpaceAfter=No\n",
            "\n"
          ]
        }
      ],
      "source": [
        "from spacy_conll import init_parser\n",
        "\n",
        "\n",
        "# Initialise English parser, already including the ConllFormatter as a pipeline component.\n",
        "# Indicate that we want to get the CoNLL headers in the string output.\n",
        "# `use_gpu` and `verbose` are specific to stanza. These keywords arguments are passed onto their Pipeline() initialisation\n",
        "nlp = init_parser(\"en\",\n",
        "                  \"stanza\",\n",
        "                  parser_opts={\"use_gpu\": True, \"verbose\": False}, include_headers=True)\n",
        "# Parse a given string\n",
        "doc = nlp(\"Mr. Jasper Bauer , Jr, IQCP, 11096 GINGERWOOD WAY, RANCHO CORDOVA ,CA 95670\")\n",
        "\n",
        "# Get the CoNLL representation of the whole document, including headers\n",
        "conll = doc._.conll_str\n",
        "print(conll)\n"
      ]
    },
    {
      "cell_type": "code",
      "execution_count": null,
      "metadata": {
        "colab": {
          "base_uri": "https://localhost:8080/"
        },
        "id": "uEtSqIAYl-4k",
        "outputId": "09562da2-e6d4-43a7-e451-675fd1149d40"
      },
      "outputs": [
        {
          "output_type": "stream",
          "name": "stdout",
          "text": [
            "SPACY HELPER MODEL\n",
            "Base model used:  en_core_web_sm\n",
            "Removed components:  ['parser', 'lemmatizer', 'ner']\n",
            "Enabled components:  ['tok2vec', 'tagger', 'attribute_ruler']\n",
            "\n",
            "DEMO SPACY DOC LIST BUILDING...DONE!\n",
            "\n",
            "CoNLL 2003 CONVERSION:\n",
            "\n",
            "\n",
            "DOC TEXT (NOT included in CoNLL 2003, just for demo):  iPhone X is coming. \n",
            "\n",
            "-DOCSTART- -X- -X- O\n",
            "iPhone NNP NNP B-GADGET\n",
            "X NNP NNP L-GADGET\n",
            "is VBZ VBZ O\n",
            "coming VBG VBG O\n",
            ". . . O\n",
            "\n",
            "DOC TEXT (NOT included in CoNLL 2003, just for demo):  Space X is nice. \n",
            "\n",
            "-DOCSTART- -X- -X- O\n",
            "Space NN NN B-BRAND\n",
            "X NNP NNP L-BRAND\n",
            "is VBZ VBZ O\n",
            "nice JJ JJ O\n",
            ". . . O\n"
          ]
        }
      ],
      "source": [
        "import spacy\n",
        "from spacy.training import offsets_to_biluo_tags\n",
        "from spacy.tokens import Span\n",
        "\n",
        "print(\"SPACY HELPER MODEL\")\n",
        "base_model = \"en_core_web_sm\"\n",
        "nlp = spacy.load(base_model)\n",
        "to_disable= ['parser', 'lemmatizer', 'ner']\n",
        "_ = [nlp.remove_pipe(item) for item in to_disable]\n",
        "print(\"Base model used: \", base_model)\n",
        "print(\"Removed components: \", to_disable)\n",
        "print(\"Enabled components: \", nlp.pipe_names)\n",
        "\n",
        "# Assume text is already available as sentences...\n",
        "# so no need for spaCy `sentencizer` or similar\n",
        "print(\"\\nDEMO SPACY DOC LIST BUILDING...\", end=\"\")\n",
        "doc1 = nlp(\"iPhone X is coming.\")\n",
        "doc1.ents = [Span(doc1, 0, 2, label=\"GADGET\")]\n",
        "doc2 = nlp(\"Space X is nice.\")\n",
        "doc2.ents = [Span(doc1, 0, 2, label=\"BRAND\")]\n",
        "docs = [doc1, doc2]\n",
        "print(\"DONE!\")\n",
        "\n",
        "print(\"\\nCoNLL 2003 CONVERSION:\\n\")\n",
        "results = []\n",
        "for doc in docs:\n",
        "    # Preliminary: whole sentence\n",
        "    whole_sentence = doc.text\n",
        "    # 1st item (CoNLL 2003): word\n",
        "    words = [token.text for token in doc]\n",
        "    # 2nd item (CoNLL 2003): POS\n",
        "    pos = [token.tag_ for token in doc]\n",
        "    # 3rd item (CoNLL 2003): syntactic chunk tag\n",
        "    # sct = pos  # Redundant, so will be left out\n",
        "    # 4th item (CoNLL 2003): named entities\n",
        "    spacy_entities = [\n",
        "        (ent.start_char, ent.end_char, ent.label_)\n",
        "        for ent in doc.ents\n",
        "    ]\n",
        "    biluo_entities = offsets_to_biluo_tags(doc, spacy_entities)\n",
        "    results.append((whole_sentence, words, pos, biluo_entities))\n",
        "\n",
        "for result in results:\n",
        "    print(\n",
        "        \"\\nDOC TEXT (NOT included in CoNLL 2003, just for demo): \",\n",
        "        result[0], \"\\n\"\n",
        "    )\n",
        "    print(\"-DOCSTART- -X- -X- O\")\n",
        "    for w,x,y,z in zip(result[1], result[2], result[2], result[3]):\n",
        "        print(w,x,y,z)"
      ]
    },
    {
      "cell_type": "code",
      "execution_count": null,
      "metadata": {
        "id": "fdRfB3BFqmkr"
      },
      "outputs": [],
      "source": [
        "def print_entities(pipeline, text):\n",
        "    \n",
        "    # Create a document \n",
        "    document = pipeline(text)\n",
        "    \n",
        "    # Entity text & label extraction\n",
        "    for entity in document.ents:\n",
        "        print(entity.text + '->', entity.label_)\n",
        "        \n",
        "        \n",
        "def visualize_entities(pipeline, text):\n",
        "    \n",
        "    # Create a document \n",
        "    document = pipeline(text)\n",
        "        \n",
        "    # Show entities in pretty manner\n",
        "    displacy.render(document, jupyter=True, style='ent')"
      ]
    },
    {
      "cell_type": "code",
      "source": [
        "!python -m spacy download en"
      ],
      "metadata": {
        "colab": {
          "base_uri": "https://localhost:8080/"
        },
        "id": "XQVdMid7LrIx",
        "outputId": "b9256f05-21ed-4be8-da71-956948f9c16d"
      },
      "execution_count": null,
      "outputs": [
        {
          "output_type": "stream",
          "name": "stdout",
          "text": [
            "\u001b[38;5;3m⚠ As of spaCy v3.0, shortcuts like 'en' are deprecated. Please use the\n",
            "full pipeline package name 'en_core_web_sm' instead.\u001b[0m\n",
            "Looking in indexes: https://pypi.org/simple, https://us-python.pkg.dev/colab-wheels/public/simple/\n",
            "Collecting en-core-web-sm==3.4.1\n",
            "  Downloading https://github.com/explosion/spacy-models/releases/download/en_core_web_sm-3.4.1/en_core_web_sm-3.4.1-py3-none-any.whl (12.8 MB)\n",
            "\u001b[K     |████████████████████████████████| 12.8 MB 3.1 MB/s \n",
            "\u001b[?25hRequirement already satisfied: spacy<3.5.0,>=3.4.0 in /usr/local/lib/python3.7/dist-packages (from en-core-web-sm==3.4.1) (3.4.3)\n",
            "Requirement already satisfied: typer<0.8.0,>=0.3.0 in /usr/local/lib/python3.7/dist-packages (from spacy<3.5.0,>=3.4.0->en-core-web-sm==3.4.1) (0.7.0)\n",
            "Requirement already satisfied: pydantic!=1.8,!=1.8.1,<1.11.0,>=1.7.4 in /usr/local/lib/python3.7/dist-packages (from spacy<3.5.0,>=3.4.0->en-core-web-sm==3.4.1) (1.10.2)\n",
            "Requirement already satisfied: setuptools in /usr/local/lib/python3.7/dist-packages (from spacy<3.5.0,>=3.4.0->en-core-web-sm==3.4.1) (57.4.0)\n",
            "Requirement already satisfied: wasabi<1.1.0,>=0.9.1 in /usr/local/lib/python3.7/dist-packages (from spacy<3.5.0,>=3.4.0->en-core-web-sm==3.4.1) (0.10.1)\n",
            "Requirement already satisfied: preshed<3.1.0,>=3.0.2 in /usr/local/lib/python3.7/dist-packages (from spacy<3.5.0,>=3.4.0->en-core-web-sm==3.4.1) (3.0.8)\n",
            "Requirement already satisfied: packaging>=20.0 in /usr/local/lib/python3.7/dist-packages (from spacy<3.5.0,>=3.4.0->en-core-web-sm==3.4.1) (21.3)\n",
            "Requirement already satisfied: murmurhash<1.1.0,>=0.28.0 in /usr/local/lib/python3.7/dist-packages (from spacy<3.5.0,>=3.4.0->en-core-web-sm==3.4.1) (1.0.9)\n",
            "Requirement already satisfied: requests<3.0.0,>=2.13.0 in /usr/local/lib/python3.7/dist-packages (from spacy<3.5.0,>=3.4.0->en-core-web-sm==3.4.1) (2.28.1)\n",
            "Requirement already satisfied: pathy>=0.3.5 in /usr/local/lib/python3.7/dist-packages (from spacy<3.5.0,>=3.4.0->en-core-web-sm==3.4.1) (0.8.1)\n",
            "Requirement already satisfied: thinc<8.2.0,>=8.1.0 in /usr/local/lib/python3.7/dist-packages (from spacy<3.5.0,>=3.4.0->en-core-web-sm==3.4.1) (8.1.5)\n",
            "Requirement already satisfied: spacy-loggers<2.0.0,>=1.0.0 in /usr/local/lib/python3.7/dist-packages (from spacy<3.5.0,>=3.4.0->en-core-web-sm==3.4.1) (1.0.3)\n",
            "Requirement already satisfied: langcodes<4.0.0,>=3.2.0 in /usr/local/lib/python3.7/dist-packages (from spacy<3.5.0,>=3.4.0->en-core-web-sm==3.4.1) (3.3.0)\n",
            "Requirement already satisfied: jinja2 in /usr/local/lib/python3.7/dist-packages (from spacy<3.5.0,>=3.4.0->en-core-web-sm==3.4.1) (2.11.3)\n",
            "Requirement already satisfied: typing-extensions<4.2.0,>=3.7.4 in /usr/local/lib/python3.7/dist-packages (from spacy<3.5.0,>=3.4.0->en-core-web-sm==3.4.1) (4.1.1)\n",
            "Requirement already satisfied: catalogue<2.1.0,>=2.0.6 in /usr/local/lib/python3.7/dist-packages (from spacy<3.5.0,>=3.4.0->en-core-web-sm==3.4.1) (2.0.8)\n",
            "Requirement already satisfied: tqdm<5.0.0,>=4.38.0 in /usr/local/lib/python3.7/dist-packages (from spacy<3.5.0,>=3.4.0->en-core-web-sm==3.4.1) (4.64.1)\n",
            "Requirement already satisfied: cymem<2.1.0,>=2.0.2 in /usr/local/lib/python3.7/dist-packages (from spacy<3.5.0,>=3.4.0->en-core-web-sm==3.4.1) (2.0.7)\n",
            "Requirement already satisfied: srsly<3.0.0,>=2.4.3 in /usr/local/lib/python3.7/dist-packages (from spacy<3.5.0,>=3.4.0->en-core-web-sm==3.4.1) (2.4.5)\n",
            "Requirement already satisfied: spacy-legacy<3.1.0,>=3.0.10 in /usr/local/lib/python3.7/dist-packages (from spacy<3.5.0,>=3.4.0->en-core-web-sm==3.4.1) (3.0.10)\n",
            "Requirement already satisfied: numpy>=1.15.0 in /usr/local/lib/python3.7/dist-packages (from spacy<3.5.0,>=3.4.0->en-core-web-sm==3.4.1) (1.21.6)\n",
            "Requirement already satisfied: zipp>=0.5 in /usr/local/lib/python3.7/dist-packages (from catalogue<2.1.0,>=2.0.6->spacy<3.5.0,>=3.4.0->en-core-web-sm==3.4.1) (3.10.0)\n",
            "Requirement already satisfied: pyparsing!=3.0.5,>=2.0.2 in /usr/local/lib/python3.7/dist-packages (from packaging>=20.0->spacy<3.5.0,>=3.4.0->en-core-web-sm==3.4.1) (3.0.9)\n",
            "Requirement already satisfied: smart-open<6.0.0,>=5.2.1 in /usr/local/lib/python3.7/dist-packages (from pathy>=0.3.5->spacy<3.5.0,>=3.4.0->en-core-web-sm==3.4.1) (5.2.1)\n",
            "Requirement already satisfied: idna<4,>=2.5 in /usr/local/lib/python3.7/dist-packages (from requests<3.0.0,>=2.13.0->spacy<3.5.0,>=3.4.0->en-core-web-sm==3.4.1) (2.10)\n",
            "Requirement already satisfied: certifi>=2017.4.17 in /usr/local/lib/python3.7/dist-packages (from requests<3.0.0,>=2.13.0->spacy<3.5.0,>=3.4.0->en-core-web-sm==3.4.1) (2022.9.24)\n",
            "Requirement already satisfied: charset-normalizer<3,>=2 in /usr/local/lib/python3.7/dist-packages (from requests<3.0.0,>=2.13.0->spacy<3.5.0,>=3.4.0->en-core-web-sm==3.4.1) (2.1.1)\n",
            "Requirement already satisfied: urllib3<1.27,>=1.21.1 in /usr/local/lib/python3.7/dist-packages (from requests<3.0.0,>=2.13.0->spacy<3.5.0,>=3.4.0->en-core-web-sm==3.4.1) (1.24.3)\n",
            "Requirement already satisfied: confection<1.0.0,>=0.0.1 in /usr/local/lib/python3.7/dist-packages (from thinc<8.2.0,>=8.1.0->spacy<3.5.0,>=3.4.0->en-core-web-sm==3.4.1) (0.0.3)\n",
            "Requirement already satisfied: blis<0.8.0,>=0.7.8 in /usr/local/lib/python3.7/dist-packages (from thinc<8.2.0,>=8.1.0->spacy<3.5.0,>=3.4.0->en-core-web-sm==3.4.1) (0.7.9)\n",
            "Requirement already satisfied: click<9.0.0,>=7.1.1 in /usr/local/lib/python3.7/dist-packages (from typer<0.8.0,>=0.3.0->spacy<3.5.0,>=3.4.0->en-core-web-sm==3.4.1) (7.1.2)\n",
            "Requirement already satisfied: MarkupSafe>=0.23 in /usr/local/lib/python3.7/dist-packages (from jinja2->spacy<3.5.0,>=3.4.0->en-core-web-sm==3.4.1) (2.0.1)\n",
            "\u001b[38;5;2m✔ Download and installation successful\u001b[0m\n",
            "You can now load the package via spacy.load('en_core_web_sm')\n"
          ]
        }
      ]
    },
    {
      "cell_type": "code",
      "execution_count": null,
      "metadata": {
        "id": "i5RBLpqorH6e"
      },
      "outputs": [],
      "source": [
        "import spacy\n",
        "from spacy import displacy\n",
        "import en_core_web_sm\n",
        "nlp_sm = en_core_web_sm.load()\n",
        "\n",
        "# Load English large model\n",
        "#nlp_sm = spacy.load(\"en_core_web_lg\")"
      ]
    },
    {
      "cell_type": "code",
      "execution_count": null,
      "metadata": {
        "id": "Fo1qOdbGrQEH"
      },
      "outputs": [],
      "source": [
        "short_text = '“Amy Schneider, an engineering manager from Oakland, California, became the first woman and the fourth person on “Jeopardy!” to earn more than $1 million in winnings on Friday’s episode”.'"
      ]
    },
    {
      "cell_type": "code",
      "execution_count": null,
      "metadata": {
        "id": "i_I8WgKjrUDX"
      },
      "outputs": [],
      "source": [
        "long_text = 'Good news for consumers, undoubtedly, and good news also for investors. Apple’s recent results, covering the three months to December 31 2016, saw the company’s chief financial officer Luca Maestri announce: ‘We returned nearly $15 billion to investors through share re-purchases and dividends during the quarter.’ The quarterly dividend itself was 57 cents a share, identical to the dividend for the previous three quarters and up on the 52 cents paid for each of the four quarters before that.Business is brisk at Apple. On January 31, Tim Cook, Apple’s chief executive, said of the last three months of 2016: ‘We’re thrilled to report that our holiday quarter results generated Apple’s highest quarterly revenue ever, and broke multiple records along the way. We sold more iPhones than ever before and set all-time revenue records for iPhone, Services, Mac and Apple Watch'"
      ]
    },
    {
      "cell_type": "code",
      "execution_count": null,
      "metadata": {
        "id": "g5pPqd9LrSXv"
      },
      "outputs": [],
      "source": [
        "addresss = \"Dean. Alex Abadi , Jr, QA, \"\t\"14646 RANCHERO RD, HESPERIA ,CA 92345\""
      ]
    },
    {
      "cell_type": "code",
      "execution_count": null,
      "metadata": {
        "colab": {
          "base_uri": "https://localhost:8080/"
        },
        "id": "_ITWJwylrLYo",
        "outputId": "8e7b4e14-0347-4395-b56e-15a3f3563ac5"
      },
      "outputs": [
        {
          "output_type": "stream",
          "name": "stdout",
          "text": [
            "Amy Schneider-> PERSON\n",
            "Oakland-> GPE\n",
            "California-> GPE\n",
            "first-> ORDINAL\n",
            "fourth-> ORDINAL\n",
            "Jeopardy-> WORK_OF_ART\n",
            "more than $1 million-> MONEY\n",
            "Friday-> DATE\n"
          ]
        }
      ],
      "source": [
        "print_entities(nlp_sm, short_text)"
      ]
    },
    {
      "cell_type": "code",
      "execution_count": null,
      "metadata": {
        "colab": {
          "base_uri": "https://localhost:8080/"
        },
        "id": "Qrw_17xdsWpX",
        "outputId": "16ec0a06-71cb-458a-e767-7b7521e566cd"
      },
      "outputs": [
        {
          "output_type": "stream",
          "name": "stdout",
          "text": [
            "Dean-> PERSON\n",
            "Alex Abadi-> PERSON\n",
            "Jr-> GPE\n",
            "QA-> GPE\n",
            "14646-> DATE\n",
            "RD-> ORG\n",
            "HESPERIA-> ORG\n",
            "CA 92345-> PERSON\n"
          ]
        }
      ],
      "source": [
        "print_entities(nlp_sm, addresss)"
      ]
    },
    {
      "cell_type": "code",
      "execution_count": null,
      "metadata": {
        "colab": {
          "base_uri": "https://localhost:8080/",
          "height": 52
        },
        "id": "hRnGC6ybsZUd",
        "outputId": "6711876f-11b4-4716-9f60-2ffaa69d2815"
      },
      "outputs": [
        {
          "output_type": "display_data",
          "data": {
            "text/plain": [
              "<IPython.core.display.HTML object>"
            ],
            "text/html": [
              "<span class=\"tex2jax_ignore\"><div class=\"entities\" style=\"line-height: 2.5; direction: ltr\">\n",
              "<mark class=\"entity\" style=\"background: #aa9cfc; padding: 0.45em 0.6em; margin: 0 0.25em; line-height: 1; border-radius: 0.35em;\">\n",
              "    Dean\n",
              "    <span style=\"font-size: 0.8em; font-weight: bold; line-height: 1; border-radius: 0.35em; vertical-align: middle; margin-left: 0.5rem\">PERSON</span>\n",
              "</mark>\n",
              ". \n",
              "<mark class=\"entity\" style=\"background: #aa9cfc; padding: 0.45em 0.6em; margin: 0 0.25em; line-height: 1; border-radius: 0.35em;\">\n",
              "    Alex Abadi\n",
              "    <span style=\"font-size: 0.8em; font-weight: bold; line-height: 1; border-radius: 0.35em; vertical-align: middle; margin-left: 0.5rem\">PERSON</span>\n",
              "</mark>\n",
              " , \n",
              "<mark class=\"entity\" style=\"background: #feca74; padding: 0.45em 0.6em; margin: 0 0.25em; line-height: 1; border-radius: 0.35em;\">\n",
              "    Jr\n",
              "    <span style=\"font-size: 0.8em; font-weight: bold; line-height: 1; border-radius: 0.35em; vertical-align: middle; margin-left: 0.5rem\">GPE</span>\n",
              "</mark>\n",
              ", \n",
              "<mark class=\"entity\" style=\"background: #feca74; padding: 0.45em 0.6em; margin: 0 0.25em; line-height: 1; border-radius: 0.35em;\">\n",
              "    QA\n",
              "    <span style=\"font-size: 0.8em; font-weight: bold; line-height: 1; border-radius: 0.35em; vertical-align: middle; margin-left: 0.5rem\">GPE</span>\n",
              "</mark>\n",
              ", \n",
              "<mark class=\"entity\" style=\"background: #bfe1d9; padding: 0.45em 0.6em; margin: 0 0.25em; line-height: 1; border-radius: 0.35em;\">\n",
              "    14646\n",
              "    <span style=\"font-size: 0.8em; font-weight: bold; line-height: 1; border-radius: 0.35em; vertical-align: middle; margin-left: 0.5rem\">DATE</span>\n",
              "</mark>\n",
              " RANCHERO \n",
              "<mark class=\"entity\" style=\"background: #7aecec; padding: 0.45em 0.6em; margin: 0 0.25em; line-height: 1; border-radius: 0.35em;\">\n",
              "    RD\n",
              "    <span style=\"font-size: 0.8em; font-weight: bold; line-height: 1; border-radius: 0.35em; vertical-align: middle; margin-left: 0.5rem\">ORG</span>\n",
              "</mark>\n",
              ", \n",
              "<mark class=\"entity\" style=\"background: #7aecec; padding: 0.45em 0.6em; margin: 0 0.25em; line-height: 1; border-radius: 0.35em;\">\n",
              "    HESPERIA\n",
              "    <span style=\"font-size: 0.8em; font-weight: bold; line-height: 1; border-radius: 0.35em; vertical-align: middle; margin-left: 0.5rem\">ORG</span>\n",
              "</mark>\n",
              " ,\n",
              "<mark class=\"entity\" style=\"background: #aa9cfc; padding: 0.45em 0.6em; margin: 0 0.25em; line-height: 1; border-radius: 0.35em;\">\n",
              "    CA 92345\n",
              "    <span style=\"font-size: 0.8em; font-weight: bold; line-height: 1; border-radius: 0.35em; vertical-align: middle; margin-left: 0.5rem\">PERSON</span>\n",
              "</mark>\n",
              "</div></span>"
            ]
          },
          "metadata": {}
        }
      ],
      "source": [
        "visualize_entities(nlp_sm, addresss)"
      ]
    },
    {
      "cell_type": "code",
      "execution_count": null,
      "metadata": {
        "colab": {
          "base_uri": "https://localhost:8080/",
          "height": 52
        },
        "id": "kfKkp5HBm6WO",
        "outputId": "fa407c74-dd56-4dff-bd4d-bf728a87d434"
      },
      "outputs": [
        {
          "output_type": "display_data",
          "data": {
            "text/plain": [
              "<IPython.core.display.HTML object>"
            ],
            "text/html": [
              "<span class=\"tex2jax_ignore\"><div class=\"entities\" style=\"line-height: 2.5; direction: ltr\">“\n",
              "<mark class=\"entity\" style=\"background: #aa9cfc; padding: 0.45em 0.6em; margin: 0 0.25em; line-height: 1; border-radius: 0.35em;\">\n",
              "    Amy Schneider\n",
              "    <span style=\"font-size: 0.8em; font-weight: bold; line-height: 1; border-radius: 0.35em; vertical-align: middle; margin-left: 0.5rem\">PERSON</span>\n",
              "</mark>\n",
              ", an engineering manager from \n",
              "<mark class=\"entity\" style=\"background: #feca74; padding: 0.45em 0.6em; margin: 0 0.25em; line-height: 1; border-radius: 0.35em;\">\n",
              "    Oakland\n",
              "    <span style=\"font-size: 0.8em; font-weight: bold; line-height: 1; border-radius: 0.35em; vertical-align: middle; margin-left: 0.5rem\">GPE</span>\n",
              "</mark>\n",
              ", \n",
              "<mark class=\"entity\" style=\"background: #feca74; padding: 0.45em 0.6em; margin: 0 0.25em; line-height: 1; border-radius: 0.35em;\">\n",
              "    California\n",
              "    <span style=\"font-size: 0.8em; font-weight: bold; line-height: 1; border-radius: 0.35em; vertical-align: middle; margin-left: 0.5rem\">GPE</span>\n",
              "</mark>\n",
              ", became the \n",
              "<mark class=\"entity\" style=\"background: #e4e7d2; padding: 0.45em 0.6em; margin: 0 0.25em; line-height: 1; border-radius: 0.35em;\">\n",
              "    first\n",
              "    <span style=\"font-size: 0.8em; font-weight: bold; line-height: 1; border-radius: 0.35em; vertical-align: middle; margin-left: 0.5rem\">ORDINAL</span>\n",
              "</mark>\n",
              " woman and the \n",
              "<mark class=\"entity\" style=\"background: #e4e7d2; padding: 0.45em 0.6em; margin: 0 0.25em; line-height: 1; border-radius: 0.35em;\">\n",
              "    fourth\n",
              "    <span style=\"font-size: 0.8em; font-weight: bold; line-height: 1; border-radius: 0.35em; vertical-align: middle; margin-left: 0.5rem\">ORDINAL</span>\n",
              "</mark>\n",
              " person on “\n",
              "<mark class=\"entity\" style=\"background: #f0d0ff; padding: 0.45em 0.6em; margin: 0 0.25em; line-height: 1; border-radius: 0.35em;\">\n",
              "    Jeopardy\n",
              "    <span style=\"font-size: 0.8em; font-weight: bold; line-height: 1; border-radius: 0.35em; vertical-align: middle; margin-left: 0.5rem\">WORK_OF_ART</span>\n",
              "</mark>\n",
              "!” to earn \n",
              "<mark class=\"entity\" style=\"background: #e4e7d2; padding: 0.45em 0.6em; margin: 0 0.25em; line-height: 1; border-radius: 0.35em;\">\n",
              "    more than $1 million\n",
              "    <span style=\"font-size: 0.8em; font-weight: bold; line-height: 1; border-radius: 0.35em; vertical-align: middle; margin-left: 0.5rem\">MONEY</span>\n",
              "</mark>\n",
              " in winnings on \n",
              "<mark class=\"entity\" style=\"background: #bfe1d9; padding: 0.45em 0.6em; margin: 0 0.25em; line-height: 1; border-radius: 0.35em;\">\n",
              "    Friday\n",
              "    <span style=\"font-size: 0.8em; font-weight: bold; line-height: 1; border-radius: 0.35em; vertical-align: middle; margin-left: 0.5rem\">DATE</span>\n",
              "</mark>\n",
              "’s episode”.</div></span>"
            ]
          },
          "metadata": {}
        }
      ],
      "source": [
        "visualize_entities(nlp_sm, short_text)"
      ]
    },
    {
      "cell_type": "code",
      "execution_count": null,
      "metadata": {
        "colab": {
          "base_uri": "https://localhost:8080/"
        },
        "id": "sBZ2Y6pHoXQ1",
        "outputId": "da574c80-3470-447f-f7fb-f69a5f39ceb1"
      },
      "outputs": [
        {
          "output_type": "stream",
          "name": "stdout",
          "text": [
            "Apple’s-> ORG\n",
            "the three months to December 31 2016-> DATE\n",
            "Maestri-> PERSON\n",
            "nearly $15 billion-> MONEY\n",
            "the quarter-> DATE\n",
            "quarterly-> DATE\n",
            "57 cents-> MONEY\n",
            "the previous three quarters-> DATE\n",
            "52 cents-> MONEY\n",
            "the four quarters-> DATE\n",
            "Apple-> ORG\n",
            "January 31-> DATE\n",
            "Tim Cook-> PERSON\n",
            "Apple’s-> ORG\n",
            "the last three months of 2016-> DATE\n",
            "our holiday quarter-> DATE\n",
            "Apple-> ORG\n",
            "quarterly-> DATE\n",
            "iPhones-> ORG\n",
            "iPhone, Services,-> ORG\n",
            "Mac-> ORG\n",
            "Apple Watch-> ORG\n"
          ]
        }
      ],
      "source": [
        "print_entities(nlp_sm, long_text)"
      ]
    },
    {
      "cell_type": "code",
      "execution_count": null,
      "metadata": {
        "colab": {
          "base_uri": "https://localhost:8080/",
          "height": 52
        },
        "id": "gDmFMhMNipee",
        "outputId": "0f8b8929-7498-41fc-8fde-265168e40511"
      },
      "outputs": [
        {
          "output_type": "display_data",
          "data": {
            "text/plain": [
              "<IPython.core.display.HTML object>"
            ],
            "text/html": [
              "<span class=\"tex2jax_ignore\"><div class=\"entities\" style=\"line-height: 2.5; direction: ltr\">“\n",
              "<mark class=\"entity\" style=\"background: #aa9cfc; padding: 0.45em 0.6em; margin: 0 0.25em; line-height: 1; border-radius: 0.35em;\">\n",
              "    Amy Schneider\n",
              "    <span style=\"font-size: 0.8em; font-weight: bold; line-height: 1; border-radius: 0.35em; vertical-align: middle; margin-left: 0.5rem\">PERSON</span>\n",
              "</mark>\n",
              ", an engineering manager from \n",
              "<mark class=\"entity\" style=\"background: #feca74; padding: 0.45em 0.6em; margin: 0 0.25em; line-height: 1; border-radius: 0.35em;\">\n",
              "    Oakland\n",
              "    <span style=\"font-size: 0.8em; font-weight: bold; line-height: 1; border-radius: 0.35em; vertical-align: middle; margin-left: 0.5rem\">GPE</span>\n",
              "</mark>\n",
              ", \n",
              "<mark class=\"entity\" style=\"background: #feca74; padding: 0.45em 0.6em; margin: 0 0.25em; line-height: 1; border-radius: 0.35em;\">\n",
              "    California\n",
              "    <span style=\"font-size: 0.8em; font-weight: bold; line-height: 1; border-radius: 0.35em; vertical-align: middle; margin-left: 0.5rem\">GPE</span>\n",
              "</mark>\n",
              ", became the \n",
              "<mark class=\"entity\" style=\"background: #e4e7d2; padding: 0.45em 0.6em; margin: 0 0.25em; line-height: 1; border-radius: 0.35em;\">\n",
              "    first\n",
              "    <span style=\"font-size: 0.8em; font-weight: bold; line-height: 1; border-radius: 0.35em; vertical-align: middle; margin-left: 0.5rem\">ORDINAL</span>\n",
              "</mark>\n",
              " woman and the \n",
              "<mark class=\"entity\" style=\"background: #e4e7d2; padding: 0.45em 0.6em; margin: 0 0.25em; line-height: 1; border-radius: 0.35em;\">\n",
              "    fourth\n",
              "    <span style=\"font-size: 0.8em; font-weight: bold; line-height: 1; border-radius: 0.35em; vertical-align: middle; margin-left: 0.5rem\">ORDINAL</span>\n",
              "</mark>\n",
              " person on “\n",
              "<mark class=\"entity\" style=\"background: #f0d0ff; padding: 0.45em 0.6em; margin: 0 0.25em; line-height: 1; border-radius: 0.35em;\">\n",
              "    Jeopardy\n",
              "    <span style=\"font-size: 0.8em; font-weight: bold; line-height: 1; border-radius: 0.35em; vertical-align: middle; margin-left: 0.5rem\">WORK_OF_ART</span>\n",
              "</mark>\n",
              "!” to earn \n",
              "<mark class=\"entity\" style=\"background: #e4e7d2; padding: 0.45em 0.6em; margin: 0 0.25em; line-height: 1; border-radius: 0.35em;\">\n",
              "    more than $1 million\n",
              "    <span style=\"font-size: 0.8em; font-weight: bold; line-height: 1; border-radius: 0.35em; vertical-align: middle; margin-left: 0.5rem\">MONEY</span>\n",
              "</mark>\n",
              " in winnings on \n",
              "<mark class=\"entity\" style=\"background: #bfe1d9; padding: 0.45em 0.6em; margin: 0 0.25em; line-height: 1; border-radius: 0.35em;\">\n",
              "    Friday\n",
              "    <span style=\"font-size: 0.8em; font-weight: bold; line-height: 1; border-radius: 0.35em; vertical-align: middle; margin-left: 0.5rem\">DATE</span>\n",
              "</mark>\n",
              "’s episode”.</div></span>"
            ]
          },
          "metadata": {}
        }
      ],
      "source": [
        "visualize_entities(nlp_sm, short_text)"
      ]
    },
    {
      "cell_type": "code",
      "source": [
        "!pip install punkt"
      ],
      "metadata": {
        "id": "9H-IOv5H7xih",
        "colab": {
          "base_uri": "https://localhost:8080/"
        },
        "outputId": "a0c3e742-65fb-48d0-c63d-b892f12c7887"
      },
      "execution_count": null,
      "outputs": [
        {
          "output_type": "stream",
          "name": "stdout",
          "text": [
            "Looking in indexes: https://pypi.org/simple, https://us-python.pkg.dev/colab-wheels/public/simple/\n",
            "\u001b[31mERROR: Could not find a version that satisfies the requirement punkt (from versions: none)\u001b[0m\n",
            "\u001b[31mERROR: No matching distribution found for punkt\u001b[0m\n"
          ]
        }
      ]
    },
    {
      "cell_type": "code",
      "source": [
        "import spacy\n",
        "nlp=spacy.load('en_core_web_sm')\n",
        "nlp.pipe_names\n",
        "['tok2vec', 'tagger', 'parser', 'attribute_ruler', 'lemmatizer', 'ner']\n",
        "\n",
        "article_text=\"\"\"India that previously comprised only a handful of\n",
        " players in the e-commerce space, is now home to many biggies and giants\n",
        " battling out with each other to reach the top. This is thanks to the \n",
        "overwhelming internet and smartphone penetration coupled with the \n",
        "ever-increasing digital adoption across the country. These new-age \n",
        "innovations not only gave emerging startups a unique platform to deliver \n",
        "seamless shopping experiences but also provided brick and mortar stores \n",
        "with a level-playing field to begin their online journeys without leaving\n",
        " their offline legacies.\n",
        "... European authorities fined Google a record $5.1 billion on Wednesday\n",
        " for abusing its power in the mobile phone market and ordered the company to\n",
        " alter its practices.\n",
        "... Prime Minister Jacinda Ardern has claimed that New Zealand had won a \n",
        "big\n",
        "battle over the spread of coronavirus. Her words came as the country begins \n",
        "to exit from its lockdown.\n",
        "... never-seen transformation to the current e-commerce ecosystem while \n",
        "addressing all the existing e-commerce worries such as counterfeiting. \"\"\""
      ],
      "metadata": {
        "id": "-AMMr0QO7xkm"
      },
      "execution_count": null,
      "outputs": []
    },
    {
      "cell_type": "code",
      "source": [
        "doc=nlp(article_text)"
      ],
      "metadata": {
        "id": "5nOAm0He7xmt"
      },
      "execution_count": null,
      "outputs": []
    },
    {
      "cell_type": "code",
      "source": [
        "for ent in doc.ents:\n",
        "  print(ent.text,ent.label_)"
      ],
      "metadata": {
        "id": "sNjnm6gG7xpz",
        "colab": {
          "base_uri": "https://localhost:8080/"
        },
        "outputId": "4cbf7e28-aa53-481f-89e7-99808feb9051"
      },
      "execution_count": null,
      "outputs": [
        {
          "output_type": "stream",
          "name": "stdout",
          "text": [
            "India GPE\n",
            "European NORP\n",
            "Google ORG\n",
            "$5.1 billion MONEY\n",
            "Wednesday\n",
            "  DATE\n",
            "Jacinda Ardern PERSON\n",
            "New Zealand GPE\n"
          ]
        }
      ]
    },
    {
      "cell_type": "code",
      "source": [],
      "metadata": {
        "id": "garbvtib1lT2"
      },
      "execution_count": null,
      "outputs": []
    },
    {
      "cell_type": "markdown",
      "source": [
        "#Name Entity Recognition using BERT \n",
        "\n",
        "a. We need to customize our dataset into NER.csv file\n"
      ],
      "metadata": {
        "id": "8lKrQdqPCSEc"
      }
    },
    {
      "cell_type": "code",
      "source": [
        "!pip install transformers"
      ],
      "metadata": {
        "colab": {
          "base_uri": "https://localhost:8080/"
        },
        "id": "P6ovO8qIDuty",
        "outputId": "daacccfd-a885-444d-b869-2374ab3f538e"
      },
      "execution_count": 253,
      "outputs": [
        {
          "output_type": "stream",
          "name": "stdout",
          "text": [
            "Looking in indexes: https://pypi.org/simple, https://us-python.pkg.dev/colab-wheels/public/simple/\n",
            "Requirement already satisfied: transformers in /usr/local/lib/python3.7/dist-packages (4.24.0)\n",
            "Requirement already satisfied: pyyaml>=5.1 in /usr/local/lib/python3.7/dist-packages (from transformers) (6.0)\n",
            "Requirement already satisfied: filelock in /usr/local/lib/python3.7/dist-packages (from transformers) (3.8.0)\n",
            "Requirement already satisfied: regex!=2019.12.17 in /usr/local/lib/python3.7/dist-packages (from transformers) (2022.6.2)\n",
            "Requirement already satisfied: packaging>=20.0 in /usr/local/lib/python3.7/dist-packages (from transformers) (21.3)\n",
            "Requirement already satisfied: tqdm>=4.27 in /usr/local/lib/python3.7/dist-packages (from transformers) (4.64.1)\n",
            "Requirement already satisfied: importlib-metadata in /usr/local/lib/python3.7/dist-packages (from transformers) (4.13.0)\n",
            "Requirement already satisfied: tokenizers!=0.11.3,<0.14,>=0.11.1 in /usr/local/lib/python3.7/dist-packages (from transformers) (0.13.2)\n",
            "Requirement already satisfied: numpy>=1.17 in /usr/local/lib/python3.7/dist-packages (from transformers) (1.21.6)\n",
            "Requirement already satisfied: requests in /usr/local/lib/python3.7/dist-packages (from transformers) (2.23.0)\n",
            "Requirement already satisfied: huggingface-hub<1.0,>=0.10.0 in /usr/local/lib/python3.7/dist-packages (from transformers) (0.11.0)\n",
            "Requirement already satisfied: typing-extensions>=3.7.4.3 in /usr/local/lib/python3.7/dist-packages (from huggingface-hub<1.0,>=0.10.0->transformers) (4.1.1)\n",
            "Requirement already satisfied: pyparsing!=3.0.5,>=2.0.2 in /usr/local/lib/python3.7/dist-packages (from packaging>=20.0->transformers) (3.0.9)\n",
            "Requirement already satisfied: zipp>=0.5 in /usr/local/lib/python3.7/dist-packages (from importlib-metadata->transformers) (3.10.0)\n",
            "Requirement already satisfied: certifi>=2017.4.17 in /usr/local/lib/python3.7/dist-packages (from requests->transformers) (2022.9.24)\n",
            "Requirement already satisfied: idna<3,>=2.5 in /usr/local/lib/python3.7/dist-packages (from requests->transformers) (2.10)\n",
            "Requirement already satisfied: chardet<4,>=3.0.2 in /usr/local/lib/python3.7/dist-packages (from requests->transformers) (3.0.4)\n",
            "Requirement already satisfied: urllib3!=1.25.0,!=1.25.1,<1.26,>=1.21.1 in /usr/local/lib/python3.7/dist-packages (from requests->transformers) (1.25.11)\n"
          ]
        }
      ]
    },
    {
      "cell_type": "code",
      "source": [
        "!pip install seqeval==0.0.5"
      ],
      "metadata": {
        "colab": {
          "base_uri": "https://localhost:8080/"
        },
        "id": "1Y9I_NdiEjAd",
        "outputId": "107e116d-6356-48c9-9a72-633ca6e57a2a"
      },
      "execution_count": 86,
      "outputs": [
        {
          "output_type": "stream",
          "name": "stdout",
          "text": [
            "Looking in indexes: https://pypi.org/simple, https://us-python.pkg.dev/colab-wheels/public/simple/\n",
            "Requirement already satisfied: seqeval==0.0.5 in /usr/local/lib/python3.7/dist-packages (0.0.5)\n",
            "Requirement already satisfied: numpy>=1.14.0 in /usr/local/lib/python3.7/dist-packages (from seqeval==0.0.5) (1.21.6)\n"
          ]
        }
      ]
    },
    {
      "cell_type": "code",
      "source": [
        "import pandas as pd\n",
        "import numpy as np\n",
        "from tqdm import tqdm, trange\n",
        "\n",
        "data = pd.read_csv(\"ner_dataset.csv\", encoding=\"latin1\").fillna(method=\"ffill\")\n",
        "data.tail(10)"
      ],
      "metadata": {
        "colab": {
          "base_uri": "https://localhost:8080/",
          "height": 363
        },
        "id": "FKAgxPb_CX6Y",
        "outputId": "3eb7d734-abd5-4218-9fe2-a7b0cace6703"
      },
      "execution_count": 254,
      "outputs": [
        {
          "output_type": "execute_result",
          "data": {
            "text/plain": [
              "      Sentence #     Word POS       Tag\n",
              "89  Sentence: 10    27106   N  USAD_ZIP\n",
              "90  Sentence: 10    27106   N  USAD_ZIP\n",
              "91  Sentence: 11     2684   N  USAD_SNO\n",
              "92  Sentence: 11    SAINT   W  USAD_SNM\n",
              "93  Sentence: 11    JOHNS   W  USAD_SNM\n",
              "94  Sentence: 11       PL   F  USAD_SFX\n",
              "95  Sentence: 11  WINSTON   W  USAD_CTY\n",
              "96  Sentence: 11    SALEM   W  USAD_CTY\n",
              "97  Sentence: 11       NC   T  USAD_STA\n",
              "98  Sentence: 11    27106   N  USAD_ZIP"
            ],
            "text/html": [
              "\n",
              "  <div id=\"df-6f8ab8d3-fa2c-4403-9c96-6ae8da7dfb25\">\n",
              "    <div class=\"colab-df-container\">\n",
              "      <div>\n",
              "<style scoped>\n",
              "    .dataframe tbody tr th:only-of-type {\n",
              "        vertical-align: middle;\n",
              "    }\n",
              "\n",
              "    .dataframe tbody tr th {\n",
              "        vertical-align: top;\n",
              "    }\n",
              "\n",
              "    .dataframe thead th {\n",
              "        text-align: right;\n",
              "    }\n",
              "</style>\n",
              "<table border=\"1\" class=\"dataframe\">\n",
              "  <thead>\n",
              "    <tr style=\"text-align: right;\">\n",
              "      <th></th>\n",
              "      <th>Sentence #</th>\n",
              "      <th>Word</th>\n",
              "      <th>POS</th>\n",
              "      <th>Tag</th>\n",
              "    </tr>\n",
              "  </thead>\n",
              "  <tbody>\n",
              "    <tr>\n",
              "      <th>89</th>\n",
              "      <td>Sentence: 10</td>\n",
              "      <td>27106</td>\n",
              "      <td>N</td>\n",
              "      <td>USAD_ZIP</td>\n",
              "    </tr>\n",
              "    <tr>\n",
              "      <th>90</th>\n",
              "      <td>Sentence: 10</td>\n",
              "      <td>27106</td>\n",
              "      <td>N</td>\n",
              "      <td>USAD_ZIP</td>\n",
              "    </tr>\n",
              "    <tr>\n",
              "      <th>91</th>\n",
              "      <td>Sentence: 11</td>\n",
              "      <td>2684</td>\n",
              "      <td>N</td>\n",
              "      <td>USAD_SNO</td>\n",
              "    </tr>\n",
              "    <tr>\n",
              "      <th>92</th>\n",
              "      <td>Sentence: 11</td>\n",
              "      <td>SAINT</td>\n",
              "      <td>W</td>\n",
              "      <td>USAD_SNM</td>\n",
              "    </tr>\n",
              "    <tr>\n",
              "      <th>93</th>\n",
              "      <td>Sentence: 11</td>\n",
              "      <td>JOHNS</td>\n",
              "      <td>W</td>\n",
              "      <td>USAD_SNM</td>\n",
              "    </tr>\n",
              "    <tr>\n",
              "      <th>94</th>\n",
              "      <td>Sentence: 11</td>\n",
              "      <td>PL</td>\n",
              "      <td>F</td>\n",
              "      <td>USAD_SFX</td>\n",
              "    </tr>\n",
              "    <tr>\n",
              "      <th>95</th>\n",
              "      <td>Sentence: 11</td>\n",
              "      <td>WINSTON</td>\n",
              "      <td>W</td>\n",
              "      <td>USAD_CTY</td>\n",
              "    </tr>\n",
              "    <tr>\n",
              "      <th>96</th>\n",
              "      <td>Sentence: 11</td>\n",
              "      <td>SALEM</td>\n",
              "      <td>W</td>\n",
              "      <td>USAD_CTY</td>\n",
              "    </tr>\n",
              "    <tr>\n",
              "      <th>97</th>\n",
              "      <td>Sentence: 11</td>\n",
              "      <td>NC</td>\n",
              "      <td>T</td>\n",
              "      <td>USAD_STA</td>\n",
              "    </tr>\n",
              "    <tr>\n",
              "      <th>98</th>\n",
              "      <td>Sentence: 11</td>\n",
              "      <td>27106</td>\n",
              "      <td>N</td>\n",
              "      <td>USAD_ZIP</td>\n",
              "    </tr>\n",
              "  </tbody>\n",
              "</table>\n",
              "</div>\n",
              "      <button class=\"colab-df-convert\" onclick=\"convertToInteractive('df-6f8ab8d3-fa2c-4403-9c96-6ae8da7dfb25')\"\n",
              "              title=\"Convert this dataframe to an interactive table.\"\n",
              "              style=\"display:none;\">\n",
              "        \n",
              "  <svg xmlns=\"http://www.w3.org/2000/svg\" height=\"24px\"viewBox=\"0 0 24 24\"\n",
              "       width=\"24px\">\n",
              "    <path d=\"M0 0h24v24H0V0z\" fill=\"none\"/>\n",
              "    <path d=\"M18.56 5.44l.94 2.06.94-2.06 2.06-.94-2.06-.94-.94-2.06-.94 2.06-2.06.94zm-11 1L8.5 8.5l.94-2.06 2.06-.94-2.06-.94L8.5 2.5l-.94 2.06-2.06.94zm10 10l.94 2.06.94-2.06 2.06-.94-2.06-.94-.94-2.06-.94 2.06-2.06.94z\"/><path d=\"M17.41 7.96l-1.37-1.37c-.4-.4-.92-.59-1.43-.59-.52 0-1.04.2-1.43.59L10.3 9.45l-7.72 7.72c-.78.78-.78 2.05 0 2.83L4 21.41c.39.39.9.59 1.41.59.51 0 1.02-.2 1.41-.59l7.78-7.78 2.81-2.81c.8-.78.8-2.07 0-2.86zM5.41 20L4 18.59l7.72-7.72 1.47 1.35L5.41 20z\"/>\n",
              "  </svg>\n",
              "      </button>\n",
              "      \n",
              "  <style>\n",
              "    .colab-df-container {\n",
              "      display:flex;\n",
              "      flex-wrap:wrap;\n",
              "      gap: 12px;\n",
              "    }\n",
              "\n",
              "    .colab-df-convert {\n",
              "      background-color: #E8F0FE;\n",
              "      border: none;\n",
              "      border-radius: 50%;\n",
              "      cursor: pointer;\n",
              "      display: none;\n",
              "      fill: #1967D2;\n",
              "      height: 32px;\n",
              "      padding: 0 0 0 0;\n",
              "      width: 32px;\n",
              "    }\n",
              "\n",
              "    .colab-df-convert:hover {\n",
              "      background-color: #E2EBFA;\n",
              "      box-shadow: 0px 1px 2px rgba(60, 64, 67, 0.3), 0px 1px 3px 1px rgba(60, 64, 67, 0.15);\n",
              "      fill: #174EA6;\n",
              "    }\n",
              "\n",
              "    [theme=dark] .colab-df-convert {\n",
              "      background-color: #3B4455;\n",
              "      fill: #D2E3FC;\n",
              "    }\n",
              "\n",
              "    [theme=dark] .colab-df-convert:hover {\n",
              "      background-color: #434B5C;\n",
              "      box-shadow: 0px 1px 3px 1px rgba(0, 0, 0, 0.15);\n",
              "      filter: drop-shadow(0px 1px 2px rgba(0, 0, 0, 0.3));\n",
              "      fill: #FFFFFF;\n",
              "    }\n",
              "  </style>\n",
              "\n",
              "      <script>\n",
              "        const buttonEl =\n",
              "          document.querySelector('#df-6f8ab8d3-fa2c-4403-9c96-6ae8da7dfb25 button.colab-df-convert');\n",
              "        buttonEl.style.display =\n",
              "          google.colab.kernel.accessAllowed ? 'block' : 'none';\n",
              "\n",
              "        async function convertToInteractive(key) {\n",
              "          const element = document.querySelector('#df-6f8ab8d3-fa2c-4403-9c96-6ae8da7dfb25');\n",
              "          const dataTable =\n",
              "            await google.colab.kernel.invokeFunction('convertToInteractive',\n",
              "                                                     [key], {});\n",
              "          if (!dataTable) return;\n",
              "\n",
              "          const docLinkHtml = 'Like what you see? Visit the ' +\n",
              "            '<a target=\"_blank\" href=https://colab.research.google.com/notebooks/data_table.ipynb>data table notebook</a>'\n",
              "            + ' to learn more about interactive tables.';\n",
              "          element.innerHTML = '';\n",
              "          dataTable['output_type'] = 'display_data';\n",
              "          await google.colab.output.renderOutput(dataTable, element);\n",
              "          const docLink = document.createElement('div');\n",
              "          docLink.innerHTML = docLinkHtml;\n",
              "          element.appendChild(docLink);\n",
              "        }\n",
              "      </script>\n",
              "    </div>\n",
              "  </div>\n",
              "  "
            ]
          },
          "metadata": {},
          "execution_count": 254
        }
      ]
    },
    {
      "cell_type": "code",
      "source": [
        "class SentenceGetter(object):\n",
        "\n",
        "    def __init__(self, data):\n",
        "        self.n_sent = 1\n",
        "        self.data = data\n",
        "        self.empty = False\n",
        "        agg_func = lambda s: [(w, p, t) for w, p, t in zip(s[\"Word\"].values.tolist(),\n",
        "                                                           s[\"POS\"].values.tolist(),\n",
        "                                                           s[\"Tag\"].values.tolist())]\n",
        "        self.grouped = self.data.groupby(\"Sentence #\").apply(agg_func)\n",
        "        self.sentences = [s for s in self.grouped]\n",
        "\n",
        "    def get_next(self):\n",
        "        try:\n",
        "            s = self.grouped[\"Sentence: {}\".format(self.n_sent)]\n",
        "            self.n_sent += 1\n",
        "            return s\n",
        "        except:\n",
        "            return None\n"
      ],
      "metadata": {
        "id": "FpqaOjN5CaOy"
      },
      "execution_count": 255,
      "outputs": []
    },
    {
      "cell_type": "code",
      "source": [
        "class SentenceGetter(object):\n",
        "\n",
        "    def __init__(self, data):\n",
        "        self.n_sent = 1\n",
        "        self.data = data\n",
        "        self.empty = False\n",
        "        agg_func = lambda s: [(w, p, t) for w, p, t in zip(s[\"Word\"].values.tolist(),\n",
        "                                                           s[\"POS\"].values.tolist(),\n",
        "                                                           s[\"Tag\"].values.tolist())]\n",
        "        self.grouped = self.data.groupby(\"Sentence #\").apply(agg_func)\n",
        "        self.sentences = [s for s in self.grouped]\n",
        "\n",
        "    def get_next(self):\n",
        "        try:\n",
        "            s = self.grouped[\"Sentence: {}\".format(self.n_sent)]\n",
        "            self.n_sent += 1\n",
        "            return s\n",
        "        except:\n",
        "            return None\n"
      ],
      "metadata": {
        "id": "AwBK7Ve8CeeK"
      },
      "execution_count": 256,
      "outputs": []
    },
    {
      "cell_type": "code",
      "source": [
        "getter = SentenceGetter(data)\n"
      ],
      "metadata": {
        "id": "k6FKEY64CjLe"
      },
      "execution_count": 257,
      "outputs": []
    },
    {
      "cell_type": "code",
      "source": [
        "sentences = [[word[0] for word in sentence] for sentence in getter.sentences]\n",
        "sentences[0]\n"
      ],
      "metadata": {
        "colab": {
          "base_uri": "https://localhost:8080/"
        },
        "id": "vckeRfdyCksm",
        "outputId": "4691d955-59cf-48e3-d9fe-5b45b2327485"
      },
      "execution_count": 258,
      "outputs": [
        {
          "output_type": "execute_result",
          "data": {
            "text/plain": [
              "['1701',\n",
              " 'Westpark',\n",
              " 'Drive',\n",
              " 'Apt',\n",
              " '110',\n",
              " 'Little',\n",
              " 'Rock',\n",
              " 'Arkansas',\n",
              " '72204',\n",
              " '72204']"
            ]
          },
          "metadata": {},
          "execution_count": 258
        }
      ]
    },
    {
      "cell_type": "code",
      "source": [
        "labels = [[s[2] for s in sentence] for sentence in getter.sentences]\n",
        "print(labels[0])\n"
      ],
      "metadata": {
        "colab": {
          "base_uri": "https://localhost:8080/"
        },
        "id": "wH3rgOQQCmGb",
        "outputId": "22d379a7-b7fe-472e-db00-a07565a2ab50"
      },
      "execution_count": 259,
      "outputs": [
        {
          "output_type": "stream",
          "name": "stdout",
          "text": [
            "['USAD_SNO', 'USAD_SNM', 'USAD_SFX', 'USAD_APN', 'USAD_ANO', 'USAD_CTY', 'USAD_CTY', 'USAD_STA', 'USAD_ZIP', 'USAD_ZIP']\n"
          ]
        }
      ]
    },
    {
      "cell_type": "code",
      "source": [
        "tag_values = list(set(data[\"Tag\"].values))\n",
        "tag_values.append(\"PAD\")\n",
        "tag2idx = {t: i for i, t in enumerate(tag_values)}\n"
      ],
      "metadata": {
        "id": "O4YNkbYXCopL"
      },
      "execution_count": 260,
      "outputs": []
    },
    {
      "cell_type": "code",
      "source": [
        "import torch\n",
        "from torch.utils.data import TensorDataset, DataLoader, RandomSampler, SequentialSampler\n",
        "from transformers import BertTokenizer, BertConfig\n",
        "\n",
        "from keras_preprocessing.sequence import pad_sequences\n",
        "from sklearn.model_selection import train_test_split\n",
        "\n",
        "torch.__version__\n"
      ],
      "metadata": {
        "colab": {
          "base_uri": "https://localhost:8080/",
          "height": 35
        },
        "id": "8HJV_d-6CqOf",
        "outputId": "b804a70a-b5d1-4a5d-e6e8-58b5d2b036ea"
      },
      "execution_count": 261,
      "outputs": [
        {
          "output_type": "execute_result",
          "data": {
            "text/plain": [
              "'1.12.1+cu113'"
            ],
            "application/vnd.google.colaboratory.intrinsic+json": {
              "type": "string"
            }
          },
          "metadata": {},
          "execution_count": 261
        }
      ]
    },
    {
      "cell_type": "code",
      "source": [
        "MAX_LEN = 75\n",
        "bs = 32\n"
      ],
      "metadata": {
        "id": "tnqgdM2GCrsR"
      },
      "execution_count": 262,
      "outputs": []
    },
    {
      "cell_type": "code",
      "source": [
        "device = torch.device(\"cuda\" if torch.cuda.is_available() else \"cpu\")\n",
        "n_gpu = torch.cuda.device_count()\n"
      ],
      "metadata": {
        "id": "nDINEzQGCuK2"
      },
      "execution_count": 263,
      "outputs": []
    },
    {
      "cell_type": "code",
      "source": [
        "device = torch.device(\"cuda\" if torch.cuda.is_available() else \"cpu\")\n",
        "n_gpu = torch.cuda.device_count()\n"
      ],
      "metadata": {
        "id": "R6LWIb-mCvbV"
      },
      "execution_count": 264,
      "outputs": []
    },
    {
      "cell_type": "code",
      "source": [
        "torch.cuda.get_device_name(0)\n"
      ],
      "metadata": {
        "colab": {
          "base_uri": "https://localhost:8080/",
          "height": 35
        },
        "id": "qO9-f71WCwmU",
        "outputId": "d7e9afb9-9da2-47ad-b8db-a39cba808a20"
      },
      "execution_count": 265,
      "outputs": [
        {
          "output_type": "execute_result",
          "data": {
            "text/plain": [
              "'Tesla T4'"
            ],
            "application/vnd.google.colaboratory.intrinsic+json": {
              "type": "string"
            }
          },
          "metadata": {},
          "execution_count": 265
        }
      ]
    },
    {
      "cell_type": "code",
      "source": [
        "tokenizer = BertTokenizer.from_pretrained('bert-base-cased', do_lower_case=False)\n"
      ],
      "metadata": {
        "id": "J3gVMiT7Cx0s"
      },
      "execution_count": 266,
      "outputs": []
    },
    {
      "cell_type": "code",
      "source": [
        "def tokenize_and_preserve_labels(sentence, text_labels):\n",
        "    tokenized_sentence = []\n",
        "    labels = []\n",
        "\n",
        "    for word, label in zip(sentence, text_labels):\n",
        "\n",
        "        # Tokenize the word and count # of subwords the word is broken into\n",
        "        tokenized_word = tokenizer.tokenize(word)\n",
        "        n_subwords = len(tokenized_word)\n",
        "\n",
        "        # Add the tokenized word to the final tokenized word list\n",
        "        tokenized_sentence.extend(tokenized_word)\n",
        "\n",
        "        # Add the same label to the new list of labels `n_subwords` times\n",
        "        labels.extend([label] * n_subwords)\n",
        "\n",
        "    return tokenized_sentence, labels\n"
      ],
      "metadata": {
        "id": "WYAXo99dCzUk"
      },
      "execution_count": 267,
      "outputs": []
    },
    {
      "cell_type": "code",
      "source": [
        "a = (\"John\", \"Charles\", \"Mike\")\n",
        "b = (\"Jenny\", \"Christy\", \"Monica\", \"Vicky\")\n",
        "\n",
        "x = zip(a, b)"
      ],
      "metadata": {
        "id": "iSHN70AtpI2b"
      },
      "execution_count": 23,
      "outputs": []
    },
    {
      "cell_type": "code",
      "source": [
        "labels"
      ],
      "metadata": {
        "id": "6IHdvAUnpJ7Y",
        "outputId": "df3c90ac-932a-4959-adb0-11885907778b",
        "colab": {
          "base_uri": "https://localhost:8080/"
        }
      },
      "execution_count": 268,
      "outputs": [
        {
          "output_type": "execute_result",
          "data": {
            "text/plain": [
              "[['USAD_SNO',\n",
              "  'USAD_SNM',\n",
              "  'USAD_SFX',\n",
              "  'USAD_APN',\n",
              "  'USAD_ANO',\n",
              "  'USAD_CTY',\n",
              "  'USAD_CTY',\n",
              "  'USAD_STA',\n",
              "  'USAD_ZIP',\n",
              "  'USAD_ZIP'],\n",
              " ['USAD_SNO',\n",
              "  'USAD_SNM',\n",
              "  'USAD_SNM',\n",
              "  'USAD_SFX',\n",
              "  'USAD_CTY',\n",
              "  'USAD_CTY',\n",
              "  'USAD_STA',\n",
              "  'USAD_ZIP',\n",
              "  'USAD_ZIP'],\n",
              " ['USAD_SNO',\n",
              "  'USAD_SNM',\n",
              "  'USAD_SNM',\n",
              "  'USAD_SFX',\n",
              "  'USAD_CTY',\n",
              "  'USAD_CTY',\n",
              "  'USAD_STA',\n",
              "  'USAD_ZIP'],\n",
              " ['USAD_SNO',\n",
              "  'USAD_SNM',\n",
              "  'USAD_SNM',\n",
              "  'USAD_SFX',\n",
              "  'USAD_CTY',\n",
              "  'USAD_CTY',\n",
              "  'USAD_STA',\n",
              "  'USAD_ZIP',\n",
              "  'USAD_ZIP'],\n",
              " ['USAD_SNO',\n",
              "  'USAD_SNM',\n",
              "  'USAD_SNM',\n",
              "  'USAD_SFX',\n",
              "  'USAD_CTY',\n",
              "  'USAD_CTY',\n",
              "  'USAD_STA',\n",
              "  'USAD_ZIP',\n",
              "  'USAD_ZIP'],\n",
              " ['USAD_SNO',\n",
              "  'USAD_SNM',\n",
              "  'USAD_SNM',\n",
              "  'USAD_SFX',\n",
              "  'USAD_CTY',\n",
              "  'USAD_CTY',\n",
              "  'USAD_STA',\n",
              "  'USAD_ZIP',\n",
              "  'USAD_ZIP'],\n",
              " ['USAD_SNO',\n",
              "  'USAD_SNM',\n",
              "  'USAD_SNM',\n",
              "  'USAD_SFX',\n",
              "  'USAD_CTY',\n",
              "  'USAD_CTY',\n",
              "  'USAD_STA',\n",
              "  'USAD_ZIP',\n",
              "  'USAD_ZIP'],\n",
              " ['USAD_SNO',\n",
              "  'USAD_SNM',\n",
              "  'USAD_SNM',\n",
              "  'USAD_SFX',\n",
              "  'USAD_CTY,',\n",
              "  'USAD_CTY',\n",
              "  'USAD_STA',\n",
              "  'USAD_ZIP',\n",
              "  'USAD_ZIP'],\n",
              " ['USAD_SNO',\n",
              "  'USAD_SNM',\n",
              "  'USAD_SNM',\n",
              "  'USAD_SFX',\n",
              "  'USAD_CTY',\n",
              "  'USAD_CTY',\n",
              "  'USAD_STA',\n",
              "  'USAD_ZIP',\n",
              "  'USAD_ZIP'],\n",
              " ['USAD_SNO',\n",
              "  'USAD_SNM',\n",
              "  'USAD_SNM',\n",
              "  'USAD_SFX',\n",
              "  'USAD_CTY',\n",
              "  'USAD_CTY',\n",
              "  'USAD_STA',\n",
              "  'USAD_ZIP',\n",
              "  'USAD_ZIP'],\n",
              " ['USAD_SNO',\n",
              "  'USAD_SNM',\n",
              "  'USAD_SNM',\n",
              "  'USAD_SFX',\n",
              "  'USAD_CTY',\n",
              "  'USAD_CTY',\n",
              "  'USAD_STA',\n",
              "  'USAD_ZIP',\n",
              "  'USAD_ZIP']]"
            ]
          },
          "metadata": {},
          "execution_count": 268
        }
      ]
    },
    {
      "cell_type": "code",
      "source": [
        "tokenized_texts_and_labels = [ tokenize_and_preserve_labels(sent, labs) \n",
        "for sent, labs in zip(sentences, labels)]\n"
      ],
      "metadata": {
        "id": "2jZdVnr6C04y"
      },
      "execution_count": 269,
      "outputs": []
    },
    {
      "cell_type": "code",
      "source": [
        "tokenized_texts = [token_label_pair[0] for token_label_pair in tokenized_texts_and_labels]\n",
        "labels = [token_label_pair[1] for token_label_pair in tokenized_texts_and_labels]\n"
      ],
      "metadata": {
        "id": "J7MMY08wC1D9"
      },
      "execution_count": 270,
      "outputs": []
    },
    {
      "cell_type": "code",
      "source": [
        "input_ids = pad_sequences([tokenizer.convert_tokens_to_ids(txt) for txt in tokenized_texts],\n",
        "                          maxlen=MAX_LEN, dtype=\"long\", value=0.0,\n",
        "                          truncating=\"post\", padding=\"post\")\n"
      ],
      "metadata": {
        "id": "hK5y0TNEC488"
      },
      "execution_count": 271,
      "outputs": []
    },
    {
      "cell_type": "code",
      "source": [
        "tags = pad_sequences([[tag2idx.get(l) for l in lab] for lab in labels],\n",
        "                     maxlen=MAX_LEN, value=tag2idx[\"PAD\"], padding=\"post\",\n",
        "                     dtype=\"long\", truncating=\"post\")\n"
      ],
      "metadata": {
        "id": "lt9DVSvLC_gx"
      },
      "execution_count": 272,
      "outputs": []
    },
    {
      "cell_type": "code",
      "source": [
        "attention_masks = [[float(i != 0.0) for i in ii] for ii in input_ids]\n"
      ],
      "metadata": {
        "id": "18QZZFEyDB1r"
      },
      "execution_count": 273,
      "outputs": []
    },
    {
      "cell_type": "code",
      "source": [
        "tr_inputs, val_inputs, tr_tags, val_tags = train_test_split(input_ids, tags,\n",
        "                                                            random_state=2018, test_size=0.1)\n",
        "tr_masks, val_masks, _, _ = train_test_split(attention_masks, input_ids,\n",
        "                                             random_state=2018, test_size=0.1)\n"
      ],
      "metadata": {
        "id": "kkseSgS2DEBi"
      },
      "execution_count": 274,
      "outputs": []
    },
    {
      "cell_type": "code",
      "source": [
        "tr_inputs = torch.tensor(tr_inputs)\n",
        "val_inputs = torch.tensor(val_inputs)\n",
        "tr_tags = torch.tensor(tr_tags)\n",
        "val_tags = torch.tensor(val_tags)\n",
        "tr_masks = torch.tensor(tr_masks)\n",
        "val_masks = torch.tensor(val_masks)\n"
      ],
      "metadata": {
        "id": "e4o9LtfYDGYD"
      },
      "execution_count": 275,
      "outputs": []
    },
    {
      "cell_type": "code",
      "source": [
        "train_data = TensorDataset(tr_inputs, tr_masks, tr_tags)\n",
        "train_sampler = RandomSampler(train_data)\n",
        "train_dataloader = DataLoader(train_data, sampler=train_sampler, batch_size=bs)\n",
        "\n",
        "valid_data = TensorDataset(val_inputs, val_masks, val_tags)\n",
        "valid_sampler = SequentialSampler(valid_data)\n",
        "valid_dataloader = DataLoader(valid_data, sampler=valid_sampler, batch_size=bs)\n"
      ],
      "metadata": {
        "id": "a8qGbG_CDJua"
      },
      "execution_count": 276,
      "outputs": []
    },
    {
      "cell_type": "code",
      "source": [
        "import transformers\n",
        "from transformers import BertForTokenClassification, AdamW\n",
        "\n",
        "transformers.__version__\n"
      ],
      "metadata": {
        "colab": {
          "base_uri": "https://localhost:8080/",
          "height": 35
        },
        "id": "fliAwyw9DJwr",
        "outputId": "c825998e-0f5c-420d-c68d-68e55b881158"
      },
      "execution_count": 277,
      "outputs": [
        {
          "output_type": "execute_result",
          "data": {
            "text/plain": [
              "'4.24.0'"
            ],
            "application/vnd.google.colaboratory.intrinsic+json": {
              "type": "string"
            }
          },
          "metadata": {},
          "execution_count": 277
        }
      ]
    },
    {
      "cell_type": "code",
      "source": [
        "model = BertForTokenClassification.from_pretrained(\n",
        "    \"bert-base-cased\",\n",
        "    num_labels=len(tag2idx),\n",
        "    output_attentions = False,\n",
        "    output_hidden_states = False\n",
        ")\n"
      ],
      "metadata": {
        "colab": {
          "base_uri": "https://localhost:8080/"
        },
        "id": "5fNhJ0EWDMNR",
        "outputId": "93eca1b2-49d8-48bb-a213-eeb34e520490"
      },
      "execution_count": 278,
      "outputs": [
        {
          "output_type": "stream",
          "name": "stderr",
          "text": [
            "Some weights of the model checkpoint at bert-base-cased were not used when initializing BertForTokenClassification: ['cls.predictions.transform.LayerNorm.bias', 'cls.seq_relationship.weight', 'cls.predictions.decoder.weight', 'cls.seq_relationship.bias', 'cls.predictions.transform.LayerNorm.weight', 'cls.predictions.transform.dense.bias', 'cls.predictions.transform.dense.weight', 'cls.predictions.bias']\n",
            "- This IS expected if you are initializing BertForTokenClassification from the checkpoint of a model trained on another task or with another architecture (e.g. initializing a BertForSequenceClassification model from a BertForPreTraining model).\n",
            "- This IS NOT expected if you are initializing BertForTokenClassification from the checkpoint of a model that you expect to be exactly identical (initializing a BertForSequenceClassification model from a BertForSequenceClassification model).\n",
            "Some weights of BertForTokenClassification were not initialized from the model checkpoint at bert-base-cased and are newly initialized: ['classifier.weight', 'classifier.bias']\n",
            "You should probably TRAIN this model on a down-stream task to be able to use it for predictions and inference.\n"
          ]
        }
      ]
    },
    {
      "cell_type": "code",
      "source": [
        "model.cuda();\n"
      ],
      "metadata": {
        "id": "4gmF4LuODQkw"
      },
      "execution_count": 279,
      "outputs": []
    },
    {
      "cell_type": "code",
      "source": [
        "FULL_FINETUNING = True\n",
        "if FULL_FINETUNING:\n",
        "    param_optimizer = list(model.named_parameters())\n",
        "    no_decay = ['bias', 'gamma', 'beta']\n",
        "    optimizer_grouped_parameters = [\n",
        "        {'params': [p for n, p in param_optimizer if not any(nd in n for nd in no_decay)],\n",
        "         'weight_decay_rate': 0.01},\n",
        "        {'params': [p for n, p in param_optimizer if any(nd in n for nd in no_decay)],\n",
        "         'weight_decay_rate': 0.0}\n",
        "    ]\n",
        "else:\n",
        "    param_optimizer = list(model.classifier.named_parameters())\n",
        "    optimizer_grouped_parameters = [{\"params\": [p for n, p in param_optimizer]}]\n",
        "\n",
        "optimizer = AdamW(\n",
        "    optimizer_grouped_parameters,\n",
        "    lr=3e-5,\n",
        "    eps=1e-8\n",
        ")\n"
      ],
      "metadata": {
        "colab": {
          "base_uri": "https://localhost:8080/"
        },
        "id": "lOj6yWtiDQms",
        "outputId": "0b0bf17c-c947-4dc8-9201-d7d89fcbab94"
      },
      "execution_count": 280,
      "outputs": [
        {
          "output_type": "stream",
          "name": "stderr",
          "text": [
            "/usr/local/lib/python3.7/dist-packages/transformers/optimization.py:310: FutureWarning: This implementation of AdamW is deprecated and will be removed in a future version. Use the PyTorch implementation torch.optim.AdamW instead, or set `no_deprecation_warning=True` to disable this warning\n",
            "  FutureWarning,\n"
          ]
        }
      ]
    },
    {
      "cell_type": "code",
      "source": [
        "FULL_FINETUNING = True\n",
        "if FULL_FINETUNING:\n",
        "    param_optimizer = list(model.named_parameters())\n",
        "    no_decay = ['bias', 'gamma', 'beta']\n",
        "    optimizer_grouped_parameters = [\n",
        "        {'params': [p for n, p in param_optimizer if not any(nd in n for nd in no_decay)],\n",
        "         'weight_decay_rate': 0.01},\n",
        "        {'params': [p for n, p in param_optimizer if any(nd in n for nd in no_decay)],\n",
        "         'weight_decay_rate': 0.0}\n",
        "    ]\n",
        "else:\n",
        "    param_optimizer = list(model.classifier.named_parameters())\n",
        "    optimizer_grouped_parameters = [{\"params\": [p for n, p in param_optimizer]}]\n",
        "\n",
        "optimizer = AdamW(\n",
        "    optimizer_grouped_parameters,\n",
        "    lr=3e-5,\n",
        "    eps=1e-8\n",
        ")\n"
      ],
      "metadata": {
        "id": "owdxWU3vDTxo"
      },
      "execution_count": 281,
      "outputs": []
    },
    {
      "cell_type": "code",
      "source": [
        "from transformers import get_linear_schedule_with_warmup\n",
        "\n",
        "epochs = 10\n",
        "max_grad_norm = 1.0\n",
        "\n",
        "# Total number of training steps is number of batches * number of epochs.\n",
        "total_steps = len(train_dataloader) * epochs\n",
        "\n",
        "# Create the learning rate scheduler.\n",
        "scheduler = get_linear_schedule_with_warmup(\n",
        "    optimizer,\n",
        "    num_warmup_steps=0,\n",
        "    num_training_steps=total_steps\n",
        ")\n"
      ],
      "metadata": {
        "id": "ksg5LUTmDV3L"
      },
      "execution_count": 282,
      "outputs": []
    },
    {
      "cell_type": "code",
      "source": [
        "from seqeval.metrics import f1_score, accuracy_score\n"
      ],
      "metadata": {
        "id": "qvignM9rDV5f"
      },
      "execution_count": 283,
      "outputs": []
    },
    {
      "cell_type": "code",
      "source": [
        "## Store the average loss after each epoch so we can plot them.\n",
        "loss_values, validation_loss_values = [], []\n",
        "\n",
        "for _ in trange(epochs, desc=\"Epoch\"):\n",
        "    # ========================================\n",
        "    #               Training\n",
        "    # ========================================\n",
        "    # Perform one full pass over the training set.\n",
        "\n",
        "    # Put the model into training mode.\n",
        "    model.train()\n",
        "    # Reset the total loss for this epoch.\n",
        "    total_loss = 0\n",
        "\n",
        "    # Training loop\n",
        "    for step, batch in enumerate(train_dataloader):\n",
        "        # add batch to gpu\n",
        "        batch = tuple(t.to(device) for t in batch)\n",
        "        b_input_ids, b_input_mask, b_labels = batch\n",
        "        # Always clear any previously calculated gradients before performing a backward pass.\n",
        "        model.zero_grad()\n",
        "        # forward pass\n",
        "        # This will return the loss (rather than the model output)\n",
        "        # because we have provided the `labels`.\n",
        "        outputs = model(b_input_ids, token_type_ids=None,\n",
        "                        attention_mask=b_input_mask, labels=b_labels)\n",
        "        # get the loss\n",
        "        loss = outputs[0]\n",
        "        # Perform a backward pass to calculate the gradients.\n",
        "        loss.backward()\n",
        "        # track train loss\n",
        "        total_loss += loss.item()\n",
        "        # Clip the norm of the gradient\n",
        "        # This is to help prevent the \"exploding gradients\" problem.\n",
        "        torch.nn.utils.clip_grad_norm_(parameters=model.parameters(), max_norm=max_grad_norm)\n",
        "        # update parameters\n",
        "        optimizer.step()\n",
        "        # Update the learning rate.\n",
        "        scheduler.step()\n",
        "\n",
        "    # Calculate the average loss over the training data.\n",
        "    avg_train_loss = total_loss / len(train_dataloader)\n",
        "    print(\"Average train loss: {}\".format(avg_train_loss))\n",
        "\n",
        "    # Store the loss value for plotting the learning curve.\n",
        "    loss_values.append(avg_train_loss)\n",
        "\n",
        "\n",
        "    # ========================================\n",
        "    #               Validation\n",
        "    # ========================================\n",
        "    # After the completion of each training epoch, measure our performance on\n",
        "    # our validation set.\n",
        "\n",
        "    # Put the model into evaluation mode\n",
        "    model.eval()\n",
        "    # Reset the validation loss for this epoch.\n",
        "    eval_loss, eval_accuracy = 0, 0\n",
        "    nb_eval_steps, nb_eval_examples = 0, 0\n",
        "    predictions , true_labels = [], []\n",
        "    for batch in valid_dataloader:\n",
        "        batch = tuple(t.to(device) for t in batch)\n",
        "        b_input_ids, b_input_mask, b_labels = batch\n",
        "\n",
        "        # Telling the model not to compute or store gradients,\n",
        "        # saving memory and speeding up validation\n",
        "        with torch.no_grad():\n",
        "            # Forward pass, calculate logit predictions.\n",
        "            # This will return the logits rather than the loss because we have not provided labels.\n",
        "            outputs = model(b_input_ids, token_type_ids=None,\n",
        "                            attention_mask=b_input_mask, labels=b_labels)\n",
        "        # Move logits and labels to CPU\n",
        "        logits = outputs[1].detach().cpu().numpy()\n",
        "        label_ids = b_labels.to('cpu').numpy()\n",
        "\n",
        "        # Calculate the accuracy for this batch of test sentences.\n",
        "        eval_loss += outputs[0].mean().item()\n",
        "        predictions.extend([list(p) for p in np.argmax(logits, axis=2)])\n",
        "        true_labels.extend(label_ids)\n",
        "\n",
        "    eval_loss = eval_loss / len(valid_dataloader)\n",
        "    validation_loss_values.append(eval_loss)\n",
        "    print(\"Validation loss: {}\".format(eval_loss))\n",
        "    pred_tags = [tag_values[p_i] for p, l in zip(predictions, true_labels)\n",
        "                                 for p_i, l_i in zip(p, l) if tag_values[l_i] != \"PAD\"]\n",
        "    valid_tags = [tag_values[l_i] for l in true_labels\n",
        "                                  for l_i in l if tag_values[l_i] != \"PAD\"]\n",
        "    print(\"Validation Accuracy: {}\".format(accuracy_score(pred_tags, valid_tags)))\n",
        "    print(\"Validation F1-Score: {}\".format(f1_score(pred_tags, valid_tags)))\n",
        "    print()\n"
      ],
      "metadata": {
        "colab": {
          "base_uri": "https://localhost:8080/"
        },
        "id": "ZsC65gmgDTzo",
        "outputId": "0c569e55-335b-4809-dd61-cd1ca090b7b1"
      },
      "execution_count": 284,
      "outputs": [
        {
          "output_type": "stream",
          "name": "stderr",
          "text": [
            "Epoch:  20%|██        | 2/10 [00:00<00:02,  3.27it/s]"
          ]
        },
        {
          "output_type": "stream",
          "name": "stdout",
          "text": [
            "Average train loss: 2.243265151977539\n",
            "Validation loss: 1.6652560234069824\n",
            "Validation Accuracy: 0.0\n",
            "Validation F1-Score: 0\n",
            "\n",
            "Average train loss: 1.5813655853271484\n",
            "Validation loss: 1.3237848281860352\n",
            "Validation Accuracy: 0.0\n",
            "Validation F1-Score: 0\n",
            "\n"
          ]
        },
        {
          "output_type": "stream",
          "name": "stderr",
          "text": [
            "Epoch:  40%|████      | 4/10 [00:01<00:01,  4.72it/s]"
          ]
        },
        {
          "output_type": "stream",
          "name": "stdout",
          "text": [
            "Average train loss: 1.2843965291976929\n",
            "Validation loss: 1.1164805889129639\n",
            "Validation Accuracy: 0.0\n",
            "Validation F1-Score: 0\n",
            "\n",
            "Average train loss: 1.1833816766738892\n",
            "Validation loss: 1.0219717025756836\n",
            "Validation Accuracy: 0.0\n",
            "Validation F1-Score: 0\n",
            "\n"
          ]
        },
        {
          "output_type": "stream",
          "name": "stderr",
          "text": [
            "\rEpoch:  50%|█████     | 5/10 [00:01<00:00,  5.04it/s]"
          ]
        },
        {
          "output_type": "stream",
          "name": "stdout",
          "text": [
            "Average train loss: 1.1283559799194336\n",
            "Validation loss: 0.9783836007118225\n",
            "Validation Accuracy: 0.0\n",
            "Validation F1-Score: 0\n",
            "\n",
            "Average train loss: 1.0805834531784058\n"
          ]
        },
        {
          "output_type": "stream",
          "name": "stderr",
          "text": [
            "Epoch:  70%|███████   | 7/10 [00:01<00:00,  5.48it/s]"
          ]
        },
        {
          "output_type": "stream",
          "name": "stdout",
          "text": [
            "Validation loss: 0.9546595215797424\n",
            "Validation Accuracy: 0.0\n",
            "Validation F1-Score: 0\n",
            "\n",
            "Average train loss: 1.026799201965332\n",
            "Validation loss: 0.9431556463241577\n",
            "Validation Accuracy: 0.0\n",
            "Validation F1-Score: 0\n",
            "\n"
          ]
        },
        {
          "output_type": "stream",
          "name": "stderr",
          "text": [
            "Epoch:  90%|█████████ | 9/10 [00:01<00:00,  5.72it/s]"
          ]
        },
        {
          "output_type": "stream",
          "name": "stdout",
          "text": [
            "Average train loss: 0.9843204617500305\n",
            "Validation loss: 0.9381350874900818\n",
            "Validation Accuracy: 0.0\n",
            "Validation F1-Score: 0\n",
            "\n",
            "Average train loss: 0.9396042823791504\n",
            "Validation loss: 0.9362340569496155\n",
            "Validation Accuracy: 0.0\n",
            "Validation F1-Score: 0\n",
            "\n"
          ]
        },
        {
          "output_type": "stream",
          "name": "stderr",
          "text": [
            "Epoch: 100%|██████████| 10/10 [00:02<00:00,  4.94it/s]"
          ]
        },
        {
          "output_type": "stream",
          "name": "stdout",
          "text": [
            "Average train loss: 0.9379433393478394\n",
            "Validation loss: 0.9355756640434265\n",
            "Validation Accuracy: 0.0\n",
            "Validation F1-Score: 0\n",
            "\n"
          ]
        },
        {
          "output_type": "stream",
          "name": "stderr",
          "text": [
            "\n"
          ]
        }
      ]
    },
    {
      "cell_type": "code",
      "source": [
        "import matplotlib.pyplot as plt\n",
        "%matplotlib inline\n",
        "\n",
        "import seaborn as sns\n",
        "\n",
        "# Use plot styling from seaborn.\n",
        "sns.set(style='darkgrid')\n",
        "\n",
        "# Increase the plot size and font size.\n",
        "sns.set(font_scale=1.5)\n",
        "plt.rcParams[\"figure.figsize\"] = (12,6)\n",
        "\n",
        "# Plot the learning curve.\n",
        "plt.plot(loss_values, 'b-o', label=\"training loss\")\n",
        "plt.plot(validation_loss_values, 'r-o', label=\"validation loss\")\n",
        "\n",
        "# Label the plot.\n",
        "plt.title(\"Learning curve\")\n",
        "plt.xlabel(\"Epoch\")\n",
        "plt.ylabel(\"Loss\")\n",
        "plt.legend()\n",
        "\n",
        "plt.show()\n"
      ],
      "metadata": {
        "colab": {
          "base_uri": "https://localhost:8080/",
          "height": 427
        },
        "id": "UditTnJkDMPi",
        "outputId": "7baaf51d-6cb4-4623-eb7b-0be8e5d0db4c"
      },
      "execution_count": 285,
      "outputs": [
        {
          "output_type": "display_data",
          "data": {
            "text/plain": [
              "<Figure size 864x432 with 1 Axes>"
            ],
            "image/png": "[encoded data removed]"
          },
          "metadata": {}
        }
      ]
    },
    {
      "cell_type": "code",
      "source": [
        "test_sentence = \"Mr. Jase Adams , PhD, QC, 812 Bethabara Pointe, CIR, Winston, Salem, NC --27106 \""
      ],
      "metadata": {
        "id": "al5-Kt13DGb7"
      },
      "execution_count": 286,
      "outputs": []
    },
    {
      "cell_type": "code",
      "source": [
        "tokenized_sentence = tokenizer.encode(test_sentence)\n",
        "input_ids = torch.tensor([tokenized_sentence]).cuda()\n"
      ],
      "metadata": {
        "id": "wHIxzNrxC4_h"
      },
      "execution_count": 287,
      "outputs": []
    },
    {
      "cell_type": "code",
      "source": [
        "with torch.no_grad():\n",
        "    output = model(input_ids)\n",
        "label_indices = np.argmax(output[0].to('cpu').numpy(), axis=2)\n"
      ],
      "metadata": {
        "id": "2yjKaKeRDfKq"
      },
      "execution_count": 288,
      "outputs": []
    },
    {
      "cell_type": "code",
      "source": [
        "# join bpe split tokens\n",
        "tokens = tokenizer.convert_ids_to_tokens(input_ids.to('cpu').numpy()[0])\n",
        "new_tokens, new_labels = [], []\n",
        "for token, label_idx in zip(tokens, label_indices[0]):\n",
        "    if token.startswith(\"##\"):\n",
        "        new_tokens[-1] = new_tokens[-1] + token[2:]\n",
        "    else:\n",
        "        new_labels.append(tag_values[label_idx])\n",
        "        new_tokens.append(token)\n"
      ],
      "metadata": {
        "id": "_Mv5M_X7DiTw"
      },
      "execution_count": 289,
      "outputs": []
    },
    {
      "cell_type": "code",
      "source": [
        "for token, label in zip(new_tokens, new_labels):\n",
        "    print(\"{}\\t{}\".format(label, token))\n"
      ],
      "metadata": {
        "id": "HwJRpQVxDj7J",
        "outputId": "cdd2df26-2256-494a-913a-b404c2e1d64a",
        "colab": {
          "base_uri": "https://localhost:8080/"
        }
      },
      "execution_count": 290,
      "outputs": [
        {
          "output_type": "stream",
          "name": "stdout",
          "text": [
            "USAD_ZIP\t[CLS]\n",
            "USAD_CTY\tMr\n",
            "PAD\t.\n",
            "PAD\tJase\n",
            "PAD\tAdams\n",
            "PAD\t,\n",
            "PAD\tPhD\n",
            "PAD\t,\n",
            "PAD\tQC\n",
            "PAD\t,\n",
            "PAD\t812\n",
            "PAD\tBethabara\n",
            "PAD\tPointe\n",
            "PAD\t,\n",
            "PAD\tCIR\n",
            "PAD\t,\n",
            "PAD\tWinston\n",
            "PAD\t,\n",
            "PAD\tSalem\n",
            "PAD\t,\n",
            "PAD\tNC\n",
            "PAD\t-\n",
            "PAD\t-\n",
            "PAD\t27106\n",
            "PAD\t[SEP]\n"
          ]
        }
      ]
    },
    {
      "cell_type": "code",
      "source": [],
      "metadata": {
        "id": "dsBlNB7Q-ppM"
      },
      "execution_count": null,
      "outputs": []
    },
    {
      "cell_type": "markdown",
      "source": [
        "#NER using Simple Transformers"
      ],
      "metadata": {
        "id": "cCjGTkAe-pxd"
      }
    },
    {
      "cell_type": "code",
      "source": [
        "!pip install simpletransformers"
      ],
      "metadata": {
        "id": "KYmBwdktDj9v",
        "outputId": "5aca9854-0708-4382-afc5-59e1ff9c6d0b",
        "colab": {
          "base_uri": "https://localhost:8080/"
        }
      },
      "execution_count": 304,
      "outputs": [
        {
          "output_type": "stream",
          "name": "stdout",
          "text": [
            "Looking in indexes: https://pypi.org/simple, https://us-python.pkg.dev/colab-wheels/public/simple/\n",
            "Requirement already satisfied: simpletransformers in /usr/local/lib/python3.7/dist-packages (0.63.9)\n",
            "Requirement already satisfied: requests in /usr/local/lib/python3.7/dist-packages (from simpletransformers) (2.23.0)\n",
            "Requirement already satisfied: tqdm>=4.47.0 in /usr/local/lib/python3.7/dist-packages (from simpletransformers) (4.64.1)\n",
            "Requirement already satisfied: regex in /usr/local/lib/python3.7/dist-packages (from simpletransformers) (2022.6.2)\n",
            "Requirement already satisfied: seqeval in /usr/local/lib/python3.7/dist-packages (from simpletransformers) (0.0.5)\n",
            "Requirement already satisfied: wandb>=0.10.32 in /usr/local/lib/python3.7/dist-packages (from simpletransformers) (0.13.5)\n",
            "Requirement already satisfied: datasets in /usr/local/lib/python3.7/dist-packages (from simpletransformers) (2.7.1)\n",
            "Requirement already satisfied: streamlit in /usr/local/lib/python3.7/dist-packages (from simpletransformers) (1.15.1)\n",
            "Requirement already satisfied: tensorboard in /usr/local/lib/python3.7/dist-packages (from simpletransformers) (2.9.1)\n",
            "Requirement already satisfied: scipy in /usr/local/lib/python3.7/dist-packages (from simpletransformers) (1.7.3)\n",
            "Requirement already satisfied: transformers>=4.6.0 in /usr/local/lib/python3.7/dist-packages (from simpletransformers) (4.24.0)\n",
            "Requirement already satisfied: sentencepiece in /usr/local/lib/python3.7/dist-packages (from simpletransformers) (0.1.97)\n",
            "Requirement already satisfied: numpy in /usr/local/lib/python3.7/dist-packages (from simpletransformers) (1.21.6)\n",
            "Requirement already satisfied: pandas in /usr/local/lib/python3.7/dist-packages (from simpletransformers) (1.3.5)\n",
            "Requirement already satisfied: tokenizers in /usr/local/lib/python3.7/dist-packages (from simpletransformers) (0.13.2)\n",
            "Requirement already satisfied: scikit-learn in /usr/local/lib/python3.7/dist-packages (from simpletransformers) (1.0.2)\n",
            "Requirement already satisfied: packaging>=20.0 in /usr/local/lib/python3.7/dist-packages (from transformers>=4.6.0->simpletransformers) (21.3)\n",
            "Requirement already satisfied: importlib-metadata in /usr/local/lib/python3.7/dist-packages (from transformers>=4.6.0->simpletransformers) (4.13.0)\n",
            "Requirement already satisfied: pyyaml>=5.1 in /usr/local/lib/python3.7/dist-packages (from transformers>=4.6.0->simpletransformers) (6.0)\n",
            "Requirement already satisfied: huggingface-hub<1.0,>=0.10.0 in /usr/local/lib/python3.7/dist-packages (from transformers>=4.6.0->simpletransformers) (0.11.0)\n",
            "Requirement already satisfied: filelock in /usr/local/lib/python3.7/dist-packages (from transformers>=4.6.0->simpletransformers) (3.8.0)\n",
            "Requirement already satisfied: typing-extensions>=3.7.4.3 in /usr/local/lib/python3.7/dist-packages (from huggingface-hub<1.0,>=0.10.0->transformers>=4.6.0->simpletransformers) (4.1.1)\n",
            "Requirement already satisfied: pyparsing!=3.0.5,>=2.0.2 in /usr/local/lib/python3.7/dist-packages (from packaging>=20.0->transformers>=4.6.0->simpletransformers) (3.0.9)\n",
            "Requirement already satisfied: protobuf!=4.0.*,!=4.21.0,<5,>=3.12.0 in /usr/local/lib/python3.7/dist-packages (from wandb>=0.10.32->simpletransformers) (3.19.6)\n",
            "Requirement already satisfied: setuptools in /usr/local/lib/python3.7/dist-packages (from wandb>=0.10.32->simpletransformers) (57.4.0)\n",
            "Requirement already satisfied: sentry-sdk>=1.0.0 in /usr/local/lib/python3.7/dist-packages (from wandb>=0.10.32->simpletransformers) (1.9.0)\n",
            "Requirement already satisfied: Click!=8.0.0,>=7.0 in /usr/local/lib/python3.7/dist-packages (from wandb>=0.10.32->simpletransformers) (7.1.2)\n",
            "Requirement already satisfied: setproctitle in /usr/local/lib/python3.7/dist-packages (from wandb>=0.10.32->simpletransformers) (1.3.2)\n",
            "Requirement already satisfied: shortuuid>=0.5.0 in /usr/local/lib/python3.7/dist-packages (from wandb>=0.10.32->simpletransformers) (1.0.11)\n",
            "Requirement already satisfied: six>=1.13.0 in /usr/local/lib/python3.7/dist-packages (from wandb>=0.10.32->simpletransformers) (1.15.0)\n",
            "Requirement already satisfied: GitPython>=1.0.0 in /usr/local/lib/python3.7/dist-packages (from wandb>=0.10.32->simpletransformers) (3.1.29)\n",
            "Requirement already satisfied: promise<3,>=2.0 in /usr/local/lib/python3.7/dist-packages (from wandb>=0.10.32->simpletransformers) (2.3)\n",
            "Requirement already satisfied: psutil>=5.0.0 in /usr/local/lib/python3.7/dist-packages (from wandb>=0.10.32->simpletransformers) (5.4.8)\n",
            "Requirement already satisfied: docker-pycreds>=0.4.0 in /usr/local/lib/python3.7/dist-packages (from wandb>=0.10.32->simpletransformers) (0.4.0)\n",
            "Requirement already satisfied: pathtools in /usr/local/lib/python3.7/dist-packages (from wandb>=0.10.32->simpletransformers) (0.1.2)\n",
            "Requirement already satisfied: gitdb<5,>=4.0.1 in /usr/local/lib/python3.7/dist-packages (from GitPython>=1.0.0->wandb>=0.10.32->simpletransformers) (4.0.10)\n",
            "Requirement already satisfied: smmap<6,>=3.0.1 in /usr/local/lib/python3.7/dist-packages (from gitdb<5,>=4.0.1->GitPython>=1.0.0->wandb>=0.10.32->simpletransformers) (5.0.0)\n",
            "Requirement already satisfied: urllib3!=1.25.0,!=1.25.1,<1.26,>=1.21.1 in /usr/local/lib/python3.7/dist-packages (from requests->simpletransformers) (1.25.11)\n",
            "Requirement already satisfied: certifi>=2017.4.17 in /usr/local/lib/python3.7/dist-packages (from requests->simpletransformers) (2022.9.24)\n",
            "Requirement already satisfied: idna<3,>=2.5 in /usr/local/lib/python3.7/dist-packages (from requests->simpletransformers) (2.10)\n",
            "Requirement already satisfied: chardet<4,>=3.0.2 in /usr/local/lib/python3.7/dist-packages (from requests->simpletransformers) (3.0.4)\n",
            "Requirement already satisfied: responses<0.19 in /usr/local/lib/python3.7/dist-packages (from datasets->simpletransformers) (0.18.0)\n",
            "Requirement already satisfied: aiohttp in /usr/local/lib/python3.7/dist-packages (from datasets->simpletransformers) (3.8.3)\n",
            "Requirement already satisfied: dill<0.3.7 in /usr/local/lib/python3.7/dist-packages (from datasets->simpletransformers) (0.3.6)\n",
            "Requirement already satisfied: pyarrow>=6.0.0 in /usr/local/lib/python3.7/dist-packages (from datasets->simpletransformers) (9.0.0)\n",
            "Requirement already satisfied: xxhash in /usr/local/lib/python3.7/dist-packages (from datasets->simpletransformers) (3.1.0)\n",
            "Requirement already satisfied: fsspec[http]>=2021.11.1 in /usr/local/lib/python3.7/dist-packages (from datasets->simpletransformers) (2022.11.0)\n",
            "Requirement already satisfied: multiprocess in /usr/local/lib/python3.7/dist-packages (from datasets->simpletransformers) (0.70.14)\n",
            "Requirement already satisfied: async-timeout<5.0,>=4.0.0a3 in /usr/local/lib/python3.7/dist-packages (from aiohttp->datasets->simpletransformers) (4.0.2)\n",
            "Requirement already satisfied: aiosignal>=1.1.2 in /usr/local/lib/python3.7/dist-packages (from aiohttp->datasets->simpletransformers) (1.3.1)\n",
            "Requirement already satisfied: attrs>=17.3.0 in /usr/local/lib/python3.7/dist-packages (from aiohttp->datasets->simpletransformers) (22.1.0)\n",
            "Requirement already satisfied: yarl<2.0,>=1.0 in /usr/local/lib/python3.7/dist-packages (from aiohttp->datasets->simpletransformers) (1.8.1)\n",
            "Requirement already satisfied: multidict<7.0,>=4.5 in /usr/local/lib/python3.7/dist-packages (from aiohttp->datasets->simpletransformers) (6.0.2)\n",
            "Requirement already satisfied: asynctest==0.13.0 in /usr/local/lib/python3.7/dist-packages (from aiohttp->datasets->simpletransformers) (0.13.0)\n",
            "Requirement already satisfied: charset-normalizer<3.0,>=2.0 in /usr/local/lib/python3.7/dist-packages (from aiohttp->datasets->simpletransformers) (2.1.1)\n",
            "Requirement already satisfied: frozenlist>=1.1.1 in /usr/local/lib/python3.7/dist-packages (from aiohttp->datasets->simpletransformers) (1.3.3)\n",
            "Requirement already satisfied: zipp>=0.5 in /usr/local/lib/python3.7/dist-packages (from importlib-metadata->transformers>=4.6.0->simpletransformers) (3.10.0)\n",
            "Requirement already satisfied: python-dateutil>=2.7.3 in /usr/local/lib/python3.7/dist-packages (from pandas->simpletransformers) (2.8.2)\n",
            "Requirement already satisfied: pytz>=2017.3 in /usr/local/lib/python3.7/dist-packages (from pandas->simpletransformers) (2022.6)\n",
            "Requirement already satisfied: threadpoolctl>=2.0.0 in /usr/local/lib/python3.7/dist-packages (from scikit-learn->simpletransformers) (3.1.0)\n",
            "Requirement already satisfied: joblib>=0.11 in /usr/local/lib/python3.7/dist-packages (from scikit-learn->simpletransformers) (1.2.0)\n",
            "Requirement already satisfied: semver in /usr/local/lib/python3.7/dist-packages (from streamlit->simpletransformers) (2.13.0)\n",
            "Requirement already satisfied: rich>=10.11.0 in /usr/local/lib/python3.7/dist-packages (from streamlit->simpletransformers) (12.6.0)\n",
            "Requirement already satisfied: toml in /usr/local/lib/python3.7/dist-packages (from streamlit->simpletransformers) (0.10.2)\n",
            "Requirement already satisfied: watchdog in /usr/local/lib/python3.7/dist-packages (from streamlit->simpletransformers) (2.1.9)\n",
            "Requirement already satisfied: pillow>=6.2.0 in /usr/local/lib/python3.7/dist-packages (from streamlit->simpletransformers) (7.1.2)\n",
            "Requirement already satisfied: pydeck>=0.1.dev5 in /usr/local/lib/python3.7/dist-packages (from streamlit->simpletransformers) (0.8.0)\n",
            "Requirement already satisfied: tornado>=5.0 in /usr/local/lib/python3.7/dist-packages (from streamlit->simpletransformers) (6.0.4)\n",
            "Requirement already satisfied: tzlocal>=1.1 in /usr/local/lib/python3.7/dist-packages (from streamlit->simpletransformers) (1.5.1)\n",
            "Requirement already satisfied: pympler>=0.9 in /usr/local/lib/python3.7/dist-packages (from streamlit->simpletransformers) (1.0.1)\n",
            "Requirement already satisfied: blinker>=1.0.0 in /usr/local/lib/python3.7/dist-packages (from streamlit->simpletransformers) (1.5)\n",
            "Requirement already satisfied: validators>=0.2 in /usr/local/lib/python3.7/dist-packages (from streamlit->simpletransformers) (0.20.0)\n",
            "Requirement already satisfied: cachetools>=4.0 in /usr/local/lib/python3.7/dist-packages (from streamlit->simpletransformers) (5.2.0)\n",
            "Requirement already satisfied: altair>=3.2.0 in /usr/local/lib/python3.7/dist-packages (from streamlit->simpletransformers) (4.2.0)\n",
            "Requirement already satisfied: jsonschema>=3.0 in /usr/local/lib/python3.7/dist-packages (from altair>=3.2.0->streamlit->simpletransformers) (4.3.3)\n",
            "Requirement already satisfied: jinja2 in /usr/local/lib/python3.7/dist-packages (from altair>=3.2.0->streamlit->simpletransformers) (2.11.3)\n",
            "Requirement already satisfied: entrypoints in /usr/local/lib/python3.7/dist-packages (from altair>=3.2.0->streamlit->simpletransformers) (0.4)\n",
            "Requirement already satisfied: toolz in /usr/local/lib/python3.7/dist-packages (from altair>=3.2.0->streamlit->simpletransformers) (0.12.0)\n",
            "Requirement already satisfied: importlib-resources>=1.4.0 in /usr/local/lib/python3.7/dist-packages (from jsonschema>=3.0->altair>=3.2.0->streamlit->simpletransformers) (5.10.0)\n",
            "Requirement already satisfied: pyrsistent!=0.17.0,!=0.17.1,!=0.17.2,>=0.14.0 in /usr/local/lib/python3.7/dist-packages (from jsonschema>=3.0->altair>=3.2.0->streamlit->simpletransformers) (0.19.2)\n",
            "Requirement already satisfied: MarkupSafe>=0.23 in /usr/local/lib/python3.7/dist-packages (from jinja2->altair>=3.2.0->streamlit->simpletransformers) (2.0.1)\n",
            "Requirement already satisfied: commonmark<0.10.0,>=0.9.0 in /usr/local/lib/python3.7/dist-packages (from rich>=10.11.0->streamlit->simpletransformers) (0.9.1)\n",
            "Requirement already satisfied: pygments<3.0.0,>=2.6.0 in /usr/local/lib/python3.7/dist-packages (from rich>=10.11.0->streamlit->simpletransformers) (2.6.1)\n",
            "Requirement already satisfied: decorator>=3.4.0 in /usr/local/lib/python3.7/dist-packages (from validators>=0.2->streamlit->simpletransformers) (4.4.2)\n",
            "Requirement already satisfied: tensorboard-data-server<0.7.0,>=0.6.0 in /usr/local/lib/python3.7/dist-packages (from tensorboard->simpletransformers) (0.6.1)\n",
            "Requirement already satisfied: grpcio>=1.24.3 in /usr/local/lib/python3.7/dist-packages (from tensorboard->simpletransformers) (1.50.0)\n",
            "Requirement already satisfied: tensorboard-plugin-wit>=1.6.0 in /usr/local/lib/python3.7/dist-packages (from tensorboard->simpletransformers) (1.8.1)\n",
            "Requirement already satisfied: google-auth-oauthlib<0.5,>=0.4.1 in /usr/local/lib/python3.7/dist-packages (from tensorboard->simpletransformers) (0.4.6)\n",
            "Requirement already satisfied: markdown>=2.6.8 in /usr/local/lib/python3.7/dist-packages (from tensorboard->simpletransformers) (3.4.1)\n",
            "Requirement already satisfied: google-auth<3,>=1.6.3 in /usr/local/lib/python3.7/dist-packages (from tensorboard->simpletransformers) (2.14.1)\n",
            "Requirement already satisfied: absl-py>=0.4 in /usr/local/lib/python3.7/dist-packages (from tensorboard->simpletransformers) (1.3.0)\n",
            "Requirement already satisfied: wheel>=0.26 in /usr/local/lib/python3.7/dist-packages (from tensorboard->simpletransformers) (0.38.4)\n",
            "Requirement already satisfied: werkzeug>=1.0.1 in /usr/local/lib/python3.7/dist-packages (from tensorboard->simpletransformers) (1.0.1)\n",
            "Requirement already satisfied: rsa<5,>=3.1.4 in /usr/local/lib/python3.7/dist-packages (from google-auth<3,>=1.6.3->tensorboard->simpletransformers) (4.9)\n",
            "Requirement already satisfied: pyasn1-modules>=0.2.1 in /usr/local/lib/python3.7/dist-packages (from google-auth<3,>=1.6.3->tensorboard->simpletransformers) (0.2.8)\n",
            "Requirement already satisfied: requests-oauthlib>=0.7.0 in /usr/local/lib/python3.7/dist-packages (from google-auth-oauthlib<0.5,>=0.4.1->tensorboard->simpletransformers) (1.3.1)\n",
            "Requirement already satisfied: pyasn1<0.5.0,>=0.4.6 in /usr/local/lib/python3.7/dist-packages (from pyasn1-modules>=0.2.1->google-auth<3,>=1.6.3->tensorboard->simpletransformers) (0.4.8)\n",
            "Requirement already satisfied: oauthlib>=3.0.0 in /usr/local/lib/python3.7/dist-packages (from requests-oauthlib>=0.7.0->google-auth-oauthlib<0.5,>=0.4.1->tensorboard->simpletransformers) (3.2.2)\n"
          ]
        }
      ]
    },
    {
      "cell_type": "code",
      "source": [
        "import pandas as pd\n",
        "data = pd.read_csv(\"ner_dataset.csv\",encoding=\"latin1\" )"
      ],
      "metadata": {
        "id": "YnHzEqFFDkAH"
      },
      "execution_count": 305,
      "outputs": []
    },
    {
      "cell_type": "code",
      "source": [
        "data.head(30)"
      ],
      "metadata": {
        "id": "FB9ZLz9hDiWZ",
        "outputId": "8c340a55-b9fc-46b8-e376-51df2db6f80e",
        "colab": {
          "base_uri": "https://localhost:8080/",
          "height": 990
        }
      },
      "execution_count": 306,
      "outputs": [
        {
          "output_type": "execute_result",
          "data": {
            "text/plain": [
              "     Sentence #       Word  POS       Tag\n",
              "0   Sentence: 1       1701    N  USAD_SNO\n",
              "1           NaN   Westpark    W  USAD_SNM\n",
              "2           NaN      Drive    F  USAD_SFX\n",
              "3           NaN        Apt    F  USAD_APN\n",
              "4           NaN        110    N  USAD_ANO\n",
              "5           NaN     Little    W  USAD_CTY\n",
              "6           NaN       Rock    W  USAD_CTY\n",
              "7           NaN   Arkansas    T  USAD_STA\n",
              "8           NaN      72204    N  USAD_ZIP\n",
              "9           NaN        NaN  NaN       NaN\n",
              "10  Sentence: 2      29021    N  USAD_SNO\n",
              "11          NaN       High    W  USAD_SNM\n",
              "12          NaN     Sierra    W  USAD_SNM\n",
              "13          NaN        Trl    F  USAD_SFX\n",
              "14          NaN      Santa    W  USAD_CTY\n",
              "15          NaN    Clarita    W  USAD_CTY\n",
              "16          NaN         CA    T  USAD_STA\n",
              "17          NaN      91390    N  USAD_ZIP\n",
              "18          NaN        NaN  NaN       NaN\n",
              "19  Sentence: 3        812    N  USAD_SNO\n",
              "20          NaN  BETHABARA    W  USAD_SNM\n",
              "21          NaN     POINTE    F  USAD_SNM\n",
              "22          NaN        CIR    F  USAD_SFX\n",
              "23          NaN    WINSTON    W  USAD_CTY\n",
              "24          NaN      SALEM    W  USAD_CTY\n",
              "25          NaN         NC    T  USAD_STA\n",
              "26          NaN      27106    N  USAD_ZIP\n",
              "27          NaN        NaN  NaN       NaN\n",
              "28  Sentence: 4       2407    N  USAD_SNO\n",
              "29          NaN      CROSS    W  USAD_SNM"
            ],
            "text/html": [
              "\n",
              "  <div id=\"df-8a0e0da3-8e37-4f7a-a474-96ce6868130b\">\n",
              "    <div class=\"colab-df-container\">\n",
              "      <div>\n",
              "<style scoped>\n",
              "    .dataframe tbody tr th:only-of-type {\n",
              "        vertical-align: middle;\n",
              "    }\n",
              "\n",
              "    .dataframe tbody tr th {\n",
              "        vertical-align: top;\n",
              "    }\n",
              "\n",
              "    .dataframe thead th {\n",
              "        text-align: right;\n",
              "    }\n",
              "</style>\n",
              "<table border=\"1\" class=\"dataframe\">\n",
              "  <thead>\n",
              "    <tr style=\"text-align: right;\">\n",
              "      <th></th>\n",
              "      <th>Sentence #</th>\n",
              "      <th>Word</th>\n",
              "      <th>POS</th>\n",
              "      <th>Tag</th>\n",
              "    </tr>\n",
              "  </thead>\n",
              "  <tbody>\n",
              "    <tr>\n",
              "      <th>0</th>\n",
              "      <td>Sentence: 1</td>\n",
              "      <td>1701</td>\n",
              "      <td>N</td>\n",
              "      <td>USAD_SNO</td>\n",
              "    </tr>\n",
              "    <tr>\n",
              "      <th>1</th>\n",
              "      <td>NaN</td>\n",
              "      <td>Westpark</td>\n",
              "      <td>W</td>\n",
              "      <td>USAD_SNM</td>\n",
              "    </tr>\n",
              "    <tr>\n",
              "      <th>2</th>\n",
              "      <td>NaN</td>\n",
              "      <td>Drive</td>\n",
              "      <td>F</td>\n",
              "      <td>USAD_SFX</td>\n",
              "    </tr>\n",
              "    <tr>\n",
              "      <th>3</th>\n",
              "      <td>NaN</td>\n",
              "      <td>Apt</td>\n",
              "      <td>F</td>\n",
              "      <td>USAD_APN</td>\n",
              "    </tr>\n",
              "    <tr>\n",
              "      <th>4</th>\n",
              "      <td>NaN</td>\n",
              "      <td>110</td>\n",
              "      <td>N</td>\n",
              "      <td>USAD_ANO</td>\n",
              "    </tr>\n",
              "    <tr>\n",
              "      <th>5</th>\n",
              "      <td>NaN</td>\n",
              "      <td>Little</td>\n",
              "      <td>W</td>\n",
              "      <td>USAD_CTY</td>\n",
              "    </tr>\n",
              "    <tr>\n",
              "      <th>6</th>\n",
              "      <td>NaN</td>\n",
              "      <td>Rock</td>\n",
              "      <td>W</td>\n",
              "      <td>USAD_CTY</td>\n",
              "    </tr>\n",
              "    <tr>\n",
              "      <th>7</th>\n",
              "      <td>NaN</td>\n",
              "      <td>Arkansas</td>\n",
              "      <td>T</td>\n",
              "      <td>USAD_STA</td>\n",
              "    </tr>\n",
              "    <tr>\n",
              "      <th>8</th>\n",
              "      <td>NaN</td>\n",
              "      <td>72204</td>\n",
              "      <td>N</td>\n",
              "      <td>USAD_ZIP</td>\n",
              "    </tr>\n",
              "    <tr>\n",
              "      <th>9</th>\n",
              "      <td>NaN</td>\n",
              "      <td>NaN</td>\n",
              "      <td>NaN</td>\n",
              "      <td>NaN</td>\n",
              "    </tr>\n",
              "    <tr>\n",
              "      <th>10</th>\n",
              "      <td>Sentence: 2</td>\n",
              "      <td>29021</td>\n",
              "      <td>N</td>\n",
              "      <td>USAD_SNO</td>\n",
              "    </tr>\n",
              "    <tr>\n",
              "      <th>11</th>\n",
              "      <td>NaN</td>\n",
              "      <td>High</td>\n",
              "      <td>W</td>\n",
              "      <td>USAD_SNM</td>\n",
              "    </tr>\n",
              "    <tr>\n",
              "      <th>12</th>\n",
              "      <td>NaN</td>\n",
              "      <td>Sierra</td>\n",
              "      <td>W</td>\n",
              "      <td>USAD_SNM</td>\n",
              "    </tr>\n",
              "    <tr>\n",
              "      <th>13</th>\n",
              "      <td>NaN</td>\n",
              "      <td>Trl</td>\n",
              "      <td>F</td>\n",
              "      <td>USAD_SFX</td>\n",
              "    </tr>\n",
              "    <tr>\n",
              "      <th>14</th>\n",
              "      <td>NaN</td>\n",
              "      <td>Santa</td>\n",
              "      <td>W</td>\n",
              "      <td>USAD_CTY</td>\n",
              "    </tr>\n",
              "    <tr>\n",
              "      <th>15</th>\n",
              "      <td>NaN</td>\n",
              "      <td>Clarita</td>\n",
              "      <td>W</td>\n",
              "      <td>USAD_CTY</td>\n",
              "    </tr>\n",
              "    <tr>\n",
              "      <th>16</th>\n",
              "      <td>NaN</td>\n",
              "      <td>CA</td>\n",
              "      <td>T</td>\n",
              "      <td>USAD_STA</td>\n",
              "    </tr>\n",
              "    <tr>\n",
              "      <th>17</th>\n",
              "      <td>NaN</td>\n",
              "      <td>91390</td>\n",
              "      <td>N</td>\n",
              "      <td>USAD_ZIP</td>\n",
              "    </tr>\n",
              "    <tr>\n",
              "      <th>18</th>\n",
              "      <td>NaN</td>\n",
              "      <td>NaN</td>\n",
              "      <td>NaN</td>\n",
              "      <td>NaN</td>\n",
              "    </tr>\n",
              "    <tr>\n",
              "      <th>19</th>\n",
              "      <td>Sentence: 3</td>\n",
              "      <td>812</td>\n",
              "      <td>N</td>\n",
              "      <td>USAD_SNO</td>\n",
              "    </tr>\n",
              "    <tr>\n",
              "      <th>20</th>\n",
              "      <td>NaN</td>\n",
              "      <td>BETHABARA</td>\n",
              "      <td>W</td>\n",
              "      <td>USAD_SNM</td>\n",
              "    </tr>\n",
              "    <tr>\n",
              "      <th>21</th>\n",
              "      <td>NaN</td>\n",
              "      <td>POINTE</td>\n",
              "      <td>F</td>\n",
              "      <td>USAD_SNM</td>\n",
              "    </tr>\n",
              "    <tr>\n",
              "      <th>22</th>\n",
              "      <td>NaN</td>\n",
              "      <td>CIR</td>\n",
              "      <td>F</td>\n",
              "      <td>USAD_SFX</td>\n",
              "    </tr>\n",
              "    <tr>\n",
              "      <th>23</th>\n",
              "      <td>NaN</td>\n",
              "      <td>WINSTON</td>\n",
              "      <td>W</td>\n",
              "      <td>USAD_CTY</td>\n",
              "    </tr>\n",
              "    <tr>\n",
              "      <th>24</th>\n",
              "      <td>NaN</td>\n",
              "      <td>SALEM</td>\n",
              "      <td>W</td>\n",
              "      <td>USAD_CTY</td>\n",
              "    </tr>\n",
              "    <tr>\n",
              "      <th>25</th>\n",
              "      <td>NaN</td>\n",
              "      <td>NC</td>\n",
              "      <td>T</td>\n",
              "      <td>USAD_STA</td>\n",
              "    </tr>\n",
              "    <tr>\n",
              "      <th>26</th>\n",
              "      <td>NaN</td>\n",
              "      <td>27106</td>\n",
              "      <td>N</td>\n",
              "      <td>USAD_ZIP</td>\n",
              "    </tr>\n",
              "    <tr>\n",
              "      <th>27</th>\n",
              "      <td>NaN</td>\n",
              "      <td>NaN</td>\n",
              "      <td>NaN</td>\n",
              "      <td>NaN</td>\n",
              "    </tr>\n",
              "    <tr>\n",
              "      <th>28</th>\n",
              "      <td>Sentence: 4</td>\n",
              "      <td>2407</td>\n",
              "      <td>N</td>\n",
              "      <td>USAD_SNO</td>\n",
              "    </tr>\n",
              "    <tr>\n",
              "      <th>29</th>\n",
              "      <td>NaN</td>\n",
              "      <td>CROSS</td>\n",
              "      <td>W</td>\n",
              "      <td>USAD_SNM</td>\n",
              "    </tr>\n",
              "  </tbody>\n",
              "</table>\n",
              "</div>\n",
              "      <button class=\"colab-df-convert\" onclick=\"convertToInteractive('df-8a0e0da3-8e37-4f7a-a474-96ce6868130b')\"\n",
              "              title=\"Convert this dataframe to an interactive table.\"\n",
              "              style=\"display:none;\">\n",
              "        \n",
              "  <svg xmlns=\"http://www.w3.org/2000/svg\" height=\"24px\"viewBox=\"0 0 24 24\"\n",
              "       width=\"24px\">\n",
              "    <path d=\"M0 0h24v24H0V0z\" fill=\"none\"/>\n",
              "    <path d=\"M18.56 5.44l.94 2.06.94-2.06 2.06-.94-2.06-.94-.94-2.06-.94 2.06-2.06.94zm-11 1L8.5 8.5l.94-2.06 2.06-.94-2.06-.94L8.5 2.5l-.94 2.06-2.06.94zm10 10l.94 2.06.94-2.06 2.06-.94-2.06-.94-.94-2.06-.94 2.06-2.06.94z\"/><path d=\"M17.41 7.96l-1.37-1.37c-.4-.4-.92-.59-1.43-.59-.52 0-1.04.2-1.43.59L10.3 9.45l-7.72 7.72c-.78.78-.78 2.05 0 2.83L4 21.41c.39.39.9.59 1.41.59.51 0 1.02-.2 1.41-.59l7.78-7.78 2.81-2.81c.8-.78.8-2.07 0-2.86zM5.41 20L4 18.59l7.72-7.72 1.47 1.35L5.41 20z\"/>\n",
              "  </svg>\n",
              "      </button>\n",
              "      \n",
              "  <style>\n",
              "    .colab-df-container {\n",
              "      display:flex;\n",
              "      flex-wrap:wrap;\n",
              "      gap: 12px;\n",
              "    }\n",
              "\n",
              "    .colab-df-convert {\n",
              "      background-color: #E8F0FE;\n",
              "      border: none;\n",
              "      border-radius: 50%;\n",
              "      cursor: pointer;\n",
              "      display: none;\n",
              "      fill: #1967D2;\n",
              "      height: 32px;\n",
              "      padding: 0 0 0 0;\n",
              "      width: 32px;\n",
              "    }\n",
              "\n",
              "    .colab-df-convert:hover {\n",
              "      background-color: #E2EBFA;\n",
              "      box-shadow: 0px 1px 2px rgba(60, 64, 67, 0.3), 0px 1px 3px 1px rgba(60, 64, 67, 0.15);\n",
              "      fill: #174EA6;\n",
              "    }\n",
              "\n",
              "    [theme=dark] .colab-df-convert {\n",
              "      background-color: #3B4455;\n",
              "      fill: #D2E3FC;\n",
              "    }\n",
              "\n",
              "    [theme=dark] .colab-df-convert:hover {\n",
              "      background-color: #434B5C;\n",
              "      box-shadow: 0px 1px 3px 1px rgba(0, 0, 0, 0.15);\n",
              "      filter: drop-shadow(0px 1px 2px rgba(0, 0, 0, 0.3));\n",
              "      fill: #FFFFFF;\n",
              "    }\n",
              "  </style>\n",
              "\n",
              "      <script>\n",
              "        const buttonEl =\n",
              "          document.querySelector('#df-8a0e0da3-8e37-4f7a-a474-96ce6868130b button.colab-df-convert');\n",
              "        buttonEl.style.display =\n",
              "          google.colab.kernel.accessAllowed ? 'block' : 'none';\n",
              "\n",
              "        async function convertToInteractive(key) {\n",
              "          const element = document.querySelector('#df-8a0e0da3-8e37-4f7a-a474-96ce6868130b');\n",
              "          const dataTable =\n",
              "            await google.colab.kernel.invokeFunction('convertToInteractive',\n",
              "                                                     [key], {});\n",
              "          if (!dataTable) return;\n",
              "\n",
              "          const docLinkHtml = 'Like what you see? Visit the ' +\n",
              "            '<a target=\"_blank\" href=https://colab.research.google.com/notebooks/data_table.ipynb>data table notebook</a>'\n",
              "            + ' to learn more about interactive tables.';\n",
              "          element.innerHTML = '';\n",
              "          dataTable['output_type'] = 'display_data';\n",
              "          await google.colab.output.renderOutput(dataTable, element);\n",
              "          const docLink = document.createElement('div');\n",
              "          docLink.innerHTML = docLinkHtml;\n",
              "          element.appendChild(docLink);\n",
              "        }\n",
              "      </script>\n",
              "    </div>\n",
              "  </div>\n",
              "  "
            ]
          },
          "metadata": {},
          "execution_count": 306
        }
      ]
    },
    {
      "cell_type": "code",
      "source": [
        "data =data.fillna(method =\"ffill\")"
      ],
      "metadata": {
        "id": "-sd9cJFcDfND"
      },
      "execution_count": 307,
      "outputs": []
    },
    {
      "cell_type": "code",
      "source": [
        "from sklearn.preprocessing import LabelEncoder\n",
        "from sklearn.model_selection import train_test_split\n",
        "from sklearn.metrics import accuracy_score"
      ],
      "metadata": {
        "id": "VaiDtsMu_TGQ"
      },
      "execution_count": 308,
      "outputs": []
    },
    {
      "cell_type": "code",
      "source": [
        "data[\"Sentence #\"] = LabelEncoder().fit_transform(data[\"Sentence #\"] )"
      ],
      "metadata": {
        "id": "AUYm6LUl_W13"
      },
      "execution_count": 309,
      "outputs": []
    },
    {
      "cell_type": "code",
      "source": [
        "data.head(30)"
      ],
      "metadata": {
        "id": "NaQ0sUmF_aKC",
        "outputId": "cbfce5a0-c3a9-4263-cc81-817bf5126098",
        "colab": {
          "base_uri": "https://localhost:8080/",
          "height": 990
        }
      },
      "execution_count": 310,
      "outputs": [
        {
          "output_type": "execute_result",
          "data": {
            "text/plain": [
              "    Sentence #       Word POS       Tag\n",
              "0            0       1701   N  USAD_SNO\n",
              "1            0   Westpark   W  USAD_SNM\n",
              "2            0      Drive   F  USAD_SFX\n",
              "3            0        Apt   F  USAD_APN\n",
              "4            0        110   N  USAD_ANO\n",
              "5            0     Little   W  USAD_CTY\n",
              "6            0       Rock   W  USAD_CTY\n",
              "7            0   Arkansas   T  USAD_STA\n",
              "8            0      72204   N  USAD_ZIP\n",
              "9            0      72204   N  USAD_ZIP\n",
              "10           3      29021   N  USAD_SNO\n",
              "11           3       High   W  USAD_SNM\n",
              "12           3     Sierra   W  USAD_SNM\n",
              "13           3        Trl   F  USAD_SFX\n",
              "14           3      Santa   W  USAD_CTY\n",
              "15           3    Clarita   W  USAD_CTY\n",
              "16           3         CA   T  USAD_STA\n",
              "17           3      91390   N  USAD_ZIP\n",
              "18           3      91390   N  USAD_ZIP\n",
              "19           4        812   N  USAD_SNO\n",
              "20           4  BETHABARA   W  USAD_SNM\n",
              "21           4     POINTE   F  USAD_SNM\n",
              "22           4        CIR   F  USAD_SFX\n",
              "23           4    WINSTON   W  USAD_CTY\n",
              "24           4      SALEM   W  USAD_CTY\n",
              "25           4         NC   T  USAD_STA\n",
              "26           4      27106   N  USAD_ZIP\n",
              "27           4      27106   N  USAD_ZIP\n",
              "28           5       2407   N  USAD_SNO\n",
              "29           5      CROSS   W  USAD_SNM"
            ],
            "text/html": [
              "\n",
              "  <div id=\"df-4b84ea74-0083-4b08-9979-62e991d37553\">\n",
              "    <div class=\"colab-df-container\">\n",
              "      <div>\n",
              "<style scoped>\n",
              "    .dataframe tbody tr th:only-of-type {\n",
              "        vertical-align: middle;\n",
              "    }\n",
              "\n",
              "    .dataframe tbody tr th {\n",
              "        vertical-align: top;\n",
              "    }\n",
              "\n",
              "    .dataframe thead th {\n",
              "        text-align: right;\n",
              "    }\n",
              "</style>\n",
              "<table border=\"1\" class=\"dataframe\">\n",
              "  <thead>\n",
              "    <tr style=\"text-align: right;\">\n",
              "      <th></th>\n",
              "      <th>Sentence #</th>\n",
              "      <th>Word</th>\n",
              "      <th>POS</th>\n",
              "      <th>Tag</th>\n",
              "    </tr>\n",
              "  </thead>\n",
              "  <tbody>\n",
              "    <tr>\n",
              "      <th>0</th>\n",
              "      <td>0</td>\n",
              "      <td>1701</td>\n",
              "      <td>N</td>\n",
              "      <td>USAD_SNO</td>\n",
              "    </tr>\n",
              "    <tr>\n",
              "      <th>1</th>\n",
              "      <td>0</td>\n",
              "      <td>Westpark</td>\n",
              "      <td>W</td>\n",
              "      <td>USAD_SNM</td>\n",
              "    </tr>\n",
              "    <tr>\n",
              "      <th>2</th>\n",
              "      <td>0</td>\n",
              "      <td>Drive</td>\n",
              "      <td>F</td>\n",
              "      <td>USAD_SFX</td>\n",
              "    </tr>\n",
              "    <tr>\n",
              "      <th>3</th>\n",
              "      <td>0</td>\n",
              "      <td>Apt</td>\n",
              "      <td>F</td>\n",
              "      <td>USAD_APN</td>\n",
              "    </tr>\n",
              "    <tr>\n",
              "      <th>4</th>\n",
              "      <td>0</td>\n",
              "      <td>110</td>\n",
              "      <td>N</td>\n",
              "      <td>USAD_ANO</td>\n",
              "    </tr>\n",
              "    <tr>\n",
              "      <th>5</th>\n",
              "      <td>0</td>\n",
              "      <td>Little</td>\n",
              "      <td>W</td>\n",
              "      <td>USAD_CTY</td>\n",
              "    </tr>\n",
              "    <tr>\n",
              "      <th>6</th>\n",
              "      <td>0</td>\n",
              "      <td>Rock</td>\n",
              "      <td>W</td>\n",
              "      <td>USAD_CTY</td>\n",
              "    </tr>\n",
              "    <tr>\n",
              "      <th>7</th>\n",
              "      <td>0</td>\n",
              "      <td>Arkansas</td>\n",
              "      <td>T</td>\n",
              "      <td>USAD_STA</td>\n",
              "    </tr>\n",
              "    <tr>\n",
              "      <th>8</th>\n",
              "      <td>0</td>\n",
              "      <td>72204</td>\n",
              "      <td>N</td>\n",
              "      <td>USAD_ZIP</td>\n",
              "    </tr>\n",
              "    <tr>\n",
              "      <th>9</th>\n",
              "      <td>0</td>\n",
              "      <td>72204</td>\n",
              "      <td>N</td>\n",
              "      <td>USAD_ZIP</td>\n",
              "    </tr>\n",
              "    <tr>\n",
              "      <th>10</th>\n",
              "      <td>3</td>\n",
              "      <td>29021</td>\n",
              "      <td>N</td>\n",
              "      <td>USAD_SNO</td>\n",
              "    </tr>\n",
              "    <tr>\n",
              "      <th>11</th>\n",
              "      <td>3</td>\n",
              "      <td>High</td>\n",
              "      <td>W</td>\n",
              "      <td>USAD_SNM</td>\n",
              "    </tr>\n",
              "    <tr>\n",
              "      <th>12</th>\n",
              "      <td>3</td>\n",
              "      <td>Sierra</td>\n",
              "      <td>W</td>\n",
              "      <td>USAD_SNM</td>\n",
              "    </tr>\n",
              "    <tr>\n",
              "      <th>13</th>\n",
              "      <td>3</td>\n",
              "      <td>Trl</td>\n",
              "      <td>F</td>\n",
              "      <td>USAD_SFX</td>\n",
              "    </tr>\n",
              "    <tr>\n",
              "      <th>14</th>\n",
              "      <td>3</td>\n",
              "      <td>Santa</td>\n",
              "      <td>W</td>\n",
              "      <td>USAD_CTY</td>\n",
              "    </tr>\n",
              "    <tr>\n",
              "      <th>15</th>\n",
              "      <td>3</td>\n",
              "      <td>Clarita</td>\n",
              "      <td>W</td>\n",
              "      <td>USAD_CTY</td>\n",
              "    </tr>\n",
              "    <tr>\n",
              "      <th>16</th>\n",
              "      <td>3</td>\n",
              "      <td>CA</td>\n",
              "      <td>T</td>\n",
              "      <td>USAD_STA</td>\n",
              "    </tr>\n",
              "    <tr>\n",
              "      <th>17</th>\n",
              "      <td>3</td>\n",
              "      <td>91390</td>\n",
              "      <td>N</td>\n",
              "      <td>USAD_ZIP</td>\n",
              "    </tr>\n",
              "    <tr>\n",
              "      <th>18</th>\n",
              "      <td>3</td>\n",
              "      <td>91390</td>\n",
              "      <td>N</td>\n",
              "      <td>USAD_ZIP</td>\n",
              "    </tr>\n",
              "    <tr>\n",
              "      <th>19</th>\n",
              "      <td>4</td>\n",
              "      <td>812</td>\n",
              "      <td>N</td>\n",
              "      <td>USAD_SNO</td>\n",
              "    </tr>\n",
              "    <tr>\n",
              "      <th>20</th>\n",
              "      <td>4</td>\n",
              "      <td>BETHABARA</td>\n",
              "      <td>W</td>\n",
              "      <td>USAD_SNM</td>\n",
              "    </tr>\n",
              "    <tr>\n",
              "      <th>21</th>\n",
              "      <td>4</td>\n",
              "      <td>POINTE</td>\n",
              "      <td>F</td>\n",
              "      <td>USAD_SNM</td>\n",
              "    </tr>\n",
              "    <tr>\n",
              "      <th>22</th>\n",
              "      <td>4</td>\n",
              "      <td>CIR</td>\n",
              "      <td>F</td>\n",
              "      <td>USAD_SFX</td>\n",
              "    </tr>\n",
              "    <tr>\n",
              "      <th>23</th>\n",
              "      <td>4</td>\n",
              "      <td>WINSTON</td>\n",
              "      <td>W</td>\n",
              "      <td>USAD_CTY</td>\n",
              "    </tr>\n",
              "    <tr>\n",
              "      <th>24</th>\n",
              "      <td>4</td>\n",
              "      <td>SALEM</td>\n",
              "      <td>W</td>\n",
              "      <td>USAD_CTY</td>\n",
              "    </tr>\n",
              "    <tr>\n",
              "      <th>25</th>\n",
              "      <td>4</td>\n",
              "      <td>NC</td>\n",
              "      <td>T</td>\n",
              "      <td>USAD_STA</td>\n",
              "    </tr>\n",
              "    <tr>\n",
              "      <th>26</th>\n",
              "      <td>4</td>\n",
              "      <td>27106</td>\n",
              "      <td>N</td>\n",
              "      <td>USAD_ZIP</td>\n",
              "    </tr>\n",
              "    <tr>\n",
              "      <th>27</th>\n",
              "      <td>4</td>\n",
              "      <td>27106</td>\n",
              "      <td>N</td>\n",
              "      <td>USAD_ZIP</td>\n",
              "    </tr>\n",
              "    <tr>\n",
              "      <th>28</th>\n",
              "      <td>5</td>\n",
              "      <td>2407</td>\n",
              "      <td>N</td>\n",
              "      <td>USAD_SNO</td>\n",
              "    </tr>\n",
              "    <tr>\n",
              "      <th>29</th>\n",
              "      <td>5</td>\n",
              "      <td>CROSS</td>\n",
              "      <td>W</td>\n",
              "      <td>USAD_SNM</td>\n",
              "    </tr>\n",
              "  </tbody>\n",
              "</table>\n",
              "</div>\n",
              "      <button class=\"colab-df-convert\" onclick=\"convertToInteractive('df-4b84ea74-0083-4b08-9979-62e991d37553')\"\n",
              "              title=\"Convert this dataframe to an interactive table.\"\n",
              "              style=\"display:none;\">\n",
              "        \n",
              "  <svg xmlns=\"http://www.w3.org/2000/svg\" height=\"24px\"viewBox=\"0 0 24 24\"\n",
              "       width=\"24px\">\n",
              "    <path d=\"M0 0h24v24H0V0z\" fill=\"none\"/>\n",
              "    <path d=\"M18.56 5.44l.94 2.06.94-2.06 2.06-.94-2.06-.94-.94-2.06-.94 2.06-2.06.94zm-11 1L8.5 8.5l.94-2.06 2.06-.94-2.06-.94L8.5 2.5l-.94 2.06-2.06.94zm10 10l.94 2.06.94-2.06 2.06-.94-2.06-.94-.94-2.06-.94 2.06-2.06.94z\"/><path d=\"M17.41 7.96l-1.37-1.37c-.4-.4-.92-.59-1.43-.59-.52 0-1.04.2-1.43.59L10.3 9.45l-7.72 7.72c-.78.78-.78 2.05 0 2.83L4 21.41c.39.39.9.59 1.41.59.51 0 1.02-.2 1.41-.59l7.78-7.78 2.81-2.81c.8-.78.8-2.07 0-2.86zM5.41 20L4 18.59l7.72-7.72 1.47 1.35L5.41 20z\"/>\n",
              "  </svg>\n",
              "      </button>\n",
              "      \n",
              "  <style>\n",
              "    .colab-df-container {\n",
              "      display:flex;\n",
              "      flex-wrap:wrap;\n",
              "      gap: 12px;\n",
              "    }\n",
              "\n",
              "    .colab-df-convert {\n",
              "      background-color: #E8F0FE;\n",
              "      border: none;\n",
              "      border-radius: 50%;\n",
              "      cursor: pointer;\n",
              "      display: none;\n",
              "      fill: #1967D2;\n",
              "      height: 32px;\n",
              "      padding: 0 0 0 0;\n",
              "      width: 32px;\n",
              "    }\n",
              "\n",
              "    .colab-df-convert:hover {\n",
              "      background-color: #E2EBFA;\n",
              "      box-shadow: 0px 1px 2px rgba(60, 64, 67, 0.3), 0px 1px 3px 1px rgba(60, 64, 67, 0.15);\n",
              "      fill: #174EA6;\n",
              "    }\n",
              "\n",
              "    [theme=dark] .colab-df-convert {\n",
              "      background-color: #3B4455;\n",
              "      fill: #D2E3FC;\n",
              "    }\n",
              "\n",
              "    [theme=dark] .colab-df-convert:hover {\n",
              "      background-color: #434B5C;\n",
              "      box-shadow: 0px 1px 3px 1px rgba(0, 0, 0, 0.15);\n",
              "      filter: drop-shadow(0px 1px 2px rgba(0, 0, 0, 0.3));\n",
              "      fill: #FFFFFF;\n",
              "    }\n",
              "  </style>\n",
              "\n",
              "      <script>\n",
              "        const buttonEl =\n",
              "          document.querySelector('#df-4b84ea74-0083-4b08-9979-62e991d37553 button.colab-df-convert');\n",
              "        buttonEl.style.display =\n",
              "          google.colab.kernel.accessAllowed ? 'block' : 'none';\n",
              "\n",
              "        async function convertToInteractive(key) {\n",
              "          const element = document.querySelector('#df-4b84ea74-0083-4b08-9979-62e991d37553');\n",
              "          const dataTable =\n",
              "            await google.colab.kernel.invokeFunction('convertToInteractive',\n",
              "                                                     [key], {});\n",
              "          if (!dataTable) return;\n",
              "\n",
              "          const docLinkHtml = 'Like what you see? Visit the ' +\n",
              "            '<a target=\"_blank\" href=https://colab.research.google.com/notebooks/data_table.ipynb>data table notebook</a>'\n",
              "            + ' to learn more about interactive tables.';\n",
              "          element.innerHTML = '';\n",
              "          dataTable['output_type'] = 'display_data';\n",
              "          await google.colab.output.renderOutput(dataTable, element);\n",
              "          const docLink = document.createElement('div');\n",
              "          docLink.innerHTML = docLinkHtml;\n",
              "          element.appendChild(docLink);\n",
              "        }\n",
              "      </script>\n",
              "    </div>\n",
              "  </div>\n",
              "  "
            ]
          },
          "metadata": {},
          "execution_count": 310
        }
      ]
    },
    {
      "cell_type": "code",
      "source": [
        "data.rename(columns={\"Sentence #\":\"sentence_id\",\"Word\":\"words\",\"Tag\":\"labels\"}, inplace =True)"
      ],
      "metadata": {
        "id": "S48_vO_9_f6m"
      },
      "execution_count": 311,
      "outputs": []
    },
    {
      "cell_type": "code",
      "source": [
        "data[\"labels\"] = data[\"labels\"].str.upper()"
      ],
      "metadata": {
        "id": "vbxuuiH__gnr"
      },
      "execution_count": 312,
      "outputs": []
    },
    {
      "cell_type": "code",
      "source": [
        "X= data[[\"sentence_id\",\"words\"]]\n",
        "Y =data[\"labels\"]"
      ],
      "metadata": {
        "id": "sF83FJkj_gq9"
      },
      "execution_count": 313,
      "outputs": []
    },
    {
      "cell_type": "code",
      "source": [
        "Y"
      ],
      "metadata": {
        "id": "S9rrdf-KCzHA",
        "outputId": "4d341e7a-5cea-4e44-e04b-983183db8f83",
        "colab": {
          "base_uri": "https://localhost:8080/"
        }
      },
      "execution_count": 314,
      "outputs": [
        {
          "output_type": "execute_result",
          "data": {
            "text/plain": [
              "0     USAD_SNO\n",
              "1     USAD_SNM\n",
              "2     USAD_SFX\n",
              "3     USAD_APN\n",
              "4     USAD_ANO\n",
              "        ...   \n",
              "94    USAD_SFX\n",
              "95    USAD_CTY\n",
              "96    USAD_CTY\n",
              "97    USAD_STA\n",
              "98    USAD_ZIP\n",
              "Name: labels, Length: 99, dtype: object"
            ]
          },
          "metadata": {},
          "execution_count": 314
        }
      ]
    },
    {
      "cell_type": "code",
      "source": [
        "x_train, x_test, y_train, y_test = train_test_split(X,Y, test_size =0.2)"
      ],
      "metadata": {
        "id": "3BaQTou8_ktG"
      },
      "execution_count": 315,
      "outputs": []
    },
    {
      "cell_type": "code",
      "source": [
        "#building up train data and test data\n",
        "train_data = pd.DataFrame({\"sentence_id\":x_train[\"sentence_id\"],\"words\":x_train[\"words\"],\"labels\":y_train})\n",
        "test_data = pd.DataFrame({\"sentence_id\":x_test[\"sentence_id\"],\"words\":x_test[\"words\"],\"labels\":y_test})"
      ],
      "metadata": {
        "id": "fJq5xhUL_nTR"
      },
      "execution_count": 316,
      "outputs": []
    },
    {
      "cell_type": "code",
      "source": [
        "train_data"
      ],
      "metadata": {
        "id": "NixEKXPD_pli",
        "outputId": "84dc7025-1b67-4355-853f-e415fa464dfb",
        "colab": {
          "base_uri": "https://localhost:8080/",
          "height": 424
        }
      },
      "execution_count": 317,
      "outputs": [
        {
          "output_type": "execute_result",
          "data": {
            "text/plain": [
              "    sentence_id   words    labels\n",
              "87            1   SALEM  USAD_CTY\n",
              "65            9  SILVER  USAD_SNM\n",
              "18            3   91390  USAD_ZIP\n",
              "55            8    3476  USAD_SNO\n",
              "47            7   SALLY  USAD_SNM\n",
              "..          ...     ...       ...\n",
              "24            4   SALEM  USAD_CTY\n",
              "92            2   SAINT  USAD_SNM\n",
              "69            9   SALEM  USAD_CTY\n",
              "78           10   SALEM  USAD_CTY\n",
              "39            6  George  USAD_SNM\n",
              "\n",
              "[79 rows x 3 columns]"
            ],
            "text/html": [
              "\n",
              "  <div id=\"df-c3a87c82-4975-413e-812d-90499f65c727\">\n",
              "    <div class=\"colab-df-container\">\n",
              "      <div>\n",
              "<style scoped>\n",
              "    .dataframe tbody tr th:only-of-type {\n",
              "        vertical-align: middle;\n",
              "    }\n",
              "\n",
              "    .dataframe tbody tr th {\n",
              "        vertical-align: top;\n",
              "    }\n",
              "\n",
              "    .dataframe thead th {\n",
              "        text-align: right;\n",
              "    }\n",
              "</style>\n",
              "<table border=\"1\" class=\"dataframe\">\n",
              "  <thead>\n",
              "    <tr style=\"text-align: right;\">\n",
              "      <th></th>\n",
              "      <th>sentence_id</th>\n",
              "      <th>words</th>\n",
              "      <th>labels</th>\n",
              "    </tr>\n",
              "  </thead>\n",
              "  <tbody>\n",
              "    <tr>\n",
              "      <th>87</th>\n",
              "      <td>1</td>\n",
              "      <td>SALEM</td>\n",
              "      <td>USAD_CTY</td>\n",
              "    </tr>\n",
              "    <tr>\n",
              "      <th>65</th>\n",
              "      <td>9</td>\n",
              "      <td>SILVER</td>\n",
              "      <td>USAD_SNM</td>\n",
              "    </tr>\n",
              "    <tr>\n",
              "      <th>18</th>\n",
              "      <td>3</td>\n",
              "      <td>91390</td>\n",
              "      <td>USAD_ZIP</td>\n",
              "    </tr>\n",
              "    <tr>\n",
              "      <th>55</th>\n",
              "      <td>8</td>\n",
              "      <td>3476</td>\n",
              "      <td>USAD_SNO</td>\n",
              "    </tr>\n",
              "    <tr>\n",
              "      <th>47</th>\n",
              "      <td>7</td>\n",
              "      <td>SALLY</td>\n",
              "      <td>USAD_SNM</td>\n",
              "    </tr>\n",
              "    <tr>\n",
              "      <th>...</th>\n",
              "      <td>...</td>\n",
              "      <td>...</td>\n",
              "      <td>...</td>\n",
              "    </tr>\n",
              "    <tr>\n",
              "      <th>24</th>\n",
              "      <td>4</td>\n",
              "      <td>SALEM</td>\n",
              "      <td>USAD_CTY</td>\n",
              "    </tr>\n",
              "    <tr>\n",
              "      <th>92</th>\n",
              "      <td>2</td>\n",
              "      <td>SAINT</td>\n",
              "      <td>USAD_SNM</td>\n",
              "    </tr>\n",
              "    <tr>\n",
              "      <th>69</th>\n",
              "      <td>9</td>\n",
              "      <td>SALEM</td>\n",
              "      <td>USAD_CTY</td>\n",
              "    </tr>\n",
              "    <tr>\n",
              "      <th>78</th>\n",
              "      <td>10</td>\n",
              "      <td>SALEM</td>\n",
              "      <td>USAD_CTY</td>\n",
              "    </tr>\n",
              "    <tr>\n",
              "      <th>39</th>\n",
              "      <td>6</td>\n",
              "      <td>George</td>\n",
              "      <td>USAD_SNM</td>\n",
              "    </tr>\n",
              "  </tbody>\n",
              "</table>\n",
              "<p>79 rows × 3 columns</p>\n",
              "</div>\n",
              "      <button class=\"colab-df-convert\" onclick=\"convertToInteractive('df-c3a87c82-4975-413e-812d-90499f65c727')\"\n",
              "              title=\"Convert this dataframe to an interactive table.\"\n",
              "              style=\"display:none;\">\n",
              "        \n",
              "  <svg xmlns=\"http://www.w3.org/2000/svg\" height=\"24px\"viewBox=\"0 0 24 24\"\n",
              "       width=\"24px\">\n",
              "    <path d=\"M0 0h24v24H0V0z\" fill=\"none\"/>\n",
              "    <path d=\"M18.56 5.44l.94 2.06.94-2.06 2.06-.94-2.06-.94-.94-2.06-.94 2.06-2.06.94zm-11 1L8.5 8.5l.94-2.06 2.06-.94-2.06-.94L8.5 2.5l-.94 2.06-2.06.94zm10 10l.94 2.06.94-2.06 2.06-.94-2.06-.94-.94-2.06-.94 2.06-2.06.94z\"/><path d=\"M17.41 7.96l-1.37-1.37c-.4-.4-.92-.59-1.43-.59-.52 0-1.04.2-1.43.59L10.3 9.45l-7.72 7.72c-.78.78-.78 2.05 0 2.83L4 21.41c.39.39.9.59 1.41.59.51 0 1.02-.2 1.41-.59l7.78-7.78 2.81-2.81c.8-.78.8-2.07 0-2.86zM5.41 20L4 18.59l7.72-7.72 1.47 1.35L5.41 20z\"/>\n",
              "  </svg>\n",
              "      </button>\n",
              "      \n",
              "  <style>\n",
              "    .colab-df-container {\n",
              "      display:flex;\n",
              "      flex-wrap:wrap;\n",
              "      gap: 12px;\n",
              "    }\n",
              "\n",
              "    .colab-df-convert {\n",
              "      background-color: #E8F0FE;\n",
              "      border: none;\n",
              "      border-radius: 50%;\n",
              "      cursor: pointer;\n",
              "      display: none;\n",
              "      fill: #1967D2;\n",
              "      height: 32px;\n",
              "      padding: 0 0 0 0;\n",
              "      width: 32px;\n",
              "    }\n",
              "\n",
              "    .colab-df-convert:hover {\n",
              "      background-color: #E2EBFA;\n",
              "      box-shadow: 0px 1px 2px rgba(60, 64, 67, 0.3), 0px 1px 3px 1px rgba(60, 64, 67, 0.15);\n",
              "      fill: #174EA6;\n",
              "    }\n",
              "\n",
              "    [theme=dark] .colab-df-convert {\n",
              "      background-color: #3B4455;\n",
              "      fill: #D2E3FC;\n",
              "    }\n",
              "\n",
              "    [theme=dark] .colab-df-convert:hover {\n",
              "      background-color: #434B5C;\n",
              "      box-shadow: 0px 1px 3px 1px rgba(0, 0, 0, 0.15);\n",
              "      filter: drop-shadow(0px 1px 2px rgba(0, 0, 0, 0.3));\n",
              "      fill: #FFFFFF;\n",
              "    }\n",
              "  </style>\n",
              "\n",
              "      <script>\n",
              "        const buttonEl =\n",
              "          document.querySelector('#df-c3a87c82-4975-413e-812d-90499f65c727 button.colab-df-convert');\n",
              "        buttonEl.style.display =\n",
              "          google.colab.kernel.accessAllowed ? 'block' : 'none';\n",
              "\n",
              "        async function convertToInteractive(key) {\n",
              "          const element = document.querySelector('#df-c3a87c82-4975-413e-812d-90499f65c727');\n",
              "          const dataTable =\n",
              "            await google.colab.kernel.invokeFunction('convertToInteractive',\n",
              "                                                     [key], {});\n",
              "          if (!dataTable) return;\n",
              "\n",
              "          const docLinkHtml = 'Like what you see? Visit the ' +\n",
              "            '<a target=\"_blank\" href=https://colab.research.google.com/notebooks/data_table.ipynb>data table notebook</a>'\n",
              "            + ' to learn more about interactive tables.';\n",
              "          element.innerHTML = '';\n",
              "          dataTable['output_type'] = 'display_data';\n",
              "          await google.colab.output.renderOutput(dataTable, element);\n",
              "          const docLink = document.createElement('div');\n",
              "          docLink.innerHTML = docLinkHtml;\n",
              "          element.appendChild(docLink);\n",
              "        }\n",
              "      </script>\n",
              "    </div>\n",
              "  </div>\n",
              "  "
            ]
          },
          "metadata": {},
          "execution_count": 317
        }
      ]
    },
    {
      "cell_type": "code",
      "source": [
        "from simpletransformers.ner import NERModel,NERArgs"
      ],
      "metadata": {
        "id": "SgTk7F-8_rnx"
      },
      "execution_count": 318,
      "outputs": []
    },
    {
      "cell_type": "code",
      "source": [
        "label = data[\"labels\"].unique().tolist()\n",
        "label"
      ],
      "metadata": {
        "id": "UkggcqR2_vtT",
        "outputId": "2268b0cd-70be-4330-9ee5-fc46f75076d0",
        "colab": {
          "base_uri": "https://localhost:8080/"
        }
      },
      "execution_count": 319,
      "outputs": [
        {
          "output_type": "execute_result",
          "data": {
            "text/plain": [
              "['USAD_SNO',\n",
              " 'USAD_SNM',\n",
              " 'USAD_SFX',\n",
              " 'USAD_APN',\n",
              " 'USAD_ANO',\n",
              " 'USAD_CTY',\n",
              " 'USAD_STA',\n",
              " 'USAD_ZIP',\n",
              " 'USAD_CTY,']"
            ]
          },
          "metadata": {},
          "execution_count": 319
        }
      ]
    },
    {
      "cell_type": "code",
      "source": [
        "args = NERArgs()\n",
        "args.num_train_epochs = 1\n",
        "args.learning_rate = 1e-4\n",
        "args.overwrite_output_dir =True\n",
        "args.train_batch_size = 32\n",
        "args.eval_batch_size = 32"
      ],
      "metadata": {
        "id": "PuwQoEW7_yH5"
      },
      "execution_count": 320,
      "outputs": []
    },
    {
      "cell_type": "code",
      "source": [
        "model = NERModel('bert', 'bert-base-uncased',labels=label,args =args)"
      ],
      "metadata": {
        "id": "LS0YAWvd_0zA",
        "outputId": "9ea80e51-bede-4eb8-9c03-9b243697c750",
        "colab": {
          "base_uri": "https://localhost:8080/"
        }
      },
      "execution_count": 321,
      "outputs": [
        {
          "output_type": "stream",
          "name": "stderr",
          "text": [
            "Some weights of the model checkpoint at bert-base-uncased were not used when initializing BertForTokenClassification: ['cls.predictions.transform.LayerNorm.bias', 'cls.seq_relationship.weight', 'cls.predictions.decoder.weight', 'cls.seq_relationship.bias', 'cls.predictions.transform.LayerNorm.weight', 'cls.predictions.transform.dense.bias', 'cls.predictions.transform.dense.weight', 'cls.predictions.bias']\n",
            "- This IS expected if you are initializing BertForTokenClassification from the checkpoint of a model trained on another task or with another architecture (e.g. initializing a BertForSequenceClassification model from a BertForPreTraining model).\n",
            "- This IS NOT expected if you are initializing BertForTokenClassification from the checkpoint of a model that you expect to be exactly identical (initializing a BertForSequenceClassification model from a BertForSequenceClassification model).\n",
            "Some weights of BertForTokenClassification were not initialized from the model checkpoint at bert-base-uncased and are newly initialized: ['classifier.weight', 'classifier.bias']\n",
            "You should probably TRAIN this model on a down-stream task to be able to use it for predictions and inference.\n"
          ]
        }
      ]
    },
    {
      "cell_type": "code",
      "source": [
        "model.train_model(train_data,eval_data = test_data,acc=accuracy_score)"
      ],
      "metadata": {
        "id": "bFOCQ-3v_7d7",
        "outputId": "c6adeb21-1c7b-465f-ea8d-9c4db97384ff",
        "colab": {
          "base_uri": "https://localhost:8080/",
          "height": 131,
          "referenced_widgets": [
            "46a547bd8ccc4d209488d5cb5d3d4d01",
            "35631ccd397f4673a3fbe884156cbc71",
            "6f9882eb38e24bbdb33e79b7d80da1bc",
            "46ab35d6520741c48bd71f8f9718efae",
            "a835c6aafa874d878cfbc5a585050f70",
            "6a298cddde864efb8cf426be4d0bb0fc",
            "a190e862fe6441249a7a6ac2770e9157",
            "6306667fe6554fdc94366f97e9df3b41",
            "0c918a3a337846a48c577c96c24b6818",
            "1fce0ca6fcc947b8a640987cccedcb6f",
            "c7bc446b362d49479105b9ba13f1a22b",
            "d50fef11db3d4440ac4e524f39435879",
            "5423ad5d19c54985ab0dd52034d71a17",
            "2a613003e49444549988d124d04f1a96",
            "30fbf3b9e64e4401afe553f7f44d8ee2",
            "8a119c5fbdc94ee4a2ca092c28788cc2",
            "1fa94a1a9ebe4a668da808e80bdf6efe",
            "eb2f6583a4e044ac86099d0d2f2b56a6",
            "1f95e1d9d01649f8b28c46eaa7fff2d0",
            "70b832ea92aa4e669dbc1579eaff86e7",
            "620b47d590a74df4b469eb80feee5a3d",
            "b2aa9bf7544449848c026f9f6a7e71c6",
            "444682419b4e41c6ad29f4bbe93d97b7",
            "d7cf0ae563354afc8ba01be868df756d",
            "8caca711a5aa4c0ea912aef137246042",
            "0fccd6c5fffe489da42e7eed4ac9851e",
            "453427f13086407882ff7a98d25af706",
            "9946facf5f0342658e87261671368fd8",
            "2159083fe131400798c79d5f8578254b",
            "0e79e3d176a94d0d8e7e5d094c07cf46",
            "b47e47774c2743bebe47b163fbeadf47",
            "4a6029452c204e15a4e7071adf31a1a1",
            "cea5c873121c4385943b336badf97b42"
          ]
        }
      },
      "execution_count": 322,
      "outputs": [
        {
          "output_type": "display_data",
          "data": {
            "text/plain": [
              "  0%|          | 0/1 [00:00<?, ?it/s]"
            ],
            "application/vnd.jupyter.widget-view+json": {
              "version_major": 2,
              "version_minor": 0,
              "model_id": "46a547bd8ccc4d209488d5cb5d3d4d01"
            }
          },
          "metadata": {}
        },
        {
          "output_type": "display_data",
          "data": {
            "text/plain": [
              "Epoch:   0%|          | 0/1 [00:00<?, ?it/s]"
            ],
            "application/vnd.jupyter.widget-view+json": {
              "version_major": 2,
              "version_minor": 0,
              "model_id": "d50fef11db3d4440ac4e524f39435879"
            }
          },
          "metadata": {}
        },
        {
          "output_type": "display_data",
          "data": {
            "text/plain": [
              "Running Epoch 0 of 1:   0%|          | 0/1 [00:00<?, ?it/s]"
            ],
            "application/vnd.jupyter.widget-view+json": {
              "version_major": 2,
              "version_minor": 0,
              "model_id": "444682419b4e41c6ad29f4bbe93d97b7"
            }
          },
          "metadata": {}
        },
        {
          "output_type": "execute_result",
          "data": {
            "text/plain": [
              "(1, 2.018035411834717)"
            ]
          },
          "metadata": {},
          "execution_count": 322
        }
      ]
    },
    {
      "cell_type": "code",
      "source": [
        "result, model_outputs, preds_list = model.eval_model(test_data)"
      ],
      "metadata": {
        "id": "eGnztu4l_-T2",
        "outputId": "f96b49f8-c153-4448-d494-f3775b449afe",
        "colab": {
          "base_uri": "https://localhost:8080/",
          "height": 81,
          "referenced_widgets": [
            "780777399209440491b54317f57fda58",
            "0378f666191c4bf9b46e1b6e1a1f9fc0",
            "b317d4c38aa5478c86b36085ae86b868",
            "81f835946c5c4095bf5f840194cb45ea",
            "5baf7c840e974e8e9fcf840e4083801d",
            "4380259681c14ff995d6d61b09d21204",
            "d3c5aa3086d742e0b8c589c3a470e95e",
            "d0ed838a2844427b81000753328713fb",
            "44c0ac0cd63f4e69bac4f387bf7af536",
            "db5e6244ae554b84824252ee80de7ff5",
            "8509fbcfb12a40fbb3a48863c348cc65",
            "fa985a3999b94d00b40f16236f79985f",
            "a490d86bdc074cdf8f8283eb418629c1",
            "dc089221a4a44603b1b44d3a5387df95",
            "d998eb1820dd49b68433a3ff620acd9e",
            "fd55aa348b6c44d29e57dbb66501a955",
            "02a2963ebc824e6e813c3f29b1675346",
            "3a6e2a342b21499b94ff6cccdb963876",
            "9f8aa94c70a24631b353fd0b3957c881",
            "a538c1812e994965a00c4feffaafa86e",
            "cd63fe4a95c44873a6731bb825db83ac",
            "206430b3c5d840eca7c747b42a4cafc7"
          ]
        }
      },
      "execution_count": 323,
      "outputs": [
        {
          "output_type": "display_data",
          "data": {
            "text/plain": [
              "  0%|          | 0/1 [00:00<?, ?it/s]"
            ],
            "application/vnd.jupyter.widget-view+json": {
              "version_major": 2,
              "version_minor": 0,
              "model_id": "780777399209440491b54317f57fda58"
            }
          },
          "metadata": {}
        },
        {
          "output_type": "display_data",
          "data": {
            "text/plain": [
              "Running Evaluation:   0%|          | 0/1 [00:00<?, ?it/s]"
            ],
            "application/vnd.jupyter.widget-view+json": {
              "version_major": 2,
              "version_minor": 0,
              "model_id": "fa985a3999b94d00b40f16236f79985f"
            }
          },
          "metadata": {}
        }
      ]
    },
    {
      "cell_type": "code",
      "source": [
        "result"
      ],
      "metadata": {
        "id": "pY8StS0nAAav",
        "outputId": "8d9eb0ea-a82e-4981-826f-66bb5db87268",
        "colab": {
          "base_uri": "https://localhost:8080/"
        }
      },
      "execution_count": 324,
      "outputs": [
        {
          "output_type": "execute_result",
          "data": {
            "text/plain": [
              "{'eval_loss': 1.987060546875,\n",
              " 'precision': 0.25,\n",
              " 'recall': 0.21052631578947367,\n",
              " 'f1_score': 0.22857142857142856}"
            ]
          },
          "metadata": {},
          "execution_count": 324
        }
      ]
    },
    {
      "cell_type": "code",
      "source": [
        "prediction, model_output = model.predict([\"Col. Gracie Camba , Jr, QA,11419 SAN MINIATO AVE, BAKERSFIELD ,CA 93312\"])"
      ],
      "metadata": {
        "id": "Ul2znvCdACXO",
        "outputId": "eacfeb54-d997-46e9-bfce-0b5750cfb348",
        "colab": {
          "base_uri": "https://localhost:8080/",
          "height": 81,
          "referenced_widgets": [
            "3c23417b5b6444a0820b707f2ff6cd14",
            "a9bac5cb9e374fae899d5dfb49502971",
            "3260544643434738af6abe6c16f23d6a",
            "c2ea432215ad4b3fba35e4ebabe325b7",
            "12a615cbbd0a48a2aa410061d4fabf5c",
            "41bff7d6b3c74c8fb8f111ec899ff861",
            "3e305a58d6474ccbadc9741d09cbe4d1",
            "61eb2958b9f545d88b64f39a1aee0c21",
            "037db61c0a974bfcafea5dfdcd1c10f1",
            "cb58cccc7ad743db8d419a5aef37cea8",
            "d3fcea2848fe416aa2e463e03b3ddf53",
            "6f0a335d7b5647f3b529688cb005723d",
            "735e378c51c54136931f9c563c3f4425",
            "5219f1b097d946dfa3a15e9c0bea7d74",
            "d1c60e03117640779376a478a56c655b",
            "91317d8ede6d4c87a1ca8b65b7ef3662",
            "0922e1a82cce4c0faab5d9f1b6dab44e",
            "5bcbaa39bea4485ab860d7a77eea2cbe",
            "472221f88b0248a7a859dcc1f32191f1",
            "d656d976696647b4aacb3d3e83afa8d5",
            "966be0e5f0df4aa0bf8db5229b13ff7f",
            "c0dbd1bbee9e4e5ab3a70e8a16994074"
          ]
        }
      },
      "execution_count": 325,
      "outputs": [
        {
          "output_type": "display_data",
          "data": {
            "text/plain": [
              "  0%|          | 0/1 [00:00<?, ?it/s]"
            ],
            "application/vnd.jupyter.widget-view+json": {
              "version_major": 2,
              "version_minor": 0,
              "model_id": "3c23417b5b6444a0820b707f2ff6cd14"
            }
          },
          "metadata": {}
        },
        {
          "output_type": "display_data",
          "data": {
            "text/plain": [
              "Running Prediction:   0%|          | 0/1 [00:00<?, ?it/s]"
            ],
            "application/vnd.jupyter.widget-view+json": {
              "version_major": 2,
              "version_minor": 0,
              "model_id": "6f0a335d7b5647f3b529688cb005723d"
            }
          },
          "metadata": {}
        }
      ]
    },
    {
      "cell_type": "code",
      "source": [
        "prediction"
      ],
      "metadata": {
        "id": "05Abcnt7ACdw",
        "outputId": "dd1e02ad-f974-4216-a5e4-8b5bb468428e",
        "colab": {
          "base_uri": "https://localhost:8080/"
        }
      },
      "execution_count": 326,
      "outputs": [
        {
          "output_type": "execute_result",
          "data": {
            "text/plain": [
              "[[{'Col.': 'USAD_CTY'},\n",
              "  {'Gracie': 'USAD_CTY'},\n",
              "  {'Camba': 'USAD_STA'},\n",
              "  {',': 'USAD_ZIP'},\n",
              "  {'Jr,': 'USAD_CTY,'},\n",
              "  {'QA,11419': 'USAD_CTY,'},\n",
              "  {'SAN': 'USAD_CTY'},\n",
              "  {'MINIATO': 'USAD_CTY'},\n",
              "  {'AVE,': 'USAD_STA'},\n",
              "  {'BAKERSFIELD': 'USAD_STA'},\n",
              "  {',CA': 'USAD_ZIP'},\n",
              "  {'93312': 'USAD_CTY,'}]]"
            ]
          },
          "metadata": {},
          "execution_count": 326
        }
      ]
    },
    {
      "cell_type": "code",
      "source": [],
      "metadata": {
        "id": "xESXbpKiAAi0"
      },
      "execution_count": 326,
      "outputs": []
    }
  ],
  "metadata": {
    "accelerator": "GPU",
    "colab": {
      "collapsed_sections": [
        "bCIWStPJF96M"
      ],
      "provenance": [],
      "include_colab_link": true
    },
    "gpuClass": "standard",
    "kernelspec": {
      "display_name": "Python 3",
      "name": "python3"
    },
    "language_info": {
      "name": "python"
    },
    "widgets": {
      "application/vnd.jupyter.widget-state+json": {
        "46a547bd8ccc4d209488d5cb5d3d4d01": {
          "model_module": "@jupyter-widgets/controls",
          "model_name": "HBoxModel",
          "model_module_version": "1.5.0",
          "state": {
            "_dom_classes": [],
            "_model_module": "@jupyter-widgets/controls",
            "_model_module_version": "1.5.0",
            "_model_name": "HBoxModel",
            "_view_count": null,
            "_view_module": "@jupyter-widgets/controls",
            "_view_module_version": "1.5.0",
            "_view_name": "HBoxView",
            "box_style": "",
            "children": [
              "IPY_MODEL_35631ccd397f4673a3fbe884156cbc71",
              "IPY_MODEL_6f9882eb38e24bbdb33e79b7d80da1bc",
              "IPY_MODEL_46ab35d6520741c48bd71f8f9718efae"
            ],
            "layout": "IPY_MODEL_a835c6aafa874d878cfbc5a585050f70"
          }
        },
        "35631ccd397f4673a3fbe884156cbc71": {
          "model_module": "@jupyter-widgets/controls",
          "model_name": "HTMLModel",
          "model_module_version": "1.5.0",
          "state": {
            "_dom_classes": [],
            "_model_module": "@jupyter-widgets/controls",
            "_model_module_version": "1.5.0",
            "_model_name": "HTMLModel",
            "_view_count": null,
            "_view_module": "@jupyter-widgets/controls",
            "_view_module_version": "1.5.0",
            "_view_name": "HTMLView",
            "description": "",
            "description_tooltip": null,
            "layout": "IPY_MODEL_6a298cddde864efb8cf426be4d0bb0fc",
            "placeholder": "​",
            "style": "IPY_MODEL_a190e862fe6441249a7a6ac2770e9157",
            "value": "100%"
          }
        },
        "6f9882eb38e24bbdb33e79b7d80da1bc": {
          "model_module": "@jupyter-widgets/controls",
          "model_name": "FloatProgressModel",
          "model_module_version": "1.5.0",
          "state": {
            "_dom_classes": [],
            "_model_module": "@jupyter-widgets/controls",
            "_model_module_version": "1.5.0",
            "_model_name": "FloatProgressModel",
            "_view_count": null,
            "_view_module": "@jupyter-widgets/controls",
            "_view_module_version": "1.5.0",
            "_view_name": "ProgressView",
            "bar_style": "success",
            "description": "",
            "description_tooltip": null,
            "layout": "IPY_MODEL_6306667fe6554fdc94366f97e9df3b41",
            "max": 1,
            "min": 0,
            "orientation": "horizontal",
            "style": "IPY_MODEL_0c918a3a337846a48c577c96c24b6818",
            "value": 1
          }
        },
        "46ab35d6520741c48bd71f8f9718efae": {
          "model_module": "@jupyter-widgets/controls",
          "model_name": "HTMLModel",
          "model_module_version": "1.5.0",
          "state": {
            "_dom_classes": [],
            "_model_module": "@jupyter-widgets/controls",
            "_model_module_version": "1.5.0",
            "_model_name": "HTMLModel",
            "_view_count": null,
            "_view_module": "@jupyter-widgets/controls",
            "_view_module_version": "1.5.0",
            "_view_name": "HTMLView",
            "description": "",
            "description_tooltip": null,
            "layout": "IPY_MODEL_1fce0ca6fcc947b8a640987cccedcb6f",
            "placeholder": "​",
            "style": "IPY_MODEL_c7bc446b362d49479105b9ba13f1a22b",
            "value": " 1/1 [00:00&lt;00:00,  6.37it/s]"
          }
        },
        "a835c6aafa874d878cfbc5a585050f70": {
          "model_module": "@jupyter-widgets/base",
          "model_name": "LayoutModel",
          "model_module_version": "1.2.0",
          "state": {
            "_model_module": "@jupyter-widgets/base",
            "_model_module_version": "1.2.0",
            "_model_name": "LayoutModel",
            "_view_count": null,
            "_view_module": "@jupyter-widgets/base",
            "_view_module_version": "1.2.0",
            "_view_name": "LayoutView",
            "align_content": null,
            "align_items": null,
            "align_self": null,
            "border": null,
            "bottom": null,
            "display": null,
            "flex": null,
            "flex_flow": null,
            "grid_area": null,
            "grid_auto_columns": null,
            "grid_auto_flow": null,
            "grid_auto_rows": null,
            "grid_column": null,
            "grid_gap": null,
            "grid_row": null,
            "grid_template_areas": null,
            "grid_template_columns": null,
            "grid_template_rows": null,
            "height": null,
            "justify_content": null,
            "justify_items": null,
            "left": null,
            "margin": null,
            "max_height": null,
            "max_width": null,
            "min_height": null,
            "min_width": null,
            "object_fit": null,
            "object_position": null,
            "order": null,
            "overflow": null,
            "overflow_x": null,
            "overflow_y": null,
            "padding": null,
            "right": null,
            "top": null,
            "visibility": null,
            "width": null
          }
        },
        "6a298cddde864efb8cf426be4d0bb0fc": {
          "model_module": "@jupyter-widgets/base",
          "model_name": "LayoutModel",
          "model_module_version": "1.2.0",
          "state": {
            "_model_module": "@jupyter-widgets/base",
            "_model_module_version": "1.2.0",
            "_model_name": "LayoutModel",
            "_view_count": null,
            "_view_module": "@jupyter-widgets/base",
            "_view_module_version": "1.2.0",
            "_view_name": "LayoutView",
            "align_content": null,
            "align_items": null,
            "align_self": null,
            "border": null,
            "bottom": null,
            "display": null,
            "flex": null,
            "flex_flow": null,
            "grid_area": null,
            "grid_auto_columns": null,
            "grid_auto_flow": null,
            "grid_auto_rows": null,
            "grid_column": null,
            "grid_gap": null,
            "grid_row": null,
            "grid_template_areas": null,
            "grid_template_columns": null,
            "grid_template_rows": null,
            "height": null,
            "justify_content": null,
            "justify_items": null,
            "left": null,
            "margin": null,
            "max_height": null,
            "max_width": null,
            "min_height": null,
            "min_width": null,
            "object_fit": null,
            "object_position": null,
            "order": null,
            "overflow": null,
            "overflow_x": null,
            "overflow_y": null,
            "padding": null,
            "right": null,
            "top": null,
            "visibility": null,
            "width": null
          }
        },
        "a190e862fe6441249a7a6ac2770e9157": {
          "model_module": "@jupyter-widgets/controls",
          "model_name": "DescriptionStyleModel",
          "model_module_version": "1.5.0",
          "state": {
            "_model_module": "@jupyter-widgets/controls",
            "_model_module_version": "1.5.0",
            "_model_name": "DescriptionStyleModel",
            "_view_count": null,
            "_view_module": "@jupyter-widgets/base",
            "_view_module_version": "1.2.0",
            "_view_name": "StyleView",
            "description_width": ""
          }
        },
        "6306667fe6554fdc94366f97e9df3b41": {
          "model_module": "@jupyter-widgets/base",
          "model_name": "LayoutModel",
          "model_module_version": "1.2.0",
          "state": {
            "_model_module": "@jupyter-widgets/base",
            "_model_module_version": "1.2.0",
            "_model_name": "LayoutModel",
            "_view_count": null,
            "_view_module": "@jupyter-widgets/base",
            "_view_module_version": "1.2.0",
            "_view_name": "LayoutView",
            "align_content": null,
            "align_items": null,
            "align_self": null,
            "border": null,
            "bottom": null,
            "display": null,
            "flex": null,
            "flex_flow": null,
            "grid_area": null,
            "grid_auto_columns": null,
            "grid_auto_flow": null,
            "grid_auto_rows": null,
            "grid_column": null,
            "grid_gap": null,
            "grid_row": null,
            "grid_template_areas": null,
            "grid_template_columns": null,
            "grid_template_rows": null,
            "height": null,
            "justify_content": null,
            "justify_items": null,
            "left": null,
            "margin": null,
            "max_height": null,
            "max_width": null,
            "min_height": null,
            "min_width": null,
            "object_fit": null,
            "object_position": null,
            "order": null,
            "overflow": null,
            "overflow_x": null,
            "overflow_y": null,
            "padding": null,
            "right": null,
            "top": null,
            "visibility": null,
            "width": null
          }
        },
        "0c918a3a337846a48c577c96c24b6818": {
          "model_module": "@jupyter-widgets/controls",
          "model_name": "ProgressStyleModel",
          "model_module_version": "1.5.0",
          "state": {
            "_model_module": "@jupyter-widgets/controls",
            "_model_module_version": "1.5.0",
            "_model_name": "ProgressStyleModel",
            "_view_count": null,
            "_view_module": "@jupyter-widgets/base",
            "_view_module_version": "1.2.0",
            "_view_name": "StyleView",
            "bar_color": null,
            "description_width": ""
          }
        },
        "1fce0ca6fcc947b8a640987cccedcb6f": {
          "model_module": "@jupyter-widgets/base",
          "model_name": "LayoutModel",
          "model_module_version": "1.2.0",
          "state": {
            "_model_module": "@jupyter-widgets/base",
            "_model_module_version": "1.2.0",
            "_model_name": "LayoutModel",
            "_view_count": null,
            "_view_module": "@jupyter-widgets/base",
            "_view_module_version": "1.2.0",
            "_view_name": "LayoutView",
            "align_content": null,
            "align_items": null,
            "align_self": null,
            "border": null,
            "bottom": null,
            "display": null,
            "flex": null,
            "flex_flow": null,
            "grid_area": null,
            "grid_auto_columns": null,
            "grid_auto_flow": null,
            "grid_auto_rows": null,
            "grid_column": null,
            "grid_gap": null,
            "grid_row": null,
            "grid_template_areas": null,
            "grid_template_columns": null,
            "grid_template_rows": null,
            "height": null,
            "justify_content": null,
            "justify_items": null,
            "left": null,
            "margin": null,
            "max_height": null,
            "max_width": null,
            "min_height": null,
            "min_width": null,
            "object_fit": null,
            "object_position": null,
            "order": null,
            "overflow": null,
            "overflow_x": null,
            "overflow_y": null,
            "padding": null,
            "right": null,
            "top": null,
            "visibility": null,
            "width": null
          }
        },
        "c7bc446b362d49479105b9ba13f1a22b": {
          "model_module": "@jupyter-widgets/controls",
          "model_name": "DescriptionStyleModel",
          "model_module_version": "1.5.0",
          "state": {
            "_model_module": "@jupyter-widgets/controls",
            "_model_module_version": "1.5.0",
            "_model_name": "DescriptionStyleModel",
            "_view_count": null,
            "_view_module": "@jupyter-widgets/base",
            "_view_module_version": "1.2.0",
            "_view_name": "StyleView",
            "description_width": ""
          }
        },
        "d50fef11db3d4440ac4e524f39435879": {
          "model_module": "@jupyter-widgets/controls",
          "model_name": "HBoxModel",
          "model_module_version": "1.5.0",
          "state": {
            "_dom_classes": [],
            "_model_module": "@jupyter-widgets/controls",
            "_model_module_version": "1.5.0",
            "_model_name": "HBoxModel",
            "_view_count": null,
            "_view_module": "@jupyter-widgets/controls",
            "_view_module_version": "1.5.0",
            "_view_name": "HBoxView",
            "box_style": "",
            "children": [
              "IPY_MODEL_5423ad5d19c54985ab0dd52034d71a17",
              "IPY_MODEL_2a613003e49444549988d124d04f1a96",
              "IPY_MODEL_30fbf3b9e64e4401afe553f7f44d8ee2"
            ],
            "layout": "IPY_MODEL_8a119c5fbdc94ee4a2ca092c28788cc2"
          }
        },
        "5423ad5d19c54985ab0dd52034d71a17": {
          "model_module": "@jupyter-widgets/controls",
          "model_name": "HTMLModel",
          "model_module_version": "1.5.0",
          "state": {
            "_dom_classes": [],
            "_model_module": "@jupyter-widgets/controls",
            "_model_module_version": "1.5.0",
            "_model_name": "HTMLModel",
            "_view_count": null,
            "_view_module": "@jupyter-widgets/controls",
            "_view_module_version": "1.5.0",
            "_view_name": "HTMLView",
            "description": "",
            "description_tooltip": null,
            "layout": "IPY_MODEL_1fa94a1a9ebe4a668da808e80bdf6efe",
            "placeholder": "​",
            "style": "IPY_MODEL_eb2f6583a4e044ac86099d0d2f2b56a6",
            "value": "Epoch 1 of 1: 100%"
          }
        },
        "2a613003e49444549988d124d04f1a96": {
          "model_module": "@jupyter-widgets/controls",
          "model_name": "FloatProgressModel",
          "model_module_version": "1.5.0",
          "state": {
            "_dom_classes": [],
            "_model_module": "@jupyter-widgets/controls",
            "_model_module_version": "1.5.0",
            "_model_name": "FloatProgressModel",
            "_view_count": null,
            "_view_module": "@jupyter-widgets/controls",
            "_view_module_version": "1.5.0",
            "_view_name": "ProgressView",
            "bar_style": "success",
            "description": "",
            "description_tooltip": null,
            "layout": "IPY_MODEL_1f95e1d9d01649f8b28c46eaa7fff2d0",
            "max": 1,
            "min": 0,
            "orientation": "horizontal",
            "style": "IPY_MODEL_70b832ea92aa4e669dbc1579eaff86e7",
            "value": 1
          }
        },
        "30fbf3b9e64e4401afe553f7f44d8ee2": {
          "model_module": "@jupyter-widgets/controls",
          "model_name": "HTMLModel",
          "model_module_version": "1.5.0",
          "state": {
            "_dom_classes": [],
            "_model_module": "@jupyter-widgets/controls",
            "_model_module_version": "1.5.0",
            "_model_name": "HTMLModel",
            "_view_count": null,
            "_view_module": "@jupyter-widgets/controls",
            "_view_module_version": "1.5.0",
            "_view_name": "HTMLView",
            "description": "",
            "description_tooltip": null,
            "layout": "IPY_MODEL_620b47d590a74df4b469eb80feee5a3d",
            "placeholder": "​",
            "style": "IPY_MODEL_b2aa9bf7544449848c026f9f6a7e71c6",
            "value": " 1/1 [00:05&lt;00:00,  5.32s/it]"
          }
        },
        "8a119c5fbdc94ee4a2ca092c28788cc2": {
          "model_module": "@jupyter-widgets/base",
          "model_name": "LayoutModel",
          "model_module_version": "1.2.0",
          "state": {
            "_model_module": "@jupyter-widgets/base",
            "_model_module_version": "1.2.0",
            "_model_name": "LayoutModel",
            "_view_count": null,
            "_view_module": "@jupyter-widgets/base",
            "_view_module_version": "1.2.0",
            "_view_name": "LayoutView",
            "align_content": null,
            "align_items": null,
            "align_self": null,
            "border": null,
            "bottom": null,
            "display": null,
            "flex": null,
            "flex_flow": null,
            "grid_area": null,
            "grid_auto_columns": null,
            "grid_auto_flow": null,
            "grid_auto_rows": null,
            "grid_column": null,
            "grid_gap": null,
            "grid_row": null,
            "grid_template_areas": null,
            "grid_template_columns": null,
            "grid_template_rows": null,
            "height": null,
            "justify_content": null,
            "justify_items": null,
            "left": null,
            "margin": null,
            "max_height": null,
            "max_width": null,
            "min_height": null,
            "min_width": null,
            "object_fit": null,
            "object_position": null,
            "order": null,
            "overflow": null,
            "overflow_x": null,
            "overflow_y": null,
            "padding": null,
            "right": null,
            "top": null,
            "visibility": null,
            "width": null
          }
        },
        "1fa94a1a9ebe4a668da808e80bdf6efe": {
          "model_module": "@jupyter-widgets/base",
          "model_name": "LayoutModel",
          "model_module_version": "1.2.0",
          "state": {
            "_model_module": "@jupyter-widgets/base",
            "_model_module_version": "1.2.0",
            "_model_name": "LayoutModel",
            "_view_count": null,
            "_view_module": "@jupyter-widgets/base",
            "_view_module_version": "1.2.0",
            "_view_name": "LayoutView",
            "align_content": null,
            "align_items": null,
            "align_self": null,
            "border": null,
            "bottom": null,
            "display": null,
            "flex": null,
            "flex_flow": null,
            "grid_area": null,
            "grid_auto_columns": null,
            "grid_auto_flow": null,
            "grid_auto_rows": null,
            "grid_column": null,
            "grid_gap": null,
            "grid_row": null,
            "grid_template_areas": null,
            "grid_template_columns": null,
            "grid_template_rows": null,
            "height": null,
            "justify_content": null,
            "justify_items": null,
            "left": null,
            "margin": null,
            "max_height": null,
            "max_width": null,
            "min_height": null,
            "min_width": null,
            "object_fit": null,
            "object_position": null,
            "order": null,
            "overflow": null,
            "overflow_x": null,
            "overflow_y": null,
            "padding": null,
            "right": null,
            "top": null,
            "visibility": null,
            "width": null
          }
        },
        "eb2f6583a4e044ac86099d0d2f2b56a6": {
          "model_module": "@jupyter-widgets/controls",
          "model_name": "DescriptionStyleModel",
          "model_module_version": "1.5.0",
          "state": {
            "_model_module": "@jupyter-widgets/controls",
            "_model_module_version": "1.5.0",
            "_model_name": "DescriptionStyleModel",
            "_view_count": null,
            "_view_module": "@jupyter-widgets/base",
            "_view_module_version": "1.2.0",
            "_view_name": "StyleView",
            "description_width": ""
          }
        },
        "1f95e1d9d01649f8b28c46eaa7fff2d0": {
          "model_module": "@jupyter-widgets/base",
          "model_name": "LayoutModel",
          "model_module_version": "1.2.0",
          "state": {
            "_model_module": "@jupyter-widgets/base",
            "_model_module_version": "1.2.0",
            "_model_name": "LayoutModel",
            "_view_count": null,
            "_view_module": "@jupyter-widgets/base",
            "_view_module_version": "1.2.0",
            "_view_name": "LayoutView",
            "align_content": null,
            "align_items": null,
            "align_self": null,
            "border": null,
            "bottom": null,
            "display": null,
            "flex": null,
            "flex_flow": null,
            "grid_area": null,
            "grid_auto_columns": null,
            "grid_auto_flow": null,
            "grid_auto_rows": null,
            "grid_column": null,
            "grid_gap": null,
            "grid_row": null,
            "grid_template_areas": null,
            "grid_template_columns": null,
            "grid_template_rows": null,
            "height": null,
            "justify_content": null,
            "justify_items": null,
            "left": null,
            "margin": null,
            "max_height": null,
            "max_width": null,
            "min_height": null,
            "min_width": null,
            "object_fit": null,
            "object_position": null,
            "order": null,
            "overflow": null,
            "overflow_x": null,
            "overflow_y": null,
            "padding": null,
            "right": null,
            "top": null,
            "visibility": null,
            "width": null
          }
        },
        "70b832ea92aa4e669dbc1579eaff86e7": {
          "model_module": "@jupyter-widgets/controls",
          "model_name": "ProgressStyleModel",
          "model_module_version": "1.5.0",
          "state": {
            "_model_module": "@jupyter-widgets/controls",
            "_model_module_version": "1.5.0",
            "_model_name": "ProgressStyleModel",
            "_view_count": null,
            "_view_module": "@jupyter-widgets/base",
            "_view_module_version": "1.2.0",
            "_view_name": "StyleView",
            "bar_color": null,
            "description_width": ""
          }
        },
        "620b47d590a74df4b469eb80feee5a3d": {
          "model_module": "@jupyter-widgets/base",
          "model_name": "LayoutModel",
          "model_module_version": "1.2.0",
          "state": {
            "_model_module": "@jupyter-widgets/base",
            "_model_module_version": "1.2.0",
            "_model_name": "LayoutModel",
            "_view_count": null,
            "_view_module": "@jupyter-widgets/base",
            "_view_module_version": "1.2.0",
            "_view_name": "LayoutView",
            "align_content": null,
            "align_items": null,
            "align_self": null,
            "border": null,
            "bottom": null,
            "display": null,
            "flex": null,
            "flex_flow": null,
            "grid_area": null,
            "grid_auto_columns": null,
            "grid_auto_flow": null,
            "grid_auto_rows": null,
            "grid_column": null,
            "grid_gap": null,
            "grid_row": null,
            "grid_template_areas": null,
            "grid_template_columns": null,
            "grid_template_rows": null,
            "height": null,
            "justify_content": null,
            "justify_items": null,
            "left": null,
            "margin": null,
            "max_height": null,
            "max_width": null,
            "min_height": null,
            "min_width": null,
            "object_fit": null,
            "object_position": null,
            "order": null,
            "overflow": null,
            "overflow_x": null,
            "overflow_y": null,
            "padding": null,
            "right": null,
            "top": null,
            "visibility": null,
            "width": null
          }
        },
        "b2aa9bf7544449848c026f9f6a7e71c6": {
          "model_module": "@jupyter-widgets/controls",
          "model_name": "DescriptionStyleModel",
          "model_module_version": "1.5.0",
          "state": {
            "_model_module": "@jupyter-widgets/controls",
            "_model_module_version": "1.5.0",
            "_model_name": "DescriptionStyleModel",
            "_view_count": null,
            "_view_module": "@jupyter-widgets/base",
            "_view_module_version": "1.2.0",
            "_view_name": "StyleView",
            "description_width": ""
          }
        },
        "444682419b4e41c6ad29f4bbe93d97b7": {
          "model_module": "@jupyter-widgets/controls",
          "model_name": "HBoxModel",
          "model_module_version": "1.5.0",
          "state": {
            "_dom_classes": [],
            "_model_module": "@jupyter-widgets/controls",
            "_model_module_version": "1.5.0",
            "_model_name": "HBoxModel",
            "_view_count": null,
            "_view_module": "@jupyter-widgets/controls",
            "_view_module_version": "1.5.0",
            "_view_name": "HBoxView",
            "box_style": "",
            "children": [
              "IPY_MODEL_d7cf0ae563354afc8ba01be868df756d",
              "IPY_MODEL_8caca711a5aa4c0ea912aef137246042",
              "IPY_MODEL_0fccd6c5fffe489da42e7eed4ac9851e"
            ],
            "layout": "IPY_MODEL_453427f13086407882ff7a98d25af706"
          }
        },
        "d7cf0ae563354afc8ba01be868df756d": {
          "model_module": "@jupyter-widgets/controls",
          "model_name": "HTMLModel",
          "model_module_version": "1.5.0",
          "state": {
            "_dom_classes": [],
            "_model_module": "@jupyter-widgets/controls",
            "_model_module_version": "1.5.0",
            "_model_name": "HTMLModel",
            "_view_count": null,
            "_view_module": "@jupyter-widgets/controls",
            "_view_module_version": "1.5.0",
            "_view_name": "HTMLView",
            "description": "",
            "description_tooltip": null,
            "layout": "IPY_MODEL_9946facf5f0342658e87261671368fd8",
            "placeholder": "​",
            "style": "IPY_MODEL_2159083fe131400798c79d5f8578254b",
            "value": "Epochs 0/1. Running Loss:    2.0180: 100%"
          }
        },
        "8caca711a5aa4c0ea912aef137246042": {
          "model_module": "@jupyter-widgets/controls",
          "model_name": "FloatProgressModel",
          "model_module_version": "1.5.0",
          "state": {
            "_dom_classes": [],
            "_model_module": "@jupyter-widgets/controls",
            "_model_module_version": "1.5.0",
            "_model_name": "FloatProgressModel",
            "_view_count": null,
            "_view_module": "@jupyter-widgets/controls",
            "_view_module_version": "1.5.0",
            "_view_name": "ProgressView",
            "bar_style": "success",
            "description": "",
            "description_tooltip": null,
            "layout": "IPY_MODEL_0e79e3d176a94d0d8e7e5d094c07cf46",
            "max": 1,
            "min": 0,
            "orientation": "horizontal",
            "style": "IPY_MODEL_b47e47774c2743bebe47b163fbeadf47",
            "value": 1
          }
        },
        "0fccd6c5fffe489da42e7eed4ac9851e": {
          "model_module": "@jupyter-widgets/controls",
          "model_name": "HTMLModel",
          "model_module_version": "1.5.0",
          "state": {
            "_dom_classes": [],
            "_model_module": "@jupyter-widgets/controls",
            "_model_module_version": "1.5.0",
            "_model_name": "HTMLModel",
            "_view_count": null,
            "_view_module": "@jupyter-widgets/controls",
            "_view_module_version": "1.5.0",
            "_view_name": "HTMLView",
            "description": "",
            "description_tooltip": null,
            "layout": "IPY_MODEL_4a6029452c204e15a4e7071adf31a1a1",
            "placeholder": "​",
            "style": "IPY_MODEL_cea5c873121c4385943b336badf97b42",
            "value": " 1/1 [00:00&lt;00:00,  4.47it/s]"
          }
        },
        "453427f13086407882ff7a98d25af706": {
          "model_module": "@jupyter-widgets/base",
          "model_name": "LayoutModel",
          "model_module_version": "1.2.0",
          "state": {
            "_model_module": "@jupyter-widgets/base",
            "_model_module_version": "1.2.0",
            "_model_name": "LayoutModel",
            "_view_count": null,
            "_view_module": "@jupyter-widgets/base",
            "_view_module_version": "1.2.0",
            "_view_name": "LayoutView",
            "align_content": null,
            "align_items": null,
            "align_self": null,
            "border": null,
            "bottom": null,
            "display": null,
            "flex": null,
            "flex_flow": null,
            "grid_area": null,
            "grid_auto_columns": null,
            "grid_auto_flow": null,
            "grid_auto_rows": null,
            "grid_column": null,
            "grid_gap": null,
            "grid_row": null,
            "grid_template_areas": null,
            "grid_template_columns": null,
            "grid_template_rows": null,
            "height": null,
            "justify_content": null,
            "justify_items": null,
            "left": null,
            "margin": null,
            "max_height": null,
            "max_width": null,
            "min_height": null,
            "min_width": null,
            "object_fit": null,
            "object_position": null,
            "order": null,
            "overflow": null,
            "overflow_x": null,
            "overflow_y": null,
            "padding": null,
            "right": null,
            "top": null,
            "visibility": null,
            "width": null
          }
        },
        "9946facf5f0342658e87261671368fd8": {
          "model_module": "@jupyter-widgets/base",
          "model_name": "LayoutModel",
          "model_module_version": "1.2.0",
          "state": {
            "_model_module": "@jupyter-widgets/base",
            "_model_module_version": "1.2.0",
            "_model_name": "LayoutModel",
            "_view_count": null,
            "_view_module": "@jupyter-widgets/base",
            "_view_module_version": "1.2.0",
            "_view_name": "LayoutView",
            "align_content": null,
            "align_items": null,
            "align_self": null,
            "border": null,
            "bottom": null,
            "display": null,
            "flex": null,
            "flex_flow": null,
            "grid_area": null,
            "grid_auto_columns": null,
            "grid_auto_flow": null,
            "grid_auto_rows": null,
            "grid_column": null,
            "grid_gap": null,
            "grid_row": null,
            "grid_template_areas": null,
            "grid_template_columns": null,
            "grid_template_rows": null,
            "height": null,
            "justify_content": null,
            "justify_items": null,
            "left": null,
            "margin": null,
            "max_height": null,
            "max_width": null,
            "min_height": null,
            "min_width": null,
            "object_fit": null,
            "object_position": null,
            "order": null,
            "overflow": null,
            "overflow_x": null,
            "overflow_y": null,
            "padding": null,
            "right": null,
            "top": null,
            "visibility": null,
            "width": null
          }
        },
        "2159083fe131400798c79d5f8578254b": {
          "model_module": "@jupyter-widgets/controls",
          "model_name": "DescriptionStyleModel",
          "model_module_version": "1.5.0",
          "state": {
            "_model_module": "@jupyter-widgets/controls",
            "_model_module_version": "1.5.0",
            "_model_name": "DescriptionStyleModel",
            "_view_count": null,
            "_view_module": "@jupyter-widgets/base",
            "_view_module_version": "1.2.0",
            "_view_name": "StyleView",
            "description_width": ""
          }
        },
        "0e79e3d176a94d0d8e7e5d094c07cf46": {
          "model_module": "@jupyter-widgets/base",
          "model_name": "LayoutModel",
          "model_module_version": "1.2.0",
          "state": {
            "_model_module": "@jupyter-widgets/base",
            "_model_module_version": "1.2.0",
            "_model_name": "LayoutModel",
            "_view_count": null,
            "_view_module": "@jupyter-widgets/base",
            "_view_module_version": "1.2.0",
            "_view_name": "LayoutView",
            "align_content": null,
            "align_items": null,
            "align_self": null,
            "border": null,
            "bottom": null,
            "display": null,
            "flex": null,
            "flex_flow": null,
            "grid_area": null,
            "grid_auto_columns": null,
            "grid_auto_flow": null,
            "grid_auto_rows": null,
            "grid_column": null,
            "grid_gap": null,
            "grid_row": null,
            "grid_template_areas": null,
            "grid_template_columns": null,
            "grid_template_rows": null,
            "height": null,
            "justify_content": null,
            "justify_items": null,
            "left": null,
            "margin": null,
            "max_height": null,
            "max_width": null,
            "min_height": null,
            "min_width": null,
            "object_fit": null,
            "object_position": null,
            "order": null,
            "overflow": null,
            "overflow_x": null,
            "overflow_y": null,
            "padding": null,
            "right": null,
            "top": null,
            "visibility": null,
            "width": null
          }
        },
        "b47e47774c2743bebe47b163fbeadf47": {
          "model_module": "@jupyter-widgets/controls",
          "model_name": "ProgressStyleModel",
          "model_module_version": "1.5.0",
          "state": {
            "_model_module": "@jupyter-widgets/controls",
            "_model_module_version": "1.5.0",
            "_model_name": "ProgressStyleModel",
            "_view_count": null,
            "_view_module": "@jupyter-widgets/base",
            "_view_module_version": "1.2.0",
            "_view_name": "StyleView",
            "bar_color": null,
            "description_width": ""
          }
        },
        "4a6029452c204e15a4e7071adf31a1a1": {
          "model_module": "@jupyter-widgets/base",
          "model_name": "LayoutModel",
          "model_module_version": "1.2.0",
          "state": {
            "_model_module": "@jupyter-widgets/base",
            "_model_module_version": "1.2.0",
            "_model_name": "LayoutModel",
            "_view_count": null,
            "_view_module": "@jupyter-widgets/base",
            "_view_module_version": "1.2.0",
            "_view_name": "LayoutView",
            "align_content": null,
            "align_items": null,
            "align_self": null,
            "border": null,
            "bottom": null,
            "display": null,
            "flex": null,
            "flex_flow": null,
            "grid_area": null,
            "grid_auto_columns": null,
            "grid_auto_flow": null,
            "grid_auto_rows": null,
            "grid_column": null,
            "grid_gap": null,
            "grid_row": null,
            "grid_template_areas": null,
            "grid_template_columns": null,
            "grid_template_rows": null,
            "height": null,
            "justify_content": null,
            "justify_items": null,
            "left": null,
            "margin": null,
            "max_height": null,
            "max_width": null,
            "min_height": null,
            "min_width": null,
            "object_fit": null,
            "object_position": null,
            "order": null,
            "overflow": null,
            "overflow_x": null,
            "overflow_y": null,
            "padding": null,
            "right": null,
            "top": null,
            "visibility": null,
            "width": null
          }
        },
        "cea5c873121c4385943b336badf97b42": {
          "model_module": "@jupyter-widgets/controls",
          "model_name": "DescriptionStyleModel",
          "model_module_version": "1.5.0",
          "state": {
            "_model_module": "@jupyter-widgets/controls",
            "_model_module_version": "1.5.0",
            "_model_name": "DescriptionStyleModel",
            "_view_count": null,
            "_view_module": "@jupyter-widgets/base",
            "_view_module_version": "1.2.0",
            "_view_name": "StyleView",
            "description_width": ""
          }
        },
        "780777399209440491b54317f57fda58": {
          "model_module": "@jupyter-widgets/controls",
          "model_name": "HBoxModel",
          "model_module_version": "1.5.0",
          "state": {
            "_dom_classes": [],
            "_model_module": "@jupyter-widgets/controls",
            "_model_module_version": "1.5.0",
            "_model_name": "HBoxModel",
            "_view_count": null,
            "_view_module": "@jupyter-widgets/controls",
            "_view_module_version": "1.5.0",
            "_view_name": "HBoxView",
            "box_style": "",
            "children": [
              "IPY_MODEL_0378f666191c4bf9b46e1b6e1a1f9fc0",
              "IPY_MODEL_b317d4c38aa5478c86b36085ae86b868",
              "IPY_MODEL_81f835946c5c4095bf5f840194cb45ea"
            ],
            "layout": "IPY_MODEL_5baf7c840e974e8e9fcf840e4083801d"
          }
        },
        "0378f666191c4bf9b46e1b6e1a1f9fc0": {
          "model_module": "@jupyter-widgets/controls",
          "model_name": "HTMLModel",
          "model_module_version": "1.5.0",
          "state": {
            "_dom_classes": [],
            "_model_module": "@jupyter-widgets/controls",
            "_model_module_version": "1.5.0",
            "_model_name": "HTMLModel",
            "_view_count": null,
            "_view_module": "@jupyter-widgets/controls",
            "_view_module_version": "1.5.0",
            "_view_name": "HTMLView",
            "description": "",
            "description_tooltip": null,
            "layout": "IPY_MODEL_4380259681c14ff995d6d61b09d21204",
            "placeholder": "​",
            "style": "IPY_MODEL_d3c5aa3086d742e0b8c589c3a470e95e",
            "value": "100%"
          }
        },
        "b317d4c38aa5478c86b36085ae86b868": {
          "model_module": "@jupyter-widgets/controls",
          "model_name": "FloatProgressModel",
          "model_module_version": "1.5.0",
          "state": {
            "_dom_classes": [],
            "_model_module": "@jupyter-widgets/controls",
            "_model_module_version": "1.5.0",
            "_model_name": "FloatProgressModel",
            "_view_count": null,
            "_view_module": "@jupyter-widgets/controls",
            "_view_module_version": "1.5.0",
            "_view_name": "ProgressView",
            "bar_style": "success",
            "description": "",
            "description_tooltip": null,
            "layout": "IPY_MODEL_d0ed838a2844427b81000753328713fb",
            "max": 1,
            "min": 0,
            "orientation": "horizontal",
            "style": "IPY_MODEL_44c0ac0cd63f4e69bac4f387bf7af536",
            "value": 1
          }
        },
        "81f835946c5c4095bf5f840194cb45ea": {
          "model_module": "@jupyter-widgets/controls",
          "model_name": "HTMLModel",
          "model_module_version": "1.5.0",
          "state": {
            "_dom_classes": [],
            "_model_module": "@jupyter-widgets/controls",
            "_model_module_version": "1.5.0",
            "_model_name": "HTMLModel",
            "_view_count": null,
            "_view_module": "@jupyter-widgets/controls",
            "_view_module_version": "1.5.0",
            "_view_name": "HTMLView",
            "description": "",
            "description_tooltip": null,
            "layout": "IPY_MODEL_db5e6244ae554b84824252ee80de7ff5",
            "placeholder": "​",
            "style": "IPY_MODEL_8509fbcfb12a40fbb3a48863c348cc65",
            "value": " 1/1 [00:00&lt;00:00,  5.93it/s]"
          }
        },
        "5baf7c840e974e8e9fcf840e4083801d": {
          "model_module": "@jupyter-widgets/base",
          "model_name": "LayoutModel",
          "model_module_version": "1.2.0",
          "state": {
            "_model_module": "@jupyter-widgets/base",
            "_model_module_version": "1.2.0",
            "_model_name": "LayoutModel",
            "_view_count": null,
            "_view_module": "@jupyter-widgets/base",
            "_view_module_version": "1.2.0",
            "_view_name": "LayoutView",
            "align_content": null,
            "align_items": null,
            "align_self": null,
            "border": null,
            "bottom": null,
            "display": null,
            "flex": null,
            "flex_flow": null,
            "grid_area": null,
            "grid_auto_columns": null,
            "grid_auto_flow": null,
            "grid_auto_rows": null,
            "grid_column": null,
            "grid_gap": null,
            "grid_row": null,
            "grid_template_areas": null,
            "grid_template_columns": null,
            "grid_template_rows": null,
            "height": null,
            "justify_content": null,
            "justify_items": null,
            "left": null,
            "margin": null,
            "max_height": null,
            "max_width": null,
            "min_height": null,
            "min_width": null,
            "object_fit": null,
            "object_position": null,
            "order": null,
            "overflow": null,
            "overflow_x": null,
            "overflow_y": null,
            "padding": null,
            "right": null,
            "top": null,
            "visibility": null,
            "width": null
          }
        },
        "4380259681c14ff995d6d61b09d21204": {
          "model_module": "@jupyter-widgets/base",
          "model_name": "LayoutModel",
          "model_module_version": "1.2.0",
          "state": {
            "_model_module": "@jupyter-widgets/base",
            "_model_module_version": "1.2.0",
            "_model_name": "LayoutModel",
            "_view_count": null,
            "_view_module": "@jupyter-widgets/base",
            "_view_module_version": "1.2.0",
            "_view_name": "LayoutView",
            "align_content": null,
            "align_items": null,
            "align_self": null,
            "border": null,
            "bottom": null,
            "display": null,
            "flex": null,
            "flex_flow": null,
            "grid_area": null,
            "grid_auto_columns": null,
            "grid_auto_flow": null,
            "grid_auto_rows": null,
            "grid_column": null,
            "grid_gap": null,
            "grid_row": null,
            "grid_template_areas": null,
            "grid_template_columns": null,
            "grid_template_rows": null,
            "height": null,
            "justify_content": null,
            "justify_items": null,
            "left": null,
            "margin": null,
            "max_height": null,
            "max_width": null,
            "min_height": null,
            "min_width": null,
            "object_fit": null,
            "object_position": null,
            "order": null,
            "overflow": null,
            "overflow_x": null,
            "overflow_y": null,
            "padding": null,
            "right": null,
            "top": null,
            "visibility": null,
            "width": null
          }
        },
        "d3c5aa3086d742e0b8c589c3a470e95e": {
          "model_module": "@jupyter-widgets/controls",
          "model_name": "DescriptionStyleModel",
          "model_module_version": "1.5.0",
          "state": {
            "_model_module": "@jupyter-widgets/controls",
            "_model_module_version": "1.5.0",
            "_model_name": "DescriptionStyleModel",
            "_view_count": null,
            "_view_module": "@jupyter-widgets/base",
            "_view_module_version": "1.2.0",
            "_view_name": "StyleView",
            "description_width": ""
          }
        },
        "d0ed838a2844427b81000753328713fb": {
          "model_module": "@jupyter-widgets/base",
          "model_name": "LayoutModel",
          "model_module_version": "1.2.0",
          "state": {
            "_model_module": "@jupyter-widgets/base",
            "_model_module_version": "1.2.0",
            "_model_name": "LayoutModel",
            "_view_count": null,
            "_view_module": "@jupyter-widgets/base",
            "_view_module_version": "1.2.0",
            "_view_name": "LayoutView",
            "align_content": null,
            "align_items": null,
            "align_self": null,
            "border": null,
            "bottom": null,
            "display": null,
            "flex": null,
            "flex_flow": null,
            "grid_area": null,
            "grid_auto_columns": null,
            "grid_auto_flow": null,
            "grid_auto_rows": null,
            "grid_column": null,
            "grid_gap": null,
            "grid_row": null,
            "grid_template_areas": null,
            "grid_template_columns": null,
            "grid_template_rows": null,
            "height": null,
            "justify_content": null,
            "justify_items": null,
            "left": null,
            "margin": null,
            "max_height": null,
            "max_width": null,
            "min_height": null,
            "min_width": null,
            "object_fit": null,
            "object_position": null,
            "order": null,
            "overflow": null,
            "overflow_x": null,
            "overflow_y": null,
            "padding": null,
            "right": null,
            "top": null,
            "visibility": null,
            "width": null
          }
        },
        "44c0ac0cd63f4e69bac4f387bf7af536": {
          "model_module": "@jupyter-widgets/controls",
          "model_name": "ProgressStyleModel",
          "model_module_version": "1.5.0",
          "state": {
            "_model_module": "@jupyter-widgets/controls",
            "_model_module_version": "1.5.0",
            "_model_name": "ProgressStyleModel",
            "_view_count": null,
            "_view_module": "@jupyter-widgets/base",
            "_view_module_version": "1.2.0",
            "_view_name": "StyleView",
            "bar_color": null,
            "description_width": ""
          }
        },
        "db5e6244ae554b84824252ee80de7ff5": {
          "model_module": "@jupyter-widgets/base",
          "model_name": "LayoutModel",
          "model_module_version": "1.2.0",
          "state": {
            "_model_module": "@jupyter-widgets/base",
            "_model_module_version": "1.2.0",
            "_model_name": "LayoutModel",
            "_view_count": null,
            "_view_module": "@jupyter-widgets/base",
            "_view_module_version": "1.2.0",
            "_view_name": "LayoutView",
            "align_content": null,
            "align_items": null,
            "align_self": null,
            "border": null,
            "bottom": null,
            "display": null,
            "flex": null,
            "flex_flow": null,
            "grid_area": null,
            "grid_auto_columns": null,
            "grid_auto_flow": null,
            "grid_auto_rows": null,
            "grid_column": null,
            "grid_gap": null,
            "grid_row": null,
            "grid_template_areas": null,
            "grid_template_columns": null,
            "grid_template_rows": null,
            "height": null,
            "justify_content": null,
            "justify_items": null,
            "left": null,
            "margin": null,
            "max_height": null,
            "max_width": null,
            "min_height": null,
            "min_width": null,
            "object_fit": null,
            "object_position": null,
            "order": null,
            "overflow": null,
            "overflow_x": null,
            "overflow_y": null,
            "padding": null,
            "right": null,
            "top": null,
            "visibility": null,
            "width": null
          }
        },
        "8509fbcfb12a40fbb3a48863c348cc65": {
          "model_module": "@jupyter-widgets/controls",
          "model_name": "DescriptionStyleModel",
          "model_module_version": "1.5.0",
          "state": {
            "_model_module": "@jupyter-widgets/controls",
            "_model_module_version": "1.5.0",
            "_model_name": "DescriptionStyleModel",
            "_view_count": null,
            "_view_module": "@jupyter-widgets/base",
            "_view_module_version": "1.2.0",
            "_view_name": "StyleView",
            "description_width": ""
          }
        },
        "fa985a3999b94d00b40f16236f79985f": {
          "model_module": "@jupyter-widgets/controls",
          "model_name": "HBoxModel",
          "model_module_version": "1.5.0",
          "state": {
            "_dom_classes": [],
            "_model_module": "@jupyter-widgets/controls",
            "_model_module_version": "1.5.0",
            "_model_name": "HBoxModel",
            "_view_count": null,
            "_view_module": "@jupyter-widgets/controls",
            "_view_module_version": "1.5.0",
            "_view_name": "HBoxView",
            "box_style": "",
            "children": [
              "IPY_MODEL_a490d86bdc074cdf8f8283eb418629c1",
              "IPY_MODEL_dc089221a4a44603b1b44d3a5387df95",
              "IPY_MODEL_d998eb1820dd49b68433a3ff620acd9e"
            ],
            "layout": "IPY_MODEL_fd55aa348b6c44d29e57dbb66501a955"
          }
        },
        "a490d86bdc074cdf8f8283eb418629c1": {
          "model_module": "@jupyter-widgets/controls",
          "model_name": "HTMLModel",
          "model_module_version": "1.5.0",
          "state": {
            "_dom_classes": [],
            "_model_module": "@jupyter-widgets/controls",
            "_model_module_version": "1.5.0",
            "_model_name": "HTMLModel",
            "_view_count": null,
            "_view_module": "@jupyter-widgets/controls",
            "_view_module_version": "1.5.0",
            "_view_name": "HTMLView",
            "description": "",
            "description_tooltip": null,
            "layout": "IPY_MODEL_02a2963ebc824e6e813c3f29b1675346",
            "placeholder": "​",
            "style": "IPY_MODEL_3a6e2a342b21499b94ff6cccdb963876",
            "value": "Running Evaluation: 100%"
          }
        },
        "dc089221a4a44603b1b44d3a5387df95": {
          "model_module": "@jupyter-widgets/controls",
          "model_name": "FloatProgressModel",
          "model_module_version": "1.5.0",
          "state": {
            "_dom_classes": [],
            "_model_module": "@jupyter-widgets/controls",
            "_model_module_version": "1.5.0",
            "_model_name": "FloatProgressModel",
            "_view_count": null,
            "_view_module": "@jupyter-widgets/controls",
            "_view_module_version": "1.5.0",
            "_view_name": "ProgressView",
            "bar_style": "success",
            "description": "",
            "description_tooltip": null,
            "layout": "IPY_MODEL_9f8aa94c70a24631b353fd0b3957c881",
            "max": 1,
            "min": 0,
            "orientation": "horizontal",
            "style": "IPY_MODEL_a538c1812e994965a00c4feffaafa86e",
            "value": 1
          }
        },
        "d998eb1820dd49b68433a3ff620acd9e": {
          "model_module": "@jupyter-widgets/controls",
          "model_name": "HTMLModel",
          "model_module_version": "1.5.0",
          "state": {
            "_dom_classes": [],
            "_model_module": "@jupyter-widgets/controls",
            "_model_module_version": "1.5.0",
            "_model_name": "HTMLModel",
            "_view_count": null,
            "_view_module": "@jupyter-widgets/controls",
            "_view_module_version": "1.5.0",
            "_view_name": "HTMLView",
            "description": "",
            "description_tooltip": null,
            "layout": "IPY_MODEL_cd63fe4a95c44873a6731bb825db83ac",
            "placeholder": "​",
            "style": "IPY_MODEL_206430b3c5d840eca7c747b42a4cafc7",
            "value": " 1/1 [00:00&lt;00:00,  7.00it/s]"
          }
        },
        "fd55aa348b6c44d29e57dbb66501a955": {
          "model_module": "@jupyter-widgets/base",
          "model_name": "LayoutModel",
          "model_module_version": "1.2.0",
          "state": {
            "_model_module": "@jupyter-widgets/base",
            "_model_module_version": "1.2.0",
            "_model_name": "LayoutModel",
            "_view_count": null,
            "_view_module": "@jupyter-widgets/base",
            "_view_module_version": "1.2.0",
            "_view_name": "LayoutView",
            "align_content": null,
            "align_items": null,
            "align_self": null,
            "border": null,
            "bottom": null,
            "display": null,
            "flex": null,
            "flex_flow": null,
            "grid_area": null,
            "grid_auto_columns": null,
            "grid_auto_flow": null,
            "grid_auto_rows": null,
            "grid_column": null,
            "grid_gap": null,
            "grid_row": null,
            "grid_template_areas": null,
            "grid_template_columns": null,
            "grid_template_rows": null,
            "height": null,
            "justify_content": null,
            "justify_items": null,
            "left": null,
            "margin": null,
            "max_height": null,
            "max_width": null,
            "min_height": null,
            "min_width": null,
            "object_fit": null,
            "object_position": null,
            "order": null,
            "overflow": null,
            "overflow_x": null,
            "overflow_y": null,
            "padding": null,
            "right": null,
            "top": null,
            "visibility": null,
            "width": null
          }
        },
        "02a2963ebc824e6e813c3f29b1675346": {
          "model_module": "@jupyter-widgets/base",
          "model_name": "LayoutModel",
          "model_module_version": "1.2.0",
          "state": {
            "_model_module": "@jupyter-widgets/base",
            "_model_module_version": "1.2.0",
            "_model_name": "LayoutModel",
            "_view_count": null,
            "_view_module": "@jupyter-widgets/base",
            "_view_module_version": "1.2.0",
            "_view_name": "LayoutView",
            "align_content": null,
            "align_items": null,
            "align_self": null,
            "border": null,
            "bottom": null,
            "display": null,
            "flex": null,
            "flex_flow": null,
            "grid_area": null,
            "grid_auto_columns": null,
            "grid_auto_flow": null,
            "grid_auto_rows": null,
            "grid_column": null,
            "grid_gap": null,
            "grid_row": null,
            "grid_template_areas": null,
            "grid_template_columns": null,
            "grid_template_rows": null,
            "height": null,
            "justify_content": null,
            "justify_items": null,
            "left": null,
            "margin": null,
            "max_height": null,
            "max_width": null,
            "min_height": null,
            "min_width": null,
            "object_fit": null,
            "object_position": null,
            "order": null,
            "overflow": null,
            "overflow_x": null,
            "overflow_y": null,
            "padding": null,
            "right": null,
            "top": null,
            "visibility": null,
            "width": null
          }
        },
        "3a6e2a342b21499b94ff6cccdb963876": {
          "model_module": "@jupyter-widgets/controls",
          "model_name": "DescriptionStyleModel",
          "model_module_version": "1.5.0",
          "state": {
            "_model_module": "@jupyter-widgets/controls",
            "_model_module_version": "1.5.0",
            "_model_name": "DescriptionStyleModel",
            "_view_count": null,
            "_view_module": "@jupyter-widgets/base",
            "_view_module_version": "1.2.0",
            "_view_name": "StyleView",
            "description_width": ""
          }
        },
        "9f8aa94c70a24631b353fd0b3957c881": {
          "model_module": "@jupyter-widgets/base",
          "model_name": "LayoutModel",
          "model_module_version": "1.2.0",
          "state": {
            "_model_module": "@jupyter-widgets/base",
            "_model_module_version": "1.2.0",
            "_model_name": "LayoutModel",
            "_view_count": null,
            "_view_module": "@jupyter-widgets/base",
            "_view_module_version": "1.2.0",
            "_view_name": "LayoutView",
            "align_content": null,
            "align_items": null,
            "align_self": null,
            "border": null,
            "bottom": null,
            "display": null,
            "flex": null,
            "flex_flow": null,
            "grid_area": null,
            "grid_auto_columns": null,
            "grid_auto_flow": null,
            "grid_auto_rows": null,
            "grid_column": null,
            "grid_gap": null,
            "grid_row": null,
            "grid_template_areas": null,
            "grid_template_columns": null,
            "grid_template_rows": null,
            "height": null,
            "justify_content": null,
            "justify_items": null,
            "left": null,
            "margin": null,
            "max_height": null,
            "max_width": null,
            "min_height": null,
            "min_width": null,
            "object_fit": null,
            "object_position": null,
            "order": null,
            "overflow": null,
            "overflow_x": null,
            "overflow_y": null,
            "padding": null,
            "right": null,
            "top": null,
            "visibility": null,
            "width": null
          }
        },
        "a538c1812e994965a00c4feffaafa86e": {
          "model_module": "@jupyter-widgets/controls",
          "model_name": "ProgressStyleModel",
          "model_module_version": "1.5.0",
          "state": {
            "_model_module": "@jupyter-widgets/controls",
            "_model_module_version": "1.5.0",
            "_model_name": "ProgressStyleModel",
            "_view_count": null,
            "_view_module": "@jupyter-widgets/base",
            "_view_module_version": "1.2.0",
            "_view_name": "StyleView",
            "bar_color": null,
            "description_width": ""
          }
        },
        "cd63fe4a95c44873a6731bb825db83ac": {
          "model_module": "@jupyter-widgets/base",
          "model_name": "LayoutModel",
          "model_module_version": "1.2.0",
          "state": {
            "_model_module": "@jupyter-widgets/base",
            "_model_module_version": "1.2.0",
            "_model_name": "LayoutModel",
            "_view_count": null,
            "_view_module": "@jupyter-widgets/base",
            "_view_module_version": "1.2.0",
            "_view_name": "LayoutView",
            "align_content": null,
            "align_items": null,
            "align_self": null,
            "border": null,
            "bottom": null,
            "display": null,
            "flex": null,
            "flex_flow": null,
            "grid_area": null,
            "grid_auto_columns": null,
            "grid_auto_flow": null,
            "grid_auto_rows": null,
            "grid_column": null,
            "grid_gap": null,
            "grid_row": null,
            "grid_template_areas": null,
            "grid_template_columns": null,
            "grid_template_rows": null,
            "height": null,
            "justify_content": null,
            "justify_items": null,
            "left": null,
            "margin": null,
            "max_height": null,
            "max_width": null,
            "min_height": null,
            "min_width": null,
            "object_fit": null,
            "object_position": null,
            "order": null,
            "overflow": null,
            "overflow_x": null,
            "overflow_y": null,
            "padding": null,
            "right": null,
            "top": null,
            "visibility": null,
            "width": null
          }
        },
        "206430b3c5d840eca7c747b42a4cafc7": {
          "model_module": "@jupyter-widgets/controls",
          "model_name": "DescriptionStyleModel",
          "model_module_version": "1.5.0",
          "state": {
            "_model_module": "@jupyter-widgets/controls",
            "_model_module_version": "1.5.0",
            "_model_name": "DescriptionStyleModel",
            "_view_count": null,
            "_view_module": "@jupyter-widgets/base",
            "_view_module_version": "1.2.0",
            "_view_name": "StyleView",
            "description_width": ""
          }
        },
        "3c23417b5b6444a0820b707f2ff6cd14": {
          "model_module": "@jupyter-widgets/controls",
          "model_name": "HBoxModel",
          "model_module_version": "1.5.0",
          "state": {
            "_dom_classes": [],
            "_model_module": "@jupyter-widgets/controls",
            "_model_module_version": "1.5.0",
            "_model_name": "HBoxModel",
            "_view_count": null,
            "_view_module": "@jupyter-widgets/controls",
            "_view_module_version": "1.5.0",
            "_view_name": "HBoxView",
            "box_style": "",
            "children": [
              "IPY_MODEL_a9bac5cb9e374fae899d5dfb49502971",
              "IPY_MODEL_3260544643434738af6abe6c16f23d6a",
              "IPY_MODEL_c2ea432215ad4b3fba35e4ebabe325b7"
            ],
            "layout": "IPY_MODEL_12a615cbbd0a48a2aa410061d4fabf5c"
          }
        },
        "a9bac5cb9e374fae899d5dfb49502971": {
          "model_module": "@jupyter-widgets/controls",
          "model_name": "HTMLModel",
          "model_module_version": "1.5.0",
          "state": {
            "_dom_classes": [],
            "_model_module": "@jupyter-widgets/controls",
            "_model_module_version": "1.5.0",
            "_model_name": "HTMLModel",
            "_view_count": null,
            "_view_module": "@jupyter-widgets/controls",
            "_view_module_version": "1.5.0",
            "_view_name": "HTMLView",
            "description": "",
            "description_tooltip": null,
            "layout": "IPY_MODEL_41bff7d6b3c74c8fb8f111ec899ff861",
            "placeholder": "​",
            "style": "IPY_MODEL_3e305a58d6474ccbadc9741d09cbe4d1",
            "value": "100%"
          }
        },
        "3260544643434738af6abe6c16f23d6a": {
          "model_module": "@jupyter-widgets/controls",
          "model_name": "FloatProgressModel",
          "model_module_version": "1.5.0",
          "state": {
            "_dom_classes": [],
            "_model_module": "@jupyter-widgets/controls",
            "_model_module_version": "1.5.0",
            "_model_name": "FloatProgressModel",
            "_view_count": null,
            "_view_module": "@jupyter-widgets/controls",
            "_view_module_version": "1.5.0",
            "_view_name": "ProgressView",
            "bar_style": "success",
            "description": "",
            "description_tooltip": null,
            "layout": "IPY_MODEL_61eb2958b9f545d88b64f39a1aee0c21",
            "max": 1,
            "min": 0,
            "orientation": "horizontal",
            "style": "IPY_MODEL_037db61c0a974bfcafea5dfdcd1c10f1",
            "value": 1
          }
        },
        "c2ea432215ad4b3fba35e4ebabe325b7": {
          "model_module": "@jupyter-widgets/controls",
          "model_name": "HTMLModel",
          "model_module_version": "1.5.0",
          "state": {
            "_dom_classes": [],
            "_model_module": "@jupyter-widgets/controls",
            "_model_module_version": "1.5.0",
            "_model_name": "HTMLModel",
            "_view_count": null,
            "_view_module": "@jupyter-widgets/controls",
            "_view_module_version": "1.5.0",
            "_view_name": "HTMLView",
            "description": "",
            "description_tooltip": null,
            "layout": "IPY_MODEL_cb58cccc7ad743db8d419a5aef37cea8",
            "placeholder": "​",
            "style": "IPY_MODEL_d3fcea2848fe416aa2e463e03b3ddf53",
            "value": " 1/1 [00:00&lt;00:00,  8.39it/s]"
          }
        },
        "12a615cbbd0a48a2aa410061d4fabf5c": {
          "model_module": "@jupyter-widgets/base",
          "model_name": "LayoutModel",
          "model_module_version": "1.2.0",
          "state": {
            "_model_module": "@jupyter-widgets/base",
            "_model_module_version": "1.2.0",
            "_model_name": "LayoutModel",
            "_view_count": null,
            "_view_module": "@jupyter-widgets/base",
            "_view_module_version": "1.2.0",
            "_view_name": "LayoutView",
            "align_content": null,
            "align_items": null,
            "align_self": null,
            "border": null,
            "bottom": null,
            "display": null,
            "flex": null,
            "flex_flow": null,
            "grid_area": null,
            "grid_auto_columns": null,
            "grid_auto_flow": null,
            "grid_auto_rows": null,
            "grid_column": null,
            "grid_gap": null,
            "grid_row": null,
            "grid_template_areas": null,
            "grid_template_columns": null,
            "grid_template_rows": null,
            "height": null,
            "justify_content": null,
            "justify_items": null,
            "left": null,
            "margin": null,
            "max_height": null,
            "max_width": null,
            "min_height": null,
            "min_width": null,
            "object_fit": null,
            "object_position": null,
            "order": null,
            "overflow": null,
            "overflow_x": null,
            "overflow_y": null,
            "padding": null,
            "right": null,
            "top": null,
            "visibility": null,
            "width": null
          }
        },
        "41bff7d6b3c74c8fb8f111ec899ff861": {
          "model_module": "@jupyter-widgets/base",
          "model_name": "LayoutModel",
          "model_module_version": "1.2.0",
          "state": {
            "_model_module": "@jupyter-widgets/base",
            "_model_module_version": "1.2.0",
            "_model_name": "LayoutModel",
            "_view_count": null,
            "_view_module": "@jupyter-widgets/base",
            "_view_module_version": "1.2.0",
            "_view_name": "LayoutView",
            "align_content": null,
            "align_items": null,
            "align_self": null,
            "border": null,
            "bottom": null,
            "display": null,
            "flex": null,
            "flex_flow": null,
            "grid_area": null,
            "grid_auto_columns": null,
            "grid_auto_flow": null,
            "grid_auto_rows": null,
            "grid_column": null,
            "grid_gap": null,
            "grid_row": null,
            "grid_template_areas": null,
            "grid_template_columns": null,
            "grid_template_rows": null,
            "height": null,
            "justify_content": null,
            "justify_items": null,
            "left": null,
            "margin": null,
            "max_height": null,
            "max_width": null,
            "min_height": null,
            "min_width": null,
            "object_fit": null,
            "object_position": null,
            "order": null,
            "overflow": null,
            "overflow_x": null,
            "overflow_y": null,
            "padding": null,
            "right": null,
            "top": null,
            "visibility": null,
            "width": null
          }
        },
        "3e305a58d6474ccbadc9741d09cbe4d1": {
          "model_module": "@jupyter-widgets/controls",
          "model_name": "DescriptionStyleModel",
          "model_module_version": "1.5.0",
          "state": {
            "_model_module": "@jupyter-widgets/controls",
            "_model_module_version": "1.5.0",
            "_model_name": "DescriptionStyleModel",
            "_view_count": null,
            "_view_module": "@jupyter-widgets/base",
            "_view_module_version": "1.2.0",
            "_view_name": "StyleView",
            "description_width": ""
          }
        },
        "61eb2958b9f545d88b64f39a1aee0c21": {
          "model_module": "@jupyter-widgets/base",
          "model_name": "LayoutModel",
          "model_module_version": "1.2.0",
          "state": {
            "_model_module": "@jupyter-widgets/base",
            "_model_module_version": "1.2.0",
            "_model_name": "LayoutModel",
            "_view_count": null,
            "_view_module": "@jupyter-widgets/base",
            "_view_module_version": "1.2.0",
            "_view_name": "LayoutView",
            "align_content": null,
            "align_items": null,
            "align_self": null,
            "border": null,
            "bottom": null,
            "display": null,
            "flex": null,
            "flex_flow": null,
            "grid_area": null,
            "grid_auto_columns": null,
            "grid_auto_flow": null,
            "grid_auto_rows": null,
            "grid_column": null,
            "grid_gap": null,
            "grid_row": null,
            "grid_template_areas": null,
            "grid_template_columns": null,
            "grid_template_rows": null,
            "height": null,
            "justify_content": null,
            "justify_items": null,
            "left": null,
            "margin": null,
            "max_height": null,
            "max_width": null,
            "min_height": null,
            "min_width": null,
            "object_fit": null,
            "object_position": null,
            "order": null,
            "overflow": null,
            "overflow_x": null,
            "overflow_y": null,
            "padding": null,
            "right": null,
            "top": null,
            "visibility": null,
            "width": null
          }
        },
        "037db61c0a974bfcafea5dfdcd1c10f1": {
          "model_module": "@jupyter-widgets/controls",
          "model_name": "ProgressStyleModel",
          "model_module_version": "1.5.0",
          "state": {
            "_model_module": "@jupyter-widgets/controls",
            "_model_module_version": "1.5.0",
            "_model_name": "ProgressStyleModel",
            "_view_count": null,
            "_view_module": "@jupyter-widgets/base",
            "_view_module_version": "1.2.0",
            "_view_name": "StyleView",
            "bar_color": null,
            "description_width": ""
          }
        },
        "cb58cccc7ad743db8d419a5aef37cea8": {
          "model_module": "@jupyter-widgets/base",
          "model_name": "LayoutModel",
          "model_module_version": "1.2.0",
          "state": {
            "_model_module": "@jupyter-widgets/base",
            "_model_module_version": "1.2.0",
            "_model_name": "LayoutModel",
            "_view_count": null,
            "_view_module": "@jupyter-widgets/base",
            "_view_module_version": "1.2.0",
            "_view_name": "LayoutView",
            "align_content": null,
            "align_items": null,
            "align_self": null,
            "border": null,
            "bottom": null,
            "display": null,
            "flex": null,
            "flex_flow": null,
            "grid_area": null,
            "grid_auto_columns": null,
            "grid_auto_flow": null,
            "grid_auto_rows": null,
            "grid_column": null,
            "grid_gap": null,
            "grid_row": null,
            "grid_template_areas": null,
            "grid_template_columns": null,
            "grid_template_rows": null,
            "height": null,
            "justify_content": null,
            "justify_items": null,
            "left": null,
            "margin": null,
            "max_height": null,
            "max_width": null,
            "min_height": null,
            "min_width": null,
            "object_fit": null,
            "object_position": null,
            "order": null,
            "overflow": null,
            "overflow_x": null,
            "overflow_y": null,
            "padding": null,
            "right": null,
            "top": null,
            "visibility": null,
            "width": null
          }
        },
        "d3fcea2848fe416aa2e463e03b3ddf53": {
          "model_module": "@jupyter-widgets/controls",
          "model_name": "DescriptionStyleModel",
          "model_module_version": "1.5.0",
          "state": {
            "_model_module": "@jupyter-widgets/controls",
            "_model_module_version": "1.5.0",
            "_model_name": "DescriptionStyleModel",
            "_view_count": null,
            "_view_module": "@jupyter-widgets/base",
            "_view_module_version": "1.2.0",
            "_view_name": "StyleView",
            "description_width": ""
          }
        },
        "6f0a335d7b5647f3b529688cb005723d": {
          "model_module": "@jupyter-widgets/controls",
          "model_name": "HBoxModel",
          "model_module_version": "1.5.0",
          "state": {
            "_dom_classes": [],
            "_model_module": "@jupyter-widgets/controls",
            "_model_module_version": "1.5.0",
            "_model_name": "HBoxModel",
            "_view_count": null,
            "_view_module": "@jupyter-widgets/controls",
            "_view_module_version": "1.5.0",
            "_view_name": "HBoxView",
            "box_style": "",
            "children": [
              "IPY_MODEL_735e378c51c54136931f9c563c3f4425",
              "IPY_MODEL_5219f1b097d946dfa3a15e9c0bea7d74",
              "IPY_MODEL_d1c60e03117640779376a478a56c655b"
            ],
            "layout": "IPY_MODEL_91317d8ede6d4c87a1ca8b65b7ef3662"
          }
        },
        "735e378c51c54136931f9c563c3f4425": {
          "model_module": "@jupyter-widgets/controls",
          "model_name": "HTMLModel",
          "model_module_version": "1.5.0",
          "state": {
            "_dom_classes": [],
            "_model_module": "@jupyter-widgets/controls",
            "_model_module_version": "1.5.0",
            "_model_name": "HTMLModel",
            "_view_count": null,
            "_view_module": "@jupyter-widgets/controls",
            "_view_module_version": "1.5.0",
            "_view_name": "HTMLView",
            "description": "",
            "description_tooltip": null,
            "layout": "IPY_MODEL_0922e1a82cce4c0faab5d9f1b6dab44e",
            "placeholder": "​",
            "style": "IPY_MODEL_5bcbaa39bea4485ab860d7a77eea2cbe",
            "value": "Running Prediction: 100%"
          }
        },
        "5219f1b097d946dfa3a15e9c0bea7d74": {
          "model_module": "@jupyter-widgets/controls",
          "model_name": "FloatProgressModel",
          "model_module_version": "1.5.0",
          "state": {
            "_dom_classes": [],
            "_model_module": "@jupyter-widgets/controls",
            "_model_module_version": "1.5.0",
            "_model_name": "FloatProgressModel",
            "_view_count": null,
            "_view_module": "@jupyter-widgets/controls",
            "_view_module_version": "1.5.0",
            "_view_name": "ProgressView",
            "bar_style": "success",
            "description": "",
            "description_tooltip": null,
            "layout": "IPY_MODEL_472221f88b0248a7a859dcc1f32191f1",
            "max": 1,
            "min": 0,
            "orientation": "horizontal",
            "style": "IPY_MODEL_d656d976696647b4aacb3d3e83afa8d5",
            "value": 1
          }
        },
        "d1c60e03117640779376a478a56c655b": {
          "model_module": "@jupyter-widgets/controls",
          "model_name": "HTMLModel",
          "model_module_version": "1.5.0",
          "state": {
            "_dom_classes": [],
            "_model_module": "@jupyter-widgets/controls",
            "_model_module_version": "1.5.0",
            "_model_name": "HTMLModel",
            "_view_count": null,
            "_view_module": "@jupyter-widgets/controls",
            "_view_module_version": "1.5.0",
            "_view_name": "HTMLView",
            "description": "",
            "description_tooltip": null,
            "layout": "IPY_MODEL_966be0e5f0df4aa0bf8db5229b13ff7f",
            "placeholder": "​",
            "style": "IPY_MODEL_c0dbd1bbee9e4e5ab3a70e8a16994074",
            "value": " 1/1 [00:00&lt;00:00,  5.12it/s]"
          }
        },
        "91317d8ede6d4c87a1ca8b65b7ef3662": {
          "model_module": "@jupyter-widgets/base",
          "model_name": "LayoutModel",
          "model_module_version": "1.2.0",
          "state": {
            "_model_module": "@jupyter-widgets/base",
            "_model_module_version": "1.2.0",
            "_model_name": "LayoutModel",
            "_view_count": null,
            "_view_module": "@jupyter-widgets/base",
            "_view_module_version": "1.2.0",
            "_view_name": "LayoutView",
            "align_content": null,
            "align_items": null,
            "align_self": null,
            "border": null,
            "bottom": null,
            "display": null,
            "flex": null,
            "flex_flow": null,
            "grid_area": null,
            "grid_auto_columns": null,
            "grid_auto_flow": null,
            "grid_auto_rows": null,
            "grid_column": null,
            "grid_gap": null,
            "grid_row": null,
            "grid_template_areas": null,
            "grid_template_columns": null,
            "grid_template_rows": null,
            "height": null,
            "justify_content": null,
            "justify_items": null,
            "left": null,
            "margin": null,
            "max_height": null,
            "max_width": null,
            "min_height": null,
            "min_width": null,
            "object_fit": null,
            "object_position": null,
            "order": null,
            "overflow": null,
            "overflow_x": null,
            "overflow_y": null,
            "padding": null,
            "right": null,
            "top": null,
            "visibility": null,
            "width": null
          }
        },
        "0922e1a82cce4c0faab5d9f1b6dab44e": {
          "model_module": "@jupyter-widgets/base",
          "model_name": "LayoutModel",
          "model_module_version": "1.2.0",
          "state": {
            "_model_module": "@jupyter-widgets/base",
            "_model_module_version": "1.2.0",
            "_model_name": "LayoutModel",
            "_view_count": null,
            "_view_module": "@jupyter-widgets/base",
            "_view_module_version": "1.2.0",
            "_view_name": "LayoutView",
            "align_content": null,
            "align_items": null,
            "align_self": null,
            "border": null,
            "bottom": null,
            "display": null,
            "flex": null,
            "flex_flow": null,
            "grid_area": null,
            "grid_auto_columns": null,
            "grid_auto_flow": null,
            "grid_auto_rows": null,
            "grid_column": null,
            "grid_gap": null,
            "grid_row": null,
            "grid_template_areas": null,
            "grid_template_columns": null,
            "grid_template_rows": null,
            "height": null,
            "justify_content": null,
            "justify_items": null,
            "left": null,
            "margin": null,
            "max_height": null,
            "max_width": null,
            "min_height": null,
            "min_width": null,
            "object_fit": null,
            "object_position": null,
            "order": null,
            "overflow": null,
            "overflow_x": null,
            "overflow_y": null,
            "padding": null,
            "right": null,
            "top": null,
            "visibility": null,
            "width": null
          }
        },
        "5bcbaa39bea4485ab860d7a77eea2cbe": {
          "model_module": "@jupyter-widgets/controls",
          "model_name": "DescriptionStyleModel",
          "model_module_version": "1.5.0",
          "state": {
            "_model_module": "@jupyter-widgets/controls",
            "_model_module_version": "1.5.0",
            "_model_name": "DescriptionStyleModel",
            "_view_count": null,
            "_view_module": "@jupyter-widgets/base",
            "_view_module_version": "1.2.0",
            "_view_name": "StyleView",
            "description_width": ""
          }
        },
        "472221f88b0248a7a859dcc1f32191f1": {
          "model_module": "@jupyter-widgets/base",
          "model_name": "LayoutModel",
          "model_module_version": "1.2.0",
          "state": {
            "_model_module": "@jupyter-widgets/base",
            "_model_module_version": "1.2.0",
            "_model_name": "LayoutModel",
            "_view_count": null,
            "_view_module": "@jupyter-widgets/base",
            "_view_module_version": "1.2.0",
            "_view_name": "LayoutView",
            "align_content": null,
            "align_items": null,
            "align_self": null,
            "border": null,
            "bottom": null,
            "display": null,
            "flex": null,
            "flex_flow": null,
            "grid_area": null,
            "grid_auto_columns": null,
            "grid_auto_flow": null,
            "grid_auto_rows": null,
            "grid_column": null,
            "grid_gap": null,
            "grid_row": null,
            "grid_template_areas": null,
            "grid_template_columns": null,
            "grid_template_rows": null,
            "height": null,
            "justify_content": null,
            "justify_items": null,
            "left": null,
            "margin": null,
            "max_height": null,
            "max_width": null,
            "min_height": null,
            "min_width": null,
            "object_fit": null,
            "object_position": null,
            "order": null,
            "overflow": null,
            "overflow_x": null,
            "overflow_y": null,
            "padding": null,
            "right": null,
            "top": null,
            "visibility": null,
            "width": null
          }
        },
        "d656d976696647b4aacb3d3e83afa8d5": {
          "model_module": "@jupyter-widgets/controls",
          "model_name": "ProgressStyleModel",
          "model_module_version": "1.5.0",
          "state": {
            "_model_module": "@jupyter-widgets/controls",
            "_model_module_version": "1.5.0",
            "_model_name": "ProgressStyleModel",
            "_view_count": null,
            "_view_module": "@jupyter-widgets/base",
            "_view_module_version": "1.2.0",
            "_view_name": "StyleView",
            "bar_color": null,
            "description_width": ""
          }
        },
        "966be0e5f0df4aa0bf8db5229b13ff7f": {
          "model_module": "@jupyter-widgets/base",
          "model_name": "LayoutModel",
          "model_module_version": "1.2.0",
          "state": {
            "_model_module": "@jupyter-widgets/base",
            "_model_module_version": "1.2.0",
            "_model_name": "LayoutModel",
            "_view_count": null,
            "_view_module": "@jupyter-widgets/base",
            "_view_module_version": "1.2.0",
            "_view_name": "LayoutView",
            "align_content": null,
            "align_items": null,
            "align_self": null,
            "border": null,
            "bottom": null,
            "display": null,
            "flex": null,
            "flex_flow": null,
            "grid_area": null,
            "grid_auto_columns": null,
            "grid_auto_flow": null,
            "grid_auto_rows": null,
            "grid_column": null,
            "grid_gap": null,
            "grid_row": null,
            "grid_template_areas": null,
            "grid_template_columns": null,
            "grid_template_rows": null,
            "height": null,
            "justify_content": null,
            "justify_items": null,
            "left": null,
            "margin": null,
            "max_height": null,
            "max_width": null,
            "min_height": null,
            "min_width": null,
            "object_fit": null,
            "object_position": null,
            "order": null,
            "overflow": null,
            "overflow_x": null,
            "overflow_y": null,
            "padding": null,
            "right": null,
            "top": null,
            "visibility": null,
            "width": null
          }
        },
        "c0dbd1bbee9e4e5ab3a70e8a16994074": {
          "model_module": "@jupyter-widgets/controls",
          "model_name": "DescriptionStyleModel",
          "model_module_version": "1.5.0",
          "state": {
            "_model_module": "@jupyter-widgets/controls",
            "_model_module_version": "1.5.0",
            "_model_name": "DescriptionStyleModel",
            "_view_count": null,
            "_view_module": "@jupyter-widgets/base",
            "_view_module_version": "1.2.0",
            "_view_name": "StyleView",
            "description_width": ""
          }
        }
      }
    }
  },
  "nbformat": 4,
  "nbformat_minor": 0
}