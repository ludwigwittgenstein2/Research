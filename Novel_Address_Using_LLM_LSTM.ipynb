{
  "nbformat": 4,
  "nbformat_minor": 0,
  "metadata": {
    "colab": {
      "provenance": [],
      "authorship_tag": "ABX9TyNsKFTny07CQ/4XM5se5xz8",
      "include_colab_link": true
    },
    "kernelspec": {
      "name": "python3",
      "display_name": "Python 3"
    },
    "language_info": {
      "name": "python"
    },
    "accelerator": "GPU",
    "gpuClass": "standard"
  },
  "cells": [
    {
      "cell_type": "markdown",
      "metadata": {
        "id": "view-in-github",
        "colab_type": "text"
      },
      "source": [
        "<a href=\"https://colab.research.google.com/github/ludwigwittgenstein2/Research/blob/master/Novel_Address_Using_LLM_LSTM.ipynb\" target=\"_parent\"><img src=\"https://colab.research.google.com/assets/colab-badge.svg\" alt=\"Open In Colab\"/></a>"
      ]
    },
    {
      "cell_type": "markdown",
      "source": [
        "#Title: Novel Address Generation using LLM and LSTM\n",
        "### by Rick Rejeleene\n",
        "\n",
        "Generative Models, mostly we are using to generate any artifact [text, audio, video]\n",
        "\n",
        "Feedback:\n",
        "\n",
        "Evaluation: Include in Dissertation\n",
        "\n",
        "How factual is it? (correct)\n",
        "\n",
        "How accurate is it [creativity]\n",
        "\n",
        "How measure result of generative language models?\n",
        "\n",
        "Misused (Toxic) \n",
        "\n",
        "Direction: Is the generated text from? Is it from AI model or not AI model?\n"
      ],
      "metadata": {
        "id": "5TPG8aeqOqgK"
      }
    },
    {
      "cell_type": "markdown",
      "source": [
        "## First we approach using GPT-2 Model - Why?\n",
        "\n",
        "a. GPT-2 is popular model of recent \n",
        "\n",
        "b. We try to use our dataset on GPT-2\n",
        "\n",
        "c. We try to get results\n",
        "\n",
        "\n",
        "\n",
        "###Goal of the Work: \n",
        "\n",
        "a. Apply Language Model \n",
        "\n",
        "b. Apply LSTM or variation of LSTM\n",
        "\n",
        "c. Use Census dataset [Name-Address]\n",
        "\n",
        "d. Compare results \n",
        "\n",
        "e. Write Paper/Results\n"
      ],
      "metadata": {
        "id": "UM-vb7aHVSmr"
      }
    },
    {
      "cell_type": "code",
      "source": [
        "#install dependencies \n"
      ],
      "metadata": {
        "id": "autIgNm6VvZm"
      },
      "execution_count": null,
      "outputs": []
    },
    {
      "cell_type": "code",
      "source": [
        "!pip install -q gpt-2-simple\n",
        "import gpt_2_simple as gpt2\n",
        "from datetime import datetime\n",
        "from google.colab import files"
      ],
      "metadata": {
        "colab": {
          "base_uri": "https://localhost:8080/"
        },
        "id": "uFReNMMTVr-E",
        "outputId": "56489b37-7087-4171-e3c7-eec67b35eacd"
      },
      "execution_count": null,
      "outputs": [
        {
          "output_type": "stream",
          "name": "stdout",
          "text": [
            "  Preparing metadata (setup.py) ... \u001b[?25l\u001b[?25hdone\n",
            "  Building wheel for gpt-2-simple (setup.py) ... \u001b[?25l\u001b[?25hdone\n"
          ]
        }
      ]
    },
    {
      "cell_type": "code",
      "source": [
        "#Check GPU "
      ],
      "metadata": {
        "id": "dzd5mjNEO0wL"
      },
      "execution_count": null,
      "outputs": []
    },
    {
      "cell_type": "code",
      "source": [
        "!nvidia-smi"
      ],
      "metadata": {
        "colab": {
          "base_uri": "https://localhost:8080/"
        },
        "id": "JPtg57mOWQCZ",
        "outputId": "50d5b799-9382-4470-fe76-ebb32937953b"
      },
      "execution_count": null,
      "outputs": [
        {
          "output_type": "stream",
          "name": "stdout",
          "text": [
            "Sun Feb  5 01:40:24 2023       \n",
            "+-----------------------------------------------------------------------------+\n",
            "| NVIDIA-SMI 510.47.03    Driver Version: 510.47.03    CUDA Version: 11.6     |\n",
            "|-------------------------------+----------------------+----------------------+\n",
            "| GPU  Name        Persistence-M| Bus-Id        Disp.A | Volatile Uncorr. ECC |\n",
            "| Fan  Temp  Perf  Pwr:Usage/Cap|         Memory-Usage | GPU-Util  Compute M. |\n",
            "|                               |                      |               MIG M. |\n",
            "|===============================+======================+======================|\n",
            "|   0  Tesla T4            Off  | 00000000:00:04.0 Off |                    0 |\n",
            "| N/A   63C    P0    30W /  70W |      0MiB / 15360MiB |      0%      Default |\n",
            "|                               |                      |                  N/A |\n",
            "+-------------------------------+----------------------+----------------------+\n",
            "                                                                               \n",
            "+-----------------------------------------------------------------------------+\n",
            "| Processes:                                                                  |\n",
            "|  GPU   GI   CI        PID   Type   Process name                  GPU Memory |\n",
            "|        ID   ID                                                   Usage      |\n",
            "|=============================================================================|\n",
            "|  No running processes found                                                 |\n",
            "+-----------------------------------------------------------------------------+\n"
          ]
        }
      ]
    },
    {
      "cell_type": "code",
      "source": [
        "gpt2.download_gpt2(model_name=\"124M\")"
      ],
      "metadata": {
        "colab": {
          "base_uri": "https://localhost:8080/"
        },
        "id": "ukFHoRLJWSXp",
        "outputId": "5a1cd918-6366-4652-fff2-f8d4f7b83f1b"
      },
      "execution_count": null,
      "outputs": [
        {
          "output_type": "stream",
          "name": "stderr",
          "text": [
            "Fetching checkpoint: 1.05Mit [00:00, 489Mit/s]                                                      \n",
            "Fetching encoder.json: 1.05Mit [00:00, 1.06Mit/s]\n",
            "Fetching hparams.json: 1.05Mit [00:00, 737Mit/s]                                                    \n",
            "Fetching model.ckpt.data-00000-of-00001: 498Mit [00:49, 10.0Mit/s]\n",
            "Fetching model.ckpt.index: 1.05Mit [00:00, 430Mit/s]                                                \n",
            "Fetching model.ckpt.meta: 1.05Mit [00:00, 1.21Mit/s]\n",
            "Fetching vocab.bpe: 1.05Mit [00:00, 1.41Mit/s]\n"
          ]
        }
      ]
    },
    {
      "cell_type": "code",
      "source": [
        "gpt2.mount_gdrive()"
      ],
      "metadata": {
        "colab": {
          "base_uri": "https://localhost:8080/"
        },
        "id": "TK4Vi_24WSdV",
        "outputId": "d4f2b7f9-9595-4df4-f2cd-dbc5f88509b1"
      },
      "execution_count": null,
      "outputs": [
        {
          "output_type": "stream",
          "name": "stdout",
          "text": [
            "Mounted at /content/drive\n"
          ]
        }
      ]
    },
    {
      "cell_type": "code",
      "source": [
        "#upload our own dataset "
      ],
      "metadata": {
        "id": "qSAGpUpEWXFN"
      },
      "execution_count": null,
      "outputs": []
    },
    {
      "cell_type": "code",
      "source": [
        "file_name = 'CleanedDatasetEntire1.txt'"
      ],
      "metadata": {
        "id": "6HyenfPdWUT5"
      },
      "execution_count": null,
      "outputs": []
    },
    {
      "cell_type": "code",
      "source": [
        "gpt2.copy_file_from_gdrive(file_name)"
      ],
      "metadata": {
        "id": "f40hG69fWUYP"
      },
      "execution_count": null,
      "outputs": []
    },
    {
      "cell_type": "code",
      "source": [
        "#Train Model"
      ],
      "metadata": {
        "id": "UHGjgRlpWdit"
      },
      "execution_count": null,
      "outputs": []
    },
    {
      "cell_type": "code",
      "source": [
        "sess = gpt2.start_tf_sess()\n",
        "\n",
        "gpt2.finetune(sess,\n",
        "              dataset=file_name,\n",
        "              model_name='124M',\n",
        "              steps=1000,\n",
        "              restore_from='fresh',\n",
        "              run_name='run1',\n",
        "              print_every=10,\n",
        "              sample_every=200,\n",
        "              save_every=500\n",
        "              )"
      ],
      "metadata": {
        "colab": {
          "base_uri": "https://localhost:8080/"
        },
        "id": "5dsfnNRZWcTV",
        "outputId": "e1ae27fb-06a3-47cb-bb63-3b3e76343fde"
      },
      "execution_count": null,
      "outputs": [
        {
          "output_type": "stream",
          "name": "stdout",
          "text": [
            "Loading checkpoint models/124M/model.ckpt\n",
            "Loading dataset...\n"
          ]
        },
        {
          "output_type": "stream",
          "name": "stderr",
          "text": [
            "100%|██████████| 1/1 [00:00<00:00, 2535.85it/s]"
          ]
        },
        {
          "output_type": "stream",
          "name": "stdout",
          "text": [
            "dataset has 17233 tokens\n",
            "Training...\n"
          ]
        },
        {
          "output_type": "stream",
          "name": "stderr",
          "text": [
            "\n"
          ]
        },
        {
          "output_type": "stream",
          "name": "stdout",
          "text": [
            "[10 | 26.89] loss=2.51 avg=2.51\n",
            "[20 | 49.81] loss=1.88 avg=2.19\n",
            "[30 | 73.05] loss=1.61 avg=2.00\n",
            "[40 | 95.86] loss=1.40 avg=1.84\n",
            "[50 | 118.74] loss=1.25 avg=1.72\n",
            "[60 | 141.80] loss=1.08 avg=1.61\n",
            "[70 | 164.81] loss=0.90 avg=1.51\n",
            "[80 | 187.74] loss=0.72 avg=1.41\n",
            "[90 | 210.70] loss=0.63 avg=1.32\n",
            "[100 | 233.72] loss=0.46 avg=1.23\n",
            "[110 | 256.75] loss=0.38 avg=1.15\n",
            "[120 | 279.75] loss=0.27 avg=1.07\n",
            "[130 | 302.75] loss=0.18 avg=1.00\n",
            "[140 | 325.76] loss=0.16 avg=0.93\n",
            "[150 | 348.75] loss=0.08 avg=0.87\n",
            "[160 | 371.73] loss=0.09 avg=0.82\n",
            "[170 | 394.69] loss=0.06 avg=0.77\n",
            "[180 | 417.66] loss=0.07 avg=0.73\n",
            "[190 | 440.62] loss=0.06 avg=0.69\n",
            "[200 | 463.56] loss=0.05 avg=0.65\n",
            "======== SAMPLE 1 ========\n",
            " MAN QC, \"ARLINGTON ,TX 78382\"\n",
            "366\t\"Mr. Zach Bourne , Jr, CLIA,\"\t\"6875 EDINBURGH RD, CORONA ,CA 92880\"\n",
            "367\t\"Mrs. Rachel Bourne , Jr, QC,\"\t\"1732 ANDY WILLIAMS DR, ANAHEIM ,CA 92804\"\n",
            "368\t\"Ms. Brooke Bourne , Jr, QA,\"\t\"15123 KING PL, SHERMAN OAKS ,FL 34905\"\n",
            "369\t\"Ms. Ashley Bourne , Jr, IQCP,\"\t\"4731 DASHWOOD, SAN ANTONIO ,TX 78287\"\n",
            "370\t\"Mr. Ryan Bourne , Jr, CLIA,\"\t\"9450 NICKTA LANDLORE DR, PASADENA ,CA 92127\"\n",
            "371\t\"Mr. Miranda Burt , Jr, QC,\"\t\"8406 GLENDON WAY, SACRAMENTO ,CA 95829\"\n",
            "372\t\"Mr. Cam Birdhead , Sr, QA,\"\t\"6040 CAMERON DR, SUN VALLEY ,CA 91352\"\n",
            "373\t\"Dean. Elijah Bird , Sr, IQCP,\"\t\"6667 BRUSHYORCH DR, PACHECO ,CA 94534\"\n",
            "374\t\"Dr. Luca Bird , Sr, CLIA,\"\t\"1030 W MAGNOLIA ST, COMPTON ,CA 94531\"\n",
            "375\t\"Col. Ryan BIDWELL , Sr, QC,\"\t\"3503 CAREY DR, COMPTON ,CA 94531\"\n",
            "376\t\"MS. Lucy BIDWELL , Sr, QA,\"\t\"12 COMPTON AVE, LAKE ELSINORE ,CA 92530\"\n",
            "377\t\"Dean . Lucille Bint , Jr, IQCP,\"\t\"4546 ELSINORE AVE, INGLEWOOD ,CA 90304\"\n",
            "378\t\"Dean. Bennie Bininger , Jr, CLIA,\"\t\"4541 CROWNPOINTE LN, THOUSAND OAKS ,CA 91340\"\n",
            "379\t\"Col. Abigail Bint , Jr, QC,\"\t\"4541 NICOYA DR, HACIENDA HEIGHTS ,CA 91745\"\n",
            "380\t\"Dean. Annie Bird , Jr, QA,\"\t\"12120 GRAND VIEW BLVD, LOS ANGELES ,CA 90066\"\n",
            "381\t\"Dr. Sarah Birdsall , Sr, IQCP,\"\t\"650 PARADISE CIR, KISSIMMEE ,FL 34741\"\n",
            "382\t\"MS. Luke Birdwright , Sr, CLIA,\"\t\"592 ELMWOOD WAY, LIVINGSTON ,FL 34741\"\n",
            "383\t\"Dean . Layla Birdsall , Sr, QC,\"\t\"2960 COLONY DR, BRYANT ,TX 77540\"\n",
            "384\t\"Dean. Layne Birdsall , Sr, QA,\"\t\"12117 MARIGOLD AVE, LONG BEACH ,CA 90804\"\n",
            "385\t\"Dr. Skylor Birdsall , Jr, CLIA,\"\t\"9450 BALSAM AVE, SPC 154, CHINO ,CA 91710\"\n",
            "386\t\"Ms. Brittany Birdsall , Jr, QC,\"\t\"4106 E CHAPMAN AVE, DALLAS ,TX 75214\"\n",
            "387\t\"Mr. Jason Bohlsen , Sr, QA,\"\t\"14849 PARK ST, OXNARD ,CA 93030\"\n",
            "388\t\"Mr. Victoria Boals , Sr, IQCP,\"\t\"4531 PECAN ST, CHULA VISTA ,CA 91910\"\n",
            "389\t\"Col. Rachel Bodger , Jr, CLIA,\"\t\"2392 CHIDESTER AVE, LOS ANGELES ,CA 90034\"\n",
            "390\t\"Mr. Zack Bass , Jr, QC,\"\t\"408 GRISWOLD ST, # 3, GLENDALE ,CA 91205\"\n",
            "391\t\"Dean. Ryan Bass , Jr, QA,\"\t\"1330 W MAGNOLIA AVE, APT 28, ANAHEIM ,CA 92801\"\n",
            "392\t\"Dr. Kaylee Bassett , Sr, IQCP,\"\t\"5702 GULF DR, VISGLAND ,CA 91801\"\n",
            "393\t\"Col. Rachel Bezold , Sr, CLIA,\"\t\"1431 S ALDER AVE, DAVENPORT ,TX 78753\"\n",
            "394\t\"MS. Luke Bauer , Jr, QC,\"\t\"132 GOLDENROD AVE, PERRIS ,CA 92570\"\n",
            "395\t\"Dean . Daniel Bauer ,\n",
            "\n",
            "[210 | 500.48] loss=0.04 avg=0.62\n",
            "[220 | 523.53] loss=0.04 avg=0.59\n",
            "[230 | 546.53] loss=0.05 avg=0.57\n",
            "[240 | 569.49] loss=0.05 avg=0.54\n",
            "[250 | 592.48] loss=0.04 avg=0.52\n",
            "[260 | 615.49] loss=0.04 avg=0.50\n",
            "[270 | 638.50] loss=0.04 avg=0.48\n",
            "[280 | 661.49] loss=0.03 avg=0.46\n",
            "[290 | 684.47] loss=0.04 avg=0.44\n",
            "[300 | 707.41] loss=0.04 avg=0.43\n",
            "[310 | 730.39] loss=0.03 avg=0.41\n",
            "[320 | 753.36] loss=0.04 avg=0.40\n",
            "[330 | 776.35] loss=0.03 avg=0.39\n",
            "[340 | 799.32] loss=0.04 avg=0.38\n",
            "[350 | 822.31] loss=0.04 avg=0.36\n",
            "[360 | 845.31] loss=0.03 avg=0.35\n",
            "[370 | 868.31] loss=0.03 avg=0.34\n",
            "[380 | 891.32] loss=0.03 avg=0.33\n",
            "[390 | 914.32] loss=0.03 avg=0.32\n",
            "[400 | 937.29] loss=0.03 avg=0.31\n",
            "======== SAMPLE 1 ========\n",
            "ONTTER ,AR 72956\"\n",
            "163\t\"Ms. Daniel Boone , Sr, CLIA,\"\t\"7047 LAGO DEL MAR DR, APT 144, BOCA RATON ,FL 33433\"\n",
            "164\t\"Col. Paxton Buciciero , PhD, QA,\"\t\"6403 SW CAPE COD DR, PORT ST LUCIE ,FL 34953\"\n",
            "165\t\"MS. Jeremy Banish , Jr, CLIA,\"\t\"MARGARITA ,CA 92780\"\n",
            "166\t\"Dean . Grant Balentyne , PhD, IQCP,\"\t\"16100 BROOKDALE DR, COCONUT CORDOVA ,FL 34981\"\n",
            "167\t\"Dean. Emily Ball , PhD, QC,\"\t\"PO BOX 1211, CHULA VISTA ,CA 91910\"\n",
            "168\t\"Dean. Colton Ball , Sr, QA,\"\t\"4639 CORNELL, FRESNO ,CA 93703\"\n",
            "169\t\"Dr. Kyle Ball , Sr, IQCP,\"\t\"PO BOX 2721, SAN VICENTE ,CA 91773\"\n",
            "170\t\"Col. Johnny Probst , Sr, CLIA,\"\t\"6256 GLENDON ,CA 92592\"\n",
            "171\t\"MS. Allison Pierce , PhD, QC,\"\t\"5575 GOREHA ,TX7820\"\n",
            "172\t\"Ms. Wyatt Pierce , PhD, QA,\"\t\"6127 GRAVES LN, CASTAIR RBC)--TSXV 6 CRIMSON TRLANSCA ,CA 91427\"\n",
            "173\t\"Mr. Raenalynn Brock , PhD, QC,\"\t\"17450 N BLOOMINGTON ST, RIVERSIDE ,CA 92506\"\n",
            "174\t\"Dean. Appearing in ,cci. '85 sterling. Krista Brooks , Jr, IQCP,\"\t\"10074 GRAVES AVE, RIVERSIDE ,CA 92506\"\n",
            "175\t\"Dean. Casey Brooks , Sr, CLIA,\"\t\"7008 N FIG ST, APT 4, TAMPA ,FL 33614\"\n",
            "176\t\"Dr. Trenton Brooks , PhD, QC,\"\t\"234 power out to ST, 54TH MARITA OAKS TRL, SAN ANTONIO ,TX 78253\"\n",
            "177\t\"Col. Brody Bequette , Sr, QA,\"\t\"2415 N FIG ST, APT 502, TUSTIN ,CA 92780\"\n",
            "178\t\"MS. Emma Bailie , Sr, CLIA,\"\t\"7400 COLMA AVE, APT 3, OTAHEIM ,CA 92804\"\n",
            "179\t\"Dean . Addison Bautista , Sr, QC,\"\t\"7737 Cunningham ST, APT 1, CANTON ,TX 75103\"\n",
            "180\t\"Dean. Ashley Bautista , Sr, QA,\"\t\"1711 NW 44TH ST, MIAMI ,FL 33174\"\n",
            "181\t\"Dean. Christopher Bautista , Sr, IQCP,\"\t\"604 LITTLE MAZARN RD, HOT SPRINGS NATIONAL PARK ,AR 71913\"\n",
            "182\t\"Dr. Drew Burow , Jr, CLIA,\"\t\"8207 MISTY RIVER WAY, LITTLE ROCK ,AR 72204\"\n",
            "183\t\"Col. Michael BUDICK , Jr, QC,\"\t\"7303 LITTLE DELHI DR, RIVERSIDE ,CA 92602\"\n",
            "184\t\"MS. Logan Budi , Jr, QA,\"\t\"3127 TOMALES LN, ORLANDO ,FL 32827\"\n",
            "185\t\"Ms. Rocco BUDERDALE , Sr, IQCP,\"\t\"5575 BRISTOL BAY LN N, SAN ANTONIO ,TX 78253\"\n",
            "186\t\"Ms. Braeden Byrd , Sr, CLIA,\"\t\"2700 CHADBOURNE AVE, RIVERSIDE ,CA 92505\"\n",
            "187\t\"Ms. Tyler Byrd , Jr, QC,\"\t\"47-TH AVE CT, MARGATE ,FL 33063\"\n",
            "188\t\"Ms. Claire Byrd , Jr, QA,\"\t\"PO BOX 2606, MILPITAS ,CA 95036\"\n",
            "189\t\"Ms. Zachary Byrd , Jr, IQCP,\"\t\"272 SAN LUIS ST, POMONA ,CA 91767\"\n",
            "190\t\"Mr. Zachary Byrd , Jr, CLIA,\"\t\"17 gasca AGLIANO DIAZ, void left, and WILLIAMS , Jr, ODEM, \"\t\"104 ILLINOIS ST, RIVERSIDE ,CA 92506\"\n",
            "191\n",
            "\n",
            "[410 | 973.34] loss=0.03 avg=0.31\n",
            "[420 | 996.30] loss=0.03 avg=0.30\n",
            "[430 | 1019.30] loss=0.04 avg=0.29\n",
            "[440 | 1042.31] loss=0.03 avg=0.28\n",
            "[450 | 1065.34] loss=0.03 avg=0.28\n",
            "[460 | 1088.35] loss=0.02 avg=0.27\n",
            "[470 | 1111.36] loss=0.03 avg=0.26\n",
            "[480 | 1134.34] loss=0.03 avg=0.26\n",
            "[490 | 1157.30] loss=0.03 avg=0.25\n",
            "[500 | 1180.26] loss=0.03 avg=0.25\n",
            "Saving checkpoint/run1/model-500\n",
            "[510 | 1205.88] loss=0.03 avg=0.24\n",
            "[520 | 1228.95] loss=0.03 avg=0.24\n",
            "[530 | 1251.95] loss=0.03 avg=0.23\n",
            "[540 | 1274.90] loss=0.02 avg=0.23\n",
            "[550 | 1297.85] loss=0.03 avg=0.22\n",
            "[560 | 1320.83] loss=0.03 avg=0.22\n",
            "[570 | 1343.81] loss=0.03 avg=0.21\n",
            "[580 | 1366.82] loss=0.02 avg=0.21\n",
            "[590 | 1389.83] loss=0.03 avg=0.20\n",
            "[600 | 1412.87] loss=0.02 avg=0.20\n",
            "======== SAMPLE 1 ========\n",
            "421\"\n",
            "194\t\"Ms. Miranda Boyd , Jr, IQCP,\"\t\"33015 SEVILLE ST, LAKE ELSINORE ,CA 92530\"\n",
            "195\t\"Ms. William Boyd , Jr, CLIA,\"\t\"3601 E HOLT AVE, APT 108, WEST COVINA ,CA 91791\"\n",
            "196\t\"Mr. Earlo Bivings , Jr, QC,\"\t\"725 ACACIA ST, LAKE ELSINORE ,CA 92560\"\n",
            "197\t\"Provost Daniel Bui , Jr, QA,\"\t\"4101 ROCKY RIDGE TRL, ROGERS ,CA 926 dovec LN,\"\t\"5538 PRESFIELD ST, SAN DIEGO ,CA 92114\"\n",
            "198\t\"Dean. Ariel Bulich , Jr, IQCP,\"\t\"2130 GOLDRIDGE ST, SELMA ,CA 93662\"\n",
            "199\t\"Dr. Isaac Bunn , Sr, CLIA,\"\t\"725 ACACIA ST, LAKE ELSINORE ,CA 92560\"\n",
            "200\t\"Col. Julissa Bulich , Sr, QC,\"\t\"2770 FERINA ST, RIVERSIDE ,CA 92505\"\n",
            "201\t\"MS. Morgan Bunn , Sr, QA,\"\t\"305 age St, front Office Square , Observatory ,CA 92503\"\n",
            "202\t\"Dean . Layla Nesbitt , Sr, IQCP,\"\t\"1790 BROOKS ST, SAN FRANCISCO ,CA 94134\"\n",
            "203\t\"Ms. Jared Nebuchrom , Jr, CLIA,\"\t\"4731 W RIO BRAVO DR, FRESNO ,CA 93722\"\n",
            "204\t\"Ms. Audrianna Ngannik , Jr, QC,\"\t\"11076 PHILADELPHIA CIR, CIRRUS ,CA 93538\"\n",
            "205\t\"Ms. Lindsay Ngann , Jr, QA,\"\t\"519 N Clark ST, MIAMI ,FL 33165\"\n",
            "206\t\"Ms. Taylor Ngann , Jr, IQCP,\"\t\"2025 BROOKS ST, SANTEE ,CA 93726\"\n",
            "207\t\"Ms. Jase Newby , Jr, CLIA,\"\t\"7547 CHIDESTER TREE DR, NEW PORT RICHEY ,FL 34655\"\n",
            "208\t\"Ms. Paxton Newby , Jr, QC,\"\t\"432 N Holly DR, APT A, wire service\n",
            "209\t\"Ms. Quinton Newby , Jr, QA,\"\t\"430 N CORONADO ST, APT 8, LOS ANGELES ,CA 90026\"\n",
            "210\t\"Mr. Jackson Newby , Sr, IQCP,\"\t\"1773 NW 114TH ST, MIAMI ,FL 33187\"\n",
            "211\t\"Mr. Newby , Sr, CLIA,\"\t\"430 N CONWAY TER, GAINESVILLE ,FL 32641\"\n",
            "212\t\"Dean. Jackson Newby , Sr, QC,\"\t\"4106 GLENHAVEN DR, BAY POINT ,CA 94537\"\n",
            "213\t\"Dr. Jonathan Ngann , Sr, QA,\"\t\"2161 Bayview LN, Chandler ,TX 77536\"\n",
            "214\t\"Mr. Emily Okafor , Sr, IQCP,\"\t\"21529 for Alloy RD, Suite B, Brisbane ,CA 93703\"\n",
            "215\t\"Mr. Miranda Oates , Jr, CLIA,\"\t\"772 GRAVES AVE, FLORESVILLE ,TX 77114\"\n",
            "216\t\"Mr. Jessica Odesza , Jr, QC,\"\t\"ROYAL PALM BEACH ,FL 33411\"\n",
            "217\t\"Dean. Ben Osborn , Sr, QA,\"\t\"21514 PONDEROSA PINES DR, HOUSTON ,TX 77024\"\n",
            "218\t\"Dr.alexbensasie , Alpha, and Janea.Spencer.\n",
            "219\t\"Col.helly.Clarke.\n",
            "220\t\"MS.D. .arius.\n",
            "221\t\"Dean.arihsaan ,imental,\"\t\"36491 ABRUZZI CIR, STOCKTON ,CA 95206\"\n",
            "222\t\"Dean.sonja.dylan , midshipman,\"\t\"36491 IGLOO LN, HITCHCOCK ,TX 77477\"\n",
            "223\t\"Col.sylvaine . snyloff , rolex, \"\t\"370 HARTWOOD AVE, SOUTH GATE ,CA 90280\"\n",
            "224\t\"Dean.hen craic , attentionor,\"\t\"4106 15TH AVE W, BRADENTON ,FL\n",
            "\n",
            "[610 | 1448.81] loss=0.03 avg=0.20\n",
            "[620 | 1471.82] loss=0.02 avg=0.19\n",
            "[630 | 1494.84] loss=0.02 avg=0.19\n",
            "[640 | 1517.87] loss=0.02 avg=0.19\n",
            "[650 | 1540.88] loss=0.02 avg=0.18\n",
            "[660 | 1563.88] loss=0.03 avg=0.18\n",
            "[670 | 1586.88] loss=0.03 avg=0.18\n",
            "[680 | 1609.83] loss=0.02 avg=0.17\n",
            "[690 | 1632.79] loss=0.02 avg=0.17\n",
            "[700 | 1655.75] loss=0.03 avg=0.17\n",
            "[710 | 1678.70] loss=0.02 avg=0.16\n",
            "[720 | 1701.70] loss=0.02 avg=0.16\n",
            "[730 | 1724.70] loss=0.02 avg=0.16\n",
            "[740 | 1747.71] loss=0.03 avg=0.16\n",
            "[750 | 1770.73] loss=0.02 avg=0.15\n",
            "[760 | 1793.76] loss=0.02 avg=0.15\n",
            "[770 | 1816.76] loss=0.02 avg=0.15\n",
            "[780 | 1839.74] loss=0.02 avg=0.15\n",
            "[790 | 1862.73] loss=0.02 avg=0.14\n",
            "[800 | 1885.72] loss=0.02 avg=0.14\n",
            "======== SAMPLE 1 ========\n",
            " Begins , Jr, CLIA,\"\t\"7486 CHASE AVE, HESPERIA ,CA 92345\"\n",
            "330\t\"Dr. Lindsay Allen , PhD, QC,\"\t\"7200 STE 8, PORT SAINT LUCIE ,FL 34987\"\n",
            "331\t\"Mr. Marissa Allen , PhD, QA,\"\t\"5330 W MAGNOLIA ST, COMPTON ,CA 90220\"\n",
            "332\t\"Mrs. James Allen , Jr, IQCP,\"\t\"2370 SHERRY LN, FLOWER & ANALYTTER ,CA 91340\"\n",
            "333\t\"Ms. Lucy Allen , PhD, CLIA,\"\t\"8945 BROOKS ST, SAN MATEO ,CA 94703\"\n",
            "334\t\"Ms. Elizabeth Allen , PhD, QC,\"\t\"69 through 19, BLACK LAKE ,CA 91360\"\n",
            "335\t\"Ms. Samuel Allen , Jr, QA,\"\t\"2390 BROOKS ST, KISSIMMEE ,FL 34741\"\n",
            "336\t\"Ms. Liam Allen , Jr, CLIA,\"\t\"69 through 19, YUBA CITY ,CA 92672\"\n",
            "337\t\"Ms. Allison Allen , Jr, QC,\"\t\"299 pastries, kylie, \" Saw Jaynes , Jr, QA\"\t\"4630 W RIO DR, HIALEAH ,FL 33015\"\n",
            "338\t\"Ms. Allison Allen , Jr, CLIA,\"\t\"299 pastries, lunarside, \" Sawley Allen , Jr, QC,\"\t\"&CLIA, 3905 FM 1653, Rocklin ,FL 33537\"\n",
            "339\t\"Ms. Elizabeth Allen , PhD, QA,\"\t\"15511 ORANGE AVE, SPC 75, CHINO ,CA 91710\"\n",
            "340\t\"Ms. Allison Allen , Jr, IQCP,\"\t\"3161 NORTH HOLLYWOOD DR, HAMILTON ,TX 76531\"\n",
            "341\t\"Ms. Elizabeth Allen , PhD, CLIA,\"\t\"13510 HIDDEN VALLEY ST, CLOVIS ,CA 93636\"\n",
            "342\t\"Ms. Casey Allen , Jr, QC,\"\t\"11050 SW 7TH ST, MIAMI ,FL 33174\"\n",
            "343\t\"Ms. Lucy Allen , PhD, QA,\"\t\"430 N BELLE AVE, CORONA ,CA 92882\"\n",
            "344\t\"Ms. Liam Allen , PhD, IQCP,\"\t\"1830 MARSHALL ST, HOUSTON ,TX 77090\"\n",
            "345\t\"Ms. Grace Allen , Jr, CLIA,\"\t\"10167 VAN NESS, SAN ANTONIO ,TX 78251\"\n",
            "346\t\"Ms. Ashley Allen , Jr, QC,\"\t\"7008 N CENTRAL AVE, APT C, WESTMINSTER ,CA 92682\"\n",
            "347\t\"Ms. Lindsay Allen , Sr, QA,\"\t\"1774 GOTHAM ST, CHULA VISTA ,CA 91913\"\n",
            "348\t\"Ms. Braeden Allen , Sr, CLIA,\"\t\"8620 COMPTON AVE, TWENTYNINE PALMS ,CA 92277\"\n",
            "349\t\"Ms. Ashley Allen , Sr, QC,\"\t\"2025 BRIGHT DR, APT 6, HIALEAH ,FL 33010\"\n",
            "350\t\"Ms. Jonathan Allen , Jr, QA,\"\t\"6565 CHADBOURNE AVE, RIVERSIDE ,CA 92505\"\n",
            "351\t\"Ms. Roman Allen , Jr, IQCP,\"\t\"330 S VELARE ST, APT 16, ANAHEIM ,CA 92804\"\n",
            "352\t\"Ms. Lucy Allen , Jr, CLIA,\"\t\"430 N ELK AVE, APT 4, HIALEAH ,FL 33010\"\n",
            "353\t\"Ms. Ben Allen , Sr, QC,\"\t\"3311 NASHVILLE CIR, APT 106, ROCKLIN ,CA 95715\"\n",
            "354\t\"Ms. Logan Allen , Sr, QA,\"\t\"PO BOX 9994, BOYNTON BEACH ,FL 33437\"\n",
            "355\t\"Ms.iahann , Jr, IQCP,\"\t\"41584 MARGARITA RD, APT 209, SANTA ANA ,CA 92705\"\n",
            "356\t\"Dean./Dr.–MS.–Col.–VEGANIOS , Sr, CLIA,\"\t\"68717 CHIDESTER AVE, TEMECULA ,CA 92592\"\n",
            "357\t\"Col. LnNJ, QA,\"\t\"04620 MAGNOLIA DR, RIVERSIDE ,CA 92503\"\n",
            "358\t\"MS, L\n",
            "\n",
            "[810 | 1921.77] loss=0.02 avg=0.14\n",
            "[820 | 1944.79] loss=0.02 avg=0.14\n",
            "[830 | 1967.83] loss=0.02 avg=0.14\n",
            "[840 | 1990.86] loss=0.02 avg=0.13\n",
            "[850 | 2013.85] loss=0.02 avg=0.13\n",
            "[860 | 2036.82] loss=0.02 avg=0.13\n",
            "[870 | 2059.77] loss=0.02 avg=0.13\n",
            "[880 | 2082.74] loss=0.02 avg=0.13\n",
            "[890 | 2105.73] loss=0.02 avg=0.12\n",
            "[900 | 2128.75] loss=0.02 avg=0.12\n",
            "[910 | 2151.75] loss=0.02 avg=0.12\n",
            "[920 | 2174.78] loss=0.02 avg=0.12\n",
            "[930 | 2197.78] loss=0.02 avg=0.12\n",
            "[940 | 2220.78] loss=0.02 avg=0.12\n",
            "[950 | 2243.75] loss=0.02 avg=0.11\n",
            "[960 | 2266.76] loss=0.01 avg=0.11\n",
            "[970 | 2289.75] loss=0.02 avg=0.11\n",
            "[980 | 2312.72] loss=0.02 avg=0.11\n",
            "[990 | 2335.68] loss=0.02 avg=0.11\n",
            "[1000 | 2358.63] loss=0.02 avg=0.11\n",
            "Saving checkpoint/run1/model-1000\n"
          ]
        },
        {
          "output_type": "stream",
          "name": "stderr",
          "text": [
            "WARNING:tensorflow:From /usr/local/lib/python3.8/dist-packages/tensorflow/python/training/saver.py:1066: remove_checkpoint (from tensorflow.python.training.checkpoint_management) is deprecated and will be removed in a future version.\n",
            "Instructions for updating:\n",
            "Use standard file APIs to delete files with this prefix.\n"
          ]
        }
      ]
    },
    {
      "cell_type": "code",
      "source": [
        "gpt2.copy_checkpoint_to_gdrive(run_name='run1')"
      ],
      "metadata": {
        "id": "LATz4EOfWisl"
      },
      "execution_count": null,
      "outputs": []
    },
    {
      "cell_type": "code",
      "source": [
        "gpt2.copy_checkpoint_from_gdrive(run_name='run1')"
      ],
      "metadata": {
        "id": "fv9WgqfAWk7S"
      },
      "execution_count": null,
      "outputs": []
    },
    {
      "cell_type": "code",
      "source": [
        "import tensorflow as tf \n",
        "tf.compat.v1.reset_default_graph()"
      ],
      "metadata": {
        "id": "-qrnpMIhjyWT"
      },
      "execution_count": null,
      "outputs": []
    },
    {
      "cell_type": "code",
      "source": [
        "\n",
        "sess = gpt2.start_tf_sess()\n",
        "gpt2.load_gpt2(sess, run_name='run1')"
      ],
      "metadata": {
        "colab": {
          "base_uri": "https://localhost:8080/"
        },
        "id": "SgrEnz6QWm1H",
        "outputId": "e74d2a7a-8139-495c-806b-cd83ca69e740"
      },
      "execution_count": null,
      "outputs": [
        {
          "output_type": "stream",
          "name": "stdout",
          "text": [
            "Loading checkpoint checkpoint/run1/model-592\n"
          ]
        }
      ]
    },
    {
      "cell_type": "code",
      "source": [
        "#Generate our data from Model"
      ],
      "metadata": {
        "id": "eFxYb33RWpQV"
      },
      "execution_count": null,
      "outputs": []
    },
    {
      "cell_type": "code",
      "source": [
        "\"\"\"\n",
        "\n",
        "Consider parameters\n",
        "\n",
        "length: Number of tokens to generate (default 1023, the maximum)\n",
        "temperature: The higher the temperature, the crazier the text (default 0.7, recommended to keep between 0.7 and 1.0)\n",
        "top_k: Limits the generated guesses to the top k guesses (default 0 which disables the behavior; if the generated output is super crazy, you may want to set top_k=40)\n",
        "top_p: Nucleus sampling: limits the generated guesses to a cumulative probability. (gets good results on a dataset with top_p=0.9)\n",
        "truncate: Truncates the input text until a given sequence, excluding that sequence (e.g. if truncate='<|endoftext|>', \n",
        "the returned text will include everything before the first <|endoftext|>). \n",
        "It may be useful to combine this with a smaller length if the input texts are short.\n",
        "include_prefix: If using truncate and include_prefix=False, the specified prefix will not be included in the returned text.\n",
        "\n",
        "\"\"\""
      ],
      "metadata": {
        "id": "j4l29QC_Wv-i",
        "colab": {
          "base_uri": "https://localhost:8080/",
          "height": 125
        },
        "outputId": "b6922e15-c716-458e-9b10-668ebcff6c6d"
      },
      "execution_count": null,
      "outputs": [
        {
          "output_type": "execute_result",
          "data": {
            "text/plain": [
              "\"\\n\\nConsider parameters\\n\\nlength: Number of tokens to generate (default 1023, the maximum)\\ntemperature: The higher the temperature, the crazier the text (default 0.7, recommended to keep between 0.7 and 1.0)\\ntop_k: Limits the generated guesses to the top k guesses (default 0 which disables the behavior; if the generated output is super crazy, you may want to set top_k=40)\\ntop_p: Nucleus sampling: limits the generated guesses to a cumulative probability. (gets good results on a dataset with top_p=0.9)\\ntruncate: Truncates the input text until a given sequence, excluding that sequence (e.g. if truncate='<|endoftext|>', \\nthe returned text will include everything before the first <|endoftext|>). \\nIt may be useful to combine this with a smaller length if the input texts are short.\\ninclude_prefix: If using truncate and include_prefix=False, the specified prefix will not be included in the returned text.\\n\\n\""
            ],
            "application/vnd.google.colaboratory.intrinsic+json": {
              "type": "string"
            }
          },
          "metadata": {},
          "execution_count": 15
        }
      ]
    },
    {
      "cell_type": "code",
      "source": [
        "single_text = gpt2.generate(sess, return_as_list=True)\n",
        "print((single_text))"
      ],
      "metadata": {
        "colab": {
          "base_uri": "https://localhost:8080/"
        },
        "id": "dWJFhYaWOSKp",
        "outputId": "38e985d2-0dfd-4385-86c8-3063dd5d4d2b"
      },
      "execution_count": null,
      "outputs": [
        {
          "output_type": "stream",
          "name": "stdout",
          "text": [
            "['Mr. Michael Bognar , Jr, IQCP,\"\\t\"25781 STEPHENS ST, ESPARTO ,CA 95627\"\\n399\\t\"Dean. Eloise Bognar , Jr, CLIA,\"\\t\"1097 MANIGAN AVE, OVIEDO ,FL 32765\"\\n400\\t\"Dr. Holly Bognar , Jr, QC,\"\\t\"1716 NAKAMO ST, APT 4, TWENTYNINE PALMS ,CA 92277\"\\n401\\t\"Mr. Damon Bregman , Jr, QA,\"\\t\"104 1/2 NAKAMO ST, APT 416, TWENTYNINE ,CA 92277\"\\n402\\t\"Mr. Erik Bunn , Sr, IQCP,\"\\t\"19054 PARTHENIA ST, APT 5, NORTHRIDGE ,CA 91324\"\\n403\\t\"Mr. Lane Brown , PhD, CLIA,\"\\t\"1667 PINEVIEW LN, ARLINGTON ,TX 76531\"\\n404\\t\"Mrs. Sharon Brown , PhD, QC,\"\\t\"1117 E FELICITA AVE, ESCONDIDO ,CA 92025\"\\n405\\t\"Ms. Carissa Brown , PhD, QA,\"\\t\"1431 FORRESTAL AVE, SAN JOSE ,CA 95110\"\\n406\\t\"Mr. Buchella Brown , Jr, IQCP,\"\\t\"1840 E LA PALMA AVE, ANAHEIM ,CA 92805\"\\n407\\t\"Mr. Daniel Brown , Sr, CLIA,\"\\t\"1050 BENTON ST, APT 1329, SANTA CLARA ,CA 95050\"\\n408\\t\"Dean. Justine Brown , Sr, QC,\"\\t\"1121 CROMWELL ST, POMONA ,CA 91768\"\\n409\\t\"Dr. Claire Brown , PhD, QA,\"\\t\"33519 WINSTON WAY, UNIT A, TEMECULA ,CA 92592\"\\n410\\t\"Col. Mrs. Rachel Brown , PhD, IQCP,\"\\t\"17 DOMINGUEZ ST, ALISO VIEJO ,CA 92656\"\\n411\\t\"MS. Lucy Brown , PhD, CLIA,\"\\t\"1046 LONGFELLOW CT, RIVERSIDE ,CA 92505\"\\n412\\t\"Dean . Ryan Brown , PhD, QC,\"\\t\"845 HELIX ST, PALM COAST ,FL 32164\"\\n413\\t\"Dean. Asher Brown , Sr, QA,\"\\t\"8207 MISTY LANDING CT, HUMBLE ,TX 77396\"\\n414\\t\"Col. Shawn Brown , Sr, IQCP,\"\\t\"238 CAMINITO BAYA, FERRIS ,TX 78823\"\\n415\\t\"Dean. Lila Brown , Sr, CLIA,\"\\t\"5229 CLEON AVE, APT A, NORTH HOLLYWOOD ,CA 91601\"\\n416\\t\"Dr. Lila Rose Brown , PhD, QC,\"\\t\"5144 WORMWOOD RD, JACKSONVILLE ,FL 32210\"\\n417\\t\"Mr. Zane Brown , PhD, QA,\"\\t\"647 E JENNER ST, LANCASTER ,CA 93535\"\\n418\\t\"Mrs. Kaylee Brown , PhD, IQCP,\"\\t\"19054 PARTHENIA ST, APT 5, NORTHRIDGE ,CA 91324\"\\n419\\t\"Ms. Laron Brown , Jr, CLIA,\"\\t\"15400 CAPE CÉRNING, CORONA ,CA 92882\"\\n420\\t\"Mr. Howell Brown III , Sr, QC,\"\\t\"1434 WOODED ACRES DR, OCALA ,FL 34480\"\\n421\\t\"Mr. Eli Browning , Sr, QA,\"\\t\"15123 BROOKHURST ST, APT 16, ANAHEIM ,CA 92801\"\\n422\\t\"Col. Michael Bruhn , Jr, IQCP,\"\\t\"7008 HILLVIEW DR, HESPERIA ,CA 92345\"\\n423\\t\"Mr. Jayson Bruining , Jr, CLIA,\"\\t\"5720 FOREST PARK RD, APT 2406, DALLAS ,TX 75235\"\\n424\\t\"Mr. Jayson Bruining , Jr, QC,\"\\t\"1121 CROMWELL DR, TAMARAC ,FL 33319\"\\n425\\t\"Mr. Nathaniel Bruining , Jr, QA,\"\\t\"354 MUSTANG RD, WAXAHACHIE ,TX 75235\"\\n426\\t\"Mrs. Lauren Brown , PhD, IQCP,\"\\t\"3107 E DOUGLAS AVE, VISAL']\n"
          ]
        }
      ]
    },
    {
      "cell_type": "code",
      "source": [
        "import csv\n",
        "\n",
        "with open('single_text.txt', 'w') as f:\n",
        "\t# using csv.writer method from CSV package\n",
        "\twrite = csv.writer(f)\n",
        "\twrite.writerow(single_text)\n",
        " \n"
      ],
      "metadata": {
        "id": "4XFEu6MVllUN"
      },
      "execution_count": null,
      "outputs": []
    },
    {
      "cell_type": "code",
      "source": [],
      "metadata": {
        "id": "hvzRQOYcl61n"
      },
      "execution_count": null,
      "outputs": []
    },
    {
      "cell_type": "code",
      "source": [],
      "metadata": {
        "id": "9rY5c3XFlUXE"
      },
      "execution_count": null,
      "outputs": []
    },
    {
      "cell_type": "code",
      "source": [
        "import csv\n",
        "\n",
        "# Open a CSV file for writing and write the text to it\n",
        "with open('data.csv', 'w', newline='') as file:\n",
        "    writer = csv.writer(file)\n",
        "    writer.writerow(single_text)\n",
        "\n",
        "print(\"Data exported to data.csv successfully!\")\n"
      ],
      "metadata": {
        "colab": {
          "base_uri": "https://localhost:8080/"
        },
        "id": "_NkOGmYHTmh_",
        "outputId": "dcef5d76-bab9-4163-b9e0-6b01355dcc53"
      },
      "execution_count": null,
      "outputs": [
        {
          "output_type": "stream",
          "name": "stdout",
          "text": [
            "Data exported to data.csv successfully!\n"
          ]
        }
      ]
    },
    {
      "cell_type": "code",
      "source": [],
      "metadata": {
        "id": "p9kiIUYDUpQz"
      },
      "execution_count": null,
      "outputs": []
    },
    {
      "cell_type": "code",
      "source": [],
      "metadata": {
        "id": "H7hja5dSUEHu"
      },
      "execution_count": null,
      "outputs": []
    },
    {
      "cell_type": "code",
      "source": [
        "import csv \n",
        "\n",
        "with open('data.csv', 'w') as file:\n",
        "    writer = csv.writer(file)\n",
        "    writer.writerow(single_text)\n",
        "\n",
        "print(\"Data exported to data.csv successfully!\")\n",
        "\n"
      ],
      "metadata": {
        "colab": {
          "base_uri": "https://localhost:8080/"
        },
        "id": "i-tAvP1mOauh",
        "outputId": "018e4d4b-99c0-485c-faac-35ca94730784"
      },
      "execution_count": null,
      "outputs": [
        {
          "output_type": "stream",
          "name": "stdout",
          "text": [
            "Data exported to data.csv successfully!\n"
          ]
        }
      ]
    },
    {
      "cell_type": "code",
      "source": [
        "gpt2.generate(sess, run_name='run1')[0]"
      ],
      "metadata": {
        "colab": {
          "base_uri": "https://localhost:8080/",
          "height": 722
        },
        "id": "f0r5KF3YWm8Z",
        "outputId": "5ee676e6-3258-4b1c-a4db-0070076c14e8"
      },
      "execution_count": null,
      "outputs": [
        {
          "output_type": "stream",
          "name": "stdout",
          "text": [
            "AROUND AUGUSTINE ,FL 32084\"\n",
            "227\t\"Dean. Julia Bigby , Jr, CLIA,\"\t\"6676 COLGATE AVE, LOS ANGELES ,CA 90048\"\n",
            "228\t\"Dean. Anna Biggs , Jr, QC,\"\t\"64 RANCHO DR, APT 91, OCEANSIDE ,CA 92054\"\n",
            "229\t\"Dr. Holly Biggs , Jr, QA,\"\t\"3010 REYNA ST, CORPUS CHRISTI ,TX 78405\"\n",
            "230\t\"Mr. Tyler Biggs , Jr, IQCP,\"\t\"6676 REYNA ST, APT 5, BLOOMINGTON ,CA 92316\"\n",
            "231\t\"Mrs. Ryan Biggs , Jr, CLIA,\"\t\"1800 S BROADWAY , APT 210, FREMONT ,CA 94538\"\n",
            "232\t\"Ms. Jayson Bigelow , Jr, QC,\"\t\"861 NW 33RD ST, APT 8, MIAMI ,FL 33125\"\n",
            "233\t\"Mr. Brandon Bigelow , Jr, QA,\"\t\"1800 S BROADWAY , APT 8, ALHAMBRA ,CA 91801\"\n",
            "234\t\"Mr. Hakeem Baldwin , Sr, IQCP,\"\t\"1773 NW 114TH ST, ALDRO ,CA 91977\"\n",
            "235\t\"Mr. Emily Beazley , Sr, CLIA,\"\t\"12549 CLALLAM RD, APPLE VALLEY ,CA 92104\"\n",
            "236\t\"Ms. Morgan Barnes , Jr, QC,\"\t\"7161 NW 60TH ST, APT 8, MIAMI ,FL 33125\"\n",
            "237\t\"Dean. Destiny Barnes , Jr, QA,\"\t\"4340 NW 168TH ST, MIAMI ,FL 33143\"\n",
            "238\t\"Dr. Kierstyn Brunell , Sr, IQCP,\"\t\"55 Northside St, APT\n",
            "239\t\"Mr. Brody Brunson , Sr, CLIA,\"\t\"2841 HART DR, COMPTON ,TX 77563\"\n",
            "240\t\"Mr. Big Boy , Jr, QC,\"\t\"3680 KEYSTONE AVE, LOS ANGELES ,CA 90034\"\n",
            "241\t\"Mr. Big Boy , Jr, QA,\"\t\"6550 SE 42ND CT, \"amazing\"\n",
            "242\t\"Mr. Big Boy , Jr, CLIA,\"\t\"323 N 23RD ST, MCALLEN ,TX 78504\"\n",
            "243\t\"Dean. Ben Brannan , Jr, QC,\"\t\"1063 MANIGAN AVE, SOUTH GATE ,CA 90280\"\n",
            "244\t\"Dr. Wade Brumfield , Jr, QA,\"\t\"4095 LAGO DEL MAR DR, APT 81, BOCA RATON ,FL 33433\"\n",
            "245\t\"Col. Kaylee Braley , Sr, IQCP,\"\t\"1119 E EL CAMINO REAL , # 324, SUNNYVALE ,CA 94087\"\n",
            "246\t\"MS. Nolan Brankle , Sr, CLIA,\"\t\"4467 PHILADELPHIA CIR, KISSIMMEE ,FL 34746\"\n",
            "247\t\"Ms. Jace Brankle , Jr, QC,\"\t\"5229 TURTLE BAY PL, FONTANA ,CA 92336\"\n",
            "248\t\"Ms. Ashley Brankle , Jr, QA,\"\t\"1773 NW 114TH ST, MIAMI ,FL 33135\"\n",
            "249\t\"Mr. Mark Brankle , Jr, IQCP,\"\t\"4945 CROWNIE CT, FORT SMITH ,AR 72736\"\n",
            "250\t\"Mr. Janessa Brankle , Jr, CLIA,\"\t\"1345 HELIX ST, WINTER PARK ,FL 32792\"\n",
            "251\t\"Dean. Taylor Brant , Jr, QC,\"\t\"4214 WILD PINE DR, FERNDALE ,CA 95536\"\n",
            "252\t\"Dr. Maddie Brant , Jr, QA,\"\t\"725 SUNDANCE ST, SAN DIEGO ,CA 92115\"\n",
            "253\t\"Mr. Zack Brant , Jr, IQCP,\"\t\"25781 STEPHENS ST, ESPARTO ,CA 95627\"\n",
            "254\t\"Mr. Ashley Brantwein , Sr, CLIA,\"\t\"1835 BRISTOL BAY LN N, JACKSONVILLE ,FL 32244\"\n",
            "255\t\"Mr. Matthew Brant , Sr, QC,\"\t\"2510 NE 179TH TER, NORTH RICHLAND HILLS ,TX 76180\"\n",
            "256\t\"Mr. Tristan Bridges , Sr, QA,\"\t\"73\n"
          ]
        },
        {
          "output_type": "error",
          "ename": "TypeError",
          "evalue": "ignored",
          "traceback": [
            "\u001b[0;31m---------------------------------------------------------------------------\u001b[0m",
            "\u001b[0;31mTypeError\u001b[0m                                 Traceback (most recent call last)",
            "\u001b[0;32m<ipython-input-26-b6898c479d3d>\u001b[0m in \u001b[0;36m<module>\u001b[0;34m\u001b[0m\n\u001b[0;32m----> 1\u001b[0;31m \u001b[0mvariable\u001b[0m \u001b[0;34m=\u001b[0m \u001b[0mgpt2\u001b[0m\u001b[0;34m.\u001b[0m\u001b[0mgenerate\u001b[0m\u001b[0;34m(\u001b[0m\u001b[0msess\u001b[0m\u001b[0;34m,\u001b[0m \u001b[0mrun_name\u001b[0m\u001b[0;34m=\u001b[0m\u001b[0;34m'run1'\u001b[0m\u001b[0;34m)\u001b[0m\u001b[0;34m[\u001b[0m\u001b[0;36m0\u001b[0m\u001b[0;34m]\u001b[0m\u001b[0;34m\u001b[0m\u001b[0;34m\u001b[0m\u001b[0m\n\u001b[0m",
            "\u001b[0;31mTypeError\u001b[0m: 'NoneType' object is not subscriptable"
          ]
        }
      ]
    },
    {
      "cell_type": "code",
      "source": [
        "print(variable)"
      ],
      "metadata": {
        "colab": {
          "base_uri": "https://localhost:8080/"
        },
        "id": "BOGLWgxOLfyL",
        "outputId": "c7760e12-2944-4a5c-e7e7-6d473ec3e5c7"
      },
      "execution_count": null,
      "outputs": [
        {
          "output_type": "stream",
          "name": "stdout",
          "text": [
            "None\n"
          ]
        }
      ]
    },
    {
      "cell_type": "code",
      "source": [],
      "metadata": {
        "id": "4rWzJtdtLOdU"
      },
      "execution_count": null,
      "outputs": []
    },
    {
      "cell_type": "code",
      "source": [
        "gpt2.generate(sess,\n",
        "              length=250,\n",
        "              temperature=0.7,\n",
        "              prefix=\"Taj Mahal\",\n",
        "              nsamples=5,\n",
        "              batch_size=5\n",
        "              )"
      ],
      "metadata": {
        "colab": {
          "base_uri": "https://localhost:8080/"
        },
        "id": "30pyPyhDW0oe",
        "outputId": "68156047-7cc1-4078-fd45-112aa0cc9dc8"
      },
      "execution_count": null,
      "outputs": [
        {
          "output_type": "stream",
          "name": "stdout",
          "text": [
            "Taj Mahal , Sr, QA,\"\t\"6611 SE DOVE ST, HOBE SOUND ,FL 33455\"\n",
            "389\t\"Ms. Makala Bishop , Sr, IQCP,\"\t\"941 BREDENBERG LN, TURLOCK ,CA 95380\"\n",
            "390\t\"Ms. Ren√É¬©e Brandon , Sr, CLIA,\"\t\"8867 CHIDESTER CIR, LA QUINTA ,CA 92253\"\n",
            "391\t\"Ms. Ryker Brandt , Sr, QC,\"\t\"7620 NELVES ST, APT 4, CHULA VISTA ,CA 91910\"\n",
            "392\t\"Ms. Addyson Brankle , Jr, QA,\"\t\"10217 WOODWIND CT, THOUSAND OAKS ,CA 91362\"\n",
            "393\t\"Mr. Addison Brankle , Jr, IQCP,\"\t\"8931 AGLIANA CIR, BOYNTON BEACH ,FL 33437\"\n",
            "394\t\"Mr. Adam Brankle , Jr, CLIA,\"\t\"8308 GLENDON WAY, SACRAMENTO ,CA\n",
            "====================\n",
            "Taj Mahal , Sr, QA,\"\t\"827 N FIG ST, APT A9, ESCONDIDO ,CA 92026\"\n",
            "215\t\"Dean. Adlee Barajas , Jr, IQCP,\"\t\"5229 CLEON AVE, APT A, NORTH HOLLYWOOD ,CA 91601\"\n",
            "216\t\"Dr. Mackenzie Barba , Sr, CLIA,\"\t\"9450 MAGNOLIA SPRINGS RD, PENSACOLA ,FL 32526\"\n",
            "217\t\"Mr. Carson Boyle , Sr, QC\"\t\"1770 SHERRY LN, APT 91, SANTA ANA ,CA 92705\"\n",
            "218\t\"Mr. Owen Boyle , Sr, QA,\"\t\"8912 HEIL AVE, APT 7, WESTMINSTER ,CA 92683\"\n",
            "219\t\"Mr. Tori Boynton , Jr, IQCP,\"\t\"1645 HELIX ST, SPRING VALLEY ,CA 91977\"\n",
            "220\t\"Dean. Ryan Boysen , Jr, CLIA,\"\t\"PO BOX 1465, LEBEC ,CA 93243\"\n",
            "221\t\"Dr\n",
            "====================\n",
            "Taj Mahal , Sr, QA,\"\t\"PO BOX 243, TWENTYNINE PALMS ,CA 92224\"\n",
            "338\t\"Dean. Aziz Almi , Sr, IQCP,\"\t\"5002 SHADOWOOD TRL,WEST PALM BEACH ,FL 33415\"\n",
            "339\t\"Dr. Ayman Alonzo , Sr, CLIA,\"\t\"2046 JEWELL LEE LN, DEER PARK ,FL 33411\"\n",
            "340\t\"Mr. Isaac Alvarez , Sr, QC,\"\t\"16100 BROOKDALE DR, GUERNEVILLE ,CA 95446\"\n",
            "341\t\"Ms. Elizabeth Alvarez , Jr, QA,\"\t\"5144 LURGAN RD, LAND O LAKES ,FL 34638\"\n",
            "342\t\"Ms. Liam Alvarez , Jr, IQCP,\"\t\"861 NW 33RD AVE, FT LAUDERDALE ,FL 33311\"\n",
            "343\t\"Ms. Brittany Amstutz , Jr, CLIA,\"\t\"6256 GLENVIEW DR, APT 157, NORTH RICHLAND HILLS ,TX 76180\"\n",
            "344\t\"Ms. Samantha\n",
            "====================\n",
            "Taj Mahal - 3200 S FAIRFAX AVE, APT 106, STOCKTON ,CA 95207\"\n",
            "228\t\"Col. Makayla Mccormick , Jr, CLIA,\"\t\"8912 HEIL AVE, APT 6, WILLS POINT ,CA 92657\"\n",
            "229\t\"Dean . Lila Brown , Jr, QC,\"\t\"6676 COTTONWOOD ST, WINCHESTER ,CA 92596\"\n",
            "230\t\"Dean. Maddie Brown , PhD, QA,\"\t\"1711 CHINABERRY DR, DIAMOND BAR ,CA 91765\"\n",
            "231\t\"Dr. Trenton Brown , PhD, IQCP,\"\t\"1645 HELIX ST, SPRING VALLEY ,CA 91977\"\n",
            "232\t\"Col. Collin Brown , PhD, CLIA,\"\t\"55751 HERCIA ST, TRACY ,CA 95376\"\n",
            "233\t\"MS. Conner Brown , PhD, QC,\"\t\"8531 E EL CAMINO REAL , # 324, SUNNYVALE ,CA 80111\"\n",
            "234\t\"Dean . Taylor Brown , PhD, QA,\"\t\n",
            "====================\n",
            "Taj Mahal , Sr, QC,\"\t\"2838 1/2 MCGEE AVE, # C, LOS ANGELES ,CA 90019\"\n",
            "110\t\"MS. Jayson Bruining , Jr, QA,\"\t\"6815 LUDERS AVE, GARDEN GROVE ,CA 92843\"\n",
            "111\t\"Dean. Daniel Brunell , Jr, IQCP,\"\t\"203 S ARNAZ DR, APT F5, BOCA RATON ,FL 33433\"\n",
            "112\t\"Dr. Kean Batton , Sr, CLIA,\"\t\"1227 PECAN ST, CLUTE ,TX 77531\"\n",
            "113\t\"Col. Nekie Broussard , Sr, QC,\"\t\"3695 STEVENSON BLVD, APT 307, FREMONT ,CA 94538\"\n",
            "114\t\"MS. Jayson Bruining , Sr, QA,\"\t\"9924 MASTERSON BLVD, APT A9, FREMONT ,CA 94538\"\n",
            "115\t\"Dean . Ryan Broussard , Jr, IQCP,\"\t\"64 RANCHO DR, MERCED\n",
            "====================\n"
          ]
        }
      ]
    },
    {
      "cell_type": "code",
      "source": [],
      "metadata": {
        "id": "vAfyBokrKZTe"
      },
      "execution_count": null,
      "outputs": []
    },
    {
      "cell_type": "markdown",
      "source": [
        "#Text Generation using LSTM"
      ],
      "metadata": {
        "id": "KFFDiWhQvkim"
      }
    },
    {
      "cell_type": "code",
      "source": [
        "f = open('/content/word.txt', 'r')\n",
        "content = f.read()\n"
      ],
      "metadata": {
        "id": "WZLXkbrYvoi3"
      },
      "execution_count": null,
      "outputs": []
    },
    {
      "cell_type": "code",
      "source": [
        "\n",
        "print('Corpus length:', len(text))"
      ],
      "metadata": {
        "id": "RuSRSpMZv2CZ"
      },
      "execution_count": null,
      "outputs": []
    },
    {
      "cell_type": "code",
      "source": [
        "import keras\n",
        "import numpy as np\n",
        "\n",
        "path = keras.utils.get_file(\n",
        "    'nietzsche.txt',\n",
        "    origin='https://s3.amazonaws.com/text-datasets/nietzsche.txt')\n",
        "text = open(path).read().lower()\n",
        "print('Corpus length:', len(text))"
      ],
      "metadata": {
        "id": "VIYGg-LNvmo9"
      },
      "execution_count": null,
      "outputs": []
    },
    {
      "cell_type": "code",
      "source": [
        "import keras\n",
        "import numpy as np\n",
        "\n",
        "f = open('/content/CleanedDatasetEntire1.txt', 'r')\n",
        "text = f.read()\n"
      ],
      "metadata": {
        "id": "TAyidyF9FdVR"
      },
      "execution_count": null,
      "outputs": []
    },
    {
      "cell_type": "code",
      "source": [
        "text"
      ],
      "metadata": {
        "id": "sn8puQUdGVAo"
      },
      "execution_count": null,
      "outputs": []
    },
    {
      "cell_type": "code",
      "source": [
        "# Length of extracted character sequences\n",
        "maxlen = 60\n",
        "\n",
        "# We sample a new sequence every `step` characters\n",
        "step = 3\n",
        "\n",
        "# This holds our extracted sequences\n",
        "sentences = []\n",
        "\n",
        "# This holds the targets (the follow-up characters)\n",
        "next_chars = []\n",
        "\n",
        "for i in range(0, len(text) - maxlen, step):\n",
        "    sentences.append(text[i: i + maxlen])\n",
        "    next_chars.append(text[i + maxlen])\n",
        "print('Number of sequences:', len(sentences))\n",
        "\n",
        "# List of unique characters in the corpus\n",
        "chars = sorted(list(set(text)))\n",
        "print(chars)\n",
        "\n",
        "print('Unique characters:', len(chars))\n",
        "\n",
        "# Dictionary mapping unique characters to their index in `chars`\n",
        "char_indices = dict((char, chars.index(char)) for char in chars)\n",
        "\n",
        "# Next, one-hot encode the characters into binary arrays.\n",
        "print('Vectorization...')\n",
        "x = np.zeros((len(sentences), maxlen, len(chars)), dtype=np.bool)\n",
        "y = np.zeros((len(sentences), len(chars)), dtype=np.bool)\n",
        "for i, sentence in enumerate(sentences):\n",
        "    for t, char in enumerate(sentence):\n",
        "        x[i, t, char_indices[char]] = 1\n",
        "    y[i, char_indices[next_chars[i]]] = 1"
      ],
      "metadata": {
        "id": "PuxLV9I5vkHx"
      },
      "execution_count": null,
      "outputs": []
    },
    {
      "cell_type": "code",
      "source": [
        "from keras import layers\n",
        "import tensorflow as tf\n",
        "\n",
        "model = keras.models.Sequential()\n",
        "model.add(layers.LSTM(128, input_shape=(maxlen, len(chars))))\n",
        "#model.add(tf.keras.layers.Dense(4))\n",
        "model.add(layers.Dense(len(chars), activation='softmax'))\n",
        "\n",
        "#model.add(layers.Dense(len(chars), activation='relu'))\n"
      ],
      "metadata": {
        "id": "bps5cY8Kv34o"
      },
      "execution_count": null,
      "outputs": []
    },
    {
      "cell_type": "code",
      "source": [
        "model.summary()"
      ],
      "metadata": {
        "id": "l-KcC_bGKEet"
      },
      "execution_count": null,
      "outputs": []
    },
    {
      "cell_type": "code",
      "source": [
        "optimizer = keras.optimizers.RMSprop(lr=0.01)\n",
        "model.compile(loss='categorical_crossentropy', optimizer=optimizer)"
      ],
      "metadata": {
        "id": "wTWNuCsDv7Wf"
      },
      "execution_count": null,
      "outputs": []
    },
    {
      "cell_type": "code",
      "source": [
        "def sample(preds, temperature=1.0):\n",
        "    preds = np.asarray(preds).astype('float64')\n",
        "    preds = np.log(preds) / temperature\n",
        "    exp_preds = np.exp(preds)\n",
        "    preds = exp_preds / np.sum(exp_preds)\n",
        "    probas = np.random.multinomial(1, preds, 1)\n",
        "    return np.argmax(probas)"
      ],
      "metadata": {
        "id": "cc0xHKDqv8yr"
      },
      "execution_count": null,
      "outputs": []
    },
    {
      "cell_type": "code",
      "source": [
        "import random\n",
        "import sys\n",
        "\n",
        "for epoch in range(1, 60):\n",
        "    print('epoch', epoch)\n",
        "    \n",
        "    # Fit the model for 1 epoch on the available training data\n",
        "    model.fit(x, y,\n",
        "              batch_size=128,\n",
        "              epochs=1)\n",
        "\n",
        "    # Select a text seed at random\n",
        "    start_index = random.randint(0, len(text) - maxlen - 1)\n",
        "    generated_text = text[start_index: start_index + maxlen]\n",
        "    print('--- Generating with seed: \"' + generated_text + '\"')\n",
        "\n",
        "    for temperature in [0.2, 0.5, 1.0, 1.2]:\n",
        "    #for temperature in [1.2, 1.5, 2.0, 2.2]:\n",
        "        print('------ temperature:', temperature)\n",
        "        sys.stdout.write(generated_text)\n",
        "\n",
        "        # We generate 400 characters\n",
        "        for i in range(400):\n",
        "            sampled = np.zeros((1, maxlen, len(chars)))\n",
        "            for t, char in enumerate(generated_text):\n",
        "                sampled[0, t, char_indices[char]] = 1.\n",
        "\n",
        "            preds = model.predict(sampled, verbose=0)[0]\n",
        "            next_index = sample(preds, temperature)\n",
        "            next_char = chars[next_index]\n",
        "\n",
        "            generated_text += next_char\n",
        "            generated_text = generated_text[1:]\n",
        "\n",
        "            sys.stdout.write(next_char)\n",
        "            sys.stdout.flush()\n",
        "        print()"
      ],
      "metadata": {
        "id": "AARJ9PRTv-66"
      },
      "execution_count": null,
      "outputs": []
    },
    {
      "cell_type": "code",
      "source": [],
      "metadata": {
        "id": "bvFtnZO6UeZa"
      },
      "execution_count": null,
      "outputs": []
    },
    {
      "cell_type": "code",
      "source": [
        "from nltk.translate.bleu_score import sentence_bleu\n",
        "from nltk import word_tokenize\n",
        "\n",
        "def calculate_bleu(candidate, reference):\n",
        "    '''\n",
        "    candidate, reference: generated and ground-truth sentences\n",
        "    '''\n",
        "    reference = word_tokenize(reference)\n",
        "    candidate = word_tokenize(candidate)\n",
        "    score = sentence_bleu(reference, candidate)\n",
        "    return score"
      ],
      "metadata": {
        "id": "-8rbefweAwCA"
      },
      "execution_count": null,
      "outputs": []
    },
    {
      "cell_type": "code",
      "source": [],
      "metadata": {
        "id": "88DjDgKHVX0I"
      },
      "execution_count": null,
      "outputs": []
    },
    {
      "cell_type": "code",
      "source": [
        "def measure_novelty(text):\n",
        "    # split the text into words\n",
        "    words = text.split()\n",
        "\n",
        "    # get the number of unique words\n",
        "    num_unique_words = len(set(words))\n",
        "\n",
        "    # return the number of unique words as a measure of novelty\n",
        "    return num_unique_words\n",
        "\n",
        "# example text\n",
        "text = \"Let me not to the marriage of true minds Let me not to the marriage of true minds Admit impediments; love is not love Which alters when it alteration finds\"\n",
        "\n",
        "# measure the novelty of the text\n",
        "novelty = measure_novelty(text)\n",
        "\n",
        "# print the novelty score\n",
        "print(\"Novelty:\", novelty)"
      ],
      "metadata": {
        "id": "FFpHK0PvAwEm"
      },
      "execution_count": null,
      "outputs": []
    },
    {
      "cell_type": "code",
      "source": [
        "!pip install math"
      ],
      "metadata": {
        "id": "gZXhP3quBlYR"
      },
      "execution_count": null,
      "outputs": []
    },
    {
      "cell_type": "code",
      "source": [
        "import math\n",
        "\n",
        "def measure_novelty(text, model):\n",
        "    # get the probability of the text under the model's distribution\n",
        "    p = model.probability(text)\n",
        "\n",
        "    # compute the novelty score using the f(text) = -log p(text) function\n",
        "    score = -math.log(p)\n",
        "\n",
        "    # return the novelty score\n",
        "    return score\n",
        "\n",
        "# example text and model\n",
        "text = \"This is an example of some text that we want to measure for novelty\"\n",
        "model = ...\n",
        "\n",
        "# measure the novelty of the text\n",
        "novelty = measure_novelty(text, model)\n",
        "\n",
        "# print the novelty score\n",
        "print(\"Novelty:\", novelty)"
      ],
      "metadata": {
        "id": "xMrZBtS_Bj39"
      },
      "execution_count": null,
      "outputs": []
    },
    {
      "cell_type": "code",
      "source": [],
      "metadata": {
        "id": "R-RLD5wCDDHS"
      },
      "execution_count": null,
      "outputs": []
    },
    {
      "cell_type": "code",
      "source": [
        "# import the necessary library\n",
        "import numpy as np\n",
        "\n",
        "# define a custom model class\n",
        "class Model:\n",
        "    def __init__(self):\n",
        "        # initialize any necessary model parameters here\n",
        "        pass\n",
        "\n",
        "    def probability(self, word, prev_word):\n",
        "        # compute and return the probability of the given word given the previous word\n",
        "        pass\n",
        "\n",
        "def compute_probability(text, model):\n",
        "    # split the text into words\n",
        "    words = text.split()\n",
        "\n",
        "    # initialize the probability to 1\n",
        "    p = 1\n",
        "\n",
        "    # loop over the words in the text\n",
        "    for i in range(len(words)):\n",
        "        # get the current word and the previous word\n",
        "        word = words[i]\n",
        "        prev_word = words[i-1] if i > 0 else None\n",
        "\n",
        "        # compute the probability of the current word given the previous word\n",
        "        word_prob = model.probability(word, prev_word)\n",
        "\n",
        "        # multiply the probability by the probability of the current word\n",
        "        p *= word_prob\n",
        "\n",
        "    # return the probability of the text\n",
        "    return p\n",
        "\n",
        "# create an instance of the custom model class\n",
        "model = Model()\n",
        "\n",
        "# example text\n",
        "text = \"This is an example of some text that we want to compute the probability of\"\n",
        "\n",
        "# compute the probability of the text under the model's distribution\n",
        "p = compute_probability(text, model)\n",
        "\n",
        "# print the probability\n",
        "print(\"Probability:\", p)\n"
      ],
      "metadata": {
        "id": "8-i0PlGMDDJ0"
      },
      "execution_count": null,
      "outputs": []
    },
    {
      "cell_type": "code",
      "source": [
        "def compute_probability(text, model):\n",
        "    # split the text into words\n",
        "    words = text.split()\n",
        "\n",
        "    # initialize the probability to 1\n",
        "    p = 1\n",
        "\n",
        "    # loop over the words in the text\n",
        "    for i in range(len(words)):\n",
        "        # get the current word and the previous word\n",
        "        word = words[i]\n",
        "        prev_word = words[i-1] if i > 0 else None\n",
        "\n",
        "        # compute the probability of the current word given the previous word\n",
        "        word_prob = model.probability(word, prev_word)\n",
        "\n",
        "        # check if the probability is None\n",
        "        if word_prob is None:\n",
        "            # if the probability is None, return 0\n",
        "            return 0\n",
        "\n",
        "        # multiply the probability by the probability of the current word\n",
        "        p *= word_prob\n",
        "\n",
        "    # return the probability of the text\n",
        "    return p\n"
      ],
      "metadata": {
        "id": "EEfSBzFoAxDm"
      },
      "execution_count": null,
      "outputs": []
    },
    {
      "cell_type": "code",
      "source": [
        "def compute_probability(text, model):\n",
        "    # split the text into words\n",
        "    words = text.split()\n",
        "\n",
        "    # print the words\n",
        "    print(\"Words:\", words)\n",
        "\n",
        "    # initialize the probability to 1\n",
        "    p = 1\n",
        "\n",
        "    # loop over the words in the text\n",
        "    for i in range(len(words)):\n",
        "        # get the current word and the previous word\n",
        "        word = words[i]\n",
        "        prev_word = words[i-1] if i > 0 else None\n",
        "\n",
        "        # compute the probability of the current word given the previous word\n",
        "        word_prob = model.probability(word, prev_word)\n",
        "\n",
        "        # print the current word and its probability\n",
        "        print(\"Word:\", word)\n",
        "        print(\"Probability:\", word_prob)\n",
        "\n",
        "        # check if the probability is None\n",
        "        if word_prob is None:\n",
        "            # if the probability is None, return 0\n",
        "            return 0\n",
        "\n",
        "        # multiply the probability by the probability of the current word\n",
        "        p *= word_prob\n",
        "\n",
        "    # return the probability of the text\n",
        "    return p\n"
      ],
      "metadata": {
        "id": "nxUZwZijFxyr"
      },
      "execution_count": null,
      "outputs": []
    },
    {
      "cell_type": "code",
      "source": [
        "import torch\n",
        "import transformers as tfm\n",
        "\n",
        "def detect_novelty(text, model):\n",
        "    # split the text into words\n",
        "    words = text.split()\n",
        "\n",
        "    # initialize the novelty score to 0\n",
        "    novelty_score = 0\n",
        "\n",
        "    # loop over the words in the text\n",
        "    for i in range(len(words)):\n",
        "        # get the current word and the previous word\n",
        "        word = words[i]\n",
        "        prev_word = words[i-1] if i > 0 else None\n",
        "\n",
        "        # compute the probability of the current word given the previous word\n",
        "        # using the transformer model\n",
        "        word_tokens = model.tokenizer.encode(word, prev_word)\n",
        "        word_prob = model.model(torch.tensor([word_tokens]))[0][-1][-1]\n",
        "\n",
        "        # add the log probability of the current word to the novelty score\n",
        "        novelty_score += np.log(word_prob)\n",
        "\n",
        "    # return the novelty score\n",
        "    return novelty_score\n",
        "\n",
        "# example text and transformer model\n",
        "text = \"This is an example of some text that we want to compute the novelty score of\"\n",
        "model = tfm.BertModel.from_pretrained('bert-base-uncased')\n",
        "\n",
        "# compute the novelty score of the text\n",
        "novelty_score = detect_novelty(text, model)\n",
        "\n",
        "# print the novelty score\n",
        "print(\"Novelty score:\", novelty_score)\n"
      ],
      "metadata": {
        "id": "2Oz_eBguFzbA"
      },
      "execution_count": null,
      "outputs": []
    },
    {
      "cell_type": "code",
      "source": [
        "import nltk\n",
        "nltk.download('punkt')\n",
        "\n",
        "def score_novelty(paragraph, text):\n",
        "  # Tokenize the paragraph and text using NLTK\n",
        "  tokens = nltk.word_tokenize(paragraph)\n",
        "  text_tokens = nltk.word_tokenize(text)\n",
        "\n",
        "  # Create a set of unique tokens from the paragraph\n",
        "  unique_tokens = set(tokens)\n",
        "\n",
        "  # Count the number of unique tokens in the text\n",
        "  num_unique_tokens = len(set(text_tokens).intersection(unique_tokens))\n",
        "\n",
        "  # Calculate the novelty score by dividing the number of unique tokens in the text by the total number of tokens in the text\n",
        "  novelty_score = num_unique_tokens / len(text_tokens)\n",
        "\n",
        "  return novelty_score\n",
        "\n",
        "# Example usage\n",
        "paragraph = \"Many factories were evacuated, together with much of the government, and from October 20 the city was declared to be in a state of siege. Its remaining inhabitants built and manned antitank defenses, while the city was bombarded from the air. On May 1, 1944, a medal For the defence of Moscow and in 1947 another medal In memory of the 800th anniversary of Moscow was instituted.\"\n",
        "text = \"Many factories were evacuated,\"\n",
        "novelty_score = score_novelty(paragraph, text)\n",
        "print(novelty_score)  # Output: 0.4\n"
      ],
      "metadata": {
        "id": "wT8ot0ksuOZ2"
      },
      "execution_count": null,
      "outputs": []
    },
    {
      "cell_type": "code",
      "source": [],
      "metadata": {
        "id": "fYcdgaEhoQOn"
      },
      "execution_count": null,
      "outputs": []
    },
    {
      "cell_type": "code",
      "source": [
        "import csv\n",
        "import math\n",
        "from collections import Counter\n",
        "\n",
        "def cosine_similarity(text1, text2):\n",
        "    # Convert the texts to a Counter object that stores the frequency of each word\n",
        "    counter1 = Counter(text1)\n",
        "    counter2 = Counter(text2)\n",
        "    \n",
        "    # Find the intersection of the words in both texts\n",
        "    words = set(counter1.keys()).intersection(set(counter2.keys()))\n",
        "    \n",
        "    # Calculate the dot product of the frequency vectors of the common words\n",
        "    dot_product = sum(counter1[word] * counter2[word] for word in words)\n",
        "    \n",
        "    # Calculate the magnitude of each frequency vector\n",
        "    magnitude1 = math.sqrt(sum(counter1[word] ** 2 for word in counter1.keys()))\n",
        "    magnitude2 = math.sqrt(sum(counter2[word] ** 2 for word in counter2.keys()))\n",
        "    \n",
        "    # Calculate and return the cosine similarity score\n",
        "    return dot_product / (magnitude1 * magnitude2)\n",
        "\n",
        "def read_text_from_csv(file_name):\n",
        "    text = []\n",
        "    with open(file_name, \"r\") as file:\n",
        "        reader = csv.reader(file)\n",
        "        for row in reader:\n",
        "            text.extend(row)\n",
        "    return text\n",
        "\n",
        "# Read the text from the CSV files\n",
        "text1 = read_text_from_csv(\"text1.txt\")\n",
        "text2 = read_text_from_csv(\"text3.csv\")\n",
        "print(text1)\n",
        "print(text2)\n",
        "\n",
        "# Calculate the cosine similarity of the two texts\n",
        "similarity = cosine_similarity(text1, text2)\n",
        "\n",
        "print(\"Cosine Similarity:\", similarity)\n"
      ],
      "metadata": {
        "id": "HvZjxBsPoQRM"
      },
      "execution_count": null,
      "outputs": []
    },
    {
      "cell_type": "code",
      "source": [],
      "metadata": {
        "id": "dE8AAOj2pUD8"
      },
      "execution_count": null,
      "outputs": []
    },
    {
      "cell_type": "code",
      "source": [
        "# import required libraries\n",
        "import numpy as np\n",
        "from numpy.linalg import norm\n",
        "\n",
        "# define two lists or array\n",
        "A = np.array([2,1,2,3,2,9])\n",
        "B = np.array([3,4,2,4,5,5])\n",
        "\n",
        "print(\"A:\", A)\n",
        "print(\"B:\", B)\n",
        "\n",
        "# compute cosine similarity\n",
        "cosine = np.dot(A,B)/(norm(A)*norm(B))\n",
        "print(\"Cosine Similarity:\", cosine)\n"
      ],
      "metadata": {
        "id": "M9tbpxhGpPFh"
      },
      "execution_count": null,
      "outputs": []
    },
    {
      "cell_type": "markdown",
      "source": [
        "#Objective: KL Divergence between original and generated texc"
      ],
      "metadata": {
        "id": "RNYMFGtPGeuG"
      }
    },
    {
      "cell_type": "code",
      "source": [],
      "metadata": {
        "colab": {
          "base_uri": "https://localhost:8080/",
          "height": 276
        },
        "id": "nRjgOBv5a5Z4",
        "outputId": "5769215d-bcad-4700-ba4b-51dd979bd814"
      },
      "execution_count": null,
      "outputs": [
        {
          "output_type": "stream",
          "name": "stdout",
          "text": [
            "The given CSV string is\n",
            "Hello,Everyone,Welcome,to,Tutorialspoint\n",
            "Converting the given CSV string into array\n"
          ]
        },
        {
          "output_type": "error",
          "ename": "TypeError",
          "evalue": "ignored",
          "traceback": [
            "\u001b[0;31m---------------------------------------------------------------------------\u001b[0m",
            "\u001b[0;31mTypeError\u001b[0m                                 Traceback (most recent call last)",
            "\u001b[0;32m<ipython-input-62-e92eddb44eb5>\u001b[0m in \u001b[0;36m<module>\u001b[0;34m\u001b[0m\n\u001b[1;32m      5\u001b[0m \u001b[0;34m\u001b[0m\u001b[0m\n\u001b[1;32m      6\u001b[0m \u001b[0mprint\u001b[0m\u001b[0;34m(\u001b[0m\u001b[0;34m\"Converting the given CSV string into array\"\u001b[0m\u001b[0;34m)\u001b[0m\u001b[0;34m\u001b[0m\u001b[0;34m\u001b[0m\u001b[0m\n\u001b[0;32m----> 7\u001b[0;31m \u001b[0mres\u001b[0m \u001b[0;34m=\u001b[0m \u001b[0mlist\u001b[0m\u001b[0;34m(\u001b[0m\u001b[0mmap\u001b[0m\u001b[0;34m(\u001b[0m\u001b[0mstr\u001b[0m\u001b[0;34m.\u001b[0m\u001b[0mstrip\u001b[0m\u001b[0;34m,\u001b[0m \u001b[0mstr1\u001b[0m\u001b[0;34m.\u001b[0m\u001b[0msplit\u001b[0m\u001b[0;34m(\u001b[0m\u001b[0;34m','\u001b[0m\u001b[0;34m)\u001b[0m\u001b[0;34m)\u001b[0m\u001b[0;34m)\u001b[0m\u001b[0;34m\u001b[0m\u001b[0;34m\u001b[0m\u001b[0m\n\u001b[0m\u001b[1;32m      8\u001b[0m \u001b[0mprint\u001b[0m\u001b[0;34m(\u001b[0m\u001b[0mres\u001b[0m\u001b[0;34m)\u001b[0m\u001b[0;34m\u001b[0m\u001b[0;34m\u001b[0m\u001b[0m\n",
            "\u001b[0;31mTypeError\u001b[0m: 'list' object is not callable"
          ]
        }
      ]
    },
    {
      "cell_type": "code",
      "source": [
        "import csv\n",
        "import numpy as np\n",
        "from sklearn.feature_extraction.text import CountVectorizer\n",
        "\n",
        "# Read the data from the CSV file\n",
        "with open('/content/CleanedDatasetEntire1.csv', 'r') as file:\n",
        "    reader = csv.reader(file)\n",
        "    data = [row[0] for row in reader]\n",
        "\n",
        "# Convert the strings into a vector representation\n",
        "vectorizer = CountVectorizer()\n",
        "data_vector1 = vectorizer.fit_transform(data)\n",
        "\n",
        "# Convert the vector representation into a numpy array\n",
        "data_array1 = data_vector1.toarray()\n",
        "shape = data_array1.shape\n",
        "print(\"The data array:\", data_array1)\n",
        "print(shape)"
      ],
      "metadata": {
        "colab": {
          "base_uri": "https://localhost:8080/"
        },
        "id": "3_HydSqwbbDN",
        "outputId": "33fcc46f-a6a9-4c2c-c386-6e7ed0d52dbf"
      },
      "execution_count": null,
      "outputs": [
        {
          "output_type": "stream",
          "name": "stdout",
          "text": [
            "The data array: [[0 0 0 ... 0 0 1]\n",
            " [0 0 0 ... 0 0 0]\n",
            " [0 0 0 ... 0 0 0]\n",
            " ...\n",
            " [0 0 0 ... 0 0 0]\n",
            " [0 0 0 ... 0 0 0]\n",
            " [0 0 0 ... 0 0 0]]\n",
            "(495, 487)\n"
          ]
        }
      ]
    },
    {
      "cell_type": "code",
      "source": [
        "import csv\n",
        "import numpy as np\n",
        "from sklearn.feature_extraction.text import CountVectorizer\n",
        "\n",
        "# Read the data from the CSV file\n",
        "with open('/content/Cleaned_Simple.csv', 'r') as file:\n",
        "    reader = csv.reader(file)\n",
        "    data = [row[0] for row in reader]\n",
        "\n",
        "# Convert the strings into a vector representation\n",
        "vectorizer = CountVectorizer()\n",
        "data_vector = vectorizer.fit_transform(data)\n",
        "# Convert the vector representation into a numpy array\n",
        "data_array2 = data_vector.toarray()\n",
        "shape =data_array2.shape\n",
        "print(\"The data array:\", data_array2)\n",
        "print(shape)"
      ],
      "metadata": {
        "colab": {
          "base_uri": "https://localhost:8080/"
        },
        "id": "cQtKgcyEcrPy",
        "outputId": "cdc04101-ca7a-4b73-d30a-8d5fd167d4f4"
      },
      "execution_count": null,
      "outputs": [
        {
          "output_type": "stream",
          "name": "stdout",
          "text": [
            "The data array: [[0 1]\n",
            " [0 0]\n",
            " [0 0]\n",
            " [0 0]\n",
            " [0 0]\n",
            " [0 0]\n",
            " [0 0]\n",
            " [0 0]\n",
            " [0 0]\n",
            " [1 0]]\n",
            "(10, 2)\n"
          ]
        }
      ]
    },
    {
      "cell_type": "code",
      "source": [],
      "metadata": {
        "id": "QIY03ibkc-9g"
      },
      "execution_count": null,
      "outputs": []
    },
    {
      "cell_type": "code",
      "source": [
        "import pandas as pd\n",
        "import numpy as np\n",
        "from scipy.stats import entropy\n",
        "\n",
        "variable1 = [\"\"]\n",
        "\n",
        "# Load the first CSV file into a Pandas DataFrame\n",
        "df1 = pd.read_csv(\"/content/CleanedDatasetEntire1.csv\")\n",
        "\n",
        "# Load the second CSV file into a Pandas DataFrame\n",
        "df2 = pd.read_csv(\"/content/CleanedDataset50Columns.csv\")\n",
        "\n",
        "\n",
        "shape1 = df1.shape\n",
        "shape2 = df2.shape\n",
        "print(shape1)\n",
        "print(shape2)\n",
        "# Convert the DataFrames into NumPy arrays\n",
        "array1 = np.array(data_array)\n",
        "array2 = np.array(data_array)\n",
        "\n",
        "# Calculate the KL Divergence\n",
        "kl_divergence = entropy(array1, array2)\n",
        "\n",
        "# Print the result\n",
        "print(\"KL Divergence:\", kl_divergence)"
      ],
      "metadata": {
        "colab": {
          "base_uri": "https://localhost:8080/"
        },
        "id": "BAk_MrLAGi9N",
        "outputId": "aee19101-b6ce-46d9-f38a-3618ea3f1f86"
      },
      "execution_count": null,
      "outputs": [
        {
          "output_type": "stream",
          "name": "stdout",
          "text": [
            "(494, 3)\n",
            "(49, 3)\n",
            "KL Divergence: [0. 0. 0. 0. 0. 0. 0. 0. 0. 0. 0. 0. 0. 0. 0. 0. 0. 0. 0. 0. 0. 0. 0. 0.\n",
            " 0. 0. 0. 0. 0. 0. 0. 0. 0. 0. 0. 0. 0. 0. 0. 0. 0. 0. 0. 0. 0. 0. 0. 0.\n",
            " 0. 0. 0. 0. 0. 0. 0. 0. 0. 0. 0. 0. 0. 0. 0. 0. 0. 0. 0. 0. 0. 0. 0. 0.\n",
            " 0. 0. 0. 0. 0. 0. 0. 0. 0. 0. 0. 0. 0. 0. 0. 0. 0. 0. 0. 0. 0. 0. 0. 0.\n",
            " 0. 0. 0. 0. 0. 0. 0. 0. 0. 0. 0. 0. 0. 0. 0. 0. 0. 0. 0. 0. 0. 0. 0. 0.\n",
            " 0. 0. 0. 0. 0. 0. 0. 0. 0. 0. 0. 0. 0. 0. 0. 0. 0. 0. 0. 0. 0. 0. 0. 0.\n",
            " 0. 0. 0. 0. 0. 0. 0. 0. 0. 0. 0. 0. 0. 0. 0. 0. 0. 0. 0. 0. 0. 0. 0. 0.\n",
            " 0. 0. 0. 0. 0. 0. 0. 0. 0. 0. 0. 0. 0. 0. 0. 0. 0. 0. 0. 0. 0. 0. 0. 0.\n",
            " 0. 0. 0. 0. 0. 0. 0. 0. 0. 0. 0. 0. 0. 0. 0. 0. 0. 0. 0. 0. 0. 0. 0. 0.\n",
            " 0. 0. 0. 0. 0. 0. 0. 0. 0. 0. 0. 0. 0. 0. 0. 0. 0. 0. 0. 0. 0. 0. 0. 0.\n",
            " 0. 0. 0. 0. 0. 0. 0. 0. 0. 0. 0. 0. 0. 0. 0. 0. 0. 0. 0. 0. 0. 0. 0. 0.\n",
            " 0. 0. 0. 0. 0. 0. 0. 0. 0. 0. 0. 0. 0. 0. 0. 0. 0. 0. 0. 0. 0. 0. 0. 0.\n",
            " 0. 0. 0. 0. 0. 0. 0. 0. 0. 0. 0. 0. 0. 0. 0. 0. 0. 0. 0. 0. 0. 0. 0. 0.\n",
            " 0. 0. 0. 0. 0. 0. 0. 0. 0. 0. 0. 0. 0. 0. 0. 0. 0. 0. 0. 0. 0. 0. 0. 0.\n",
            " 0. 0. 0. 0. 0. 0. 0. 0. 0. 0. 0. 0. 0. 0. 0. 0. 0. 0. 0. 0. 0. 0. 0. 0.\n",
            " 0. 0. 0. 0. 0. 0. 0. 0. 0. 0. 0. 0. 0. 0. 0. 0. 0. 0. 0. 0. 0. 0. 0. 0.\n",
            " 0. 0. 0. 0. 0. 0. 0. 0. 0. 0. 0. 0. 0. 0. 0. 0. 0. 0. 0. 0. 0. 0. 0. 0.\n",
            " 0. 0. 0. 0. 0. 0. 0. 0. 0. 0. 0. 0. 0. 0. 0. 0. 0. 0. 0. 0. 0. 0. 0. 0.\n",
            " 0. 0. 0. 0. 0. 0. 0. 0. 0. 0. 0. 0. 0. 0. 0. 0. 0. 0. 0. 0. 0. 0. 0. 0.\n",
            " 0. 0. 0. 0. 0. 0. 0. 0. 0. 0. 0. 0. 0. 0. 0. 0. 0. 0. 0. 0. 0. 0. 0. 0.\n",
            " 0. 0. 0. 0. 0. 0. 0.]\n"
          ]
        }
      ]
    },
    {
      "cell_type": "code",
      "source": [
        "import numpy as np\n",
        "\n",
        "# Define the two categorical variables\n",
        "name = [\"Taj Mahal , Sr, QA,\"\t\"827 N FIG ST, APT A9, ESCONDIDO ,CA 92026\"]\n",
        "address = [\"Ms. Allison Beadell , Jr, QC,\"\t\"221 NW NONTYPES ST, SILOAM SPRINGS ,AR 72761\"]\n",
        "\n",
        "# Convert the categorical variables into probability distributions\n",
        "name_probs = np.array([name.count(name[i])/len(name) for i in range(len(name))])\n",
        "address_probs = np.array([address.count(address[i])/len(address) for i in range(len(address))])\n",
        "\n",
        "# Calculate the KL divergence between the two distributions\n",
        "kl_divergence = np.sum(np.where(name_probs != 0, name_probs * np.log(name_probs / address_probs), 0))\n",
        "\n",
        "print(\"The KL divergence between name and address is:\", kl_divergence)\n"
      ],
      "metadata": {
        "colab": {
          "base_uri": "https://localhost:8080/"
        },
        "id": "edfZqyQCYmsg",
        "outputId": "a24f61d5-139b-426b-c51c-39586fff6690"
      },
      "execution_count": 4,
      "outputs": [
        {
          "output_type": "stream",
          "name": "stdout",
          "text": [
            "The KL divergence between name and address is: 0.0\n"
          ]
        }
      ]
    },
    {
      "cell_type": "markdown",
      "source": [],
      "metadata": {
        "id": "eS5Rbpivhzu9"
      }
    },
    {
      "cell_type": "markdown",
      "source": [
        "#Test KL divergence with same files for checking if code works"
      ],
      "metadata": {
        "id": "fjySzohRhzyj"
      }
    },
    {
      "cell_type": "code",
      "source": [
        "import csv\n",
        "import numpy as np\n",
        "from scipy.stats import entropy\n",
        "\n",
        "# Read the data from the first CSV file\n",
        "with open('/content/cleaned_1.csv', 'r') as file1:\n",
        "    reader1 = csv.reader(file1)\n",
        "    data1 = [row[0] for row in reader1]\n",
        "\n",
        "# Read the data from the second CSV file\n",
        "with open('/content/cleaned_1.csv', 'r') as file2:\n",
        "    reader2 = csv.reader(file2)\n",
        "    data2 = [row[0] for row in reader2]\n",
        "\n",
        "# Convert the strings into a vector representation\n",
        "vectorizer = CountVectorizer()\n",
        "data1_vector = vectorizer.fit_transform(data1)\n",
        "data2_vector = vectorizer.transform(data2)\n",
        "\n",
        "# Convert the vector representation into a numpy array\n",
        "data1_array = data1_vector.toarray().sum(axis=0)\n",
        "data2_array = data2_vector.toarray().sum(axis=0)\n",
        "\n",
        "# Normalize the arrays\n",
        "data1_array = data1_array / data1_array.sum()\n",
        "data2_array = data2_array / data2_array.sum()\n",
        "\n",
        "# Add a small constant to all elements\n",
        "data1_array = data1_array + 1e-10\n",
        "data2_array = data2_array + 1e-10\n",
        "\n",
        "# Normalize the arrays again\n",
        "data1_array = data1_array / data1_array.sum()\n",
        "data2_array = data2_array / data2_array.sum()\n",
        "\n",
        "# Calculate the KL divergence between the two arrays\n",
        "kl_divergence = entropy(data1_array, data2_array)\n",
        "\n",
        "print(\"The KL divergence between the two arrays is:\", kl_divergence)\n"
      ],
      "metadata": {
        "colab": {
          "base_uri": "https://localhost:8080/"
        },
        "id": "5U-B2KJWg_2g",
        "outputId": "6ebf5673-1c76-4413-e6e9-9073f464371b"
      },
      "execution_count": 3,
      "outputs": [
        {
          "output_type": "stream",
          "name": "stdout",
          "text": [
            "The KL divergence between the two arrays is: 0.0\n"
          ]
        }
      ]
    },
    {
      "cell_type": "code",
      "source": [],
      "metadata": {
        "id": "Ykrr5VhHjGqq"
      },
      "execution_count": null,
      "outputs": []
    },
    {
      "cell_type": "code",
      "source": [
        "import csv\n",
        "import numpy as np\n",
        "import seaborn as sns\n",
        "from scipy.stats import entropy\n",
        "from sklearn.feature_extraction.text import CountVectorizer\n",
        "import matplotlib.pyplot as plt\n",
        "\n",
        "# Read the data from the first CSV file\n",
        "with open('/content/single_text.txt', 'r') as file1:\n",
        "    reader1 = csv.reader(file1)\n",
        "    data1 = [row[0] for row in reader1]\n",
        "\n",
        "# Read the data from the second CSV file\n",
        "with open('/content/CleanedDatasetEntire1.txt', 'r') as file2:\n",
        "    reader2 = csv.reader(file2)\n",
        "    data2 = [row[0] for row in reader2]\n",
        "\n",
        "# Convert the strings into a vector representation\n",
        "vectorizer = CountVectorizer()\n",
        "data1_vector = vectorizer.fit_transform(data1)\n",
        "data2_vector = vectorizer.transform(data2)\n",
        "\n",
        "# Convert the vector representation into a numpy array\n",
        "data1_array = data1_vector.toarray().sum(axis=0)\n",
        "data2_array = data2_vector.toarray().sum(axis=0)\n",
        "\n",
        "# Normalize the arrays\n",
        "data1_array = data1_array / data1_array.sum()\n",
        "data2_array = data2_array / data2_array.sum()\n",
        "\n",
        "# Add a small constant to all elements\n",
        "data1_array = data1_array + 1e-10\n",
        "data2_array = data2_array + 1e-10\n",
        "\n",
        "# Normalize the arrays again\n",
        "data1_array = data1_array / data1_array.sum()\n",
        "data2_array = data2_array / data2_array.sum()\n",
        "\n",
        "# Calculate the KL divergence between the two arrays\n",
        "kl_divergence = entropy(data1_array, data2_array)\n",
        "\n",
        "print(\"The KL divergence between the two arrays is:\", kl_divergence)\n",
        "\n",
        "# Plot the arrays using seaborn\n",
        "sns.distplot(data1_array, hist=False, label='GPT-2 generated')\n",
        "sns.distplot(data2_array, hist=False, label='US-Census Entire Dataset')\n",
        "plt.xlabel('Value')\n",
        "plt.ylabel('Probability')\n",
        "plt.title('Distributions of Synthetic  dataset and Original Name Address Dataset')\n",
        "plt.legend()\n",
        "plt.show()\n"
      ],
      "metadata": {
        "colab": {
          "base_uri": "https://localhost:8080/",
          "height": 402
        },
        "id": "A445lNutjGw0",
        "outputId": "8e63256a-04cc-4099-d1ea-5ebf72f6bd45"
      },
      "execution_count": 2,
      "outputs": [
        {
          "output_type": "stream",
          "name": "stdout",
          "text": [
            "The KL divergence between the two arrays is: 11.68174779782678\n"
          ]
        },
        {
          "output_type": "stream",
          "name": "stderr",
          "text": [
            "/usr/local/lib/python3.8/dist-packages/seaborn/distributions.py:2619: FutureWarning: `distplot` is a deprecated function and will be removed in a future version. Please adapt your code to use either `displot` (a figure-level function with similar flexibility) or `kdeplot` (an axes-level function for kernel density plots).\n",
            "  warnings.warn(msg, FutureWarning)\n",
            "/usr/local/lib/python3.8/dist-packages/seaborn/distributions.py:2619: FutureWarning: `distplot` is a deprecated function and will be removed in a future version. Please adapt your code to use either `displot` (a figure-level function with similar flexibility) or `kdeplot` (an axes-level function for kernel density plots).\n",
            "  warnings.warn(msg, FutureWarning)\n"
          ]
        },
        {
          "output_type": "display_data",
          "data": {
            "text/plain": [
              "<Figure size 432x288 with 1 Axes>"
            ],
            "image/png": "[encoded data removed]"
          },
          "metadata": {
            "needs_background": "light"
          }
        }
      ]
    },
    {
      "cell_type": "markdown",
      "source": [],
      "metadata": {
        "id": "_7vVUmK-iMfI"
      }
    },
    {
      "cell_type": "markdown",
      "source": [
        "#Find Cosine Similiarty between synthetic dataset and generated dataset"
      ],
      "metadata": {
        "id": "0NA4zoMKiMrF"
      }
    },
    {
      "cell_type": "markdown",
      "source": [
        "Cosine similarity finds similarity between \n",
        "\n",
        "a. Two non-zero vectors of inner product space\n",
        "\n",
        "b. Cosine angle between two vectors \n",
        "\n",
        "c. Cosine similiarity is between -1 and 1 \n",
        "\n",
        "d. Score of -1 represents dissimiliarty \n",
        "\n",
        "\n",
        "e. Closer to 1 means, more similiar are vectors "
      ],
      "metadata": {
        "id": "rWXh0bR3sAUt"
      }
    },
    {
      "cell_type": "code",
      "source": [
        "import math\n",
        "import string\n",
        "from collections import Counter\n",
        "\n",
        "def read_file(file_name):\n",
        "    with open(file_name, 'r') as file:\n",
        "        return file.read()\n",
        "\n",
        "def clean_text(text):\n",
        "    text = text.lower()\n",
        "    text = text.translate(str.maketrans('', '', string.punctuation))\n",
        "    return text\n",
        "\n",
        "def get_cosine_similarity(text1, text2):\n",
        "    text1 = clean_text(text1)\n",
        "    text2 = clean_text(text2)\n",
        "\n",
        "    words1 = text1.split()\n",
        "    words2 = text2.split()\n",
        "\n",
        "    word_counts1 = Counter(words1)\n",
        "    word_counts2 = Counter(words2)\n",
        "\n",
        "    common_words = set(word_counts1.keys()) & set(word_counts2.keys())\n",
        "\n",
        "    dot_product = sum(word_counts1[word] * word_counts2[word] for word in common_words)\n",
        "    magnitude1 = math.sqrt(sum(word_counts1[word] ** 2 for word in word_counts1.keys()))\n",
        "    magnitude2 = math.sqrt(sum(word_counts2[word] ** 2 for word in word_counts2.keys()))\n",
        "\n",
        "    return dot_product / (magnitude1 * magnitude2)\n",
        "\n",
        "text1 = read_file('CleanedDatasetEntire1.txt')\n",
        "text2 = read_file('single_text.txt')\n",
        "\n",
        "cosine_similarity = get_cosine_similarity(text1, text2)\n",
        "\n",
        "print('Cosine Similarity between Synthetic dataset and original dataset:', cosine_similarity)\n"
      ],
      "metadata": {
        "colab": {
          "base_uri": "https://localhost:8080/"
        },
        "id": "jwnYz_D3iUBn",
        "outputId": "9fa0580e-17c7-4f8b-c8db-df14e12ec70b"
      },
      "execution_count": 20,
      "outputs": [
        {
          "output_type": "stream",
          "name": "stdout",
          "text": [
            "Cosine Similarity between Synthetic dataset and original dataset: 0.7858525424598748\n"
          ]
        }
      ]
    },
    {
      "cell_type": "code",
      "source": [
        "import math\n",
        "import string\n",
        "import matplotlib.pyplot as plt\n",
        "import seaborn as sns\n",
        "from collections import Counter\n",
        "\n",
        "def read_file(file_name):\n",
        "    with open(file_name, 'r') as file:\n",
        "        return file.read()\n",
        "\n",
        "def clean_text(text):\n",
        "    text = text.lower()\n",
        "    text = text.translate(str.maketrans('', '', string.punctuation))\n",
        "    return text\n",
        "\n",
        "def get_cosine_similarity(text1, text2):\n",
        "    text1 = clean_text(text1)\n",
        "    text2 = clean_text(text2)\n",
        "\n",
        "    words1 = text1.split()\n",
        "    words2 = text2.split()\n",
        "\n",
        "    word_counts1 = Counter(words1)\n",
        "    word_counts2 = Counter(words2)\n",
        "\n",
        "    common_words = set(word_counts1.keys()) & set(word_counts2.keys())\n",
        "\n",
        "    dot_product = sum(word_counts1[word] * word_counts2[word] for word in common_words)\n",
        "    magnitude1 = math.sqrt(sum(word_counts1[word] ** 2 for word in word_counts1.keys()))\n",
        "    magnitude2 = math.sqrt(sum(word_counts2[word] ** 2 for word in word_counts2.keys()))\n",
        "\n",
        "    return dot_product / (magnitude1 * magnitude2)\n",
        "\n",
        "text1 = read_file('CleanedDatasetEntire1.txt')\n",
        "text2 = read_file('single_text.txt')\n",
        "\n",
        "cosine_similarity = get_cosine_similarity(text1, text2)\n",
        "\n",
        "print('Cosine Similarity:', cosine_similarity)\n",
        "\n",
        "sns.set_style(\"whitegrid\")\n",
        "sns.barplot(x=[\"Cosine Similarity\"], y=[cosine_similarity], color=\"blue\")\n",
        "plt.title(\"Cosine Similarity between CleanedDatasetEntire1.txt and single_text.txt\")\n",
        "plt.xlabel(\"Similarity Metric\")\n",
        "plt.ylabel(\"Similarity Score\")\n",
        "plt.show()\n"
      ],
      "metadata": {
        "id": "UZHt4tj5i3-e"
      },
      "execution_count": null,
      "outputs": []
    },
    {
      "cell_type": "code",
      "source": [
        "import math\n",
        "import string\n",
        "import matplotlib.pyplot as plt\n",
        "import seaborn as sns\n",
        "from collections import Counter\n",
        "\n",
        "def read_file(file_name):\n",
        "    with open(file_name, 'r') as file:\n",
        "        return file.read()\n",
        "\n",
        "def clean_text(text):\n",
        "    text = text.lower()\n",
        "    text = text.translate(str.maketrans('', '', string.punctuation))\n",
        "    return text\n",
        "\n",
        "def get_cosine_similarity(text1, text2):\n",
        "    text1 = clean_text(text1)\n",
        "    text2 = clean_text(text2)\n",
        "\n",
        "    words1 = text1.split()\n",
        "    words2 = text2.split()\n",
        "\n",
        "    word_counts1 = Counter(words1)\n",
        "    word_counts2 = Counter(words2)\n",
        "\n",
        "    common_words = set(word_counts1.keys()) & set(word_counts2.keys())\n",
        "\n",
        "    dot_product = sum(word_counts1[word] * word_counts2[word] for word in common_words)\n",
        "    magnitude1 = math.sqrt(sum(word_counts1[word] ** 2 for word in word_counts1.keys()))\n",
        "    magnitude2 = math.sqrt(sum(word_counts2[word] ** 2 for word in word_counts2.keys()))\n",
        "\n",
        "    return dot_product / (magnitude1 * magnitude2)\n",
        "\n",
        "text1 = read_file('CleanedDatasetEntire1.txt')\n",
        "text2 = read_file('single_text.txt')\n",
        "\n",
        "cosine_similarity = get_cosine_similarity(text1, text2)\n",
        "\n",
        "print('Cosine Similarity:', cosine_similarity)\n",
        "\n",
        "\n",
        "sns.set_style(\"whitegrid\")\n",
        "sns.barplot(x=[\"Cosine Similarity\"], y=[cosine_similarity], color=\"blue\")\n",
        "plt.title(\"Cosine Similarity between CleanedDatasetEntire1.txt and single_text.txt\")\n",
        "plt.xlabel(\"Similarity Metric\")\n",
        "plt.ylabel(\"Similarity Score\")\n",
        "plt.show()\n"
      ],
      "metadata": {
        "colab": {
          "base_uri": "https://localhost:8080/",
          "height": 312
        },
        "id": "D4Q-OnDep9ss",
        "outputId": "4c2b9ecf-136c-4dcc-bc26-74e0d08dcd8e"
      },
      "execution_count": 19,
      "outputs": [
        {
          "output_type": "stream",
          "name": "stdout",
          "text": [
            "Cosine Similarity: 0.7858525424598748\n"
          ]
        },
        {
          "output_type": "display_data",
          "data": {
            "text/plain": [
              "<Figure size 432x288 with 1 Axes>"
            ],
            "image/png": "[encoded data removed]"
          },
          "metadata": {}
        }
      ]
    },
    {
      "cell_type": "code",
      "source": [
        "sns.lineplot(data=flights, x=\"passengers\", y=\"year\", orient=\"y\")"
      ],
      "metadata": {
        "colab": {
          "base_uri": "https://localhost:8080/",
          "height": 166
        },
        "id": "YLM6AvXyqYye",
        "outputId": "20dd00b3-e0dc-4ddd-8033-0f6f45f0fcd5"
      },
      "execution_count": 14,
      "outputs": [
        {
          "output_type": "error",
          "ename": "NameError",
          "evalue": "ignored",
          "traceback": [
            "\u001b[0;31m---------------------------------------------------------------------------\u001b[0m",
            "\u001b[0;31mNameError\u001b[0m                                 Traceback (most recent call last)",
            "\u001b[0;32m<ipython-input-14-715f2fa643d2>\u001b[0m in \u001b[0;36m<module>\u001b[0;34m\u001b[0m\n\u001b[0;32m----> 1\u001b[0;31m \u001b[0msns\u001b[0m\u001b[0;34m.\u001b[0m\u001b[0mlineplot\u001b[0m\u001b[0;34m(\u001b[0m\u001b[0mdata\u001b[0m\u001b[0;34m=\u001b[0m\u001b[0mflights\u001b[0m\u001b[0;34m,\u001b[0m \u001b[0mx\u001b[0m\u001b[0;34m=\u001b[0m\u001b[0;34m\"passengers\"\u001b[0m\u001b[0;34m,\u001b[0m \u001b[0my\u001b[0m\u001b[0;34m=\u001b[0m\u001b[0;34m\"year\"\u001b[0m\u001b[0;34m,\u001b[0m \u001b[0morient\u001b[0m\u001b[0;34m=\u001b[0m\u001b[0;34m\"y\"\u001b[0m\u001b[0;34m)\u001b[0m\u001b[0;34m\u001b[0m\u001b[0;34m\u001b[0m\u001b[0m\n\u001b[0m",
            "\u001b[0;31mNameError\u001b[0m: name 'flights' is not defined"
          ]
        }
      ]
    }
  ]
}