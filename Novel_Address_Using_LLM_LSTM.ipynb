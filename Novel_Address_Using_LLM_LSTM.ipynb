{
  "nbformat": 4,
  "nbformat_minor": 0,
  "metadata": {
    "colab": {
      "provenance": [],
      "authorship_tag": "ABX9TyNDXIdLYmMTkUK9GDAsFsIW",
      "include_colab_link": true
    },
    "kernelspec": {
      "name": "python3",
      "display_name": "Python 3"
    },
    "language_info": {
      "name": "python"
    },
    "accelerator": "GPU",
    "gpuClass": "standard"
  },
  "cells": [
    {
      "cell_type": "markdown",
      "metadata": {
        "id": "view-in-github",
        "colab_type": "text"
      },
      "source": [
        "<a href=\"https://colab.research.google.com/github/ludwigwittgenstein2/Research/blob/master/Novel_Address_Using_LLM_LSTM.ipynb\" target=\"_parent\"><img src=\"https://colab.research.google.com/assets/colab-badge.svg\" alt=\"Open In Colab\"/></a>"
      ]
    },
    {
      "cell_type": "markdown",
      "source": [
        "#Title: Novel Address Generation using LLM and LSTM\n",
        "### by Rick Rejeleene\n",
        "\n",
        "Generative Models, mostly we are using to generate any artifact [text, audio, video]"
      ],
      "metadata": {
        "id": "5TPG8aeqOqgK"
      }
    },
    {
      "cell_type": "markdown",
      "source": [
        "## First we approach using GPT-2 Model - Why?\n",
        "\n",
        "a. GPT-2 is popular model of recent \n",
        "\n",
        "b. We try to use our dataset on GPT-2\n",
        "\n",
        "c. We try to get results\n",
        "\n",
        "\n",
        "\n",
        "###Goal of the Work: \n",
        "\n",
        "a. Apply Language Model \n",
        "\n",
        "b. Apply LSTM or variation of LSTM\n",
        "\n",
        "c. Use Census dataset [Name-Address]\n",
        "\n",
        "d. Compare results \n",
        "\n",
        "e. Write Paper/Results\n"
      ],
      "metadata": {
        "id": "UM-vb7aHVSmr"
      }
    },
    {
      "cell_type": "code",
      "source": [
        "#install dependencies \n"
      ],
      "metadata": {
        "id": "autIgNm6VvZm"
      },
      "execution_count": null,
      "outputs": []
    },
    {
      "cell_type": "code",
      "source": [
        "!pip install -q gpt-2-simple\n",
        "import gpt_2_simple as gpt2\n",
        "from datetime import datetime\n",
        "from google.colab import files"
      ],
      "metadata": {
        "colab": {
          "base_uri": "https://localhost:8080/"
        },
        "id": "uFReNMMTVr-E",
        "outputId": "f8e91f94-1af4-4d2c-c57c-8c221c921752"
      },
      "execution_count": null,
      "outputs": [
        {
          "output_type": "stream",
          "name": "stdout",
          "text": [
            "  Building wheel for gpt-2-simple (setup.py) ... \u001b[?25l\u001b[?25hdone\n"
          ]
        }
      ]
    },
    {
      "cell_type": "code",
      "source": [
        "#Check GPU "
      ],
      "metadata": {
        "id": "dzd5mjNEO0wL"
      },
      "execution_count": null,
      "outputs": []
    },
    {
      "cell_type": "code",
      "source": [
        "!nvidia-smi"
      ],
      "metadata": {
        "colab": {
          "base_uri": "https://localhost:8080/"
        },
        "id": "JPtg57mOWQCZ",
        "outputId": "da1779b1-1b0a-48ae-cd57-fd4a37741394"
      },
      "execution_count": null,
      "outputs": [
        {
          "output_type": "stream",
          "name": "stdout",
          "text": [
            "Tue Nov 22 17:27:59 2022       \n",
            "+-----------------------------------------------------------------------------+\n",
            "| NVIDIA-SMI 460.32.03    Driver Version: 460.32.03    CUDA Version: 11.2     |\n",
            "|-------------------------------+----------------------+----------------------+\n",
            "| GPU  Name        Persistence-M| Bus-Id        Disp.A | Volatile Uncorr. ECC |\n",
            "| Fan  Temp  Perf  Pwr:Usage/Cap|         Memory-Usage | GPU-Util  Compute M. |\n",
            "|                               |                      |               MIG M. |\n",
            "|===============================+======================+======================|\n",
            "|   0  Tesla T4            Off  | 00000000:00:04.0 Off |                    0 |\n",
            "| N/A   38C    P8     9W /  70W |      0MiB / 15109MiB |      0%      Default |\n",
            "|                               |                      |                  N/A |\n",
            "+-------------------------------+----------------------+----------------------+\n",
            "                                                                               \n",
            "+-----------------------------------------------------------------------------+\n",
            "| Processes:                                                                  |\n",
            "|  GPU   GI   CI        PID   Type   Process name                  GPU Memory |\n",
            "|        ID   ID                                                   Usage      |\n",
            "|=============================================================================|\n",
            "|  No running processes found                                                 |\n",
            "+-----------------------------------------------------------------------------+\n"
          ]
        }
      ]
    },
    {
      "cell_type": "code",
      "source": [
        "gpt2.download_gpt2(model_name=\"124M\")"
      ],
      "metadata": {
        "colab": {
          "base_uri": "https://localhost:8080/"
        },
        "id": "ukFHoRLJWSXp",
        "outputId": "52efdcab-6ab0-422b-fbd6-4147f0b82fa6"
      },
      "execution_count": null,
      "outputs": [
        {
          "output_type": "stream",
          "name": "stderr",
          "text": [
            "Fetching checkpoint: 1.05Mit [00:00, 602Mit/s]                                                      \n",
            "Fetching encoder.json: 1.05Mit [00:00, 2.72Mit/s]\n",
            "Fetching hparams.json: 1.05Mit [00:00, 473Mit/s]                                                    \n",
            "Fetching model.ckpt.data-00000-of-00001: 498Mit [00:19, 26.0Mit/s]                                  \n",
            "Fetching model.ckpt.index: 1.05Mit [00:00, 777Mit/s]                                                \n",
            "Fetching model.ckpt.meta: 1.05Mit [00:00, 3.11Mit/s]\n",
            "Fetching vocab.bpe: 1.05Mit [00:00, 3.63Mit/s]\n"
          ]
        }
      ]
    },
    {
      "cell_type": "code",
      "source": [
        "gpt2.mount_gdrive()"
      ],
      "metadata": {
        "colab": {
          "base_uri": "https://localhost:8080/"
        },
        "id": "TK4Vi_24WSdV",
        "outputId": "42afbdd4-8c2d-4cd2-8fef-b0b26642dcaf"
      },
      "execution_count": null,
      "outputs": [
        {
          "output_type": "stream",
          "name": "stdout",
          "text": [
            "Drive already mounted at /content/drive; to attempt to forcibly remount, call drive.mount(\"/content/drive\", force_remount=True).\n"
          ]
        }
      ]
    },
    {
      "cell_type": "code",
      "source": [
        "#upload our own dataset "
      ],
      "metadata": {
        "id": "qSAGpUpEWXFN"
      },
      "execution_count": null,
      "outputs": []
    },
    {
      "cell_type": "code",
      "source": [
        "file_name = 'CleanedDatasetEntire1.txt'"
      ],
      "metadata": {
        "id": "6HyenfPdWUT5"
      },
      "execution_count": null,
      "outputs": []
    },
    {
      "cell_type": "code",
      "source": [
        "gpt2.copy_file_from_gdrive(file_name)"
      ],
      "metadata": {
        "id": "f40hG69fWUYP"
      },
      "execution_count": null,
      "outputs": []
    },
    {
      "cell_type": "code",
      "source": [
        "#Train Model"
      ],
      "metadata": {
        "id": "UHGjgRlpWdit"
      },
      "execution_count": null,
      "outputs": []
    },
    {
      "cell_type": "code",
      "source": [
        "sess = gpt2.start_tf_sess()\n",
        "\n",
        "gpt2.finetune(sess,\n",
        "              dataset=file_name,\n",
        "              model_name='124M',\n",
        "              steps=1000,\n",
        "              restore_from='fresh',\n",
        "              run_name='run1',\n",
        "              print_every=10,\n",
        "              sample_every=200,\n",
        "              save_every=500\n",
        "              )"
      ],
      "metadata": {
        "colab": {
          "base_uri": "https://localhost:8080/"
        },
        "id": "5dsfnNRZWcTV",
        "outputId": "a4c4d602-4caf-46eb-b4f9-b189495efed9"
      },
      "execution_count": null,
      "outputs": [
        {
          "output_type": "stream",
          "name": "stdout",
          "text": [
            "Loading checkpoint models/124M/model.ckpt\n",
            "Loading dataset...\n"
          ]
        },
        {
          "output_type": "stream",
          "name": "stderr",
          "text": [
            "100%|██████████| 1/1 [00:00<00:00, 1167.35it/s]"
          ]
        },
        {
          "output_type": "stream",
          "name": "stdout",
          "text": [
            "dataset has 17233 tokens\n",
            "Training...\n"
          ]
        },
        {
          "output_type": "stream",
          "name": "stderr",
          "text": [
            "\n"
          ]
        },
        {
          "output_type": "stream",
          "name": "stdout",
          "text": [
            "[10 | 26.24] loss=2.29 avg=2.29\n",
            "[20 | 46.97] loss=1.94 avg=2.12\n",
            "[30 | 68.01] loss=1.57 avg=1.93\n",
            "[40 | 89.33] loss=1.44 avg=1.81\n",
            "[50 | 110.97] loss=1.23 avg=1.69\n",
            "[60 | 132.89] loss=1.14 avg=1.60\n",
            "[70 | 155.11] loss=0.92 avg=1.50\n",
            "[80 | 177.43] loss=0.75 avg=1.40\n",
            "[90 | 199.60] loss=0.56 avg=1.30\n",
            "[100 | 221.74] loss=0.39 avg=1.21\n",
            "[110 | 244.05] loss=0.29 avg=1.12\n",
            "[120 | 266.28] loss=0.37 avg=1.05\n",
            "[130 | 288.50] loss=0.16 avg=0.98\n",
            "[140 | 310.84] loss=0.14 avg=0.92\n",
            "[150 | 333.06] loss=0.09 avg=0.86\n",
            "[160 | 355.25] loss=0.07 avg=0.81\n",
            "[170 | 377.45] loss=0.08 avg=0.76\n",
            "[180 | 399.67] loss=0.05 avg=0.72\n",
            "[190 | 421.85] loss=0.07 avg=0.68\n",
            "[200 | 444.06] loss=0.06 avg=0.65\n",
            "======== SAMPLE 1 ========\n",
            " 9, 6963 N EL SAIPA DR, POMONA ,CA 91768\"\n",
            "54\t\"Ms. Jordan Adams , Sr, QC, \"\t\"3824 GRANGER PL, SARASOTA ,FL 33703\"\n",
            "55\t\"Ms. Samuel Adams , Sr, QA, \"\t\"2508 PARADISE CIR, KISSIMMEE ,FL 34741\"\n",
            "56\t\"Ms. Sidney Adams , Sr, IQCP, \"\t\"340 W 70TH ST, HIALEAH ,FL 33012\"\n",
            "57\t\"Ms. Braxton Julian , Sr, CLIA, \"\t\"929 TRAMELLS TRL, DELHI ,CA 93720\"\n",
            "58\t\"Ms. Alexa Julian , Sr, QC, \"\t\"4348 53RD ST, HESPERIA ,CA 92345\"\n",
            "59\t\"Ms. Davide Julian , Jr, QA, \"\t\"2808 COMPTON AVE, SPC F14, SALINAS ,CA 939phal ,CA 9, Assassins ,CA 93661\"\n",
            "60\t\"Ms. Colin Julian , Jr, QA, \"\t\"4106 15TH AVE W, BRADENTON ,FL 34205\"\n",
            "61\t\"Mr. Malini John , Sr, IQCP, \"\t\"368 LAKE ARROW CIR, WINTER PARK ,CA 92563\"\n",
            "62\t\"Dean. Regan John , Sr, CLIA, \"\t\"PO BOX 2606, SAN DIEGO ,CA 92114\"\n",
            "63\t\"Dr. Isaiah John , Jr, QC, \"\t\"1040 CHAPMAN AVE, HUMBLE ,TX 77396\"\n",
            "64\t\"Mr. Regan John , Jr, QA, \"\t\"1560 E SUMPTER TRL, FRESNO ,CA 93125\"\n",
            "65\t\"Mr. Regan John , Jr, QC, \"\t\"1400 COMMANCHE CIR, ATLANTA ,TX 75551\"\n",
            "66\t\"Mr. Regan John , Jr, QA, \"\t\" ringside , carefully chosen locations ,omitted Region 8 A, Education ,TX 75114\"\n",
            "67\t\"Dean. Regan John , Jr, IQCP, \"\t\" 1131 S ARNAZ DR, OCALA ,FL 16078\"\n",
            "68\t\"Dr. Vester Lee West , Sr, CLIA, \"\t\"PO BOX 1480, SHEPPARD AFB ,FL 33354\"\n",
            "69\t\"Col. Leila West , Sr, QC,\"\t\" 2790 E CLARY AVE, FRESNO ,CA 93703\"\n",
            "70\t\"MS. Alexander West , Sr, QA, \"\t\"ROYAL Tejon , Deluth Falls ,FL 34738\"\n",
            "71\t\"Dean . Ryan West , Jr, IQCP,\"\t\"4921 S KIRKWOOD RD, APT 1411, FORT MYERS ,FL 33016\"\n",
            "72\t\"Dean. Mykenzi West , Jr, CLIA, \"\t\"PO BOX 9072, CLERMONT ,FL 34711\"\n",
            "73\t\"Dean. Mykenzi West , Sr, QC, \"\t\" 7074 FOLLETT DR, SANTEE ,CA 92071\"\n",
            "74\t\"Dr. Ryan West , Sr, QA, \"\t\" BLOOMINGTON ,CA 93920\"\n",
            "75\t\"Col. Katelyn Wade , Jr, IQCP, \"\t\" 2712 W SUMMERFIELD CIR, EL CENTRO ,CA 92243\"\n",
            "76\t\"MS. Austin Wade , PhD, CLIA, \"\t\" 2100 W RANDALL W/ ASHLEY , PhD, QA , \"\t\" 24322 GRANGER PL, HUMPHRIES ,CA 91766\"\n",
            "77\t\"Dean . Kean Wade , Jr, QC, \"\t\" 2003 KIETHI ST, BRADENTON ,FL 34205\"\n",
            "78\t\"Dean. Layne Wade , Jr, QA, \"\t\" 37815 E LA PALMA AVE, ANAHEIM ,CA 92709\"\n",
            "79\t\"Dr. Layne Wade , Jr, CLIA, \"\t\" 27456 GROVE MONTEREY, via PACHECO ,CA91848\"\n",
            "80\t\"Dean . Layne Wade , Sr, QC, \"\t\" 37816 SERWEGOVILLE AVE, ESPARTO ,CA 95627\"\n",
            "81\t\"Dr. Layne Wade , Sr, QA, \"\t\" 37816 INTERLUDE LN, OAKLAND ,CA 94603\"\n",
            "82\t\"Mr. Reyna Wade , PhD, \"\t\" 360\n",
            "\n",
            "[210 | 478.85] loss=0.04 avg=0.61\n",
            "[220 | 501.11] loss=0.04 avg=0.58\n",
            "[230 | 523.32] loss=0.04 avg=0.56\n",
            "[240 | 545.49] loss=0.04 avg=0.53\n",
            "[250 | 567.64] loss=0.04 avg=0.51\n",
            "[260 | 589.80] loss=0.04 avg=0.49\n",
            "[270 | 611.98] loss=0.04 avg=0.47\n",
            "[280 | 634.14] loss=0.03 avg=0.45\n",
            "[290 | 656.32] loss=0.04 avg=0.44\n",
            "[300 | 678.49] loss=0.04 avg=0.42\n",
            "[310 | 700.66] loss=0.04 avg=0.41\n",
            "[320 | 722.84] loss=0.04 avg=0.40\n",
            "[330 | 745.03] loss=0.04 avg=0.38\n",
            "[340 | 767.22] loss=0.03 avg=0.37\n",
            "[350 | 789.40] loss=0.04 avg=0.36\n",
            "[360 | 811.61] loss=0.03 avg=0.35\n",
            "[370 | 833.79] loss=0.03 avg=0.34\n",
            "[380 | 855.99] loss=0.03 avg=0.33\n",
            "[390 | 878.22] loss=0.03 avg=0.32\n",
            "[400 | 900.44] loss=0.03 avg=0.31\n",
            "======== SAMPLE 1 ========\n",
            " , CLIA,\"\t\"2356 N MOUNTAINSIDE DR, LOS BANOS ,TX 75019\"\n",
            "9\t\"Ms. Billy Apenowich , Sr, QC,\"\t\"1046 LONGFELLOW CT, SARASOTA ,FL 34243\"\n",
            "10\t\"Ms. Jason Arum , Sr, QA,\"\t\"44 OSH perihela , immaculate white with three syllables of both black and red Liberty Bells. Applicants will be asked to provide their last known address. ACS, 302 SEQUOIA BLVD, TRACY ,CA 95376\"\n",
            "11\t\"Ms. Lucy Arango , PhD, IQCP,\"\t\"5890 TOKAY CIR, FONTANA ,CA 92337\"\n",
            "12\t\"Mr. Shingo Aruna , PhD, CLIA,\"\t\"4731 GRISWOLD WAY, RIVERSIDE ,CA 92503\"\n",
            "13\t\"Mrs. B ,QA,\"\t\"22 reviews\"DSU, 53200 MANIGAN AVE, APT 81, MIAMI BEACH ,FL 33140\"\n",
            "14\t\"Col. Zaida Arango , PhD, IQCP,\"\t\"3424 GRAND VIEW BLVD, APT 4, NORTHRIDGE ,CA 91324\"\n",
            "15\t\"Dr. Audrey Arrowood , Jr, CLIA,\"\t\"2040 HASTINGS RANCH DR, PASADENA ,CA 91107\"\n",
            "16\t\"Mr. Siri Ahearn , Sr, QC,\"\t\"2369 WHISPERING MAPLE DR, ORLANDO ,FL 32837\"\n",
            "17\t\"Mrs. Laurel Arrowson , PhD, QA,\"\t\"1041 MORRISON ST, SAN ANTONIO ,TX 78251\"\n",
            "18\t\"Ms. Samantha Aquino , Sr, IQCP,\"\t\"7047 LESTER AVE, CLOVIS ,CA 93619\"\n",
            "19\t\"Ms. Will Aquino , Sr, CLIA,\"\t\"8023 FLOWER ST, LAKE ELSINORE ,CA 92530\"\n",
            "20\t\"Ms. Brittany Aquino , Sr, QC,\"\t\"3889 CORNELL, FRESNO ,CA 93720\"\n",
            "21\t\"Ms. Brian Agan , Jr, QA,\"\t\"1358 BRYANT ST, NORTH PORT ,FL 34288\"\n",
            "22\t\"Ms. Janea Aguilera , Jr, CLIA,\"\t\"6403 SEVILLE ST, EL PASO ,TX 79927\"\n",
            "23\t\"Ms. Lucas Ahlbach , Jr, QC,\"\t\"2724 ELK DR, ANAHEIM ,CA 92801\"\n",
            "24\t\"Mr. Sean Aitken , Jr, QA,\"\t\"6325 JAMES PL, POMONA ,CA 91767\"\n",
            "25\t\"Mr. Matthew Appleton , Jr, IQCP,\"\t\"31013 OAKHILL DR, HESPERIA ,CA 92354\"\n",
            "26\t\"Mr. Alianna Abella , Sr, CLIA,\"\t\"808 GULF DR, PANAMA CITY ,FL 32408\"\n",
            "27\t\"Dean. Julieta Abella , Sr, QC,\"\t\"PO BOX 1534, ALACHUA ,FL 32616\"\n",
            "28\t\"Dr. Anthony Ache , Sr, QA,\"\t\"7731 WHITE TAIL LN, VAN NUYS ,CA 91405\"\n",
            "29\t\"Mr. Zachary Austin , Sr, IQCP,\"\t\" 320 GARDEN GROVE BLVD, APT 240, PORT ORANGE ,FL 32127\"\n",
            "30\t\"Ms. Lindsay Austin , Jr, CLIA,\"\t\"7256 YOSHIDA ST, APT 3, SAN CHIPA ,CA 913ins\"\n",
            "31\t\"Ms. Andrew Austin , Jr, QC,\"\t\"2859 BLANCA AVE, APT 209, WESTCHASE ,CA 913Vertical , female, KISSIMMEE ,FL 34741\"\n",
            "32\t\"Ms. Briellynn Austin , Jr, QA,\"\t\"1614 S 6TH ST, MIAMI ,FL 33135\"\n",
            "33\t\"Ms. Walker Austin , Jr, IQCP,\"\t\"7831 MELROSE ST, BUENA PARK ,CA 90621\"\n",
            "34\t\"Ms. Olivia Austin , Sr, CLIA,\"\t\"6405 SIMSBURY CT, PERRIS ,CA 92570\"\n",
            "35\t\"Dean. Daniel Austin , Sr, QC,\"\t\"6403 SUDBURY DR, PENSACOLA ,FL 32526\"\n",
            "36\t\"Dr. Kyle Allen , Sr,\n",
            "\n",
            "[410 | 934.33] loss=0.04 avg=0.30\n",
            "[420 | 956.53] loss=0.03 avg=0.29\n",
            "[430 | 978.73] loss=0.03 avg=0.29\n",
            "[440 | 1000.96] loss=0.03 avg=0.28\n",
            "[450 | 1023.18] loss=0.03 avg=0.27\n",
            "[460 | 1045.40] loss=0.03 avg=0.27\n",
            "[470 | 1067.61] loss=0.03 avg=0.26\n",
            "[480 | 1089.78] loss=0.03 avg=0.25\n",
            "[490 | 1111.99] loss=0.03 avg=0.25\n",
            "[500 | 1134.25] loss=0.02 avg=0.24\n",
            "Saving checkpoint/run1/model-500\n",
            "[510 | 1159.20] loss=0.03 avg=0.24\n",
            "[520 | 1181.49] loss=0.02 avg=0.23\n",
            "[530 | 1203.72] loss=0.03 avg=0.23\n",
            "[540 | 1225.90] loss=0.02 avg=0.22\n",
            "[550 | 1248.08] loss=0.02 avg=0.22\n",
            "[560 | 1270.26] loss=0.03 avg=0.21\n",
            "[570 | 1292.46] loss=0.03 avg=0.21\n",
            "[580 | 1314.65] loss=0.02 avg=0.20\n",
            "[590 | 1336.84] loss=0.02 avg=0.20\n",
            "[600 | 1359.03] loss=0.03 avg=0.20\n",
            "======== SAMPLE 1 ========\n",
            "\t\"Col. Shawn Brown , PhD, IQCP,\"\t\"950 N DUESENBERG DR, APT 11203, ONTARIO ,CA 91764\"\n",
            "178\t\"MS. Adam Berdugo , Sr, CLIA,\"\t\"387 HARTWOOD WAY, ROUND ROCK ,AR 72036\"\n",
            "179\t\"Dean . Adam Berdugo , Sr, QC,\"\t\"918 E DOUGLAS AVE, VISALIA ,CA 93292\"\n",
            "180\t\"Dean. Zoe Bergen , PhD, QA,\"\t\"1711 CHINABERRY DR, GREENWOOD ,AR 72936\"\n",
            "181\t\"Col. Kaleigh Berman , PhD, IQCP,\"\t\"1314 WILD PINE DR, SAINT AUGUSTINE ,FL 32084\"\n",
            "182\t\"Dean. Joshua Bermudez , PhD, CLIA,\"\t\"370 MILLWOOD LN, SAN ANTONIO ,TX 78216\"\n",
            "183\t\"Dr. Katelyn Bernard , Jr, QC,\"\t\"4701 PALADIUM DR, MANSFIELD ,TX 76063\"\n",
            "184\t\"Mr. Micah Bernstein , Sr, QA,\"\t\"7210 YOSHIDA ST, PENSACOLA ,FL 32526\"\n",
            "185\t\"Mrs. Rachel Berreckman , Sr, CLIA,\"\t\"1527 WOODWIND CT, FORT MYERS ,FL 33919\"\n",
            "186\t\"Ms. Nestor Berrios , Jr, QC,\"\t\"2068 ERNEST WAY, ARCATA ,CA 95521\"\n",
            "187\t\"Mr. Miranda Berry , Jr, QA,\"\t\"14456 KENTFIELD PL, POWAY ,CA 92064\"\n",
            "188\t\"Mr. Brooke Berry , Jr, IQCP,\"\t\"14456 KENTFIELD PL, POWAY ,CA 92064\"\n",
            "189\t\"Col. Johnathan Berry , Sr, CLIA,\"\t\"PO BOX 243, ODEM ,TX 78370\"\n",
            "190\t\"Mr. Zachary Berry , Sr, QC,\"\t\"PO BOX 7586, FORT MYERS ,FL 33911\"\n",
            "191\t\"Mr. Brenton Beshers , Sr, QA,\"\t\"PO BOX 2721, BARTOW ,FL 33831\"\n",
            "192\t\"Mr. Gage Besing , Sr, IQCP,\"\t\"5042 BUFFWOOD WAY, SACRAMENTO ,CA 95841\"\n",
            "193\t\"Mr. Ian Besner , Jr, CLIA,\"\t\"340 FEGAN DR, # B, SAN CLEMENTE ,CA 92672\"\n",
            "194\t\"Col. Brielle Beus , Jr, QC,\"\t\"2005 SUNSET CT, WEATHERFORD ,TX 76088\"\n",
            "195\t\"Dean. Caitlin Beverly , Sr, QA,\"\t\"5106 GLENHAVEN DR, BAYTOWN ,TX 77521\"\n",
            "196\t\"Dr. Terence Beverly , Jr, IQCP,\"\t\"9822 HASKELL AVE, NORTH HILLS ,CA 91343\"\n",
            "197\t\"Mr. Harlie Bevers , Jr, CLIA,\"\t\"3805 DILLINGHAM AVE, MODESTO ,CA 95357\"\n",
            "198\t\"Mrs. Spencer Bezold , Jr, QC,\"\t\"6242 WARNER AVE, APT 27A, HUNTINGTON BEACH ,CA 92647\"\n",
            "199\t\"Ms. Gregory Bibb , Sr, QA,\"\t\"326 S WINDOMERE AVE, APT A, DALLAS ,TX 75208\"\n",
            "200\t\"Mr. Makayla Bautista , Sr, IQCP,\"\t\"2113 SW CAPE COD DR, PORT ST LUCIE ,FL 34953\"\n",
            "201\t\"Ms. Jonathan Baxter , Sr, CLIA,\"\t\"13400 CYPRESS AVE, SPC 154, CHINO ,CA 91710\"\n",
            "202\t\"Mr. Makayla Baxter , Sr, QC,\"\t\"4122 WELLINGTON WOODS DR N, CARINGO ,TX 75066\"\n",
            "203\t\"Mr. Nelsa Baxter , Sr, QA,\"\t\"772 WALKER CUTOFF, MALVERN ,AR 72104\"\n",
            "204\t\"Mr. Nyle Abraham , Sr, IQCP,\"\t\"1111 SERENGETI WAY, ROCKLEDGE ,AR 72753\"\n",
            "205\t\"Dean. John Anastasia , Jr, CLIA,\"\t\"657 HARRISGLENN DR, APT 112K-3, SANTA CLARA ,CA 94522\"\n",
            "206\t\"Dr. Kaiya Hasan , Jr, QC,\"\t\"3670 CHASE AVE,\n",
            "\n",
            "[610 | 1392.88] loss=0.02 avg=0.19\n",
            "[620 | 1415.14] loss=0.02 avg=0.19\n",
            "[630 | 1437.38] loss=0.03 avg=0.19\n",
            "[640 | 1459.60] loss=0.03 avg=0.18\n",
            "[650 | 1481.79] loss=0.03 avg=0.18\n",
            "[660 | 1503.96] loss=0.02 avg=0.18\n",
            "[670 | 1526.13] loss=0.03 avg=0.17\n",
            "[680 | 1548.33] loss=0.03 avg=0.17\n",
            "[690 | 1570.52] loss=0.03 avg=0.17\n",
            "[700 | 1592.70] loss=0.03 avg=0.16\n",
            "[710 | 1614.92] loss=0.02 avg=0.16\n",
            "[720 | 1637.10] loss=0.02 avg=0.16\n",
            "[730 | 1659.31] loss=0.02 avg=0.16\n",
            "[740 | 1681.50] loss=0.02 avg=0.15\n",
            "[750 | 1703.69] loss=0.02 avg=0.15\n",
            "[760 | 1725.89] loss=0.02 avg=0.15\n",
            "[770 | 1748.07] loss=0.02 avg=0.15\n",
            "[780 | 1770.25] loss=0.02 avg=0.14\n",
            "[790 | 1792.45] loss=0.02 avg=0.14\n",
            "[800 | 1814.64] loss=0.02 avg=0.14\n",
            "======== SAMPLE 1 ========\n",
            ", Katelyn Brand , Jr, QC,\"\t\"326 S VILLAGE DR, MCKINNEY ,TX 75070\"\n",
            "323\t\"Dean. Ricky Aleman , Jr, QA,\"\t\"1231 27TH AVE S, ST PETERSBURG ,FL 33705\"\n",
            "324\t\"Dr. Katelyn Brand , Jr, IQCP,\"\t\"PO BOX 1353, WATSONVILLE ,CA 95077\"\n",
            "325\t\"Mr. Michael Adams , Sr, CLIA,\"\t\"PO BOX 1325, TEMECULA ,CA 92592\"\n",
            "326\t\"Mr. Isabella Adams , Sr, QC,\"\t\"PO BOX 3277, MURRIETA ,CA 92562\"\n",
            "327\t\"Mr.Katelyn Brand , Sr, QA,\"\t\"PO BOX 360, TEMECULA ,CA 92592\"\n",
            "328\t\"Mr.Katelyn Brand , Sr, IQCP,\"\t\"PO BOX 3174, PEMBROKE PINES ,AR 72703\"\n",
            "329\t\"Mr.Katelyn Brand , Sr, CLIA,\"\t\"1790 BROOKS ST, SAN MATEO ,CA 94403\"\n",
            "330\t\"Ms. Brinley Bullerman , Jr, QC,\"\t\"41 FOREST CIR, LITTLE ROCK ,AR 72211\"\n",
            "331\t\"Ms. Liberty Bullington , Jr, QA,\"\t\"1417 WOLF CT, SALINAS ,CA 93905\"\n",
            "332\t\"Ms. Toby Bautista , Jr, IQCP,\"\t\"2358 N TUSTIN AVE, APT P2, STOCKTON ,CA 95206\"\n",
            "333\t\"Ms. Joshua Bautista , Jr, CLIA,\"\t\"2003 KELSELL AVE, APT 108, WEST COVINA ,CA 91791\"\n",
            "334\t\"Ms. Jacob Bailey , Sr, QC,\"\t\"2324 GREENWICH ST, SAN FRANCISCO ,CA 94123\"\n",
            "335\t\"Ms. Elizabeth Bailey , Sr, QA,\"\t\"PO BOX 1211, CHINO ,CA 91710\"\n",
            "336\t\"Ms. Christopher Balestreri , Sr, IQCP,\"\t\"1800 S BROADWAY , APT 210, SANTA ANA ,CA 92707\"\n",
            "337\t\"Ms. Elizabeth Balestreri , Sr, CLIA,\"\t\"7210 NW 62ND CT, OCALA ,FL 34471\"\n",
            "338\t\"Ms. Michael Balestreri , Sr, QC,\"\t\"10710 COTTONWOOD WAY, RIVERSIDE ,CA 92503\"\n",
            "339\t\"Dean. Dominique Balestrerio , Jr, QA,\"\t\"6008 player second A right field buffer zone, 24 University of Southern California Bursar Field clinics , 34 Fulbright Class of 2022 Jordan Adams , Sr, IQCP,\"\t\"340 Covina , Sr, CLIA,\"\t\"1863 SW 9TH ST, MIAMI ,FL 33174\"\n",
            "340\t\"Dean. Danny Adams , Sr, QC,\"\t\"290 SW 194TH AVE, MIAMI ,FL 33143\"\n",
            "341\t\"Dr. Johnny Adams , Sr, QA,\"\t\"2735 W 39TH PL, HIALEAH ,FL 33016\"\n",
            "342\t\"Mr. Ryan Adams , Sr, IQCP,\"\t\"2730 W MAGNOLIA ST, CRISPIA ,CA 92570\"\n",
            "343\t\"Mr. Sarah Kaufman , Jr, CLIA,\"\t\"1424 SE 27TH ST, TAMPA ,FL 33615\"\n",
            "344\t\"Col. Travis Kalogridis , PhD, QC,\"\t\"4739 NW 168TH TER, OPA LOCKA ,FL 33054\"\n",
            "345\t\"MS. Logan Kennedy , PhD, QA,\"\t\"11419 N, CLERMONT ,FL 34711\"\n",
            "346\t\"Dean . James Kin MANOR , PhD, QA,\"\t\"417 12TH AVE SE, OAKLAND ,CA 94603\"\n",
            "347\t\"Dean. Danny Kinlaw , Jr, IQCP,\"\t\"25781 STEPHENS ST, POMONA ,CA 91767\"\n",
            "348\t\"Dean. Ali Kinvers , Sr, CLIA,\"\t\"1424 NW 168TH ST, NORTHRIDGE ,CA 91324\"\n",
            "349\t\"Col. Tramiris Anthony , Sr, QC,\"\t\"108 15TH AVE W, BRADENTON ,FL 34205\"\n",
            "350\t\"Dr. Madelyn Blankenship , PhD, QA,\"\t\"456 COUNTY ROAD 67634, DAYTON ,TX 77535\"\n",
            "351\t\"Mr\n",
            "\n",
            "[810 | 1848.05] loss=0.02 avg=0.14\n",
            "[820 | 1870.23] loss=0.02 avg=0.14\n",
            "[830 | 1892.42] loss=0.02 avg=0.13\n",
            "[840 | 1914.66] loss=0.02 avg=0.13\n",
            "[850 | 1936.88] loss=0.02 avg=0.13\n",
            "[860 | 1959.11] loss=0.02 avg=0.13\n",
            "[870 | 1981.30] loss=0.02 avg=0.13\n",
            "[880 | 2003.49] loss=0.03 avg=0.12\n",
            "[890 | 2025.68] loss=0.03 avg=0.12\n",
            "[900 | 2047.86] loss=0.02 avg=0.12\n",
            "[910 | 2070.05] loss=0.02 avg=0.12\n",
            "[920 | 2092.24] loss=0.02 avg=0.12\n",
            "[930 | 2114.42] loss=0.02 avg=0.12\n",
            "[940 | 2136.59] loss=0.02 avg=0.11\n",
            "[950 | 2158.78] loss=0.02 avg=0.11\n",
            "[960 | 2180.95] loss=0.02 avg=0.11\n",
            "[970 | 2203.16] loss=0.02 avg=0.11\n",
            "[980 | 2225.36] loss=0.02 avg=0.11\n",
            "[990 | 2247.56] loss=0.02 avg=0.11\n",
            "[1000 | 2269.78] loss=0.02 avg=0.11\n",
            "Saving checkpoint/run1/model-1000\n"
          ]
        },
        {
          "output_type": "stream",
          "name": "stderr",
          "text": [
            "WARNING:tensorflow:From /usr/local/lib/python3.7/dist-packages/tensorflow/python/training/saver.py:1068: remove_checkpoint (from tensorflow.python.training.checkpoint_management) is deprecated and will be removed in a future version.\n",
            "Instructions for updating:\n",
            "Use standard file APIs to delete files with this prefix.\n"
          ]
        }
      ]
    },
    {
      "cell_type": "code",
      "source": [
        "gpt2.copy_checkpoint_to_gdrive(run_name='run1')"
      ],
      "metadata": {
        "id": "LATz4EOfWisl"
      },
      "execution_count": null,
      "outputs": []
    },
    {
      "cell_type": "code",
      "source": [
        "gpt2.copy_checkpoint_from_gdrive(run_name='run1')"
      ],
      "metadata": {
        "id": "fv9WgqfAWk7S"
      },
      "execution_count": null,
      "outputs": []
    },
    {
      "cell_type": "code",
      "source": [
        "import tensorflow as tf \n",
        "tf.compat.v1.reset_default_graph()"
      ],
      "metadata": {
        "id": "-qrnpMIhjyWT"
      },
      "execution_count": null,
      "outputs": []
    },
    {
      "cell_type": "code",
      "source": [
        "\n",
        "sess = gpt2.start_tf_sess()\n",
        "gpt2.load_gpt2(sess, run_name='run1')"
      ],
      "metadata": {
        "colab": {
          "base_uri": "https://localhost:8080/"
        },
        "id": "SgrEnz6QWm1H",
        "outputId": "1b04b18f-06ed-4022-cda6-08e5d9271ebc"
      },
      "execution_count": null,
      "outputs": [
        {
          "output_type": "stream",
          "name": "stdout",
          "text": [
            "Loading checkpoint checkpoint/run1/model-1000\n"
          ]
        }
      ]
    },
    {
      "cell_type": "code",
      "source": [
        "#Generate our data from Model"
      ],
      "metadata": {
        "id": "eFxYb33RWpQV"
      },
      "execution_count": null,
      "outputs": []
    },
    {
      "cell_type": "code",
      "source": [
        "\"\"\"\n",
        "\n",
        "Consider parameters\n",
        "\n",
        "length: Number of tokens to generate (default 1023, the maximum)\n",
        "temperature: The higher the temperature, the crazier the text (default 0.7, recommended to keep between 0.7 and 1.0)\n",
        "top_k: Limits the generated guesses to the top k guesses (default 0 which disables the behavior; if the generated output is super crazy, you may want to set top_k=40)\n",
        "top_p: Nucleus sampling: limits the generated guesses to a cumulative probability. (gets good results on a dataset with top_p=0.9)\n",
        "truncate: Truncates the input text until a given sequence, excluding that sequence (e.g. if truncate='<|endoftext|>', \n",
        "the returned text will include everything before the first <|endoftext|>). \n",
        "It may be useful to combine this with a smaller length if the input texts are short.\n",
        "include_prefix: If using truncate and include_prefix=False, the specified prefix will not be included in the returned text.\n",
        "\n",
        "\"\"\""
      ],
      "metadata": {
        "id": "j4l29QC_Wv-i"
      },
      "execution_count": null,
      "outputs": []
    },
    {
      "cell_type": "code",
      "source": [
        "gpt2.generate(sess, run_name='run1')"
      ],
      "metadata": {
        "colab": {
          "base_uri": "https://localhost:8080/"
        },
        "id": "f0r5KF3YWm8Z",
        "outputId": "af7a9531-47ca-48ac-a1e1-23fbe69f65d6"
      },
      "execution_count": null,
      "outputs": [
        {
          "output_type": "stream",
          "name": "stdout",
          "text": [
            "98ACCESS RD, APT 27, VACAVILLE ,CA 95687\"\n",
            "99\t\"Dean. Tara Borders , Sr, CLIA,\"\t\"2120 W RANDALL W, GAINESVILLE ,FL 32641\"\n",
            "100\t\"Dean. Justin Bolton , Sr, QC,\"\t\"11350 BRIAR OAK DR, ROYAL PALM BEACH ,FL 33411\"\n",
            "101\t\"Dr. Wade Bolton , Jr, QA,\"\t\"14234 COHASSET ST, VAN NUYS ,CA 91405\"\n",
            "102\t\"Mr. Dylan Bolton , Jr, CLIA,\"\t\"14234 COHASSET ST, VAN NUYS ,CA 91405\"\n",
            "103\t\"Dean. Mysterio Abolgo , Sr, QC,\"\t\"368 REDWING CIR, CORONA ,CA 92880\"\n",
            "104\t\"Dr. Michael Abbatie , Jr, QA,\"\t\"4552 ABRUZZI CIR, STOCKTON ,CA 95206\"\n",
            "105\t\"Col. Abigail Amstutz , Jr, CLIA,\"\t\"STERWING CIR, MOUNTAIN VIEW ,CA 94040\"\n",
            "106\t\"MS. Erin Amstutz , Jr, QC,\"\t\"7547 VAN NUYS ,CA 91405\"\n",
            "107\t\"Dean .iti . Arnaud Amstutz , Jr, QA,\"\t\"17419 forward Arie Bivings RD, No 36, Auvergne ,DE 27 toers .eri .eri . AIG ,2729\"\n",
            "108\t\"Dean. Niki Adams , PhD, QC,\"\t\"3874 STEPHENS ST, POMONA ,CA 91768\"\n",
            "109\t\"Dr. Kayla Adams , PhD, QA,\"\t\"4552 ABRUZZI CIR, STOCKTON ,CA 95206\"\n",
            "110\t\"Col. John Adams , Jr, QC,\"\t\"14234 COHASSET ST, VAN NUYS ,CA 91405\"\n",
            "111\t\"MS. Annie Adams , Jr, QA,\"\t\"PO BOX 1303, SAN RAMON ,CA 94583\"\n",
            "112\t\"Dean . Kara Adams , Sr, IQCP,\"\t\"1240 HASTINGS RANCH DR, PORT ST LUCIE ,FL 34953\"\n",
            "113\t\"Dean. James Adams , Sr, CLIA,\"\t\"5002 SHADOWOOD TRL, APT 27, ghisite ,TX 75133\"\n",
            "114\t\"Dean. Danny Adams , Sr, QC,\"\t\"404 PINSHADGE CIR, WEST PALM BEACH ,FL 33417\"\n",
            "115\t\"Dr. Sarah Adams , PhD, QA,\"\t\"1030 MORALLON RD, APT 105, GARDEN GROVE ,CA 92843\"\n",
            "116\t\"Col. Michael Adams , PhD, IQCP,\"\t\"6243 E BALL RD, SPC 6, BLOOMINGTON ,CA 92316\"\n",
            "117\t\"MS. Naisya Adams , PhD, QC,\"\t\"61 Frank ST, POMONA ,CA 91767\"\n",
            "118\t\"Dean . Parker Akins , Jr, CLIA,\"\t\"14234 COHASSET ST, VAN NUYS ,CA 91405\"\n",
            "119\t\"Dean. Jacob Akins , Jr, QC,\"\t\"430 N CORONADO ST, APT 8, LOS ANGELES ,CA 90026\"\n",
            "120\t\"Dean. Anna Aitken , Jr, QA,\"\t\"14234 COHASSET ST, VAN NUYS ,CA 91405\"\n",
            "121\t\"Dr. Stephanie Austin , Jr, IQCP,\"\t\"11049 CHAMPION AVE, HOUSTON ,TX 77044\"\n",
            "122\t\"Col. Travis Austin , Jr, CLIA,\"\t\"650 FLOYD ST SE, PALM BAY ,FL 32909\"\n",
            "123\t\"MS. Noah Austin , Jr, QC,\"\t\"1300 BURTON DR, APT 196, VACAVILLE ,CA 95687\"\n",
            "124\t\"Dean . Noah Barajas , Jr, QA,\"\t\"5106 GLENHAVEN DR, BAYTOWN ,TX 77521\"\n",
            "125\t\"Dean. Samuel Barcus Jr , Jr, CLIA,\"\t\"9724 FOLLETT DR, SANTEE ,CA 92071\"\n",
            "126\t\"Dean. Isaac Barba , Sr, QC,\"\t\"9537 MISTY RIVER WAY, ELK GROVE ,CA 95624\"\n",
            "127\t\"Dean. Sheldon Benner , Sr, QA,\"\t\n"
          ]
        }
      ]
    },
    {
      "cell_type": "code",
      "source": [
        "gpt2.generate(sess,\n",
        "              length=250,\n",
        "              temperature=0.7,\n",
        "              prefix=\"Taj Mahal\",\n",
        "              nsamples=5,\n",
        "              batch_size=5\n",
        "              )"
      ],
      "metadata": {
        "colab": {
          "base_uri": "https://localhost:8080/"
        },
        "id": "30pyPyhDW0oe",
        "outputId": "0b1077e0-bf2b-413b-e8cd-a86760dd85a2"
      },
      "execution_count": null,
      "outputs": [
        {
          "output_type": "stream",
          "name": "stdout",
          "text": [
            "Taj Mahal , Sr, CLIA,\"\t\"950 N DUESENBERG DR, APT 11203, ONTARIO ,CA 91764\"\n",
            "154\t\"Col. Jessica Addaz , PhD, QC,\"\t\"6161 NW 44TH TER, COCONUT CREEK ,FL 33073\"\n",
            "155\t\"MS. Reid Amber Barnard , PhD, QA,\"\t\"36491 YAMAS DR, APT 3205, WILDOMAR ,CA 92595\"\n",
            "156\t\"Dean . Adam Barnard , Sr, QC,\"\t\"17460 CAMINITO BAYA, SAN DIEGO ,CA 92127\"\n",
            "157\t\"Dean. Estela Barnard , Sr, QA,\"\t\"24850 HANCOCK AVE, APT B207, MURRIETA ,CA 92562\"\n",
            "158\t\"Dean. Isabel Barnard , Sr, IQCP,\"\t\"3802 SUDBURY DR, PASADENA ,TX 77504\"\n",
            "159\t\"Dr. Aaron Barnard , Sr, CLIA,\"\t\"4870 HIDDEN HILL DR, FORT WORTH ,TX 76\n",
            "====================\n",
            "Taj Mahal , Sr, CLIA,\"\t\"9537 MISTY RIVER WAY, ELK GROVE ,CA 95624\"\n",
            "53\t\"Dean. Taylor Mead , PhD, QC,\"\t\"216 1/2 N BREED ST, LOS ANGELES ,CA 90033\"\n",
            "54\t\"Dr. Evanoj Hokage , PhD, QA,\"\t\"408 GRISWOLD ST, # 3, GLENDALE ,CA 91205\"\n",
            "55\t\"Dean. Trenton Haugh , PhD, QC,\"\t\"430 N, APT J233, GARDEN GROVE ,CA 92880\"\n",
            "56\t\"Dr. Sienna Haugh , PhD, QA,\"\t\"41511 ABRUZZI CIR, STOCKTON ,CA 95206\"\n",
            "57\t\"Col. Luke Haggis , PhD, IQCP,\"\t\"1514 OLD LA BLANCA RD, DONNA ,TX 78537\"\n",
            "58\t\"MS. Molly Hader , PhD, CLIA,\"\t\"5144 LOUKELTON ST, LA PUENTE ,CA 91744\"\n",
            "59\t\"Ms. Colin\n",
            "====================\n",
            "Taj Mahal , Sr, CLIA,\"\t\"3056 MAUDE ST, RIVERSIDE ,CA 92505\"\n",
            "108\t\"Col. Paxton Michael , Sr, QC,\"\t\"78434\n",
            "109\t\"MS. Paxton Pryor , Jr, QA,\"\t\"15023 PINE SHADOW LN, CLERMONT ,FL 34711\"\n",
            "110\t\"Ms. Samuel Pembroke , Jr, QC,\"\t\"1695 74TH AVE N, SAINT PETERSBURG ,FL 33702\"\n",
            "111\t\"Ms. Jayson Pepitone , Jr, QA,\"\t\"14234 COHASSET ST, VAN NUYS ,CA 91405\"\n",
            "112\t\"Mr. Samuel Pomeranz , Jr, IQCP,\"\t\"1695 74TH AVE N, SAINT PETERSBURG ,FL 33702\"\n",
            "113\t\"Mr. Jayson Pomeranz , Jr, CLIA,\"\t\"4521 OLD LA BLANCA RD, DONNA ,TX 78537\"\n",
            "114\t\"Mr. Samuel Pomeranz , Jr, QC,\"\t\"8207 MISTY RIVER\n",
            "====================\n",
            "Taj Mahal , Jr, CLIA,\"\t\"36491 YAMAS DR, APT 3205, WILDOMAR ,CA 92595\"\n",
            "45\t\"Ms. Olivia mummy , Sr, QC,\"\t\"17460 CAMINITO BAYA, SAN DIEGO ,CA 92127\"\n",
            "46\t\"Mr. Mirabella Marquez , Sr, QA,\"\t\"24850 HANCOCK AVE, APT B207, MURRIETA ,CA 92562\"\n",
            "47\t\"Mr. Joselyn Marquez , Sr, IQCP,\"\t\"16764 DUEx , CA 9ROGS TRL, FRESNO ,CA 93722\"\n",
            "48\t\"Mr. Tristan Alderman , Sr, CLIA,\"\t\"10450 BERKELEY ST, LEHIGH ACRES ,FL 33976\"\n",
            "49\t\"Mr. Mirabella Aldridge , Sr, QC,\"\t\"2470 ERNEST WAY, ARCATA ,CA 95521\"\n",
            "50\t\"Mr. Zackry Aldridge , Sr, QA,\"\t\"14 noy 11, Bay Ridge ,TX 79605\"\n",
            "51\t\"Mr.\n",
            "====================\n",
            "Taj Mahal , Sr, QC,\"\t\"9534 STATE ST, SOUTH GATE ,CA 90280\"\n",
            "229\t\"Ms. Trevoram Mahala , Sr, QA,\"\t\"2369 WHISPERING MAPLE DR, ORLANDO ,FL 32837\"\n",
            "230\t\"Ms. Richard Mahler , Jr, CLIA,\"\t\"1490 N HIGH ST, ORLANDO ,FL 32807\"\n",
            "231\t\"Ms. Sydney Heller , Jr, QC,\"\t\"3874 MAYWOOD DR N, HOUSTON ,TX 770 34 XIII RD, APT 282, TEMECULA ,CA 92591\"\n",
            "232\t\"Mr. Carson Herrera , Sr, QA,\"\t\"1421 TURTLE BAY PL, FONTANA ,CA 92336\"\n",
            "233\t\"Mr. Lillian Herrera , Sr, IQCP,\"\t\"16225 CORMORANT CIR, ROCKLIN ,CA 95765\"\n",
            "234\t\"Mr. Zackry Herrera , PhD, CLIA,\"\t\"13456 KENTFIELD PL, POWAY ,CA 92064\"\n",
            "235\t\"Col. Abigail Hernandez , PhD, QC,\"\n",
            "====================\n"
          ]
        }
      ]
    },
    {
      "cell_type": "markdown",
      "source": [
        "#Text Generation using LSTM"
      ],
      "metadata": {
        "id": "KFFDiWhQvkim"
      }
    },
    {
      "cell_type": "code",
      "source": [
        "f = open('/content/word.txt', 'r')\n",
        "content = f.read()\n"
      ],
      "metadata": {
        "id": "WZLXkbrYvoi3"
      },
      "execution_count": null,
      "outputs": []
    },
    {
      "cell_type": "code",
      "source": [
        "\n",
        "print('Corpus length:', len(text))"
      ],
      "metadata": {
        "id": "RuSRSpMZv2CZ"
      },
      "execution_count": null,
      "outputs": []
    },
    {
      "cell_type": "code",
      "source": [
        "import keras\n",
        "import numpy as np\n",
        "\n",
        "path = keras.utils.get_file(\n",
        "    'nietzsche.txt',\n",
        "    origin='https://s3.amazonaws.com/text-datasets/nietzsche.txt')\n",
        "text = open(path).read().lower()\n",
        "print('Corpus length:', len(text))"
      ],
      "metadata": {
        "id": "VIYGg-LNvmo9"
      },
      "execution_count": null,
      "outputs": []
    },
    {
      "cell_type": "code",
      "source": [
        "# Length of extracted character sequences\n",
        "maxlen = 60\n",
        "\n",
        "# We sample a new sequence every `step` characters\n",
        "step = 3\n",
        "\n",
        "# This holds our extracted sequences\n",
        "sentences = []\n",
        "\n",
        "# This holds the targets (the follow-up characters)\n",
        "next_chars = []\n",
        "\n",
        "for i in range(0, len(text) - maxlen, step):\n",
        "    sentences.append(text[i: i + maxlen])\n",
        "    next_chars.append(text[i + maxlen])\n",
        "print('Number of sequences:', len(sentences))\n",
        "\n",
        "# List of unique characters in the corpus\n",
        "chars = sorted(list(set(text)))\n",
        "print(chars)\n",
        "\n",
        "print('Unique characters:', len(chars))\n",
        "\n",
        "# Dictionary mapping unique characters to their index in `chars`\n",
        "char_indices = dict((char, chars.index(char)) for char in chars)\n",
        "\n",
        "# Next, one-hot encode the characters into binary arrays.\n",
        "print('Vectorization...')\n",
        "x = np.zeros((len(sentences), maxlen, len(chars)), dtype=np.bool)\n",
        "y = np.zeros((len(sentences), len(chars)), dtype=np.bool)\n",
        "for i, sentence in enumerate(sentences):\n",
        "    for t, char in enumerate(sentence):\n",
        "        x[i, t, char_indices[char]] = 1\n",
        "    y[i, char_indices[next_chars[i]]] = 1"
      ],
      "metadata": {
        "id": "PuxLV9I5vkHx"
      },
      "execution_count": null,
      "outputs": []
    },
    {
      "cell_type": "code",
      "source": [
        "from keras import layers\n",
        "\n",
        "model = keras.models.Sequential()\n",
        "model.add(layers.LSTM(128, input_shape=(maxlen, len(chars))))\n",
        "model.add(layers.Dense(len(chars), activation='softmax'))"
      ],
      "metadata": {
        "id": "bps5cY8Kv34o"
      },
      "execution_count": null,
      "outputs": []
    },
    {
      "cell_type": "code",
      "source": [
        "optimizer = keras.optimizers.RMSprop(lr=0.01)\n",
        "model.compile(loss='categorical_crossentropy', optimizer=optimizer)"
      ],
      "metadata": {
        "id": "wTWNuCsDv7Wf"
      },
      "execution_count": null,
      "outputs": []
    },
    {
      "cell_type": "code",
      "source": [
        "def sample(preds, temperature=1.0):\n",
        "    preds = np.asarray(preds).astype('float64')\n",
        "    preds = np.log(preds) / temperature\n",
        "    exp_preds = np.exp(preds)\n",
        "    preds = exp_preds / np.sum(exp_preds)\n",
        "    probas = np.random.multinomial(1, preds, 1)\n",
        "    return np.argmax(probas)"
      ],
      "metadata": {
        "id": "cc0xHKDqv8yr"
      },
      "execution_count": null,
      "outputs": []
    },
    {
      "cell_type": "code",
      "source": [
        "import random\n",
        "import sys\n",
        "\n",
        "for epoch in range(1, 60):\n",
        "    print('epoch', epoch)\n",
        "    \n",
        "    # Fit the model for 1 epoch on the available training data\n",
        "    model.fit(x, y,\n",
        "              batch_size=128,\n",
        "              epochs=1)\n",
        "\n",
        "    # Select a text seed at random\n",
        "    start_index = random.randint(0, len(text) - maxlen - 1)\n",
        "    generated_text = text[start_index: start_index + maxlen]\n",
        "    print('--- Generating with seed: \"' + generated_text + '\"')\n",
        "\n",
        "    for temperature in [0.2, 0.5, 1.0, 1.2]:\n",
        "        print('------ temperature:', temperature)\n",
        "        sys.stdout.write(generated_text)\n",
        "\n",
        "        # We generate 400 characters\n",
        "        for i in range(400):\n",
        "            sampled = np.zeros((1, maxlen, len(chars)))\n",
        "            for t, char in enumerate(generated_text):\n",
        "                sampled[0, t, char_indices[char]] = 1.\n",
        "\n",
        "            preds = model.predict(sampled, verbose=0)[0]\n",
        "            next_index = sample(preds, temperature)\n",
        "            next_char = chars[next_index]\n",
        "\n",
        "            generated_text += next_char\n",
        "            generated_text = generated_text[1:]\n",
        "\n",
        "            sys.stdout.write(next_char)\n",
        "            sys.stdout.flush()\n",
        "        print()"
      ],
      "metadata": {
        "id": "AARJ9PRTv-66"
      },
      "execution_count": null,
      "outputs": []
    }
  ]
}