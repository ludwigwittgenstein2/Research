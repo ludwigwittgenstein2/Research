{
  "nbformat": 4,
  "nbformat_minor": 0,
  "metadata": {
    "colab": {
      "provenance": [],
      "authorship_tag": "ABX9TyOWTIID086+UhEXA8JoOtae",
      "include_colab_link": true
    },
    "kernelspec": {
      "name": "python3",
      "display_name": "Python 3"
    },
    "language_info": {
      "name": "python"
    },
    "accelerator": "GPU",
    "gpuClass": "standard"
  },
  "cells": [
    {
      "cell_type": "markdown",
      "metadata": {
        "id": "view-in-github",
        "colab_type": "text"
      },
      "source": [
        "<a href=\"https://colab.research.google.com/github/ludwigwittgenstein2/Research/blob/master/Novel_Address_Using_LLM_LSTM.ipynb\" target=\"_parent\"><img src=\"https://colab.research.google.com/assets/colab-badge.svg\" alt=\"Open In Colab\"/></a>"
      ]
    },
    {
      "cell_type": "markdown",
      "source": [
        "#Title: Novel Address Generation using LLM and LSTM\n",
        "### by Rick Rejeleene\n",
        "\n",
        "Generative Models, mostly we are using to generate any artifact [text, audio, video]\n",
        "\n",
        "Feedback:\n",
        "\n",
        "Evaluation: Include in Dissertation\n",
        "\n",
        "How factual is it? (correct)\n",
        "\n",
        "How accurate is it [creativity]\n",
        "\n",
        "How measure result of generative language models?\n",
        "\n",
        "Misused (Toxic) \n",
        "\n",
        "Direction: Is the generated text from? Is it from AI model or not AI model?\n"
      ],
      "metadata": {
        "id": "5TPG8aeqOqgK"
      }
    },
    {
      "cell_type": "markdown",
      "source": [
        "## First we approach using GPT-2 Model - Why?\n",
        "\n",
        "a. GPT-2 is popular model of recent \n",
        "\n",
        "b. We try to use our dataset on GPT-2\n",
        "\n",
        "c. We try to get results\n",
        "\n",
        "\n",
        "\n",
        "###Goal of the Work: \n",
        "\n",
        "a. Apply Language Model \n",
        "\n",
        "b. Apply LSTM or variation of LSTM\n",
        "\n",
        "c. Use Census dataset [Name-Address]\n",
        "\n",
        "d. Compare results \n",
        "\n",
        "e. Write Paper/Results\n"
      ],
      "metadata": {
        "id": "UM-vb7aHVSmr"
      }
    },
    {
      "cell_type": "code",
      "source": [
        "#install dependencies \n"
      ],
      "metadata": {
        "id": "autIgNm6VvZm"
      },
      "execution_count": null,
      "outputs": []
    },
    {
      "cell_type": "code",
      "source": [
        "!pip install -q gpt-2-simple\n",
        "import gpt_2_simple as gpt2\n",
        "from datetime import datetime\n",
        "from google.colab import files"
      ],
      "metadata": {
        "colab": {
          "base_uri": "https://localhost:8080/"
        },
        "id": "uFReNMMTVr-E",
        "outputId": "98116859-66cd-4ea5-fca6-612a95338f43"
      },
      "execution_count": null,
      "outputs": [
        {
          "output_type": "stream",
          "name": "stdout",
          "text": [
            "  Preparing metadata (setup.py) ... \u001b[?25l\u001b[?25hdone\n",
            "  Building wheel for gpt-2-simple (setup.py) ... \u001b[?25l\u001b[?25hdone\n"
          ]
        }
      ]
    },
    {
      "cell_type": "code",
      "source": [
        "#Check GPU "
      ],
      "metadata": {
        "id": "dzd5mjNEO0wL"
      },
      "execution_count": null,
      "outputs": []
    },
    {
      "cell_type": "code",
      "source": [
        "!nvidia-smi"
      ],
      "metadata": {
        "colab": {
          "base_uri": "https://localhost:8080/"
        },
        "id": "JPtg57mOWQCZ",
        "outputId": "bd6bb4b0-f454-4fa4-afe9-b4cc8ba3ee96"
      },
      "execution_count": null,
      "outputs": [
        {
          "output_type": "stream",
          "name": "stdout",
          "text": [
            "Wed Feb  1 21:52:20 2023       \n",
            "+-----------------------------------------------------------------------------+\n",
            "| NVIDIA-SMI 510.47.03    Driver Version: 510.47.03    CUDA Version: 11.6     |\n",
            "|-------------------------------+----------------------+----------------------+\n",
            "| GPU  Name        Persistence-M| Bus-Id        Disp.A | Volatile Uncorr. ECC |\n",
            "| Fan  Temp  Perf  Pwr:Usage/Cap|         Memory-Usage | GPU-Util  Compute M. |\n",
            "|                               |                      |               MIG M. |\n",
            "|===============================+======================+======================|\n",
            "|   0  Tesla T4            Off  | 00000000:00:04.0 Off |                    0 |\n",
            "| N/A   59C    P0    30W /  70W |      0MiB / 15360MiB |      0%      Default |\n",
            "|                               |                      |                  N/A |\n",
            "+-------------------------------+----------------------+----------------------+\n",
            "                                                                               \n",
            "+-----------------------------------------------------------------------------+\n",
            "| Processes:                                                                  |\n",
            "|  GPU   GI   CI        PID   Type   Process name                  GPU Memory |\n",
            "|        ID   ID                                                   Usage      |\n",
            "|=============================================================================|\n",
            "|  No running processes found                                                 |\n",
            "+-----------------------------------------------------------------------------+\n"
          ]
        }
      ]
    },
    {
      "cell_type": "code",
      "source": [
        "gpt2.download_gpt2(model_name=\"124M\")"
      ],
      "metadata": {
        "colab": {
          "base_uri": "https://localhost:8080/"
        },
        "id": "ukFHoRLJWSXp",
        "outputId": "8a0242c1-6714-40ac-92f9-bf004760061b"
      },
      "execution_count": null,
      "outputs": [
        {
          "output_type": "stream",
          "name": "stderr",
          "text": [
            "Fetching checkpoint: 1.05Mit [00:00, 688Mit/s]                                                      \n",
            "Fetching encoder.json: 1.05Mit [00:00, 5.01Mit/s]\n",
            "Fetching hparams.json: 1.05Mit [00:00, 489Mit/s]                                                    \n",
            "Fetching model.ckpt.data-00000-of-00001: 498Mit [00:10, 45.9Mit/s]                                  \n",
            "Fetching model.ckpt.index: 1.05Mit [00:00, 631Mit/s]                                                \n",
            "Fetching model.ckpt.meta: 1.05Mit [00:00, 7.02Mit/s]\n",
            "Fetching vocab.bpe: 1.05Mit [00:00, 6.72Mit/s]\n"
          ]
        }
      ]
    },
    {
      "cell_type": "code",
      "source": [
        "gpt2.mount_gdrive()"
      ],
      "metadata": {
        "colab": {
          "base_uri": "https://localhost:8080/"
        },
        "id": "TK4Vi_24WSdV",
        "outputId": "0ea75827-a2a0-43a8-8417-a4668ed069c0"
      },
      "execution_count": null,
      "outputs": [
        {
          "output_type": "stream",
          "name": "stdout",
          "text": [
            "Mounted at /content/drive\n"
          ]
        }
      ]
    },
    {
      "cell_type": "code",
      "source": [
        "#upload our own dataset "
      ],
      "metadata": {
        "id": "qSAGpUpEWXFN"
      },
      "execution_count": null,
      "outputs": []
    },
    {
      "cell_type": "code",
      "source": [
        "file_name = 'CleanedDatasetEntire1.txt'"
      ],
      "metadata": {
        "id": "6HyenfPdWUT5"
      },
      "execution_count": null,
      "outputs": []
    },
    {
      "cell_type": "code",
      "source": [
        "gpt2.copy_file_from_gdrive(file_name)"
      ],
      "metadata": {
        "id": "f40hG69fWUYP"
      },
      "execution_count": null,
      "outputs": []
    },
    {
      "cell_type": "code",
      "source": [
        "#Train Model"
      ],
      "metadata": {
        "id": "UHGjgRlpWdit"
      },
      "execution_count": null,
      "outputs": []
    },
    {
      "cell_type": "code",
      "source": [
        "sess = gpt2.start_tf_sess()\n",
        "\n",
        "gpt2.finetune(sess,\n",
        "              dataset=file_name,\n",
        "              model_name='124M',\n",
        "              steps=1000,\n",
        "              restore_from='fresh',\n",
        "              run_name='run1',\n",
        "              print_every=10,\n",
        "              sample_every=200,\n",
        "              save_every=500\n",
        "              )"
      ],
      "metadata": {
        "colab": {
          "base_uri": "https://localhost:8080/"
        },
        "id": "5dsfnNRZWcTV",
        "outputId": "22aa644f-5761-4b9b-d501-0c90d3e405fc"
      },
      "execution_count": null,
      "outputs": [
        {
          "output_type": "stream",
          "name": "stdout",
          "text": [
            "Loading checkpoint models/124M/model.ckpt\n",
            "Loading dataset...\n"
          ]
        },
        {
          "output_type": "stream",
          "name": "stderr",
          "text": [
            "100%|██████████| 1/1 [00:00<00:00, 2373.69it/s]"
          ]
        },
        {
          "output_type": "stream",
          "name": "stdout",
          "text": [
            "dataset has 17233 tokens\n",
            "Training...\n"
          ]
        },
        {
          "output_type": "stream",
          "name": "stderr",
          "text": [
            "\n"
          ]
        },
        {
          "output_type": "stream",
          "name": "stdout",
          "text": [
            "[10 | 26.21] loss=2.42 avg=2.42\n",
            "[20 | 48.63] loss=1.95 avg=2.18\n",
            "[30 | 71.71] loss=1.55 avg=1.97\n",
            "[40 | 95.52] loss=1.30 avg=1.80\n",
            "[50 | 119.72] loss=1.28 avg=1.69\n",
            "[60 | 143.79] loss=1.02 avg=1.58\n",
            "[70 | 167.87] loss=1.00 avg=1.49\n",
            "[80 | 192.05] loss=0.86 avg=1.41\n",
            "[90 | 216.11] loss=0.66 avg=1.32\n",
            "[100 | 240.18] loss=0.61 avg=1.25\n",
            "[110 | 264.29] loss=0.36 avg=1.16\n",
            "[120 | 288.44] loss=0.31 avg=1.09\n",
            "[130 | 312.52] loss=0.20 avg=1.02\n",
            "[140 | 336.65] loss=0.12 avg=0.95\n",
            "[150 | 360.79] loss=0.08 avg=0.89\n",
            "[160 | 384.90] loss=0.07 avg=0.83\n",
            "[170 | 409.05] loss=0.06 avg=0.78\n",
            "[180 | 433.21] loss=0.05 avg=0.74\n",
            "[190 | 457.38] loss=0.06 avg=0.70\n",
            "[200 | 481.48] loss=0.05 avg=0.66\n",
            "======== SAMPLE 1 ========\n",
            " Jr. CLARAKE ,FL 32141\"\n",
            "248\t\"Ms. Sydney Bowling , Sr, QC,\"\t\"PO BOX 1931, IRVINE ,CA 92604\"\n",
            "249\t\"Ms. Josh Box , Sr, QA,\"\t\"1732 SHALE ST, ALTA LOMA ,CA 91737\"\n",
            "250\t\"Ms. Victoria Box , Sr, IQCP,\"\t\"3601 SW 131ST AVE, MARGATE ,CA 91767\"\n",
            "251\t\"Ms. Shawn Agan , Jr, QC,\"\t\"5720 CHOLLAS BND, APT 108, WESTMINSTER ,CA 92683\"\n",
            "252\t\"Dean. Austin Aguilar , Jr, QA,\"\t\"472 SAN VICENTE ST, PARAMOUNT ,CA 90723\"\n",
            "253\t\"Dr. Madelyn Bass , Jr, CLIA,\"\t\"1424 SE 27TH ST, PARAMOUNT ,CA 90723\"\n",
            "254\t\"Mr. Janessa Bassett , Jr, QC,\"\t\"PO BOX 755, TEMECULA ,CA 92583\"\n",
            "255\t\"Mrs. Skylora Bassett , Jr, QA,\"\t\"2390 S FAIRFAX AVE, APT 6, LOS ANGELES ,CA 90026\"\n",
            "256\t\"Ms. Zoe Bassett , Sr, IQCP,\"\t\"861 NW 33RD ST, LOS ANGELES ,CA 90026\"\n",
            "257\t\"Mr. Qais Al-Sabahi , Sr, CLIA,\"\t\"2401 NE 179TH AVE, MIAMI ,FL 33175\"\n",
            "258\t\"Mr. Parsa Attanasi , Sr, QC,\"\t\"1769 W 70TH ST, HIALEAH ,FL 33016\"\n",
            "259\t\"Dean. Relatedly, Samuel Alimentato , Sr, QA,\"\t\"10415 LESLIE RANCH RD, APT 229, LEHIGH ACRES ,FL2907\"\n",
            "260\t\"Dr. Tridentide Sawyer , PhD, \"\t\"CLIA, 11330 W 101ST AVE, , COVINA ,CA 917ounds ,\"\n",
            "261\t\"Dean. Maria Avent Jr , Jr, QC,\"\t\"27511 GARDEN DR S, APT 305, SUNNY ISLES ,FL 33240\"\n",
            "262\t\"Dr. Omega Picton , PhD, \"\t\"QC, 7010 ALMOND GREEN DR, SAN ANTONIO ,TX 78232\"\n",
            "263\t\"Ms. Samuel Alimenti , PhD, \"\t\"QA, 2490 CORINTH AVE, APT 7, LOS ANGELES ,CA 90034\"\n",
            "264\t\"Ms. Bradley Amanti , Jr, QC,\"\t\"963 E EL CAMINO REAL , # 324, SUNNYVALE ,CA 94087\"\n",
            "265\t\"Ms. Alex Martin , Jr, QA,\"\t\"4639 GOLDRIDGE ST, SELMA ,CA 93662\"\n",
            "266\t\"Ms. Theresa Martin , Jr, QC,\"\t\"6855 PALOS DR, RICHARDSON ,TX 75080\"\n",
            "267\t\"Ms. Johnny Martindale , Sr, QA,\"\t\"8938 THORNWOOD DR, JACKSONVILLE ,FL 32244\"\n",
            "268\t\"Mr. Michael Mathews , Sr, IQCP,\"\t\"PO BOX 1975 17TH AVE, SCANDALS ,CA 93202\"\n",
            "269\t\"Mr. Conner Mizoguchi , Sr, CLIA,\"\t\"4625 SW 76TH ST, APT 6, MIAMI ,FL 33125\"\n",
            "270\t\"Mr. Andrew Mizugaki , Sr, QC,\"\t\"132 PARK ST S, POMONA ,CA 91767\"\n",
            "271\t\"Mr.ryillem , Sr, QA,\"\t\"132 PARK ST S, POMONA ,CA 91767\"\n",
            "272\t\"Dean.joseph matsui , Sr, CLIA,\"\t\"16621 STONE DR, SUDBURY ,CA 92835\"\n",
            "273\t\"Dr.errolmaine danaes , Jr, QC,\"\t\"9724 TIFFANY ANNE CIR, LITTLE ELM ,TX 75068\"\n",
            "274\t\"Mr.kelly ayotte , Jr, QA,\"\t\"1424 HEIGHTS DR, HESPERIA ,CA 92345\"\n",
            "275\t\"Mr.ryorin , Sr, IQCP,\"\t\"2414 AGLIA ST, SAN DIEGO ,CA 92127\"\n",
            "276\t\"Mr.regard,\"ry,\"ryuela martinez-diaz , Jr, CLIA,\"\t\"1840 AVE,\n",
            "\n",
            "[210 | 517.85] loss=0.05 avg=0.63\n",
            "[220 | 541.79] loss=0.05 avg=0.60\n",
            "[230 | 565.90] loss=0.05 avg=0.57\n",
            "[240 | 590.12] loss=0.05 avg=0.55\n",
            "[250 | 614.22] loss=0.04 avg=0.53\n",
            "[260 | 638.20] loss=0.04 avg=0.51\n",
            "[270 | 662.26] loss=0.04 avg=0.49\n",
            "[280 | 686.35] loss=0.04 avg=0.47\n",
            "[290 | 710.53] loss=0.06 avg=0.45\n",
            "[300 | 734.64] loss=0.05 avg=0.44\n",
            "[310 | 758.75] loss=0.05 avg=0.42\n",
            "[320 | 782.88] loss=0.04 avg=0.41\n",
            "[330 | 806.90] loss=0.04 avg=0.40\n",
            "[340 | 831.01] loss=0.04 avg=0.38\n",
            "[350 | 855.04] loss=0.03 avg=0.37\n",
            "[360 | 879.10] loss=0.03 avg=0.36\n",
            "[370 | 903.16] loss=0.03 avg=0.35\n",
            "[380 | 927.26] loss=0.04 avg=0.34\n",
            "[390 | 951.44] loss=0.03 avg=0.33\n",
            "interrupted\n",
            "Saving checkpoint/run1/model-392\n"
          ]
        }
      ]
    },
    {
      "cell_type": "code",
      "source": [
        "gpt2.copy_checkpoint_to_gdrive(run_name='run1')"
      ],
      "metadata": {
        "id": "LATz4EOfWisl"
      },
      "execution_count": null,
      "outputs": []
    },
    {
      "cell_type": "code",
      "source": [
        "gpt2.copy_checkpoint_from_gdrive(run_name='run1')"
      ],
      "metadata": {
        "id": "fv9WgqfAWk7S"
      },
      "execution_count": null,
      "outputs": []
    },
    {
      "cell_type": "code",
      "source": [
        "import tensorflow as tf \n",
        "tf.compat.v1.reset_default_graph()"
      ],
      "metadata": {
        "id": "-qrnpMIhjyWT"
      },
      "execution_count": null,
      "outputs": []
    },
    {
      "cell_type": "code",
      "source": [
        "\n",
        "sess = gpt2.start_tf_sess()\n",
        "gpt2.load_gpt2(sess, run_name='run1')"
      ],
      "metadata": {
        "colab": {
          "base_uri": "https://localhost:8080/"
        },
        "id": "SgrEnz6QWm1H",
        "outputId": "81ee831c-30dc-4966-f012-fe56169fd01e"
      },
      "execution_count": null,
      "outputs": [
        {
          "output_type": "stream",
          "name": "stdout",
          "text": [
            "Loading checkpoint checkpoint/run1/model-392\n"
          ]
        }
      ]
    },
    {
      "cell_type": "code",
      "source": [
        "#Generate our data from Model"
      ],
      "metadata": {
        "id": "eFxYb33RWpQV"
      },
      "execution_count": null,
      "outputs": []
    },
    {
      "cell_type": "code",
      "source": [
        "\"\"\"\n",
        "\n",
        "Consider parameters\n",
        "\n",
        "length: Number of tokens to generate (default 1023, the maximum)\n",
        "temperature: The higher the temperature, the crazier the text (default 0.7, recommended to keep between 0.7 and 1.0)\n",
        "top_k: Limits the generated guesses to the top k guesses (default 0 which disables the behavior; if the generated output is super crazy, you may want to set top_k=40)\n",
        "top_p: Nucleus sampling: limits the generated guesses to a cumulative probability. (gets good results on a dataset with top_p=0.9)\n",
        "truncate: Truncates the input text until a given sequence, excluding that sequence (e.g. if truncate='<|endoftext|>', \n",
        "the returned text will include everything before the first <|endoftext|>). \n",
        "It may be useful to combine this with a smaller length if the input texts are short.\n",
        "include_prefix: If using truncate and include_prefix=False, the specified prefix will not be included in the returned text.\n",
        "\n",
        "\"\"\""
      ],
      "metadata": {
        "id": "j4l29QC_Wv-i",
        "colab": {
          "base_uri": "https://localhost:8080/",
          "height": 143
        },
        "outputId": "452948bb-1e6b-4221-8046-4afaeb3ab526"
      },
      "execution_count": null,
      "outputs": [
        {
          "output_type": "execute_result",
          "data": {
            "text/plain": [
              "\"\\n\\nConsider parameters\\n\\nlength: Number of tokens to generate (default 1023, the maximum)\\ntemperature: The higher the temperature, the crazier the text (default 0.7, recommended to keep between 0.7 and 1.0)\\ntop_k: Limits the generated guesses to the top k guesses (default 0 which disables the behavior; if the generated output is super crazy, you may want to set top_k=40)\\ntop_p: Nucleus sampling: limits the generated guesses to a cumulative probability. (gets good results on a dataset with top_p=0.9)\\ntruncate: Truncates the input text until a given sequence, excluding that sequence (e.g. if truncate='<|endoftext|>', \\nthe returned text will include everything before the first <|endoftext|>). \\nIt may be useful to combine this with a smaller length if the input texts are short.\\ninclude_prefix: If using truncate and include_prefix=False, the specified prefix will not be included in the returned text.\\n\\n\""
            ],
            "application/vnd.google.colaboratory.intrinsic+json": {
              "type": "string"
            }
          },
          "metadata": {},
          "execution_count": 17
        }
      ]
    },
    {
      "cell_type": "code",
      "source": [
        "gpt2.generate(sess, run_name='run1')"
      ],
      "metadata": {
        "colab": {
          "base_uri": "https://localhost:8080/"
        },
        "id": "f0r5KF3YWm8Z",
        "outputId": "140417c8-334a-4b66-afa8-0cd9f927920a"
      },
      "execution_count": null,
      "outputs": [
        {
          "output_type": "stream",
          "name": "stdout",
          "text": [
            "OSM OAKS ,AR 72756\"\n",
            "4360 BLUE CLOVER LN, BAKERSFIELD ,CA 93312\"\n",
            "44\t\"Dr. Kara Adams , Sr, QC\"\t\"1400 A ST, APT 6, SAN JOSE ,CA 95139\"\n",
            "45\t\"Mr. Conner Adams , Sr, QA,\"\t\"11419 SAN LUIS ST, APT 6, CAMERON ,TX 77434\"\n",
            "46\t\"Mr. Katelyn Adams , Sr, IQCP,\"\t\"22 PRIORY LN, ANTIOCH ,CA 94531\"\n",
            "47\t\"Mr. Mark Adams , Sr, CLIA,\"\t\"12 SHAKERTON ST, APT 9, TUSTIN ,CA 92780\"\n",
            "48\t\"Mr. Hallie Adams , PhD, QC,\"\t\"4514 OLD ANNETTA RD, APT A, EL MONTE ,CA 91732\"\n",
            "49\t\"Mr. Alexa Alcon , Jr, QA,\"\t\"827 N FIG ST, APT A, MIAMI ,FL 33125\"\n",
            "50\t\"Dean. Hiskenridge Agan , Sr, IQCP,\"\t\"1830 MARSHALL ST, HOUSTON ,TX 77044\"\n",
            "51\t\"Dr. Miles Alby , PhD, CLIA,\"\t\"PO BOX 360, WATSONVILLE ,CA 95077\"\n",
            "52\t\"Ms. AlexagnWestLanham , PhD, QC,\"\t\"1227 ROSEGATE BLVD, APT 8, WATSONVILLE ,CA 95077\"\n",
            "53\t\"Ms. LindsayLangham , Sr, QA,\"\t\"366 MILL ST, STOCKTON ,CA 95207\"\n",
            "54\t\"Mr. DustyLangham , Sr, QC,\"\t\"4630 W 6TH ST, POMONA ,CA 91766\"\n",
            "55\t\"Mr. LillianLynn , PhD, QA,\"\t\"33519 WINSTON WAY, UNIT A, TEMECULA ,CA 92592\"\n",
            "56\t\"Col. LillianLynn , PhD, QC,\"\t\"1060 PORT SULLIVAN DR, LITTLE ELM ,TX 75067\"\n",
            "57\t\"MS. Colin, PhD, QA,\"\t\"12117 MARIGOLD AVE, MORENO VALLEY ,CA 92557\"\n",
            "58\t\"Dean . Felicity Lynn Rose , PhD, QC,\"\t\"17419 LUTHER DR, LOS ANGELES ,CA 90064\"\n",
            "59\t\"Dean. Gattlin Blomgren , Jr, QA,\"\t\"IQCP, RD 42-219, MORENO VALLEY ,CA 92557\"\n",
            "60\t\"Dean. Gyle Blomgren , Sr, CLIA,\"\t\"4100 SW 7TH ST, MIAMI ,FL 33174\"\n",
            "61\t\"Dean. Jonathan Bland , Sr, QC,\"\t\"19033 VANEER PARK RD, APT 6, CHULA VISTA ,CA 91910\"\n",
            "62\t\"Dr. Sarah Bland , Sr, QA,\"\t\"11719 N CLARK AVE, APT 3, MIAMI ,FL 33125\"\n",
            "63\t\"Col. Anthony Bland , Sr, IQCP,\"\t\"PO BOX 755, DANVILLE ,CA 94526\"\n",
            "64\t\"MS. Andrew Bland , Jr, CLIA,\"\t\"2076 GOTHAM ST, FORT SMITH ,AR 72901\"\n",
            "65\t\"Dean . Gyle Bland , Jr, QC,\"\t\"1060 PORT SULLIVAN DR, LITTLE ELM ,TX 77469\"\n",
            "66\t\"Dean. Dustin Bass , Jr, QA,\"\t\"11719 N CLARK AVE, APT 3, MIAMI ,FL 33125\"\n",
            "67\t\"Dean. Marcy Bahls , Jr, IQCP,\"\t\"4106 15TH AVE W, BRADENTON ,FL 34205\"\n",
            "68\t\"Dr. Lindsay Beck , Sr, CLIA,\"\t\"15938 LAGO DEL MAR DR, APT 6, BAKERSFIELD ,CA 93312\"\n",
            "69\t\"Col. Travis Beck , Sr, QC,\"\t\"5501 BRISTOL BAY LN N, SAN ANTONIO ,TX 78232\"\n",
            "70\t\"MS. Emma Baldwin , Sr, QA,\"\t\"10001 OTIS ST, SOUTH GATE ,CA 90280\"\n",
            "71\t\"Dean . Andre Baldwin , Jr, IQCP,\"\t\"9180 WATER RD, COTATI ,CA 94931\"\n",
            "72\t\"Dean. Isaiah Baldwin , Jr, CLIA,\"\n"
          ]
        }
      ]
    },
    {
      "cell_type": "code",
      "source": [
        "gpt2.generate(sess,\n",
        "              length=250,\n",
        "              temperature=0.7,\n",
        "              prefix=\"Taj Mahal\",\n",
        "              nsamples=5,\n",
        "              batch_size=5\n",
        "              )"
      ],
      "metadata": {
        "colab": {
          "base_uri": "https://localhost:8080/"
        },
        "id": "30pyPyhDW0oe",
        "outputId": "336d674e-fbbd-4c0e-ee19-33d2c3e3db1e"
      },
      "execution_count": null,
      "outputs": [
        {
          "output_type": "stream",
          "name": "stdout",
          "text": [
            "Taj Mahal , Sr, QA,\"\t\"552 CALLE MONTEREY, SAN DIMAS ,CA 91741\"\n",
            "211\t\"Mr. Jase Mahaj , Sr, IQCP,\"\t\"1955 MELISSA OAKS DR, GULF BREEZE ,FL 32563\"\n",
            "212\t\"Col. Aiden Miles , Sr, CLIA,\"\t\"PO BOX 1465, ARMONA ,CA 93202\"\n",
            "213\t\"Dean. Layne Mansour , Sr, QC,\"\t\"4521 FOREST CIR, LITTLE ROCK ,AR 72211\"\n",
            "214\t\"Dr. Drew Mehler , Jr, QA,\"\t\"12 POINT lANCASTER ,CA 93535\"\n",
            "215\t\"Mr. Connor McNair , Jr, CLIA,\"\t\"211 OUACHITA ROAD 17, CHIDESTER ,AR 71726\"\n",
            "216\t\"Mr. Shelby Nicks , Jr, QC,\"\t\"107 N FELICIDAD ST, ANAHEIM ,CA 92801\"\n",
            "217\t\"Dean. Kelly Ogrick , Jr, QA,\"\t\"304 CARMON\n",
            "====================\n",
            "Taj Mahal , Sr, QA,\"\t\"221 9TH ST, GREENFIELD ,CA 93927\"\n",
            "285\t\"Dr. Jase Mahaffy , Sr, IQCP,\"\t\"929 TRAMELLS TRL, KISSIMMEE ,FL 34744\"\n",
            "286\t\"Col. Jessica Mahaffy , Sr, CLIA,\"\t\"36CHINIX RD, APT LEO, DALLAS ,TX 75208\"\n",
            "287\t\"Mr. Parsa Michaelson , Sr, QC,\"\t\"10810 MCCLEAREN DR, HOUSTON ,TX 77096\"\n",
            "288\t\"Mr. Jordan Mahaffy , Sr, QA,\"\t\"507 5TH AVE SE, GRAVETTE ,AR 72736\"\n",
            "289\t\"Ms. Billy Munoz , Sr, IQCP,\"\t\"895 KIETH DR, UNIT 163, OCEANSIDE ,CA 92054\"\n",
            "290\t\"Mr. Anthony Munoz , Sr, CLIA,\"\t\"370 MILLWOOD LN, UNIT 163, ESCONDIDO ,CA 92027\"\n",
            "291\t\"Ms. Johnmarco Montgomery , Jr\n",
            "====================\n",
            "Taj Mahal , Sr, QA,\"\t\"11457 STARLIGHT AVE, APT 19, NORTH RICHLAND HILLS ,TX 76180\"\n",
            "364\t\"Ms. Jayden Baker , PhD, \"\t\"QA, 2490 CORINTH AVE, APT 4, NORTH RICHLAND HILLS ,TX 78858\"\n",
            "365\t\"Ms. Lucas Baker , PhD, \"\t\"QC, 2490 PARK SPRINGS CIR, APT 209, PLANT CITY ,FL 33566\"\n",
            "366\t\"Mr. Brendan Baker , PhD, \"\t\"QA, 209 S MAGNOLIA AVE, APT 2, ANAHEIM ,CA 92804\"\n",
            "367\t\"Mr. Toby Baker , PhD, \"\t\"QC, 243 MAGNOLIA ST, MADERA ,CA 92701\"\n",
            "368\t\"Dean. Perrine Aviles , Jr, IQCP,\"\t\"821 NW 33RD AVE, FT LAUDERDALE ,FL 33311\"\n",
            "369\t\"Dr. Nene Aviles , Sr, CLIA,\"\t\"122 NW 33RD AVE, AP\n",
            "====================\n",
            "Taj Mahal, PhD, QC,\"\t\"17 DOMINGUEZ ST, ALISO VIEJO ,CA 92656\"\n",
            "169\t\"Dean . Felicity Ali , PhD, QA,\"\t\"33519 FELIX AVE, APT A, POMONA ,CA 91767\"\n",
            "170\t\"Dean. Gracie Aldama , Sr, CLIA,\"\t\"6875 EDINBURGH RD, CORONA ,CA 92880\"\n",
            "171\t\"Dr. Miranda Aldridge , Sr, QC,\"\t\"1404 NILDA AVE, MOUNTAIN VIEW ,CA 94040\"\n",
            "172\t\"Col. Alex Ellsberg , Sr, QA,\"\t\"16229 AVENIDA DIAZ, LA QUINTA ,CA 92253\"\n",
            "173\t\"MS. Emily Elisha , Sr, IQCP,\"\t\"16722 HASKELL AVE, APT P2, SANTA ANA ,CA 92705\"\n",
            "174\t\"Dean . Grant Ellmers , Sr, CLIA,\"\t\"10317 DILLINGHAM ST, APT 301, STOCKTON ,CA 95207\"\n",
            "175\t\n",
            "====================\n",
            "Taj Mahal , Sr, QC,\"\t\"16711 LOUKELTON ST, LA PUENTE ,CA 91744\"\n",
            "357\t\"Mr. Marissa Mahila , Sr, QA,\"\t\"10442 LUDERS AVE, GARDEN GROVE ,CA 92843\"\n",
            "358\t\"Ms. Alivia Michael , Jr, CLIA,\"\t\"10317 NICKLAUS DR, NEW PORT RICHEY ,FL 34655\"\n",
            "359\t\"Ms. Trevor Michael , Jr, QC,\"\t\"3889 CHENAULT DR, FRISCO ,TX 75034\"\n",
            "360\t\"Dean. Sonny Michael , Sr, QA,\"\t\"15330 W CLAIRMONT CIR, APT 112K-3, TAMARAC ,FL 33321\"\n",
            "361\t\"Dr. Conor Murphy , Jr, IQCP,\"\t\"11457 STARLIGHT AVE, APT 3, TAMPA ,FL 33614\"\n",
            "362\t\"Ms. Nicholas Murphy , Jr, CLIA,\"\t\"1578 THORNWOOD DR, CORONA ,CA 92882\"\n",
            "363\t\"Ms. Trevor Murphy , Jr\n",
            "====================\n"
          ]
        }
      ]
    },
    {
      "cell_type": "markdown",
      "source": [
        "#Text Generation using LSTM"
      ],
      "metadata": {
        "id": "KFFDiWhQvkim"
      }
    },
    {
      "cell_type": "code",
      "source": [
        "f = open('/content/word.txt', 'r')\n",
        "content = f.read()\n"
      ],
      "metadata": {
        "id": "WZLXkbrYvoi3",
        "colab": {
          "base_uri": "https://localhost:8080/",
          "height": 187
        },
        "outputId": "7b627fef-c6c8-4894-f0c6-6f8c4b700252"
      },
      "execution_count": null,
      "outputs": [
        {
          "output_type": "error",
          "ename": "FileNotFoundError",
          "evalue": "ignored",
          "traceback": [
            "\u001b[0;31m---------------------------------------------------------------------------\u001b[0m",
            "\u001b[0;31mFileNotFoundError\u001b[0m                         Traceback (most recent call last)",
            "\u001b[0;32m<ipython-input-20-c27da9b3e6a0>\u001b[0m in \u001b[0;36m<module>\u001b[0;34m\u001b[0m\n\u001b[0;32m----> 1\u001b[0;31m \u001b[0mf\u001b[0m \u001b[0;34m=\u001b[0m \u001b[0mopen\u001b[0m\u001b[0;34m(\u001b[0m\u001b[0;34m'/content/word.txt'\u001b[0m\u001b[0;34m,\u001b[0m \u001b[0;34m'r'\u001b[0m\u001b[0;34m)\u001b[0m\u001b[0;34m\u001b[0m\u001b[0;34m\u001b[0m\u001b[0m\n\u001b[0m\u001b[1;32m      2\u001b[0m \u001b[0mcontent\u001b[0m \u001b[0;34m=\u001b[0m \u001b[0mf\u001b[0m\u001b[0;34m.\u001b[0m\u001b[0mread\u001b[0m\u001b[0;34m(\u001b[0m\u001b[0;34m)\u001b[0m\u001b[0;34m\u001b[0m\u001b[0;34m\u001b[0m\u001b[0m\n",
            "\u001b[0;31mFileNotFoundError\u001b[0m: [Errno 2] No such file or directory: '/content/word.txt'"
          ]
        }
      ]
    },
    {
      "cell_type": "code",
      "source": [
        "\n",
        "print('Corpus length:', len(text))"
      ],
      "metadata": {
        "id": "RuSRSpMZv2CZ"
      },
      "execution_count": null,
      "outputs": []
    },
    {
      "cell_type": "code",
      "source": [
        "import keras\n",
        "import numpy as np\n",
        "\n",
        "path = keras.utils.get_file(\n",
        "    'nietzsche.txt',\n",
        "    origin='https://s3.amazonaws.com/text-datasets/nietzsche.txt')\n",
        "text = open(path).read().lower()\n",
        "print('Corpus length:', len(text))"
      ],
      "metadata": {
        "id": "VIYGg-LNvmo9",
        "colab": {
          "base_uri": "https://localhost:8080/"
        },
        "outputId": "c5e02827-2e60-4c29-866a-c771a8a33569"
      },
      "execution_count": null,
      "outputs": [
        {
          "output_type": "stream",
          "name": "stdout",
          "text": [
            "Downloading data from https://s3.amazonaws.com/text-datasets/nietzsche.txt\n",
            "600901/600901 [==============================] - 0s 0us/step\n",
            "Corpus length: 600893\n"
          ]
        }
      ]
    },
    {
      "cell_type": "code",
      "source": [
        "import keras\n",
        "import numpy as np\n",
        "\n",
        "f = open('/content/CleanedDatasetEntire1.txt', 'r')\n",
        "text = f.read()\n"
      ],
      "metadata": {
        "id": "TAyidyF9FdVR"
      },
      "execution_count": null,
      "outputs": []
    },
    {
      "cell_type": "code",
      "source": [
        "text"
      ],
      "metadata": {
        "colab": {
          "base_uri": "https://localhost:8080/",
          "height": 161
        },
        "id": "sn8puQUdGVAo",
        "outputId": "a2c22333-85b2-4d72-c440-034cf967ef99"
      },
      "execution_count": null,
      "outputs": [
        {
          "output_type": "execute_result",
          "data": {
            "text/plain": [
              "'Number\\tName\\tAddress\\n2\\t\"Dean. Alex Abadi , Jr, QA, \"\\t\"14646 RANCHERO RD, HESPERIA ,CA 92345\"\\n3\\t\"Dr. Lyla Abbatiello , Jr, CLIA, \"\\t\"517 N MOUNTAIN AVE, # 202, UPLAND ,CA 91786\"\\n4\\t\"Mr. Kylia Abbott , Jr, QC, \"\\t\"2731 PONKAN MEADOW DR, APOPKA ,FL 32712\"\\n5\\t\"Mrs. Bryce Abbott , Jr, QA, \"\\t\"237 SAINT TROPEZ LN, LINCOLN ,CA 95648\"\\n6\\t\"Ms. Daniela Abella , PhD, IQCP,\"\\t\"20054 CHICKEN DR, DECATUR ,AR 72722\"\\n7\\t\"Mr. Jacob Abraham , Jr, CLIA, \"\\t\"3006 E 17TH ST, # 6, OAKLAND ,CA 94601\"\\n8\\t\"Mr. Reily Acevedo , PhD, QC,\"\\t\"15123 BROOKHURST ST, APT 357, WESTMINSTER ,CA 92683\"\\n9\\t\"Col. Micaela Acevedo , PhD, QA, \"\\t\"1724 HORIZON HEIGHTS CIR, EL CAJON ,CA 92019\"\\n10\\t\"Mr. Breonia Adam , PhD, QC, \"\\t\"513 LANDWYCK LN, FLOWER MOUND ,TX 75028\"\\n11\\t\"Mr. Miranda Adam , Jr, QA,\"\\t\"3503 E CORNELL ST, LUBBOCK ,TX 79403\"\\n12\\t\"Mr. Madelyn Adams , Sr, CLIA\"\\t\"102 HILLVIEW DR, CLOVERDALE ,CA 95425\"\\n13\\t\"Mr. Jase Adams , PhD, QC, \"\\t\"1940 MARKET ST, FERNDALE ,CA 95536\"\\n14\\t\"Col. Jessica Adams , PhD, QA, \"\\t\"3120 11TH ST SW, LEHIGH ACRES ,FL 33976\"\\n15\\t\"Dean. Samuel Adams , Sr, IQCP, \"\\t\"11419 SAN MINIATO AVE, BAKERSFIELD ,CA 93312\"\\n16\\t\"Dr. Kara Adams , Sr, QC\"\\t\"12 CHATHAM CT, SAN JOSE ,CA 95139\"\\n17\\t\"Mr. Brittany Adams , Sr, QA,\"\\t\"PO BOX 436, PRAIRIE GROVE ,AR 72753\"\\n18\\t\"Mrs. Mykenzi Adams , PhD, \"\\t\"CLIA, 3902 FM 1653, CANTON ,TX 75103\"\\n19\\t\"Ms. Xaivore Adcock , PhD, \"\\t\"QC, 7010 ALMOND GREEN DR, SAN ANTONIO ,TX 78250\"\\n20\\t\"Mr. Jackson Adeeb , PhD, \"\\t\"QA, 2490 CORINTH AVE, APT 3, LOS ANGELES ,CA 90064\"\\n21\\t\"Ms. Nicole Adkins , Jr, IQCP, \"\\t\"36718 COTTONWOOD ST, WINCHESTER ,CA 92596\"\\n22\\t\"Ms. Dalton Agan , Sr, CLIA, \"\\t\"1204 NILDA AVE, MOUNTAIN VIEW ,CA 94040\"\\n23\\t\"Ms. Brian Aguilar , Sr, QC,\"\\t\"481 LESTER AVE, CLOVIS ,CA 93619\"\\n24\\t\"Ms. Casey Aguilar , Jr, QA, \"\\t\"47-325 BORDEAUX DR, LA QUINTA ,CA 92253\"\\n25\\t\"Ms. Janea Aguilera , Jr, QC, \"\\t\"5710 ONIA LN, RICHMOND ,TX 77469\"\\n26\\t\"Ms. Lucas Ahlbach , Jr, QA, \"\\t\"622 SPRINGDALE CIR, PALM SPRINGS ,FL 33461\"\\n27\\t\"Dean. Julia Aitken , Sr, CLIA, \"\\t\"10 CALLE DE VIDA, RANCHO SANTA MARGARITA ,CA 92688\"\\n28\\t\"Dr. Tea Akins , Sr, QC, \"\\t\"3107 GALLOWAY OAKS DR, LAKELAND ,FL 33810\"\\n29\\t\"Mr. Qais Al-Sabahi , Sr, QA, \"\\t\"2808 40TH AVE W, BRADENTON ,FL 34205\"\\n30\\t\"Mr. Parsa Alaeddini , Sr, IQCP,\"\\t\"311 N ROBERTSON BLVD, # 656, BEVERLY HILLS ,CA 90211\"\\n31\\t\"Mr. Carolina Alaniz , Jr, QA, \"\\t\"612 28TH ST, RICHMOND ,CA 94804\"\\n32\\t\"Dean. Aryanna Albarran , Jr, CLIA, \"\\t\"3508 SIMSBURY CT, CARLSBAD ,CA 92010\"\\n33\\t\"Dr. Micah Albonico , Sr, QC, \"\\t\"2003 KIMBROOK DR, ROUND ROCK ,TX 78681\"\\n34\\t\"Mr. Anyssa Alcantar , Jr, QA, \"\\t\"1514 OLD ANNETTA RD, ALEDO ,TX 76008\"\\n35\\t\"Mr. Alexa Alcon , Jr, IQCP, \"\\t\"PO BOX 755, DANVILLE ,CA 94526\"\\n36\\t\"Dean. Gracie Aldama , Jr, CLIA, \"\\t\"2046 JEWELL LEE LN, PENSACOLA ,FL 32534\"\\n37\\t\"Dr. Tristan Alderman , Sr, QC, \"\\t\"709 S 3RD AVE, PARAGOULD ,AR 72450\"\\n38\\t\"Mr. Jim Aldridge , Sr, QA,\"\\t\"6000 63RD TER, PINELLAS PARK ,FL 33781\"\\n39\\t\"Mr. Zackry Aldridge , Sr, CLIA,\"\\t\"329 S VILLAGE DR, MCKINNEY ,TX 75070\"\\n40\\t\"Dean. Ricky Aleman , Jr, QC,\"\\t\"10550 BOLSA AVE, APT 19, GARDEN GROVE ,CA 92843\"\\n41\\t\"Dr. Daniel Alexander , Jr, QA,\"\\t\"21527 BLACK OPAL LN, KINGWOOD ,TX 77339\"\\n42\\t\"Ms. Zachary Alexander , Jr, IQCP,\"\\t\"6161 NW 44TH TER, COCONUT CREEK ,FL 33073\"\\n43\\t\"Ms. Brooke Alexander , Jr, CLIA,\"\\t\"36491 YAMAS DR, APT 3205, WILDOMAR ,CA 92595\"\\n44\\t\"Ms. Olivia Alexander , Sr, QC,\"\\t\"17460 CAMINITO BAYA, SAN DIEGO ,CA 92127\"\\n45\\t\"Mr. Mirabella Alexander , Sr, QA,\"\\t\"24850 HANCOCK AVE, APT B207, MURRIETA ,CA 92562\"\\n46\\t\"Mr. Kyree Alexander , Sr, IQCP,\"\\t\"4894 N GEARHART AVE, FRESNO ,CA 93726\"\\n47\\t\"Dean. Sonny Alfieri , Jr, CLIA,\"\\t\"47085 CHRIS ALLEN WAY, AGUANGA ,CA 92536\"\\n48\\t\"Dr. Cathon Alford , Jr, QC,\"\\t\"106 HERCULES ST, APT B, SHEPPARD AFB ,TX 76311\"\\n49\\t\"Col. Sam Alimentato , PhD, QA,\"\\t\"12285 MORRISON ST, MORENO VALLEY ,CA 92555\"\\n50\\t\"MS. Lilly Alldredge , Jr, CLIA,\"\\t\"8243 WORMWOOD RD, JACKSONVILLE ,FL 32210\"\\n51\\t\"Ms. Bradley Allen , Jr, QC,\"\\t\"3905 SAN GABRIEL DR, PENSACOLA ,FL 32504\"\\n52\\t\"Ms. Angel Allen , Jr, QA,\"\\t\"5609 VICTORIA GARDENS BLVD, APT 1106, PORT ORANGE ,FL 32127\"\\n53\\t\"Mr. Sean Allen , Jr, IQCP,\"\\t\"5241 MILLENIA BLVD, APT 209, ORLANDO ,FL 32839\"\\n54\\t\"Mr. Miles Allen , PhD,\"\\t\"CLIA, 1130 SUNSET DR, VISTA ,CA 92081\"\\n55\\t\"Dean. Peyton Allen , Jr, QC,\"\\t\"122 N BLOOMINGTON ST, STE F, LOWELL ,AR 72745\"\\n56\\t\"Dr. Lindsay Allen , PhD, QA,\"\\t\"701 REDWOOD BLVD, APT 77, REDDING ,CA 96003\"\\n57\\t\"Col. DaMarea Allen , PhD, QC,\"\\t\"9924 REGENT CIR, LITTLE ROCK ,AR 72204\"\\n58\\t\"MS. Lucy Allen , PhD, QA,\"\\t\"6127 PLAYFAIR WAY, CORONA ,CA 92880\"\\n59\\t\"Dean . Quinton Allinger , Jr, CLIA,\"\\t\"5726 COBBLESTONE DR, ROCKLIN ,CA 95765\"\\n60\\t\"Dean. Bilal Almi , Sr, QC,\"\\t\"366 W SUMMERFIELD CIR, ANAHEIM ,CA 92802\"\\n61\\t\"Dean. Isaiah Alonso , PhD, QA,\"\\t\"124 PENNSYLVANIA DR, JACKSONVILLE ,AR 72076\"\\n62\\t\"Dr. Toni Alonzo , PhD, IQCP,\"\\t\"4270 GRAND VIEW BLVD, LOS ANGELES ,CA 90066\"\\n63\\t\"Col. Lyan Alsaeedi , Sr,\"\\t\"CLIA, 302 MEADOW LN, HITCHCOCK ,TX 77563\"\\n64\\t\"MS. Harold Alvarez , Sr, QC,\"\\t\"1106 E FREEDOM, SILOAM SPRINGS ,AR 72761\"\\n65\\t\"Ms. Isaac Alvarez , Sr, QA,\"\\t\"27511 CAPRICHO, MISSION VIEJO ,CA 92692\"\\n66\\t\"Ms. Jessica Amanti , PhD,\"\\t\"IQCP, 892 MICHAEL DR, APT 4, CAMPBELL ,CA 95008\"\\n67\\t\"Mr. Julissa Amaya , PhD, CLIA,\"\\t\"PO BOX 2606, SAN RAMON ,CA 94583\"\\n68\\t\"Mr. Liberty Amdahl , PhD, QC,\"\\t\"290 W RANDALL WOBBE LN, SPRINGDALE ,AR 72764\"\\n69\\t\"Dean. Josh Amerson , Jr, QA,\"\\t\"772 WALKER CUTOFF, MALVERN ,AR 72104\"\\n70\\t\"Dr. Kaiya Amin , Sr, IQCP,\"\\t\"31013 OAKHILL DR, TEMECULA ,CA 92591\"\\n71\\t\"Col. Katelyn Amos , Sr, CLIA,\"\\t\"552 CALLE MONTEREY, SAN DIMAS ,CA 91773\"\\n72\\t\"MS. Katie Amstutz , Jr, QC,\"\\t\"PO BOX 310095, GUATAY ,CA 91931\"\\n73\\t\"Dean . Olivia Anagnostopolous , Jr, QA,\"\\t\"901 E RANCHCREEK RD, COVINA ,CA 91724\"\\n74\\t\"Dean. Santino Anastasia , Jr, CLIA,\"\\t\"7486 CHASE AVE, HESPERIA ,CA 92345\"\\n75\\t\"Dean. McKenzie Anderson , Sr, QC,\"\\t\"2870 COLUMBINE CT, THOUSAND OAKS ,CA 91360\"\\n76\\t\"Dr. Brendan Anderson , Sr, QA,\"\\t\"4070 HUERFANO AVE, APT 218, SAN DIEGO ,CA 92117\"\\n77\\t\"Col. Ariana Anderson , Sr, IQCP,\"\\t\"870 SEQUOIA BLVD, TRACY ,CA 95376\"\\n78\\t\"MS. Andrew Anderson , Sr, CLIA,\"\\t\"1400 COMMANCHE CIR, ATLANTA ,TX 75551\"\\n79\\t\"Ms. Wyatt Anderson , Jr, QC,\"\\t\"4101 ROCKY RIDGE TRL, ROGERS ,AR 72756\"\\n80\\t\"Ms. Allison Anderson , Jr, QA,\"\\t\"15130 WRIGHT CT, FONTANA ,CA 92336\"\\n81\\t\"Mr. Ashley Anderson , Sr, IQCP,\"\\t\"300 N LAUREL ST, BRYANT ,AR 72022\"\\n82\\t\"Mr. Syrenitee Anderson , Jr, CLIA,\"\\t\"27170 WESTVIEW LN, VALENCIA ,CA 91354\"\\n83\\t\"Dean. Kelly Anderson , Jr, QC,\"\\t\"211 OUACHITA ROAD 17, CHIDESTER ,AR 71726\"\\n84\\t\"Dr. Natasha Anderson , Jr, QA,\"\\t\"113 GALVESTON RD, HOT SPRINGS NATIONAL PARK ,AR 71913\"\\n85\\t\"Col. Paxton Andrews , Sr, IQCP,\"\\t\"4174 CIRRUS WAY, RIVERSIDE ,CA 92503\"\\n86\\t\"MS. Peter Andromidas , Sr, CLIA,\"\\t\"784 LAKE DOE BLVD, APOPKA ,FL 32703\"\\n87\\t\"Dean . Destiny Aniagor , Sr, QC,\"\\t\"11715 BAIRD AVE, PORTER RANCH ,CA 91326\"\\n88\\t\"Dean. Maya Annunziato , Sr, QA,\"\\t\"3511 MAXSON RD, APT A, EL MONTE ,CA 91732\"\\n89\\t\"Dean. Tramiris Anthony , Jr, CLIA,\"\\t\"104 1/2 N BELLE AVE, CORONA ,CA 92882\"\\n90\\t\"Dr. Emmalee Antkoviak , Jr, QC,\"\\t\"5909 MASTERSON DR, PLANO ,TX 75093\"\\n91\\t\"Col. Emmery Antoine , Jr, QA,\"\\t\"2414 N TUSTIN AVE, APT P2, SANTA ANA ,CA 92705\"\\n92\\t\"MS. Naisya Antoine , Jr, IQCP,\"\\t\"6550 SE 42ND CT, OCALA ,FL 34480\"\\n93\\t\"Ms. Jaliscia Antonio , Sr, CLIA,\"\\t\"15023 ASH ST, HESPERIA ,CA 92345\"\\n94\\t\"Ms. Billy Apenowich , Sr, QC,\"\\t\"1117 E SUMPTER ST, MEXIA ,TX 76667\"\\n95\\t\"Mr. Blake Appleton , Sr, QA,\"\\t\"128 FAIRHILL LN, GUN BARREL CITY ,TX 75156\"\\n96\\t\"Mr. Michael Arana , Jr, IQCP,\"\\t\"1215 OHIO AVE, LONG BEACH ,CA 90804\"\\n97\\t\"Dean. Annmarie Arango , Jr, CLIA,\"\\t\"627 S VELARE ST, APT 16, ANAHEIM ,CA 92804\"\\n98\\t\"Dr. Alyssa Arends , PhD, QC,\"\\t\"5140 WESTCHASE LOOP, LUMBERTON ,TX 77657\"\\n99\\t\"Col. Celeste Areolla , Jr, QA,\"\\t\"31332 GLENDALOUGH WAY, WESLEY CHAPEL ,FL 33545\"\\n100\\t\"MS. Ryan Arevalo , Jr, IQCP,\"\\t\"1830 MARSHALL ST, HOUSTON ,TX 77098\"\\n101\\t\"Dean . Liliana Arias , Jr, CLIA,\"\\t\"101 S COIT RD, NO 36-219, RICHARDSON ,TX 75080\"\\n102\\t\"Dean. Layne Armstrong , Jr, QC,\"\\t\"PO BOX 52332, IRVINE ,CA 92619\"\\n103\\t\"Dean. Wilson Armstrong , PhD,\"\\t\"QA, PO BOX 940, ALACHUA ,FL 32616\"\\n104\\t\"Dr. Wade Armstrong , Jr, CLIA,\"\\t\"4511 COUNTRY GATE CT, VALRICO ,FL 33596\"\\n105\\t\"Col. Trey Armstrong , PhD,\"\\t\"QC, 9647 SHALE ST, ALTA LOMA ,CA 91737\"\\n106\\t\"MS. Conner Arneson , PhD,\"\\t\"QA, 372 MANOR PARK CIR, PACHECO ,CA 94553\"\\n107\\t\"Ms. Adin Arnett , PhD,\"\\t\"IQCP, 201 S MAGNOLIA AVE, APT 22, ANAHEIM ,CA 92804\"\\n108\\t\"Ms. Kira Arney , Jr,\"\\t\"CLIA, 11320 BAIRD AVE, PORTER RANCH ,CA 91326\"\\n109\\t\"Mr. Christian Arnold , Sr, QC,\"\\t\"7303 LUTHER DR, SACRAMENTO ,CA 95823\"\\n110\\t\"Mr. Conner Arnold , PhD, QA,\"\\t\"913 WAYSIDE WAY, RICHARDSON ,TX 75080\"\\n111\\t\"Dean. Regan Arnold , PhD, IQCP,\"\\t\"1431 FORRESTAL AVE, SAN JOSE ,CA 95110\"\\n112\\t\"Dr. Roberto Arreguin Jr , Sr, CLIA,\"\\t\"7111 SAN PABLO DR, HOUSTON ,TX 77083\"\\n113\\t\"Col. Abigail Arrenholz , Sr, QC,\"\\t\"1578 THORNWOOD DR, CONCORD ,CA 94521\"\\n114\\t\"MS. Alex Arrieta , Sr, QA,\"\\t\"328 CARPIO DR, DIAMOND BAR ,CA 91765\"\\n115\\t\"Dean . Felicity Arrington , PhD, IQCP,\"\\t\"17 DOMINGUEZ ST, ALISO VIEJO ,CA 92656\"\\n116\\t\"Dean. Hunny Bunny Arriola , PhD, CLIA,\"\\t\"11581 CLIFFWOOD CT, RIVERSIDE ,CA 92505\"\\n117\\t\"Dean. Grace Arrowood , PhD, QC,\"\\t\"1030 N MAGNOLIA AVE, APT 219, ANAHEIM ,CA 92801\"\\n118\\t\"Dr. Audrey Arrowood , Jr, QA,\"\\t\"10808 BANCROFT AVE, OAKLAND ,CA 94603\"\\n119\\t\"Col. Armani Artis , Sr, CLIA,\"\\t\"5002 SHADOWOOD TRL, COLLEYVILLE ,TX 76034\"\\n120\\t\"MS. Elijah Aschbrenner , Sr, QC,\"\\t\"2324 GREENWICH ST, SAN FRANCISCO ,CA 94123\"\\n121\\t\"Ms. Jenna Aschenbrenner , Jr, QA,\"\\t\"PO BOX 360338, MILPITAS ,CA 95036\"\\n122\\t\"Ms. Samantha Ashburn , Jr, IQCP,\"\\t\"272 SAN LUIS ST, POMONA ,CA 91767\"\\n123\\t\"Mr. Michael Ashley , Jr, CLIA,\"\\t\"17300 NW 68TH AVE, APT 203, HIALEAH ,FL 33015\"\\n124\\t\"Mr. Dusty Ashmore , Sr, QC,\"\\t\"963 E EL CAMINO REAL , # 324, SUNNYVALE ,CA 94087\"\\n125\\t\"Dean. Gregory Astorga , Sr, QA,\"\\t\"484 LAKEPORT AVE, # 261, OAKLAND ,CA 94610\"\\n126\\t\"Dr. Laci Atwood , Sr, IQCP,\"\\t\"4901 STIMSON ST, APT 4, HOUSTON ,TX 77023\"\\n127\\t\"Col. Stephanie Austin , Sr, CLIA,\"\\t\"540 W WILSON AVE, APT 106, GLENDALE ,CA 91203\"\\n128\\t\"MS. Isaiah Austin , Jr, QC,\"\\t\"6846 ARROWCHASE CT, KATY ,TX 77449\"\\n129\\t\"Dean . James Auxier , Jr, QA,\"\\t\"15325 ORANGE AVE, SPC F14, PARAMOUNT ,CA 90723\"\\n130\\t\"Dean. Isabel Avalos , Sr, IQCP,\"\\t\"PO BOX 1931, SALINAS ,CA 93902\"\\n131\\t\"Dean. Larry Avent Jr , Jr, CLIA,\"\\t\"6855 PALOS DR, RIVERSIDE ,CA 92503\"\\n132\\t\"Dr. Luca Aversa , Jr, QC,\"\\t\"1502 SUDBURY DR, PASADENA ,TX 77504\"\\n133\\t\"Col. Zaida Aviles , Jr, QA,\"\\t\"12074 FERINA ST, NORWALK ,CA 90650\"\\n134\\t\"MS. Kaylee Avina-Luna , Sr, CLIA,\"\\t\"8620 COMPTON AVE, LOS ANGELES ,CA 90002\"\\n135\\t\"Ms. Shining Ayaan , Sr, QC,\"\\t\"8242 PETERS AVE, MIDWAY CITY ,CA 92655\"\\n136\\t\"Ms. William Ayerle , Sr, QA,\"\\t\"2744 ALLESSANDRA CT, LANCASTER ,CA 93535\"\\n137\\t\"Mr. Will Ayers , Sr, IQCP,\"\\t\"4945 CONWAY TER, FREMONT ,CA 94555\"\\n138\\t\"Mr. Brandon Azuara , Jr, CLIA,\"\\t\"2130 GOLDRIDGE ST, SELMA ,CA 93662\"\\n139\\t\"Dean. Anna B , Jr, QC,\"\\t\"725 ACACIA ST, LAKE ELSINORE ,CA 92530\"\\n140\\t\"Dr. Catherine Babcock , Jr, QA,\"\\t\"4552 ABRUZZI CIR, STOCKTON ,CA 95206\"\\n141\\t\"Col. Luke Baca , Jr, IQCP,\"\\t\"404 GRAVES AVE, FLORESVILLE ,TX 78114\"\\n142\\t\"MS. Luke Baca , Sr, CLIA,\"\\t\"12549 CLALLAM RD, APPLE VALLEY ,CA 92308\"\\n143\\t\"Dean . Luke Baca , Sr, QC,\"\\t\"44534 STONEBRIDGE LN, LANCASTER ,CA 93536\"\\n144\\t\"Dean. Danny Bacsik , Sr, QA,\"\\t\"10001 OTIS ST, SOUTH GATE ,CA 90280\"\\n145\\t\"Dr. Stephanie Bader , Jr, IQCP,\"\\t\"9180 WATER RD, COTATI ,CA 94931\"\\n146\\t\"Col. Makayla Baetzel , Jr, CLIA,\"\\t\"12400 CYPRESS AVE, SPC 154, CHINO ,CA 91710\"\\n147\\t\"MS. Nolan Baggett , PhD, QC,\"\\t\"534 E PIERSON ST, HAMILTON ,TX 76531\"\\n148\\t\"Dean . Nolan Baggett , Jr, QA,\"\\t\"625 60TH ST, SAN DIEGO ,CA 92114\"\\n149\\t\"Dean. Krista Bagley , Jr, CLIA,\"\\t\"13590 CORCORAN ST, SAN FERNANDO ,CA 91340\"\\n150\\t\"Dean. Marcy Bahls , Jr, QC,\"\\t\"404 TIEGS ST, LEAGUE CITY ,TX 77573\"\\n151\\t\"Dr. Levi Bailey , Jr, QA,\"\\t\"3056 MAUDE ST, RIVERSIDE ,CA 92506\"\\n152\\t\"Col. Scottie Bailey , PhD,\"\\t\"IQCP, 54200 AVENIDA DIAZ, LA QUINTA ,CA 92253\"\\n153\\t\"MS. Emma Bailie , Jr, CLIA,\"\\t\"16018 KATHERINE ST, FONTANA ,CA 92335\"\\n154\\t\"Ms. Jayden Baker , PhD, QC,\"\\t\"950 N DUESENBERG DR, APT 11203, ONTARIO ,CA 91764\"\\n155\\t\"Ms. Ashley Baker , PhD, QA,\"\\t\"430 N CORONADO ST, APT 8, LOS ANGELES ,CA 90026\"\\n156\\t\"Mr. Jayden Baker , PhD, QC,\"\\t\"1774 GOTHAM ST, CHULA VISTA ,CA 91913\"\\n157\\t\"Mr. Jayden Baker , Jr, QA,\"\\t\"107 W 6TH ST, ROCKPORT ,TX 78382\"\\n158\\t\"Dean. Daniel Baker , Sr, CLIA,\"\\t\"425 PINEVIEW LN, FORT WORTH ,TX 76140\"\\n159\\t\"Dr. Kyle Baker , PhD, QC,\"\\t\"405 RANCHO ARROYO PKWY, APT 229, FREMONT ,CA 94536\"\\n160\\t\"Col. Anthony Baker-LaViolette , PhD, QA,\"\\t\"1030 W MAGNOLIA ST, COMPTON ,CA 90220\"\\n161\\t\"MS. Millie Baldwin , Sr, IQCP\"\\t\"3277 MORNING RIDGE AVE, THOUSAND OAKS ,CA 91362\"\\n162\\t\"Dean . Grant Balentyne , Sr, CLIA,\"\\t\"5720 FOREST PARK RD, APT 2406, DALLAS ,TX 75235\"\\n163\\t\"Dean. John Balestreri , Sr, QC,\"\\t\"1121 CROMWELL ST, POMONA ,CA 91768\"\\n164\\t\"Dean. Emily Ball , PhD, QA,\"\\t\"33519 WINSTON WAY, UNIT A, TEMECULA ,CA 92592\"\\n165\\t\"Dr. Jacob Ballard , PhD, QC,\"\\t\"1060 PORT SULLIVAN DR, LITTLE ELM ,TX 75068\"\\n166\\t\"Col. Kayleigh Banfalvy , PhD, QA,\"\\t\"11457 STARLIGHT AVE, WHITTIER ,CA 90604\"\\n167\\t\"MS. Jeremy Banish , Jr, CLIA,\"\\t\"8308 GLENDON WAY, SACRAMENTO ,CA 95829\"\\n168\\t\"Ms. Hailey Bankhead , Sr, QC,\"\\t\"6027 3RD AVE, LOS ANGELES ,CA 90043\"\\n169\\t\"Ms. Hannah Bankos , Sr,QA,\"\\t\" 9547 N BOYD AVE, FRESNO ,CA 93720\"\\n170\\t\"Mr. Janessa Banks , Jr, IQCP,\"\\t\"PO BOX 138083, CLERMONT ,FL 34713\"\\n171\\t\"Mr. Madison Banks , Jr, QC,\"\\t\"29972 GRANGER PL, CASTAIC ,CA 91384\"\\n172\\t\"Dean. Adlee Barajas , Jr, QA,\"\\t\"4423 STOREY AVE, MIDLAND ,TX 79703\"\\n173\\t\"Dr. Isaac Barba , Sr, CLIA,\"\\t\"64 RANCHO DR, TIBURON ,CA 94920\"\\n174\\t\"Col. Lane Barber , Sr, QC,\"\\t\"789 N CENTRAL AVE, MODESTO ,CA 95351\"\\n175\\t\"MS. Molly Barcalow , Sr, QA,\"\\t\"9279B LAKE MURRAY BLVD, SAN DIEGO ,CA 92119\"\\n176\\t\"Dean . Diego Barch , Sr, IQCP,\"\\t\"2960 COLONY DR, TRACY ,CA 95376\"\\n177\\t\"Dean. Edward Barcus Jr , Jr, CLIA,\"\\t\"16537 NICOYA DR, HACIENDA HEIGHTS ,CA 91745\"\\n178\\t\"Col. Emily Barger , Jr, QC,\"\\t\"22 PRIORY LN, PALM COAST ,FL 32164\"\\n179\\t\"Dean. Jacob Barker , Sr, QA,\"\\t\"2508 PARADISE CIR, KISSIMMEE ,FL 34741\"\\n180\\t\"Dr. Zack Barker , Jr, QC,\"\\t\"10070 SW 77TH CT, MIAMI ,FL 33156\"\\n181\\t\"Mr. Dani Barker , Jr, QA,\"\\t\"604 INTERLUDE LN, ORLANDO ,FL 32824\"\\n182\\t\"Mrs. Lauren Barkman , Jr, CLIA,\"\\t\"7047 SAN VICENTE ST, PARAMOUNT ,CA 90723\"\\n183\\t\"Ms. Rocco Barkoff , Sr, QC\"\\t\"7831 MELROSE ST, BUENA PARK ,CA 90621\"\\n184\\t\"Mr. Aaron Barlow , Sr, QA\"\\t\", 412 MILAGROSA CIR, CHULA VISTA ,CA 91910\"\\n185\\t\"Mr. Katherine Barnard , Sr, IQCP\"\\t\", 3200 COLLINS AVE, APT 81, MIAMI BEACH ,FL 33140\"\\n186\\t\"Col. Amber Barnard , Sr, QC,\"\\t\"6403 CORMORANT CIR, ROCKLIN ,CA 95765\"\\n187\\t\"Mr. Morgan Barnes , Jr, QA,\"\\t\"6137 GOLIAD AVE, DALLAS ,TX 75214\"\\n188\\t\"Mr. Braedyn Barnes , Jr, CLIA,\"\\t\"12250 S KIRKWOOD RD, APT 1411, STAFFORD ,TX 77477\"\\n189\\t\"Mr. Blake Barnes , Jr, QC,\"\\t\"4416 N CLARK AVE, APT 3, TAMPA ,FL 33614\"\\n190\\t\"Mr. Braedyn Barnes , Jr, QA,\"\\t\"7890 LAGO DEL MAR DR, APT 144, BOCA RATON ,FL 33433\"\\n191\\t\"Col. Arley Barnett , Sr, IQCP,\"\\t\"3808 DAUPHINE ST, SEBRING ,FL 33872\"\\n192\\t\"Dean. Austin Barnett , Sr, CLIA,\"\\t\"8803 VAN NUYS BLVD, APT 6, PANORAMA CITY ,CA 91402\"\\n193\\t\"Dr. Sarah Barr , Sr, QC,\"\\t\"3010 REYNA ST, CORPUS CHRISTI ,TX 78405\"\\n194\\t\"Mr. Jakob Barrera , Jr, QA,\"\\t\"2369 WHISPERING MAPLE DR, ORLANDO ,FL 32837\"\\n195\\t\"Mrs. Santiago Barrera , Jr, QC,\"\\t\"938 N FELICIDAD ST, ANAHEIM ,CA 92801\"\\n196\\t\"Ms. Joselyn Barrett , Jr, QA,\"\\t\"1831 PALM ST, HOUSTON ,TX 77004\"\\n197\\t\"Mr. Brendan Barrie , Sr, , CLIA,\"\\t\"PO BOX 2022, FREEDOM ,CA 95019\"\\n198\\t\"Ms. MaKennah Barron , Sr, QC,\"\\t\"1131 S ALDER AVE, ORLANDO ,FL 32807\"\\n199\\t\"Ms. Sam Barrow , Sr, QA,\"\\t\"12010 GREENROCK LN, HOUSTON ,TX 77044\"\\n200\\t\"Ms. Dryden Barry , Sr, IQCP,\"\\t\"475 N MIDWAY DR, UNIT 163, ESCONDIDO ,CA 92027\"\\n201\\t\"Ms. John Bartels , Jr, QC,\"\\t\"4548 STERN AVE, SHERMAN OAKS ,CA 91423\"\\n202\\t\"Ms. Alivia Bartlett , Jr, QA,\"\\t\"235 S SAN AUGUSTINE AVE, SAN ANTONIO ,TX 78237\"\\n203\\t\"Ms. Audrianna Bartol , Jr, CLIA,\"\\t\"23 MIDWAY AVE, SALINAS ,CA 93905\"\\n204\\t\"Dean. Dustin Bass , Jr, QC,\"\\t\"45 MCCARTHY AVE, SAN FRANCISCO ,CA 94134\"\\n205\\t\"Dr. Johnny Bass Jr , Sr, QA,\"\\t\"1403 WOLF CT, SALINAS ,CA 93905\"\\n206\\t\"Mr. Alexis Bassett , Sr, IQCP\"\\t\"24 ISLAND VIEW DR, BAY POINT ,CA 94565\"\\n207\\t\"Mr. Camden Bataille , Sr, CLIA,\"\\t\"103 JOHN ST, ENGLAND ,AR 72046\"\\n208\\t\"Mr. Lilly Batche , Jr, QC,\"\\t\"18621 NW 42ND CT, MIAMI GARDENS ,FL 33055\"\\n209\\t\"Dean. Rebekah Batchelor , Jr, QA,\"\\t\"1231 27TH AVE S, ST PETERSBURG ,FL 33705\"\\n210\\t\"Dr. Keanah Bates , Jr, QC,\"\\t\"PO BOX 1353, WATSONVILLE ,CA 95077\"\\n211\\t\"Mr. Reyna Bates , Sr, QA,\"\\t\"12117 MARIGOLD AVE, MORENO VALLEY ,CA 92557\"\\n212\\t\"Mr. Alianna Batista , Sr, CLIA\"\\t\"1863 SW 9TH ST, MIAMI ,FL 33135\"\\n213\\t\"Dean. Ivy Batmale , Sr, QC,\"\\t\"2838 1/2 MCGEE AVE, BERKELEY ,CA 94703\"\\n214\\t\"Dr. Endsley Batton , Sr, QA,\"\\t\"5220 CHOLLAS PKWY, SAN DIEGO ,CA 92105\"\\n215\\t\"Mr. Jasper Bauer , Jr, IQCP,\"\\t\"11096 GINGERWOOD WAY, RANCHO CORDOVA ,CA 95670\"\\n216\\t\"Mr. Arie Baugh , Jr, QA,\"\\t\"1813 SW 107TH AVE, APT 2409, MIAMI ,FL 33165\"\\n217\\t\"Dean. Sheridan Bautista , Jr, IQCP,\"\\t\"3161 FM 660, FERRIS ,TX 75125\"\\n218\\t\"Dr. Claire Bautista , Jr, CLIA,\"\\t\"122 NW 110TH ST, MIAMI SHORES ,FL 33168\"\\n219\\t\"Ms. Jordan Baxter , Sr, QC,\"\\t\"1440 BRIAR OAK DR, ROYAL PALM BEACH ,FL 33411\"\\n220\\t\"Ms. Andrew Bay , Sr, QA,\"\\t\"1421 S DALLAS, FORT SMITH ,AR 72901\"\\n221\\t\"Ms. Christopher Bayardo , Sr, IQCP,\"\\t\"1240 HASTINGS RANCH DR, PASADENA ,CA 91107\"\\n222\\t\"Mr. Nathaniel Bayless , Jr, CLIA,\"\\t\"7547 VAN NESS, SAN ANTONIO ,TX 78251\"\\n223\\t\"Mr. Dylan Beach , Jr, QC,\"\\t\"905 W 39TH PL, HIALEAH ,FL 33012\"\\n224\\t\"Dean. Logan Beadell , Jr, QA,\"\\t\"519 LESLIE DR, HALLANDALE BEACH ,FL 33009\"\\n225\\t\"Dr. McKoy Beard , Sr, IQCP,\"\\t\"929 TRAMELLS TRL, KISSIMMEE ,FL 34744\"\\n226\\t\"Col. Micayla Beavers , Sr, CLIA,\"\\t\"22849 SAILFISH RD, BOCA RATON ,FL 33428\"\\n227\\t\"MS. Emily Beazley , Sr, QC,\"\\t\"13498 FIRESTONE ST, HESPERIA ,CA 92344\"\\n228\\t\"Ms. Bradley Becerra , Sr, QA,\"\\t\"9534 STATE ST, SOUTH GATE ,CA 90280\"\\n229\\t\"Ms. Elizabeth Bechen , Jr, CLIA,\"\\t\"2363 E BALL RD, # 264, ANAHEIM ,CA 92806\"\\n230\\t\"Mr. Matthew Beck , Jr, QC,\"\\t\"4731 W 8TH PL, HIALEAH ,FL 33012\"\\n231\\t\"Mr. Rylee Beck , Jr, QA,\"\\t\"1726 WOODED ACRES DR, HUMBLE ,TX 77396\"\\n232\\t\"Dean. Casey Beck , Jr, IQCP,\"\\t\"202 PARK SPRINGS CIR, APT 2, PLANT CITY ,FL 33566\"\\n233\\t\"Dr. Lincoln Becker , Sr, CLIA,\"\\t\"1773 NW 114TH ST, MIAMI ,FL 33167\"\\n234\\t\"Col. Aiden Becker , Sr, QC,\"\\t\"4122 WELLINGTON WOODS CIR, APT 208, KISSIMMEE ,FL 34741\"\\n235\\t\"MS. Logan Becker , Sr, QA,\"\\t\"12902 DUFFIELD AVE, LA MIRADA ,CA 90638\"\\n236\\t\"Dean . Layla Beckstrand , Jr, IQCP,\"\\t\"3802 CLOVER LN, DEER PARK ,TX 77536\"\\n237\\t\"Dean. Kadenn Beers , Jr, CLIA,\"\\t\"132 GOLDENROD AVE, PERRIS ,CA 92570\"\\n238\\t\"Dean. Rylee Beers , Jr, QC\"\\t\"1902 RIANE LN, HOUSTON ,TX 77049\"\\n239\\t\"Dr. Kendal Beffre , Sr, QA,\"\\t\"2011 SW 60TH AVE, MIAMI ,FL 33155\"\\n240\\t\"Col. Debra Begrin , Sr, IQCP\"\\t\"4467 PHILADELPHIA CIR, KISSIMMEE ,FL 34746\"\\n241\\t\"MS. Hadley Behrend , Sr, CLIA,\"\\t\"6875 EDINBURGH RD, CORONA ,CA 92880\"\\n242\\t\"Ms. Austin Belaska , Sr, QC,\"\\t\"1807 SE 8TH AVE, OCALA ,FL 34471\"\\n243\\t\"Ms. Caroline Belcher , Jr, QA,\"\\t\"1533 JOHN SMITH DR, IRVING ,TX 75061\"\\n244\\t\"Mr. Tisa Belcher , Jr, CLIA,\"\\t\"9717 EL TEPEYAC AVE, EL PASO ,TX 79927\"\\n245\\t\"Mr. Lillian Belfield , Jr, QC,\"\\t\"17419 NW 62ND CT, HIALEAH ,FL 33015\"\\n246\\t\"Dean. Aaron Bell , Jr, QA,\"\\t\"909 W 25TH ST, CAMERON ,TX 76520\"\\n247\\t\"Dr. Remington Bell , Sr, IQCP\"\\t\"14830 CARTER RD, VICTORVILLE ,CA 92394\"\\n248\\t\"Col. Ben Bellavia-Cortezi , Sr, CLIA,\"\\t\"6702 GULF DR, PANAMA CITY ,FL 32408\"\\n249\\t\"MS. Jonathan Belle-Isle , Sr, QC,\"\\t\"9025 HOGANS BND, TAMPA ,FL 33647\"\\n250\\t\"Dean . Andre Bellis , Jr, QA,\"\\t\"10317 NICKLAUS DR, NEW PORT RICHEY ,FL 34655\"\\n251\\t\"Ms. Dylan Bellow , Jr, IQCP,\"\\t\"403 E DOWNS ST, STOCKTON ,CA 95204\"\\n252\\t\"Ms. Dominic Beltran , PhD, CLIA,\"\\t\"2917 FAIRMONT DR, PANAMA CITY ,FL 32405\"\\n253\\t\"Dean. Joshua Bembo , Jr, QC,\"\\t\"8867 BERGAMO CIR, STOCKTON ,CA 95212\"\\n254\\t\"Dr. Yanuel Benavides , Jr, QA,\"\\t\"110 CURRENCY DR, DEL RIO ,TX 78840\"\\n255\\t\"Mr. Lauren Bendesky , Jr, IQCP,\"\\t\"330 CEDRON CHASE, SAN ANTONIO ,TX 78253\"\\n256\\t\"Mr. Christine Benedyk , Jr, CLIA,\"\\t\"41584 MARGARITA RD, APT 282, TEMECULA ,CA 92591\"\\n257\\t\"Mr. Dezma Benitez , PhD, QC,\"\\t\"8805 HIDDEN HILL DR, FORT WORTH ,TX 76179\"\\n258\\t\"Dean. Emerie Benner , Jr, QA,\"\\t\"10074 STONEHENGE CIR, APT 209, BOYNTON BEACH ,FL 33437\"\\n259\\t\"Dr. Cortnie Bennett , PhD, CLIA,\"\\t\"878 CARMONA CT, CHULA VISTA ,CA 91910\"\\n260\\t\"Mrs. Audrey Bennett , PhD, QC\"\\t\"8355 GLENCREST DR, SUN VALLEY ,CA 91352\"\\n261\\t\"Dr. Bryce Bennett , PhD, QA,\"\\t\"208 HIGHLANDS RIDGE LN, DAVENPORT ,FL 33897\"\\n262\\t\"Dr. Sidney Bennett , Jr, IQCP,\"\\t\"6403 SW MALLET RD, BENTONVILLE ,AR 72712\"\\n263\\t\"Mr. Olivia Bensinger , Sr, CLIA,\"\\t\"11949 CHARLTON LN, ORLANDO ,FL 32827\"\\n264\\t\"Dean. Tyler Bentley , PhD, QC,\"\\t\"213 LANDINGS BLVD, WESTON ,FL 33327\"\\n265\\t\"Dr. Trenton Bentley , PhD, QA,\"\\t\"605 COLBY CIR, APT 1, CLAREMONT ,CA 91711\"\\n266\\t\"Col. Brody Bequette , Sr, IQCP,\"\\t\"2519 E HIGHWAY 248, WALDRON ,AR 72958\"\\n267\\t\"MS. Adam Berdugo , Sr, CLIA,\"\\t\"387 HARTWOOD AVE, SPRING HILL ,FL 34606\"\\n268\\t\"Dean . Adam Berdugo , Sr, QC,\"\\t\"918 E DOUGLAS AVE, VISALIA ,CA 93292\"\\n269\\t\"Dean. Zoe Bergen , PhD, QA,\"\\t\"1711 CHINABERRY DR, GREENWOOD ,AR 72936\"\\n270\\t\"Col. Kaleigh Berman , PhD, IQCP,\"\\t\"1314 WILD PINE DR, SAINT AUGUSTINE ,FL 32084\"\\n271\\t\"Dean. Joshua Bermudez , PhD, CLIA,\"\\t\"370 MILLWOOD LN, SAN ANTONIO ,TX 78216\"\\n272\\t\"Dr. Katelyn Bernard , Jr, QC,\"\\t\"4701 PALADIUM DR, MANSFIELD ,TX 76063\"\\n273\\t\"Mr. Micah Bernstein , Sr, QA,\"\\t\"7210 YOSHIDA ST, PENSACOLA ,FL 32526\"\\n274\\t\"Mrs. Rachel Berreckman , Sr, CLIA,\"\\t\"1527 WOODWIND CT, FORT MYERS ,FL 33919\"\\n275\\t\"Ms. Nestor Berrios , Jr, QC,\"\\t\"2068 ERNEST WAY, ARCATA ,CA 95521\"\\n276\\t\"Mr. Miranda Berry , Jr, QA,\"\\t\"14456 KENTFIELD PL, POWAY ,CA 92064\"\\n277\\t\"Mr. Brooke Berry , Jr, IQCP,\"\\t\"14456 KENTFIELD PL, POWAY ,CA 92064\"\\n278\\t\"Col. Johnathan Berry , Sr, CLIA,\"\\t\"PO BOX 243, ODEM ,TX 78370\"\\n279\\t\"Mr. Zachary Berry , Sr, QC,\"\\t\"PO BOX 7586, FORT MYERS ,FL 33911\"\\n280\\t\"Mr. Brenton Beshers , Sr, QA,\"\\t\"PO BOX 2721, BARTOW ,FL 33831\"\\n281\\t\"Mr. Gage Besing , Sr, IQCP,\"\\t\"5042 BUFFWOOD WAY, SACRAMENTO ,CA 95841\"\\n282\\t\"Mr. Ian Besner , Jr, CLIA,\"\\t\"340 FEGAN DR, # B, SAN CLEMENTE ,CA 92672\"\\n283\\t\"Col. Brielle Beus , Jr, QC,\"\\t\"2005 SUNSET CT, WEATHERFORD ,TX 76088\"\\n284\\t\"Dean. Caitlin Beverly , Sr, QA,\"\\t\"5106 GLENHAVEN DR, BAYTOWN ,TX 77521\"\\n285\\t\"Dr. Terence Beverly , Jr, IQCP,\"\\t\"9822 HASKELL AVE, NORTH HILLS ,CA 91343\"\\n286\\t\"Mr. Harlie Bevers , Jr, CLIA,\"\\t\"3805 DILLINGHAM AVE, MODESTO ,CA 95357\"\\n287\\t\"Mrs. Spencer Bezold , Jr, QC,\"\\t\"6242 WARNER AVE, APT 27A, HUNTINGTON BEACH ,CA 92647\"\\n288\\t\"Ms. Gregory Bibb , Sr, QA,\"\\t\"326 S WINDOMERE AVE, APT A, DALLAS ,TX 75208\"\\n289\\t\"Mr. Tyler Bidle , Sr, CLIA,\"\\t\"2113 SW CAPE COD DR, PORT ST LUCIE ,FL 34953\"\\n290\\t\"Ms. Christian Bienek , Sr, QC,\"\\t\"1116 JOHN WAYNE DR, YUBA CITY ,CA 95991\"\\n291\\t\"Ms. Evan Bigby , Sr, QA,\"\\t\"384 LITTLE MAZARN RD, HOT SPRINGS NATIONAL PARK ,AR 71913\"\\n292\\t\"Ms. Toby Bigelow , Jr, IQCP,\"\\t\"2675 PINE SHADOW LN, CLERMONT ,FL 34711\"\\n293\\t\"Ms. Samuel Biggs , Jr, CLIA,\"\\t\"6676 COLGATE AVE, LOS ANGELES ,CA 90048\"\\n294\\t\"Ms. Tyler Biggs , Jr, QC,\"\\t\"33625 BRUSHY HOLLOW DR, YUCAIPA ,CA 92399\"\\n295\\t\"Dean. Dominique Bigler , Jr, QA\"\\t\"4639 CORNELL, FRESNO ,CA 93703\"\\n296\\t\"Dr. Kaylee Bill , Sr, IQCP,\"\\t\"5578 THYER ST, NORTH PORT ,FL 34288\"\\n297\\t\"Mr. Damon Billeck , Sr, CLIA,\"\\t\"8051 SABLE WOODS DR N, JACKSONVILLE ,FL 32244\"\\n298\\t\"Mr. Erik Binks , Sr, QC,\"\\t\"911 FANNIN ST, LOCKHART ,TX 78644\"\\n299\\t\"Mr. Connor Bint , Jr, QA,\"\\t\"PO BOX 1303, BELLEVIEW ,FL 34421\"\\n300\\t\"Dean. Ali Birdon , Jr, IQCP,\"\\t\"8 SAGEBRUSH, CONWAY ,AR 72032\"\\n301\\t\"Dr. Drew Birdsall , PhD, CLIA,\"\\t\"907 TIMBER OAKS CT, ARLINGTON ,TX 76010\"\\n302\\t\"Mrs. Christian Bishop , Jr, QC\"\\t\"7611 SE DOVE ST, HOBE SOUND ,FL 33455\"\\n303\\t\"Ms. Makala Bishop , Jr, QA,\"\\t\"41 FOREST CIR, LITTLE ROCK ,AR 72211\"\\n304\\t\"Mr. Emmalynn Bishop , Jr, CLIA,\"\\t\"2993 WHITE CEDAR CIR, KISSIMMEE ,FL 34741\"\\n305\\t\"Ms. Tiana Bishop , Jr, QC,\"\\t\"10442 LUDERS AVE, GARDEN GROVE ,CA 92843\"\\n306\\t\"Ms. Kobie Bivings , PhD, QA\"\\t\"6810 PARK ST S, APT 14, SOUTH PASADENA ,FL 33707\"\\n307\\t\"Ms. Bernardo Bizinoto , Jr, IQCP,\"\\t\"33562 SPIN DRIFT CT, DANA POINT ,CA 92629\"\\n308\\t\"Ms. Audrey Blache , PhD, CLIA,\"\\t\"10107 OUTLAW BND, CONVERSE ,TX 78109\"\\n309\\t\"Ms. Naomi Black , PhD, QC,\"\\t\"6565 CHADBOURNE AVE, RIVERSIDE ,CA 92505\"\\n310\\t\"Dean. Jordan Blackwell , PhD, QA,\"\\t\"417 CROWN POINTE DR, BAKERSFIELD ,CA 93312\"\\n311\\t\"Dr. Elijah Blades , Jr, IQCP,\"\\t\"910 NE 179TH TER, NORTH MIAMI BEACH ,FL 33162\"\\n312\\t\"Mr. Addison Blair , Sr, CLIA\"\\t\"4348 53RD ST, APT 6, SAN DIEGO, CA 92115\"\\n313\\t\"Mr. Annie Blake , PhD, QC,\"\\t\"17533 BALSAM AVE, SONOMA ,CA 95476\"\\n314\\t\"Mr. Jaylon Blanchard-Grern , PhD, QA\"\\t\", 13510 HIDDEN VALLEY ST, CORONA ,CA 92880\"\\n315\\t\"Dean. Estela Blanco , Sr, IQCP,\"\\t\"650 FLOYD ST SE, PALM BAY ,FL 32909\"\\n316\\t\"Dr. Jonathan Bland , Sr, CLIA,\"\\t\"1300 BURTON DR, APT 196, VACAVILLE ,CA 95687\"\\n317\\t\"Dean. Elijah Bland , Sr, QC,\"\\t\"4106 15TH AVE W, BRADENTON ,FL 34205\"\\n318\\t\"Dr. Madelyn Blankenship , PhD, QA,\"\\t\"456 COUNTY ROAD 67634, DAYTON ,TX 77535\"\\n319\\t\"Mr. Wilson Bledsoe , PhD, CLIA,\"\\t\" 1850 KATELLA ST, SAN DIEGO ,CA 92154\"\\n320\\t\"Mrs. Dane Blei , PhD, QC,\"\\t\"1955 MELISSA OAKS DR, GULF BREEZE ,FL 32563\"\\n321\\t\"Ms. Brady Bliss , Jr, QA,\"\\t\"PO BOX 1534, ARMONA ,CA 93202\"\\n322\\t\"Mr. Joshua Blomgren , Sr, IQCP,\"\\t\"3424 MANGO TREE DR, EDGEWATER ,FL 32141\"\\n323\\t\"Mr. Victoria Boals , Sr, CLIA,\"\\t\"17406 PONDEROSA PINES DR, HOUSTON ,TX 77090\"\\n324\\t\"Col. Holly Bobholz , Jr, QC,\"\\t\"255 E BOLIVAR ST, SPC 75, SALINAS ,CA 93906\"\\n325\\t\"Mr. Jordan Bodger , Jr, QA,\"\\t\"2121 E GRAND AVE, # G27, ESCONDIDO ,CA 92027\"\\n326\\t\"Mr. Merrick Bognar , Jr, IQCP\"\\t\"4214 W 101ST ST, APT 2, INGLEWOOD ,CA 90304\"\\n327\\t\"Mr. Jonathan Bohlsen , Sr, CLIA,\"\\t\"1421 GARZA RD, HARLINGEN ,TX 78552\"\\n328\\t\"Mr. Jackson Bojarski , Sr, QC,\"\\t\"PO BOX 857, WEST COLUMBIA ,TX 77486\"\\n329\\t\"Col. Brittany Bollenbacher , Sr, QA,\"\\t\"PO BOX 681, BLOOMINGTON ,CA 92316\"\\n330\\t\"Dean. Justin Bolton , Sr, IQCP,\"\\t\"7719 DASHWOOD, SAN ANTONIO ,TX 78240\"\\n331\\t\"Dr. Kayla Bolton , Jr, CLIA\"\\t\"368 REDWING CIR, CORONA ,CA 92882\"\\n332\\t\"Mr. Kayla Bolton , Jr, QC\"\\t\"560 N CEDAR ST, ESCONDIDO ,CA 92025\"\\n333\\t\"Mrs. Marco Bonato , Sr, QA,\"\\t\"16443 1/2 CALIFORNIA AVE, PARAMOUNT ,CA 90723\"\\n334\\t\"Ms. Jason Bond , Jr, CLIA\"\\t\"14234 COHASSET ST, VAN NUYS ,CA 91405\"\\n335\\t\"Mr. Kin Bonifassi , Jr, QC,\"\\t\"16100 BROOKDALE DR, GUERNEVILLE ,CA 95446\"\\n336\\t\"Ms. Elizabeth Bonilla , Jr, QA,\"\\t\"5144 LURGAN RD, LAND O LAKES ,FL 34638\"\\n337\\t\"Ms. Liam Bonner , Sr, IQCP,\"\\t\"861 NW 33RD AVE, FT LAUDERDALE ,FL 33311\"\\n338\\t\"Ms. Brittany Boone , Sr, CLIA,\"\\t\"6256 GLENVIEW DR, APT 157, NORTH RICHLAND HILLS ,TX 76180\"\\n339\\t\"Ms. Trevor Boone , Sr, QC,\"\\t\"5401 SW 131ST AVE, MIAMI ,FL 33175\"\\n340\\t\"Ms. Roman Booth , Sr, QA,\"\\t\"2735 W 70TH ST, HIALEAH ,FL 33016\"\\n341\\t\"Mr. Jared Border , Jr, IQCP,\"\\t\"2392 CHENAULT DR, FRISCO ,TX 75034\"\\n342\\t\"Dean. Tara Borders , Jr, CLIA,\"\\t\"601 S 5TH ST, WILLS POINT ,TX 75169\"\\n343\\t\"Dr. Kaleb Borders , Jr, QC,\"\\t\"1424 SE 27TH ST, GAINESVILLE ,FL 32641\"\\n344\\t\"Mr. Ali Borgen , Jr, QA,\"\\t\"11330 TOKAY CIR, FONTANA ,CA 92337\"\\n345\\t\"Mr. Sarah Boss , Sr, IQCP,\"\\t\"16722 EMERSON CT, DELHI ,CA 95315\"\\n346\\t\"Mr. Makayla Bouchea , Sr, CLIA,\"\\t\"9537 MISTY RIVER WAY, ELK GROVE ,CA 95624\"\\n347\\t\"Dean. Taylor Bouma , Sr, QC,\"\\t\"216 1/2 N BREED ST, LOS ANGELES ,CA 90033\"\\n348\\t\"Dr. Evan Bourg , Jr, QA,\"\\t\"2812 GARDEN DR S, APT 305, LAKE WORTH ,FL 33461\"\\n349\\t\"Ms. Kurt Bourne , Jr, CLIA\"\\t\"PO BOX 90712, SAN BERNARDINO ,CA 92427\"\\n350\\t\"Ms. Vincent Bowen , PhD, QC,\"\\t\"1141 S FAIRFAX AVE, APT 6, LOS ANGELES ,CA 90019\"\\n351\\t\"Ms. Sydney Bowling , Jr, QA\"\\t\"1611 NW 19TH ST, APT 8, MIAMI ,FL 33125\"\\n352\\t\"Ms. Josh Box , Jr, IQCP,\"\\t\"7008 N 23RD ST, MCALLEN ,TX 78504\"\\n353\\t\"Ms. Big Boy , Jr, CLIA,\"\\t\"25 KNIGHT BOXX RD, APT 8208, ORANGE PARK ,FL 32065\"\\n354\\t\"Ms. Miranda Boyd , Jr, QC,\"\\t\"4215 BOULDER PASS CT, BAKERSFIELD ,CA 93311\"\\n355\\t\"Mr. Brinley Boyd , PhD, QA,\"\\t\"827 N FIG ST, APT A9, ESCONDIDO ,CA 92026\"\\n356\\t\"Dean. Michael Boyd , Jr, IQCP,\"\\t\"5229 CLEON AVE, APT A, NORTH HOLLYWOOD ,CA 91601\"\\n357\\t\"Dr. Mackenzie Boykin , PhD, CLIA,\"\\t\"9450 MAGNOLIA SPRINGS RD, PENSACOLA ,FL 32526\"\\n358\\t\"Mr. Carson Boyle , PhD, QC\"\\t\"1770 SHERRY LN, APT 91, SANTA ANA ,CA 92705\"\\n359\\t\"Mr. Owen Boyle , PhD, QA,\"\\t\"8912 HEIL AVE, APT 7, WESTMINSTER ,CA 92683\"\\n360\\t\"Mr. Tori Boynton , Jr, IQCP,\"\\t\"1645 HELIX ST, SPRING VALLEY ,CA 91977\"\\n361\\t\"Dean. Ryan Boysen , Sr, CLIA,\"\\t\"PO BOX 1465, LEBEC ,CA 93243\"\\n362\\t\"Dr. Jacob Bradford , PhD, QC,\"\\t\"2025 BRIGHT DR, APT 8, HIALEAH ,FL 33010\"\\n363\\t\"Ms. Lucy Bradford , PhD, QA,\"\\t\"1717 MERCED ST, DOS PALOS ,CA 93620\"\\n364\\t\"Ms. Braxton Bradford , Sr, CLIA,\"\\t\"4325 ELK DR, ANTIOCH ,CA 94531\"\\n365\\t\"Ms. Amiyah Bradshaw , Sr, QC,\"\\t\"8218 DRYCREEK DR, TAMPA ,FL 33615\"\\n366\\t\"Ms. Mark Braithwaite , Sr, QA,\"\\t\"1732 ANDY WILLIAMS PL, EL PASO ,TX 79936\"\\n367\\t\"Ms. Paxton Brake , PhD, IQCP,\"\\t\"1946 PALMGROVE AVE, POMONA ,CA 91767\"\\n368\\t\"Mr. Ellory Branan , PhD, CLIA,\"\\t\"1041 MORO CT, TUSTIN ,CA 92780\"\\n369\\t\"Mr. Kylie Branch , PhD, QC,\"\\t\"1840 E 53RD ST, LOS ANGELES ,CA 90058\"\\n370\\t\"Mr. Katelyn Brand , Jr, QA,\"\\t\"408 GRISWOLD ST, # 3, GLENDALE ,CA 91205\"\\n371\\t\"Ms. Ren√É¬©e Brandon , Sr, IQCP,\"\\t\"1355 S PERRIS BLVD, PERRIS ,CA 92570\"\\n372\\t\"Ms. Ryker Brandt , Sr, CLIA,\"\\t\"5772 GARDEN GROVE BLVD, SPC 648, WESTMINSTER ,CA 92683\"\\n373\\t\"Ms. Addyson Brankle , Jr, QC,\"\\t\"126 W LOMITA BLVD, WILMINGTON ,CA 90744\"\\n374\\t\"Ms. Ben Brannan , Jr, QA\"\\t\"10604 CROCKETT ST, SUN VALLEY ,CA 91352\"\\n375\\t\"Ms. Logan Brant , Jr, IQCP,\"\\t\"25781 STEPHENS ST, ESPARTO ,CA 95627\"\\n376\\t\"Dean. Chelsea Brantwein , Sr, CLIA,\"\\t\"1859 LOMA VISTA ST, RIVERSIDE ,CA 92507\"\\n377\\t\"Dr. Isabella Brashear , Sr, QC,\"\\t\"7510 NW 6TH CT, MARGATE ,FL 33063\"\\n378\\t\"Mr. Sienna Braun , Sr, QA,\"\\t\"1063 MANCHESTER CIR, WINTER PARK ,FL 32792\"\\n379\\t\"Mr. Richard Bravo III , Sr, CLIA,\"\\t\"4521 OLD LA BLANCA RD, DONNA ,TX 78537\"\\n380\\t\"Mr. Alahya Breeden , Jr, QC,\"\\t\"6040 DELLA CT, ROHNERT PARK ,CA 94928\"\\n381\\t\"Dean. Charles Breen , Jr, QA,\"\\t\"5294 TIFFANY ANNE CIR, WEST PALM BEACH ,FL 33417\"\\n382\\t\"Dr. Chrissy Breese , Sr, IQCP,\"\\t\"8931 AGLIANA CIR, BOYNTON BEACH ,FL 33472\"\\n383\\t\"Col. Travis Brennan , Jr, CLIA,\"\\t\"4731 WHITE TAIL LN, SARASOTA ,FL 34238\"\\n384\\t\"MS. Reid Brewer , Jr, QC,\"\\t\"3127 UPSHUR AVE, APT C, TWENTYNINE PALMS ,CA 92277\"\\n385\\t\"Dean . Mikaela Brewer , Jr, QA\"\\t\"3680 KEYSTONE AVE, LOS ANGELES ,CA 90034\"\\n386\\t\"Dean. Ben Brewer , Sr, IQCP,\"\\t\"33015 SEVILLE ST, LAKE ELSINORE ,CA 92530\"\\n387\\t\"Col. Adyson Brickhouse , Sr, CLIA,\"\\t\"3601 E HOLT AVE, APT 108, WEST COVINA ,CA 91791\"\\n388\\t\"Dean. Addison Bridges , Sr, QC,\"\\t\"1227 ROSEGATE BLVD, RIVIERA BEACH ,FL 33404\"\\n389\\t\"Dr. Drew Bridges , Sr, QA,\"\\t\"PO BOX 1211, CHINO ,CA 91708\"\\n390\\t\"Mr. Nicholas Brierley , Jr, IQCP,\"\\t\"1800 S BROADWAY , APT 210, SANTA ANA ,CA 92707\"\\n391\\t\"Mrs. Cassidy Briggs , Jr, CLIA,\"\\t\"7620 N EL DORADO ST, APT 301, STOCKTON ,CA 95207\"\\n392\\t\"Ms. Ava Bright , Jr, QC,\"\\t\"901 SW 128TH TER, APT A205, PEMBROKE PINES ,FL 33027\"\\n393\\t\"Mr. Devin Brindley , Jr, QA,\"\\t\"4122 E CHAPMAN AVE, STE 8, ORANGE ,CA 92869\"\\n394\\t\"Mr. Maddie Briscoe , Sr, CLIA,\"\\t\"1227 PECAN ST, CLUTE ,TX 77531\"\\n395\\t\"Col. Johnny Britt , Sr, QC,\"\\t\"3176 INDIANAPOLIS AVE, CLOVIS ,CA 93619\"\\n396\\t\"Mr. Oscar Broca III , Sr, QA,\"\\t\"10729 W CLAIRMONT CIR, APT 112K-3, TAMARAC ,FL 33321\"\\n397\\t\"Mr. Raenalynn Brock , Jr, IQCP,\"\\t\"15938 TURTLE BAY PL, FONTANA ,CA 92336\"\\n398\\t\"Mr. Walker Brooks , Jr, CLIA,\"\\t\"592 ELMWOOD WAY, LIVINGSTON ,CA 95334\"\\n399\\t\"Mr. Hallie Brooks , PhD, QC,\"\\t\"4630 W RIO BRAVO DR, FRESNO ,CA 93722\"\\n400\\t\"Col. Aiden Brooks-Spencer , Jr, QA,\"\\t\"6208 JENNIE DR, FORT WORTH ,TX 76133\"\\n401\\t\"Dean. Cheyenne Broswell , Jr, IQCP,\"\\t\"354 MUSTANG RD, WAXAHACHIE ,TX 75165\"\\n402\\t\"Dr. Zarriyah Broussard , Jr, CLIA,\"\\t\"5575 BRISTOL BAY LN N, JACKSONVILLE ,FL 32244\"\\n403\\t\"Mr. Bentley Broussard , Jr, QC,\"\\t\"3695 STEVENSON BLVD, APT 307, FREMONT ,CA 94538\"\\n404\\t\"Mrs. Chloe Brown , PhD, QA,\"\\t\"1420 BLUE CLOVER LN, WEST PALM BEACH ,FL 33415\"\\n405\\t\"Ms. Lauren Brown , Jr, IQCP,\"\\t\"1111 SERENGETI WAY, ROCKLEDGE ,FL 32955\"\\n406\\t\"Mr. Elizabeth Brown , PhD, CLIA,\"\\t\"1790 BROOKS ST, SAN MATEO ,CA 94403\"\\n407\\t\"Ms. Reed Brown , PhD, QC,\"\\t\"7330 SW 22ND PL, GAINESVILLE ,FL 32607\"\\n408\\t\"Dean. Parker Brown , PhD, QA,\"\\t\"941 BREDENBERG LN, TURLOCK ,CA 95380\"\\n409\\t\"Dr. Elizabeth Brown , Jr, CLIA,\"\\t\"1490 N HIGH ST, LAKEPORT ,CA 95453\"\\n410\\t\"Col. Collin Brown , Sr, QC,\"\\t\"4340 NW 168TH TER, MIAMI GARDENS ,FL 33055\"\\n411\\t\"MS. Jayson Brown , PhD, QA,\"\\t\"203 S ARNAZ DR, APT A, BEVERLY HILLS ,CA 90211\"\\n412\\t\"Dean . Ryan Brown , PhD, IQCP,\"\\t\"3874 MAYWOOD DR N, FRESNO ,CA 93703\"\\n413\\t\"Dean. Asher Brown , Sr, CLIA,\"\\t\"4738 W STUART AVE, FRESNO ,CA 93722\"\\n414\\t\"Col. Shawn Brown , Sr, QC,\"\\t\"178 DRIVE , APT 431, SUNNY ISLES ,FL 33160\"\\n415\\t\"Dean. Lila Brown , Sr, QA,\"\\t\"13514 HOLLOW VIEW ST, SAN ANTONIO ,TX 78232\"\\n416\\t\"Dr. Lila Rose Brown , PhD, IQCP,\"\\t\"3020 NW 157TH ST, OPA LOCKA ,FL 33054\"\\n417\\t\"Mr. Zane Brown , PhD, CLIA\"\\t\"647 E JENNER ST, LANCASTER ,CA 93535\"\\n418\\t\"Mrs. Kaylee Brown , PhD, QC,\"\\t\"14691 MULBERRY ST, HESPERIA ,CA 92345\"\\n419\\t\"Ms. Laron Brown , Jr, QA,\"\\t\"301 W WOODWARD AVE, APT D, ALHAMBRA ,CA 91801\"\\n420\\t\"Mr. Howell Brown III , Sr, IQCP,\"\\t\"1695 74TH AVE N, SAINT PETERSBURG ,FL 33702\"\\n421\\t\"Mr. Eli Browning , Sr, CLIA,\"\\t\"1050 BENTON ST, APT 1329, SANTA CLARA ,CA 95050\"\\n422\\t\"Col. Michael Bruhn , Jr, QC,\"\\t\"1695 74TH AVE N, SAINT PETERSBURG ,FL 33702\"\\n423\\t\"Mr. Jayson Bruining , Jr, QA,\"\\t\"121 E FELICITA AVE, ESCONDIDO ,CA 92025\"\\n424\\t\"Mr. Jack Brumfield , Jr, CLIA,\"\\t\"13510 ELIAS CIR, SAN BENITO ,TX 78586\"\\n425\\t\"Mr. Owenn Brumfield , Sr, QC,\"\\t\"30592 TOMALES LN, MURRIETA ,CA 92563\"\\n426\\t\"Mr. Jason Brummett , Sr, QA,\"\\t\"2013 LINCOLN A, BOCA RATON ,FL 33434\"\\n427\\t\"Col. Nathann Brundage , Sr, IQCP,\"\\t\"2358 N MOUNTAINSIDE DR, LOS BANOS ,CA 93635\"\\n428\\t\"Dean. Kierstyn Brunell , Sr, CLIA,\"\\t\"1046 LONGFELLOW CT, SARASOTA ,FL 34243\"\\n429\\t\"Dr. Holly Bruner , Jr, QC,\"\\t\"4513 MONTEREY DR, TAMARAC ,FL 33319\"\\n430\\t\"Mr. Tyler Brunson , Jr, QA,\"\\t\"12 STONEPINE, IRVINE ,CA 92604\"\\n431\\t\"Mrs. Addison Bryan , Sr, IQCP,\"\\t\"11050 SW 7TH ST, MIAMI ,FL 33174\"\\n432\\t\"Ms. Austin Bryant , Jr, CLIA\"\\t\"7115 SW 70TH AVE, MIAMI ,FL 33143\"\\n433\\t\"Mr. Rosamond Bryant , Jr, QC,\"\\t\"419 NW 83RD ST, MIAMI ,FL 33150\"\\n434\\t\"Ms. Madison Bryant , Jr, QA,\"\\t\"19175 SW 194TH AVE, MIAMI ,FL 33187\"\\n435\\t\"Dean. Daniel Buchdid , Sr, IQCP,\"\\t\"180 AVENIDA DESCANSO , UNIT E, OCEANSIDE ,CA 92057\"\\n436\\t\"Dr. Carter Buciciero , Sr, CLIA\"\\t\"1097 MANIGAN AVE, OVIEDO ,FL 32765\"\\n437\\t\"Col. Grace Buckel , Sr, QC,\"\\t\"630 AMADOR AVE, SEASIDE ,CA 93955\"\\n438\\t\"MS. Blake Buckel , Sr, QA,\"\\t\"5723 NW 86TH AVE, TAMARAC ,FL 33321\"\\n439\\t\"Dean . Riley Buckholz , Jr, CLIA,\"\\t\"9724 FOLLETT DR, SANTEE ,CA 92071\"\\n440\\t\"Dean. James Buckley , Jr, QC,\"\\t\"95 HART LN, APT J233, PERRIS ,CA 92571\"\\n441\\t\"Col. Rachel Buckner , Jr, QA,\"\\t\"810 S CROCKETT DR, ABILENE ,TX 79605\"\\n442\\t\"Dean. Jake Buerkle , Jr, IQCP,\"\\t\"19054 PARTHENIA ST, APT 5, NORTHRIDGE ,CA 91324\"\\n443\\t\"Dr. Christopher Buford , Sr, CLIA,\"\\t\"10167 VENA AVE, ARLETA ,CA 91331\"\\n444\\t\"Mr. Vivian Bui , Sr, QC,\"\\t\"8023 LAKE DR, APT 105, DORAL ,FL 33166\"\\n445\\t\"Mrs. Emma Bulich , Sr, QA,\"\\t\"3889 COLMA AVE, MERCED ,CA 95348\"\\n446\\t\"Ms. Briellynn Bullard , Jr, IQCP,\"\\t\"19732 NICHOLAS AVE, CERRITOS ,CA 90703\"\\n447\\t\"Mr. Bethany Bullerman , Jr, CLIA,\"\\t\"2011 SUNSET DR, ESCONDIDO ,CA 92025\"\\n448\\t\"Mr. Adriana Bullington , Jr, QC,\"\\t\"221 9TH ST, GREENFIELD ,CA 93927\"\\n449\\t\"Col. Colton Bullock , Sr, QA,\"\\t\"1541 E LA PALMA AVE, ANAHEIM ,CA 92805\"\\n450\\t\"Mr. William Bunn , Sr, IQCP,\"\\t\"1541 E LA PALMA AVE, UNIT C4, ANAHEIM ,CA 92805\"\\n451\\t\"Mr. Michael Buno , Sr, CLIA,\"\\t\"409 8TH ST, EAGLE LAKE ,TX 77434\"\\n452\\t\"Mr. Shelby Burchett , Sr, QC,\"\\t\"1433 W 11TH ST, POMONA ,CA 91766\"\\n453\\t\"Mr. Tyler Burdick , Jr, QA,\"\\t\"16711 LOUKELTON ST, LA PUENTE ,CA 91744\"\\n454\\t\"Col. Amanda Bures , Jr, CLIA,\"\\t\"11472 SW FIELDSTONE WAY, PORT SAINT LUCIE ,FL 34987\"\\n455\\t\"Dean. James Burgess , Jr, QC,\"\\t\"108 E AVENUE I, ROBSTOWN ,TX 78380\"\\n456\\t\"Dr. Braeden Burgess , Jr, QA,\"\\t\"665 SEA VALE ST, APT 4, CHULA VISTA ,CA 91910\"\\n457\\t\"Mr. Marissa Burghart , Sr, IQCP,\"\\t\"43406 62ND ST W, LANCASTER ,CA 93536\"\\n458\\t\"Mrs. Skylor Burgos , Sr, CLIA,\"\\t\"2395 N MACY ST, SAN BERNARDINO ,CA 92407\"\\n459\\t\"Ms. Colin Burkdoll , Sr, QC,\"\\t\"10810 MCCLEAREN DR, HOUSTON ,TX 77096\"\\n460\\t\"Mr. Tyler Burke , Jr, QA,\"\\t\"507 5TH AVE SE, GRAVETTE ,AR 72736\"\\n461\\t\"Ms. Joseph Burke , Jr, QA,\"\\t\"795 HARBOR CLIFF WAY, UNIT 197, OCEANSIDE ,CA 92054\"\\n462\\t\"Dean. Gattlin Burke , Jr,\"\\t\"IQCP, 378 PROMENADE CIR, SUISUN CITY ,CA 94585\"\\n463\\t\"Dr. Dylan Burke , Sr, CLIA,\"\\t\"1400 A ST, APT 301, ANTIOCH ,CA 94509\"\\n464\\t\"Col. Alex Burkos , Sr, QC,\"\\t\"34 BRIONES CT, BAY POINT ,CA 94565\"\\n465\\t\"MS. Courtney Burnette , Sr, QA,\"\\t\"2415 OLD RAVEN LN SW, VERO BEACH ,FL 32962\"\\n466\\t\"Dean . Gyle Burnette , Sr, IQCP\"\\t\" 3609 MEADOW PARK DR, ROUND ROCK ,TX 78665\"\\n467\\t\"Dean. Brandon Burnside , Jr, CLIA,\"\\t\"1113 LOMBARD ST, OXNARD ,CA 93030\"\\n468\\t\"Col. Ryan Burow , Jr, QC,\"\\t\"843 JAMES PL, POMONA ,CA 91767\"\\n469\\t\"Dean. Madison Burt , Jr, QA,\"\\t\"6005 FELIX AVE, RICHMOND ,CA 94805\"\\n470\\t\"Dr. Addison Burton , Jr, IQCP,\"\\t\"29245 GRANITE RIDGE CT, SUN CITY ,CA 92587\"\\n471\\t\"Mr. Carson Busby , Sr, CLIA,\"\\t\"2800 UNIVERSITY AVE, SAN DIEGO ,CA 92104\"\\n472\\t\"Mrs. Brady Bustrum , Sr, QC,\"\\t\"5455 GRAND PRIX CT, FONTANA ,CA 92336\"\\n473\\t\"Ms. Jaxson Butkus , Sr, QA,CLIA,\"\\t\"474 DRIFTWOOD DR, EL CENTRO ,CA 92243\"\\n474\\t\"Mr. Lenzie Butland , Jr,\"\\t\" 12800 HARRISGLENN DR, APT 912, AUSTIN ,TX 78753\"\\n475\\t\"Mr. Alaya Butler , Jr, QC,\"\\t\"1040 CHAMPION AVE, LEHIGH ACRES ,FL 33971\"\\n476\\t\"Col. Timothy Butler , Jr, QA,\"\\t\"1329 MILL XING, GARLAND ,TX 75040\"\\n477\\t\"Mr. Tyler Butler-Figueroa , Sr, IQCP,\"\\t\"16150 KIETH HARROW BLVD, HOUSTON ,TX 77084\"\\n478\\t\"Mr. Ryan Butterworth , Sr, CLIA,\"\\t\"13114 BIDWELL DR, AUSTIN ,TX 78729\"\\n479\\t\"Mr. Chad Buzick , Sr, QC,\"\\t\"1850 PARKRIDGE AVE, NORCO ,CA 92860\"\\n480\\t\"Mr. Grace Byrd , Sr, QA,\"\\t\"7181 E DRAKE DR, ANAHEIM ,CA 92807\"\\n481\\t\"Col. Grace Byrd , Jr, IQCP,\"\\t\"7634 DARTMOUTH AVE, RANCHO CUCAMONGA ,CA 91730\"\\n482\\t\"Dean. Cian Byrne , Jr, CLIA,\"\\t\"15360 SW 154TH TER, MIAMI ,FL 33187\"\\n483\\t\"Dr. Stephanie-Lynn C , Jr, QC\"\\t\"627 S VELARE ST, APT 16, ANAHEIM ,CA 92804\"\\n484\\t\"Mr. Zach Cadwalder , Jr, QA,\"\\t\"PO BOX 9994, MORENO VALLEY ,CA 92552\"\\n485\\t\"Mrs. Alexandria Caggia , Sr, IQCP,\"\\t\"561 PRAIRIE DELL ST, LEWISVILLE ,TX 75067\"\\n486\\t\"Ms. Erin Cahalin , Sr, CLIA,\"\\t\"16998 BLACKIE RD, SALINAS ,CA 93907\"\\n487\\t\"Mr. Johnathon Cahill , Sr, QC,\"\\t\"16764 GOLFVIEW DR, WESTON ,FL 33326\"\\n488\\t\"Ms. Jonathan Calderon , Jr, QA,\"\\t\"8207 MISTY LANDING CT, HUMBLE ,TX 77396\"\\n489\\t\"Mr. Destiny Calhoun , Jr, CLIA,\"\\t\"5504 HILLMAN ST, HOUSTON ,TX 77023\"\\n490\\t\"Col. Destiny Calhoun , Jr, QC,\"\\t\"8207 MISTY LANDING CT, HUMBLE ,TX 77396\"\\n491\\t\"Mr. Ray Callaway , Sr, QA,\"\\t\"1505 BRENTWOOD DR, PINE BLUFF ,AR 71601\"\\n492\\t\"Mr. Jace Calloway , Sr, IQCP,\"\\t\"PO BOX 17402, LONG BEACH ,CA 90807\"\\n493\\t\"Mr. Angel Caloca Jr , Sr, CLIA, \"\\t\"16406 GELDING WAY, MORENO VALLEY ,CA 92555\"\\n494\\t\"Mr. Abigail Calvo , Sr, QC,\"\\t\"34763 JOHN ALBERT DR, MADERA ,CA 93636\"\\n495\\t\"Col. Gracie Camba , Jr, QA,\"\\t\"5731 WARDELL WAY, SACRAMENTO ,CA 95823\"'"
            ],
            "application/vnd.google.colaboratory.intrinsic+json": {
              "type": "string"
            }
          },
          "metadata": {},
          "execution_count": 41
        }
      ]
    },
    {
      "cell_type": "code",
      "source": [
        "# Length of extracted character sequences\n",
        "maxlen = 60\n",
        "\n",
        "# We sample a new sequence every `step` characters\n",
        "step = 3\n",
        "\n",
        "# This holds our extracted sequences\n",
        "sentences = []\n",
        "\n",
        "# This holds the targets (the follow-up characters)\n",
        "next_chars = []\n",
        "\n",
        "for i in range(0, len(text) - maxlen, step):\n",
        "    sentences.append(text[i: i + maxlen])\n",
        "    next_chars.append(text[i + maxlen])\n",
        "print('Number of sequences:', len(sentences))\n",
        "\n",
        "# List of unique characters in the corpus\n",
        "chars = sorted(list(set(text)))\n",
        "print(chars)\n",
        "\n",
        "print('Unique characters:', len(chars))\n",
        "\n",
        "# Dictionary mapping unique characters to their index in `chars`\n",
        "char_indices = dict((char, chars.index(char)) for char in chars)\n",
        "\n",
        "# Next, one-hot encode the characters into binary arrays.\n",
        "print('Vectorization...')\n",
        "x = np.zeros((len(sentences), maxlen, len(chars)), dtype=np.bool)\n",
        "y = np.zeros((len(sentences), len(chars)), dtype=np.bool)\n",
        "for i, sentence in enumerate(sentences):\n",
        "    for t, char in enumerate(sentence):\n",
        "        x[i, t, char_indices[char]] = 1\n",
        "    y[i, char_indices[next_chars[i]]] = 1"
      ],
      "metadata": {
        "id": "PuxLV9I5vkHx",
        "colab": {
          "base_uri": "https://localhost:8080/"
        },
        "outputId": "11ab8b82-1f54-46bd-f538-85fe58969c06"
      },
      "execution_count": null,
      "outputs": [
        {
          "output_type": "stream",
          "name": "stdout",
          "text": [
            "Number of sequences: 12749\n",
            "['\\t', '\\n', ' ', '\"', '#', ',', '-', '.', '/', '0', '1', '2', '3', '4', '5', '6', '7', '8', '9', 'A', 'B', 'C', 'D', 'E', 'F', 'G', 'H', 'I', 'J', 'K', 'L', 'M', 'N', 'O', 'P', 'Q', 'R', 'S', 'T', 'U', 'V', 'W', 'X', 'Y', 'Z', 'a', 'b', 'c', 'd', 'e', 'f', 'g', 'h', 'i', 'j', 'k', 'l', 'm', 'n', 'o', 'p', 'q', 'r', 's', 't', 'u', 'v', 'w', 'x', 'y', 'z', '©', '¬', 'É', '√']\n",
            "Unique characters: 75\n",
            "Vectorization...\n"
          ]
        },
        {
          "output_type": "stream",
          "name": "stderr",
          "text": [
            "<ipython-input-59-225bf8033284>:29: DeprecationWarning: `np.bool` is a deprecated alias for the builtin `bool`. To silence this warning, use `bool` by itself. Doing this will not modify any behavior and is safe. If you specifically wanted the numpy scalar type, use `np.bool_` here.\n",
            "Deprecated in NumPy 1.20; for more details and guidance: https://numpy.org/devdocs/release/1.20.0-notes.html#deprecations\n",
            "  x = np.zeros((len(sentences), maxlen, len(chars)), dtype=np.bool)\n",
            "<ipython-input-59-225bf8033284>:30: DeprecationWarning: `np.bool` is a deprecated alias for the builtin `bool`. To silence this warning, use `bool` by itself. Doing this will not modify any behavior and is safe. If you specifically wanted the numpy scalar type, use `np.bool_` here.\n",
            "Deprecated in NumPy 1.20; for more details and guidance: https://numpy.org/devdocs/release/1.20.0-notes.html#deprecations\n",
            "  y = np.zeros((len(sentences), len(chars)), dtype=np.bool)\n"
          ]
        }
      ]
    },
    {
      "cell_type": "code",
      "source": [
        "from keras import layers\n",
        "import tensorflow as tf\n",
        "\n",
        "model = keras.models.Sequential()\n",
        "model.add(layers.LSTM(128, input_shape=(maxlen, len(chars))))\n",
        "#model.add(tf.keras.layers.Dense(4))\n",
        "model.add(layers.Dense(len(chars), activation='softmax'))\n",
        "\n",
        "#model.add(layers.Dense(len(chars), activation='relu'))\n"
      ],
      "metadata": {
        "id": "bps5cY8Kv34o",
        "colab": {
          "base_uri": "https://localhost:8080/"
        },
        "outputId": "76be4c2e-5461-44d2-879d-7e311ca3d139"
      },
      "execution_count": null,
      "outputs": [
        {
          "output_type": "stream",
          "name": "stderr",
          "text": [
            "WARNING:tensorflow:Layer lstm_25 will not use cuDNN kernels since it doesn't meet the criteria. It will use a generic GPU kernel as fallback when running on GPU.\n"
          ]
        }
      ]
    },
    {
      "cell_type": "code",
      "source": [
        "model.summary()"
      ],
      "metadata": {
        "colab": {
          "base_uri": "https://localhost:8080/"
        },
        "id": "l-KcC_bGKEet",
        "outputId": "f58e117a-e936-4aea-9182-197eb949fd7d"
      },
      "execution_count": null,
      "outputs": [
        {
          "output_type": "stream",
          "name": "stdout",
          "text": [
            "Model: \"sequential_23\"\n",
            "_________________________________________________________________\n",
            " Layer (type)                Output Shape              Param #   \n",
            "=================================================================\n",
            " lstm_25 (LSTM)              (None, 128)               104448    \n",
            "                                                                 \n",
            " dense_17 (Dense)            (None, 75)                9675      \n",
            "                                                                 \n",
            "=================================================================\n",
            "Total params: 114,123\n",
            "Trainable params: 114,123\n",
            "Non-trainable params: 0\n",
            "_________________________________________________________________\n"
          ]
        }
      ]
    },
    {
      "cell_type": "code",
      "source": [
        "optimizer = keras.optimizers.RMSprop(lr=0.01)\n",
        "model.compile(loss='categorical_crossentropy', optimizer=optimizer)"
      ],
      "metadata": {
        "id": "wTWNuCsDv7Wf"
      },
      "execution_count": null,
      "outputs": []
    },
    {
      "cell_type": "code",
      "source": [
        "def sample(preds, temperature=1.0):\n",
        "    preds = np.asarray(preds).astype('float64')\n",
        "    preds = np.log(preds) / temperature\n",
        "    exp_preds = np.exp(preds)\n",
        "    preds = exp_preds / np.sum(exp_preds)\n",
        "    probas = np.random.multinomial(1, preds, 1)\n",
        "    return np.argmax(probas)"
      ],
      "metadata": {
        "id": "cc0xHKDqv8yr"
      },
      "execution_count": null,
      "outputs": []
    },
    {
      "cell_type": "code",
      "source": [
        "import random\n",
        "import sys\n",
        "\n",
        "for epoch in range(1, 60):\n",
        "    print('epoch', epoch)\n",
        "    \n",
        "    # Fit the model for 1 epoch on the available training data\n",
        "    model.fit(x, y,\n",
        "              batch_size=128,\n",
        "              epochs=1)\n",
        "\n",
        "    # Select a text seed at random\n",
        "    start_index = random.randint(0, len(text) - maxlen - 1)\n",
        "    generated_text = text[start_index: start_index + maxlen]\n",
        "    print('--- Generating with seed: \"' + generated_text + '\"')\n",
        "\n",
        "    for temperature in [0.2, 0.5, 1.0, 1.2]:\n",
        "    #for temperature in [1.2, 1.5, 2.0, 2.2]:\n",
        "        print('------ temperature:', temperature)\n",
        "        sys.stdout.write(generated_text)\n",
        "\n",
        "        # We generate 400 characters\n",
        "        for i in range(400):\n",
        "            sampled = np.zeros((1, maxlen, len(chars)))\n",
        "            for t, char in enumerate(generated_text):\n",
        "                sampled[0, t, char_indices[char]] = 1.\n",
        "\n",
        "            preds = model.predict(sampled, verbose=0)[0]\n",
        "            next_index = sample(preds, temperature)\n",
        "            next_char = chars[next_index]\n",
        "\n",
        "            generated_text += next_char\n",
        "            generated_text = generated_text[1:]\n",
        "\n",
        "            sys.stdout.write(next_char)\n",
        "            sys.stdout.flush()\n",
        "        print()"
      ],
      "metadata": {
        "id": "AARJ9PRTv-66",
        "colab": {
          "base_uri": "https://localhost:8080/",
          "height": 1000
        },
        "outputId": "51f01299-3297-4b39-ee5c-643383f6576c"
      },
      "execution_count": null,
      "outputs": [
        {
          "output_type": "stream",
          "name": "stdout",
          "text": [
            "epoch 1\n",
            "Train on 12749 samples\n",
            "12749/12749 [==============================] - 4s 325us/sample - loss: 1.4909\n",
            "--- Generating with seed: \"108\t\"Ms. Kira Arney , Jr,\"\t\"CLIA, 11320 BAIRD AVE, PORTER RA\"\n",
            "------ temperature: 0.2\n",
            "108\t\"Ms. Kira Arney , Jr,\"\t\"CLIA, 11320 BAIRD AVE, PORTER RANTEN ,CA 92008\"\n",
            "371\t\"Mr. Kenn Bernnn , Jr, QA,\"\t\"111111115 CHIALE AVE, SAN ANTEN ,CA 91700\"\n",
            "171\t\"Mr. Allen Bernnn , Jr, QA,\"\t\"11170 SAN ANTEN DR, LONTEN ,CA 91720\"\n",
            "241\t\"Mr. Kennnn Bernnn , Jr, QC,\"\t\"10111 W STONT MAN ANTEN AVE, LAN ANTEN ,CA 91707\"\n",
            "272\t\"Mr. Annen Bernnn , Jr, QA,\"\t\"1111111311115\t\"Mr. Jarnnnn Bernnn , Jr, QA,\"\t\"17111 W 17TH AVE, TONTEN ,CA 91707\"\n",
            "378\t\"Mr. Jannnnn Bernnn , Jr, QA,\"\t\n",
            "------ temperature: 0.5\n",
            "H AVE, TONTEN ,CA 91707\"\n",
            "378\t\"Mr. Jannnnn Bernnn , Jr, QA,\"\t\"1017 FANDLE DR, FON DENTE ,CA 91760\"\n",
            "391\t\"Mr. Kiman Bernnn , Jr, QA,\"\t\"111112 DALELO DR, LONT ANTEN ,CA 91761\"\n",
            "127\t\"Dean . Mennn Beant , Jr, QA,\"\t\"1003 ACHELLE CT, FENTIN ,TX 78376\"\n",
            "16\t\"Mr. Jyennnn Bronnn , Jr, QA,\"\t\"14110 MANDE CTONT CALE CONTEN ,CA 91807\"\n",
            "271\t\"Mr. Alle Brenn , Jr, IQCP,\"\t\"2124 E COLENT ST, RON ANTENTON ,CA 91727\"\n",
            "219\t\"Mr. Ballen Bellen , Jr, QA,\"\t\"11115 ACALLE LAN DOLN CARMIN ,\n",
            "------ temperature: 1.0\n",
            "Mr. Ballen Bellen , Jr, QA,\"\t\"11115 ACALLE LAN DOLN CARMIN ,CA 92768\"\n",
            "365\t\"Mr. Jannes BeInson , HOD, ARIA,\"\t\"1408707D CLORA DORD AVE, PhEMD CITGS ,CA 91403\"\n",
            "317\t\"Mr. . #len , Jr, QC,\"\t\"17406 HUDAN AVE, IRGIERIYL ,CA 93406\"\n",
            "377\t\"Mr. Ilendan BusM , Dr, QC,\"\t\"15175 W 114\"MWAKATE PVENTES ANTONONE ,CI 94701\"\n",
            "271\t\"Mr. Kranein Barnnsn or, QA,\"\t\"1061 D LOLINT VCKIN ,CA 92847\"\n",
            "1687\"\t\"\t\"Msy Klerge Bunnstanngsandgend , Jr, IQCP,\"\t\"10231R SVENN .CA VES RANNEO ,CA 9131\n",
            "------ temperature: 1.2\n",
            "gsandgend , Jr, IQCP,\"\t\"10231R SVENN .CA VES RANNEO ,CA 91311\"\n",
            "177\t\"Mr.WKigeanna BircoOY Pentinem , Jr, QA,\"\t\"114117TH ZoLOA 1GRDENEDEWCOND TIND UM SUN CLIMAMENOO ,CA 91012\"\n",
            "POeM STK OlXvy Brdsn , Jr, QC,\"\t\"31170 PELACLELLL CLLSh WAY, GOLGREN PAN0N\"SEN ,CA 71044\"\n",
            "178\t\"Mrs. Sealan Boanytd , Jr, QA,\"\t\"1125 G2QC\"D 004, CRIGoV IsNIT STONB, UCTLDLCCPOUTE ,CA 93515\"\n",
            "11117\t\"Mr. anerBuidgnun Brerdn , Sr, QC,\"\t\"111151140CMrXSrRONCHDRDRELELT DA, # CLUMELLIOL ,FL -33\n",
            "epoch 2\n",
            "Train on 12749 samples\n",
            "12749/12749 [==============================] - 3s 267us/sample - loss: 1.4039\n",
            "--- Generating with seed: \"dridge , Sr, QA,\"\t\"6000 63RD TER, PINELLAS PARK ,FL 33781\"\n",
            "3\"\n",
            "------ temperature: 0.2\n",
            "dridge , Sr, QA,\"\t\"6000 63RD TER, PINELLAS PARK ,FL 33781\"\n",
            "331\t\"Mr. Mica Berson , Jr, QA,\"\t\"15310 SAN STE CTE LA DR DR, LANT PORT PA , APT 103, PARASA ,CA 93323\"\n",
            "113\t\"Mr. Midan Berder , Jr, QC,\"\t\"1211 SEN STE CT ,CA 92213\"\n",
            "160\t\"Dean. Midy Belle , Jr, QC,\"\t\"31311 SAN STON DR DR CARK ,CA 93023\"\n",
            "142\t\"Dean. Midan Bern , Jr, QC,\"\t\"1521 S PARE AVE, LANT PART PART , APT 12, SAN DA CHALE ,CA 93313\"\n",
            "161\t\"Mr. Midy Belle , Jr, QC,\"\t\"1725 SAN STON DR DR, SAN PART PORT\n",
            "------ temperature: 0.5\n",
            "r. Midy Belle , Jr, QC,\"\t\"1725 SAN STON DR DR, SAN PART PORT PART ,CA 92320\"\n",
            "252\t\"Mr. Olivan Berner , Jr, QC,\"\t\"1333 W 11TH TT ST, SAN PART PORTON ,CA 93213\"\n",
            "222\t\"Mr. Miilan Benn , Jr, QC,\"\t\"17517 COLEY DR DR, SAS PONTERCON ,CA 92525\"\n",
            "152\t\"Dean. Lian Berdes , Jr, QC,\"\t\"13316 ERA CTER ST, APT 12, APT 131, PARAST ,CA 93563\"\n",
            "454\t\"Dean. Ouda Bellan , PhD, QC,\"\t\"1045 GESTE LE DR PARA AVE, PART RO ,CA 95317\"\n",
            "380\t\"Dean. Miden Bernan , Jr, QA,\"\t\"1371 SET NOR ST, A\n",
            "------ temperature: 1.0\n",
            "5317\"\n",
            "380\t\"Dean. Miden Bernan , Jr, QA,\"\t\"1371 SET NOR ST, APT 162, SROND CTR ,FL 32283\"\n",
            "208\t\"Mr. Mssel Bonnna , PhD, QC5\"\t\"2117 225 STE NTY STON DR, H ONT PALT ,FL 32822\"\n",
            "416\t\"Dean. Land Bane , Jr, QA,\"\t\"1228 1E TET ND , USNT NAKDON ,CA 75002\"\n",
            "157\t\"Dean. Abielan xame0er , Sr, QA,\"\t\"1210 DA CHELL CAY ,CA 90084\"\n",
            "4n\t\"Dean. Elaadan # Phroels , Jr, CLIA,\"\t\"5 14 805 21HCTER 3R, SES DR, TEAPADCON ,CA 94635\"\n",
            "554\t\"Dean. Telarea Beydna , Sr, QA,\"\t\"12000 SARRWA ATR \n",
            "------ temperature: 1.2\n",
            "635\"\n",
            "554\t\"Dean. Telarea Beydna , Sr, QA,\"\t\"12000 SARRWA ATR SA, TORTHY CER BRES ,CA 92221\"\n",
            "238\t\"MS. Isan 0lanh  , Sr, QC,\"\t\"2363 GERO MTY RIG DR DR ,CO SANCA ,CA 93723\"\n",
            "119\t\"Ms. L Be N3letJamtander , Jenn , Jr, QC,\"\t\"13575 GLAYNI BSBHA SS, HIELD CARSSANT DANT PPTEn ,CA 92423\"\n",
            "058\t\"Mr. Kiavar AuVIR Jy , Jr, QC,\"\t\"105041 SAURA iVESON ARR PT, BAYCTAFF RAME ATX 75589\"\n",
            "423\t\"Ms. Mclepgaa Condaad 8 , Jr, QC,\"\t\"17368 FEM CMy ROTRA BAy ,CA 92340\"\n",
            "452\t\"Dean . Ay4 Be\n",
            "epoch 3\n",
            "Train on 12749 samples\n",
            "12749/12749 [==============================] - 3s 266us/sample - loss: 1.3163\n",
            "--- Generating with seed: \"046\"\n",
            "208\t\"Mr. Lilly Batche , Jr, QC,\"\t\"18621 NW 42ND CT, MIA\"\n",
            "------ temperature: 0.2\n",
            "046\"\n",
            "208\t\"Mr. Lilly Batche , Jr, QC,\"\t\"18621 NW 42ND CT, MIAMI ,FL 33194\"\n",
            "494\t\"Ms. Luna Barch , Sr, QA,\"\t\"1040 SEN CARA AVE, SAN ANTEN ,FL 33124\"\n",
            "244\t\"Ms. Michely Backer , Sr, QA,\"\t\"102 S CLANG ST, SAN PARTH ,FL 33427\"\n",
            "282\t\"Ms. Lach Barch , Sr, QA,\"\t\"1211 S CARAN DR, SAN DE ,CA 92327\"\n",
            "242\t\"Ms. Luran Barnett , Sr, QA,\"\t\"172 MARDEN AVE, SAN ANTEN ,CA 92324\"\n",
            "442\t\"Ms. Luna Barch , Sr, QA,\"\t\"1520 SAN ST, ST, APT 12, SAN DANG ,CA 92024\"\n",
            "282\t\"Ms. Lachely Ballo , \n",
            "------ temperature: 0.5\n",
            "T, ST, APT 12, SAN DANG ,CA 92024\"\n",
            "282\t\"Ms. Lachely Ballo , Sr, QA,\"\t\"1710 STH ST, SAN PARK ,FL 33224\"\n",
            "281\t\"Dean. Luily Brondell , Jr, QA,\"\t\"1532 S ST, ST, SAN ANGELEY ,CA 92124\"\n",
            "272\t\"Ms. Liny Bertth , Jr, QA,\"\t\"413 MAR ST, SAN ANGERES ,TX 77269\"\n",
            "422\t\"Ms. Jahesy Backson , Sr, CLIA,\"\t\"1714 SEN HICKE DR, SAN DR, PORTAN ,CA 92427\"\n",
            "252\t\"Ms. Machey Brand , Jr, QA,\"\t\"1214 STA GA ST, SAN DAN ,CA 92160\"\n",
            "449\t\"Dean. Lachely Bracs , Sr, QA,\"\t\"114 SAR ST, SAN ANGELE ,\n",
            "------ temperature: 1.0\n",
            "49\t\"Dean. Lachely Bracs , Sr, QA,\"\t\"114 SAR ST, SAN ANGELE ,CA 92619\"\n",
            "151\t\"Ms. Rach Bachors , Jr, QA,\"\t\"1770 TH BLGEaD BR, SON PARLE ,TX 7704d\"\n",
            "492\t\"Ms. DendHlyh Barcits , Sr, QA,\"\t\"1149 S ST, SAY AVIBRE ,TX 77606\"\n",
            "190\t\"No\t\"KaalisT Arcoty Jr Crechem , Jr, IQCP,\"\t\"317 JOL PT, DOW 3R, HEEJANCARCON ,TX 78593\"\n",
            "216\t\"Dean. Lanalla BLsnrn , PhD, QA, PORBrA6 175, SEN ESCoND ,AR 77027\"\n",
            "64\t\"Dean. Kaylen Pach Berkes , Sr, QA,\"\t\"10 Bl1404DRTWAND LVE, SON ST, SEM 70R, \n",
            "------ temperature: 1.2\n",
            "h Berkes , Sr, QA,\"\t\"10 Bl1404DRTWAND LVE, SON ST, SEM 70R, LEUSTVAFW LORTOtN ,FL 33956\"\t\"pran. Mncilsor Lacuhd , Jr, QA,\"\t\"8021 OPA AFLE AVE, #OS SAVISAN ,CA 92518\"\n",
            "322\t\"Ms. .u Bkasoln Adyssiigraveol , Jr, QA,\"\t\"1925 GERDORGA BLVD, ANTHIR ,CA 92272\"\n",
            "86\t\"Dean. Dy Barc. Jaykil , Jr, QC,\"\t\"160N  ULD WAYNTR BRiV CIRYD ,CA 92027\"\n",
            "213\t\"Ms. Kury CaDrondetrO , Sr, IQCP,\"\t\"1040 DRLV2BRDRCTen DE, ARX 227, OICHNARE ,FL 32420\"\n",
            "272\t\"Ms. LuQa\n",
            "61er\"Bany Buves , Pi19\"\t\"1\n",
            "epoch 4\n",
            "Train on 12749 samples\n",
            "12749/12749 [==============================] - 3s 274us/sample - loss: 1.2319\n",
            "--- Generating with seed: \"5002 SHADOWOOD TRL, COLLEYVILLE ,TX 76034\"\n",
            "120\t\"MS. Elijah A\"\n",
            "------ temperature: 0.2\n",
            "5002 SHADOWOOD TRL, COLLEYVILLE ,TX 76034\"\n",
            "120\t\"MS. Elijah Alland , Jr, QC,\"\t\"1714 SEN GONVELN DR, SAN ANTE ,CA 92522\"\n",
            "267\t\"Mr. Janey Ballin , Jr, QA,\"\t\"1041 SEN WINGER ST, APT A, ANTELES ,CA 94525\"\n",
            "122\t\"Mr. Lilly Ballin , PhD, QC,\"\t\"1710 N CLENGER ST, APT A, ,CA 92105\"\n",
            "424\t\"Mrs. Lulinna Ballin , Jr, QC,\"\t\"1041 N STONK AVE, APT A, ,CA 91323\"\n",
            "180\t\"Mr. Johnny Baller , Jr, QC,\"\t\"1744 N CLENGA AVE, APT A, ,CA 91765\"\n",
            "190\t\"Mr. Jonnntin Brown , Jr, QC,\"\t\"172 N CL\n",
            "------ temperature: 0.5\n",
            "T A, ,CA 91765\"\n",
            "190\t\"Mr. Jonnntin Brown , Jr, QC,\"\t\"172 N CLENT RD, BANELE ,CA 96828\"\n",
            "124\t\"Mr. Jossian Brown , Jr, QA,\"\t\"142 N HELLEY AVE, SON AVE, PORT ,CA 92820\"\n",
            "188\t\"Mr. Jontiny Bronntt , PhD, QA,\"\t\"1740 S CLENDRAVE BLVD, APT A, ANTERING ,CA 91191\"\n",
            "139\t\"Mr. Lilan Barner , Sr, QA,\"\t\"1720 SOLN BEVE, LON ANTELES ,CA 91717\"\n",
            "189\t\"Mr. Balinnn Brown , Jr, QA,\"\t\"114 MOLVILL AVE, SEN ANTELES ,CA 92812\"\n",
            "452\t\"Mr. Lilly Berrson , Sr, QA,\"\t\"1917 COMBUNW AVE, LON ANG\n",
            "------ temperature: 1.0\n",
            "452\t\"Mr. Lilly Berrson , Sr, QA,\"\t\"1917 COMBUNW AVE, LON ANGONEN ,CA 98308\"\n",
            "172\t\"Mrs. Mencey Baythetr , Jr, QC, \"\t\"PO BOX 91326, onSIN CARK ,CA 91192\"\n",
            "415\t\"Dr. Lur , A, GOUZ2922\"\n",
            "213\t\"Mr. Kelinas Belilson , Sr, QA,\"\t\"19799 LOGAFLENDERY RDE OMs LAN, HITES ,FL 34124\"\n",
            "149\t\"Mr. Jaoktiry Baliss , Sr, QA,\"\t\"1446 NIANTEYS WR2, PANCA ,CA 91923\"\n",
            "155\t\"Mr. Lixan Bauch Baller , PhD, QA,\"\t\"219 E BELMAD LN, POSECAR ,CA 92832\"\n",
            "288\t\"Mrs. Tarepintin Brond , Sr, QC,\"\t\"72 5 \n",
            "------ temperature: 1.2\n",
            "ECAR ,CA 92832\"\n",
            "288\t\"Mrs. Tarepintin Brond , Sr, QC,\"\t\"72 5 COTVEAN BRVD, SECKEEN ,FL 30527\"\n",
            "2500\", ars. LiliariingAdaasin , PhD, QC,\"\t\"1r919 SOT NIWENDHICH ANDD CIRIN PANM ,TX 76165\"\n",
            "523\t\"Ms. Telananin Beudrerer , Jr, QA,\"\t\"D115 W OLICOY AVE, SON DACK ,FL 32060\"\n",
            "301\t\"Mr. Woy Brhedstlont , Jr, QA, \"\t\"615 BuErLND EOLDNW LN, SANTARRON ,TX 77519\"\n",
            "266\t\"DeanT E iestane Beuch B8YY, JrReus , Br, QC,\"\t\"332172 Wi41sBROMH BRVC, VONTAYNOOUL ,CA 93805\"\n",
            "324\t\"Mr. Serac \n",
            "epoch 5\n",
            "Train on 12749 samples\n",
            "12749/12749 [==============================] - 4s 276us/sample - loss: 1.1468\n",
            "--- Generating with seed: \"ALA ,FL 34471\"\n",
            "243\t\"Ms. Caroline Belcher , Jr, QA,\"\t\"1533 JO\"\n",
            "------ temperature: 0.2\n",
            "ALA ,FL 34471\"\n",
            "243\t\"Ms. Caroline Belcher , Jr, QA,\"\t\"1533 JORNER ST, SES ANGELES ,CA 92505\"\n",
            "252\t\"Mrs. Lilan Barner , Jr, QA,\"\t\"1070 N CLEND CTO BEA ,CA 92503\"\n",
            "242\t\"Col. RIDGA AVE, APT A, CORONO ,CA 92505\"\n",
            "162\t\"Col. Ricker Brand , Jr, QA,\"\t\"1670 N CLENSTONT CTO ,FL 32167\"\n",
            "270\t\"Mrs. Luna Brand , Jr, QA,\"\t\"1024 CLEON AVE, SESPA ,TX 76526\"\n",
            "240\t\"Col. RIDGA AVE, APT 1, SAN ANTE ,CA 92523\"\n",
            "252\t\"Mrs. Alivan Bicker , Jr, QA,\"\t\"102 SEN RINGT CTONE ,FL 33903\"\n",
            "216\t\"Dr\n",
            "------ temperature: 0.5\n",
            "an Bicker , Jr, QA,\"\t\"102 SEN RINGT CTONE ,FL 33903\"\n",
            "216\t\"Dr. Lith Bentte , Jr, QA,\"\t\"170 SON WING CIR, APT 1, APT A, APT 7, WINTHER ,FL 32664\"\n",
            "270\t\"Col. Ricker Brenntton , Jr, QA,\"\t\"PO BOX 1576, WINGERTER ,TX 75133\"\n",
            "478\t\"Col. Allialla Amsher , PhD, QA,\"\t\"213 SEN LISTO CTO ,TX 78204\"\n",
            "264\t\"Mr. Brach Barcher , Jr, QA,\"\t\"190 N POURYTA AVE, PANITOON ,TX 75241\"\n",
            "431\t\"Dr. Mardeer Barres , PhD, QC,\"\t\"106 N CLINGOTON AVE, PAMINA ,CA 92003\"\n",
            "178\t\"Mrs. Anderin Berner \n",
            "------ temperature: 1.0\n",
            "N CLINGOTON AVE, PAMINA ,CA 92003\"\n",
            "178\t\"Mrs. Anderin Berner , PhD, CLIA,\"\t\"5231 PR UMEAOD ATE ,CA 90505\"\n",
            "164\t\"Col. RrEN PORNOD CARLE ,FL 34719\"\n",
            "253\t\"Colnna Chriwertsin , Jr, QC,\"\t\"90 SWEOOO COUMA ,TX 7E5, WISTONmA ,CA 92093\"\n",
            "223\t\"Mrs. Luri Bocka , Jr, CLIA, \"\t\"9IDROOD BREDENGA ,CA 92868\"\n",
            "312\t\"Col. Satherran Bryks , Jr, CLIA,\"\t\"3040 FRIVBRD LN, RIYMO ,CA 95295\"\n",
            "572\t\"Dean . AMNe Backer , Sr, CLIA,\"\t\"68T CHRISSTON VA, ROCKTON ,AR 73021\"\n",
            "341\t\"Mrs. Aliq Ban Bry\n",
            "------ temperature: 1.2\n",
            "\"68T CHRISSTON VA, ROCKTON ,AR 73021\"\n",
            "341\t\"Mrs. Aliq Ban BryF, Jr, ALIA, \"\t\"400 , FMENTOLE ALE9, UAVILOR ,CA 9460E\"\n",
            "255\t\"D26\t\"Dr. Rolieis Arwen , PhD, CLIA, \"\t\"742 DELWONDR AVE, PIMELBERDE ,CA 92505\"\n",
            "133\t\"CLla. ErcL LNM PANST ,FL 33067\"\n",
            "61\t\"Mr. 1ikarsie Aldz , PhD, IQCP,\"\t\"1325 TENALE AVE, NOCIE ,TX MORRSOO ,TX 783, \"\n",
            "151\t\"Mo\t Fennatina Bawerta , Pr, QA,\"\t\"720 PU5LBROGT VA DE , LAlFERTEE ,TX 78295\"\n",
            "361\t\"Dren Brandoel Ba29, PhICS\",\"6809 HEISTONAF BERE, ERIP\n",
            "epoch 6\n",
            "Train on 12749 samples\n",
            "12749/12749 [==============================] - 3s 272us/sample - loss: 1.0630\n",
            "--- Generating with seed: \"729 W CLAIRMONT CIR, APT 112K-3, TAMARAC ,FL 33321\"\n",
            "397\t\"Mr.\"\n",
            "------ temperature: 0.2\n",
            "729 W CLAIRMONT CIR, APT 112K-3, TAMARAC ,FL 33321\"\n",
            "397\t\"Mr. Ligan Barco , Sr, QA,\"\t\"1710 N CLINGTAN DR, SAN DO ,CA 91765\"\n",
            "117\t\"Mr. Liala Aderson , Sr, QA,\"\t\"1711 N PORK AVE, APT 1, ALITON ,CA 91763\"\n",
            "16\t\"Dean. Lialan Anderson , Jr, QA,\"\t\"1711 SEN RINGT ST, SAN DO ,CA 91763\"\n",
            "111\t\"Ms. Liala Alavia , Sr, QA,\"\t\"1711 SAN RINGTAR ST, SAN DO ,CA 92565\"\n",
            "11\t\"Ms. Lich Barra , Sr, QA,\"\t\"1111 SAN RINGH LN, SAN DO ,CA 95311\"\n",
            "151\t\"Ms. Lialan Allander , Jr, QA,\"\t\"1711 SA\n",
            "------ temperature: 0.5\n",
            "N DO ,CA 95311\"\n",
            "151\t\"Ms. Lialan Allander , Jr, QA,\"\t\"1711 SANCHESTER ST, STERANTE ,CA 90155\"\n",
            "41\t\"Ms. Sathey Brand , Jr, QA,\"\t\"21714 SW 17TH ST, MORTERTY ,CA 92164\"\n",
            "135\t\"Dean. Raco Brack , Jr, QA,\"\t\"1725 PINARRON DR, SAN DO HOULA AVE, APT 1, APLING CITY ,CA 92315\"\n",
            "411\t\"Mr. Bricey Burce , Jr, QA,\"\t\"1717 N CLIAKE LN, HORTAND ,CA 92325\"\n",
            "15\t\"Dean. Lica Agerson , Jr, QA,\"\t\"1714 COLBARA ST, SAN DO ,FL 33118\"\n",
            "254\t\"Ms. Liries Amissond , Sr, QA,\"\t\"1503 SAN GARRER ST\n",
            "------ temperature: 1.0\n",
            "118\"\n",
            "254\t\"Ms. Liries Amissond , Sr, QA,\"\t\"1503 SAN GARRER ST, TOch ORCULMON ,CA 91325\"\n",
            "161\t\"Dean. Gsani Aryand , Jr, QA,\"\t\"7704 VILQCO BROD ,TX 30883\"\n",
            "357\t\"Ms. Jaco Brack , Sr, QA,\"\t\"111717 JONNEFTRINGTA DAL ND, uONTERIR , A AONOO ,CA 95191\"\n",
            "113\t\"Col. Jacoh Ar , Sr, QA,\"\t\"2541 24cL WT, STE GR DER CHOLLAS ,CA 91334\"\n",
            "11\t\"Dean. Msciy Brack , Jr, QA,\"\t\"1447 2GBRISHa AVE, RICHMOND ANE, ACKIS15133e4a Brack , PhD, QA\t\"\t\"31n SORKWAY ST, ROSSANC ,CA 90260\"\n",
            "412\t\"Dea\n",
            "------ temperature: 1.2\n",
            "ack , PhD, QA\t\"\t\"31n SORKWAY ST, ROSSANC ,CA 90260\"\n",
            "412\t\"Dean. Liixae Aliva , Jr, IQCP,\"\t\"6656 STERAD LN, SAA IORERO ,CA 94765\"\n",
            "136\t\"Dean . LuKKvant Bauss ,rOm, Jr, CLIA,\"\t\"1765 lLO1KST ST, JAN ULLICH ,CA 92165\"\n",
            "19\t\"Dr. Ladetr Brykert , Sr, IQCPh\"\"\" 2100a TTR ST, STC MOUTH ,FL 33OSORD LVE, APTSO, OVINO ,FU 34527\"\n",
            "224\t\"Col. Liche ArroshROn , Sr, IQCP,\"\t\"56914 W UCIFLLNCA LLN WImoT ,FL 32788\"\n",
            "454\t\"AGGsamiy Broweok , PhD, QC\"\t\"17174 W . SECHEY AC4, LONTAN WEY\n",
            "epoch 7\n",
            "Train on 12749 samples\n",
            "12749/12749 [==============================] - 4s 287us/sample - loss: 0.9866\n",
            "--- Generating with seed: \"S ,CA 95036\"\n",
            "122\t\"Ms. Samantha Ashburn , Jr, IQCP,\"\t\"272 SAN\"\n",
            "------ temperature: 0.2\n",
            "S ,CA 95036\"\n",
            "122\t\"Ms. Samantha Ashburn , Jr, IQCP,\"\t\"272 SAN RINGT LN, WAYSTER ,CA 91764\"\n",
            "199\t\"Mr. Karey Brown , Sr, QA,\"\t\"1049 COMINGRALE BAY ,CA 92663\"\n",
            "199\t\"Mr. Karer Berry , Sr, QA,\"\t\"170 SAN PARRTEY AVE, APT 11, ANAHEIM ,CA 91764\"\n",
            "199\t\"Mr. Markana Arrond , Sr, QA,\"\t\"104 E CLIAKE LN, WAYSTER ,CA 91764\"\n",
            "199\t\"Mr. Markan Barry , Sr, QA,\"\t\"1471  ANDER WAY, APT 11, ANAHEIM ,CA 91764\"\n",
            "199\t\"Mr. Katelyn Brand , Sr, QA,\"\t\"117 BLICALE DR, APT 1, ANTELIS ,CA 92593\n",
            "------ temperature: 0.5\n",
            "n Brand , Sr, QA,\"\t\"117 BLICALE DR, APT 1, ANTELIS ,CA 92593\"\n",
            "91\t\"Mr. Ela Ariden Brown , Sr, IQCP,\"\t\"3079 COMWAYN AVE, TESTER ,FL 33417\"\n",
            "197\t\"Mr. Jardana Amtonn , Sr, QA,\"\t\"417 FERICHLAST, CLIMOWOO ,CA 94664\"\n",
            "129\t\"Mr. Kayle Berrs , Sr, CLIA,\"\t\"760 CARRISA CLESTER PARK ,FL 33411\"\n",
            "488\t\"Ms. Lialan Berry , Sr, CLIA,\"\t\"1601  LNICHEALE AVE, APT 1, ANAHEIM ,CA 91366\"\n",
            "199\t\"Dean. Adand Brand , Sr, QA,\"\t\"421 SEN RINGTALE AVE, APT 2, ANTELIN ,CA 92653\"\n",
            "127\t\"Mr. Sarda\n",
            "------ temperature: 1.0\n",
            "1 SEN RINGTALE AVE, APT 2, ANTELIN ,CA 92653\"\n",
            "127\t\"Mr. Sardan Borph ,eS ,T\t\"\t\"2171 3W 89T ST, GANGGO VALLEAS ,CA 92620\"\n",
            "583\t\"Ms. amponk Aders , Jr, QA,\"\t\"PO BAX 1002, ANAHEIM ,AR 70200\"\n",
            "189\t\"Mr. KeAkar Belly ,TSr, QA,\"\t\"1078  CA MICHELOW ,CA 91740\"\n",
            "182\t\"Mr. \tsora Brredrer , Sr, IQCP,\"\t\"16990 GALEGRA elk BAVIELES JARIE ,FL 33443\"\n",
            "775\t\"Mr. Cader Alerard , Sr, QA,\"\t\"2047 FLITER ST, RIMBARGA ,CA 9005 \"\n",
            "164\t\"Mr. Roshetor Burker , Sr, IQCP,\"\t\"90 D WOMIACO 7AY PA\n",
            "------ temperature: 1.2\n",
            "\"\n",
            "164\t\"Mr. Roshetor Burker , Sr, IQCP,\"\t\"90 D WOMIACO 7AY PARTUROR ,FL 33888\"\n",
            "382\t\"Mr. Sarthey BeXzoed , PhD,\"\t\"MIQA\"h996 COMANYALLEZ RPETH CIRRE ,CA 95326\"\n",
            "237\"\t\"MrM Briklaer Biggss , PhD, QA,\"\t\"l40 SAN MIELT BRVD, APTON, POME ,CA 92045\"\n",
            "154\t\"MS. Katernam Ashr, Jr, QC, CFPbi40 FAISTES BROVE CIMs, ROKMUME ,FL 33314\"\n",
            "393\t\"Mr. Horl Brown , PhD, QA, \t\"2609 DOCK LN\t\"BrR, QCa625 17, DSaDBURy LLVINW ,CA 91237\"\n",
            "239\t\"Mr. JAkey Berry , Sr, QA,\"\t\"790 ECKRAVERDElH BA\n",
            "epoch 8\n",
            "Train on 12749 samples\n",
            "12749/12749 [==============================] - 4s 281us/sample - loss: 0.9249\n",
            "--- Generating with seed: \"EIM ,CA 92805\"\n",
            "451\t\"Mr. Michael Buno , Sr, CLIA,\"\t\"409 8TH S\"\n",
            "------ temperature: 0.2\n",
            "EIM ,CA 92805\"\n",
            "451\t\"Mr. Michael Buno , Sr, CLIA,\"\t\"409 8TH ST, LON ANTENID ,CA 92525\"\n",
            "242\t\"Ms. Lialan Bernett , PhD, QC,\"\t\"11025 FLE DOLD AVE, LON BEVISLE ,FL 33025\"\n",
            "242\t\"Ms. Lialle Arnett , PhD, QC,\"\t\"2227 CLANGHER PA, BAMINAS ,CA 92525\"\n",
            "351\t\"Mr. Brand Barks , PhD, QC,\"\t\"1020 SAN PIDBE TH ,FL 33212\"\n",
            "222\t\"Ms. Lilly Barnott , PhD, QA,\"\t\"1020 N CLE PONNT AVE, PANMBAS ,CA 92525\"\n",
            "222\t\"Ms. Bramie Bernett , PhD, QC,\"\t\"2147 W 79TH TON, LINCHES ,CA 92525\"\n",
            "322\t\"Ms.\n",
            "------ temperature: 0.5\n",
            "tt , PhD, QC,\"\t\"2147 W 79TH TON, LINCHES ,CA 92525\"\n",
            "322\t\"Ms. Lichor Barnint , PhD, QA,\"\t\"1120 ELD LOK CIR, CLIVESS, SAN DESTE ,CA 91723\"\n",
            "311\t\"Mr. Lialan Barner , Sr, QC,\"\t\"1025 SAN WIST CIR, APT 10A, LICHLES ,CA 92523\"\n",
            "247\t\"Mr. Brattin Bender , PhD, QC,\"\t\"12210 N CLANK CIR, APT 1, ANAHEIM ,CA 92326\"\n",
            "252\t\"Ms. Tyler Bullin , PhD, QA,\"\t\"4025 ERROND AVE, LON ANTENIO ,TX 77526\"\n",
            "217\t\"Dean. Try Brand , PhD, QA,\"\t\"2855 E PONKTER ST, APT 23, SAN DR, CLEAMESTE ,CA 9\n",
            "------ temperature: 1.0\n",
            "hD, QA,\"\t\"2855 E PONKTER ST, APT 23, SAN DR, CLEAMESTE ,CA 90225\"\n",
            "255\t\"Mrs. BetlaD AnttoUg , Jr, QA,\"\t\"5131  ELLE TOR ST, WON NITELES ,CA 92650\"\n",
            "222\t\"MS. Markeriry Barnardagilla , PhD, QA,\"\t\"2278 SUNTORNY AVE, WOVALRALE ANA ,FL 34226\"\n",
            "447\t\"Ms. Micay Alaxand , PhD, QC,\"\t\"2818 SPCROCKETTY LN, SAN DOLK ,FL 32746\"\n",
            "447\t\"Dean . MarksCaderta , Jr, QC,\"\t\"4408 CHALLTAS DR, FEESSTE ,CA 92558\"\n",
            "312\t\"Dean . Lurand Bennez , PhD, QC,\"\t\"113165 BAYCoNA AVE, LON POLK ,CA 95\n",
            "------ temperature: 1.2\n",
            "rand Bennez , PhD, QC,\"\t\"113165 BAYCoNA AVE, LON POLK ,CA 95526\"\n",
            "228\t\"Mr. Jake Btert , Sr, QC,\"\t\"4211 MWEIN 2P, VINPER ,TX 78426\"\n",
            "295\t\"Ms. Lurom ACh\"\t\", PhD, FOVICOv, PALE BISCA ,FR 3378c\"\n",
            "23k\t\"Dean. OKLa Anneatt , PhD, CLIA,\"\t\"OO BOX 92, EW MFACH ,FL 33472\"\n",
            "324\t\"Dean. Marty Barka , Jr, CLIA,\"\t\"8445 CHANBIEN 3P, SEN DRROD ,TX 70129\"\n",
            "339\t\"Dean5 Tstint Beuks 1115, Jr, MOUDR ,CA 9393, ONTON ,CA 9FE LE,\"usnA ,dA\"\t\"DOy DR, APT 129, WEST PAMEN WARD ,FL 33819\"\n",
            "42\n",
            "epoch 9\n",
            "Train on 12749 samples\n",
            "12749/12749 [==============================] - 4s 290us/sample - loss: 0.8611\n",
            "--- Generating with seed: \"909 MASTERSON DR, PLANO ,TX 75093\"\n",
            "91\t\"Col. Emmery Antoine ,\"\n",
            "------ temperature: 0.2\n",
            "909 MASTERSON DR, PLANO ,TX 75093\"\n",
            "91\t\"Col. Emmery Antoine , Sr, QC,\"\t\"1035 RADEW ST, SAN DOR, PORTH ORKEN ,TX 75536\"\n",
            "219\t\"Dr. Mich elrand , Sr, QC,\"\t\"1040 SANCHE CIR, APT A, NIMELASTEN ,CA 95319\"\n",
            "149\t\"Mr. Johney Balrouksorder , Sr, QC,\"\t\"1513 SANCHE CIR, APT 11, SAN DINGT ,CA 95390\"\n",
            "119\t\"Dr. Mich Branksoud , Sr, QC,\"\t\"110 N CLIVER ST, SAN DOR, , APT 1103, OUMBALA ,CA 95390\"\n",
            "11\t\"Ms. Andelyn Allandand , Sr, QC,\"\t\"1040 SEN GROND CIR, APT 11, SAN ANTENIG ,CA \n",
            "------ temperature: 0.5\n",
            "and , Sr, QC,\"\t\"1040 SEN GROND CIR, APT 11, SAN ANTENIG ,CA 95020\"\n",
            "321\t\"Ms. Sithaian Burch , Sr, IQCP,\"\t\"1670 MORON AVE, SELINA ,CA 95304\"\n",
            "125\t\"Mr. Christin Beans , Sr, QC,\"\t\"1040 SW 19TT ST, PAMARARA ,CA 92565\"\n",
            "301\t\"Mr. Kaya Antonie , Sr, QC,\"\t\"1030 DOLE ST, SAN DALCA ,FL 32104\"\n",
            "381\t\"Ms. Alav Allana , Jr, QC,\"\t\"5508 SENIGHA AVE, LANCASTER ,CA 95310\"\n",
            "367\t\"Mr. Michyea AshSrend , PhD, QC,\"\t\"2250 SUNSTER ST, APT 11, WOSTAN ,CA 95429\"\n",
            "114\t\"Dr. Markey Aressoll \n",
            "------ temperature: 1.0\n",
            "STER ST, APT 11, WOSTAN ,CA 95429\"\n",
            "114\t\"Dr. Markey Aressoll , PhD, CLIA,\"\t\"372 STAMENTOR ST, MOX 7, ,CA 95395\"\n",
            "6\t\"Ms. heeUttin Anub RInnus , Sr, IQCP,\"\t\"3040 GARDEN ST, SAN PRINGTER ,CA 92146\"\n",
            "328\t\"Ms. Andy Antlon , Sr, CLIA,\"\t\"2121 FEGOVE RI, COMBAR ,FL 32601\"\n",
            "396\t\"Ms. Amy Bolbotk , Sr, CLIA,\"\t\"50304 CUULSAN PAR9H DR, PORAYA ,CA 72586\"\n",
            "302\t\"Mr. 5lav Arroun , Jr, QC,\"\t\"441 CALAS DR, JANTHOWOON ,CA 95043\"\n",
            "89\t\"Dr. Kya AUSTON ,TX 75273\"\n",
            "41\t\"Ms. Larowna ANGsar\n",
            "------ temperature: 1.2\n",
            " 95043\"\n",
            "89\t\"Dr. Kya AUSTON ,TX 75273\"\n",
            "41\t\"Ms. Larowna ANGsardeo , PhD, QA,\"\t\"CO COX 81924, ORIMBENG, OCKENN ,CA 91803\"\n",
            "179\t\"Mr. Okdier Bossol, Sr, QA,\"\t\"\n",
            "2713 UARROST CIR, BANEROVILLA ,TX 77046\"\n",
            "316\t\"Mr. Miranda Aanaa , Sr, IQCP,\"\t\"44n d ITISTA AVE, JARLASH ,TX 75063\"\n",
            "119\t\trMs. DeaY Bumbtount , PhD, CLIA,\"\t\"6367 SENSTEW ST, ROHKA AVE, mAMIAMONT ,AR MAN0TORY ,CA 9442H\"\n",
            "339\t\"Ms. Viney Bnertkko , Sr, QA,\"3\"413 SANCITAY DR, dINTAGRAn ,CA 95028\"\n",
            "102\t\"Mess. Mich\n",
            "epoch 10\n",
            "Train on 12749 samples\n",
            "12749/12749 [==============================] - 3s 273us/sample - loss: 0.7989\n",
            "--- Generating with seed: \",\"\t\"29972 GRANGER PL, CASTAIC ,CA 91384\"\n",
            "172\t\"Dean. Adlee Ba\"\n",
            "------ temperature: 0.2\n",
            ",\"\t\"29972 GRANGER PL, CASTAIC ,CA 91384\"\n",
            "172\t\"Dean. Adlee Barco , Sr, QA,\"\t\"1513 N CLOOKSTENT DR, ANAHEIM ,CA 92533\"\n",
            "362\t\"Dr. Lialie Amson , Sr, QA,\"\t\"1734 SEN LN, ANGESTER ,CA 91363\"\n",
            "362\t\"Dr. Luia Anderson , Sr, QA,\"\t\"1473 SANNIEA RD, APT A, ENGORTER ,CA 92563\"\n",
            "321\t\"Mr. Josh Bickson , Sr, QA,\"\t\"1533 SENTER ST, SAN DALLEN, PALM ,AR 72423\"\n",
            "236\t\"Mr. Johathan Bollen , Sr, QA,\"\t\"170 DELLEN RD, FON ANGELES ,CA 92533\"\n",
            "355\t\"Mr. Luia Anderson , Sr, QA,\"\t\"1533 MARR\n",
            "------ temperature: 0.5\n",
            "ELES ,CA 92533\"\n",
            "355\t\"Mr. Luia Anderson , Sr, QA,\"\t\"1533 MARRON RD, APT 11, SAN BALLANG ,AR 72319\"\n",
            "288\t\"Mr. Elivin Bender , Sr, QA,\"\t\"605 S RIFFFORAN AVE, SEAPE ,AR 72512\"\n",
            "208\t\"Ms. Tonn Ben Boyner , Jr, QA,\"\t\"15476 CALAKER PORNH LN, PENSTER ,FL 34443\"\n",
            "408\t\"Dean. Tonn Aguela , Sr, QA,\"\t\"1642 SUNSTER ST, LESPERTER ,CA 92520\"\n",
            "233\t\"Mr. Tyler Bustin , Sr, QA,\"\t\"1020 GALLES AVE, APT 11, WONTHER RINGDELLE ,FL 34727\"\n",
            "288\t\"Mr. Sheph Bassill , Jr, QA,\"\t\"3371 SENDOR A\n",
            "------ temperature: 1.0\n",
            " ,FL 34727\"\n",
            "288\t\"Mr. Sheph Bassill , Jr, QA,\"\t\"3371 SENDOR AVE, SON BAYLENEA CHUES ,CA 90355\"\n",
            "241\t\"Dr. Abdlie Amned , Jr, QC,\"\t\"1977 COUMEN ST, ROVINW ,FL 33453\"\n",
            "435\t\"Dr. Luna A AnIa , Sr, IQCP, \"\t\"1790 N HOLDAN DR, IESS PARK ,AL 32443\"\n",
            "206\t\"Mr. Jacob Bi19 Jr, IQCP,\"\t\"1568 S CLAMORON 33, LAT\"\n",
            "567\t\"Col. Eli AVISWIC, SAN DOLLA ,FL 34843\"\n",
            "258\t\"Dr. Liila Beach , Sr, QC, \"\t\"367s NOLVEND CHOREN DR, APT S4, HOUBMO ,TX 78241\"\n",
            "325\t\"Dean. Toed Berros , Sr, IQCP,\"\t\"4\n",
            "------ temperature: 1.2\n",
            "S4, HOUBMO ,TX 78241\"\n",
            "325\t\"Dean. Toed Berros , Sr, IQCP,\"\t\"49v MORIBAR RO, SEACITA ,AR 72111\"\n",
            "221\t\"Mr. Roshea Bruett , Sr, QC,\"\t\"17344 LA6DER NEW SE, HIALE ,TX 7753\"\n",
            "455\t\"Dr. Liala AbCa\"\t\"5440 SUNlYTEN ARRO MAN BEPNCY ,CA 95303\"\n",
            "179\t\"Dr. Mica Ad05\t\"\tRQeacker , Jr, QA,\"\t\"2083 N TELDELL SA, SANCATE ,CA 916860MS LICALEY 7A\t\"ROMBRA ,FL 33173\"\n",
            "3\t\"Dean. Teliey Beyertt , Jr, QC,\"\t\"3819 W 17TH ST, HIAMINVER, SATINT, LUMaANGLEER, PONVIESTER ,CA 91888\"\n",
            "431\t\"Mr. Jonn\n",
            "epoch 11\n",
            "Train on 12749 samples\n",
            "12749/12749 [==============================] - 4s 280us/sample - loss: 0.7521\n",
            "--- Generating with seed: \"D GREEN DR, SAN ANTONIO ,TX 78250\"\n",
            "20\t\"Mr. Jackson Adeeb , P\"\n",
            "------ temperature: 0.2\n",
            "D GREEN DR, SAN ANTONIO ,TX 78250\"\n",
            "20\t\"Mr. Jackson Adeeb , PhD, QC,\"\t\"1770 N POROND AVE, SEN DALE ,CA 91703\"\n",
            "167\t\"Col. Ryan Brown , Sr, QC,\"\t\"1040 N CLAVENON AVE, SAN DOLD ,TX 77546\"\n",
            "211\t\"Dean. Marad Bordon , Sr, IQCP,\"\t\"607 TRINGWALL AVE, SEN DRAGH ,TX 77046\"\n",
            "222\t\"Col. Ryan Barnon , Sr, IQCP,\"\t\"202 SAN GRONWAY AVE, LES ANT ,IA 90340\"\n",
            "120\t\"Col. Ryan Bollon , Sr, QC,\"\t\"170 DOUGHALA AVE, LONTAS ,TX 77533\"\n",
            "11\t\"Ms. Lialar Allandand , Jr, QC,\"\t\"1471 lAKELE DR, \n",
            "------ temperature: 0.5\n",
            "77533\"\n",
            "11\t\"Ms. Lialar Allandand , Jr, QC,\"\t\"1471 lAKELE DR, CANME ,TX 77537\"\n",
            "13\t\"Mr. Lialiag Amusta , PhD, QC, 9078 N PARAROST CT, ESCANT ,CA 92120\"\n",
            "13\t\"Dr. Lialsard Barro , Sr, QC,\"\t\"1721 PARAY CT, PONAMA ,TX 77536\"\n",
            "41\t\"Ms. Lialin Barnind , PhD, QC,\"\t\"1473 SW 90TH AVE, APT 21, HIALIAM ,TX 77546\"\n",
            "221\t\"Dean. Ady Bronder , Sr, QC,\"\t\"11720 HINGORL AVE, # A, ANTA ,CA 92503\"\n",
            "11\t\"Ms. Lialor Aplsarda-Io , Sr, IQCP,\"\t\"613 N CLOVIRAN DR, APT 1, CLORAND ,TX 76533\"\n",
            "1\n",
            "------ temperature: 1.0\n",
            ", Sr, IQCP,\"\t\"613 N CLOVIRAN DR, APT 1, CLORAND ,TX 76533\"\n",
            "17\t\"Dean anchel Betssigr , Sr, QC,\"\t\"26414 HOMOUNDAL LN, Y AR ,FL 33344\"\n",
            "275\t\"Dr. Lialice Adams , PhD, QC,\"\t\"11016 KINTH AVE, APT S09, MIALLEY ,FL 33775\"\n",
            "90\t\"Ms. Micay Bekdrond , Sr, QC,\"\t\"1720 HIDBON DRON PEELE DR, RIEMINA ,TX 77537\"\n",
            "129\t\"Mr. Kayle Belsicg , Sr, QC,\"\t\"10170 GOURIWAY ST, ALEASONT ,TX 77544\"\n",
            "399\t\"Col. Hataeln Ballo , Sr, QC,\"\t\"108 BLECZMINGSTANE AVE, # STX ,CA D460 \"\n",
            "211\t\"Dr. Isae B\n",
            "------ temperature: 1.2\n",
            ",\"\t\"108 BLECZMINGSTANE AVE, # STX ,CA D460 \"\n",
            "211\t\"Dr. Isae B\"lssal3o , Sr, QC,\"\t\"PO BOX 229DA RD, APT A1TEa ,CA 91p23\"\n",
            "28 PANNTAVELIND CL, CORANE ,TX 77546\"\n",
            "399\t\"Dean . NdCe Brosh , Sr, IQCP,\"\t\"28 COMBROVIS o4, PANCTOON ,AL 341625\"\n",
            "49\"\t\"Mr. BrtRLy Bramdor , Sr, CLIA,\"\t\"1010 DLOND VAL EVDR ANKTER PENKH 8R, SANCHoT ST, IQCO 84, WEST NINGR ,CA 97103\"\n",
            "49\t\"Dean . LianiN Allavia--a , P, CL0\"\t\"327 HIMBRUCHOCALD DR, JAKERCHLLEY, HOUIN ,TX 765175\"\n",
            "9\t\"Dr. Liarson Ad\n",
            "epoch 12\n",
            "Train on 12749 samples\n",
            "12749/12749 [==============================] - 4s 278us/sample - loss: 0.7005\n",
            "--- Generating with seed: \",TX 76180\"\n",
            "339\t\"Ms. Trevor Boone , Sr, QC,\"\t\"5401 SW 131ST A\"\n",
            "------ temperature: 0.2\n",
            ",TX 76180\"\n",
            "339\t\"Ms. Trevor Boone , Sr, QC,\"\t\"5401 SW 131ST AVEENG ,TX 78036\"\n",
            "122\t\"Dean. Tonn Anderso , Sr, IQCP,\"\t\"11019 CLAVE LN, FONTAN ,TX 77033\"\n",
            "322\t\"Dean. Daniel Banders , Jr, QA,\"\t\"1000 SENTER OR, FONTAN ,TX 78033\"\n",
            "122\t\"Dean. Daniel Bandssey , Jr, QA,\"\t\"1020 LE FREEDE LN, FORT MORTH ,TX 78533\"\n",
            "222\t\"Mr. Jayden Beverlo , Sr, IQCP,\"\t\"10000 GRANGE CIR, APT 1, ANAHEIM ,CA 92593\"\n",
            "352\t\"Ms. Marky Barrs , Jr, IQCP,\"\t\"1020 NW 19TH ST, MIAMI ,FL 33133\"\n",
            "222\t\"Dea\n",
            "------ temperature: 0.5\n",
            "rrs , Jr, IQCP,\"\t\"1020 NW 19TH ST, MIAMI ,FL 33133\"\n",
            "222\t\"Dean. Sathennin Bayles , Sr, IQCP,\"\t\"7055 SEN PINGTER CIR, APT A, NANTH FIES ,FL 33391\"\n",
            "443\t\"Col. Aliy Blachor , Sr, QA,\"\t\"10060 ERION CID, APT 2, STONT ORKS ,TX 75531\"\n",
            "313\t\"Dean. Tsany Batchel , Jr, QA,\"\t\"2101 MARELE AVE, LONTANE ,CA 95833\"\n",
            "220\t\"Ms. Ela Adennn Broshol , Jr, IQCP\"\t\", 1260 N COUMERAY BRED, SAN D, SANAACH ,FL 33315\"\n",
            "372\t\"MS. Pard Barry , Sr, IQCP,\"\t\"5520 SW 11TH ST, RICHMOND ,TX 75533\"\n",
            "------ temperature: 1.0\n",
            "ard Barry , Sr, IQCP,\"\t\"5520 SW 11TH ST, RICHMOND ,TX 75533\"\n",
            "206\t\"Col. Michary Baxers , Sr, QA,\"\t\"3804 MARROLVE CT, ROKRDrOVES ,CA 92533\"\n",
            "42\t\"Col. Rylee ATroVE, Sr, IQCP,\"\t\"19720 HICKYSHE LN, LANCHOPRING ,CA 93913\"\n",
            "351\"\tDs. Lila Abwnen , Sr, QA,\"\t\"9004 49GM AVE, APT 11, SOOKT ONTH PORK ,FL 338055\"\n",
            "151\t\"Mr. Rosin Barlb , Jr, QC,\"\t\"11r ROUKSEN DR, HeUSTER ,CA 91316\"\n",
            "151\t\"Mr0. Sathey Britksep , Sr, IQCP\"\t\", \"495 CORRFELL ST, POMANA ,CA 95763\"\n",
            "127\t\"Dean. Audan\n",
            "------ temperature: 1.2\n",
            "QCP\"\t\", \"495 CORRFELL ST, POMANA ,CA 95763\"\n",
            "127\t\"Dean. Audan Al\"land , Jr, QA,\"\t\"DO0 1349C DR, FINTATER ,CA 93310\"\n",
            "187\t\"Mr. CarrLineland CKankiella , Sr, IQCP,\"\t\"23943 ORIVER ST, APT 2,HE LN, PANAGA ,OR PORTK ,TX 75179\"\n",
            "n28\t\"Mr. Jalako Ballos , Sr, IQCP,\"\t\"12160 HIHGLESTE LN, SAN ALAAGE ,FL 33319\"\n",
            "29\t\"Dean . Lu414\"\n",
            "220 3755\"DD. LiKA DOCS ,FL 33033\"\n",
            "78\t\"Dean. Eliya Andreeso , Sr, QA,\"\t\"41040 CLAVE LNDE WIS, SAC AmHONA ,FL 32124\"\n",
            "27l\t\"Ms. Gyad RVD, CLIA,\"\t\"1\n",
            "epoch 13\n",
            "Train on 12749 samples\n",
            "12749/12749 [==============================] - 4s 281us/sample - loss: 0.6654\n",
            "--- Generating with seed: \", IQCP,\"\t\"17 DOMINGUEZ ST, ALISO VIEJO ,CA 92656\"\n",
            "116\t\"Dean.\"\n",
            "------ temperature: 0.2\n",
            ", IQCP,\"\t\"17 DOMINGUEZ ST, ALISO VIEJO ,CA 92656\"\n",
            "116\t\"Dean. Mack Bramstes , Jr, QA,\"\t\"11320 CLIOND ST, LANCHEST ,TX 75236\"\n",
            "262\t\"Dean. Adyann Beller , Jr, QC,\"\t\"1605 CILAVE DR, APT A0244HERRON ,CA 92536\"\n",
            "286\t\"Mr. Jarophan Bargy , Jr, QA,\"\t\"1046 N CLEILSAN DR, ANAHEIM ,CA 92505\"\n",
            "362\t\"Dean. Adyiel Barniss , Jr, QA,\"\t\"10360 NW 15TH AVE, APT A, NO DRON ,CA 95626\"\n",
            "244\t\"Mr. Jarophan Barny , PhD, QA,\"\t\"1111 W BLADER PORN BLVD, APT 1101\"\n",
            "454\t\"Mr. Michael Barnas , \n",
            "------ temperature: 0.5\n",
            "111 W BLADER PORN BLVD, APT 1101\"\n",
            "454\t\"Mr. Michael Barnas , Jr, QA,\"\t\"1045 WELD NIDW DR, LANTHER ,CA 92645\"\n",
            "341\t\"Mr. Miraner Buunt , Jr, QA,\"\t\"410 N CLEILD DR, TAMA ,CA 93316\"\n",
            "124\t\"Col. Cattan Beller , Jr, QC,\"\t\"2075 74N BRECK AVE, LONTANT PARK ,FL 33063\"\n",
            "16\t\"Mr. Michael Barny , Jr, QA,\"\t\"1121 W 8TH ST ST, SANADALE ,FL 33166\"\n",
            "242\t\"Dr. Kialanna Anttoniel , Jr, QA,\"\t\"1025 PEDRINGO ST, APT A09262216\t\"Dean. Markyan Barry , Sr, QA,\"\t\"1713 OAKALE DR, CHULA VISTA\n",
            "------ temperature: 1.0\n",
            "\"Dean. Markyan Barry , Sr, QA,\"\t\"1713 OAKALE DR, CHULA VISTA ,CA 92345\"\n",
            "202\t\"Ms. Elykson Brynks , Jr, IQCP,\"\t\"412 MEROID AVE, SOC MAMENA ,TX 77531\"\n",
            "34C\t\"Ms. Miraner Benksa , Sr, QA,\"\t\"1543 FeWORINZ ANE ST, APT A0ERENGH CITE ,CA 91263\"\n",
            "564\t\"Dean. Sstiny Brinnt , Jr, QA,\"\t\"621 SAN NONDARO AVE, WESTIN ,FL 32564\"\n",
            "272\t\"Ms. Jayos Benchaelt , Jr, QC,\"\t\"9134 W 15TH ST, MIAMI ,FL 33167\"\n",
            "249\t\"Dean. Cattany Bennra , Sr, IQCP,\"\t\"9051 CAMANTON AVE, LIBUIST ,CA 95311\"\n",
            "1\n",
            "------ temperature: 1.2\n",
            "Bennra , Sr, IQCP,\"\t\"9051 CAMANTON AVE, LIBUIST ,CA 95311\"\n",
            "106\t\"Mr. Jaysey Benned , PhD,\"\tQCLIA,\"\t\"6115 BHISWENT CIR, CORTSOON ,TX 7OzhDRIDG  CLRRER ,FL 33134\"\n",
            "144\t\"Mr. Michary Brann , Jr,\"\t\"QA, POROO BAR ,FL 32524\"\n",
            "564\t\"Dr. sitane Ars , Jr, QC, \"\t\"5727 WELTUCOS ST, CTORAPO ,TX 75527\"\n",
            "286\t\"Dr. SWtely Barr0 , Jr,QQC,\"\t\"2016 RIDFALA CIR, APT AGlOti ,CA Srich\", Sr, QCP, \"020 NW 55ND AVE, HOCADE ,CA 90903\"\n",
            "29dT CAND Adg BLr3237er , ALICA, ,\"\n",
            "2k20 HIGLLSSN CT, \n",
            "epoch 14\n",
            "Train on 12749 samples\n",
            "12749/12749 [==============================] - 4s 284us/sample - loss: 0.6403\n",
            "--- Generating with seed: \"Mr. Breonia Adam , PhD, QC, \"\t\"513 LANDWYCK LN, FLOWER MOUND\"\n",
            "------ temperature: 0.2\n",
            "Mr. Breonia Adam , PhD, QC, \"\t\"513 LANDWYCK LN, FLOWER MOUND ,CA 91767\"\n",
            "4555\"\n",
            "352\t\"Ms. Josh Barker , Sr, CLIA,\"\t\"1040 N CLAVENWO BAYNER ST, APT 11013\"\n",
            "281\t\"Ms. Josh Barker , Sr, QC,\"\t\"1475 BLISWERD LN, HICLMES ,CA 92525\"\n",
            "454\t\"Mr. Josh Barker , Sr, IQCP,\"\t\"1040 N CLAVENWO BAY, RON BORVEN ,CA 92525\"\n",
            "454\t\"Mr. Josh Barker , Sr, IQCP,\"\t\"1040 N CLAVENWO BAYNER ST, APT A, CANARACLEE ,FL 33415\"\n",
            "43\t\"Mr. Johnny Brown , PhD, QC,\"\t\"1710 SW 154, CLOMBAN ,TX 75580\"\n",
            "41\t\"\n",
            "------ temperature: 0.5\n",
            "hnny Brown , PhD, QC,\"\t\"1710 SW 154, CLOMBAN ,TX 75580\"\n",
            "41\t\"Ms. Lialarda Abamsoed , Jr, QA,\"\t\"10029 ANDORON ST, SOS ANTELIS ,CA 92505\"\n",
            "453\t\"Mr. Josh Barker , Sr, QC,\"\t\"1704 SEN RINGATOR ST, APT A, ANAHEIM ,CA 92591\"\n",
            "444\t\"Col. Shmpen Bevies , Jr, QC,\"\t\"1475 74ND OVIND CT, CHULA VISTA ,CA 91763\"\n",
            "44\"\n",
            "40 STONT PR, GANCASTALE ,CA 92029\"\n",
            "180\t\"MS. Johrdy Brown , PhD, QC,\"\t\"1710 E CLAIKSTY BREN, SIN RASE ,TX 75588\"\n",
            "112\t\"Dean. Austin Beano , Sr, IQCP,\"\t\"2041 S NIDW\n",
            "------ temperature: 1.0\n",
            ",TX 75588\"\n",
            "112\t\"Dean. Austin Beano , Sr, IQCP,\"\t\"2041 S NIDWAY CT, FONTAND ,CA 95336\"\n",
            "177\t\"Mr. Gon BAlivios , Jr, QC,\"\t\"103i8 0LD LNBRINGT LN, STARA DORiA ,CA 92594\"\n",
            "480\t\"Mr. Joka Birmok , PhD, QC,\"\t\"1425 BLICHMESTE BTX 74aF23\"\n",
            "12\t\"Dean. Mcolke Annelander , Jr, CLIA,\"\t\"R205 QCANCT ST, APT 8, ANCHEAM ,FL 33418\"\n",
            "218\t\"Mr. Dylen Beverle , Sr, CLIA,\"\t\"4555 BLIALE WAY, FOR MAMANCALE FCARA ,CA 91760\"\n",
            "444\t\"Col. Michae BaIsh , Sr, QC,\"\t\"627 S NIDDAN ST, RON BMaUCH \n",
            "------ temperature: 1.2\n",
            "\t\"Col. Michae BaIsh , Sr, QC,\"\t\"627 S NIDDAN ST, RON BMaUCH ,TX 75564\"\n",
            "259\t\"Dean. Breyla Boen , PhD, Qr,\"\t\"i0717 RAVE DW ST- CN, MICTLEVDE AuT BESTER CIRiSOTON ,TX 75161\"\n",
            " . HOFLAND ,CA 9088k\"\n",
            "277\t\"Mr. AD\"ksy Bllber , PhD, IQCP,\"\t\"7475 THER, JANCHTER ANA ,CA 95807\"\n",
            "291\t\"Ms. Ev4 Brown Brundosio0 , PhD, QC,\"\t\"9550 FAGNW LN, MCALE HOUTR ,CA 90450\"\n",
            "49\t\"Dean Austin Brandoe , Sr, IQCP\"\t\"2o BOX 9An, FREMBUN ,CA 95325\"\n",
            "1\t\"Col. ShSDen BraVIorT JrmQC ,\"\t\"4500 BrACRL\n",
            "epoch 15\n",
            "Train on 12749 samples\n",
            "12749/12749 [==============================] - 4s 285us/sample - loss: 0.6052\n",
            "--- Generating with seed: \"A 91801\"\n",
            "420\t\"Mr. Howell Brown III , Sr, IQCP,\"\t\"1695 74TH A\"\n",
            "------ temperature: 0.2\n",
            "A 91801\"\n",
            "420\t\"Mr. Howell Brown III , Sr, IQCP,\"\t\"1695 74TH AVE, SAN DRES ,TX 78236\"\n",
            "16\t\"Mr. Ludan Alava , PhD, CLIA,\"\t\"1740 MARK LN, HIALE BAYNANG ,CA 92503\"\n",
            "11\t\"Mr. Lura Adams , PhD, QA, \"171 PARAY CT, SANCASTEY ,CA 92004\"\n",
            "167\t\"Mr. Lura Adams , PhD, CLIA,\"\t\"1741 MINGOROWAY CT, SAN ANTO ,CA 92396\"\n",
            "167\t\"Mr. Jacol Bander , Jr, QA,\"\t\"1413 SENTER OD, HITLDER ,FL 33012\"\n",
            "216\t\"Dr. Lura Bickoe , Sr, QA,\"\t\"1040 COLD AVE, GANTANA ,CA 92503\"\n",
            "11\t\"Mr. Jacob Borkor , Jr\n",
            "------ temperature: 0.5\n",
            "\"1040 COLD AVE, GANTANA ,CA 92503\"\n",
            "11\t\"Mr. Jacob Borkor , Jr, CLIA,\"\t\"1905 THY ST, GAUS AVE, SAN DRES ,CA 92103\"\n",
            "111\t\"Dr. Kyliatt Bulling , PhD, QC,\"\t\"1720 SENNE AVE, LANCHO ,CA 91311\"\n",
            "111\t\"Mr. Miranda Barro , Sr, CLIA,\"\t\"1740 N CLACK EVD, CORSTON ,TX 78078\"\n",
            "111\t\"Mr. Jacol Berronder , Jr, QC,\"\t\"10417 CLIMBRAVE AVE, MOR STO ,TX 78230\"\n",
            "127\t\"Dr. Lianor Burned , PhD, CLIA,\"\t\"1424 PARARE AVE, APT 1, CORTER ,CA 94503\"\n",
            "11\t\"Mr. Breen Ben , Sr, CLIA, \"\t\"3131 lAKA W\n",
            "------ temperature: 1.0\n",
            "RTER ,CA 94503\"\n",
            "11\t\"Mr. Breen Ben , Sr, CLIA, \"\t\"3131 lAKA WOVERLARE BNA GAn PATIA ,CA 92503\"\n",
            "15\t\"Ms. Audeen Bendess Jr , Jr, CLIA, \"\t\"4014 LAKEWAYA AVE, SOURMAnie , Sr, QA, \"\t\"600 CALAGER CIR, HIAMIER ,TX 77513\"\n",
            "305\t\"Mr. Bradiey Brunett , Jr, IQCP,\"\t\"2142M DOLWAY 656, CARAGA ,CA 91316\"\n",
            "144\t\"A7s. HoshDan Brown , Jr, IQCP,\"\t\"3699 CONNYR VALESTE ,TX 75278\"\n",
            "228\t\"Mr. Denzack AdCohf , Jr, QA,\"\t\"1421 LAKE ST, APT 1, ANAHEIM ,CA 92005\"\n",
            "116\t\"Dean. Audany Bevneg , \n",
            "------ temperature: 1.2\n",
            "KE ST, APT 1, ANAHEIM ,CA 92005\"\n",
            "116\t\"Dean. Audany Bevneg , PhD, RICCPh\"9733 ND ING WIT, ROBURAD ,TX 7703\"\"\n",
            "127\t\"Mr. Deynan n5Cork , Jr, QA,\"\t\"3020 PARRR 3RY ST, INT 11W81s\"\n",
            "188\t\"MS. Uibtin APT , Jr, IQCP,\"\t\"8T 28TH TT- LNGN PORLFOVIS DR, A9CHE MORAD ,TX 77531\"\n",
            "1a4\t\"Mr. Ellin HIST Lurh Srendheed , Jr, QC,\"\t\"405 C MAR ORYCh ,TX 78284\"\n",
            "3\t\"Mr. 4dredgella Brano , Sr, CLIA,\"\t\"PO BOX 11913, OUMBEADE ,CA 92027\"\n",
            "472\t\"MS. Lialsa Barro , Sr, CLIA, \"\t\"6475 OVDRL AVE,\n",
            "epoch 16\n",
            "Train on 12749 samples\n",
            "12749/12749 [==============================] - 4s 280us/sample - loss: 0.5748\n",
            "--- Generating with seed: \"wn , PhD, QA,\"\t\"1420 BLUE CLOVER LN, WEST PALM BEACH ,FL 334\"\n",
            "------ temperature: 0.2\n",
            "wn , PhD, QA,\"\t\"1420 BLUE CLOVER LN, WEST PALM BEACH ,FL 33415\"\n",
            "49\t\"Dean. Josh Barkoe , Sr, QA,\"\t\"1713 SEADEW PID, APT A, NIDLO DR, UNET ORTON ,TX 77445\"\n",
            "344\t\"Col. Brown Belland , Jr, QA,\"\t\"1713 SEN PORKSTA AVE, LANMANA ,CA 92665\"\n",
            "44\t\"Ms. Audan A Ablle , Jr, QA,\"\t\"1713 SEN PORKSTA ST, APT A, NIDLO DR, PANA ACT ,FL 34445\"\n",
            "302\t\"Ms. Audan A Sant , Jr, QA,\"\t\"17311 MAGHEROOK AVE, APT A, NAKERANA ,CA 91767\"\n",
            "454\t\"Ms. Audan A Sant , Jr, QA,\"\t\"1713 SEN PORKSTA AVE,\n",
            "------ temperature: 0.5\n",
            "767\"\n",
            "454\t\"Ms. Audan A Sant , Jr, QA,\"\t\"1713 SEN PORKSTA AVE, LANCHO ,CA 91767\"\n",
            "167\t\"Ms. Audan A Jrshan , Jr, QA,\"\t\"1511 SEN PORKS AVE, APT 8, AN DALM ,FL 33347\"\n",
            "18T PL, HIALE HOULA ,CA 92663\"\n",
            "352\t\"Ms. Audin Bickoe , Sr, CLIA,\"\t\"1744 AUGETTY AVE, HOUSTON ,TX 78165\"\n",
            "417\t\"Dean. Austin Bolben , Jr, QA,\"\t\"1713 SEN PORKSTA ST, APT 8, WANN ANEE VILLA ,CA 92065\"\n",
            "441\t\"Col. RicK AVISrrmIe , Sr, QA,\"\t\"1413 SEADEN AVE, SAN DOUM ACa ,FL 33116\"\n",
            "444\t\"Col. Ailan Allandet \n",
            "------ temperature: 1.0\n",
            "EADEN AVE, SAN DOUM ACa ,FL 33116\"\n",
            "444\t\"Col. Ailan Allandet , Jr, QA,\"\t\"17078742ME SAN BAYE LN, SANTAMA ,CA 92062\"\n",
            "158\t\"Ms. AlGon Agder , Sr, QA,\"\t\"6106 AMEAY AVE, LESPAPT A, WE160 ,CAPAPT A, SANTAiEA ,CA 92765\"\n",
            "553\t\"Ms. Bridgan Ben CosiEo , Sr, QA,\"\t\"1013 AOD ANh ID, SON NO ,CA 91917\"\n",
            "188\t\"Ms. EtlEN AVE, JANCHE ,TX 76553\"\n",
            "361\t\"Dean. Catyly Ballin , Jr, QA,\"\t\"I062 CALAVEL CT, DALLANE ,CA 91364\"\n",
            "64\t\"Dean. Adyn Aders , PhD, QA,\"\t\"1475 BoNVILL AVE, SWIMBA ,FL\n",
            "------ temperature: 1.2\n",
            "\t\"Dean. Adyn Aders , PhD, QA,\"\t\"1475 BoNVILL AVE, SWIMBA ,FL 33819\"\n",
            "288\t\"Ms. Ablie AmsandaLE , Jr, CLIA,\"\t\"405 KAYWOR DR, HISTEY BALLEN ,TX 77511\"\n",
            "249\t\"Ms. Haersany Abderso , Sr, IQCP,\"\t\"4171  151SON AVE, MORDNO , ANT PA VINTALE ,CA 95446\"\n",
            "474\t\"Ms. Ellie A , Jr, QC,\"\t\"1745 8812VEMSET ST, HOMINOTA ,TX 76441\"\n",
            "328\t\"Mr. Miclye Boone , Sr, QA,\"\t\"1764 CLO\tKTTT AVE, COUMFOw ,CA 92065\"\n",
            "244\t\"Col. Gichool B2ker , Jr, QC,\"\t\"1191W BNIGD AVE, HICLEES CKESTWOUDA ,CA 914\n",
            "epoch 17\n",
            "Train on 12749 samples\n",
            "12749/12749 [==============================] - 4s 275us/sample - loss: 0.5595\n",
            "--- Generating with seed: \", Jr, QA,\"\t\"1813 SW 107TH AVE, APT 2409, MIAMI ,FL 33165\"\n",
            "21\"\n",
            "------ temperature: 0.2\n",
            ", Jr, QA,\"\t\"1813 SW 107TH AVE, APT 2409, MIAMI ,FL 33165\"\n",
            "213\t\"Dean . Michan Barlin , Jr, CLIA,\"\t\"380 N CLIVER MILLE AVE, PARRISA ,CA 91763\"\n",
            "161\t\"Dean. Tonn Belland , Jr, QC,\"\t\"1040 N CLIAGE BR, SAN BATIE ,FL 33012\"\n",
            "28\t\"Dean . Michan Ballon , Sr, CLIA,\"\t\"1741 W WTUTHSTER ST, AVE, PAMINAR ,FL 33012\"\n",
            "28\t\"Dean . Mircen Brown , Jr, QC,\"\t\"10460 ELD WOR ST, MIAMI ,FL 33117\"\n",
            "190\t\"Mr. Miranda Ballon , Jr, QC,\"\t\"1030 N CLECK CT, VIACHEE ,CA 90804\"\n",
            "280\t\"Mr. Miranda \n",
            "------ temperature: 0.5\n",
            " QC,\"\t\"1030 N CLECK CT, VIACHEE ,CA 90804\"\n",
            "280\t\"Mr. Miranda Barck , PhD, QA,\"\t\"1200 DOLDENAR CT, VISTALERAY ,FL 33011\"\n",
            "28\t\"Ms. Marky Barch , PhD, QC,\"\t\"415 BaIRL AVE, APT 111, CLESN ,TX 76531\"\n",
            "41\t\"Ms. JayssBBarly , Jr, IQCP,\"\t\"1671  ELDER ONT ST, SE, PORT MARiH ,FL 33012\"\n",
            "28\t\"Dean. Catine Belle , Sr, CLIA,\"\t\"1702 SUN GARRENTY BLVD, APT 10T, HORTAND ,CA 91364\"\n",
            "484\t\"Mr. Elizani Ardiss, Jr, QC,\"\t\"1000 DAINC WIDGW LN, SAN BAlIEN ,TX 78250\"\n",
            "399\t\"Mr. Markyn Bras\n",
            "------ temperature: 1.0\n",
            "0 DAINC WIDGW LN, SAN BAlIEN ,TX 78250\"\n",
            "399\t\"Mr. Markyn Brassies , Jr, CLIA,\"\t\"6805 CHALLE DR VA ,TX APT 179T, MIALEAS ,FL 33212\"\n",
            "19\t\"Mr. Jacob Ballarder , Jr, CLIA,\"\t\"7473 COMBER RDR, GORT DR0 RDENTER ST, ALEINTON ,CA 92015\"\n",
            "14\t\"Ms. Audan Balland , Jr, QC,\"\t\"1504 T2RNEW ST, PANANAGt ,CA 94533\"\n",
            "127\t\"MS. Johnny Bristher , Jr, CLIA,\"\t\"625 VEIRBSE THO DR, VILTIN ,FL 33012\"\n",
            "204\t\"Ms. Aiathey Anderson , Jr, QA,\"\t\"4040 QCIRAYEY LN, TIMELANA ,CA 91360\"\n",
            "227\t\"Ms. Lu\n",
            "------ temperature: 1.2\n",
            " Jr, QA,\"\t\"4040 QCIRAYEY LN, TIMELANA ,CA 91360\"\n",
            "227\t\"Ms. Luki Ashen , Jr, QC,\"\t\"21547 15DEN WIDBLE, ERG5LM ,FL 33019\"\n",
            "340\t\"Ms. Luga A SP, IQCP,\"\t\"2 J299cH TOMWAYD LL, FRIED CIRT ,CA 91460\"\n",
            "26\t\"Dr. JodesAn Bolden , Jr, QC,\"\t\"2827 3Ly BARDEW WAYS CIRRIS, CLEKERIE ,FL 34643\"\n",
            "83\t\"Dr. Jacos Ballon , JD, QC,\"\t\"2473 GLE0TOR WAY, ROMINADE ,CA 92880\"\n",
            "188\t\"De. AshDee Aden , Jr, QC,\"\t\"313 N IL, MON RDENE DR, , APT 115111\"\n",
            "f55Ms\t\"Ros. AlGHA Burtert , Jr, QA,\"\t\"2103 0\n",
            "epoch 18\n",
            "Train on 12749 samples\n",
            "12749/12749 [==============================] - 4s 276us/sample - loss: 0.5346\n",
            "--- Generating with seed: \"MA AVE, UNIT C4, ANAHEIM ,CA 92805\"\n",
            "451\t\"Mr. Michael Buno , \"\n",
            "------ temperature: 0.2\n",
            "MA AVE, UNIT C4, ANAHEIM ,CA 92805\"\n",
            "451\t\"Mr. Michael Buno , Jr, IQCP,\"\t\"2104 GRIVER LN, HICAMANG ,AR275020\"\n",
            "16\t\"Dean . Lurie Bennett , PhD, QA,\"\t\"200 SW 114TH AT, OCK SM, LIALE SATEROFA 9AR25\"\n",
            "264\t\"Ms. Braxiey Brushon , Sr, QA,\"\t\"1040 LETHER GARDEN BLVD, APT 1107, IANIA ,CA 91764\"\n",
            "149\t\"Mr. Jossia Bryerson , Sr, IQCP,\"\t\"2055 SEN RINGTTONE CT, VALRAME ,CA 91767\"\n",
            "149\t\"Mr. Jacob Ballon , PhD, CLIA,\"\t\"1040 MARKER ST, LIMERAGA ,CA 92595\"\n",
            "355\t\"Mr. Lila Arissiel ,\n",
            "------ temperature: 0.5\n",
            "1040 MARKER ST, LIMERAGA ,CA 92595\"\n",
            "355\t\"Mr. Lila Arissiel , Sr, CLIA, \"\t\"3000 EW 174H FILL AVE, DILLEES ,FL 33465\"\n",
            "253\t\"Mr. Kylia Allandattonier , PhD, CLIA, \"\t\"610 N HASSELL AVE, LONTANG ,CA 91764\"\n",
            "364\t\"Mr. Aliva Brosh , PhD, CLIA,\"\t\"31313 KAFLEN CIR, MIAMI ,FL 33167\"\n",
            "144\t\"Mr. Michael Bardus , PhD, CLIA,\"\t\"1740 W 8TH ST, LON ANTELES , A2\t\"Or BAY ,FL 32765\"\n",
            "253\t\"Mr. Lila ASTiel Beyder , Sr, QA,\"\t\"1040 W 54, HIALE ,CA 9362\"\n",
            "24\t\"Ms. Braber Bichoe , PhD, QA,\n",
            "------ temperature: 1.0\n",
            "\"1040 W 54, HIALE ,CA 9362\"\n",
            "24\t\"Ms. Braber Bichoe , PhD, QA, \"\t\"2750749 COMBLESTE LN, ORLMONV ,TX 78199\"\n",
            "43\t\"Mr. ylia AST, Jr, CLIA, 3222 S N DOND AVE, IESPART ,UR VILLM ,FL 33167\t\"Mr. Lura AgTs ,CA 9141 SAN PORK BAY ,FLIA331535o7 AN PORTH PALLERGRON ,CA 9022K\"\n",
            "327\t\"MS. Tilly Bichon , Sr, QA,\"\t\"909 CHANV AVE, SAN DROND ONTE ,CA 94650\"\n",
            "126\t\"Mr. Mirgeny Blusta , Sr, QA,\"\t\"21372 SEN GOLK AVE, APT 10T, ORTHA ,CA 91353\"\n",
            "100\t\"Ms. JoshDa Be6 , PhD, QC, \"\t\"610 NW \n",
            "------ temperature: 1.2\n",
            ", ORTHA ,CA 91353\"\n",
            "100\t\"Ms. JoshDa Be6 , PhD, QC, \"\t\"610 NW 8k POFINA CVESH RO, ,CA 91706\"\n",
            "575\t\"Mr. Dyler Burrerk , PhD, \"\t\"CIL0306R OVT, LIMBOV ,FL 33065\"\n",
            "464\t\"Mr. Tylan Baurtle , Sr, QA,\"\t\"2199 PORKER BLVD, EOSPALA EAK, bAPT 1010306W RIMGRONG VILFE ,CA 94655\"\n",
            "206\t\"Mr. Luin Anderson , Jr, QA,\"\t\"320 L. PODALLAS CIR, COROuA ,CA 92365\"\n",
            "9\t\"Dean . Luriey Berous , Sr, IQCP,\"\t\"261 MIMBAR AVE, HOURA DEVE, BEk6734 5HIFLWAY ,CA 91767\"\n",
            "162\t\"Dean. Dyler Buklera , Sr,\n",
            "epoch 19\n",
            "Train on 12749 samples\n",
            "12749/12749 [==============================] - 4s 290us/sample - loss: 0.5193\n",
            "--- Generating with seed: \" SILOAM SPRINGS ,AR 72761\"\n",
            "65\t\"Ms. Isaac Alvarez , Sr, QA,\"\t\"\n",
            "------ temperature: 0.2\n",
            " SILOAM SPRINGS ,AR 72761\"\n",
            "65\t\"Ms. Isaac Alvarez , Sr, QA,\"\t\"2014 NW 88TH TED, MIAMI ACALE ,CA 91763\"\n",
            "168\t\"Ms. Auden Bennett , Jr, IQCP,\"\t\"1603 SENTENGHOR ST, SEA ANTELES , APT A002H\"\n",
            "444\t\"Ms. Jaroon Barksa- , Jr, CLIA,\"\t\"1444 MILLESTOOD DR, PANAHE ,CA 92593\"\n",
            "41\t\"Ms. Jayson Brown , PhD, QC,\"\t\"1040 N HASHER ST, LAMIN ,CA 91763\"\n",
            "144\t\"Dean. Josh Bickson , Jr, IQCP,\"\t\"1601 SUNTER FEESSBLiY BERDEN ,CA 94133\"\n",
            "122\t\"Ms. Johnny Brown , PhD, CLIA,\"\t\"1741 W 77TH TT, \n",
            "------ temperature: 0.5\n",
            "94133\"\n",
            "122\t\"Ms. Johnny Brown , PhD, CLIA,\"\t\"1741 W 77TH TT, HICERDROND ,CA 94533\"\n",
            "128\t\"MS. Jacos Brams , Jr, QA,\"\t\"1040 N 114TH ST, HIALE HOUKT ,AR 72428\"\n",
            "288\t\"Dean . Lurin Alexander , Jr, IQCP,\"\t\"3804 GRENNWAY, LIAMI ,CA 92880\"\n",
            "391\t\"Ms. Jaroo Abrokd , PhD, QALI ,CA 9120 HARRYLM BERD, SAN DRACH ,FL 33012\"\n",
            "222\t\"Ms. Jamson Barks , Sr, IQCP,\"\t\"PO BOX 1333333, WISSIMMEE ,CA 94523\"\n",
            "180\t\"Mr. Brax4a Barros , Sr, IQCP,\"\t\"1324 PARR ST, MOURT ,CA 94533\"\n",
            "111\t\"Dean . \n",
            "------ temperature: 1.0\n",
            "os , Sr, IQCP,\"\t\"1324 PARR ST, MOURT ,CA 94533\"\n",
            "111\t\"Dean . LanksO Berrm , Jr, CLIA,\"\t\"15604 GLECHER4 AVE, APT A4 , APT A5745\"\n",
            "253\t\"Mr. Miranda Barcues , Jr, CLIA,\"\t\"1704 HIDWEN DR, DIAMI ,FL 33307\"\n",
            "401\t\"Dean .aman BeMCs , PhD, CLIA,\"\t\"5621 SSOUSTER ST, APA A20sORA ,CA ACaLA\"ASTON ,TX 75267\"\n",
            "433\t\"MS. Luan Bezossarizio , Sr, CLIA,\"\t\"15174 ColNURA GOR ST, CLUMBUE ,CA 94920\"\n",
            "304\t\"Ms. AKa IUilin Brann , Jr, CLIA,\"\t\"1602 AUKHTTER CAL2 \"\tsie AARES ,CA 90202\"\n",
            "344\n",
            "------ temperature: 1.2\n",
            " , Jr, CLIA,\"\t\"1602 AUKHTTER CAL2 \"\tsie AARES ,CA 90202\"\n",
            "344\t\"Dean. Mada BEcEeth , Jr, IQCP,\"\t\"20405 44HBoKS PANTERAY ,CA 92041\"\n",
            "303\t\"Mr. . MscaR Bolbowne , Jr, IQCP,\"\t\"1901 21HASELSSTLLE CoOD, BEALENTO ,CA 95627\"\n",
            "344\t\"MS. Markey Aldrmms , Jr, QC,\"\t\"PO BOX 1208, KR, NINGO ,CA 94926\"\n",
            "73\t\"Dean . Michy Aleson , Jr, QC\"\t\"R626 CHy AURTT ST, Rl5 MARY7, PI3HASE ,CA 95316\"\n",
            "1s1\t\"Dean toHKong\" Ganett , Jr, QC\"\t\"11925 KIMAN BLX 88,, SCOVERDOR ,CA 91766\"\n",
            "191\t\"Ms. Jays\n",
            "epoch 20\n",
            "Train on 12749 samples\n",
            "12749/12749 [==============================] - 4s 279us/sample - loss: 0.5104\n",
            "--- Generating with seed: \" , Sr, QA,\"\t\"484 LAKEPORT AVE, # 261, OAKLAND ,CA 94610\"\n",
            "126\"\n",
            "------ temperature: 0.2\n",
            " , Sr, QA,\"\t\"484 LAKEPORT AVE, # 261, OAKLAND ,CA 94610\"\n",
            "126\t\"MS. Jacob Ballord , Jr, QA,\"\t\"301 SURINGTTRA AVE, APT 101, ORLMONA ,CA 92593\"\n",
            "244\t\"MS. Josh Barkses , Jr, QA,\"\t\"1040 LICHO FR, FORTH PORT MUR BAVE, APT 11, SAN DIEGO ,CA 91767\"\n",
            "144\t\"MS. Andeey Beners , Jr, QA,\"\t\"1740 MARKR ST, HOCKHTT ,TX 78130\"\n",
            "339\t\"Dean. Mackyew Alexander , Jr, QA,\"\t\"1040 CLAVE CT, HITAPORTH ,TX 76440\"\n",
            "222\t\"Ms. Jayden Baker , Jr, IQCP,\"\t\"31013 LATENTE AVE, LON ANGELES ,CA 9000\n",
            "------ temperature: 0.5\n",
            " Baker , Jr, IQCP,\"\t\"31013 LATENTE AVE, LON ANGELES ,CA 90008\"RRINGT PLESHE ,CA 92640\"\n",
            "44\t\"Dean. Trewarin Belbossor , Jr, QA,\"\t\"120 SARAGO LANDE LN, PANSTON ,TX 78179\"\n",
            "44\t\"Dean. Maco IA AbRES ,FL 32294\"\n",
            "286\t\"Mr. Tyler Burler , PhD, QA,\"\t\"1520 CLANN AVE, FTE ANTO ,CA 92593\"\n",
            "19\t\"Mr. Michael Barchren , Jr, QA,\"\t\"422 SEN RINGTTR ST, APT 2, WESTEN ,FL 33913\"\n",
            "180\t\"Mr. Jackson Boller , Jr, QA,\"\t\"1040 CLAVE CT, OCLLAS ,TX 77506\"\n",
            "254\t\"Mr. MicheeA Ashesin , Jr, QA,\"\n",
            "------ temperature: 1.0\n",
            "VE CT, OCLLAS ,TX 77506\"\n",
            "254\t\"Mr. MicheeA Ashesin , Jr, QA,\"\t\"110 N CLADGE ST, APT A, EW ST, ANGELES \"CA 92500\"\n",
            "43\t\"Mr. Rylee Anderter , Jr, QA,\"\t\"41 FFGEROCH AVE, DELRA , B2018\"\n",
            "272\t\"Ms. Jayson Broshter , Sr, IQCPh\"\t\"15081 SUNSEN OTX AVE, MURSIE DR, PINTT 1, CLAlES ,CA 95888\"\n",
            "32, RODGAR LN, PONVILL ,TX 78219\"\n",
            "199\t\"Dean. Camconder Beunera , Jr, QA,\"\t\"1437 CLE GAN RINGT RD, # 4, ANGELEN ,CA 92303\"\n",
            "352\t\"Dean. Rylee Beert , Jr, IQCP,\"\t\"8010 RIDBURGHER SD, SAN\n",
            "------ temperature: 1.2\n",
            "352\t\"Dean. Rylee Beert , Jr, IQCP,\"\t\"8010 RIDBURGHER SD, SAN 6APON ,TX 78236\"\n",
            "358\t\"Mr. Resa Brakshe , Sr, CLIA,\"\t\"1294 CULSEE CT, BUNTEN ,CA 92880\"\n",
            "94\t\"Dean. Josh Buridder , Jr, QA\"\t\"9311 MAGHLAS CP193RE6LD LAKEPANG, MAMIALEND, ENCEPOVI, , 92003\"\n",
            "243\t\"Ms. Liallid AshDeen , Jr, QA,\"\t\"2524 FELA SOLM-EN RDDWA CHILATE ,CA 93637\"\n",
            "351\t\"Ms. Miphey Bacsi\t , PhD, QA,\"\t\". CO BOXIX AVE, FONT MMRRYE ,TX 78199\"\n",
            "14\t\"Ms. ZaUelyn AldeWIer , Jr, QA,\"\t\"909 RACHETS LNEN BRON\n",
            "epoch 21\n",
            "Train on 12749 samples\n",
            "12749/12749 [==============================] - 4s 288us/sample - loss: 0.4960\n",
            "--- Generating with seed: \" , Jr, QC,\"\t\"8867 BERGAMO CIR, STOCKTON ,CA 95212\"\n",
            "254\t\"Dr. \"\n",
            "------ temperature: 0.2\n",
            " , Jr, QC,\"\t\"8867 BERGAMO CIR, STOCKTON ,CA 95212\"\n",
            "254\t\"Dr. Liala Brand , Jr, QA,\"\t\"1713 SE WOUDE CT, CORTSON ,CA 95206\"\n",
            "25179\t\"Dean . Lialley Anderson , Jr, CLIA,\"\t\"1741 MIMBAR ST, SAN DROND ,AR 72727\"\n",
            "288\t\"Mr. Jayden Barr , Jr, IQCP,\"\t\"1701 MICON ST, AVE, PAMIAGO ,CA 92592\"\n",
            "211\t\"Dean . Lialle Arm, Jr, QA,\"\t\"170 DOLIAN DR, TAMA ,CA 91767\"\n",
            "190\t\"Mr. Jayden Baker , Jr, IQCP,\"\t\"11019 TEMBLE DR, TE PORT ,FL 3296S\"\n",
            "479\t\"Dean. Johnny Brown , PhD, QA,\"\t\"1713 LOTE\n",
            "------ temperature: 0.5\n",
            "RT ,FL 3296S\"\n",
            "479\t\"Dean. Johnny Brown , PhD, QA,\"\t\"1713 LOTENVILO DR, SAN DIMGE ,CA 95101\"\n",
            "322\t\"Mr. Jaydan Barck , Jr, QA,\"\t\"17338 ALDENTO DR, TAMA ,CA 95505\"\n",
            "15\t\"Dean . Lialle Arm9non , Jr, CLIA,\"\t\"13415 E ROMBER SAN ST, MIAMI ,FL 33167\"\n",
            "217\t\"Dean . Lila Sams , Sr, CLIA,\"\t\"670 MORING CTR ST, HOMINA ,CA 91767\"\n",
            "177\t\"MS. Miranda Barrous , Jr, CLIA,\"\t\"1721 W CLAUME LN, SAN DO ,CA 91753\"\n",
            "122\t\"Col. Sam lan Brown , PhD, QA,\"\t\"1740 BLE WAY, LNHINA ,CA 91767\"\n",
            "167\t\n",
            "------ temperature: 1.0\n",
            " lan Brown , PhD, QA,\"\t\"1740 BLE WAY, LNHINA ,CA 91767\"\n",
            "167\t\"Mr. Lila ACTTer1, Sr, IQCP,\"\t\"5578 1HlCOSSATHER ST, ST, MIAMI ,FL 3i827\"\n",
            "286\t\"Ms. VIeD AVI, Jr, IQCP, 90 E WOOD LISE ,TX 7807,\"\n",
            "r5CK Gram9 , , Jr, QC\"\t\",g925 26MESTEN AVE, SAN DES ,CA 93335\"\n",
            "2711\"\t\"Col. Ichyean ,CT, Jr, CLIA,\"\t\"1720 N ROGHE AVE, # A, ENEE ,FL 32827\"\n",
            "279\t\"Mr. Christin Berkug , Sr, CLIA,\"\t\"613 HORKus ST, LANCHE ,CA 91764\"\n",
            "287\t\"Mr. Anna A Allander , Jr, CLIA,\"\t\"7899 FRENNY LN, VISTA\n",
            "------ temperature: 1.2\n",
            "287\t\"Mr. Anna A Allander , Jr, CLIA,\"\t\"7899 FRENNY LN, VISTA ,TX 75D, OCKLAND ,TX 76053\"\n",
            "R29\t\"Mr. Vine Ashbiy , Sr, QA,\"\t\"2142 CONGAL ST, MIAMI ,FL 33817\"\n",
            "167\t\"Dean. Ady1elon , Jr, IQCP,\"\t\"2374tIW STUN7Y CIR, OVINDO ,CA 90029\"\n",
            "176\t\"Mr. Jackson BoobH , Jr, IQCP,\"\t\"7890 CONGHE VELC LN, SAN DEADE ,CA 91739\"\n",
            "281\t\"Ms. Audeey Benntla , PhD,\"\t\"IQCP, 8252 SENGOLE CTR SILM ,FL 3449x\"\n",
            "241\t\"MS. Liaker Burcksoun , Jr, CLIA,\"\t\"5678 THMON CoONTH ST, APT M, WPARIRONE ,CA\n",
            "epoch 22\n",
            "Train on 12749 samples\n",
            "12749/12749 [==============================] - 4s 278us/sample - loss: 0.4898\n",
            "--- Generating with seed: \"OX 90712, SAN BERNARDINO ,CA 92427\"\n",
            "350\t\"Ms. Vincent Bowen ,\"\n",
            "------ temperature: 0.2\n",
            "OX 90712, SAN BERNARDINO ,CA 92427\"\n",
            "350\t\"Ms. Vincent Bowen , Jr, IQCP,\"\t\"1741 W WTHTLSTT CT, RICHMOND ,TX 77531\"\n",
            "36\t\"Dean. AdiL Alexander , Jr, CLIA,\"\t\"1621 W 15TH ST, MIAMI SAN AURTT ,CA 91767\"\n",
            "166\t\"MS. Miranda Barro , Sr, CLIA,\"\t\"1221 SAN RINGTER ST, APT A, NORTH HITLS MAR BANTE ,AR 72511\"\n",
            "14\t\"Dr. Kala Aler , Jr, QC,\"\t\"10360 COMAN AVE, APT A, NORTH HITLSSMINT ,FL 33615\"\n",
            "43\t\"Mr. Jaydan Barro , Sr, CLIA,\"\t\"1741 W WTHTLSTT CT, RICHMOND ,CA 91354\"\n",
            "724\t\"Mr. J\n",
            "------ temperature: 0.5\n",
            ", CLIA,\"\t\"1741 W WTHTLSTT CT, RICHMOND ,CA 91354\"\n",
            "724\t\"Mr. Jayden Baker , Jr, IQCP,\"\t\"422 SERINGTT CT SBR CT 144, APTING ,CA 92667\"\n",
            "36\t\"Dean. Timaniy Beler , Jr, QC,\"\t\"1425 3RNGOR ST, MIAMI ,FL 33167\"\n",
            "24\t\"Mr. Ryler Brankson , Jr, QC,\"\t\"1749 THINN CIR, APTING ,CA 95316\"\n",
            "16\t\"Dr. Dyler Berer , Jr, CLIA,\"\t\"17999 CLANTY AVE, MIAMI ,FL 33127\"\n",
            "144\t\"Col. Shimiah Barr , Sr, IQCP,\"\t\"231 MCOOKSUST ST, SAN DRING ,CA 93603\"\n",
            "127\t\"Mr. Jayson Brown , Sr, QC,\"\t\"1741 RAGN A\n",
            "------ temperature: 1.0\n",
            "ING ,CA 93603\"\n",
            "127\t\"Mr. Jayson Brown , Sr, QC,\"\t\"1741 RAGN AVE, GHIRT VIELD ,CA 92653\"\n",
            "216\t\"Dean. Adid A6ert , PhD, QC,\"\t\"1030 N HALFONOWA AVE, RONTAmGH PARK ,CA 92027\"\n",
            "2K0\t\"Mr. Aliy Beldan , Jr, CLIA,\"\t\"1791 PANNGA BR, SAN BORIA ,CA 92530\"\n",
            "222\t\"Mr. Jaydan Bla6\t\"oe , Sr, QC,\"\t\"1044 lLICHALL CT, SALIASE ,CA 90028\"\n",
            "279\t\"Dr. Kalaii Anton3ie , Jr, QC,\"\t\"15 K0TH LAVEN DR, HIMBMOND ,CA 91783\"\n",
            "203\t\"Ms. Mirg2TH Barcho , Jr, QC,\"\t\"1321E A6RDE. \tstig6 Ballinet , Jr,\n",
            "------ temperature: 1.2\n",
            "irg2TH Barcho , Jr, QC,\"\t\"1321E A6RDE. \tstig6 Ballinet , Jr, QC,\"\t\"1632 SW 174TH HIALE GAMIANA ,CA 92590\"\n",
            "r9\t\"Mr. Migal7e Ald , Jr, CLIA,\"\t\"STO LAY PALS AdA 8202, ALATEN ,TX 72537\"\n",
            "144\t\"Col. Jli Qant Belll. , Jr, CLIA,\"\t\"999 SEN PODAMA ANANE T5m, ULIA ,CA 9144d\"\n",
            "242\t\"Dean. Mami7 Barlf , Sr, CLIA,\"\t\"1 2070 NW 19TH 7TEN SALLM BRYDEN ,TX 76521\"\n",
            "233\t\"Col. Chey Butler-, Jr, QA,\"\t\"6471 SUNSEN CTRLO DR, RIVAR SAT PARK ,CA 9006e\"\n",
            "454\t\"Mr. Lilly Bentle , Sr, QA,\"\t\"\n",
            "epoch 23\n",
            "Train on 12749 samples\n",
            "12749/12749 [==============================] - 4s 276us/sample - loss: 0.4641\n",
            "--- Generating with seed: \"Isabel Avalos , Sr, IQCP,\"\t\"PO BOX 1931, SALINAS ,CA 93902\"\n",
            "\"\n",
            "------ temperature: 0.2\n",
            "Isabel Avalos , Sr, IQCP,\"\t\"PO BOX 1931, SALINAS ,CA 93902\"\n",
            "353\t\"Mr. Jacob Barkor , Sr, IQCP,\"\t\"1676 N N CLACKE DR, APT 1,TX APTEY, APT 1103, OCKLAND ,TX 765375\"\n",
            "44\t\"Dean. Maci Arsonder , Sr, IQCP,\"\t\"1676 N N CLACKE PALL BAYE, SAN ACT OAMI, PORTANG ,CA 92575\"\n",
            "45\t\"Dean. Maci Ardond , Sr, IQCP,\"\t\"3676 74NH CT, TORANG ,CA 91354\"\n",
            "80 MORONW AVE, TETER PARK ,FL 33012\"\n",
            "391\t\"Ms. Andeey Barcus Jr, IQCP,\"\t\"110 OW 164, MIAMI SALIAHE ,CA 92305\"\n",
            "354\t\"Mr. Jacos Brown Ir\n",
            "------ temperature: 0.5\n",
            "110 OW 164, MIAMI SALIAHE ,CA 92305\"\n",
            "354\t\"Mr. Jacos Brown Ir , Sr, QA,\"\t\"1032 CILAVELO DR, PANARAGE ,CA 91767\"\n",
            "166\t\"MS. Jachey Ardosto , Sr, IQCP,\"\t\"617 ROWEN AVE, SESCALE ,CA 91767\"\n",
            "188\t\"Mr. Denzan Ardong , Sr, CLIA,\"\t\"23564 GLAVE AVE, FORT MARS BrGLEYN ,FL 33425\"\n",
            "393\t\"Ms. Jacher Brown , Sr, IQCP,\"\t\"6177 WEPARA CIR, APT 2, ANGELEN ,CA 95331\"\n",
            "341\t\"Mr. Mach Blark , Sr, IQCP,\"\t\"627 R WOLERDRAGs BN, SAN DRACH ,FL 33012\"\n",
            "29\t\"Ms. Miranda Barky , Sr, IQCP,\"\t\"627\n",
            "------ temperature: 1.0\n",
            "SAN DRACH ,FL 33012\"\n",
            "29\t\"Ms. Miranda Barky , Sr, IQCP,\"\t\"6270 WET, LN, POLLSAMO ,FL 333, WOSTER WAYNHER RDEND ,TX 765315\"\n",
            "373\t\"Mr. Michary Boussor , Jr, IQCP,\"\t\"16267\t\"Col. LuDin A6\t\",o133160\t\"Des. Dusey Brown \trisson , Sr, IQCP\"\t\", SR, VILDRIOGON ,TX 78536 EROkE VILD ,FL 34246\"\n",
            "239\t\"Dean. Jossan Bax1erto , Sr, IQCP,\"\t\"627 R WELTEN DR, GAYFRENG ,CA 93802\"\n",
            "362\t\"Dean. AdRiey Brown Irandander , Sr, IQCP,\"\t\"11117 OLD RANCHELLL SN, CHULA VISTA ,CA 9177A\"\n",
            "5311\"\t\n",
            "------ temperature: 1.2\n",
            "QCP,\"\t\"11117 OLD RANCHELLL SN, CHULA VISTA ,CA 9177A\"\n",
            "5311\"\t\"Mr. Rechon Barnett , Jr, QA\"\t\"7473 E DRANG CIR, APhPAPIE ,CA 90703\"\n",
            "166\t\"Dean. Natiia- Anderson , Jr,FIQCP\"\t\"to13 W BLAD 1EVESW ,FL 33971\"\n",
            "42AD ANCBETE CT SER NA0M ,FLI3331194\t\"Ms. Elbvaa Barch , Sr, CLIA,\"\t\"12t2 WEWEN BOkCH CT, WAYN BORDENT ,CA 92055\"\n",
            "362\t\"Dean. Michaelty Berun , Sr, IQCP,\"\t\"21075 MaN28TONKE CIL, BORRAS ,TX 75536\"\n",
            "380\t\"Mr. VAVEUdin Burnier- , Sr, IQCP,\"\t\"7999 CONN RINGTT CT, CAR\n",
            "epoch 24\n",
            "Train on 12749 samples\n",
            "12749/12749 [==============================] - 4s 286us/sample - loss: 0.4543\n",
            "--- Generating with seed: \"s. Jason Bond , Jr, CLIA\"\t\"14234 COHASSET ST, VAN NUYS ,CA 9\"\n",
            "------ temperature: 0.2\n",
            "s. Jason Bond , Jr, CLIA\"\t\"14234 COHASSET ST, VAN NUYS ,CA 91767\"\n",
            "180\t\"Mrs. Brady Bes , PhD, QA,\"\t\"415 BOLSOW 154, SAN DROCK ,CA 95627\"\n",
            "370\t\"Mr. Jacoly Brank , Jr, QA,\"\t\"2055 CHALLE DR, APT 103, W ST CT 72325\"\n",
            "44\t\"Dean. Tyler Beandle , Jr, QA,\"\t\"1005 CIGTLAY DR, T A, ER ROCK ,CA 94537\"\n",
            "35\t\"Mr. Dyler Beandle , Jr, QA,\"\t\"103 BLICHA LN BRYCK ,CA 94023\"\n",
            "120\t\"Dean. Josh Barksin , Sr, QA,\"\t\"202 SURINGTO AVE CT, HOMA ,CA 91473\"\n",
            "835 THYLE DR, TE PATE ,CA 92345\"\n",
            "93\n",
            "------ temperature: 0.5\n",
            " AVE CT, HOMA ,CA 91473\"\n",
            "835 THYLE DR, TE PATE ,CA 92345\"\n",
            "93\t\"MS. Kadelyn Alla , Sr, QA,\"\t\"2015 LIDDRON AVE, LESPERING ,TX 78231\"\n",
            "391\t\"Mr. Saman Boush Bunner , Jr, QA,\"\t\"210 SE 4, HITH LN, HIMA ,FL 33012\"\n",
            "29\t\"Dean. Josh Bermttoni , Jr, QA,\"\t\"2015 LIDDRAVE DR, SAN DR, GANTA ,CA 91793\"\n",
            "25125\t\"Dean. Sathey Bevarla , Jr, QA,\"\t\"100 W 35NDGON WAY, LNAPA ,TX 76531\"\n",
            "343\t\"Ms. Samann Brick , PhD, QA,\"\t\"7090 COLBAY CL, KAMERAGE ,CA 95620\"\n",
            "136\t\"Ms. Samalie A , Jr, QC,\n",
            "------ temperature: 1.0\n",
            " COLBAY CL, KAMERAGE ,CA 95620\"\n",
            "136\t\"Ms. Samalie A , Jr, QC,\"\t\"502 WALE RIOGHT DR, TEM Ph3iH ,TX 77596\"\n",
            "227\t\"Col. Mack Brand , Sr, QC,\"\t\"450 S CORANGT CT, SANTANI ,CA 92804\"\n",
            "413\t\"MS. Jacoly Bollon0 , Sr, QA,\"\t\"7070 DeW GORD WIcL AVE, FORT MORTH ,TX 76530\"\n",
            "y03\t\"Mr. Laroy Baker , Jr, QA,\"\t\"2 200 ANDEWOS BT, SANAH FREEN ,CA 93046\"\n",
            "367\t\"Mr. Zaronny Barch , PhD, QA,\"\t\"4540 CIMINGTERDeA ,TX Brck , Sr, QA\"\t\"72 i65 HOL0TH ST ST, HOUSTON ,TX 77040\"\n",
            "322\t\"Mrs. Lura B\n",
            "------ temperature: 1.2\n",
            "A\"\t\"72 i65 HOL0TH ST ST, HOUSTON ,TX 77040\"\n",
            "322\t\"Mrs. Lura Brandsoun , Sr, CLIA,\"\t\"17090 NA77LE LO BUX DEA, CHIERDG ,CA 93316\"\n",
            "283\t\"MS. ElIX Ben Clan 1ollan , Sr, QA,\"\t\"522 FMER, APT A, EP3ROTON ,TX 7E538\"\n",
            "251\t\"MS. Kayle Bryme , Sr, QA,\"\t\"4032 CURIN RALE DR, ALEHOCO ,CA 95020\"\n",
            "331oSami4 AHdersor , Jr, QA,\"\t\"205 FOLL AVE, FERTON ,TX 75111\"\n",
            "399\t\"Col. 3Rib Bigbson , Sr, QA,\"\t\"2035 3REILA CIR, APT 218,3T CURiHT PARK ,AX 75088\"\n",
            "254\t\"Dean. Cateny Bessin , Sr, QC\n",
            "epoch 25\n",
            "Train on 12749 samples\n",
            " 3712/12749 [=======>......................] - ETA: 2s - loss: 0.4005"
          ]
        },
        {
          "output_type": "error",
          "ename": "KeyboardInterrupt",
          "evalue": "ignored",
          "traceback": [
            "\u001b[0;31m---------------------------------------------------------------------------\u001b[0m",
            "\u001b[0;31mKeyboardInterrupt\u001b[0m                         Traceback (most recent call last)",
            "\u001b[0;32m<ipython-input-97-eda2fa225ec1>\u001b[0m in \u001b[0;36m<module>\u001b[0;34m\u001b[0m\n\u001b[1;32m      6\u001b[0m \u001b[0;34m\u001b[0m\u001b[0m\n\u001b[1;32m      7\u001b[0m     \u001b[0;31m# Fit the model for 1 epoch on the available training data\u001b[0m\u001b[0;34m\u001b[0m\u001b[0;34m\u001b[0m\u001b[0;34m\u001b[0m\u001b[0m\n\u001b[0;32m----> 8\u001b[0;31m     model.fit(x, y,\n\u001b[0m\u001b[1;32m      9\u001b[0m               \u001b[0mbatch_size\u001b[0m\u001b[0;34m=\u001b[0m\u001b[0;36m128\u001b[0m\u001b[0;34m,\u001b[0m\u001b[0;34m\u001b[0m\u001b[0;34m\u001b[0m\u001b[0m\n\u001b[1;32m     10\u001b[0m               epochs=1)\n",
            "\u001b[0;32m/usr/local/lib/python3.8/dist-packages/keras/engine/training_v1.py\u001b[0m in \u001b[0;36mfit\u001b[0;34m(self, x, y, batch_size, epochs, verbose, callbacks, validation_split, validation_data, shuffle, class_weight, sample_weight, initial_epoch, steps_per_epoch, validation_steps, validation_freq, max_queue_size, workers, use_multiprocessing, **kwargs)\u001b[0m\n\u001b[1;32m    774\u001b[0m \u001b[0;34m\u001b[0m\u001b[0m\n\u001b[1;32m    775\u001b[0m     \u001b[0mfunc\u001b[0m \u001b[0;34m=\u001b[0m \u001b[0mself\u001b[0m\u001b[0;34m.\u001b[0m\u001b[0m_select_training_loop\u001b[0m\u001b[0;34m(\u001b[0m\u001b[0mx\u001b[0m\u001b[0;34m)\u001b[0m\u001b[0;34m\u001b[0m\u001b[0;34m\u001b[0m\u001b[0m\n\u001b[0;32m--> 776\u001b[0;31m     return func.fit(\n\u001b[0m\u001b[1;32m    777\u001b[0m         \u001b[0mself\u001b[0m\u001b[0;34m,\u001b[0m\u001b[0;34m\u001b[0m\u001b[0;34m\u001b[0m\u001b[0m\n\u001b[1;32m    778\u001b[0m         \u001b[0mx\u001b[0m\u001b[0;34m=\u001b[0m\u001b[0mx\u001b[0m\u001b[0;34m,\u001b[0m\u001b[0;34m\u001b[0m\u001b[0;34m\u001b[0m\u001b[0m\n",
            "\u001b[0;32m/usr/local/lib/python3.8/dist-packages/keras/engine/training_arrays_v1.py\u001b[0m in \u001b[0;36mfit\u001b[0;34m(self, model, x, y, batch_size, epochs, verbose, callbacks, validation_split, validation_data, shuffle, class_weight, sample_weight, initial_epoch, steps_per_epoch, validation_steps, validation_freq, **kwargs)\u001b[0m\n\u001b[1;32m    639\u001b[0m       \u001b[0mval_x\u001b[0m\u001b[0;34m,\u001b[0m \u001b[0mval_y\u001b[0m\u001b[0;34m,\u001b[0m \u001b[0mval_sample_weights\u001b[0m \u001b[0;34m=\u001b[0m \u001b[0;32mNone\u001b[0m\u001b[0;34m,\u001b[0m \u001b[0;32mNone\u001b[0m\u001b[0;34m,\u001b[0m \u001b[0;32mNone\u001b[0m\u001b[0;34m\u001b[0m\u001b[0;34m\u001b[0m\u001b[0m\n\u001b[1;32m    640\u001b[0m \u001b[0;34m\u001b[0m\u001b[0m\n\u001b[0;32m--> 641\u001b[0;31m     return fit_loop(\n\u001b[0m\u001b[1;32m    642\u001b[0m         \u001b[0mmodel\u001b[0m\u001b[0;34m,\u001b[0m\u001b[0;34m\u001b[0m\u001b[0;34m\u001b[0m\u001b[0m\n\u001b[1;32m    643\u001b[0m         \u001b[0minputs\u001b[0m\u001b[0;34m=\u001b[0m\u001b[0mx\u001b[0m\u001b[0;34m,\u001b[0m\u001b[0;34m\u001b[0m\u001b[0;34m\u001b[0m\u001b[0m\n",
            "\u001b[0;32m/usr/local/lib/python3.8/dist-packages/keras/engine/training_arrays_v1.py\u001b[0m in \u001b[0;36mmodel_iteration\u001b[0;34m(model, inputs, targets, sample_weights, batch_size, epochs, verbose, callbacks, val_inputs, val_targets, val_sample_weights, shuffle, initial_epoch, steps_per_epoch, validation_steps, validation_freq, mode, validation_in_fit, prepared_feed_values_from_dataset, steps_name, **kwargs)\u001b[0m\n\u001b[1;32m    375\u001b[0m \u001b[0;34m\u001b[0m\u001b[0m\n\u001b[1;32m    376\u001b[0m         \u001b[0;31m# Get outputs.\u001b[0m\u001b[0;34m\u001b[0m\u001b[0;34m\u001b[0m\u001b[0;34m\u001b[0m\u001b[0m\n\u001b[0;32m--> 377\u001b[0;31m         \u001b[0mbatch_outs\u001b[0m \u001b[0;34m=\u001b[0m \u001b[0mf\u001b[0m\u001b[0;34m(\u001b[0m\u001b[0mins_batch\u001b[0m\u001b[0;34m)\u001b[0m\u001b[0;34m\u001b[0m\u001b[0;34m\u001b[0m\u001b[0m\n\u001b[0m\u001b[1;32m    378\u001b[0m         \u001b[0;32mif\u001b[0m \u001b[0;32mnot\u001b[0m \u001b[0misinstance\u001b[0m\u001b[0;34m(\u001b[0m\u001b[0mbatch_outs\u001b[0m\u001b[0;34m,\u001b[0m \u001b[0mlist\u001b[0m\u001b[0;34m)\u001b[0m\u001b[0;34m:\u001b[0m\u001b[0;34m\u001b[0m\u001b[0;34m\u001b[0m\u001b[0m\n\u001b[1;32m    379\u001b[0m           \u001b[0mbatch_outs\u001b[0m \u001b[0;34m=\u001b[0m \u001b[0;34m[\u001b[0m\u001b[0mbatch_outs\u001b[0m\u001b[0;34m]\u001b[0m\u001b[0;34m\u001b[0m\u001b[0;34m\u001b[0m\u001b[0m\n",
            "\u001b[0;32m/usr/local/lib/python3.8/dist-packages/keras/backend.py\u001b[0m in \u001b[0;36m__call__\u001b[0;34m(self, inputs)\u001b[0m\n\u001b[1;32m   4282\u001b[0m       \u001b[0mself\u001b[0m\u001b[0;34m.\u001b[0m\u001b[0m_make_callable\u001b[0m\u001b[0;34m(\u001b[0m\u001b[0mfeed_arrays\u001b[0m\u001b[0;34m,\u001b[0m \u001b[0mfeed_symbols\u001b[0m\u001b[0;34m,\u001b[0m \u001b[0msymbol_vals\u001b[0m\u001b[0;34m,\u001b[0m \u001b[0msession\u001b[0m\u001b[0;34m)\u001b[0m\u001b[0;34m\u001b[0m\u001b[0;34m\u001b[0m\u001b[0m\n\u001b[1;32m   4283\u001b[0m \u001b[0;34m\u001b[0m\u001b[0m\n\u001b[0;32m-> 4284\u001b[0;31m     fetched = self._callable_fn(*array_vals,\n\u001b[0m\u001b[1;32m   4285\u001b[0m                                 run_metadata=self.run_metadata)\n\u001b[1;32m   4286\u001b[0m     \u001b[0mself\u001b[0m\u001b[0;34m.\u001b[0m\u001b[0m_call_fetch_callbacks\u001b[0m\u001b[0;34m(\u001b[0m\u001b[0mfetched\u001b[0m\u001b[0;34m[\u001b[0m\u001b[0;34m-\u001b[0m\u001b[0mlen\u001b[0m\u001b[0;34m(\u001b[0m\u001b[0mself\u001b[0m\u001b[0;34m.\u001b[0m\u001b[0m_fetches\u001b[0m\u001b[0;34m)\u001b[0m\u001b[0;34m:\u001b[0m\u001b[0;34m]\u001b[0m\u001b[0;34m)\u001b[0m\u001b[0;34m\u001b[0m\u001b[0;34m\u001b[0m\u001b[0m\n",
            "\u001b[0;32m/usr/local/lib/python3.8/dist-packages/tensorflow/python/client/session.py\u001b[0m in \u001b[0;36m__call__\u001b[0;34m(self, *args, **kwargs)\u001b[0m\n\u001b[1;32m   1478\u001b[0m       \u001b[0;32mtry\u001b[0m\u001b[0;34m:\u001b[0m\u001b[0;34m\u001b[0m\u001b[0;34m\u001b[0m\u001b[0m\n\u001b[1;32m   1479\u001b[0m         \u001b[0mrun_metadata_ptr\u001b[0m \u001b[0;34m=\u001b[0m \u001b[0mtf_session\u001b[0m\u001b[0;34m.\u001b[0m\u001b[0mTF_NewBuffer\u001b[0m\u001b[0;34m(\u001b[0m\u001b[0;34m)\u001b[0m \u001b[0;32mif\u001b[0m \u001b[0mrun_metadata\u001b[0m \u001b[0;32melse\u001b[0m \u001b[0;32mNone\u001b[0m\u001b[0;34m\u001b[0m\u001b[0;34m\u001b[0m\u001b[0m\n\u001b[0;32m-> 1480\u001b[0;31m         ret = tf_session.TF_SessionRunCallable(self._session._session,\n\u001b[0m\u001b[1;32m   1481\u001b[0m                                                \u001b[0mself\u001b[0m\u001b[0;34m.\u001b[0m\u001b[0m_handle\u001b[0m\u001b[0;34m,\u001b[0m \u001b[0margs\u001b[0m\u001b[0;34m,\u001b[0m\u001b[0;34m\u001b[0m\u001b[0;34m\u001b[0m\u001b[0m\n\u001b[1;32m   1482\u001b[0m                                                run_metadata_ptr)\n",
            "\u001b[0;31mKeyboardInterrupt\u001b[0m: "
          ]
        }
      ]
    },
    {
      "cell_type": "code",
      "source": [],
      "metadata": {
        "colab": {
          "base_uri": "https://localhost:8080/"
        },
        "id": "bvFtnZO6UeZa",
        "outputId": "1db51f39-95dd-4ab8-d23b-d1bacd1948c0"
      },
      "execution_count": null,
      "outputs": [
        {
          "output_type": "stream",
          "name": "stdout",
          "text": [
            "Looking in indexes: https://pypi.org/simple, https://us-python.pkg.dev/colab-wheels/public/simple/\n",
            "Requirement already satisfied: Rogue in /usr/local/lib/python3.8/dist-packages (0.0.2)\n"
          ]
        }
      ]
    },
    {
      "cell_type": "code",
      "source": [
        "from nltk.translate.bleu_score import sentence_bleu\n",
        "from nltk import word_tokenize\n",
        "\n",
        "def calculate_bleu(candidate, reference):\n",
        "    '''\n",
        "    candidate, reference: generated and ground-truth sentences\n",
        "    '''\n",
        "    reference = word_tokenize(reference)\n",
        "    candidate = word_tokenize(candidate)\n",
        "    score = sentence_bleu(reference, candidate)\n",
        "    return score"
      ],
      "metadata": {
        "id": "-8rbefweAwCA"
      },
      "execution_count": null,
      "outputs": []
    },
    {
      "cell_type": "code",
      "source": [],
      "metadata": {
        "id": "88DjDgKHVX0I"
      },
      "execution_count": null,
      "outputs": []
    },
    {
      "cell_type": "code",
      "source": [
        "def measure_novelty(text):\n",
        "    # split the text into words\n",
        "    words = text.split()\n",
        "\n",
        "    # get the number of unique words\n",
        "    num_unique_words = len(set(words))\n",
        "\n",
        "    # return the number of unique words as a measure of novelty\n",
        "    return num_unique_words\n",
        "\n",
        "# example text\n",
        "text = \"Let me not to the marriage of true minds Let me not to the marriage of true minds Admit impediments; love is not love Which alters when it alteration finds\"\n",
        "\n",
        "# measure the novelty of the text\n",
        "novelty = measure_novelty(text)\n",
        "\n",
        "# print the novelty score\n",
        "print(\"Novelty:\", novelty)"
      ],
      "metadata": {
        "id": "FFpHK0PvAwEm"
      },
      "execution_count": null,
      "outputs": []
    },
    {
      "cell_type": "code",
      "source": [
        "!pip install math"
      ],
      "metadata": {
        "id": "gZXhP3quBlYR"
      },
      "execution_count": null,
      "outputs": []
    },
    {
      "cell_type": "code",
      "source": [
        "import math\n",
        "\n",
        "def measure_novelty(text, model):\n",
        "    # get the probability of the text under the model's distribution\n",
        "    p = model.probability(text)\n",
        "\n",
        "    # compute the novelty score using the f(text) = -log p(text) function\n",
        "    score = -math.log(p)\n",
        "\n",
        "    # return the novelty score\n",
        "    return score\n",
        "\n",
        "# example text and model\n",
        "text = \"This is an example of some text that we want to measure for novelty\"\n",
        "model = ...\n",
        "\n",
        "# measure the novelty of the text\n",
        "novelty = measure_novelty(text, model)\n",
        "\n",
        "# print the novelty score\n",
        "print(\"Novelty:\", novelty)"
      ],
      "metadata": {
        "id": "xMrZBtS_Bj39"
      },
      "execution_count": null,
      "outputs": []
    },
    {
      "cell_type": "code",
      "source": [],
      "metadata": {
        "id": "R-RLD5wCDDHS"
      },
      "execution_count": null,
      "outputs": []
    },
    {
      "cell_type": "code",
      "source": [
        "# import the necessary library\n",
        "import numpy as np\n",
        "\n",
        "# define a custom model class\n",
        "class Model:\n",
        "    def __init__(self):\n",
        "        # initialize any necessary model parameters here\n",
        "        pass\n",
        "\n",
        "    def probability(self, word, prev_word):\n",
        "        # compute and return the probability of the given word given the previous word\n",
        "        pass\n",
        "\n",
        "def compute_probability(text, model):\n",
        "    # split the text into words\n",
        "    words = text.split()\n",
        "\n",
        "    # initialize the probability to 1\n",
        "    p = 1\n",
        "\n",
        "    # loop over the words in the text\n",
        "    for i in range(len(words)):\n",
        "        # get the current word and the previous word\n",
        "        word = words[i]\n",
        "        prev_word = words[i-1] if i > 0 else None\n",
        "\n",
        "        # compute the probability of the current word given the previous word\n",
        "        word_prob = model.probability(word, prev_word)\n",
        "\n",
        "        # multiply the probability by the probability of the current word\n",
        "        p *= word_prob\n",
        "\n",
        "    # return the probability of the text\n",
        "    return p\n",
        "\n",
        "# create an instance of the custom model class\n",
        "model = Model()\n",
        "\n",
        "# example text\n",
        "text = \"This is an example of some text that we want to compute the probability of\"\n",
        "\n",
        "# compute the probability of the text under the model's distribution\n",
        "p = compute_probability(text, model)\n",
        "\n",
        "# print the probability\n",
        "print(\"Probability:\", p)\n"
      ],
      "metadata": {
        "id": "8-i0PlGMDDJ0"
      },
      "execution_count": null,
      "outputs": []
    },
    {
      "cell_type": "code",
      "source": [
        "def compute_probability(text, model):\n",
        "    # split the text into words\n",
        "    words = text.split()\n",
        "\n",
        "    # initialize the probability to 1\n",
        "    p = 1\n",
        "\n",
        "    # loop over the words in the text\n",
        "    for i in range(len(words)):\n",
        "        # get the current word and the previous word\n",
        "        word = words[i]\n",
        "        prev_word = words[i-1] if i > 0 else None\n",
        "\n",
        "        # compute the probability of the current word given the previous word\n",
        "        word_prob = model.probability(word, prev_word)\n",
        "\n",
        "        # check if the probability is None\n",
        "        if word_prob is None:\n",
        "            # if the probability is None, return 0\n",
        "            return 0\n",
        "\n",
        "        # multiply the probability by the probability of the current word\n",
        "        p *= word_prob\n",
        "\n",
        "    # return the probability of the text\n",
        "    return p\n"
      ],
      "metadata": {
        "id": "EEfSBzFoAxDm"
      },
      "execution_count": null,
      "outputs": []
    },
    {
      "cell_type": "code",
      "source": [
        "def compute_probability(text, model):\n",
        "    # split the text into words\n",
        "    words = text.split()\n",
        "\n",
        "    # print the words\n",
        "    print(\"Words:\", words)\n",
        "\n",
        "    # initialize the probability to 1\n",
        "    p = 1\n",
        "\n",
        "    # loop over the words in the text\n",
        "    for i in range(len(words)):\n",
        "        # get the current word and the previous word\n",
        "        word = words[i]\n",
        "        prev_word = words[i-1] if i > 0 else None\n",
        "\n",
        "        # compute the probability of the current word given the previous word\n",
        "        word_prob = model.probability(word, prev_word)\n",
        "\n",
        "        # print the current word and its probability\n",
        "        print(\"Word:\", word)\n",
        "        print(\"Probability:\", word_prob)\n",
        "\n",
        "        # check if the probability is None\n",
        "        if word_prob is None:\n",
        "            # if the probability is None, return 0\n",
        "            return 0\n",
        "\n",
        "        # multiply the probability by the probability of the current word\n",
        "        p *= word_prob\n",
        "\n",
        "    # return the probability of the text\n",
        "    return p\n"
      ],
      "metadata": {
        "id": "nxUZwZijFxyr"
      },
      "execution_count": null,
      "outputs": []
    },
    {
      "cell_type": "code",
      "source": [
        "import torch\n",
        "import transformers as tfm\n",
        "\n",
        "def detect_novelty(text, model):\n",
        "    # split the text into words\n",
        "    words = text.split()\n",
        "\n",
        "    # initialize the novelty score to 0\n",
        "    novelty_score = 0\n",
        "\n",
        "    # loop over the words in the text\n",
        "    for i in range(len(words)):\n",
        "        # get the current word and the previous word\n",
        "        word = words[i]\n",
        "        prev_word = words[i-1] if i > 0 else None\n",
        "\n",
        "        # compute the probability of the current word given the previous word\n",
        "        # using the transformer model\n",
        "        word_tokens = model.tokenizer.encode(word, prev_word)\n",
        "        word_prob = model.model(torch.tensor([word_tokens]))[0][-1][-1]\n",
        "\n",
        "        # add the log probability of the current word to the novelty score\n",
        "        novelty_score += np.log(word_prob)\n",
        "\n",
        "    # return the novelty score\n",
        "    return novelty_score\n",
        "\n",
        "# example text and transformer model\n",
        "text = \"This is an example of some text that we want to compute the novelty score of\"\n",
        "model = tfm.BertModel.from_pretrained('bert-base-uncased')\n",
        "\n",
        "# compute the novelty score of the text\n",
        "novelty_score = detect_novelty(text, model)\n",
        "\n",
        "# print the novelty score\n",
        "print(\"Novelty score:\", novelty_score)\n"
      ],
      "metadata": {
        "id": "2Oz_eBguFzbA"
      },
      "execution_count": null,
      "outputs": []
    },
    {
      "cell_type": "code",
      "source": [
        "import nltk\n",
        "nltk.download('punkt')\n",
        "\n",
        "def score_novelty(paragraph, text):\n",
        "  # Tokenize the paragraph and text using NLTK\n",
        "  tokens = nltk.word_tokenize(paragraph)\n",
        "  text_tokens = nltk.word_tokenize(text)\n",
        "\n",
        "  # Create a set of unique tokens from the paragraph\n",
        "  unique_tokens = set(tokens)\n",
        "\n",
        "  # Count the number of unique tokens in the text\n",
        "  num_unique_tokens = len(set(text_tokens).intersection(unique_tokens))\n",
        "\n",
        "  # Calculate the novelty score by dividing the number of unique tokens in the text by the total number of tokens in the text\n",
        "  novelty_score = num_unique_tokens / len(text_tokens)\n",
        "\n",
        "  return novelty_score\n",
        "\n",
        "# Example usage\n",
        "paragraph = \"Many factories were evacuated, together with much of the government, and from October 20 the city was declared to be in a state of siege. Its remaining inhabitants built and manned antitank defenses, while the city was bombarded from the air. On May 1, 1944, a medal For the defence of Moscow and in 1947 another medal In memory of the 800th anniversary of Moscow was instituted.\"\n",
        "text = \"Many factories were evacuated,\"\n",
        "novelty_score = score_novelty(paragraph, text)\n",
        "print(novelty_score)  # Output: 0.4\n"
      ],
      "metadata": {
        "id": "wT8ot0ksuOZ2"
      },
      "execution_count": null,
      "outputs": []
    },
    {
      "cell_type": "code",
      "source": [],
      "metadata": {
        "id": "fYcdgaEhoQOn"
      },
      "execution_count": null,
      "outputs": []
    },
    {
      "cell_type": "code",
      "source": [
        "import csv\n",
        "import math\n",
        "from collections import Counter\n",
        "\n",
        "def cosine_similarity(text1, text2):\n",
        "    # Convert the texts to a Counter object that stores the frequency of each word\n",
        "    counter1 = Counter(text1)\n",
        "    counter2 = Counter(text2)\n",
        "    \n",
        "    # Find the intersection of the words in both texts\n",
        "    words = set(counter1.keys()).intersection(set(counter2.keys()))\n",
        "    \n",
        "    # Calculate the dot product of the frequency vectors of the common words\n",
        "    dot_product = sum(counter1[word] * counter2[word] for word in words)\n",
        "    \n",
        "    # Calculate the magnitude of each frequency vector\n",
        "    magnitude1 = math.sqrt(sum(counter1[word] ** 2 for word in counter1.keys()))\n",
        "    magnitude2 = math.sqrt(sum(counter2[word] ** 2 for word in counter2.keys()))\n",
        "    \n",
        "    # Calculate and return the cosine similarity score\n",
        "    return dot_product / (magnitude1 * magnitude2)\n",
        "\n",
        "def read_text_from_csv(file_name):\n",
        "    text = []\n",
        "    with open(file_name, \"r\") as file:\n",
        "        reader = csv.reader(file)\n",
        "        for row in reader:\n",
        "            text.extend(row)\n",
        "    return text\n",
        "\n",
        "# Read the text from the CSV files\n",
        "text1 = read_text_from_csv(\"text1.txt\")\n",
        "text2 = read_text_from_csv(\"text3.csv\")\n",
        "print(text1)\n",
        "print(text2)\n",
        "\n",
        "# Calculate the cosine similarity of the two texts\n",
        "similarity = cosine_similarity(text1, text2)\n",
        "\n",
        "print(\"Cosine Similarity:\", similarity)\n"
      ],
      "metadata": {
        "id": "HvZjxBsPoQRM"
      },
      "execution_count": null,
      "outputs": []
    },
    {
      "cell_type": "code",
      "source": [],
      "metadata": {
        "id": "dE8AAOj2pUD8"
      },
      "execution_count": null,
      "outputs": []
    },
    {
      "cell_type": "code",
      "source": [
        "# import required libraries\n",
        "import numpy as np\n",
        "from numpy.linalg import norm\n",
        "\n",
        "# define two lists or array\n",
        "A = np.array([2,1,2,3,2,9])\n",
        "B = np.array([3,4,2,4,5,5])\n",
        "\n",
        "print(\"A:\", A)\n",
        "print(\"B:\", B)\n",
        "\n",
        "# compute cosine similarity\n",
        "cosine = np.dot(A,B)/(norm(A)*norm(B))\n",
        "print(\"Cosine Similarity:\", cosine)\n"
      ],
      "metadata": {
        "id": "M9tbpxhGpPFh"
      },
      "execution_count": null,
      "outputs": []
    }
  ]
}