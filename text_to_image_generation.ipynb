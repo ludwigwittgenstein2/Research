{
  "cells": [
    {
      "cell_type": "markdown",
      "metadata": {
        "id": "view-in-github",
        "colab_type": "text"
      },
      "source": [
        "<a href=\"https://colab.research.google.com/github/ludwigwittgenstein2/Research/blob/master/text_to_image_generation.ipynb\" target=\"_parent\"><img src=\"https://colab.research.google.com/assets/colab-badge.svg\" alt=\"Open In Colab\"/></a>"
      ]
    },
    {
      "cell_type": "code",
      "execution_count": null,
      "id": "019805d9-4e9f-4306-8f18-a565cb1e8845",
      "metadata": {
        "colab": {
          "base_uri": "https://localhost:8080/"
        },
        "id": "019805d9-4e9f-4306-8f18-a565cb1e8845",
        "outputId": "f2d4e02e-8f13-4283-c575-8f8a59d25348"
      },
      "outputs": [
        {
          "output_type": "stream",
          "name": "stdout",
          "text": [
            "Looking in indexes: https://pypi.org/simple, https://pypi.anaconda.org/daft-nightly/simple\n",
            "Requirement already satisfied: getdaft in /usr/local/lib/python3.10/dist-packages (0.4.1)\n",
            "Requirement already satisfied: pyarrow>=8.0.0 in /usr/local/lib/python3.10/dist-packages (from getdaft) (17.0.0)\n",
            "Requirement already satisfied: fsspec in /usr/local/lib/python3.10/dist-packages (from getdaft) (2024.10.0)\n",
            "Requirement already satisfied: tqdm in /usr/local/lib/python3.10/dist-packages (from getdaft) (4.67.1)\n",
            "Requirement already satisfied: numpy>=1.16.6 in /usr/local/lib/python3.10/dist-packages (from pyarrow>=8.0.0->getdaft) (1.26.4)\n",
            "Requirement already satisfied: min-dalle in /usr/local/lib/python3.10/dist-packages (0.4.11)\n",
            "Requirement already satisfied: torch in /usr/local/lib/python3.10/dist-packages (2.5.1+cu121)\n",
            "Requirement already satisfied: Pillow in /usr/local/lib/python3.10/dist-packages (11.0.0)\n",
            "Requirement already satisfied: typing-extensions>=4.1 in /usr/local/lib/python3.10/dist-packages (from min-dalle) (4.12.2)\n",
            "Requirement already satisfied: numpy>=1.21 in /usr/local/lib/python3.10/dist-packages (from min-dalle) (1.26.4)\n",
            "Requirement already satisfied: requests>=2.23 in /usr/local/lib/python3.10/dist-packages (from min-dalle) (2.32.3)\n",
            "Requirement already satisfied: emoji in /usr/local/lib/python3.10/dist-packages (from min-dalle) (2.14.0)\n",
            "Requirement already satisfied: filelock in /usr/local/lib/python3.10/dist-packages (from torch) (3.16.1)\n",
            "Requirement already satisfied: networkx in /usr/local/lib/python3.10/dist-packages (from torch) (3.4.2)\n",
            "Requirement already satisfied: jinja2 in /usr/local/lib/python3.10/dist-packages (from torch) (3.1.4)\n",
            "Requirement already satisfied: fsspec in /usr/local/lib/python3.10/dist-packages (from torch) (2024.10.0)\n",
            "Requirement already satisfied: sympy==1.13.1 in /usr/local/lib/python3.10/dist-packages (from torch) (1.13.1)\n",
            "Requirement already satisfied: mpmath<1.4,>=1.1.0 in /usr/local/lib/python3.10/dist-packages (from sympy==1.13.1->torch) (1.3.0)\n",
            "Requirement already satisfied: charset-normalizer<4,>=2 in /usr/local/lib/python3.10/dist-packages (from requests>=2.23->min-dalle) (3.4.0)\n",
            "Requirement already satisfied: idna<4,>=2.5 in /usr/local/lib/python3.10/dist-packages (from requests>=2.23->min-dalle) (3.10)\n",
            "Requirement already satisfied: urllib3<3,>=1.21.1 in /usr/local/lib/python3.10/dist-packages (from requests>=2.23->min-dalle) (2.2.3)\n",
            "Requirement already satisfied: certifi>=2017.4.17 in /usr/local/lib/python3.10/dist-packages (from requests>=2.23->min-dalle) (2024.12.14)\n",
            "Requirement already satisfied: MarkupSafe>=2.0 in /usr/local/lib/python3.10/dist-packages (from jinja2->torch) (3.0.2)\n"
          ]
        }
      ],
      "source": [
        "!pip install getdaft --pre --extra-index-url https://pypi.anaconda.org/daft-nightly/simple\n",
        "!pip install min-dalle torch Pillow"
      ]
    },
    {
      "cell_type": "code",
      "execution_count": null,
      "id": "9536868c",
      "metadata": {
        "tags": [
          "parameters"
        ],
        "id": "9536868c"
      },
      "outputs": [],
      "source": [
        "CI = False"
      ]
    },
    {
      "cell_type": "code",
      "execution_count": null,
      "id": "8ff9d08a",
      "metadata": {
        "tags": [],
        "id": "8ff9d08a"
      },
      "outputs": [],
      "source": [
        "import daft\n",
        "\n",
        "# Flip this flag if you want to see the performance of running on CPU vs GPU\n",
        "USE_GPU = False if CI else True\n",
        "IO_CONFIG = daft.io.IOConfig(\n",
        "    s3=daft.io.S3Config(anonymous=True, region_name=\"us-west-2\")\n",
        ")  # Use anonymous-mode for accessing AWS S3\n",
        "PARQUET_PATH = \"s3://daft-public-data/tutorials/laion-parquet/train-00000-of-00001-6f24a7497df494ae.parquet\""
      ]
    },
    {
      "cell_type": "markdown",
      "id": "d5a31f06",
      "metadata": {
        "id": "d5a31f06"
      },
      "source": [
        "```{hint}\n",
        "✨✨✨ **Run this notebook on Google Colab** ✨✨✨\n",
        "\n",
        "You can [run this notebook yourself with Google Colab](https://colab.research.google.com/github/Eventual-Inc/Daft/blob/main/tutorials/text_to_image/text_to_image_generation.ipynb)!\n",
        "```"
      ]
    },
    {
      "cell_type": "markdown",
      "id": "78db424a-96b5-46f3-bd32-484f5c6b92a3",
      "metadata": {
        "id": "78db424a-96b5-46f3-bd32-484f5c6b92a3"
      },
      "source": [
        "# Generating Images from Text with DALL-E\n",
        "\n",
        "In this tutorial, we will be using the DALL-E model to generate images from text. We will explore how to use GPUs with Daft to accelerate computations.\n",
        "\n",
        "To run this tutorial:\n",
        "\n",
        "1. You will need access to a GPU. If you are on Google Colab, you may switch to a GPU runtime by going to the menu `Runtime -> Change runtime type -> Hardware accelerator -> GPU -> Save`.\n",
        "\n",
        "Let's get started!"
      ]
    },
    {
      "cell_type": "markdown",
      "id": "4da65a96-e4fe-4795-92d0-a5e631b58e33",
      "metadata": {
        "id": "4da65a96-e4fe-4795-92d0-a5e631b58e33"
      },
      "source": [
        "## Setting Up\n",
        "\n",
        "First, let's load a Parquet file into Daft. This particular file is hosted in HuggingFace at a https URL."
      ]
    },
    {
      "cell_type": "code",
      "execution_count": null,
      "id": "806451f8-68af-462a-af7b-ff5480425a3a",
      "metadata": {
        "id": "806451f8-68af-462a-af7b-ff5480425a3a",
        "tags": []
      },
      "outputs": [],
      "source": [
        "import daft\n",
        "\n",
        "daft.context.set_runner_py(use_thread_pool=False)\n",
        "\n",
        "parquet_df = daft.read_parquet(PARQUET_PATH, io_config=IO_CONFIG)"
      ]
    },
    {
      "cell_type": "markdown",
      "id": "a1e20f90",
      "metadata": {
        "id": "a1e20f90"
      },
      "source": [
        "Let's go ahead and `.collect()` this DataFrame. This will download the Parquet file and materialize the data in memory so that all our subsequent operations will be cached!"
      ]
    },
    {
      "cell_type": "code",
      "execution_count": null,
      "id": "e1e3b619-beaf-465e-83f2-5ab71638dcc1",
      "metadata": {
        "colab": {
          "base_uri": "https://localhost:8080/",
          "height": 696
        },
        "id": "e1e3b619-beaf-465e-83f2-5ab71638dcc1",
        "outputId": "ef113e11-5ef6-4acd-c577-b58f9bf74443",
        "tags": []
      },
      "outputs": [
        {
          "output_type": "execute_result",
          "data": {
            "text/plain": [
              "╭───────────────────┬───────────────────┬─────────┬────────────┬─────────────────┬──────────────────┬──────────────────╮\n",
              "│ URL               ┆ TEXT              ┆ WIDTH   ┆      …     ┆ AESTHETIC_SCORE ┆ hash             ┆ __index_level_0_ │\n",
              "│ ---               ┆ ---               ┆ ---     ┆            ┆ ---             ┆ ---              ┆ _                │\n",
              "│ Utf8              ┆ Utf8              ┆ Float64 ┆ (4 hidden) ┆ Float32         ┆ Int64            ┆ ---              │\n",
              "│                   ┆                   ┆         ┆            ┆                 ┆                  ┆ Int64            │\n",
              "╞═══════════════════╪═══════════════════╪═════════╪════════════╪═════════════════╪══════════════════╪══════════════════╡\n",
              "│ https://images.as ┆ Photo pour        ┆ 450     ┆ …          ┆ 6.5262036       ┆ 1777707726169138 ┆ 396              │\n",
              "│ setsdelivery…     ┆ Japanese pagoda   ┆         ┆            ┆                 ┆ 033              ┆                  │\n",
              "│                   ┆ an…               ┆         ┆            ┆                 ┆                  ┆                  │\n",
              "├╌╌╌╌╌╌╌╌╌╌╌╌╌╌╌╌╌╌╌┼╌╌╌╌╌╌╌╌╌╌╌╌╌╌╌╌╌╌╌┼╌╌╌╌╌╌╌╌╌┼╌╌╌╌╌╌╌╌╌╌╌╌┼╌╌╌╌╌╌╌╌╌╌╌╌╌╌╌╌╌┼╌╌╌╌╌╌╌╌╌╌╌╌╌╌╌╌╌╌┼╌╌╌╌╌╌╌╌╌╌╌╌╌╌╌╌╌╌┤\n",
              "│ https://images.fi ┆ Soaring by Peter  ┆ 675     ┆ …          ┆ 6.636003        ┆ 4231601394502896 ┆ 7984             │\n",
              "│ neartamerica…     ┆ Eades             ┆         ┆            ┆                 ┆ 160              ┆                  │\n",
              "├╌╌╌╌╌╌╌╌╌╌╌╌╌╌╌╌╌╌╌┼╌╌╌╌╌╌╌╌╌╌╌╌╌╌╌╌╌╌╌┼╌╌╌╌╌╌╌╌╌┼╌╌╌╌╌╌╌╌╌╌╌╌┼╌╌╌╌╌╌╌╌╌╌╌╌╌╌╌╌╌┼╌╌╌╌╌╌╌╌╌╌╌╌╌╌╌╌╌╌┼╌╌╌╌╌╌╌╌╌╌╌╌╌╌╌╌╌╌┤\n",
              "│ https://assets.vg ┆ far cry 4 concept ┆ 1600    ┆ …          ┆ 6.690522        ┆ 6867480114123960 ┆ 21440            │\n",
              "│ 247.com/curr…     ┆ art is the …      ┆         ┆            ┆                 ┆ 364              ┆                  │\n",
              "├╌╌╌╌╌╌╌╌╌╌╌╌╌╌╌╌╌╌╌┼╌╌╌╌╌╌╌╌╌╌╌╌╌╌╌╌╌╌╌┼╌╌╌╌╌╌╌╌╌┼╌╌╌╌╌╌╌╌╌╌╌╌┼╌╌╌╌╌╌╌╌╌╌╌╌╌╌╌╌╌┼╌╌╌╌╌╌╌╌╌╌╌╌╌╌╌╌╌╌┼╌╌╌╌╌╌╌╌╌╌╌╌╌╌╌╌╌╌┤\n",
              "│ http://img.scoop. ┆ San Pedro: One Of ┆ 467     ┆ …          ┆ 6.749783        ┆ 2573977429828778 ┆ 30627            │\n",
              "│ it/ttXSVXiLO…     ┆ Mother Natu…      ┆         ┆            ┆                 ┆ 516              ┆                  │\n",
              "├╌╌╌╌╌╌╌╌╌╌╌╌╌╌╌╌╌╌╌┼╌╌╌╌╌╌╌╌╌╌╌╌╌╌╌╌╌╌╌┼╌╌╌╌╌╌╌╌╌┼╌╌╌╌╌╌╌╌╌╌╌╌┼╌╌╌╌╌╌╌╌╌╌╌╌╌╌╌╌╌┼╌╌╌╌╌╌╌╌╌╌╌╌╌╌╌╌╌╌┼╌╌╌╌╌╌╌╌╌╌╌╌╌╌╌╌╌╌┤\n",
              "│ https://www.stock ┆ YZV200025S ©      ┆ 650     ┆ …          ┆ 6.5293713       ┆ -287044708876239 ┆ 31548            │\n",
              "│ trekimages.c…     ┆ Stocktrek Images… ┆         ┆            ┆                 ┆ 0972             ┆                  │\n",
              "├╌╌╌╌╌╌╌╌╌╌╌╌╌╌╌╌╌╌╌┼╌╌╌╌╌╌╌╌╌╌╌╌╌╌╌╌╌╌╌┼╌╌╌╌╌╌╌╌╌┼╌╌╌╌╌╌╌╌╌╌╌╌┼╌╌╌╌╌╌╌╌╌╌╌╌╌╌╌╌╌┼╌╌╌╌╌╌╌╌╌╌╌╌╌╌╌╌╌╌┼╌╌╌╌╌╌╌╌╌╌╌╌╌╌╌╌╌╌┤\n",
              "│ https://i.pinimg. ┆ Grace Kelly       ┆ 1024    ┆ …          ┆ 6.592924        ┆ 5832306745679284 ┆ 31816            │\n",
              "│ com/original…     ┆ Outfits           ┆         ┆            ┆                 ┆ 925              ┆                  │\n",
              "├╌╌╌╌╌╌╌╌╌╌╌╌╌╌╌╌╌╌╌┼╌╌╌╌╌╌╌╌╌╌╌╌╌╌╌╌╌╌╌┼╌╌╌╌╌╌╌╌╌┼╌╌╌╌╌╌╌╌╌╌╌╌┼╌╌╌╌╌╌╌╌╌╌╌╌╌╌╌╌╌┼╌╌╌╌╌╌╌╌╌╌╌╌╌╌╌╌╌╌┼╌╌╌╌╌╌╌╌╌╌╌╌╌╌╌╌╌╌┤\n",
              "│ https://armeniana ┆ Portrait - Anush, ┆ 800     ┆ …          ┆ 6.8501353       ┆ -389656721174975 ┆ 33458            │\n",
              "│ rt.am/wp-con…     ┆ by Artur Mk…      ┆         ┆            ┆                 ┆ 2908             ┆                  │\n",
              "├╌╌╌╌╌╌╌╌╌╌╌╌╌╌╌╌╌╌╌┼╌╌╌╌╌╌╌╌╌╌╌╌╌╌╌╌╌╌╌┼╌╌╌╌╌╌╌╌╌┼╌╌╌╌╌╌╌╌╌╌╌╌┼╌╌╌╌╌╌╌╌╌╌╌╌╌╌╌╌╌┼╌╌╌╌╌╌╌╌╌╌╌╌╌╌╌╌╌╌┼╌╌╌╌╌╌╌╌╌╌╌╌╌╌╌╌╌╌┤\n",
              "│ https://render.fi ┆ Children Listen   ┆ 400     ┆ …          ┆ 6.833819        ┆ 2734666252886784 ┆ 34136            │\n",
              "│ neartamerica…     ┆ To A Shepherd…    ┆         ┆            ┆                 ┆ 419              ┆                  │\n",
              "╰───────────────────┴───────────────────┴─────────┴────────────┴─────────────────┴──────────────────┴──────────────────╯\n",
              "\n",
              "(Showing first 8 of 635561 rows)"
            ],
            "text/html": [
              "<div>\n",
              "<table class=\"dataframe\">\n",
              "<thead><tr><th style=\"text-wrap: nowrap; max-width:192px; overflow:auto; text-align:left\">URL<br />Utf8</th><th style=\"text-wrap: nowrap; max-width:192px; overflow:auto; text-align:left\">TEXT<br />Utf8</th><th style=\"text-wrap: nowrap; max-width:192px; overflow:auto; text-align:left\">WIDTH<br />Float64</th><th style=\"text-wrap: nowrap; max-width:192px; overflow:auto; text-align:left\">HEIGHT<br />Float64</th><th style=\"text-wrap: nowrap; max-width:192px; overflow:auto; text-align:left\">similarity<br />Float64</th><th style=\"text-wrap: nowrap; max-width:192px; overflow:auto; text-align:left\">punsafe<br />Float32</th><th style=\"text-wrap: nowrap; max-width:192px; overflow:auto; text-align:left\">pwatermark<br />Float32</th><th style=\"text-wrap: nowrap; max-width:192px; overflow:auto; text-align:left\">AESTHETIC_SCORE<br />Float32</th><th style=\"text-wrap: nowrap; max-width:192px; overflow:auto; text-align:left\">hash<br />Int64</th><th style=\"text-wrap: nowrap; max-width:192px; overflow:auto; text-align:left\">__index_level_0__<br />Int64</th></tr></thead>\n",
              "<tbody>\n",
              "<tr><td><div style=\"text-align:left; max-width:192px; max-height:64px; overflow:auto\">https://images.assetsdelivery.com/thumbnails/torsakarin/torsakarin1507/torsakarin150700324.jpg</div></td><td><div style=\"text-align:left; max-width:192px; max-height:64px; overflow:auto\">Photo pour Japanese pagoda and old house in Kyoto at twilight - image libre de droit</div></td><td><div style=\"text-align:left; max-width:192px; max-height:64px; overflow:auto\">450</div></td><td><div style=\"text-align:left; max-width:192px; max-height:64px; overflow:auto\">297</div></td><td><div style=\"text-align:left; max-width:192px; max-height:64px; overflow:auto\">0.3459470868110657</div></td><td><div style=\"text-align:left; max-width:192px; max-height:64px; overflow:auto\">0.00054100156</div></td><td><div style=\"text-align:left; max-width:192px; max-height:64px; overflow:auto\">0.034098506</div></td><td><div style=\"text-align:left; max-width:192px; max-height:64px; overflow:auto\">6.5262036</div></td><td><div style=\"text-align:left; max-width:192px; max-height:64px; overflow:auto\">1777707726169138033</div></td><td><div style=\"text-align:left; max-width:192px; max-height:64px; overflow:auto\">396</div></td></tr>\n",
              "<tr><td><div style=\"text-align:left; max-width:192px; max-height:64px; overflow:auto\">https://images.fineartamerica.com/images/artworkimages/mediumlarge/1/soaring-peter-eades.jpg</div></td><td><div style=\"text-align:left; max-width:192px; max-height:64px; overflow:auto\">Soaring by Peter Eades</div></td><td><div style=\"text-align:left; max-width:192px; max-height:64px; overflow:auto\">675</div></td><td><div style=\"text-align:left; max-width:192px; max-height:64px; overflow:auto\">900</div></td><td><div style=\"text-align:left; max-width:192px; max-height:64px; overflow:auto\">0.31040453910827637</div></td><td><div style=\"text-align:left; max-width:192px; max-height:64px; overflow:auto\">0.0000057670622</div></td><td><div style=\"text-align:left; max-width:192px; max-height:64px; overflow:auto\">0.0764483</div></td><td><div style=\"text-align:left; max-width:192px; max-height:64px; overflow:auto\">6.636003</div></td><td><div style=\"text-align:left; max-width:192px; max-height:64px; overflow:auto\">4231601394502896160</div></td><td><div style=\"text-align:left; max-width:192px; max-height:64px; overflow:auto\">7984</div></td></tr>\n",
              "<tr><td><div style=\"text-align:left; max-width:192px; max-height:64px; overflow:auto\">https://assets.vg247.com/current/2014/12/far-cry-4-concept-art-5.jpg</div></td><td><div style=\"text-align:left; max-width:192px; max-height:64px; overflow:auto\">far cry 4 concept art is the reason why it 39 s a beautiful game vg247. Black Bedroom Furniture Sets. Home Design Ideas</div></td><td><div style=\"text-align:left; max-width:192px; max-height:64px; overflow:auto\">1600</div></td><td><div style=\"text-align:left; max-width:192px; max-height:64px; overflow:auto\">754</div></td><td><div style=\"text-align:left; max-width:192px; max-height:64px; overflow:auto\">0.3163999617099762</div></td><td><div style=\"text-align:left; max-width:192px; max-height:64px; overflow:auto\">0.000042637777</div></td><td><div style=\"text-align:left; max-width:192px; max-height:64px; overflow:auto\">0.49650294</div></td><td><div style=\"text-align:left; max-width:192px; max-height:64px; overflow:auto\">6.690522</div></td><td><div style=\"text-align:left; max-width:192px; max-height:64px; overflow:auto\">6867480114123960364</div></td><td><div style=\"text-align:left; max-width:192px; max-height:64px; overflow:auto\">21440</div></td></tr>\n",
              "<tr><td><div style=\"text-align:left; max-width:192px; max-height:64px; overflow:auto\">http://img.scoop.it/ttXSVXiLOZzyjJ2rG9AUijl72eJkfbmt4t8yenImKBVvK0kTmF0xjctABnaLJIm9</div></td><td><div style=\"text-align:left; max-width:192px; max-height:64px; overflow:auto\">San Pedro: One Of Mother Nature's Most Powerful Psychedelics | Ayahuasca  アヤワスカ | Scoop.it</div></td><td><div style=\"text-align:left; max-width:192px; max-height:64px; overflow:auto\">467</div></td><td><div style=\"text-align:left; max-width:192px; max-height:64px; overflow:auto\">369</div></td><td><div style=\"text-align:left; max-width:192px; max-height:64px; overflow:auto\">0.30887341499328613</div></td><td><div style=\"text-align:left; max-width:192px; max-height:64px; overflow:auto\">0.00061166286</div></td><td><div style=\"text-align:left; max-width:192px; max-height:64px; overflow:auto\">0.10270452</div></td><td><div style=\"text-align:left; max-width:192px; max-height:64px; overflow:auto\">6.749783</div></td><td><div style=\"text-align:left; max-width:192px; max-height:64px; overflow:auto\">2573977429828778516</div></td><td><div style=\"text-align:left; max-width:192px; max-height:64px; overflow:auto\">30627</div></td></tr>\n",
              "<tr><td><div style=\"text-align:left; max-width:192px; max-height:64px; overflow:auto\">https://www.stocktrekimages.com/pix/simg/misc/yzv200025s_p.jpg</div></td><td><div style=\"text-align:left; max-width:192px; max-height:64px; overflow:auto\">YZV200025S © Stocktrek Images, Inc. 360 panorama of the Milky Way over Lago-Naki plateau, Russia.</div></td><td><div style=\"text-align:left; max-width:192px; max-height:64px; overflow:auto\">650</div></td><td><div style=\"text-align:left; max-width:192px; max-height:64px; overflow:auto\">308</div></td><td><div style=\"text-align:left; max-width:192px; max-height:64px; overflow:auto\">0.332099974155426</div></td><td><div style=\"text-align:left; max-width:192px; max-height:64px; overflow:auto\">0.000012845917</div></td><td><div style=\"text-align:left; max-width:192px; max-height:64px; overflow:auto\">0.057178423</div></td><td><div style=\"text-align:left; max-width:192px; max-height:64px; overflow:auto\">6.5293713</div></td><td><div style=\"text-align:left; max-width:192px; max-height:64px; overflow:auto\">-2870447088762390972</div></td><td><div style=\"text-align:left; max-width:192px; max-height:64px; overflow:auto\">31548</div></td></tr>\n",
              "<tr><td><div style=\"text-align:left; max-width:192px; max-height:64px; overflow:auto\">https://i.pinimg.com/originals/d2/72/f3/d272f3250515ae0ae4317c34afac60b7.jpg</div></td><td><div style=\"text-align:left; max-width:192px; max-height:64px; overflow:auto\">Grace Kelly Outfits</div></td><td><div style=\"text-align:left; max-width:192px; max-height:64px; overflow:auto\">1024</div></td><td><div style=\"text-align:left; max-width:192px; max-height:64px; overflow:auto\">1437</div></td><td><div style=\"text-align:left; max-width:192px; max-height:64px; overflow:auto\">0.316754013299942</div></td><td><div style=\"text-align:left; max-width:192px; max-height:64px; overflow:auto\">0.021755934</div></td><td><div style=\"text-align:left; max-width:192px; max-height:64px; overflow:auto\">0.1605802</div></td><td><div style=\"text-align:left; max-width:192px; max-height:64px; overflow:auto\">6.592924</div></td><td><div style=\"text-align:left; max-width:192px; max-height:64px; overflow:auto\">5832306745679284925</div></td><td><div style=\"text-align:left; max-width:192px; max-height:64px; overflow:auto\">31816</div></td></tr>\n",
              "<tr><td><div style=\"text-align:left; max-width:192px; max-height:64px; overflow:auto\">https://armenianart.am/wp-content/uploads/2019/06/portrait-anush-by-artur-mkhitaryan-1t-800x1066.jpg</div></td><td><div style=\"text-align:left; max-width:192px; max-height:64px; overflow:auto\">Portrait - Anush, by Artur Mkhitaryan</div></td><td><div style=\"text-align:left; max-width:192px; max-height:64px; overflow:auto\">800</div></td><td><div style=\"text-align:left; max-width:192px; max-height:64px; overflow:auto\">1066</div></td><td><div style=\"text-align:left; max-width:192px; max-height:64px; overflow:auto\">0.31701627373695374</div></td><td><div style=\"text-align:left; max-width:192px; max-height:64px; overflow:auto\">0.00001840563</div></td><td><div style=\"text-align:left; max-width:192px; max-height:64px; overflow:auto\">0.13537237</div></td><td><div style=\"text-align:left; max-width:192px; max-height:64px; overflow:auto\">6.8501353</div></td><td><div style=\"text-align:left; max-width:192px; max-height:64px; overflow:auto\">-3896567211749752908</div></td><td><div style=\"text-align:left; max-width:192px; max-height:64px; overflow:auto\">33458</div></td></tr>\n",
              "<tr><td><div style=\"text-align:left; max-width:192px; max-height:64px; overflow:auto\">https://render.fineartamerica.com/images/rendered/search/poster/images/artworkimages/medium/1/children-listen-to-a-shepherd-playing-a-flute-j-alsina.jpg</div></td><td><div style=\"text-align:left; max-width:192px; max-height:64px; overflow:auto\">Children Listen To A Shepherd Playing A Flute Poster by J Alsina</div></td><td><div style=\"text-align:left; max-width:192px; max-height:64px; overflow:auto\">400</div></td><td><div style=\"text-align:left; max-width:192px; max-height:64px; overflow:auto\">341</div></td><td><div style=\"text-align:left; max-width:192px; max-height:64px; overflow:auto\">0.3169437646865845</div></td><td><div style=\"text-align:left; max-width:192px; max-height:64px; overflow:auto\">0.0000028656173</div></td><td><div style=\"text-align:left; max-width:192px; max-height:64px; overflow:auto\">0.040163245</div></td><td><div style=\"text-align:left; max-width:192px; max-height:64px; overflow:auto\">6.833819</div></td><td><div style=\"text-align:left; max-width:192px; max-height:64px; overflow:auto\">2734666252886784419</div></td><td><div style=\"text-align:left; max-width:192px; max-height:64px; overflow:auto\">34136</div></td></tr>\n",
              "</tbody>\n",
              "</table>\n",
              "<small>(Showing first 8 of 635561 rows)</small>\n",
              "</div>"
            ]
          },
          "metadata": {},
          "execution_count": 16
        }
      ],
      "source": [
        "parquet_df.collect()"
      ]
    },
    {
      "cell_type": "code",
      "execution_count": null,
      "id": "b257cd91-db90-4803-afd9-9fdf571cf755",
      "metadata": {
        "id": "b257cd91-db90-4803-afd9-9fdf571cf755",
        "tags": []
      },
      "outputs": [],
      "source": [
        "parquet_df = parquet_df.select(parquet_df[\"URL\"], parquet_df[\"TEXT\"], parquet_df[\"AESTHETIC_SCORE\"])"
      ]
    },
    {
      "cell_type": "markdown",
      "id": "f28047df-bf05-47df-b4d4-3507a8f7d2ac",
      "metadata": {
        "id": "f28047df-bf05-47df-b4d4-3507a8f7d2ac"
      },
      "source": [
        "## Downloading Images\n",
        "\n",
        "Like many datasets, instead of storing the actual images in the dataset's files it looks like the Dataset authors have instead opted to store a URL to the image.\n",
        "\n",
        "Let's use Daft's builtin functionality to download the images and open them as PIL Images - all in just a few lines of code!"
      ]
    },
    {
      "cell_type": "code",
      "execution_count": null,
      "id": "f1e5cd84-4526-4a91-9fd5-f4e78f35965d",
      "metadata": {
        "id": "f1e5cd84-4526-4a91-9fd5-f4e78f35965d",
        "tags": []
      },
      "outputs": [],
      "source": [
        "# Filter for images with longer descriptions\n",
        "parquet_df_with_long_strings = parquet_df.where(parquet_df[\"TEXT\"].str.length() > 50)\n",
        "\n",
        "# Download images\n",
        "images_df = parquet_df_with_long_strings.with_column(\n",
        "    \"image\",\n",
        "    parquet_df[\"URL\"].url.download().image.decode(),\n",
        ")"
      ]
    },
    {
      "cell_type": "code",
      "execution_count": null,
      "id": "c1361728-8b1a-4e6e-9632-ddd17cad948b",
      "metadata": {
        "colab": {
          "base_uri": "https://localhost:8080/",
          "height": 474
        },
        "id": "c1361728-8b1a-4e6e-9632-ddd17cad948b",
        "outputId": "41758106-e4a3-4f30-ae95-f03a6e0de83b",
        "tags": []
      },
      "outputs": [
        {
          "output_type": "display_data",
          "data": {
            "text/plain": [
              "╭────────────────────────────────┬────────────────────────────────┬─────────────────┬──────────────╮\n",
              "│ URL                            ┆ TEXT                           ┆ AESTHETIC_SCORE ┆ image        │\n",
              "│ ---                            ┆ ---                            ┆ ---             ┆ ---          │\n",
              "│ Utf8                           ┆ Utf8                           ┆ Float32         ┆ Image[MIXED] │\n",
              "╞════════════════════════════════╪════════════════════════════════╪═════════════════╪══════════════╡\n",
              "│ https://images.assetsdelivery… ┆ Photo pour Japanese pagoda an… ┆ 6.5262036       ┆ <Image>      │\n",
              "├╌╌╌╌╌╌╌╌╌╌╌╌╌╌╌╌╌╌╌╌╌╌╌╌╌╌╌╌╌╌╌╌┼╌╌╌╌╌╌╌╌╌╌╌╌╌╌╌╌╌╌╌╌╌╌╌╌╌╌╌╌╌╌╌╌┼╌╌╌╌╌╌╌╌╌╌╌╌╌╌╌╌╌┼╌╌╌╌╌╌╌╌╌╌╌╌╌╌┤\n",
              "│ https://assets.vg247.com/curr… ┆ far cry 4 concept art is the … ┆ 6.690522        ┆ <Image>      │\n",
              "├╌╌╌╌╌╌╌╌╌╌╌╌╌╌╌╌╌╌╌╌╌╌╌╌╌╌╌╌╌╌╌╌┼╌╌╌╌╌╌╌╌╌╌╌╌╌╌╌╌╌╌╌╌╌╌╌╌╌╌╌╌╌╌╌╌┼╌╌╌╌╌╌╌╌╌╌╌╌╌╌╌╌╌┼╌╌╌╌╌╌╌╌╌╌╌╌╌╌┤\n",
              "│ http://img.scoop.it/ttXSVXiLO… ┆ San Pedro: One Of Mother Natu… ┆ 6.749783        ┆ <Image>      │\n",
              "├╌╌╌╌╌╌╌╌╌╌╌╌╌╌╌╌╌╌╌╌╌╌╌╌╌╌╌╌╌╌╌╌┼╌╌╌╌╌╌╌╌╌╌╌╌╌╌╌╌╌╌╌╌╌╌╌╌╌╌╌╌╌╌╌╌┼╌╌╌╌╌╌╌╌╌╌╌╌╌╌╌╌╌┼╌╌╌╌╌╌╌╌╌╌╌╌╌╌┤\n",
              "│ https://www.stocktrekimages.c… ┆ YZV200025S © Stocktrek Images… ┆ 6.5293713       ┆ <Image>      │\n",
              "├╌╌╌╌╌╌╌╌╌╌╌╌╌╌╌╌╌╌╌╌╌╌╌╌╌╌╌╌╌╌╌╌┼╌╌╌╌╌╌╌╌╌╌╌╌╌╌╌╌╌╌╌╌╌╌╌╌╌╌╌╌╌╌╌╌┼╌╌╌╌╌╌╌╌╌╌╌╌╌╌╌╌╌┼╌╌╌╌╌╌╌╌╌╌╌╌╌╌┤\n",
              "│ https://render.fineartamerica… ┆ Children Listen To A Shepherd… ┆ 6.833819        ┆ <Image>      │\n",
              "╰────────────────────────────────┴────────────────────────────────┴─────────────────┴──────────────╯\n",
              "\n",
              "(Showing first 5 rows)"
            ],
            "text/html": [
              "<div>\n",
              "<table class=\"dataframe\">\n",
              "<thead><tr><th style=\"text-wrap: nowrap; max-width:192px; overflow:auto; text-align:left\">URL<br />Utf8</th><th style=\"text-wrap: nowrap; max-width:192px; overflow:auto; text-align:left\">TEXT<br />Utf8</th><th style=\"text-wrap: nowrap; max-width:192px; overflow:auto; text-align:left\">AESTHETIC_SCORE<br />Float32</th><th style=\"text-wrap: nowrap; max-width:192px; overflow:auto; text-align:left\">image<br />Image[MIXED]</th></tr></thead>\n",
              "<tbody>\n",
              "<tr><td><div style=\"text-align:left; max-width:192px; max-height:64px; overflow:auto\">https://images.assetsdelivery.com/thumbnails/torsakarin/torsakarin1507/torsakarin150700324.jpg</div></td><td><div style=\"text-align:left; max-width:192px; max-height:64px; overflow:auto\">Photo pour Japanese pagoda and old house in Kyoto at twilight - image libre de droit</div></td><td><div style=\"text-align:left; max-width:192px; max-height:64px; overflow:auto\">6.5262036</div></td><td><div style=\"text-align:left; max-width:192px; max-height:64px; overflow:auto\"><img style=\"max-height:128px;width:auto\" src=\"data:image/png;base64, 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\" alt=\"<Image>\" /></div></td></tr>\n",
              "<tr><td><div style=\"text-align:left; max-width:192px; max-height:64px; overflow:auto\">https://assets.vg247.com/current/2014/12/far-cry-4-concept-art-5.jpg</div></td><td><div style=\"text-align:left; max-width:192px; max-height:64px; overflow:auto\">far cry 4 concept art is the reason why it 39 s a beautiful game vg247. Black Bedroom Furniture Sets. Home Design Ideas</div></td><td><div style=\"text-align:left; max-width:192px; max-height:64px; overflow:auto\">6.690522</div></td><td><div style=\"text-align:left; max-width:192px; max-height:64px; overflow:auto\"><img style=\"max-height:128px;width:auto\" src=\"data:image/png;base64, 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\" alt=\"<Image>\" /></div></td></tr>\n",
              "<tr><td><div style=\"text-align:left; max-width:192px; max-height:64px; overflow:auto\">http://img.scoop.it/ttXSVXiLOZzyjJ2rG9AUijl72eJkfbmt4t8yenImKBVvK0kTmF0xjctABnaLJIm9</div></td><td><div style=\"text-align:left; max-width:192px; max-height:64px; overflow:auto\">San Pedro: One Of Mother Nature's Most Powerful Psychedelics | Ayahuasca  アヤワスカ | Scoop.it</div></td><td><div style=\"text-align:left; max-width:192px; max-height:64px; overflow:auto\">6.749783</div></td><td><div style=\"text-align:left; max-width:192px; max-height:64px; overflow:auto\"><img style=\"max-height:128px;width:auto\" src=\"data:image/png;base64, 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\" alt=\"<Image>\" /></div></td></tr>\n",
              "<tr><td><div style=\"text-align:left; max-width:192px; max-height:64px; overflow:auto\">https://www.stocktrekimages.com/pix/simg/misc/yzv200025s_p.jpg</div></td><td><div style=\"text-align:left; max-width:192px; max-height:64px; overflow:auto\">YZV200025S © Stocktrek Images, Inc. 360 panorama of the Milky Way over Lago-Naki plateau, Russia.</div></td><td><div style=\"text-align:left; max-width:192px; max-height:64px; overflow:auto\">6.5293713</div></td><td><div style=\"text-align:left; max-width:192px; max-height:64px; overflow:auto\"><img style=\"max-height:128px;width:auto\" src=\"data:image/png;base64, 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\" alt=\"<Image>\" /></div></td></tr>\n",
              "<tr><td><div style=\"text-align:left; max-width:192px; max-height:64px; overflow:auto\">https://render.fineartamerica.com/images/rendered/search/poster/images/artworkimages/medium/1/children-listen-to-a-shepherd-playing-a-flute-j-alsina.jpg</div></td><td><div style=\"text-align:left; max-width:192px; max-height:64px; overflow:auto\">Children Listen To A Shepherd Playing A Flute Poster by J Alsina</div></td><td><div style=\"text-align:left; max-width:192px; max-height:64px; overflow:auto\">6.833819</div></td><td><div style=\"text-align:left; max-width:192px; max-height:64px; overflow:auto\"><img style=\"max-height:128px;width:auto\" src=\"data:image/png;base64, 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\" alt=\"<Image>\" /></div></td></tr>\n",
              "</tbody>\n",
              "</table>\n",
              "<small>(Showing first 5 rows)</small>\n",
              "</div>"
            ]
          },
          "metadata": {}
        }
      ],
      "source": [
        "images_df.show(5)"
      ]
    },
    {
      "cell_type": "markdown",
      "id": "6e6f59ee",
      "metadata": {
        "id": "6e6f59ee"
      },
      "source": [
        "Great! Now we have a pretty good idea of what our dataset looks like."
      ]
    },
    {
      "cell_type": "markdown",
      "id": "gCTmONUl81Vw",
      "metadata": {
        "id": "gCTmONUl81Vw"
      },
      "source": [
        "# Running the Mini DALL-E model on a GPU using Daft UDFs\n",
        "\n",
        "Let's now run the Mini DALL-E model over the `\"TEXT\"` column, and generate images for those texts!\n",
        "\n",
        "Using GPUs with Daft UDFs is simple. Just specify `num_gpus=N`, where `N` is the number of GPUs that your UDF is going to use."
      ]
    },
    {
      "cell_type": "code",
      "execution_count": null,
      "id": "b500e7f5",
      "metadata": {
        "tags": [],
        "colab": {
          "base_uri": "https://localhost:8080/",
          "height": 162
        },
        "id": "b500e7f5",
        "outputId": "bd0aff58-1230-44d0-b944-bf8b6b278bf3"
      },
      "outputs": [
        {
          "output_type": "display_data",
          "data": {
            "text/plain": [
              "╭────────────────────────────────┬─────────────────────┬─────────────────┬──────────────┬────────────────────────╮\n",
              "│ URL                            ┆ TEXT                ┆ AESTHETIC_SCORE ┆ image        ┆ generated_image        │\n",
              "│ ---                            ┆ ---                 ┆ ---             ┆ ---          ┆ ---                    │\n",
              "│ Utf8                           ┆ Utf8                ┆ Float32         ┆ Image[MIXED] ┆ Python                 │\n",
              "╞════════════════════════════════╪═════════════════════╪═════════════════╪══════════════╪════════════════════════╡\n",
              "│ https://images.assetsdelivery… ┆ Photo pour Japanese ┆ 6.5262036       ┆ <Image>      ┆ <PIL.Image.Image image │\n",
              "│                                ┆ pagoda an…          ┆                 ┆              ┆ mode=R…                │\n",
              "╰────────────────────────────────┴─────────────────────┴─────────────────┴──────────────┴────────────────────────╯\n",
              "\n",
              "(Showing first 1 rows)"
            ],
            "text/html": [
              "<div>\n",
              "<table class=\"dataframe\">\n",
              "<thead><tr><th style=\"text-wrap: nowrap; max-width:192px; overflow:auto; text-align:left\">URL<br />Utf8</th><th style=\"text-wrap: nowrap; max-width:192px; overflow:auto; text-align:left\">TEXT<br />Utf8</th><th style=\"text-wrap: nowrap; max-width:192px; overflow:auto; text-align:left\">AESTHETIC_SCORE<br />Float32</th><th style=\"text-wrap: nowrap; max-width:192px; overflow:auto; text-align:left\">image<br />Image[MIXED]</th><th style=\"text-wrap: nowrap; max-width:192px; overflow:auto; text-align:left\">generated_image<br />Python</th></tr></thead>\n",
              "<tbody>\n",
              "<tr><td><div style=\"text-align:left; max-width:192px; max-height:64px; overflow:auto\">https://images.assetsdelivery.com/thumbnails/torsakarin/torsakarin1507/torsakarin150700324.jpg</div></td><td><div style=\"text-align:left; max-width:192px; max-height:64px; overflow:auto\">Photo pour Japanese pagoda and old house in Kyoto at twilight - image libre de droit</div></td><td><div style=\"text-align:left; max-width:192px; max-height:64px; overflow:auto\">6.5262036</div></td><td><div style=\"text-align:left; max-width:192px; max-height:64px; overflow:auto\"><img style=\"max-height:128px;width:auto\" src=\"data:image/png;base64, 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\" alt=\"<Image>\" /></div></td><td><div style=\"text-align:left; max-width:192px; max-height:64px; overflow:auto\"><img style=\"max-height:128px;width:auto\" src=\"data:image/png;base64, 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\" alt=\"<PIL.Image.Image image mode=RGB size=256x256 at 0x79E0981B96F0>\" /></div></td></tr>\n",
              "</tbody>\n",
              "</table>\n",
              "<small>(Showing first 1 rows)</small>\n",
              "</div>"
            ]
          },
          "metadata": {}
        }
      ],
      "source": [
        "import torch\n",
        "from min_dalle import MinDalle\n",
        "\n",
        "\n",
        "@daft.udf(return_dtype=daft.DataType.python())\n",
        "class GenerateImageFromText:\n",
        "    def __init__(self):\n",
        "        self.model = MinDalle(\n",
        "            models_root=\"./pretrained\",\n",
        "            dtype=torch.float32,\n",
        "            # Tell the min-dalle library to load model on GPU or GPU\n",
        "            device=\"cuda\" if USE_GPU else \"cpu\",\n",
        "            is_mega=False,\n",
        "            is_reusable=True,\n",
        "        )\n",
        "\n",
        "    def __call__(self, text_col):\n",
        "        return [\n",
        "            self.model.generate_image(\n",
        "                t,\n",
        "                seed=-1,\n",
        "                grid_size=1,\n",
        "                is_seamless=False,\n",
        "                temperature=1,\n",
        "                top_k=256,\n",
        "                supercondition_factor=32,\n",
        "            )\n",
        "            for t in text_col.to_pylist()\n",
        "        ]\n",
        "\n",
        "\n",
        "if USE_GPU:\n",
        "    GenerateImageFromText = GenerateImageFromText.override_options(num_gpus=1)\n",
        "\n",
        "images_df.with_column(\n",
        "    \"generated_image\",\n",
        "    GenerateImageFromText(images_df[\"TEXT\"]),\n",
        ").show(1)"
      ]
    },
    {
      "cell_type": "code",
      "source": [
        "import torch\n",
        "from min_dalle import MinDalle\n",
        "import daft\n",
        "\n",
        "# Set GPU Usage\n",
        "USE_GPU = torch.cuda.is_available()\n",
        "\n",
        "# Define UDF class\n",
        "@daft.udf(return_dtype=daft.DataType.python())\n",
        "class GenerateImageFromText:\n",
        "    def __init__(self):\n",
        "        self.model = MinDalle(\n",
        "            models_root=\"./pretrained\",\n",
        "            dtype=torch.float32,\n",
        "            # Load model on GPU or CPU based on availability\n",
        "            device=\"cuda\" if USE_GPU else \"cpu\",\n",
        "            is_mega=False,  # Smaller model for quicker execution\n",
        "            is_reusable=True,\n",
        "        )\n",
        "\n",
        "    def __call__(self, text_col):\n",
        "        return [\n",
        "            self.model.generate_image(\n",
        "                text=t,\n",
        "                seed=-1,\n",
        "                grid_size=1,\n",
        "                is_seamless=False,\n",
        "                temperature=1,\n",
        "                top_k=256,\n",
        "                supercondition_factor=32,\n",
        "            )\n",
        "            for t in text_col.to_pylist()\n",
        "        ]\n",
        "\n",
        "\n",
        "# If GPU is available, specify GPU options for the UDF\n",
        "if USE_GPU:\n",
        "    GenerateImageFromText = GenerateImageFromText.override_options(num_gpus=1)\n",
        "\n",
        "# Load images DataFrame (mock example)\n",
        "images_df = daft.from_pydict({\"TEXT\": [\"A Female Patient sitting in hospital\"]})\n",
        "\n",
        "# Generate images and add to the DataFrame\n",
        "generated_df = images_df.with_column(\n",
        "    \"generated_image\",\n",
        "    GenerateImageFromText(images_df[\"TEXT\"]),\n",
        ")\n",
        "\n",
        "# Show a single generated image as proof of concept\n",
        "generated_df.show(1)\n"
      ],
      "metadata": {
        "colab": {
          "base_uri": "https://localhost:8080/",
          "height": 162
        },
        "id": "KxUgxxTdwCKi",
        "outputId": "ad203ad9-5f03-49f8-9833-b75cf411d2fa"
      },
      "id": "KxUgxxTdwCKi",
      "execution_count": null,
      "outputs": [
        {
          "output_type": "display_data",
          "data": {
            "text/plain": [
              "╭────────────────────────────────┬────────────────────────────────╮\n",
              "│ TEXT                           ┆ generated_image                │\n",
              "│ ---                            ┆ ---                            │\n",
              "│ Utf8                           ┆ Python                         │\n",
              "╞════════════════════════════════╪════════════════════════════════╡\n",
              "│ A Female Patient sitting in h… ┆ <PIL.Image.Image image mode=R… │\n",
              "╰────────────────────────────────┴────────────────────────────────╯\n",
              "\n",
              "(Showing first 1 rows)"
            ],
            "text/html": [
              "<div>\n",
              "<table class=\"dataframe\">\n",
              "<thead><tr><th style=\"text-wrap: nowrap; max-width:192px; overflow:auto; text-align:left\">TEXT<br />Utf8</th><th style=\"text-wrap: nowrap; max-width:192px; overflow:auto; text-align:left\">generated_image<br />Python</th></tr></thead>\n",
              "<tbody>\n",
              "<tr><td><div style=\"text-align:left; max-width:192px; max-height:64px; overflow:auto\">A Female Patient sitting in hospital</div></td><td><div style=\"text-align:left; max-width:192px; max-height:64px; overflow:auto\"><img style=\"max-height:128px;width:auto\" src=\"data:image/png;base64, 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\" alt=\"<PIL.Image.Image image mode=RGB size=256x256 at 0x79E0981AFA60>\" /></div></td></tr>\n",
              "</tbody>\n",
              "</table>\n",
              "<small>(Showing first 1 rows)</small>\n",
              "</div>"
            ]
          },
          "metadata": {}
        }
      ]
    },
    {
      "cell_type": "code",
      "execution_count": null,
      "id": "5764ae83-9100-47c7-95d3-4880d9f1fe7c",
      "metadata": {
        "id": "5764ae83-9100-47c7-95d3-4880d9f1fe7c"
      },
      "outputs": [],
      "source": []
    }
  ],
  "metadata": {
    "accelerator": "GPU",
    "colab": {
      "provenance": [],
      "include_colab_link": true
    },
    "kernelspec": {
      "display_name": "Python 3 (ipykernel)",
      "language": "python",
      "name": "python3"
    },
    "language_info": {
      "codemirror_mode": {
        "name": "ipython",
        "version": 3
      },
      "file_extension": ".py",
      "mimetype": "text/x-python",
      "name": "python",
      "nbconvert_exporter": "python",
      "pygments_lexer": "ipython3",
      "version": "3.10.9"
    },
    "vscode": {
      "interpreter": {
        "hash": "e5d77f7bd5a748e4f6412a25f9708ab7af36936de941fc795d1a6b75eb2da082"
      }
    }
  },
  "nbformat": 4,
  "nbformat_minor": 5
}