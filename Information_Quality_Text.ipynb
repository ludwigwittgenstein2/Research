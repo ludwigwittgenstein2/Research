{
  "nbformat": 4,
  "nbformat_minor": 0,
  "metadata": {
    "colab": {
      "provenance": [],
      "include_colab_link": true
    },
    "kernelspec": {
      "name": "python3",
      "display_name": "Python 3"
    },
    "language_info": {
      "name": "python"
    },
    "accelerator": "TPU"
  },
  "cells": [
    {
      "cell_type": "markdown",
      "metadata": {
        "id": "view-in-github",
        "colab_type": "text"
      },
      "source": [
        "<a href=\"https://colab.research.google.com/github/ludwigwittgenstein2/Research/blob/master/Information_Quality_Text.ipynb\" target=\"_parent\"><img src=\"https://colab.research.google.com/assets/colab-badge.svg\" alt=\"Open In Colab\"/></a>"
      ]
    },
    {
      "cell_type": "markdown",
      "source": [
        "#Information Quality of Text\n",
        "\n",
        "Dimensions:\n",
        "\n",
        "1. Relevance\n",
        "2. Consistency\n",
        "3. Accuracy\n",
        "\n"
      ],
      "metadata": {
        "id": "2wWoTcKE-gsF"
      }
    },
    {
      "cell_type": "markdown",
      "source": [
        "#Gpt-2 Text Generator\n"
      ],
      "metadata": {
        "id": "-6voorBx-r7I"
      }
    },
    {
      "cell_type": "code",
      "source": [
        "!pip install -q gpt-2-simple\n",
        "import gpt_2_simple as gpt2\n",
        "from datetime import datetime\n",
        "from google.colab import files\n"
      ],
      "metadata": {
        "id": "deIZHpnJ-tt8",
        "outputId": "158ce0a8-dfae-4019-b438-0ff4209f544b",
        "colab": {
          "base_uri": "https://localhost:8080/"
        }
      },
      "execution_count": 1,
      "outputs": [
        {
          "output_type": "stream",
          "name": "stdout",
          "text": [
            "  Preparing metadata (setup.py) ... \u001b[?25l\u001b[?25hdone\n",
            "  Building wheel for gpt-2-simple (setup.py) ... \u001b[?25l\u001b[?25hdone\n"
          ]
        }
      ]
    },
    {
      "cell_type": "code",
      "source": [
        "!nvidia-smi"
      ],
      "metadata": {
        "colab": {
          "base_uri": "https://localhost:8080/"
        },
        "id": "_y36pAWw-vQH",
        "outputId": "88878529-fbc7-4f28-ec1c-fed38be0b4da"
      },
      "execution_count": 2,
      "outputs": [
        {
          "output_type": "stream",
          "name": "stdout",
          "text": [
            "/bin/bash: line 1: nvidia-smi: command not found\n"
          ]
        }
      ]
    },
    {
      "cell_type": "markdown",
      "source": [
        ">\n",
        "There are three released sizes of GPT-2:\n",
        "\n",
        "124M (default): the \"small\" model, 500MB on disk.\n",
        "\n",
        "355M: the \"medium\" model, 1.5GB on disk.\n",
        "\n",
        "774M: the \"large\" model, cannot currently be finetuned with Colaboratory but can be used to generate text from the pretrained model (see later in Notebook)\n",
        "\n",
        "1558M: the \"extra large\", true model. Will not work if a K80 GPU is attached to the notebook. (like 774M, it cannot be finetuned).\n"
      ],
      "metadata": {
        "id": "rintaMol-4Dt"
      }
    },
    {
      "cell_type": "code",
      "execution_count": 3,
      "metadata": {
        "colab": {
          "base_uri": "https://localhost:8080/"
        },
        "id": "R9CrvpVc-aN4",
        "outputId": "c356bd33-cd22-4ec5-842a-4529f12fd36a"
      },
      "outputs": [
        {
          "output_type": "stream",
          "name": "stderr",
          "text": [
            "Fetching checkpoint: 1.05Mit [00:00, 1.86Git/s]                                                     \n",
            "Fetching encoder.json: 1.05Mit [00:00, 4.03Mit/s]\n",
            "Fetching hparams.json: 1.05Mit [00:00, 2.85Git/s]                                                   \n",
            "Fetching model.ckpt.data-00000-of-00001: 498Mit [00:10, 47.8Mit/s]                                  \n",
            "Fetching model.ckpt.index: 1.05Mit [00:00, 1.08Git/s]                                               \n",
            "Fetching model.ckpt.meta: 1.05Mit [00:00, 5.69Mit/s]\n",
            "Fetching vocab.bpe: 1.05Mit [00:00, 4.91Mit/s]\n"
          ]
        }
      ],
      "source": [
        "gpt2.download_gpt2(model_name=\"124M\")"
      ]
    },
    {
      "cell_type": "code",
      "source": [
        "gpt2.mount_gdrive()"
      ],
      "metadata": {
        "colab": {
          "base_uri": "https://localhost:8080/"
        },
        "id": "Q0fxnmdj_CQC",
        "outputId": "86239e3d-e52e-4b69-8efc-3a0dc270e48c"
      },
      "execution_count": 4,
      "outputs": [
        {
          "output_type": "stream",
          "name": "stdout",
          "text": [
            "Mounted at /content/drive\n"
          ]
        }
      ]
    },
    {
      "cell_type": "code",
      "source": [
        "file_name = \"CleanedDatasetEntire1.txt\""
      ],
      "metadata": {
        "id": "WGlOcknf_EBT"
      },
      "execution_count": 5,
      "outputs": []
    },
    {
      "cell_type": "code",
      "source": [
        "gpt2.copy_file_from_gdrive(file_name)"
      ],
      "metadata": {
        "id": "jk1DXkXC_IsR"
      },
      "execution_count": 6,
      "outputs": []
    },
    {
      "cell_type": "code",
      "source": [
        "import tensorflow as tf\n"
      ],
      "metadata": {
        "id": "wBAdpIMn7J25"
      },
      "execution_count": 7,
      "outputs": []
    },
    {
      "cell_type": "code",
      "source": [],
      "metadata": {
        "id": "f8xO7b8i7e7H",
        "outputId": "56932d0c-c636-4178-e338-82d286b5cff5",
        "colab": {
          "base_uri": "https://localhost:8080/",
          "height": 250
        }
      },
      "execution_count": 25,
      "outputs": [
        {
          "output_type": "error",
          "ename": "AttributeError",
          "evalue": "ignored",
          "traceback": [
            "\u001b[0;31m---------------------------------------------------------------------------\u001b[0m",
            "\u001b[0;31mAttributeError\u001b[0m                            Traceback (most recent call last)",
            "\u001b[0;32m<ipython-input-25-2ae153fb183f>\u001b[0m in \u001b[0;36m<cell line: 1>\u001b[0;34m()\u001b[0m\n\u001b[0;32m----> 1\u001b[0;31m \u001b[0mtf\u001b[0m\u001b[0;34m.\u001b[0m\u001b[0mreset_default_graph\u001b[0m\u001b[0;34m(\u001b[0m\u001b[0;34m)\u001b[0m\u001b[0;34m\u001b[0m\u001b[0;34m\u001b[0m\u001b[0m\n\u001b[0m\u001b[1;32m      2\u001b[0m \u001b[0msess\u001b[0m \u001b[0;34m=\u001b[0m \u001b[0mgpt2\u001b[0m\u001b[0;34m.\u001b[0m\u001b[0mstart_tf_sess\u001b[0m\u001b[0;34m(\u001b[0m\u001b[0;34m)\u001b[0m\u001b[0;34m\u001b[0m\u001b[0;34m\u001b[0m\u001b[0m\n\u001b[1;32m      3\u001b[0m gpt2.finetune(sess,\n\u001b[1;32m      4\u001b[0m           \u001b[0msteps\u001b[0m\u001b[0;34m=\u001b[0m\u001b[0mn\u001b[0m\u001b[0;34m,\u001b[0m\u001b[0;34m\u001b[0m\u001b[0;34m\u001b[0m\u001b[0m\n\u001b[1;32m      5\u001b[0m           \u001b[0mdataset\u001b[0m\u001b[0;34m=\u001b[0m\u001b[0mfile_name\u001b[0m\u001b[0;34m,\u001b[0m\u001b[0;34m\u001b[0m\u001b[0;34m\u001b[0m\u001b[0m\n",
            "\u001b[0;31mAttributeError\u001b[0m: module 'tensorflow' has no attribute 'reset_default_graph'"
          ]
        }
      ]
    },
    {
      "cell_type": "code",
      "source": [
        "sess = gpt2.start_tf_sess()\n",
        "\n",
        "gpt2.finetune(sess,\n",
        "              dataset=file_name,\n",
        "              model_name='124M',\n",
        "              steps=10,\n",
        "              restore_from='fresh',\n",
        "              run_name='run1',\n",
        "              print_every=10,\n",
        "              sample_every=200,\n",
        "              save_every=500,\n",
        "              reuse=None,\n",
        "              )"
      ],
      "metadata": {
        "colab": {
          "base_uri": "https://localhost:8080/"
        },
        "id": "8MejE25A_KJg",
        "outputId": "8e68e714-4d3c-43cf-a19c-f32d990e0e02"
      },
      "execution_count": null,
      "outputs": [
        {
          "output_type": "stream",
          "name": "stdout",
          "text": [
            "Loading checkpoint models/124M/model.ckpt\n",
            "Loading dataset...\n"
          ]
        },
        {
          "output_type": "stream",
          "name": "stderr",
          "text": [
            "100%|██████████| 1/1 [00:00<00:00, 2866.92it/s]\n"
          ]
        },
        {
          "output_type": "stream",
          "name": "stdout",
          "text": [
            "dataset has 17233 tokens\n",
            "Training...\n"
          ]
        }
      ]
    },
    {
      "cell_type": "code",
      "source": [
        "gpt2.copy_checkpoint_to_gdrive(run_name='run1')"
      ],
      "metadata": {
        "id": "3NKKgBjZ_LhQ"
      },
      "execution_count": 10,
      "outputs": []
    },
    {
      "cell_type": "code",
      "source": [],
      "metadata": {
        "id": "wlSMsN8I_M99"
      },
      "execution_count": null,
      "outputs": []
    },
    {
      "cell_type": "code",
      "source": [
        "import tensorflow as tf\n",
        "tf.compat.v1.reset_default_graph()"
      ],
      "metadata": {
        "id": "2vIS-N2N_NBH"
      },
      "execution_count": 11,
      "outputs": []
    },
    {
      "cell_type": "code",
      "source": [
        "sess = gpt2.start_tf_sess()\n",
        "gpt2.load_gpt2(sess, run_name='run1')"
      ],
      "metadata": {
        "colab": {
          "base_uri": "https://localhost:8080/",
          "height": 363
        },
        "id": "0X0QKsWB_PxZ",
        "outputId": "a121da24-8b9f-476b-d29e-828ae3b53ba8"
      },
      "execution_count": 12,
      "outputs": [
        {
          "output_type": "stream",
          "name": "stdout",
          "text": [
            "Loading checkpoint None\n"
          ]
        },
        {
          "output_type": "error",
          "ename": "ValueError",
          "evalue": "ignored",
          "traceback": [
            "\u001b[0;31m---------------------------------------------------------------------------\u001b[0m",
            "\u001b[0;31mValueError\u001b[0m                                Traceback (most recent call last)",
            "\u001b[0;32m<ipython-input-12-42fe8a91f36d>\u001b[0m in \u001b[0;36m<cell line: 2>\u001b[0;34m()\u001b[0m\n\u001b[1;32m      1\u001b[0m \u001b[0msess\u001b[0m \u001b[0;34m=\u001b[0m \u001b[0mgpt2\u001b[0m\u001b[0;34m.\u001b[0m\u001b[0mstart_tf_sess\u001b[0m\u001b[0;34m(\u001b[0m\u001b[0;34m)\u001b[0m\u001b[0;34m\u001b[0m\u001b[0;34m\u001b[0m\u001b[0m\n\u001b[0;32m----> 2\u001b[0;31m \u001b[0mgpt2\u001b[0m\u001b[0;34m.\u001b[0m\u001b[0mload_gpt2\u001b[0m\u001b[0;34m(\u001b[0m\u001b[0msess\u001b[0m\u001b[0;34m,\u001b[0m \u001b[0mrun_name\u001b[0m\u001b[0;34m=\u001b[0m\u001b[0;34m'run1'\u001b[0m\u001b[0;34m)\u001b[0m\u001b[0;34m\u001b[0m\u001b[0;34m\u001b[0m\u001b[0m\n\u001b[0m",
            "\u001b[0;32m/usr/local/lib/python3.10/dist-packages/gpt_2_simple/gpt_2.py\u001b[0m in \u001b[0;36mload_gpt2\u001b[0;34m(sess, checkpoint, run_name, checkpoint_dir, model_name, model_dir, multi_gpu, reuse)\u001b[0m\n\u001b[1;32m    406\u001b[0m     \u001b[0;32melse\u001b[0m\u001b[0;34m:\u001b[0m\u001b[0;34m\u001b[0m\u001b[0;34m\u001b[0m\u001b[0m\n\u001b[1;32m    407\u001b[0m         \u001b[0mprint\u001b[0m\u001b[0;34m(\u001b[0m\u001b[0;34m'Loading checkpoint'\u001b[0m\u001b[0;34m,\u001b[0m \u001b[0mckpt\u001b[0m\u001b[0;34m)\u001b[0m\u001b[0;34m\u001b[0m\u001b[0;34m\u001b[0m\u001b[0m\n\u001b[0;32m--> 408\u001b[0;31m     \u001b[0msaver\u001b[0m\u001b[0;34m.\u001b[0m\u001b[0mrestore\u001b[0m\u001b[0;34m(\u001b[0m\u001b[0msess\u001b[0m\u001b[0;34m,\u001b[0m \u001b[0mckpt\u001b[0m\u001b[0;34m)\u001b[0m\u001b[0;34m\u001b[0m\u001b[0;34m\u001b[0m\u001b[0m\n\u001b[0m\u001b[1;32m    409\u001b[0m \u001b[0;34m\u001b[0m\u001b[0m\n\u001b[1;32m    410\u001b[0m \u001b[0;34m\u001b[0m\u001b[0m\n",
            "\u001b[0;32m/usr/local/lib/python3.10/dist-packages/tensorflow/python/training/saver.py\u001b[0m in \u001b[0;36mrestore\u001b[0;34m(self, sess, save_path)\u001b[0m\n\u001b[1;32m   1404\u001b[0m       \u001b[0;32mreturn\u001b[0m\u001b[0;34m\u001b[0m\u001b[0;34m\u001b[0m\u001b[0m\n\u001b[1;32m   1405\u001b[0m     \u001b[0;32mif\u001b[0m \u001b[0msave_path\u001b[0m \u001b[0;32mis\u001b[0m \u001b[0;32mNone\u001b[0m\u001b[0;34m:\u001b[0m\u001b[0;34m\u001b[0m\u001b[0;34m\u001b[0m\u001b[0m\n\u001b[0;32m-> 1406\u001b[0;31m       \u001b[0;32mraise\u001b[0m \u001b[0mValueError\u001b[0m\u001b[0;34m(\u001b[0m\u001b[0;34m\"Can't load save_path when it is None.\"\u001b[0m\u001b[0;34m)\u001b[0m\u001b[0;34m\u001b[0m\u001b[0;34m\u001b[0m\u001b[0m\n\u001b[0m\u001b[1;32m   1407\u001b[0m \u001b[0;34m\u001b[0m\u001b[0m\n\u001b[1;32m   1408\u001b[0m     \u001b[0mcheckpoint_prefix\u001b[0m \u001b[0;34m=\u001b[0m \u001b[0mcompat\u001b[0m\u001b[0;34m.\u001b[0m\u001b[0mas_text\u001b[0m\u001b[0;34m(\u001b[0m\u001b[0msave_path\u001b[0m\u001b[0;34m)\u001b[0m\u001b[0;34m\u001b[0m\u001b[0;34m\u001b[0m\u001b[0m\n",
            "\u001b[0;31mValueError\u001b[0m: Can't load save_path when it is None."
          ]
        }
      ]
    },
    {
      "cell_type": "code",
      "source": [
        "gpt2.generate(sess, run_name='run1')"
      ],
      "metadata": {
        "colab": {
          "base_uri": "https://localhost:8080/"
        },
        "id": "W2LkUKXF_RBF",
        "outputId": "6c7243c1-b9cc-4ff7-d6c0-e5090d342b26"
      },
      "execution_count": null,
      "outputs": [
        {
          "output_type": "stream",
          "name": "stdout",
          "text": [
            "Yes, the crime scene is open as of 9:30 p.m. CT.\n",
            "\n",
            "Anyone with information regarding the crime is asked to contact Detective Brian Tucker at (408) 226-3871.\n",
            "\n",
            "The investigation remains ongoing.\n",
            "\n",
            "Contact:\n",
            "\n",
            "Rotham Miller\n",
            "\n",
            "community@games.com\n",
            "\n",
            "(408) 863-8070\n",
            "\n",
            "ajohnson@games.com<|endoftext|>The new Jurassic Park series is set for release on June 5, 2015, Disney said today.\n",
            "\n",
            "The series was created by Fox, Disney's studio behind the animated series.\n",
            "\n",
            "The series, which will premiere on January 12, 2015, is set to premiere on Disney XD starting June 5.\n",
            "\n",
            "\"Enjoy the action as Duke and Duke Rees face off against legendary foes in the first installment of the franchise,\" said Disney on its website. \"With the complete series, we're setting up a strong foundation for an epic story that will help shape the future of Disney's beloved franchises.\"\n",
            "\n",
            "The series will also premiere on Disney XD starting June 5, 2015.\n",
            "\n",
            "\"A new brand-new story about a mysterious character who learns about the world outside the park,\" said Fox. \"This new series explores the history of the park and will be a fresh take on the series.\"\n",
            "\n",
            "\"We're thrilled to bring Jurassic Park to Disney XD with a sequel,\" said Fox. \"Just as we love to see the park evolve, so too will we. The fans will love the new series and we're excited to bring it to their hearts.\"\n",
            "\n",
            "\"Jurassic World\" will premiere on Disney XD beginning March 6, 2015, and will premiere on Disney XD beginning June 12, 2015,\" ABC said. \"It's a big deal for fans, and we look forward to working with fans on exciting new stories.\"\n",
            "\n",
            "The first installment of the franchise will open in theaters on June 5, 2015.\n",
            "\n",
            "\"We're excited to bring Jurassic Park to Walt Disney Studios,\" said Amie Parnell, co-president and general manager of Disney XD. \"Through the best experiences, we're bringing together fans of all ages and backgrounds with stories from the park's past and present to create a story that will tell the story of the park and its future.\"\n",
            "\n",
            "\"The two-part series is set to premiere in theaters at 7 p.m. ET on March 6, 2015,\" said Disney on its website. \"It's a big deal for fans, and we look forward to working with fans on exciting new stories.\"\n",
            "\n",
            "\"Now, it's time for us to come together as one,\" said Jeanine O'Hara, senior vice president and general manager of content for Disney XD. \"We want to bring these two great stories together to create a bold new story that will show the world that we're all cool with each other.\"\n",
            "\n",
            "\"It's too early to tell what the future holds,\" said Mark Ruffalo, president and CEO of Disney XD. \"We're just beginning to get the details right.\"\n",
            "\n",
            "\"Jurassic 3\" will premiere on Disney XD starting April 16, 2015, and will premiere on Disney XD beginning March 6, 2015,\" ABC said. \"It's a big deal for fans, and we look forward to working with fans on exciting new stories.\"\n",
            "\n",
            "\"The first installment of the franchise will open in theaters on July 4, 2015,\" said Tegan Gage, executive producer of \"The Amazing Spider-Man 2,\" on Disney XD. \"It's a big deal for fans, and we look forward to working with fans on exciting new stories.\"\n",
            "\n",
            "\"We've taken a lot of steps to make this a successful franchise,\" said Laura Dern, senior vice president of content at Walt Disney Studios. \"We've worked hard to make sure that the story is a hit, and we're excited to see what happens on the big screen.\"\n",
            "\n",
            "\"We're excited to bring the first installment of the franchise to Disney XD,\" said Benito Floro, director of \"The Amazing Spider-Man 2,\" on Disney XD. \"It's a big deal for fans, and we look forward to working with fans on exciting new stories.\"\n",
            "\n",
            "\"We're excited to bring the first installment of the franchise to Disney XD,\" said Evan Goldberg, executive producer of \"The Amazing Spider-Man 2,\" on Disney XD. \"It's a big deal for fans, and we look forward to working with fans on exciting new stories.\"\n",
            "\n",
            "\"We're excited to bring the first installment of the franchise to Disney XD,\" said Mike Deodato, executive producer of \"The Amazing Spider-Man: Homecoming,\" on Disney XD. \"It's a big deal for fans, and we look forward to working with fans on exciting new stories.\"\n",
            "\n",
            "\"We're excited to bring the first installment of the franchise to Disney XD,\" said Arndt Cunha, senior producer and senior producer on \"The Amazing Spider\n"
          ]
        }
      ]
    },
    {
      "cell_type": "code",
      "source": [
        "gpt2.generate(sess,\n",
        "              length=250,\n",
        "              temperature=0.7,\n",
        "              prefix=\"LORD\",\n",
        "              nsamples=5,\n",
        "              batch_size=5\n",
        "              )"
      ],
      "metadata": {
        "id": "6faxcNPt_Scv"
      },
      "execution_count": null,
      "outputs": []
    },
    {
      "cell_type": "code",
      "source": [
        "gen_file = 'gpt2_gentext_{:%Y%m%d_%H%M%S}.txt'.format(datetime.utcnow())\n",
        "\n",
        "gpt2.generate_to_file(sess,\n",
        "                      destination_path=gen_file,\n",
        "                      length=500,\n",
        "                      temperature=0.7,\n",
        "                      nsamples=100,\n",
        "                      batch_size=20\n",
        "                      )"
      ],
      "metadata": {
        "id": "SXqUNVEQ_Ue9"
      },
      "execution_count": null,
      "outputs": []
    },
    {
      "cell_type": "code",
      "source": [
        "single_text = gpt2.generate(sess, return_as_list=True)\n",
        "print((single_text))"
      ],
      "metadata": {
        "colab": {
          "base_uri": "https://localhost:8080/"
        },
        "id": "GWIC7Myq_V2_",
        "outputId": "c8f7b659-854e-4411-96bf-62380eb09fe2"
      },
      "execution_count": null,
      "outputs": [
        {
          "output_type": "stream",
          "name": "stdout",
          "text": [
            "['A former home secretary who fled London for Syria pleaded guilty to conspiring to supply arms and intelligence to Islamic State extremists in 2013.\\n\\nNatalie Geller, 54, was convicted of aiding and abetting an offence under the Terrorism Act 2003 in exchange for providing weapons and intelligence to the Islamic State in Iraq and the Levant (ISIL) in eastern Syria, according to the London crown corporation.\\n\\nGeller was arrested on 9 March 2015 when he fled Syria to Turkey after his home in Essex was raided. Bail was set at £20,000.\\n\\nHe was reported to have been working as a consultant on terrorism issues at the time of his arrest.\\n\\nGeller was charged with conspiracy to supply arms and intelligence to ISIL and encouraging ISIS to carry out attacks in the UK.\\n\\nHe was sentenced to five years\\' concurrent community action for assisting a terrorist organisation and six months\\' concurrent community action for conspiring to supply arms and intelligence to ISIL.\\n\\nThe Crown Prosecution Service (CPS) told the court he was not charged with terrorism because he carried out \"significant activities\" in Syria before his arrest.\\n\\n\"He was working as a consultant on terrorism issues at the time of his arrest,\" CPS said, adding that Geller was believed to have been \"working closely with the bureau of intelligence\" on ISIL.\\n\\n\"The Crown Prosecution Service (CPS) has been concerned about his involvement in ISIL activities for some time and has been providing him with support services,\" it added.\\n\\nThe CPS added that Geller was charged with providing material support to a terrorist organisation, providing material support to an ISIL terrorist organization, or assisting the commission of an offence under the Terrorism Act 2003\".\\n\\nGeller\\'s alleged involvement in terrorist activities was investigated by the CPS following his arrest in November 2013.\\n\\nThe CPS said Geller had been \"at large\" in Syria since December 2014, when he worked as a consultant on terrorism issues at the CIP.\\n\\nThe CPS said Geller continued to work as a consultant on terrorism issues at the CIP until his arrest on 9 September 2015.\\n\\nIn August 2016, he was arrested in Brussels on suspicion of supplying weapons to ISIL in Syria. He was further arrested in March 2017 on suspicion of aiding and abetting an offence under the Terrorism Act 2003.\\n\\nIn April 2017, Geller was arrested in London on suspicion of providing material support to an ISIL terrorist organisation.\\n\\nIn February 2018, the CPS said Geller had been employed by a company investigating ISIL activity in Syria, but no further information was available to the CPS.\\n\\nThe CPS said in May 2018 Geller was arrested on suspicion of assisting a terrorist organisation and was subsequently charged with conspiring to provide material support to a terrorist organisation, providing material support to an ISIL terrorist organization or assisting an ISIL terrorist organization.\\n\\nIn March 2018, the CPS described Geller as working as a consultant for an ISIL terrorist group in Syria.\\n\\nGeller was also charged with conspiring to supply material support to an ISIL terrorist organisation and aiding and abetting an offence under the Terrorism Act 2003.\\n\\nIn October 2018, Geller was arrested in Damascus on suspicion of supplying material support to an ISIL terrorist organisation.\\n\\nIn July 2018, he was arrested in Damascus on suspicion of supplying material support to an ISIL terrorist organisation and assisting and abetting an offence under the Terrorism Act 2003.\\n\\nIn October 2018, Geller was arrested in Damascus on suspicion of assisting a terrorist organisation and providing material support to an ISIL terrorist organisation.\\n\\nGeller was found guilty of supplying material support to an ISIL terrorist organisation and assisting and abetting an offence under the Terrorism Act 2003.\\n\\nGeller was also charged with aiding and abetting an offence under the Act with respect to individuals who were \"committing terrorist acts\" in Syria.\\n\\nThe CPS said his alleged dealings with his former employer were \"part of his ongoing work\" for ISIL and \"he was also involved in the establishment of a foreign terrorist organisation\".\\n\\n\"He worked as a consultant on terrorism issues at the CIP until his arrest on 9 September 2015,\" it added.\\n\\n\"The CPS believes he was involved in the establishment of a foreign terrorist organisation.\"<|endoftext|>In the past few years, psychologists have noted that depressive symptoms are often associated with comorbid mental illness, or with a sense of basic emotional and social needs. A recent study conducted in the United States found that depressed state participants reported more depression than normal participants, but were also more likely to have a history of substance abuse. A recent study conducted in Thailand found that individual differences in depressive symptoms are even stronger among those who report the disturbance of their state, with some 50 percent reporting higher depressive symptoms, while others report higher psychological problems.\\n\\nSeveral researchers have suggested that the relationship between depressive symptoms and mental health is mediated by factors that']\n"
          ]
        }
      ]
    },
    {
      "cell_type": "code",
      "source": [
        "import csv\n",
        "\n",
        "with open('single_text.txt', 'w') as f:\n",
        "\t# using csv.writer method from CSV package\n",
        "\twrite = csv.writer(f)\n",
        "\twrite.writerow(single_text)\n",
        "\n"
      ],
      "metadata": {
        "id": "aC7N4MoZAvXu"
      },
      "execution_count": null,
      "outputs": []
    },
    {
      "cell_type": "code",
      "source": [],
      "metadata": {
        "colab": {
          "base_uri": "https://localhost:8080/"
        },
        "id": "bDpaqfbDDMAJ",
        "outputId": "dbed52f7-ba58-4d4f-ee71-10d7b755b0fb"
      },
      "execution_count": null,
      "outputs": [
        {
          "output_type": "stream",
          "name": "stdout",
          "text": [
            "\n"
          ]
        }
      ]
    },
    {
      "cell_type": "code",
      "source": [
        "import csv\n",
        "\n",
        "# Open a CSV file for writing and write the text to it\n",
        "with open('data.csv', 'w', newline='') as file:\n",
        "    writer = csv.writer(file)\n",
        "    writer.writerow(single_text)\n",
        "\n",
        "print(\"Data exported to data.csv successfully!\")\n"
      ],
      "metadata": {
        "colab": {
          "base_uri": "https://localhost:8080/"
        },
        "id": "BTrFwAUEAv87",
        "outputId": "d7cd7db0-b2c2-4a17-bc87-809c3b5c3dff"
      },
      "execution_count": null,
      "outputs": [
        {
          "output_type": "stream",
          "name": "stdout",
          "text": [
            "Data exported to data.csv successfully!\n"
          ]
        }
      ]
    },
    {
      "cell_type": "code",
      "source": [],
      "metadata": {
        "id": "PqcwF4qFAy1j"
      },
      "execution_count": null,
      "outputs": []
    },
    {
      "cell_type": "markdown",
      "source": [
        "#Evaluate Quality of Text:\n"
      ],
      "metadata": {
        "id": "gXYfluAiBlU2"
      }
    },
    {
      "cell_type": "markdown",
      "source": [
        "KL-Divergence"
      ],
      "metadata": {
        "id": "yScjUjn8MWd-"
      }
    },
    {
      "cell_type": "code",
      "source": [
        "import csv\n",
        "import numpy as np\n",
        "import seaborn as sns\n",
        "from scipy.stats import entropy\n",
        "from sklearn.feature_extraction.text import CountVectorizer\n",
        "import matplotlib.pyplot as plt\n",
        "\n",
        "# Read the data from the first CSV file\n",
        "with open('/content/CleanedDatasetEntire1.txt', 'r') as file1:\n",
        "    reader1 = csv.reader(file1)\n",
        "    data1 = [row[0] for row in reader1]\n",
        "\n",
        "# Read the data from the second CSV file\n",
        "with open('/content/Cleaned_Simple_50.txt', 'r') as file2:\n",
        "    reader2 = csv.reader(file2)\n",
        "    data2 = [row[0] for row in reader2]\n",
        "\n",
        "# Convert the strings into a vector representation\n",
        "vectorizer = CountVectorizer()\n",
        "data1_vector = vectorizer.fit_transform(data1)\n",
        "data2_vector = vectorizer.transform(data2)\n",
        "\n",
        "# Convert the vector representation into a numpy array\n",
        "data1_array = data1_vector.toarray().sum(axis=0)\n",
        "data2_array = data2_vector.toarray().sum(axis=0)\n",
        "\n",
        "# Normalize the arrays\n",
        "data1_array = data1_array / data1_array.sum()\n",
        "data2_array = data2_array / data2_array.sum()\n",
        "\n",
        "# Add a small constant to all elements\n",
        "data1_array = data1_array + 1e-10\n",
        "data2_array = data2_array + 1e-10\n",
        "\n",
        "# Normalize the arrays again\n",
        "data1_array = data1_array / data1_array.sum()\n",
        "data2_array = data2_array / data2_array.sum()\n",
        "\n",
        "# Calculate the KL divergence between the two arrays\n",
        "kl_divergence = entropy(data1_array, data2_array)\n",
        "\n",
        "print(\"The KL divergence between the two arrays is:\", kl_divergence)\n",
        "\n",
        "# Plot the arrays using seaborn\n",
        "sns.distplot(data1_array, hist=False, label='GPT-2 generated')\n",
        "sns.distplot(data2_array, hist=False, label='US-Census Entire Dataset')\n",
        "plt.xlabel('Value')\n",
        "plt.ylabel('Probability')\n",
        "plt.title('Distributions of Synthetic  dataset and Original Name Address Dataset')\n",
        "plt.legend()\n",
        "plt.show()\n"
      ],
      "metadata": {
        "colab": {
          "base_uri": "https://localhost:8080/",
          "height": 883
        },
        "id": "V_ncG1amMY2l",
        "outputId": "a26460b7-96f1-4da6-90d9-cadfca16c614"
      },
      "execution_count": null,
      "outputs": [
        {
          "output_type": "stream",
          "name": "stdout",
          "text": [
            "The KL divergence between the two arrays is: 10.307499597944872\n"
          ]
        },
        {
          "output_type": "stream",
          "name": "stderr",
          "text": [
            "<ipython-input-78-f0cc50c9c2e6>:45: UserWarning: \n",
            "\n",
            "`distplot` is a deprecated function and will be removed in seaborn v0.14.0.\n",
            "\n",
            "Please adapt your code to use either `displot` (a figure-level function with\n",
            "similar flexibility) or `kdeplot` (an axes-level function for kernel density plots).\n",
            "\n",
            "For a guide to updating your code to use the new functions, please see\n",
            "https://gist.github.com/mwaskom/de44147ed2974457ad6372750bbe5751\n",
            "\n",
            "  sns.distplot(data1_array, hist=False, label='GPT-2 generated')\n",
            "<ipython-input-78-f0cc50c9c2e6>:46: UserWarning: \n",
            "\n",
            "`distplot` is a deprecated function and will be removed in seaborn v0.14.0.\n",
            "\n",
            "Please adapt your code to use either `displot` (a figure-level function with\n",
            "similar flexibility) or `kdeplot` (an axes-level function for kernel density plots).\n",
            "\n",
            "For a guide to updating your code to use the new functions, please see\n",
            "https://gist.github.com/mwaskom/de44147ed2974457ad6372750bbe5751\n",
            "\n",
            "  sns.distplot(data2_array, hist=False, label='US-Census Entire Dataset')\n"
          ]
        },
        {
          "output_type": "display_data",
          "data": {
            "text/plain": [
              "<Figure size 640x480 with 1 Axes>"
            ],
            "image/png": "[encoded data removed]"
          },
          "metadata": {}
        }
      ]
    },
    {
      "cell_type": "markdown",
      "source": [],
      "metadata": {
        "id": "4zbzPzKFk_63"
      }
    },
    {
      "cell_type": "markdown",
      "source": [],
      "metadata": {
        "id": "S7ApLvC4k__n"
      }
    },
    {
      "cell_type": "markdown",
      "source": [],
      "metadata": {
        "id": "Wz5niGL3OIzd"
      }
    },
    {
      "cell_type": "markdown",
      "source": [
        "#Cosine"
      ],
      "metadata": {
        "id": "MIcuE2VXMhGL"
      }
    },
    {
      "cell_type": "code",
      "source": [
        "import math\n",
        "import string\n",
        "from collections import Counter\n",
        "\n",
        "def read_file(file_name):\n",
        "    with open(file_name, 'r') as file:\n",
        "        return file.read()\n",
        "\n",
        "def clean_text(text):\n",
        "    text = text.lower()\n",
        "    text = text.translate(str.maketrans('', '', string.punctuation))\n",
        "    return text\n",
        "\n",
        "def get_cosine_similarity(text1, text2):\n",
        "    text1 = clean_text(text1)\n",
        "    text2 = clean_text(text2)\n",
        "\n",
        "    words1 = text1.split()\n",
        "    words2 = text2.split()\n",
        "\n",
        "    word_counts1 = Counter(words1)\n",
        "    word_counts2 = Counter(words2)\n",
        "\n",
        "    common_words = set(word_counts1.keys()) & set(word_counts2.keys())\n",
        "\n",
        "    dot_product = sum(word_counts1[word] * word_counts2[word] for word in common_words)\n",
        "    magnitude1 = math.sqrt(sum(word_counts1[word] ** 2 for word in word_counts1.keys()))\n",
        "    magnitude2 = math.sqrt(sum(word_counts2[word] ** 2 for word in word_counts2.keys()))\n",
        "\n",
        "    return dot_product / (magnitude1 * magnitude2)\n",
        "\n",
        "text1 = read_file('CleanedDatasetEntire1.txt')\n",
        "text2 = read_file('single_text.txt')\n",
        "\n",
        "cosine_similarity = get_cosine_similarity(text1, text2)\n",
        "\n",
        "print('Cosine Similarity between Synthetic dataset and original dataset:', cosine_similarity)\n"
      ],
      "metadata": {
        "colab": {
          "base_uri": "https://localhost:8080/"
        },
        "id": "e2_0TsIzBnWy",
        "outputId": "dac79c90-942e-4227-8043-ea067b91aee3"
      },
      "execution_count": null,
      "outputs": [
        {
          "output_type": "stream",
          "name": "stdout",
          "text": [
            "Cosine Similarity between Synthetic dataset and original dataset: 0.002624086948803878\n"
          ]
        }
      ]
    },
    {
      "cell_type": "markdown",
      "source": [
        "#Levenshtein Distance"
      ],
      "metadata": {
        "id": "0AEw5x5GOZtu"
      }
    },
    {
      "cell_type": "code",
      "source": [
        "!pip install python-Levenshtein\n"
      ],
      "metadata": {
        "colab": {
          "base_uri": "https://localhost:8080/"
        },
        "id": "LLKya2y8OJ3u",
        "outputId": "af580ebc-61ef-4757-dc15-49658550ad7c"
      },
      "execution_count": null,
      "outputs": [
        {
          "output_type": "stream",
          "name": "stdout",
          "text": [
            "Collecting python-Levenshtein\n",
            "  Downloading python_Levenshtein-0.23.0-py3-none-any.whl (9.4 kB)\n",
            "Collecting Levenshtein==0.23.0 (from python-Levenshtein)\n",
            "  Downloading Levenshtein-0.23.0-cp310-cp310-manylinux_2_17_x86_64.manylinux2014_x86_64.whl (169 kB)\n",
            "\u001b[2K     \u001b[90m━━━━━━━━━━━━━━━━━━━━━━━━━━━━━━━━━━━━━━━━\u001b[0m \u001b[32m169.4/169.4 kB\u001b[0m \u001b[31m2.7 MB/s\u001b[0m eta \u001b[36m0:00:00\u001b[0m\n",
            "\u001b[?25hCollecting rapidfuzz<4.0.0,>=3.1.0 (from Levenshtein==0.23.0->python-Levenshtein)\n",
            "  Downloading rapidfuzz-3.4.0-cp310-cp310-manylinux_2_17_x86_64.manylinux2014_x86_64.whl (3.2 MB)\n",
            "\u001b[2K     \u001b[90m━━━━━━━━━━━━━━━━━━━━━━━━━━━━━━━━━━━━━━━━\u001b[0m \u001b[32m3.2/3.2 MB\u001b[0m \u001b[31m12.2 MB/s\u001b[0m eta \u001b[36m0:00:00\u001b[0m\n",
            "\u001b[?25hInstalling collected packages: rapidfuzz, Levenshtein, python-Levenshtein\n",
            "Successfully installed Levenshtein-0.23.0 python-Levenshtein-0.23.0 rapidfuzz-3.4.0\n"
          ]
        }
      ]
    },
    {
      "cell_type": "code",
      "source": [
        "import Levenshtein\n",
        "\n",
        "# Function to read the contents of a text file\n",
        "def read_file(filename):\n",
        "    with open(filename, 'r', encoding='utf-8') as file:\n",
        "        return file.read()\n",
        "\n",
        "# Read the contents of the two files\n",
        "file1_contents = read_file('CleanedDatasetEntire1.txt')\n",
        "file2_contents = read_file('single_text.txt')\n",
        "\n",
        "# Calculate the Levenshtein distance\n",
        "distance = Levenshtein.distance(file1_contents, file2_contents)\n",
        "\n",
        "# Print the result\n",
        "print(f\"Levenshtein distance between the two files: {distance}\")"
      ],
      "metadata": {
        "colab": {
          "base_uri": "https://localhost:8080/"
        },
        "id": "PHZfrS9wOLA1",
        "outputId": "c1a23b2e-4128-4055-9dd4-26fc806d7750"
      },
      "execution_count": null,
      "outputs": [
        {
          "output_type": "stream",
          "name": "stdout",
          "text": [
            "Levenshtein distance between the two files: 35597\n"
          ]
        }
      ]
    },
    {
      "cell_type": "markdown",
      "source": [
        "#Kolmogorov-Smirnov"
      ],
      "metadata": {
        "id": "-bsxdKVmOwCp"
      }
    },
    {
      "cell_type": "markdown",
      "source": [],
      "metadata": {
        "id": "kBnm0sHhOcoM"
      }
    },
    {
      "cell_type": "code",
      "source": [
        "from scipy.stats import ks_2samp\n",
        "\n",
        "# Function to read the contents of a text file and calculate the word lengths\n",
        "def calculate_word_lengths(filename):\n",
        "    with open(filename, 'r', encoding='utf-8') as file:\n",
        "        text = file.read()\n",
        "        # Split the text into words and calculate word lengths\n",
        "        word_lengths = [len(word) for word in text.split()]\n",
        "        return word_lengths\n",
        "\n",
        "# Read the contents of the two files and calculate word lengths\n",
        "word_lengths1 = calculate_word_lengths('CleanedDatasetEntire1.txt')\n",
        "word_lengths2 = calculate_word_lengths('single_text.txt')\n",
        "\n",
        "# Perform the Kolmogorov-Smirnov test\n",
        "ks_statistic, p_value = ks_2samp(word_lengths1, word_lengths2)\n",
        "\n",
        "# Print the result\n",
        "print(f\"KS Statistic: {ks_statistic}\")\n",
        "print(f\"P-Value: {p_value}\")\n",
        "\n",
        "# Determine the result based on the p-value\n",
        "if p_value < 0.05:\n",
        "    print(\"The distributions are significantly different.\")\n",
        "else:\n",
        "    print(\"The distributions are not significantly different.\")\n"
      ],
      "metadata": {
        "colab": {
          "base_uri": "https://localhost:8080/"
        },
        "id": "cv-0XgJ3M4-D",
        "outputId": "b489fdd9-ecb4-47e6-83d9-2b48f77a1aca"
      },
      "execution_count": null,
      "outputs": [
        {
          "output_type": "stream",
          "name": "stdout",
          "text": [
            "KS Statistic: 0.19654557741506168\n",
            "P-Value: 2.478757928736684e-25\n",
            "The distributions are significantly different.\n"
          ]
        }
      ]
    },
    {
      "cell_type": "markdown",
      "source": [
        "#Pearson Correlation"
      ],
      "metadata": {
        "id": "v5IKHXQBPI3v"
      }
    },
    {
      "cell_type": "code",
      "source": [
        "import collections\n",
        "import math\n",
        "\n",
        "# Function to read the contents of a text file and calculate word frequencies\n",
        "def calculate_word_frequencies(filename):\n",
        "    with open(filename, 'r', encoding='utf-8') as file:\n",
        "        text = file.read()\n",
        "        words = text.split()\n",
        "        word_counts = collections.Counter(words)\n",
        "        return word_counts\n",
        "\n",
        "# Read the contents of the two files and calculate word frequencies\n",
        "word_frequencies1 = calculate_word_frequencies('CleanedDatasetEntire1.txt')\n",
        "word_frequencies2 = calculate_word_frequencies('single_text.txt')\n",
        "\n",
        "# Create sets of unique words from both texts\n",
        "unique_words = set(word_frequencies1.keys()).union(word_frequencies2.keys())\n",
        "\n",
        "# Convert word frequencies to a common format, considering words that may be missing\n",
        "word_counts1 = [word_frequencies1[word] if word in word_frequencies1 else 0 for word in unique_words]\n",
        "word_counts2 = [word_frequencies2[word] if word in word_frequencies2 else 0 for word in unique_words]\n",
        "\n",
        "# Calculate the Pearson correlation\n",
        "def pearson_correlation(x, y):\n",
        "    n = len(x)\n",
        "    sum_x = sum(x)\n",
        "    sum_y = sum(y)\n",
        "    sum_x_squared = sum(xi ** 2 for xi in x)\n",
        "    sum_y_squared = sum(yi ** 2 for yi in y)\n",
        "    product_sum = sum(xi * yi for xi, yi in zip(x, y))\n",
        "    numerator = product_sum - (sum_x * sum_y / n)\n",
        "    denominator = math.sqrt((sum_x_squared - (sum_x ** 2 / n)) * (sum_y_squared - (sum_y ** 2 / n)))\n",
        "    if denominator == 0:\n",
        "        return 0  # To handle the case where the denominator is zero\n",
        "    else:\n",
        "        return numerator / denominator\n",
        "\n",
        "correlation = pearson_correlation(word_counts1, word_counts2)\n",
        "\n",
        "# Print the Pearson correlation coefficient\n",
        "print(f\"Pearson Correlation: {correlation}\")\n"
      ],
      "metadata": {
        "colab": {
          "base_uri": "https://localhost:8080/"
        },
        "id": "TU4MBfC4O0pK",
        "outputId": "378a94b3-3a57-49d4-ac48-53cae4210c5c"
      },
      "execution_count": null,
      "outputs": [
        {
          "output_type": "stream",
          "name": "stdout",
          "text": [
            "Pearson Correlation: -0.02636892178042349\n"
          ]
        }
      ]
    },
    {
      "cell_type": "markdown",
      "source": [
        "#Jaccard Distance"
      ],
      "metadata": {
        "id": "WgxvkGlZPNAk"
      }
    },
    {
      "cell_type": "code",
      "source": [
        "# Function to read the contents of a text file and tokenize it\n",
        "def tokenize_text(filename):\n",
        "    with open(filename, 'r', encoding='utf-8') as file:\n",
        "        text = file.read()\n",
        "        # Tokenize the text by splitting it into words (you can use more advanced tokenization methods if needed)\n",
        "        tokens = set(text.split())\n",
        "        return tokens\n",
        "\n",
        "# Read the contents of the two files and tokenize them\n",
        "tokens1 = tokenize_text('CleanedDatasetEntire1.txt')\n",
        "tokens2 = tokenize_text('single_text.txt')\n",
        "\n",
        "# Calculate the Jaccard similarity\n",
        "intersection = len(tokens1.intersection(tokens2))\n",
        "union = len(tokens1.union(tokens2))\n",
        "\n",
        "jaccard_similarity = intersection / union\n",
        "\n",
        "# Print the Jaccard similarity\n",
        "print(f\"Jaccard Similarity: {jaccard_similarity:.2f}\")\n"
      ],
      "metadata": {
        "colab": {
          "base_uri": "https://localhost:8080/"
        },
        "id": "bBnWUE3sPWk2",
        "outputId": "8e51a531-9ca4-4862-9998-f5f63ee9807d"
      },
      "execution_count": null,
      "outputs": [
        {
          "output_type": "stream",
          "name": "stdout",
          "text": [
            "Jaccard Similarity: 0.00\n"
          ]
        }
      ]
    },
    {
      "cell_type": "markdown",
      "source": [
        "# Jaccard Similiarity"
      ],
      "metadata": {
        "id": "z_L5DazBPrKz"
      }
    },
    {
      "cell_type": "code",
      "source": [
        "# Function to read the contents of a text file and tokenize it\n",
        "def tokenize_text(filename):\n",
        "    with open(filename, 'r', encoding='utf-8') as file:\n",
        "        text = file.read()\n",
        "        # Tokenize the text by splitting it into words (you can use more advanced tokenization methods if needed)\n",
        "        tokens = set(text.split())\n",
        "        return tokens\n",
        "\n",
        "# Read the contents of the two files and tokenize them\n",
        "tokens1 = tokenize_text('CleanedDatasetEntire1.txt')\n",
        "tokens2 = tokenize_text('single_text.txt')\n",
        "\n",
        "# Calculate the Jaccard distance\n",
        "intersection = len(tokens1.intersection(tokens2))\n",
        "union = len(tokens1.union(tokens2))\n",
        "\n",
        "jaccard_similarity = intersection / union\n",
        "jaccard_distance = 1 - jaccard_similarity\n",
        "\n",
        "# Print the Jaccard distance\n",
        "print(f\"Jaccard Distance: {jaccard_distance:.2f}\")\n"
      ],
      "metadata": {
        "colab": {
          "base_uri": "https://localhost:8080/"
        },
        "id": "fpWYGfURPhW5",
        "outputId": "b4aa53c0-e90f-4fa1-8f06-9995d5b37509"
      },
      "execution_count": null,
      "outputs": [
        {
          "output_type": "stream",
          "name": "stdout",
          "text": [
            "Jaccard Distance: 1.00\n"
          ]
        }
      ]
    },
    {
      "cell_type": "code",
      "source": [
        "!pip install gensim"
      ],
      "metadata": {
        "colab": {
          "base_uri": "https://localhost:8080/"
        },
        "id": "YVAQGYNKQsa-",
        "outputId": "8edddfc0-0925-4b94-cf76-c1c19a1367e3"
      },
      "execution_count": null,
      "outputs": [
        {
          "output_type": "stream",
          "name": "stdout",
          "text": [
            "Requirement already satisfied: gensim in /usr/local/lib/python3.10/dist-packages (4.3.2)\n",
            "Requirement already satisfied: numpy>=1.18.5 in /usr/local/lib/python3.10/dist-packages (from gensim) (1.23.5)\n",
            "Requirement already satisfied: scipy>=1.7.0 in /usr/local/lib/python3.10/dist-packages (from gensim) (1.11.3)\n",
            "Requirement already satisfied: smart-open>=1.8.1 in /usr/local/lib/python3.10/dist-packages (from gensim) (6.4.0)\n"
          ]
        }
      ]
    },
    {
      "cell_type": "code",
      "source": [],
      "metadata": {
        "id": "vfBNSUK6ROhm"
      },
      "execution_count": null,
      "outputs": []
    },
    {
      "cell_type": "markdown",
      "source": [
        "#Word Embedding Similarity"
      ],
      "metadata": {
        "id": "MXQLdnDwUd7m"
      }
    },
    {
      "cell_type": "code",
      "source": [
        "!python -m spacy download en_core_web_lg\n",
        "!python -m spacy download en_core_web_sm"
      ],
      "metadata": {
        "colab": {
          "base_uri": "https://localhost:8080/"
        },
        "id": "KaNMARsSUC8N",
        "outputId": "5676c9b2-c4e3-4541-94c0-fcb99018b373"
      },
      "execution_count": null,
      "outputs": [
        {
          "output_type": "stream",
          "name": "stdout",
          "text": [
            "2023-10-27 22:45:48.402884: E tensorflow/compiler/xla/stream_executor/cuda/cuda_dnn.cc:9342] Unable to register cuDNN factory: Attempting to register factory for plugin cuDNN when one has already been registered\n",
            "2023-10-27 22:45:48.402943: E tensorflow/compiler/xla/stream_executor/cuda/cuda_fft.cc:609] Unable to register cuFFT factory: Attempting to register factory for plugin cuFFT when one has already been registered\n",
            "2023-10-27 22:45:48.402984: E tensorflow/compiler/xla/stream_executor/cuda/cuda_blas.cc:1518] Unable to register cuBLAS factory: Attempting to register factory for plugin cuBLAS when one has already been registered\n",
            "2023-10-27 22:45:49.535676: W tensorflow/compiler/tf2tensorrt/utils/py_utils.cc:38] TF-TRT Warning: Could not find TensorRT\n",
            "Collecting en-core-web-lg==3.6.0\n",
            "  Downloading https://github.com/explosion/spacy-models/releases/download/en_core_web_lg-3.6.0/en_core_web_lg-3.6.0-py3-none-any.whl (587.7 MB)\n",
            "\u001b[2K     \u001b[90m━━━━━━━━━━━━━━━━━━━━━━━━━━━━━━━━━━━━━━━━\u001b[0m \u001b[32m587.7/587.7 MB\u001b[0m \u001b[31m3.0 MB/s\u001b[0m eta \u001b[36m0:00:00\u001b[0m\n",
            "\u001b[?25hRequirement already satisfied: spacy<3.7.0,>=3.6.0 in /usr/local/lib/python3.10/dist-packages (from en-core-web-lg==3.6.0) (3.6.1)\n",
            "Requirement already satisfied: spacy-legacy<3.1.0,>=3.0.11 in /usr/local/lib/python3.10/dist-packages (from spacy<3.7.0,>=3.6.0->en-core-web-lg==3.6.0) (3.0.12)\n",
            "Requirement already satisfied: spacy-loggers<2.0.0,>=1.0.0 in /usr/local/lib/python3.10/dist-packages (from spacy<3.7.0,>=3.6.0->en-core-web-lg==3.6.0) (1.0.5)\n",
            "Requirement already satisfied: murmurhash<1.1.0,>=0.28.0 in /usr/local/lib/python3.10/dist-packages (from spacy<3.7.0,>=3.6.0->en-core-web-lg==3.6.0) (1.0.10)\n",
            "Requirement already satisfied: cymem<2.1.0,>=2.0.2 in /usr/local/lib/python3.10/dist-packages (from spacy<3.7.0,>=3.6.0->en-core-web-lg==3.6.0) (2.0.8)\n",
            "Requirement already satisfied: preshed<3.1.0,>=3.0.2 in /usr/local/lib/python3.10/dist-packages (from spacy<3.7.0,>=3.6.0->en-core-web-lg==3.6.0) (3.0.9)\n",
            "Requirement already satisfied: thinc<8.2.0,>=8.1.8 in /usr/local/lib/python3.10/dist-packages (from spacy<3.7.0,>=3.6.0->en-core-web-lg==3.6.0) (8.1.12)\n",
            "Requirement already satisfied: wasabi<1.2.0,>=0.9.1 in /usr/local/lib/python3.10/dist-packages (from spacy<3.7.0,>=3.6.0->en-core-web-lg==3.6.0) (1.1.2)\n",
            "Requirement already satisfied: srsly<3.0.0,>=2.4.3 in /usr/local/lib/python3.10/dist-packages (from spacy<3.7.0,>=3.6.0->en-core-web-lg==3.6.0) (2.4.8)\n",
            "Requirement already satisfied: catalogue<2.1.0,>=2.0.6 in /usr/local/lib/python3.10/dist-packages (from spacy<3.7.0,>=3.6.0->en-core-web-lg==3.6.0) (2.0.10)\n",
            "Requirement already satisfied: typer<0.10.0,>=0.3.0 in /usr/local/lib/python3.10/dist-packages (from spacy<3.7.0,>=3.6.0->en-core-web-lg==3.6.0) (0.9.0)\n",
            "Requirement already satisfied: pathy>=0.10.0 in /usr/local/lib/python3.10/dist-packages (from spacy<3.7.0,>=3.6.0->en-core-web-lg==3.6.0) (0.10.3)\n",
            "Requirement already satisfied: smart-open<7.0.0,>=5.2.1 in /usr/local/lib/python3.10/dist-packages (from spacy<3.7.0,>=3.6.0->en-core-web-lg==3.6.0) (6.4.0)\n",
            "Requirement already satisfied: tqdm<5.0.0,>=4.38.0 in /usr/local/lib/python3.10/dist-packages (from spacy<3.7.0,>=3.6.0->en-core-web-lg==3.6.0) (4.66.1)\n",
            "Requirement already satisfied: numpy>=1.15.0 in /usr/local/lib/python3.10/dist-packages (from spacy<3.7.0,>=3.6.0->en-core-web-lg==3.6.0) (1.23.5)\n",
            "Requirement already satisfied: requests<3.0.0,>=2.13.0 in /usr/local/lib/python3.10/dist-packages (from spacy<3.7.0,>=3.6.0->en-core-web-lg==3.6.0) (2.31.0)\n",
            "Requirement already satisfied: pydantic!=1.8,!=1.8.1,<3.0.0,>=1.7.4 in /usr/local/lib/python3.10/dist-packages (from spacy<3.7.0,>=3.6.0->en-core-web-lg==3.6.0) (1.10.13)\n",
            "Requirement already satisfied: jinja2 in /usr/local/lib/python3.10/dist-packages (from spacy<3.7.0,>=3.6.0->en-core-web-lg==3.6.0) (3.1.2)\n",
            "Requirement already satisfied: setuptools in /usr/local/lib/python3.10/dist-packages (from spacy<3.7.0,>=3.6.0->en-core-web-lg==3.6.0) (67.7.2)\n",
            "Requirement already satisfied: packaging>=20.0 in /usr/local/lib/python3.10/dist-packages (from spacy<3.7.0,>=3.6.0->en-core-web-lg==3.6.0) (23.2)\n",
            "Requirement already satisfied: langcodes<4.0.0,>=3.2.0 in /usr/local/lib/python3.10/dist-packages (from spacy<3.7.0,>=3.6.0->en-core-web-lg==3.6.0) (3.3.0)\n",
            "Requirement already satisfied: typing-extensions>=4.2.0 in /usr/local/lib/python3.10/dist-packages (from pydantic!=1.8,!=1.8.1,<3.0.0,>=1.7.4->spacy<3.7.0,>=3.6.0->en-core-web-lg==3.6.0) (4.5.0)\n",
            "Requirement already satisfied: charset-normalizer<4,>=2 in /usr/local/lib/python3.10/dist-packages (from requests<3.0.0,>=2.13.0->spacy<3.7.0,>=3.6.0->en-core-web-lg==3.6.0) (3.3.1)\n",
            "Requirement already satisfied: idna<4,>=2.5 in /usr/local/lib/python3.10/dist-packages (from requests<3.0.0,>=2.13.0->spacy<3.7.0,>=3.6.0->en-core-web-lg==3.6.0) (3.4)\n",
            "Requirement already satisfied: urllib3<3,>=1.21.1 in /usr/local/lib/python3.10/dist-packages (from requests<3.0.0,>=2.13.0->spacy<3.7.0,>=3.6.0->en-core-web-lg==3.6.0) (2.0.7)\n",
            "Requirement already satisfied: certifi>=2017.4.17 in /usr/local/lib/python3.10/dist-packages (from requests<3.0.0,>=2.13.0->spacy<3.7.0,>=3.6.0->en-core-web-lg==3.6.0) (2023.7.22)\n",
            "Requirement already satisfied: blis<0.8.0,>=0.7.8 in /usr/local/lib/python3.10/dist-packages (from thinc<8.2.0,>=8.1.8->spacy<3.7.0,>=3.6.0->en-core-web-lg==3.6.0) (0.7.11)\n",
            "Requirement already satisfied: confection<1.0.0,>=0.0.1 in /usr/local/lib/python3.10/dist-packages (from thinc<8.2.0,>=8.1.8->spacy<3.7.0,>=3.6.0->en-core-web-lg==3.6.0) (0.1.3)\n",
            "Requirement already satisfied: click<9.0.0,>=7.1.1 in /usr/local/lib/python3.10/dist-packages (from typer<0.10.0,>=0.3.0->spacy<3.7.0,>=3.6.0->en-core-web-lg==3.6.0) (8.1.7)\n",
            "Requirement already satisfied: MarkupSafe>=2.0 in /usr/local/lib/python3.10/dist-packages (from jinja2->spacy<3.7.0,>=3.6.0->en-core-web-lg==3.6.0) (2.1.3)\n",
            "Installing collected packages: en-core-web-lg\n",
            "Successfully installed en-core-web-lg-3.6.0\n",
            "\u001b[38;5;2m✔ Download and installation successful\u001b[0m\n",
            "You can now load the package via spacy.load('en_core_web_lg')\n",
            "2023-10-27 22:46:22.561172: E tensorflow/compiler/xla/stream_executor/cuda/cuda_dnn.cc:9342] Unable to register cuDNN factory: Attempting to register factory for plugin cuDNN when one has already been registered\n",
            "2023-10-27 22:46:22.561226: E tensorflow/compiler/xla/stream_executor/cuda/cuda_fft.cc:609] Unable to register cuFFT factory: Attempting to register factory for plugin cuFFT when one has already been registered\n",
            "2023-10-27 22:46:22.561259: E tensorflow/compiler/xla/stream_executor/cuda/cuda_blas.cc:1518] Unable to register cuBLAS factory: Attempting to register factory for plugin cuBLAS when one has already been registered\n",
            "2023-10-27 22:46:23.842669: W tensorflow/compiler/tf2tensorrt/utils/py_utils.cc:38] TF-TRT Warning: Could not find TensorRT\n",
            "Collecting en-core-web-sm==3.6.0\n",
            "  Downloading https://github.com/explosion/spacy-models/releases/download/en_core_web_sm-3.6.0/en_core_web_sm-3.6.0-py3-none-any.whl (12.8 MB)\n",
            "\u001b[2K     \u001b[90m━━━━━━━━━━━━━━━━━━━━━━━━━━━━━━━━━━━━━━━━\u001b[0m \u001b[32m12.8/12.8 MB\u001b[0m \u001b[31m91.1 MB/s\u001b[0m eta \u001b[36m0:00:00\u001b[0m\n",
            "\u001b[?25hRequirement already satisfied: spacy<3.7.0,>=3.6.0 in /usr/local/lib/python3.10/dist-packages (from en-core-web-sm==3.6.0) (3.6.1)\n",
            "Requirement already satisfied: spacy-legacy<3.1.0,>=3.0.11 in /usr/local/lib/python3.10/dist-packages (from spacy<3.7.0,>=3.6.0->en-core-web-sm==3.6.0) (3.0.12)\n",
            "Requirement already satisfied: spacy-loggers<2.0.0,>=1.0.0 in /usr/local/lib/python3.10/dist-packages (from spacy<3.7.0,>=3.6.0->en-core-web-sm==3.6.0) (1.0.5)\n",
            "Requirement already satisfied: murmurhash<1.1.0,>=0.28.0 in /usr/local/lib/python3.10/dist-packages (from spacy<3.7.0,>=3.6.0->en-core-web-sm==3.6.0) (1.0.10)\n",
            "Requirement already satisfied: cymem<2.1.0,>=2.0.2 in /usr/local/lib/python3.10/dist-packages (from spacy<3.7.0,>=3.6.0->en-core-web-sm==3.6.0) (2.0.8)\n",
            "Requirement already satisfied: preshed<3.1.0,>=3.0.2 in /usr/local/lib/python3.10/dist-packages (from spacy<3.7.0,>=3.6.0->en-core-web-sm==3.6.0) (3.0.9)\n",
            "Requirement already satisfied: thinc<8.2.0,>=8.1.8 in /usr/local/lib/python3.10/dist-packages (from spacy<3.7.0,>=3.6.0->en-core-web-sm==3.6.0) (8.1.12)\n",
            "Requirement already satisfied: wasabi<1.2.0,>=0.9.1 in /usr/local/lib/python3.10/dist-packages (from spacy<3.7.0,>=3.6.0->en-core-web-sm==3.6.0) (1.1.2)\n",
            "Requirement already satisfied: srsly<3.0.0,>=2.4.3 in /usr/local/lib/python3.10/dist-packages (from spacy<3.7.0,>=3.6.0->en-core-web-sm==3.6.0) (2.4.8)\n",
            "Requirement already satisfied: catalogue<2.1.0,>=2.0.6 in /usr/local/lib/python3.10/dist-packages (from spacy<3.7.0,>=3.6.0->en-core-web-sm==3.6.0) (2.0.10)\n",
            "Requirement already satisfied: typer<0.10.0,>=0.3.0 in /usr/local/lib/python3.10/dist-packages (from spacy<3.7.0,>=3.6.0->en-core-web-sm==3.6.0) (0.9.0)\n",
            "Requirement already satisfied: pathy>=0.10.0 in /usr/local/lib/python3.10/dist-packages (from spacy<3.7.0,>=3.6.0->en-core-web-sm==3.6.0) (0.10.3)\n",
            "Requirement already satisfied: smart-open<7.0.0,>=5.2.1 in /usr/local/lib/python3.10/dist-packages (from spacy<3.7.0,>=3.6.0->en-core-web-sm==3.6.0) (6.4.0)\n",
            "Requirement already satisfied: tqdm<5.0.0,>=4.38.0 in /usr/local/lib/python3.10/dist-packages (from spacy<3.7.0,>=3.6.0->en-core-web-sm==3.6.0) (4.66.1)\n",
            "Requirement already satisfied: numpy>=1.15.0 in /usr/local/lib/python3.10/dist-packages (from spacy<3.7.0,>=3.6.0->en-core-web-sm==3.6.0) (1.23.5)\n",
            "Requirement already satisfied: requests<3.0.0,>=2.13.0 in /usr/local/lib/python3.10/dist-packages (from spacy<3.7.0,>=3.6.0->en-core-web-sm==3.6.0) (2.31.0)\n",
            "Requirement already satisfied: pydantic!=1.8,!=1.8.1,<3.0.0,>=1.7.4 in /usr/local/lib/python3.10/dist-packages (from spacy<3.7.0,>=3.6.0->en-core-web-sm==3.6.0) (1.10.13)\n",
            "Requirement already satisfied: jinja2 in /usr/local/lib/python3.10/dist-packages (from spacy<3.7.0,>=3.6.0->en-core-web-sm==3.6.0) (3.1.2)\n",
            "Requirement already satisfied: setuptools in /usr/local/lib/python3.10/dist-packages (from spacy<3.7.0,>=3.6.0->en-core-web-sm==3.6.0) (67.7.2)\n",
            "Requirement already satisfied: packaging>=20.0 in /usr/local/lib/python3.10/dist-packages (from spacy<3.7.0,>=3.6.0->en-core-web-sm==3.6.0) (23.2)\n",
            "Requirement already satisfied: langcodes<4.0.0,>=3.2.0 in /usr/local/lib/python3.10/dist-packages (from spacy<3.7.0,>=3.6.0->en-core-web-sm==3.6.0) (3.3.0)\n",
            "Requirement already satisfied: typing-extensions>=4.2.0 in /usr/local/lib/python3.10/dist-packages (from pydantic!=1.8,!=1.8.1,<3.0.0,>=1.7.4->spacy<3.7.0,>=3.6.0->en-core-web-sm==3.6.0) (4.5.0)\n",
            "Requirement already satisfied: charset-normalizer<4,>=2 in /usr/local/lib/python3.10/dist-packages (from requests<3.0.0,>=2.13.0->spacy<3.7.0,>=3.6.0->en-core-web-sm==3.6.0) (3.3.1)\n",
            "Requirement already satisfied: idna<4,>=2.5 in /usr/local/lib/python3.10/dist-packages (from requests<3.0.0,>=2.13.0->spacy<3.7.0,>=3.6.0->en-core-web-sm==3.6.0) (3.4)\n",
            "Requirement already satisfied: urllib3<3,>=1.21.1 in /usr/local/lib/python3.10/dist-packages (from requests<3.0.0,>=2.13.0->spacy<3.7.0,>=3.6.0->en-core-web-sm==3.6.0) (2.0.7)\n",
            "Requirement already satisfied: certifi>=2017.4.17 in /usr/local/lib/python3.10/dist-packages (from requests<3.0.0,>=2.13.0->spacy<3.7.0,>=3.6.0->en-core-web-sm==3.6.0) (2023.7.22)\n",
            "Requirement already satisfied: blis<0.8.0,>=0.7.8 in /usr/local/lib/python3.10/dist-packages (from thinc<8.2.0,>=8.1.8->spacy<3.7.0,>=3.6.0->en-core-web-sm==3.6.0) (0.7.11)\n",
            "Requirement already satisfied: confection<1.0.0,>=0.0.1 in /usr/local/lib/python3.10/dist-packages (from thinc<8.2.0,>=8.1.8->spacy<3.7.0,>=3.6.0->en-core-web-sm==3.6.0) (0.1.3)\n",
            "Requirement already satisfied: click<9.0.0,>=7.1.1 in /usr/local/lib/python3.10/dist-packages (from typer<0.10.0,>=0.3.0->spacy<3.7.0,>=3.6.0->en-core-web-sm==3.6.0) (8.1.7)\n",
            "Requirement already satisfied: MarkupSafe>=2.0 in /usr/local/lib/python3.10/dist-packages (from jinja2->spacy<3.7.0,>=3.6.0->en-core-web-sm==3.6.0) (2.1.3)\n",
            "\u001b[38;5;2m✔ Download and installation successful\u001b[0m\n",
            "You can now load the package via spacy.load('en_core_web_sm')\n"
          ]
        }
      ]
    },
    {
      "cell_type": "code",
      "source": [
        "import spacy\n",
        "\n",
        "# Load the spaCy model with word vectors (you can use other models as well)\n",
        "nlp = spacy.load(\"en_core_web_sm\")\n",
        "\n",
        "# Read the contents of \"CleanedDatasetEntire1.txt\" and \"single_text.txt\"\n",
        "with open(\"CleanedDatasetEntire1.txt\", \"r\", encoding=\"utf-8\") as file:\n",
        "    text1 = file.read()\n",
        "\n",
        "with open(\"single_text.txt\", \"r\", encoding=\"utf-8\") as file:\n",
        "    text2 = file.read()\n",
        "\n",
        "# Process the text with spaCy\n",
        "doc1 = nlp(text1)\n",
        "doc2 = nlp(text2)\n",
        "\n",
        "# Calculate the similarity between the two documents (cosine similarity)\n",
        "similarity = doc1.similarity(doc2)\n",
        "\n",
        "print(f\"Word Embedding Similarity: {similarity:.2f}\")\n"
      ],
      "metadata": {
        "colab": {
          "base_uri": "https://localhost:8080/"
        },
        "id": "OZh3kSdVQsu0",
        "outputId": "2b371872-32cd-4054-8afd-4b661b795b5c"
      },
      "execution_count": null,
      "outputs": [
        {
          "output_type": "stream",
          "name": "stdout",
          "text": [
            "Word Embedding Similarity: 0.30\n"
          ]
        },
        {
          "output_type": "stream",
          "name": "stderr",
          "text": [
            "<ipython-input-45-6c2ad36c846d>:18: UserWarning: [W007] The model you're using has no word vectors loaded, so the result of the Doc.similarity method will be based on the tagger, parser and NER, which may not give useful similarity judgements. This may happen if you're using one of the small models, e.g. `en_core_web_sm`, which don't ship with word vectors and only use context-sensitive tensors. You can always add your own word vectors, or use one of the larger models instead if available.\n",
            "  similarity = doc1.similarity(doc2)\n"
          ]
        }
      ]
    },
    {
      "cell_type": "markdown",
      "source": [
        "#BLEU SCORE"
      ],
      "metadata": {
        "id": "GXJJwFz8UwOP"
      }
    },
    {
      "cell_type": "code",
      "source": [
        "!pip install nltk\n"
      ],
      "metadata": {
        "colab": {
          "base_uri": "https://localhost:8080/"
        },
        "id": "Wv3Ubu-oUx1m",
        "outputId": "3c9ef9cd-1ab3-401e-984b-c5c060a21c55"
      },
      "execution_count": null,
      "outputs": [
        {
          "output_type": "stream",
          "name": "stdout",
          "text": [
            "Requirement already satisfied: nltk in /usr/local/lib/python3.10/dist-packages (3.8.1)\n",
            "Requirement already satisfied: click in /usr/local/lib/python3.10/dist-packages (from nltk) (8.1.7)\n",
            "Requirement already satisfied: joblib in /usr/local/lib/python3.10/dist-packages (from nltk) (1.3.2)\n",
            "Requirement already satisfied: regex>=2021.8.3 in /usr/local/lib/python3.10/dist-packages (from nltk) (2023.6.3)\n",
            "Requirement already satisfied: tqdm in /usr/local/lib/python3.10/dist-packages (from nltk) (4.66.1)\n"
          ]
        }
      ]
    },
    {
      "cell_type": "code",
      "source": [
        "import nltk\n",
        "from nltk.translate.bleu_score import sentence_bleu\n",
        "\n",
        "# Read the contents of \"CleanedDatasetEntire1.txt\" and \"single_text.txt\"\n",
        "with open(\"CleanedDatasetEntire1.txt\", \"r\", encoding=\"utf-8\") as file:\n",
        "    reference_text = file.read()\n",
        "\n",
        "with open(\"single_text.txt\", \"r\", encoding=\"utf-8\") as file:\n",
        "    candidate_text = file.read()\n",
        "\n",
        "# Tokenize the reference and candidate texts\n",
        "reference_tokens = nltk.word_tokenize(reference_text)\n",
        "candidate_tokens = nltk.word_tokenize(candidate_text)\n",
        "\n",
        "# Calculate the BLEU Score\n",
        "bleu_score = sentence_bleu([reference_tokens], candidate_tokens)\n",
        "\n",
        "print(f\"BLEU Score: {bleu_score:.2f}\")\n"
      ],
      "metadata": {
        "colab": {
          "base_uri": "https://localhost:8080/"
        },
        "id": "kvUoIUE6Uy6G",
        "outputId": "3bc460a8-56dc-457c-922f-9c223d21aceb"
      },
      "execution_count": null,
      "outputs": [
        {
          "output_type": "stream",
          "name": "stdout",
          "text": [
            "BLEU Score: 0.00\n"
          ]
        }
      ]
    },
    {
      "cell_type": "markdown",
      "source": [
        "#Precision, Recall, F-1"
      ],
      "metadata": {
        "id": "wSZgTXYKf5ML"
      }
    },
    {
      "cell_type": "code",
      "source": [
        "from sklearn.metrics import accuracy_score, precision_score, recall_score, f1_score\n",
        "\n",
        "# Read the contents of \"CleanedDatasetEntire1.txt\" and \"single_text.txt\"\n",
        "with open(\"CleanedDatasetEntire1.txt\", \"r\", encoding=\"utf-8\") as file:\n",
        "    text1 = file.read()\n",
        "\n",
        "with open(\"single_text.txt\", \"r\", encoding=\"utf-8\") as file:\n",
        "    text2 = file.read()\n",
        "\n",
        "# Assuming you have binary labels (0 for incorrect, 1 for correct) for both texts\n",
        "labels1 = [1, 0]  # Replace with the actual labels for \"CleanedDatasetEntire1.txt\"\n",
        "labels2 = [1, 1]  # Replace with the actual labels for \"single_text.txt\"\n",
        "\n",
        "# Calculate the F1 score, accuracy, precision, and recall\n",
        "f1 = f1_score(labels1, labels2)\n",
        "accuracy = accuracy_score(labels1, labels2)\n",
        "precision = precision_score(labels1, labels2)\n",
        "recall = recall_score(labels1, labels2)\n",
        "\n",
        "print(f\"F1 Score: {f1:.2f}\")\n",
        "print(f\"Accuracy: {accuracy:.2f}\")\n",
        "print(f\"Precision: {precision:.2f}\")\n",
        "print(f\"Recall: {recall:.2f}\")\n"
      ],
      "metadata": {
        "colab": {
          "base_uri": "https://localhost:8080/"
        },
        "id": "--AdVg44f7Q-",
        "outputId": "6f0a768c-04a7-4f64-c3b2-d88bef7efc40"
      },
      "execution_count": null,
      "outputs": [
        {
          "output_type": "stream",
          "name": "stdout",
          "text": [
            "F1 Score: 0.67\n",
            "Accuracy: 0.50\n",
            "Precision: 0.50\n",
            "Recall: 1.00\n"
          ]
        }
      ]
    },
    {
      "cell_type": "markdown",
      "source": [
        "#"
      ],
      "metadata": {
        "id": "YwW1AS14fhet"
      }
    },
    {
      "cell_type": "code",
      "source": [],
      "metadata": {
        "id": "wQ6Lonn-UCKd"
      },
      "execution_count": null,
      "outputs": []
    },
    {
      "cell_type": "markdown",
      "source": [
        "#LSTM Synthetic dataset"
      ],
      "metadata": {
        "id": "IiO8qbSElAzk"
      }
    },
    {
      "cell_type": "code",
      "source": [
        "import numpy as np\n",
        "from keras.models import Sequential\n",
        "from keras.layers import LSTM, Dense, Embedding\n",
        "from keras.preprocessing.text import Tokenizer\n",
        "from keras.preprocessing.sequence import pad_sequences\n",
        "from keras.utils import to_categorical\n",
        "\n",
        "# 1. Preprocess the data\n",
        "with open(\"CleanedDatasetEntire1.txt\", \"r\") as file:\n",
        "    text = file.read()\n",
        "\n",
        "# Tokenize the text\n",
        "tokenizer = Tokenizer()\n",
        "tokenizer.fit_on_texts([text])\n",
        "vocab_size = len(tokenizer.word_index) + 1\n",
        "\n",
        "# Convert text to sequences of integers\n",
        "sequences = []\n",
        "for line in text.split(\"\\n\"):\n",
        "    encoded = tokenizer.texts_to_sequences([line])[0]\n",
        "    for i in range(1, len(encoded)):\n",
        "        sequences.append(encoded[:i+1])\n",
        "\n",
        "# Pad sequences for consistent length\n",
        "max_length = max([len(seq) for seq in sequences])\n",
        "sequences = pad_sequences(sequences, maxlen=max_length, padding='pre')\n",
        "\n",
        "# Split sequences into input and output elements\n",
        "X, y = sequences[:,:-1], sequences[:,-1]\n",
        "y = to_categorical(y, num_classes=vocab_size)\n",
        "\n",
        "# 2. Create an LSTM model\n",
        "model = Sequential()\n",
        "model.add(Embedding(vocab_size, 50, input_length=max_length-1))\n",
        "model.add(LSTM(100))\n",
        "model.add(Dense(vocab_size, activation='softmax'))\n",
        "model.compile(loss='categorical_crossentropy', optimizer='adam', metrics=['accuracy'])\n",
        "\n",
        "# 3. Train the model\n",
        "model.fit(X, y, epochs=20, verbose=2)\n",
        "\n",
        "# 4. Generate synthetic data\n",
        "def generate_text(seed_text, model, max_length, num_words):\n",
        "    output_text = seed_text\n",
        "    for _ in range(num_words):\n",
        "        encoded = tokenizer.texts_to_sequences([seed_text])[0]\n",
        "        encoded = pad_sequences([encoded], maxlen=max_length-1, padding='pre')\n",
        "        prediction = np.argmax(model.predict(encoded), axis=-1)\n",
        "        predicted_word = \"\"\n",
        "        for word, index in tokenizer.word_index.items():\n",
        "            if index == prediction:\n",
        "                predicted_word = word\n",
        "                break\n",
        "        seed_text += \" \" + predicted_word\n",
        "        output_text += \" \" + predicted_word\n",
        "    return output_text\n",
        "\n",
        "# Generate new text based on a seed\n",
        "seed = \"This is a\"\n",
        "synthetic_data = generate_text(seed, model, max_length, 500)  # Generating 500 words\n",
        "\n",
        "# Save synthetic data to file\n",
        "with open(\"LSTMtraining.txt\", \"w\") as output_file:\n",
        "    output_file.write(synthetic_data)\n",
        "\n",
        "print(\"Synthetic data saved to LSTMtraining.txt!\")\n"
      ],
      "metadata": {
        "colab": {
          "base_uri": "https://localhost:8080/"
        },
        "id": "jhoyJi73lDGL",
        "outputId": "a8a135c3-d8ba-453c-cc05-393c1d218ca2"
      },
      "execution_count": null,
      "outputs": [
        {
          "output_type": "stream",
          "name": "stderr",
          "text": [
            "WARNING:tensorflow:Layer lstm_2 will not use cuDNN kernels since it doesn't meet the criteria. It will use a generic GPU kernel as fallback when running on GPU.\n"
          ]
        },
        {
          "output_type": "stream",
          "name": "stdout",
          "text": [
            "Train on 6036 samples\n",
            "Epoch 1/20\n",
            "6036/6036 - 4s - loss: 6.9711 - accuracy: 0.0389 - 4s/epoch - 676us/sample\n",
            "Epoch 2/20\n",
            "6036/6036 - 4s - loss: 6.0570 - accuracy: 0.0570 - 4s/epoch - 685us/sample\n",
            "Epoch 3/20\n",
            "6036/6036 - 4s - loss: 5.5635 - accuracy: 0.1120 - 4s/epoch - 699us/sample\n",
            "Epoch 4/20\n",
            "6036/6036 - 3s - loss: 5.1630 - accuracy: 0.1445 - 3s/epoch - 574us/sample\n",
            "Epoch 5/20\n",
            "6036/6036 - 4s - loss: 4.9143 - accuracy: 0.1589 - 4s/epoch - 587us/sample\n",
            "Epoch 6/20\n",
            "6036/6036 - 5s - loss: 4.7216 - accuracy: 0.1561 - 5s/epoch - 808us/sample\n",
            "Epoch 7/20\n",
            "6036/6036 - 4s - loss: 4.5643 - accuracy: 0.1675 - 4s/epoch - 591us/sample\n",
            "Epoch 8/20\n",
            "6036/6036 - 4s - loss: 4.4288 - accuracy: 0.1718 - 4s/epoch - 585us/sample\n",
            "Epoch 9/20\n",
            "6036/6036 - 4s - loss: 4.3115 - accuracy: 0.2069 - 4s/epoch - 669us/sample\n",
            "Epoch 10/20\n",
            "6036/6036 - 5s - loss: 4.1996 - accuracy: 0.2238 - 5s/epoch - 746us/sample\n",
            "Epoch 11/20\n",
            "6036/6036 - 3s - loss: 4.0976 - accuracy: 0.2399 - 3s/epoch - 577us/sample\n",
            "Epoch 12/20\n",
            "6036/6036 - 3s - loss: 3.9981 - accuracy: 0.2520 - 3s/epoch - 572us/sample\n",
            "Epoch 13/20\n",
            "6036/6036 - 5s - loss: 3.9079 - accuracy: 0.2679 - 5s/epoch - 784us/sample\n",
            "Epoch 14/20\n",
            "6036/6036 - 4s - loss: 3.8240 - accuracy: 0.2813 - 4s/epoch - 583us/sample\n",
            "Epoch 15/20\n",
            "6036/6036 - 3s - loss: 3.7452 - accuracy: 0.2939 - 3s/epoch - 575us/sample\n",
            "Epoch 16/20\n",
            "6036/6036 - 4s - loss: 3.6708 - accuracy: 0.3032 - 4s/epoch - 603us/sample\n",
            "Epoch 17/20\n",
            "6036/6036 - 5s - loss: 3.5971 - accuracy: 0.3091 - 5s/epoch - 780us/sample\n",
            "Epoch 18/20\n",
            "6036/6036 - 3s - loss: 3.5247 - accuracy: 0.3174 - 3s/epoch - 567us/sample\n",
            "Epoch 19/20\n",
            "6036/6036 - 3s - loss: 3.4530 - accuracy: 0.3338 - 3s/epoch - 572us/sample\n",
            "Epoch 20/20\n",
            "6036/6036 - 4s - loss: 3.3805 - accuracy: 0.3441 - 4s/epoch - 712us/sample\n"
          ]
        },
        {
          "output_type": "stream",
          "name": "stderr",
          "text": [
            "/usr/local/lib/python3.10/dist-packages/keras/src/engine/training_v1.py:2359: UserWarning: `Model.state_updates` will be removed in a future version. This property should not be used in TensorFlow 2.0, as `updates` are applied automatically.\n",
            "  updates=self.state_updates,\n"
          ]
        },
        {
          "output_type": "stream",
          "name": "stdout",
          "text": [
            "Synthetic data saved to LSTMtraining.txt!\n"
          ]
        }
      ]
    },
    {
      "cell_type": "markdown",
      "source": [
        "#BART_Training"
      ],
      "metadata": {
        "id": "GouwIyDvr0Sz"
      }
    },
    {
      "cell_type": "code",
      "source": [
        "!pip install transformers"
      ],
      "metadata": {
        "colab": {
          "base_uri": "https://localhost:8080/"
        },
        "id": "xukGQDCgr33N",
        "outputId": "bb09b622-ea0f-40e1-96bf-57f94e1b6559"
      },
      "execution_count": null,
      "outputs": [
        {
          "output_type": "stream",
          "name": "stdout",
          "text": [
            "Collecting transformers\n",
            "  Downloading transformers-4.34.1-py3-none-any.whl (7.7 MB)\n",
            "\u001b[2K     \u001b[90m━━━━━━━━━━━━━━━━━━━━━━━━━━━━━━━━━━━━━━━━\u001b[0m \u001b[32m7.7/7.7 MB\u001b[0m \u001b[31m14.1 MB/s\u001b[0m eta \u001b[36m0:00:00\u001b[0m\n",
            "\u001b[?25hRequirement already satisfied: filelock in /usr/local/lib/python3.10/dist-packages (from transformers) (3.12.4)\n",
            "Collecting huggingface-hub<1.0,>=0.16.4 (from transformers)\n",
            "  Downloading huggingface_hub-0.18.0-py3-none-any.whl (301 kB)\n",
            "\u001b[2K     \u001b[90m━━━━━━━━━━━━━━━━━━━━━━━━━━━━━━━━━━━━━━━━\u001b[0m \u001b[32m302.0/302.0 kB\u001b[0m \u001b[31m29.7 MB/s\u001b[0m eta \u001b[36m0:00:00\u001b[0m\n",
            "\u001b[?25hRequirement already satisfied: numpy>=1.17 in /usr/local/lib/python3.10/dist-packages (from transformers) (1.23.5)\n",
            "Requirement already satisfied: packaging>=20.0 in /usr/local/lib/python3.10/dist-packages (from transformers) (23.2)\n",
            "Requirement already satisfied: pyyaml>=5.1 in /usr/local/lib/python3.10/dist-packages (from transformers) (6.0.1)\n",
            "Requirement already satisfied: regex!=2019.12.17 in /usr/local/lib/python3.10/dist-packages (from transformers) (2023.6.3)\n",
            "Requirement already satisfied: requests in /usr/local/lib/python3.10/dist-packages (from transformers) (2.31.0)\n",
            "Collecting tokenizers<0.15,>=0.14 (from transformers)\n",
            "  Downloading tokenizers-0.14.1-cp310-cp310-manylinux_2_17_x86_64.manylinux2014_x86_64.whl (3.8 MB)\n",
            "\u001b[2K     \u001b[90m━━━━━━━━━━━━━━━━━━━━━━━━━━━━━━━━━━━━━━━━\u001b[0m \u001b[32m3.8/3.8 MB\u001b[0m \u001b[31m35.2 MB/s\u001b[0m eta \u001b[36m0:00:00\u001b[0m\n",
            "\u001b[?25hCollecting safetensors>=0.3.1 (from transformers)\n",
            "  Downloading safetensors-0.4.0-cp310-cp310-manylinux_2_17_x86_64.manylinux2014_x86_64.whl (1.3 MB)\n",
            "\u001b[2K     \u001b[90m━━━━━━━━━━━━━━━━━━━━━━━━━━━━━━━━━━━━━━━━\u001b[0m \u001b[32m1.3/1.3 MB\u001b[0m \u001b[31m37.7 MB/s\u001b[0m eta \u001b[36m0:00:00\u001b[0m\n",
            "\u001b[?25hRequirement already satisfied: tqdm>=4.27 in /usr/local/lib/python3.10/dist-packages (from transformers) (4.66.1)\n",
            "Requirement already satisfied: fsspec>=2023.5.0 in /usr/local/lib/python3.10/dist-packages (from huggingface-hub<1.0,>=0.16.4->transformers) (2023.6.0)\n",
            "Requirement already satisfied: typing-extensions>=3.7.4.3 in /usr/local/lib/python3.10/dist-packages (from huggingface-hub<1.0,>=0.16.4->transformers) (4.5.0)\n",
            "Collecting huggingface-hub<1.0,>=0.16.4 (from transformers)\n",
            "  Downloading huggingface_hub-0.17.3-py3-none-any.whl (295 kB)\n",
            "\u001b[2K     \u001b[90m━━━━━━━━━━━━━━━━━━━━━━━━━━━━━━━━━━━━━━━━\u001b[0m \u001b[32m295.0/295.0 kB\u001b[0m \u001b[31m32.4 MB/s\u001b[0m eta \u001b[36m0:00:00\u001b[0m\n",
            "\u001b[?25hRequirement already satisfied: charset-normalizer<4,>=2 in /usr/local/lib/python3.10/dist-packages (from requests->transformers) (3.3.1)\n",
            "Requirement already satisfied: idna<4,>=2.5 in /usr/local/lib/python3.10/dist-packages (from requests->transformers) (3.4)\n",
            "Requirement already satisfied: urllib3<3,>=1.21.1 in /usr/local/lib/python3.10/dist-packages (from requests->transformers) (2.0.7)\n",
            "Requirement already satisfied: certifi>=2017.4.17 in /usr/local/lib/python3.10/dist-packages (from requests->transformers) (2023.7.22)\n",
            "Installing collected packages: safetensors, huggingface-hub, tokenizers, transformers\n",
            "Successfully installed huggingface-hub-0.17.3 safetensors-0.4.0 tokenizers-0.14.1 transformers-4.34.1\n"
          ]
        }
      ]
    },
    {
      "cell_type": "code",
      "source": [],
      "metadata": {
        "colab": {
          "base_uri": "https://localhost:8080/"
        },
        "id": "Qae-L_5ixMZ2",
        "outputId": "7f03ff0f-cb1b-48cd-b668-ba0c335838f5"
      },
      "execution_count": null,
      "outputs": [
        {
          "output_type": "stream",
          "name": "stdout",
          "text": [
            "\u001b[31mERROR: Could not find a version that satisfies the requirement leakgan (from versions: none)\u001b[0m\u001b[31m\n",
            "\u001b[0m\u001b[31mERROR: No matching distribution found for leakgan\u001b[0m\u001b[31m\n",
            "\u001b[0m"
          ]
        }
      ]
    },
    {
      "cell_type": "code",
      "source": [
        "from transformers import GPTJForCausalLM, GPT2Tokenizer\n",
        "import torch\n",
        "\n",
        "# Load the model and tokenizer\n",
        "model_name = \"EleutherAI/gpt-j-6B\"\n",
        "model = GPTJForCausalLM.from_pretrained(model_name)\n",
        "tokenizer = GPT2Tokenizer.from_pretrained(model_name)\n",
        "\n",
        "# Load the input data\n",
        "with open(\"CleanedDatasetEntire1.txt\", \"r\") as file:\n",
        "    data = file.read()\n",
        "\n",
        "# Tokenize the input data\n",
        "input_ids = tokenizer.encode(data, return_tensors=\"pt\")\n",
        "\n",
        "# Generate synthetic data\n",
        "output = model.generate(input_ids, max_length=1000, num_return_sequences=5, pad_token_id=tokenizer.eos_token_id)\n",
        "\n",
        "# Decode and save the generated data\n",
        "with open(\"GPT-Jtraining.txt\", \"w\") as file:\n",
        "    for item in output:\n",
        "        file.write(tokenizer.decode(item, skip_special_tokens=True) + \"\\n\\n\")\n",
        "\n",
        "print(\"Synthetic data saved to GPT-Jtraining.txt\")\n"
      ],
      "metadata": {
        "colab": {
          "base_uri": "https://localhost:8080/",
          "height": 310
        },
        "id": "vJ5qd_HWr2WQ",
        "outputId": "e1aa66c9-cc51-425a-8db4-1ae2000bdd9b"
      },
      "execution_count": null,
      "outputs": [
        {
          "output_type": "error",
          "ename": "KeyboardInterrupt",
          "evalue": "ignored",
          "traceback": [
            "\u001b[0;31m---------------------------------------------------------------------------\u001b[0m",
            "\u001b[0;31mFileNotFoundError\u001b[0m                         Traceback (most recent call last)",
            "\u001b[0;32m/usr/lib/python3.10/importlib/_bootstrap_external.py\u001b[0m in \u001b[0;36m_path_is_mode_type\u001b[0;34m(path, mode)\u001b[0m\n",
            "\u001b[0;32m/usr/lib/python3.10/importlib/_bootstrap_external.py\u001b[0m in \u001b[0;36m_path_stat\u001b[0;34m(path)\u001b[0m\n",
            "\u001b[0;31mFileNotFoundError\u001b[0m: [Errno 2] No such file or directory: '/usr/local/lib/python3.10/dist-packages/transformers/models/big_bird/__init__.cpython-310-x86_64-linux-gnu.so'",
            "\nDuring handling of the above exception, another exception occurred:\n",
            "\u001b[0;31mKeyboardInterrupt\u001b[0m                         Traceback (most recent call last)",
            "\u001b[0;32m<ipython-input-1-762fc3ffb279>\u001b[0m in \u001b[0;36m<cell line: 1>\u001b[0;34m()\u001b[0m\n\u001b[0;32m----> 1\u001b[0;31m \u001b[0;32mfrom\u001b[0m \u001b[0mtransformers\u001b[0m \u001b[0;32mimport\u001b[0m \u001b[0mGPTJForCausalLM\u001b[0m\u001b[0;34m,\u001b[0m \u001b[0mGPT2Tokenizer\u001b[0m\u001b[0;34m\u001b[0m\u001b[0;34m\u001b[0m\u001b[0m\n\u001b[0m\u001b[1;32m      2\u001b[0m \u001b[0;32mimport\u001b[0m \u001b[0mtorch\u001b[0m\u001b[0;34m\u001b[0m\u001b[0;34m\u001b[0m\u001b[0m\n\u001b[1;32m      3\u001b[0m \u001b[0;34m\u001b[0m\u001b[0m\n\u001b[1;32m      4\u001b[0m \u001b[0;31m# Load the model and tokenizer\u001b[0m\u001b[0;34m\u001b[0m\u001b[0;34m\u001b[0m\u001b[0m\n\u001b[1;32m      5\u001b[0m \u001b[0mmodel_name\u001b[0m \u001b[0;34m=\u001b[0m \u001b[0;34m\"EleutherAI/gpt-j-6B\"\u001b[0m\u001b[0;34m\u001b[0m\u001b[0;34m\u001b[0m\u001b[0m\n",
            "\u001b[0;32m/usr/lib/python3.10/importlib/_bootstrap.py\u001b[0m in \u001b[0;36m_handle_fromlist\u001b[0;34m(module, fromlist, import_, recursive)\u001b[0m\n",
            "\u001b[0;32m/usr/local/lib/python3.10/dist-packages/transformers/utils/import_utils.py\u001b[0m in \u001b[0;36m__getattr__\u001b[0;34m(self, name)\u001b[0m\n\u001b[1;32m   1270\u001b[0m             \u001b[0mvalue\u001b[0m \u001b[0;34m=\u001b[0m \u001b[0mself\u001b[0m\u001b[0;34m.\u001b[0m\u001b[0m_get_module\u001b[0m\u001b[0;34m(\u001b[0m\u001b[0mname\u001b[0m\u001b[0;34m)\u001b[0m\u001b[0;34m\u001b[0m\u001b[0;34m\u001b[0m\u001b[0m\n\u001b[1;32m   1271\u001b[0m         \u001b[0;32melif\u001b[0m \u001b[0mname\u001b[0m \u001b[0;32min\u001b[0m \u001b[0mself\u001b[0m\u001b[0;34m.\u001b[0m\u001b[0m_class_to_module\u001b[0m\u001b[0;34m.\u001b[0m\u001b[0mkeys\u001b[0m\u001b[0;34m(\u001b[0m\u001b[0;34m)\u001b[0m\u001b[0;34m:\u001b[0m\u001b[0;34m\u001b[0m\u001b[0;34m\u001b[0m\u001b[0m\n\u001b[0;32m-> 1272\u001b[0;31m             \u001b[0mmodule\u001b[0m \u001b[0;34m=\u001b[0m \u001b[0mself\u001b[0m\u001b[0;34m.\u001b[0m\u001b[0m_get_module\u001b[0m\u001b[0;34m(\u001b[0m\u001b[0mself\u001b[0m\u001b[0;34m.\u001b[0m\u001b[0m_class_to_module\u001b[0m\u001b[0;34m[\u001b[0m\u001b[0mname\u001b[0m\u001b[0;34m]\u001b[0m\u001b[0;34m)\u001b[0m\u001b[0;34m\u001b[0m\u001b[0;34m\u001b[0m\u001b[0m\n\u001b[0m\u001b[1;32m   1273\u001b[0m             \u001b[0mvalue\u001b[0m \u001b[0;34m=\u001b[0m \u001b[0mgetattr\u001b[0m\u001b[0;34m(\u001b[0m\u001b[0mmodule\u001b[0m\u001b[0;34m,\u001b[0m \u001b[0mname\u001b[0m\u001b[0;34m)\u001b[0m\u001b[0;34m\u001b[0m\u001b[0;34m\u001b[0m\u001b[0m\n\u001b[1;32m   1274\u001b[0m         \u001b[0;32melse\u001b[0m\u001b[0;34m:\u001b[0m\u001b[0;34m\u001b[0m\u001b[0;34m\u001b[0m\u001b[0m\n",
            "\u001b[0;32m/usr/local/lib/python3.10/dist-packages/transformers/utils/import_utils.py\u001b[0m in \u001b[0;36m_get_module\u001b[0;34m(self, module_name)\u001b[0m\n\u001b[1;32m   1280\u001b[0m     \u001b[0;32mdef\u001b[0m \u001b[0m_get_module\u001b[0m\u001b[0;34m(\u001b[0m\u001b[0mself\u001b[0m\u001b[0;34m,\u001b[0m \u001b[0mmodule_name\u001b[0m\u001b[0;34m:\u001b[0m \u001b[0mstr\u001b[0m\u001b[0;34m)\u001b[0m\u001b[0;34m:\u001b[0m\u001b[0;34m\u001b[0m\u001b[0;34m\u001b[0m\u001b[0m\n\u001b[1;32m   1281\u001b[0m         \u001b[0;32mtry\u001b[0m\u001b[0;34m:\u001b[0m\u001b[0;34m\u001b[0m\u001b[0;34m\u001b[0m\u001b[0m\n\u001b[0;32m-> 1282\u001b[0;31m             \u001b[0;32mreturn\u001b[0m \u001b[0mimportlib\u001b[0m\u001b[0;34m.\u001b[0m\u001b[0mimport_module\u001b[0m\u001b[0;34m(\u001b[0m\u001b[0;34m\".\"\u001b[0m \u001b[0;34m+\u001b[0m \u001b[0mmodule_name\u001b[0m\u001b[0;34m,\u001b[0m \u001b[0mself\u001b[0m\u001b[0;34m.\u001b[0m\u001b[0m__name__\u001b[0m\u001b[0;34m)\u001b[0m\u001b[0;34m\u001b[0m\u001b[0;34m\u001b[0m\u001b[0m\n\u001b[0m\u001b[1;32m   1283\u001b[0m         \u001b[0;32mexcept\u001b[0m \u001b[0mException\u001b[0m \u001b[0;32mas\u001b[0m \u001b[0me\u001b[0m\u001b[0;34m:\u001b[0m\u001b[0;34m\u001b[0m\u001b[0;34m\u001b[0m\u001b[0m\n\u001b[1;32m   1284\u001b[0m             raise RuntimeError(\n",
            "\u001b[0;32m/usr/lib/python3.10/importlib/__init__.py\u001b[0m in \u001b[0;36mimport_module\u001b[0;34m(name, package)\u001b[0m\n\u001b[1;32m    124\u001b[0m                 \u001b[0;32mbreak\u001b[0m\u001b[0;34m\u001b[0m\u001b[0;34m\u001b[0m\u001b[0m\n\u001b[1;32m    125\u001b[0m             \u001b[0mlevel\u001b[0m \u001b[0;34m+=\u001b[0m \u001b[0;36m1\u001b[0m\u001b[0;34m\u001b[0m\u001b[0;34m\u001b[0m\u001b[0m\n\u001b[0;32m--> 126\u001b[0;31m     \u001b[0;32mreturn\u001b[0m \u001b[0m_bootstrap\u001b[0m\u001b[0;34m.\u001b[0m\u001b[0m_gcd_import\u001b[0m\u001b[0;34m(\u001b[0m\u001b[0mname\u001b[0m\u001b[0;34m[\u001b[0m\u001b[0mlevel\u001b[0m\u001b[0;34m:\u001b[0m\u001b[0;34m]\u001b[0m\u001b[0;34m,\u001b[0m \u001b[0mpackage\u001b[0m\u001b[0;34m,\u001b[0m \u001b[0mlevel\u001b[0m\u001b[0;34m)\u001b[0m\u001b[0;34m\u001b[0m\u001b[0;34m\u001b[0m\u001b[0m\n\u001b[0m\u001b[1;32m    127\u001b[0m \u001b[0;34m\u001b[0m\u001b[0m\n\u001b[1;32m    128\u001b[0m \u001b[0;34m\u001b[0m\u001b[0m\n",
            "\u001b[0;32m/usr/local/lib/python3.10/dist-packages/transformers/models/__init__.py\u001b[0m in \u001b[0;36m<module>\u001b[0;34m\u001b[0m\n\u001b[1;32m     13\u001b[0m \u001b[0;31m# limitations under the License.\u001b[0m\u001b[0;34m\u001b[0m\u001b[0;34m\u001b[0m\u001b[0m\n\u001b[1;32m     14\u001b[0m \u001b[0;34m\u001b[0m\u001b[0m\n\u001b[0;32m---> 15\u001b[0;31m from . import (\n\u001b[0m\u001b[1;32m     16\u001b[0m     \u001b[0malbert\u001b[0m\u001b[0;34m,\u001b[0m\u001b[0;34m\u001b[0m\u001b[0;34m\u001b[0m\u001b[0m\n\u001b[1;32m     17\u001b[0m     \u001b[0malign\u001b[0m\u001b[0;34m,\u001b[0m\u001b[0;34m\u001b[0m\u001b[0;34m\u001b[0m\u001b[0m\n",
            "\u001b[0;32m/usr/lib/python3.10/importlib/_bootstrap.py\u001b[0m in \u001b[0;36m_find_and_load\u001b[0;34m(name, import_)\u001b[0m\n",
            "\u001b[0;32m/usr/lib/python3.10/importlib/_bootstrap.py\u001b[0m in \u001b[0;36m_find_and_load_unlocked\u001b[0;34m(name, import_)\u001b[0m\n",
            "\u001b[0;32m/usr/lib/python3.10/importlib/_bootstrap.py\u001b[0m in \u001b[0;36m_find_spec\u001b[0;34m(name, path, target)\u001b[0m\n",
            "\u001b[0;32m/usr/lib/python3.10/importlib/_bootstrap_external.py\u001b[0m in \u001b[0;36mfind_spec\u001b[0;34m(cls, fullname, path, target)\u001b[0m\n",
            "\u001b[0;32m/usr/lib/python3.10/importlib/_bootstrap_external.py\u001b[0m in \u001b[0;36m_get_spec\u001b[0;34m(cls, fullname, path, target)\u001b[0m\n",
            "\u001b[0;32m/usr/lib/python3.10/importlib/_bootstrap_external.py\u001b[0m in \u001b[0;36mfind_spec\u001b[0;34m(self, fullname, target)\u001b[0m\n",
            "\u001b[0;32m/usr/lib/python3.10/importlib/_bootstrap_external.py\u001b[0m in \u001b[0;36m_path_isfile\u001b[0;34m(path)\u001b[0m\n",
            "\u001b[0;32m/usr/lib/python3.10/importlib/_bootstrap_external.py\u001b[0m in \u001b[0;36m_path_is_mode_type\u001b[0;34m(path, mode)\u001b[0m\n",
            "\u001b[0;31mKeyboardInterrupt\u001b[0m: "
          ]
        }
      ]
    },
    {
      "cell_type": "markdown",
      "source": [],
      "metadata": {
        "id": "PWCx01gwUjco"
      }
    },
    {
      "cell_type": "markdown",
      "source": [],
      "metadata": {
        "id": "ciZ9G5DGMwu9"
      }
    }
  ]
}