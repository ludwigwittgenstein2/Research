{
  "nbformat": 4,
  "nbformat_minor": 0,
  "metadata": {
    "colab": {
      "provenance": [],
      "gpuType": "T4",
      "authorship_tag": "ABX9TyP2pOv+8N78Q0133ik2eNCg",
      "include_colab_link": true
    },
    "kernelspec": {
      "name": "python3",
      "display_name": "Python 3"
    },
    "language_info": {
      "name": "python"
    },
    "accelerator": "GPU"
  },
  "cells": [
    {
      "cell_type": "markdown",
      "metadata": {
        "id": "view-in-github",
        "colab_type": "text"
      },
      "source": [
        "<a href=\"https://colab.research.google.com/github/ludwigwittgenstein2/Research/blob/master/Information_Quality_Text.ipynb\" target=\"_parent\"><img src=\"https://colab.research.google.com/assets/colab-badge.svg\" alt=\"Open In Colab\"/></a>"
      ]
    },
    {
      "cell_type": "markdown",
      "source": [
        "#Information Quality of Text\n",
        "\n",
        "Dimensions:\n",
        "\n",
        "1. Relevance\n",
        "2. Consistency\n",
        "3. Accuracy\n",
        "\n"
      ],
      "metadata": {
        "id": "2wWoTcKE-gsF"
      }
    },
    {
      "cell_type": "markdown",
      "source": [
        "#Gpt-2 Text Generator\n"
      ],
      "metadata": {
        "id": "-6voorBx-r7I"
      }
    },
    {
      "cell_type": "code",
      "source": [
        "!pip install -q gpt-2-simple\n",
        "import gpt_2_simple as gpt2\n",
        "from datetime import datetime\n",
        "from google.colab import files\n"
      ],
      "metadata": {
        "id": "deIZHpnJ-tt8",
        "colab": {
          "base_uri": "https://localhost:8080/"
        },
        "outputId": "80f0573a-8d4d-4629-8eef-c11aaedb90bf"
      },
      "execution_count": 1,
      "outputs": [
        {
          "output_type": "stream",
          "name": "stdout",
          "text": [
            "  Preparing metadata (setup.py) ... \u001b[?25l\u001b[?25hdone\n",
            "  Building wheel for gpt-2-simple (setup.py) ... \u001b[?25l\u001b[?25hdone\n"
          ]
        }
      ]
    },
    {
      "cell_type": "code",
      "source": [
        "!nvidia-smi"
      ],
      "metadata": {
        "colab": {
          "base_uri": "https://localhost:8080/"
        },
        "id": "_y36pAWw-vQH",
        "outputId": "13314a82-92d2-4767-a243-f4c801786a2f"
      },
      "execution_count": 2,
      "outputs": [
        {
          "output_type": "stream",
          "name": "stdout",
          "text": [
            "Sat Oct 28 21:31:08 2023       \n",
            "+-----------------------------------------------------------------------------+\n",
            "| NVIDIA-SMI 525.105.17   Driver Version: 525.105.17   CUDA Version: 12.0     |\n",
            "|-------------------------------+----------------------+----------------------+\n",
            "| GPU  Name        Persistence-M| Bus-Id        Disp.A | Volatile Uncorr. ECC |\n",
            "| Fan  Temp  Perf  Pwr:Usage/Cap|         Memory-Usage | GPU-Util  Compute M. |\n",
            "|                               |                      |               MIG M. |\n",
            "|===============================+======================+======================|\n",
            "|   0  Tesla T4            Off  | 00000000:00:04.0 Off |                    0 |\n",
            "| N/A   42C    P8    11W /  70W |      0MiB / 15360MiB |      0%      Default |\n",
            "|                               |                      |                  N/A |\n",
            "+-------------------------------+----------------------+----------------------+\n",
            "                                                                               \n",
            "+-----------------------------------------------------------------------------+\n",
            "| Processes:                                                                  |\n",
            "|  GPU   GI   CI        PID   Type   Process name                  GPU Memory |\n",
            "|        ID   ID                                                   Usage      |\n",
            "|=============================================================================|\n",
            "|  No running processes found                                                 |\n",
            "+-----------------------------------------------------------------------------+\n"
          ]
        }
      ]
    },
    {
      "cell_type": "markdown",
      "source": [
        ">\n",
        "There are three released sizes of GPT-2:\n",
        "\n",
        "124M (default): the \"small\" model, 500MB on disk.\n",
        "\n",
        "355M: the \"medium\" model, 1.5GB on disk.\n",
        "\n",
        "774M: the \"large\" model, cannot currently be finetuned with Colaboratory but can be used to generate text from the pretrained model (see later in Notebook)\n",
        "\n",
        "1558M: the \"extra large\", true model. Will not work if a K80 GPU is attached to the notebook. (like 774M, it cannot be finetuned).\n"
      ],
      "metadata": {
        "id": "rintaMol-4Dt"
      }
    },
    {
      "cell_type": "code",
      "execution_count": 3,
      "metadata": {
        "colab": {
          "base_uri": "https://localhost:8080/"
        },
        "id": "R9CrvpVc-aN4",
        "outputId": "8dc5aa8b-94d0-48cc-9941-850c99712e1f"
      },
      "outputs": [
        {
          "output_type": "stream",
          "name": "stderr",
          "text": [
            "Fetching checkpoint: 1.05Mit [00:00, 3.84Git/s]                                                     \n",
            "Fetching encoder.json: 1.05Mit [00:00, 4.45Mit/s]\n",
            "Fetching hparams.json: 1.05Mit [00:00, 4.61Git/s]                                                   \n",
            "Fetching model.ckpt.data-00000-of-00001: 498Mit [00:07, 65.6Mit/s]                                  \n",
            "Fetching model.ckpt.index: 1.05Mit [00:00, 2.47Git/s]                                               \n",
            "Fetching model.ckpt.meta: 1.05Mit [00:00, 5.89Mit/s]\n",
            "Fetching vocab.bpe: 1.05Mit [00:00, 6.68Mit/s]\n"
          ]
        }
      ],
      "source": [
        "gpt2.download_gpt2(model_name=\"124M\")"
      ]
    },
    {
      "cell_type": "code",
      "source": [
        "gpt2.mount_gdrive()"
      ],
      "metadata": {
        "colab": {
          "base_uri": "https://localhost:8080/"
        },
        "id": "Q0fxnmdj_CQC",
        "outputId": "eb60bf06-b89f-46a3-fcdf-16945b331dd2"
      },
      "execution_count": 4,
      "outputs": [
        {
          "output_type": "stream",
          "name": "stdout",
          "text": [
            "Mounted at /content/drive\n"
          ]
        }
      ]
    },
    {
      "cell_type": "code",
      "source": [
        "file_name = \"CleanedDatasetEntire1.txt\""
      ],
      "metadata": {
        "id": "WGlOcknf_EBT"
      },
      "execution_count": 21,
      "outputs": []
    },
    {
      "cell_type": "code",
      "source": [
        "gpt2.copy_file_from_gdrive(file_name)"
      ],
      "metadata": {
        "id": "jk1DXkXC_IsR"
      },
      "execution_count": 22,
      "outputs": []
    },
    {
      "cell_type": "code",
      "source": [
        "sess = gpt2.start_tf_sess()\n",
        "\n",
        "gpt2.finetune(sess,\n",
        "              dataset=file_name,\n",
        "              model_name='124M',\n",
        "              steps=50,\n",
        "              restore_from='fresh',\n",
        "              run_name='run1',\n",
        "              print_every=10,\n",
        "              sample_every=200,\n",
        "              save_every=500,\n",
        "              reuse=True,\n",
        "              )"
      ],
      "metadata": {
        "colab": {
          "base_uri": "https://localhost:8080/"
        },
        "id": "8MejE25A_KJg",
        "outputId": "d1add084-6a9f-48f0-9ccf-8aaee4c8a99e"
      },
      "execution_count": 24,
      "outputs": [
        {
          "output_type": "stream",
          "name": "stdout",
          "text": [
            "Loading checkpoint models/124M/model.ckpt\n",
            "Loading dataset...\n"
          ]
        },
        {
          "output_type": "stream",
          "name": "stderr",
          "text": [
            "100%|██████████| 1/1 [00:00<00:00, 678.03it/s]"
          ]
        },
        {
          "output_type": "stream",
          "name": "stdout",
          "text": [
            "dataset has 17233 tokens\n",
            "Training...\n"
          ]
        },
        {
          "output_type": "stream",
          "name": "stderr",
          "text": [
            "\n"
          ]
        },
        {
          "output_type": "stream",
          "name": "stdout",
          "text": [
            "[10 | 26.92] loss=2.46 avg=2.46\n",
            "[20 | 50.09] loss=1.91 avg=2.18\n",
            "[30 | 73.66] loss=1.59 avg=1.98\n",
            "[40 | 96.76] loss=1.48 avg=1.86\n",
            "[50 | 119.71] loss=1.36 avg=1.76\n",
            "Saving checkpoint/run1/model-50\n"
          ]
        }
      ]
    },
    {
      "cell_type": "code",
      "source": [
        "gpt2.copy_checkpoint_to_gdrive(run_name='run1')"
      ],
      "metadata": {
        "id": "3NKKgBjZ_LhQ"
      },
      "execution_count": 35,
      "outputs": []
    },
    {
      "cell_type": "code",
      "source": [],
      "metadata": {
        "id": "wlSMsN8I_M99"
      },
      "execution_count": null,
      "outputs": []
    },
    {
      "cell_type": "code",
      "source": [
        "import tensorflow as tf\n",
        "tf.compat.v1.reset_default_graph()"
      ],
      "metadata": {
        "id": "2vIS-N2N_NBH"
      },
      "execution_count": 36,
      "outputs": []
    },
    {
      "cell_type": "code",
      "source": [
        "sess = gpt2.start_tf_sess()\n",
        "gpt2.load_gpt2(sess, run_name='run1')"
      ],
      "metadata": {
        "colab": {
          "base_uri": "https://localhost:8080/"
        },
        "id": "0X0QKsWB_PxZ",
        "outputId": "16102eb0-e343-4659-ffca-be56f768990f"
      },
      "execution_count": 37,
      "outputs": [
        {
          "output_type": "stream",
          "name": "stdout",
          "text": [
            "Loading checkpoint checkpoint/run1/model-50\n"
          ]
        }
      ]
    },
    {
      "cell_type": "code",
      "source": [
        "gpt2.generate(sess, run_name='run1', destination_path='generated_text.txt')"
      ],
      "metadata": {
        "id": "W2LkUKXF_RBF"
      },
      "execution_count": 34,
      "outputs": []
    },
    {
      "cell_type": "code",
      "source": [
        "gen_file = 'gpt2_gentext_{:%Y%m%d_%H%M%S}.txt'.format(datetime.utcnow())\n",
        "\n",
        "gpt2.generate_to_file(sess,\n",
        "                      destination_path=gen_file,\n",
        "                      length=500,\n",
        "                      temperature=0.7,\n",
        "                      nsamples=100,\n",
        "                      batch_size=20\n",
        "                      )"
      ],
      "metadata": {
        "id": "SXqUNVEQ_Ue9"
      },
      "execution_count": null,
      "outputs": []
    },
    {
      "cell_type": "code",
      "source": [
        "single_text = gpt2.generate(sess, return_as_list=False,destination_path='synthetic_GPT_2.txt' )\n",
        "print((single_text))"
      ],
      "metadata": {
        "colab": {
          "base_uri": "https://localhost:8080/"
        },
        "id": "GWIC7Myq_V2_",
        "outputId": "e4f49bd0-ec3c-4648-c04e-fc15ec63349d"
      },
      "execution_count": 39,
      "outputs": [
        {
          "output_type": "stream",
          "name": "stdout",
          "text": [
            "None\n"
          ]
        }
      ]
    },
    {
      "cell_type": "code",
      "source": [
        "import csv\n",
        "\n",
        "with open('single_text.txt', 'w') as f:\n",
        "\t# using csv.writer method from CSV package\n",
        "\twrite = csv.writer(f)\n",
        "\twrite.writerow(single_text)\n",
        "\n"
      ],
      "metadata": {
        "id": "aC7N4MoZAvXu"
      },
      "execution_count": 32,
      "outputs": []
    },
    {
      "cell_type": "code",
      "source": [],
      "metadata": {
        "colab": {
          "base_uri": "https://localhost:8080/"
        },
        "id": "bDpaqfbDDMAJ",
        "outputId": "dbed52f7-ba58-4d4f-ee71-10d7b755b0fb"
      },
      "execution_count": null,
      "outputs": [
        {
          "output_type": "stream",
          "name": "stdout",
          "text": [
            "\n"
          ]
        }
      ]
    },
    {
      "cell_type": "code",
      "source": [
        "import csv\n",
        "\n",
        "# Open a CSV file for writing and write the text to it\n",
        "with open('data.txt', 'w', newline='') as file:\n",
        "    writer = csv.writer(file)\n",
        "    writer.writerow(single_text)\n",
        "\n",
        "print(\"Data exported to data.txt successfully!\")\n"
      ],
      "metadata": {
        "colab": {
          "base_uri": "https://localhost:8080/"
        },
        "id": "BTrFwAUEAv87",
        "outputId": "6ca1de49-35e1-4e60-8230-415b4b6071a3"
      },
      "execution_count": 33,
      "outputs": [
        {
          "output_type": "stream",
          "name": "stdout",
          "text": [
            "Data exported to data.txt successfully!\n"
          ]
        }
      ]
    },
    {
      "cell_type": "code",
      "source": [],
      "metadata": {
        "id": "PqcwF4qFAy1j"
      },
      "execution_count": null,
      "outputs": []
    },
    {
      "cell_type": "markdown",
      "source": [
        "#Evaluate Quality of Text:\n"
      ],
      "metadata": {
        "id": "gXYfluAiBlU2"
      }
    },
    {
      "cell_type": "markdown",
      "source": [
        "KL-Divergence"
      ],
      "metadata": {
        "id": "yScjUjn8MWd-"
      }
    },
    {
      "cell_type": "code",
      "source": [
        "import csv\n",
        "import numpy as np\n",
        "import seaborn as sns\n",
        "from scipy.stats import entropy\n",
        "from sklearn.feature_extraction.text import CountVectorizer\n",
        "import matplotlib.pyplot as plt\n",
        "\n",
        "# Read the data from the first CSV file\n",
        "with open('/content/CleanedDatasetEntire1.txt', 'r') as file1:\n",
        "    reader1 = csv.reader(file1)\n",
        "    data1 = [row[0] for row in reader1]\n",
        "\n",
        "# Read the data from the second CSV file\n",
        "with open('/content/single_text.txt', 'r') as file2:\n",
        "    reader2 = csv.reader(file2)\n",
        "    data2 = [row[0] for row in reader2]\n",
        "\n",
        "# Convert the strings into a vector representation\n",
        "vectorizer = CountVectorizer()\n",
        "data1_vector = vectorizer.fit_transform(data1)\n",
        "data2_vector = vectorizer.transform(data2)\n",
        "\n",
        "# Convert the vector representation into a numpy array\n",
        "data1_array = data1_vector.toarray().sum(axis=0)\n",
        "data2_array = data2_vector.toarray().sum(axis=0)\n",
        "\n",
        "# Normalize the arrays\n",
        "data1_array = data1_array / data1_array.sum()\n",
        "data2_array = data2_array / data2_array.sum()\n",
        "\n",
        "# Add a small constant to all elements\n",
        "data1_array = data1_array + 1e-10\n",
        "data2_array = data2_array + 1e-10\n",
        "\n",
        "# Normalize the arrays again\n",
        "data1_array = data1_array / data1_array.sum()\n",
        "data2_array = data2_array / data2_array.sum()\n",
        "\n",
        "# Calculate the KL divergence between the two arrays\n",
        "kl_divergence = entropy(data1_array, data2_array)\n",
        "\n",
        "print(\"The KL divergence between the two arrays is:\", kl_divergence)\n",
        "\n",
        "# Plot the arrays using seaborn\n",
        "sns.distplot(data1_array, hist=False, label='GPT-2 generated')\n",
        "sns.distplot(data2_array, hist=False, label='US-Census Entire Dataset')\n",
        "plt.xlabel('Value')\n",
        "plt.ylabel('Probability')\n",
        "plt.title('Distributions of Synthetic  dataset and Original Name Address Dataset')\n",
        "plt.legend()\n",
        "plt.show()\n"
      ],
      "metadata": {
        "colab": {
          "base_uri": "https://localhost:8080/",
          "height": 883
        },
        "id": "V_ncG1amMY2l",
        "outputId": "490757a3-7b1e-426c-8f5d-4d0a951ddb9a"
      },
      "execution_count": 40,
      "outputs": [
        {
          "output_type": "stream",
          "name": "stdout",
          "text": [
            "The KL divergence between the two arrays is: 11.704128455529556\n"
          ]
        },
        {
          "output_type": "stream",
          "name": "stderr",
          "text": [
            "<ipython-input-40-ad68590a5a68>:45: UserWarning: \n",
            "\n",
            "`distplot` is a deprecated function and will be removed in seaborn v0.14.0.\n",
            "\n",
            "Please adapt your code to use either `displot` (a figure-level function with\n",
            "similar flexibility) or `kdeplot` (an axes-level function for kernel density plots).\n",
            "\n",
            "For a guide to updating your code to use the new functions, please see\n",
            "https://gist.github.com/mwaskom/de44147ed2974457ad6372750bbe5751\n",
            "\n",
            "  sns.distplot(data1_array, hist=False, label='GPT-2 generated')\n",
            "<ipython-input-40-ad68590a5a68>:46: UserWarning: \n",
            "\n",
            "`distplot` is a deprecated function and will be removed in seaborn v0.14.0.\n",
            "\n",
            "Please adapt your code to use either `displot` (a figure-level function with\n",
            "similar flexibility) or `kdeplot` (an axes-level function for kernel density plots).\n",
            "\n",
            "For a guide to updating your code to use the new functions, please see\n",
            "https://gist.github.com/mwaskom/de44147ed2974457ad6372750bbe5751\n",
            "\n",
            "  sns.distplot(data2_array, hist=False, label='US-Census Entire Dataset')\n"
          ]
        },
        {
          "output_type": "display_data",
          "data": {
            "text/plain": [
              "<Figure size 640x480 with 1 Axes>"
            ],
            "image/png": "[encoded data removed]"
          },
          "metadata": {}
        }
      ]
    },
    {
      "cell_type": "markdown",
      "source": [],
      "metadata": {
        "id": "4zbzPzKFk_63"
      }
    },
    {
      "cell_type": "markdown",
      "source": [],
      "metadata": {
        "id": "S7ApLvC4k__n"
      }
    },
    {
      "cell_type": "markdown",
      "source": [],
      "metadata": {
        "id": "Wz5niGL3OIzd"
      }
    },
    {
      "cell_type": "markdown",
      "source": [
        "#Cosine"
      ],
      "metadata": {
        "id": "MIcuE2VXMhGL"
      }
    },
    {
      "cell_type": "code",
      "source": [
        "import math\n",
        "import string\n",
        "from collections import Counter\n",
        "\n",
        "def read_file(file_name):\n",
        "    with open(file_name, 'r') as file:\n",
        "        return file.read()\n",
        "\n",
        "def clean_text(text):\n",
        "    text = text.lower()\n",
        "    text = text.translate(str.maketrans('', '', string.punctuation))\n",
        "    return text\n",
        "\n",
        "def get_cosine_similarity(text1, text2):\n",
        "    text1 = clean_text(text1)\n",
        "    text2 = clean_text(text2)\n",
        "\n",
        "    words1 = text1.split()\n",
        "    words2 = text2.split()\n",
        "\n",
        "    word_counts1 = Counter(words1)\n",
        "    word_counts2 = Counter(words2)\n",
        "\n",
        "    common_words = set(word_counts1.keys()) & set(word_counts2.keys())\n",
        "\n",
        "    dot_product = sum(word_counts1[word] * word_counts2[word] for word in common_words)\n",
        "    magnitude1 = math.sqrt(sum(word_counts1[word] ** 2 for word in word_counts1.keys()))\n",
        "    magnitude2 = math.sqrt(sum(word_counts2[word] ** 2 for word in word_counts2.keys()))\n",
        "\n",
        "    return dot_product / (magnitude1 * magnitude2)\n",
        "\n",
        "text1 = read_file('CleanedDatasetEntire1.txt')\n",
        "text2 = read_file('single_text.txt')\n",
        "\n",
        "cosine_similarity = get_cosine_similarity(text1, text2)\n",
        "\n",
        "print('Cosine Similarity between Synthetic dataset and original dataset:', cosine_similarity)\n"
      ],
      "metadata": {
        "colab": {
          "base_uri": "https://localhost:8080/"
        },
        "id": "e2_0TsIzBnWy",
        "outputId": "88a08423-e753-45a6-f74a-291b9d7ce80e"
      },
      "execution_count": 41,
      "outputs": [
        {
          "output_type": "stream",
          "name": "stdout",
          "text": [
            "Cosine Similarity between Synthetic dataset and original dataset: 0.758613854863566\n"
          ]
        }
      ]
    },
    {
      "cell_type": "markdown",
      "source": [
        "#Levenshtein Distance"
      ],
      "metadata": {
        "id": "0AEw5x5GOZtu"
      }
    },
    {
      "cell_type": "code",
      "source": [
        "!pip install python-Levenshtein\n"
      ],
      "metadata": {
        "colab": {
          "base_uri": "https://localhost:8080/"
        },
        "id": "LLKya2y8OJ3u",
        "outputId": "082adfce-378b-46b3-ed60-d72bdeb21091"
      },
      "execution_count": 42,
      "outputs": [
        {
          "output_type": "stream",
          "name": "stdout",
          "text": [
            "Collecting python-Levenshtein\n",
            "  Downloading python_Levenshtein-0.23.0-py3-none-any.whl (9.4 kB)\n",
            "Collecting Levenshtein==0.23.0 (from python-Levenshtein)\n",
            "  Downloading Levenshtein-0.23.0-cp310-cp310-manylinux_2_17_x86_64.manylinux2014_x86_64.whl (169 kB)\n",
            "\u001b[2K     \u001b[90m━━━━━━━━━━━━━━━━━━━━━━━━━━━━━━━━━━━━━━━━\u001b[0m \u001b[32m169.4/169.4 kB\u001b[0m \u001b[31m3.8 MB/s\u001b[0m eta \u001b[36m0:00:00\u001b[0m\n",
            "\u001b[?25hCollecting rapidfuzz<4.0.0,>=3.1.0 (from Levenshtein==0.23.0->python-Levenshtein)\n",
            "  Downloading rapidfuzz-3.4.0-cp310-cp310-manylinux_2_17_x86_64.manylinux2014_x86_64.whl (3.2 MB)\n",
            "\u001b[2K     \u001b[90m━━━━━━━━━━━━━━━━━━━━━━━━━━━━━━━━━━━━━━━━\u001b[0m \u001b[32m3.2/3.2 MB\u001b[0m \u001b[31m10.8 MB/s\u001b[0m eta \u001b[36m0:00:00\u001b[0m\n",
            "\u001b[?25hInstalling collected packages: rapidfuzz, Levenshtein, python-Levenshtein\n",
            "Successfully installed Levenshtein-0.23.0 python-Levenshtein-0.23.0 rapidfuzz-3.4.0\n"
          ]
        }
      ]
    },
    {
      "cell_type": "code",
      "source": [
        "import Levenshtein\n",
        "\n",
        "# Function to read the contents of a text file\n",
        "def read_file(filename):\n",
        "    with open(filename, 'r', encoding='utf-8') as file:\n",
        "        return file.read()\n",
        "\n",
        "# Read the contents of the two files\n",
        "file1_contents = read_file('CleanedDatasetEntire1.txt')\n",
        "file2_contents = read_file('single_text.txt')\n",
        "\n",
        "# Calculate the Levenshtein distance\n",
        "distance = Levenshtein.distance(file1_contents, file2_contents)\n",
        "\n",
        "# Print the result\n",
        "print(f\"Levenshtein distance between the two files: {distance}\")"
      ],
      "metadata": {
        "colab": {
          "base_uri": "https://localhost:8080/"
        },
        "id": "PHZfrS9wOLA1",
        "outputId": "919a5f53-b18c-410f-dfc7-3c30e05d4bec"
      },
      "execution_count": 43,
      "outputs": [
        {
          "output_type": "stream",
          "name": "stdout",
          "text": [
            "Levenshtein distance between the two files: 36229\n"
          ]
        }
      ]
    },
    {
      "cell_type": "markdown",
      "source": [
        "#Kolmogorov-Smirnov"
      ],
      "metadata": {
        "id": "-bsxdKVmOwCp"
      }
    },
    {
      "cell_type": "markdown",
      "source": [],
      "metadata": {
        "id": "kBnm0sHhOcoM"
      }
    },
    {
      "cell_type": "code",
      "source": [
        "from scipy.stats import ks_2samp\n",
        "\n",
        "# Function to read the contents of a text file and calculate the word lengths\n",
        "def calculate_word_lengths(filename):\n",
        "    with open(filename, 'r', encoding='utf-8') as file:\n",
        "        text = file.read()\n",
        "        # Split the text into words and calculate word lengths\n",
        "        word_lengths = [len(word) for word in text.split()]\n",
        "        return word_lengths\n",
        "\n",
        "# Read the contents of the two files and calculate word lengths\n",
        "word_lengths1 = calculate_word_lengths('CleanedDatasetEntire1.txt')\n",
        "word_lengths2 = calculate_word_lengths('single_text.txt')\n",
        "\n",
        "# Perform the Kolmogorov-Smirnov test\n",
        "ks_statistic, p_value = ks_2samp(word_lengths1, word_lengths2)\n",
        "\n",
        "# Print the result\n",
        "print(f\"KS Statistic: {ks_statistic}\")\n",
        "print(f\"P-Value: {p_value}\")\n",
        "\n",
        "# Determine the result based on the p-value\n",
        "if p_value < 0.05:\n",
        "    print(\"The distributions are significantly different.\")\n",
        "else:\n",
        "    print(\"The distributions are not significantly different.\")\n"
      ],
      "metadata": {
        "colab": {
          "base_uri": "https://localhost:8080/"
        },
        "id": "cv-0XgJ3M4-D",
        "outputId": "57e18133-fe02-40b4-8356-bd5816a4c365"
      },
      "execution_count": 44,
      "outputs": [
        {
          "output_type": "stream",
          "name": "stdout",
          "text": [
            "KS Statistic: 0.05013419410510688\n",
            "P-Value: 0.26023676964783\n",
            "The distributions are not significantly different.\n"
          ]
        }
      ]
    },
    {
      "cell_type": "markdown",
      "source": [
        "#Pearson Correlation"
      ],
      "metadata": {
        "id": "v5IKHXQBPI3v"
      }
    },
    {
      "cell_type": "code",
      "source": [
        "import collections\n",
        "import math\n",
        "\n",
        "# Function to read the contents of a text file and calculate word frequencies\n",
        "def calculate_word_frequencies(filename):\n",
        "    with open(filename, 'r', encoding='utf-8') as file:\n",
        "        text = file.read()\n",
        "        words = text.split()\n",
        "        word_counts = collections.Counter(words)\n",
        "        return word_counts\n",
        "\n",
        "# Read the contents of the two files and calculate word frequencies\n",
        "word_frequencies1 = calculate_word_frequencies('CleanedDatasetEntire1.txt')\n",
        "word_frequencies2 = calculate_word_frequencies('single_text.txt')\n",
        "\n",
        "# Create sets of unique words from both texts\n",
        "unique_words = set(word_frequencies1.keys()).union(word_frequencies2.keys())\n",
        "\n",
        "# Convert word frequencies to a common format, considering words that may be missing\n",
        "word_counts1 = [word_frequencies1[word] if word in word_frequencies1 else 0 for word in unique_words]\n",
        "word_counts2 = [word_frequencies2[word] if word in word_frequencies2 else 0 for word in unique_words]\n",
        "\n",
        "# Calculate the Pearson correlation\n",
        "def pearson_correlation(x, y):\n",
        "    n = len(x)\n",
        "    sum_x = sum(x)\n",
        "    sum_y = sum(y)\n",
        "    sum_x_squared = sum(xi ** 2 for xi in x)\n",
        "    sum_y_squared = sum(yi ** 2 for yi in y)\n",
        "    product_sum = sum(xi * yi for xi, yi in zip(x, y))\n",
        "    numerator = product_sum - (sum_x * sum_y / n)\n",
        "    denominator = math.sqrt((sum_x_squared - (sum_x ** 2 / n)) * (sum_y_squared - (sum_y ** 2 / n)))\n",
        "    if denominator == 0:\n",
        "        return 0  # To handle the case where the denominator is zero\n",
        "    else:\n",
        "        return numerator / denominator\n",
        "\n",
        "correlation = pearson_correlation(word_counts1, word_counts2)\n",
        "\n",
        "# Print the Pearson correlation coefficient\n",
        "print(f\"Pearson Correlation: {correlation}\")\n"
      ],
      "metadata": {
        "colab": {
          "base_uri": "https://localhost:8080/"
        },
        "id": "TU4MBfC4O0pK",
        "outputId": "1bbc0e90-d248-45d1-a6f8-6f27b62a9e07"
      },
      "execution_count": 45,
      "outputs": [
        {
          "output_type": "stream",
          "name": "stdout",
          "text": [
            "Pearson Correlation: 0.8289836512421701\n"
          ]
        }
      ]
    },
    {
      "cell_type": "markdown",
      "source": [
        "#Jaccard Distance"
      ],
      "metadata": {
        "id": "WgxvkGlZPNAk"
      }
    },
    {
      "cell_type": "code",
      "source": [
        "# Function to read the contents of a text file and tokenize it\n",
        "def tokenize_text(filename):\n",
        "    with open(filename, 'r', encoding='utf-8') as file:\n",
        "        text = file.read()\n",
        "        # Tokenize the text by splitting it into words (you can use more advanced tokenization methods if needed)\n",
        "        tokens = set(text.split())\n",
        "        return tokens\n",
        "\n",
        "# Read the contents of the two files and tokenize them\n",
        "tokens1 = tokenize_text('CleanedDatasetEntire1.txt')\n",
        "tokens2 = tokenize_text('single_text.txt')\n",
        "\n",
        "# Calculate the Jaccard similarity\n",
        "intersection = len(tokens1.intersection(tokens2))\n",
        "union = len(tokens1.union(tokens2))\n",
        "\n",
        "jaccard_similarity = intersection / union\n",
        "\n",
        "# Print the Jaccard similarity\n",
        "print(f\"Jaccard Similarity: {jaccard_similarity:.2f}\")\n"
      ],
      "metadata": {
        "colab": {
          "base_uri": "https://localhost:8080/"
        },
        "id": "bBnWUE3sPWk2",
        "outputId": "902ac50a-d9bb-41cb-fecf-3c50e810fe75"
      },
      "execution_count": 46,
      "outputs": [
        {
          "output_type": "stream",
          "name": "stdout",
          "text": [
            "Jaccard Similarity: 0.04\n"
          ]
        }
      ]
    },
    {
      "cell_type": "markdown",
      "source": [
        "# Jaccard Similiarity"
      ],
      "metadata": {
        "id": "z_L5DazBPrKz"
      }
    },
    {
      "cell_type": "code",
      "source": [
        "# Function to read the contents of a text file and tokenize it\n",
        "def tokenize_text(filename):\n",
        "    with open(filename, 'r', encoding='utf-8') as file:\n",
        "        text = file.read()\n",
        "        # Tokenize the text by splitting it into words (you can use more advanced tokenization methods if needed)\n",
        "        tokens = set(text.split())\n",
        "        return tokens\n",
        "\n",
        "# Read the contents of the two files and tokenize them\n",
        "tokens1 = tokenize_text('CleanedDatasetEntire1.txt')\n",
        "tokens2 = tokenize_text('single_text.txt')\n",
        "\n",
        "# Calculate the Jaccard distance\n",
        "intersection = len(tokens1.intersection(tokens2))\n",
        "union = len(tokens1.union(tokens2))\n",
        "\n",
        "jaccard_similarity = intersection / union\n",
        "jaccard_distance = 1 - jaccard_similarity\n",
        "\n",
        "# Print the Jaccard distance\n",
        "print(f\"Jaccard Distance: {jaccard_distance:.2f}\")\n"
      ],
      "metadata": {
        "colab": {
          "base_uri": "https://localhost:8080/"
        },
        "id": "fpWYGfURPhW5",
        "outputId": "35c2956c-47b1-4972-f7a5-0b2e4b9d2242"
      },
      "execution_count": 47,
      "outputs": [
        {
          "output_type": "stream",
          "name": "stdout",
          "text": [
            "Jaccard Distance: 0.96\n"
          ]
        }
      ]
    },
    {
      "cell_type": "code",
      "source": [
        "!pip install gensim"
      ],
      "metadata": {
        "colab": {
          "base_uri": "https://localhost:8080/"
        },
        "id": "YVAQGYNKQsa-",
        "outputId": "f019859d-eb04-4424-f21b-7445dbaa9608"
      },
      "execution_count": 48,
      "outputs": [
        {
          "output_type": "stream",
          "name": "stdout",
          "text": [
            "Requirement already satisfied: gensim in /usr/local/lib/python3.10/dist-packages (4.3.2)\n",
            "Requirement already satisfied: numpy>=1.18.5 in /usr/local/lib/python3.10/dist-packages (from gensim) (1.23.5)\n",
            "Requirement already satisfied: scipy>=1.7.0 in /usr/local/lib/python3.10/dist-packages (from gensim) (1.11.3)\n",
            "Requirement already satisfied: smart-open>=1.8.1 in /usr/local/lib/python3.10/dist-packages (from gensim) (6.4.0)\n"
          ]
        }
      ]
    },
    {
      "cell_type": "code",
      "source": [],
      "metadata": {
        "id": "vfBNSUK6ROhm"
      },
      "execution_count": null,
      "outputs": []
    },
    {
      "cell_type": "markdown",
      "source": [
        "#Word Embedding Similarity"
      ],
      "metadata": {
        "id": "MXQLdnDwUd7m"
      }
    },
    {
      "cell_type": "code",
      "source": [
        "!python -m spacy download en_core_web_lg\n",
        "!python -m spacy download en_core_web_sm"
      ],
      "metadata": {
        "colab": {
          "base_uri": "https://localhost:8080/"
        },
        "id": "KaNMARsSUC8N",
        "outputId": "914d6542-25b4-484c-f12e-d9e14ce0e84e"
      },
      "execution_count": null,
      "outputs": [
        {
          "output_type": "stream",
          "name": "stdout",
          "text": [
            "2023-10-28 22:01:08.156731: E tensorflow/compiler/xla/stream_executor/cuda/cuda_dnn.cc:9342] Unable to register cuDNN factory: Attempting to register factory for plugin cuDNN when one has already been registered\n",
            "2023-10-28 22:01:08.156795: E tensorflow/compiler/xla/stream_executor/cuda/cuda_fft.cc:609] Unable to register cuFFT factory: Attempting to register factory for plugin cuFFT when one has already been registered\n",
            "2023-10-28 22:01:08.156834: E tensorflow/compiler/xla/stream_executor/cuda/cuda_blas.cc:1518] Unable to register cuBLAS factory: Attempting to register factory for plugin cuBLAS when one has already been registered\n",
            "2023-10-28 22:01:11.220407: W tensorflow/compiler/tf2tensorrt/utils/py_utils.cc:38] TF-TRT Warning: Could not find TensorRT\n",
            "Collecting en-core-web-lg==3.6.0\n",
            "  Downloading https://github.com/explosion/spacy-models/releases/download/en_core_web_lg-3.6.0/en_core_web_lg-3.6.0-py3-none-any.whl (587.7 MB)\n",
            "\u001b[2K     \u001b[91m━━━━━━━━━━━━━━━━━━━━━\u001b[0m\u001b[90m╺\u001b[0m\u001b[90m━━━━━━━━━━━━━━━━━━\u001b[0m \u001b[32m314.1/587.7 MB\u001b[0m \u001b[31m83.4 MB/s\u001b[0m eta \u001b[36m0:00:04\u001b[0m"
          ]
        }
      ]
    },
    {
      "cell_type": "code",
      "source": [
        "import spacy\n",
        "\n",
        "# Load the spaCy model with word vectors (you can use other models as well)\n",
        "nlp = spacy.load(\"en_core_web_sm\")\n",
        "\n",
        "# Read the contents of \"CleanedDatasetEntire1.txt\" and \"single_text.txt\"\n",
        "with open(\"CleanedDatasetEntire1.txt\", \"r\", encoding=\"utf-8\") as file:\n",
        "    text1 = file.read()\n",
        "\n",
        "with open(\"single_text.txt\", \"r\", encoding=\"utf-8\") as file:\n",
        "    text2 = file.read()\n",
        "\n",
        "# Process the text with spaCy\n",
        "doc1 = nlp(text1)\n",
        "doc2 = nlp(text2)\n",
        "\n",
        "# Calculate the similarity between the two documents (cosine similarity)\n",
        "similarity = doc1.similarity(doc2)\n",
        "\n",
        "print(f\"Word Embedding Similarity: {similarity:.2f}\")\n"
      ],
      "metadata": {
        "id": "OZh3kSdVQsu0"
      },
      "execution_count": null,
      "outputs": []
    },
    {
      "cell_type": "markdown",
      "source": [
        "#BLEU SCORE"
      ],
      "metadata": {
        "id": "GXJJwFz8UwOP"
      }
    },
    {
      "cell_type": "code",
      "source": [
        "!pip install nltk\n"
      ],
      "metadata": {
        "id": "Wv3Ubu-oUx1m"
      },
      "execution_count": null,
      "outputs": []
    },
    {
      "cell_type": "code",
      "source": [
        "import nltk\n",
        "from nltk.translate.bleu_score import sentence_bleu\n",
        "\n",
        "# Read the contents of \"CleanedDatasetEntire1.txt\" and \"single_text.txt\"\n",
        "with open(\"CleanedDatasetEntire1.txt\", \"r\", encoding=\"utf-8\") as file:\n",
        "    reference_text = file.read()\n",
        "\n",
        "with open(\"single_text.txt\", \"r\", encoding=\"utf-8\") as file:\n",
        "    candidate_text = file.read()\n",
        "\n",
        "# Tokenize the reference and candidate texts\n",
        "reference_tokens = nltk.word_tokenize(reference_text)\n",
        "candidate_tokens = nltk.word_tokenize(candidate_text)\n",
        "\n",
        "# Calculate the BLEU Score\n",
        "bleu_score = sentence_bleu([reference_tokens], candidate_tokens)\n",
        "\n",
        "print(f\"BLEU Score: {bleu_score:.2f}\")\n"
      ],
      "metadata": {
        "id": "kvUoIUE6Uy6G"
      },
      "execution_count": null,
      "outputs": []
    },
    {
      "cell_type": "markdown",
      "source": [
        "#Precision, Recall, F-1"
      ],
      "metadata": {
        "id": "wSZgTXYKf5ML"
      }
    },
    {
      "cell_type": "code",
      "source": [
        "from sklearn.metrics import accuracy_score, precision_score, recall_score, f1_score\n",
        "\n",
        "# Read the contents of \"CleanedDatasetEntire1.txt\" and \"single_text.txt\"\n",
        "with open(\"CleanedDatasetEntire1.txt\", \"r\", encoding=\"utf-8\") as file:\n",
        "    text1 = file.read()\n",
        "\n",
        "with open(\"single_text.txt\", \"r\", encoding=\"utf-8\") as file:\n",
        "    text2 = file.read()\n",
        "\n",
        "# Assuming you have binary labels (0 for incorrect, 1 for correct) for both texts\n",
        "labels1 = [1, 0]  # Replace with the actual labels for \"CleanedDatasetEntire1.txt\"\n",
        "labels2 = [1, 1]  # Replace with the actual labels for \"single_text.txt\"\n",
        "\n",
        "# Calculate the F1 score, accuracy, precision, and recall\n",
        "f1 = f1_score(labels1, labels2)\n",
        "accuracy = accuracy_score(labels1, labels2)\n",
        "precision = precision_score(labels1, labels2)\n",
        "recall = recall_score(labels1, labels2)\n",
        "\n",
        "print(f\"F1 Score: {f1:.2f}\")\n",
        "print(f\"Accuracy: {accuracy:.2f}\")\n",
        "print(f\"Precision: {precision:.2f}\")\n",
        "print(f\"Recall: {recall:.2f}\")\n"
      ],
      "metadata": {
        "id": "--AdVg44f7Q-"
      },
      "execution_count": null,
      "outputs": []
    },
    {
      "cell_type": "markdown",
      "source": [
        "#"
      ],
      "metadata": {
        "id": "YwW1AS14fhet"
      }
    },
    {
      "cell_type": "code",
      "source": [],
      "metadata": {
        "id": "wQ6Lonn-UCKd"
      },
      "execution_count": null,
      "outputs": []
    },
    {
      "cell_type": "markdown",
      "source": [
        "#LSTM Synthetic dataset"
      ],
      "metadata": {
        "id": "IiO8qbSElAzk"
      }
    },
    {
      "cell_type": "code",
      "source": [
        "import numpy as np\n",
        "from keras.models import Sequential\n",
        "from keras.layers import LSTM, Dense, Embedding\n",
        "from keras.preprocessing.text import Tokenizer\n",
        "from keras.preprocessing.sequence import pad_sequences\n",
        "from keras.utils import to_categorical\n",
        "\n",
        "# 1. Preprocess the data\n",
        "with open(\"CleanedDatasetEntire1.txt\", \"r\") as file:\n",
        "    text = file.read()\n",
        "\n",
        "# Tokenize the text\n",
        "tokenizer = Tokenizer()\n",
        "tokenizer.fit_on_texts([text])\n",
        "vocab_size = len(tokenizer.word_index) + 1\n",
        "\n",
        "# Convert text to sequences of integers\n",
        "sequences = []\n",
        "for line in text.split(\"\\n\"):\n",
        "    encoded = tokenizer.texts_to_sequences([line])[0]\n",
        "    for i in range(1, len(encoded)):\n",
        "        sequences.append(encoded[:i+1])\n",
        "\n",
        "# Pad sequences for consistent length\n",
        "max_length = max([len(seq) for seq in sequences])\n",
        "sequences = pad_sequences(sequences, maxlen=max_length, padding='pre')\n",
        "\n",
        "# Split sequences into input and output elements\n",
        "X, y = sequences[:,:-1], sequences[:,-1]\n",
        "y = to_categorical(y, num_classes=vocab_size)\n",
        "\n",
        "# 2. Create an LSTM model\n",
        "model = Sequential()\n",
        "model.add(Embedding(vocab_size, 50, input_length=max_length-1))\n",
        "model.add(LSTM(100))\n",
        "model.add(Dense(vocab_size, activation='softmax'))\n",
        "model.compile(loss='categorical_crossentropy', optimizer='adam', metrics=['accuracy'])\n",
        "\n",
        "# 3. Train the model\n",
        "model.fit(X, y, epochs=20, verbose=2)\n",
        "\n",
        "# 4. Generate synthetic data\n",
        "def generate_text(seed_text, model, max_length, num_words):\n",
        "    output_text = seed_text\n",
        "    for _ in range(num_words):\n",
        "        encoded = tokenizer.texts_to_sequences([seed_text])[0]\n",
        "        encoded = pad_sequences([encoded], maxlen=max_length-1, padding='pre')\n",
        "        prediction = np.argmax(model.predict(encoded), axis=-1)\n",
        "        predicted_word = \"\"\n",
        "        for word, index in tokenizer.word_index.items():\n",
        "            if index == prediction:\n",
        "                predicted_word = word\n",
        "                break\n",
        "        seed_text += \" \" + predicted_word\n",
        "        output_text += \" \" + predicted_word\n",
        "    return output_text\n",
        "\n",
        "# Generate new text based on a seed\n",
        "seed = \"This is a\"\n",
        "synthetic_data = generate_text(seed, model, max_length, 500)  # Generating 500 words\n",
        "\n",
        "# Save synthetic data to file\n",
        "with open(\"LSTMtraining.txt\", \"w\") as output_file:\n",
        "    output_file.write(synthetic_data)\n",
        "\n",
        "print(\"Synthetic data saved to LSTMtraining.txt!\")\n"
      ],
      "metadata": {
        "id": "jhoyJi73lDGL"
      },
      "execution_count": null,
      "outputs": []
    },
    {
      "cell_type": "markdown",
      "source": [
        "#BART_Training"
      ],
      "metadata": {
        "id": "GouwIyDvr0Sz"
      }
    },
    {
      "cell_type": "code",
      "source": [
        "!pip install transformers"
      ],
      "metadata": {
        "colab": {
          "base_uri": "https://localhost:8080/"
        },
        "id": "xukGQDCgr33N",
        "outputId": "bb09b622-ea0f-40e1-96bf-57f94e1b6559"
      },
      "execution_count": null,
      "outputs": [
        {
          "output_type": "stream",
          "name": "stdout",
          "text": [
            "Collecting transformers\n",
            "  Downloading transformers-4.34.1-py3-none-any.whl (7.7 MB)\n",
            "\u001b[2K     \u001b[90m━━━━━━━━━━━━━━━━━━━━━━━━━━━━━━━━━━━━━━━━\u001b[0m \u001b[32m7.7/7.7 MB\u001b[0m \u001b[31m14.1 MB/s\u001b[0m eta \u001b[36m0:00:00\u001b[0m\n",
            "\u001b[?25hRequirement already satisfied: filelock in /usr/local/lib/python3.10/dist-packages (from transformers) (3.12.4)\n",
            "Collecting huggingface-hub<1.0,>=0.16.4 (from transformers)\n",
            "  Downloading huggingface_hub-0.18.0-py3-none-any.whl (301 kB)\n",
            "\u001b[2K     \u001b[90m━━━━━━━━━━━━━━━━━━━━━━━━━━━━━━━━━━━━━━━━\u001b[0m \u001b[32m302.0/302.0 kB\u001b[0m \u001b[31m29.7 MB/s\u001b[0m eta \u001b[36m0:00:00\u001b[0m\n",
            "\u001b[?25hRequirement already satisfied: numpy>=1.17 in /usr/local/lib/python3.10/dist-packages (from transformers) (1.23.5)\n",
            "Requirement already satisfied: packaging>=20.0 in /usr/local/lib/python3.10/dist-packages (from transformers) (23.2)\n",
            "Requirement already satisfied: pyyaml>=5.1 in /usr/local/lib/python3.10/dist-packages (from transformers) (6.0.1)\n",
            "Requirement already satisfied: regex!=2019.12.17 in /usr/local/lib/python3.10/dist-packages (from transformers) (2023.6.3)\n",
            "Requirement already satisfied: requests in /usr/local/lib/python3.10/dist-packages (from transformers) (2.31.0)\n",
            "Collecting tokenizers<0.15,>=0.14 (from transformers)\n",
            "  Downloading tokenizers-0.14.1-cp310-cp310-manylinux_2_17_x86_64.manylinux2014_x86_64.whl (3.8 MB)\n",
            "\u001b[2K     \u001b[90m━━━━━━━━━━━━━━━━━━━━━━━━━━━━━━━━━━━━━━━━\u001b[0m \u001b[32m3.8/3.8 MB\u001b[0m \u001b[31m35.2 MB/s\u001b[0m eta \u001b[36m0:00:00\u001b[0m\n",
            "\u001b[?25hCollecting safetensors>=0.3.1 (from transformers)\n",
            "  Downloading safetensors-0.4.0-cp310-cp310-manylinux_2_17_x86_64.manylinux2014_x86_64.whl (1.3 MB)\n",
            "\u001b[2K     \u001b[90m━━━━━━━━━━━━━━━━━━━━━━━━━━━━━━━━━━━━━━━━\u001b[0m \u001b[32m1.3/1.3 MB\u001b[0m \u001b[31m37.7 MB/s\u001b[0m eta \u001b[36m0:00:00\u001b[0m\n",
            "\u001b[?25hRequirement already satisfied: tqdm>=4.27 in /usr/local/lib/python3.10/dist-packages (from transformers) (4.66.1)\n",
            "Requirement already satisfied: fsspec>=2023.5.0 in /usr/local/lib/python3.10/dist-packages (from huggingface-hub<1.0,>=0.16.4->transformers) (2023.6.0)\n",
            "Requirement already satisfied: typing-extensions>=3.7.4.3 in /usr/local/lib/python3.10/dist-packages (from huggingface-hub<1.0,>=0.16.4->transformers) (4.5.0)\n",
            "Collecting huggingface-hub<1.0,>=0.16.4 (from transformers)\n",
            "  Downloading huggingface_hub-0.17.3-py3-none-any.whl (295 kB)\n",
            "\u001b[2K     \u001b[90m━━━━━━━━━━━━━━━━━━━━━━━━━━━━━━━━━━━━━━━━\u001b[0m \u001b[32m295.0/295.0 kB\u001b[0m \u001b[31m32.4 MB/s\u001b[0m eta \u001b[36m0:00:00\u001b[0m\n",
            "\u001b[?25hRequirement already satisfied: charset-normalizer<4,>=2 in /usr/local/lib/python3.10/dist-packages (from requests->transformers) (3.3.1)\n",
            "Requirement already satisfied: idna<4,>=2.5 in /usr/local/lib/python3.10/dist-packages (from requests->transformers) (3.4)\n",
            "Requirement already satisfied: urllib3<3,>=1.21.1 in /usr/local/lib/python3.10/dist-packages (from requests->transformers) (2.0.7)\n",
            "Requirement already satisfied: certifi>=2017.4.17 in /usr/local/lib/python3.10/dist-packages (from requests->transformers) (2023.7.22)\n",
            "Installing collected packages: safetensors, huggingface-hub, tokenizers, transformers\n",
            "Successfully installed huggingface-hub-0.17.3 safetensors-0.4.0 tokenizers-0.14.1 transformers-4.34.1\n"
          ]
        }
      ]
    },
    {
      "cell_type": "code",
      "source": [],
      "metadata": {
        "colab": {
          "base_uri": "https://localhost:8080/"
        },
        "id": "Qae-L_5ixMZ2",
        "outputId": "7f03ff0f-cb1b-48cd-b668-ba0c335838f5"
      },
      "execution_count": null,
      "outputs": [
        {
          "output_type": "stream",
          "name": "stdout",
          "text": [
            "\u001b[31mERROR: Could not find a version that satisfies the requirement leakgan (from versions: none)\u001b[0m\u001b[31m\n",
            "\u001b[0m\u001b[31mERROR: No matching distribution found for leakgan\u001b[0m\u001b[31m\n",
            "\u001b[0m"
          ]
        }
      ]
    },
    {
      "cell_type": "code",
      "source": [
        "from transformers import GPTJForCausalLM, GPT2Tokenizer\n",
        "import torch\n",
        "\n",
        "# Load the model and tokenizer\n",
        "model_name = \"EleutherAI/gpt-j-6B\"\n",
        "model = GPTJForCausalLM.from_pretrained(model_name)\n",
        "tokenizer = GPT2Tokenizer.from_pretrained(model_name)\n",
        "\n",
        "# Load the input data\n",
        "with open(\"CleanedDatasetEntire1.txt\", \"r\") as file:\n",
        "    data = file.read()\n",
        "\n",
        "# Tokenize the input data\n",
        "input_ids = tokenizer.encode(data, return_tensors=\"pt\")\n",
        "\n",
        "# Generate synthetic data\n",
        "output = model.generate(input_ids, max_length=1000, num_return_sequences=5, pad_token_id=tokenizer.eos_token_id)\n",
        "\n",
        "# Decode and save the generated data\n",
        "with open(\"GPT-Jtraining.txt\", \"w\") as file:\n",
        "    for item in output:\n",
        "        file.write(tokenizer.decode(item, skip_special_tokens=True) + \"\\n\\n\")\n",
        "\n",
        "print(\"Synthetic data saved to GPT-Jtraining.txt\")\n"
      ],
      "metadata": {
        "colab": {
          "base_uri": "https://localhost:8080/",
          "height": 310
        },
        "id": "vJ5qd_HWr2WQ",
        "outputId": "e1aa66c9-cc51-425a-8db4-1ae2000bdd9b"
      },
      "execution_count": null,
      "outputs": [
        {
          "output_type": "error",
          "ename": "KeyboardInterrupt",
          "evalue": "ignored",
          "traceback": [
            "\u001b[0;31m---------------------------------------------------------------------------\u001b[0m",
            "\u001b[0;31mFileNotFoundError\u001b[0m                         Traceback (most recent call last)",
            "\u001b[0;32m/usr/lib/python3.10/importlib/_bootstrap_external.py\u001b[0m in \u001b[0;36m_path_is_mode_type\u001b[0;34m(path, mode)\u001b[0m\n",
            "\u001b[0;32m/usr/lib/python3.10/importlib/_bootstrap_external.py\u001b[0m in \u001b[0;36m_path_stat\u001b[0;34m(path)\u001b[0m\n",
            "\u001b[0;31mFileNotFoundError\u001b[0m: [Errno 2] No such file or directory: '/usr/local/lib/python3.10/dist-packages/transformers/models/big_bird/__init__.cpython-310-x86_64-linux-gnu.so'",
            "\nDuring handling of the above exception, another exception occurred:\n",
            "\u001b[0;31mKeyboardInterrupt\u001b[0m                         Traceback (most recent call last)",
            "\u001b[0;32m<ipython-input-1-762fc3ffb279>\u001b[0m in \u001b[0;36m<cell line: 1>\u001b[0;34m()\u001b[0m\n\u001b[0;32m----> 1\u001b[0;31m \u001b[0;32mfrom\u001b[0m \u001b[0mtransformers\u001b[0m \u001b[0;32mimport\u001b[0m \u001b[0mGPTJForCausalLM\u001b[0m\u001b[0;34m,\u001b[0m \u001b[0mGPT2Tokenizer\u001b[0m\u001b[0;34m\u001b[0m\u001b[0;34m\u001b[0m\u001b[0m\n\u001b[0m\u001b[1;32m      2\u001b[0m \u001b[0;32mimport\u001b[0m \u001b[0mtorch\u001b[0m\u001b[0;34m\u001b[0m\u001b[0;34m\u001b[0m\u001b[0m\n\u001b[1;32m      3\u001b[0m \u001b[0;34m\u001b[0m\u001b[0m\n\u001b[1;32m      4\u001b[0m \u001b[0;31m# Load the model and tokenizer\u001b[0m\u001b[0;34m\u001b[0m\u001b[0;34m\u001b[0m\u001b[0m\n\u001b[1;32m      5\u001b[0m \u001b[0mmodel_name\u001b[0m \u001b[0;34m=\u001b[0m \u001b[0;34m\"EleutherAI/gpt-j-6B\"\u001b[0m\u001b[0;34m\u001b[0m\u001b[0;34m\u001b[0m\u001b[0m\n",
            "\u001b[0;32m/usr/lib/python3.10/importlib/_bootstrap.py\u001b[0m in \u001b[0;36m_handle_fromlist\u001b[0;34m(module, fromlist, import_, recursive)\u001b[0m\n",
            "\u001b[0;32m/usr/local/lib/python3.10/dist-packages/transformers/utils/import_utils.py\u001b[0m in \u001b[0;36m__getattr__\u001b[0;34m(self, name)\u001b[0m\n\u001b[1;32m   1270\u001b[0m             \u001b[0mvalue\u001b[0m \u001b[0;34m=\u001b[0m \u001b[0mself\u001b[0m\u001b[0;34m.\u001b[0m\u001b[0m_get_module\u001b[0m\u001b[0;34m(\u001b[0m\u001b[0mname\u001b[0m\u001b[0;34m)\u001b[0m\u001b[0;34m\u001b[0m\u001b[0;34m\u001b[0m\u001b[0m\n\u001b[1;32m   1271\u001b[0m         \u001b[0;32melif\u001b[0m \u001b[0mname\u001b[0m \u001b[0;32min\u001b[0m \u001b[0mself\u001b[0m\u001b[0;34m.\u001b[0m\u001b[0m_class_to_module\u001b[0m\u001b[0;34m.\u001b[0m\u001b[0mkeys\u001b[0m\u001b[0;34m(\u001b[0m\u001b[0;34m)\u001b[0m\u001b[0;34m:\u001b[0m\u001b[0;34m\u001b[0m\u001b[0;34m\u001b[0m\u001b[0m\n\u001b[0;32m-> 1272\u001b[0;31m             \u001b[0mmodule\u001b[0m \u001b[0;34m=\u001b[0m \u001b[0mself\u001b[0m\u001b[0;34m.\u001b[0m\u001b[0m_get_module\u001b[0m\u001b[0;34m(\u001b[0m\u001b[0mself\u001b[0m\u001b[0;34m.\u001b[0m\u001b[0m_class_to_module\u001b[0m\u001b[0;34m[\u001b[0m\u001b[0mname\u001b[0m\u001b[0;34m]\u001b[0m\u001b[0;34m)\u001b[0m\u001b[0;34m\u001b[0m\u001b[0;34m\u001b[0m\u001b[0m\n\u001b[0m\u001b[1;32m   1273\u001b[0m             \u001b[0mvalue\u001b[0m \u001b[0;34m=\u001b[0m \u001b[0mgetattr\u001b[0m\u001b[0;34m(\u001b[0m\u001b[0mmodule\u001b[0m\u001b[0;34m,\u001b[0m \u001b[0mname\u001b[0m\u001b[0;34m)\u001b[0m\u001b[0;34m\u001b[0m\u001b[0;34m\u001b[0m\u001b[0m\n\u001b[1;32m   1274\u001b[0m         \u001b[0;32melse\u001b[0m\u001b[0;34m:\u001b[0m\u001b[0;34m\u001b[0m\u001b[0;34m\u001b[0m\u001b[0m\n",
            "\u001b[0;32m/usr/local/lib/python3.10/dist-packages/transformers/utils/import_utils.py\u001b[0m in \u001b[0;36m_get_module\u001b[0;34m(self, module_name)\u001b[0m\n\u001b[1;32m   1280\u001b[0m     \u001b[0;32mdef\u001b[0m \u001b[0m_get_module\u001b[0m\u001b[0;34m(\u001b[0m\u001b[0mself\u001b[0m\u001b[0;34m,\u001b[0m \u001b[0mmodule_name\u001b[0m\u001b[0;34m:\u001b[0m \u001b[0mstr\u001b[0m\u001b[0;34m)\u001b[0m\u001b[0;34m:\u001b[0m\u001b[0;34m\u001b[0m\u001b[0;34m\u001b[0m\u001b[0m\n\u001b[1;32m   1281\u001b[0m         \u001b[0;32mtry\u001b[0m\u001b[0;34m:\u001b[0m\u001b[0;34m\u001b[0m\u001b[0;34m\u001b[0m\u001b[0m\n\u001b[0;32m-> 1282\u001b[0;31m             \u001b[0;32mreturn\u001b[0m \u001b[0mimportlib\u001b[0m\u001b[0;34m.\u001b[0m\u001b[0mimport_module\u001b[0m\u001b[0;34m(\u001b[0m\u001b[0;34m\".\"\u001b[0m \u001b[0;34m+\u001b[0m \u001b[0mmodule_name\u001b[0m\u001b[0;34m,\u001b[0m \u001b[0mself\u001b[0m\u001b[0;34m.\u001b[0m\u001b[0m__name__\u001b[0m\u001b[0;34m)\u001b[0m\u001b[0;34m\u001b[0m\u001b[0;34m\u001b[0m\u001b[0m\n\u001b[0m\u001b[1;32m   1283\u001b[0m         \u001b[0;32mexcept\u001b[0m \u001b[0mException\u001b[0m \u001b[0;32mas\u001b[0m \u001b[0me\u001b[0m\u001b[0;34m:\u001b[0m\u001b[0;34m\u001b[0m\u001b[0;34m\u001b[0m\u001b[0m\n\u001b[1;32m   1284\u001b[0m             raise RuntimeError(\n",
            "\u001b[0;32m/usr/lib/python3.10/importlib/__init__.py\u001b[0m in \u001b[0;36mimport_module\u001b[0;34m(name, package)\u001b[0m\n\u001b[1;32m    124\u001b[0m                 \u001b[0;32mbreak\u001b[0m\u001b[0;34m\u001b[0m\u001b[0;34m\u001b[0m\u001b[0m\n\u001b[1;32m    125\u001b[0m             \u001b[0mlevel\u001b[0m \u001b[0;34m+=\u001b[0m \u001b[0;36m1\u001b[0m\u001b[0;34m\u001b[0m\u001b[0;34m\u001b[0m\u001b[0m\n\u001b[0;32m--> 126\u001b[0;31m     \u001b[0;32mreturn\u001b[0m \u001b[0m_bootstrap\u001b[0m\u001b[0;34m.\u001b[0m\u001b[0m_gcd_import\u001b[0m\u001b[0;34m(\u001b[0m\u001b[0mname\u001b[0m\u001b[0;34m[\u001b[0m\u001b[0mlevel\u001b[0m\u001b[0;34m:\u001b[0m\u001b[0;34m]\u001b[0m\u001b[0;34m,\u001b[0m \u001b[0mpackage\u001b[0m\u001b[0;34m,\u001b[0m \u001b[0mlevel\u001b[0m\u001b[0;34m)\u001b[0m\u001b[0;34m\u001b[0m\u001b[0;34m\u001b[0m\u001b[0m\n\u001b[0m\u001b[1;32m    127\u001b[0m \u001b[0;34m\u001b[0m\u001b[0m\n\u001b[1;32m    128\u001b[0m \u001b[0;34m\u001b[0m\u001b[0m\n",
            "\u001b[0;32m/usr/local/lib/python3.10/dist-packages/transformers/models/__init__.py\u001b[0m in \u001b[0;36m<module>\u001b[0;34m\u001b[0m\n\u001b[1;32m     13\u001b[0m \u001b[0;31m# limitations under the License.\u001b[0m\u001b[0;34m\u001b[0m\u001b[0;34m\u001b[0m\u001b[0m\n\u001b[1;32m     14\u001b[0m \u001b[0;34m\u001b[0m\u001b[0m\n\u001b[0;32m---> 15\u001b[0;31m from . import (\n\u001b[0m\u001b[1;32m     16\u001b[0m     \u001b[0malbert\u001b[0m\u001b[0;34m,\u001b[0m\u001b[0;34m\u001b[0m\u001b[0;34m\u001b[0m\u001b[0m\n\u001b[1;32m     17\u001b[0m     \u001b[0malign\u001b[0m\u001b[0;34m,\u001b[0m\u001b[0;34m\u001b[0m\u001b[0;34m\u001b[0m\u001b[0m\n",
            "\u001b[0;32m/usr/lib/python3.10/importlib/_bootstrap.py\u001b[0m in \u001b[0;36m_find_and_load\u001b[0;34m(name, import_)\u001b[0m\n",
            "\u001b[0;32m/usr/lib/python3.10/importlib/_bootstrap.py\u001b[0m in \u001b[0;36m_find_and_load_unlocked\u001b[0;34m(name, import_)\u001b[0m\n",
            "\u001b[0;32m/usr/lib/python3.10/importlib/_bootstrap.py\u001b[0m in \u001b[0;36m_find_spec\u001b[0;34m(name, path, target)\u001b[0m\n",
            "\u001b[0;32m/usr/lib/python3.10/importlib/_bootstrap_external.py\u001b[0m in \u001b[0;36mfind_spec\u001b[0;34m(cls, fullname, path, target)\u001b[0m\n",
            "\u001b[0;32m/usr/lib/python3.10/importlib/_bootstrap_external.py\u001b[0m in \u001b[0;36m_get_spec\u001b[0;34m(cls, fullname, path, target)\u001b[0m\n",
            "\u001b[0;32m/usr/lib/python3.10/importlib/_bootstrap_external.py\u001b[0m in \u001b[0;36mfind_spec\u001b[0;34m(self, fullname, target)\u001b[0m\n",
            "\u001b[0;32m/usr/lib/python3.10/importlib/_bootstrap_external.py\u001b[0m in \u001b[0;36m_path_isfile\u001b[0;34m(path)\u001b[0m\n",
            "\u001b[0;32m/usr/lib/python3.10/importlib/_bootstrap_external.py\u001b[0m in \u001b[0;36m_path_is_mode_type\u001b[0;34m(path, mode)\u001b[0m\n",
            "\u001b[0;31mKeyboardInterrupt\u001b[0m: "
          ]
        }
      ]
    },
    {
      "cell_type": "markdown",
      "source": [],
      "metadata": {
        "id": "PWCx01gwUjco"
      }
    },
    {
      "cell_type": "markdown",
      "source": [],
      "metadata": {
        "id": "ciZ9G5DGMwu9"
      }
    }
  ]
}