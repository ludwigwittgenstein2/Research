{
  "nbformat": 4,
  "nbformat_minor": 0,
  "metadata": {
    "colab": {
      "name": "BERT_PDF_to_Text",
      "provenance": [],
      "authorship_tag": "ABX9TyPbCWNETaJmrw95zOC1LM5m",
      "include_colab_link": true
    },
    "kernelspec": {
      "name": "python3",
      "display_name": "Python 3"
    },
    "widgets": {
      "application/vnd.jupyter.widget-state+json": {
        "e20e597ce033487d900dcfd9e2941387": {
          "model_module": "@jupyter-widgets/controls",
          "model_name": "HBoxModel",
          "state": {
            "_view_name": "HBoxView",
            "_dom_classes": [],
            "_model_name": "HBoxModel",
            "_view_module": "@jupyter-widgets/controls",
            "_model_module_version": "1.5.0",
            "_view_count": null,
            "_view_module_version": "1.5.0",
            "box_style": "",
            "layout": "IPY_MODEL_20e79ea24b374fe496899d332d105a51",
            "_model_module": "@jupyter-widgets/controls",
            "children": [
              "IPY_MODEL_14194be3f8e946fcbf526b6d21cf80ee",
              "IPY_MODEL_4ff99e29e6914c668bc5edc8bf729cae"
            ]
          }
        },
        "20e79ea24b374fe496899d332d105a51": {
          "model_module": "@jupyter-widgets/base",
          "model_name": "LayoutModel",
          "state": {
            "_view_name": "LayoutView",
            "grid_template_rows": null,
            "right": null,
            "justify_content": null,
            "_view_module": "@jupyter-widgets/base",
            "overflow": null,
            "_model_module_version": "1.2.0",
            "_view_count": null,
            "flex_flow": null,
            "width": null,
            "min_width": null,
            "border": null,
            "align_items": null,
            "bottom": null,
            "_model_module": "@jupyter-widgets/base",
            "top": null,
            "grid_column": null,
            "overflow_y": null,
            "overflow_x": null,
            "grid_auto_flow": null,
            "grid_area": null,
            "grid_template_columns": null,
            "flex": null,
            "_model_name": "LayoutModel",
            "justify_items": null,
            "grid_row": null,
            "max_height": null,
            "align_content": null,
            "visibility": null,
            "align_self": null,
            "height": null,
            "min_height": null,
            "padding": null,
            "grid_auto_rows": null,
            "grid_gap": null,
            "max_width": null,
            "order": null,
            "_view_module_version": "1.2.0",
            "grid_template_areas": null,
            "object_position": null,
            "object_fit": null,
            "grid_auto_columns": null,
            "margin": null,
            "display": null,
            "left": null
          }
        },
        "14194be3f8e946fcbf526b6d21cf80ee": {
          "model_module": "@jupyter-widgets/controls",
          "model_name": "FloatProgressModel",
          "state": {
            "_view_name": "ProgressView",
            "style": "IPY_MODEL_9961f4f62ec14d82851543ebbe586365",
            "_dom_classes": [],
            "description": "Downloading: 100%",
            "_model_name": "FloatProgressModel",
            "bar_style": "success",
            "max": 443,
            "_view_module": "@jupyter-widgets/controls",
            "_model_module_version": "1.5.0",
            "value": 443,
            "_view_count": null,
            "_view_module_version": "1.5.0",
            "orientation": "horizontal",
            "min": 0,
            "description_tooltip": null,
            "_model_module": "@jupyter-widgets/controls",
            "layout": "IPY_MODEL_08dff4be83be4395b8187003a2d8780f"
          }
        },
        "4ff99e29e6914c668bc5edc8bf729cae": {
          "model_module": "@jupyter-widgets/controls",
          "model_name": "HTMLModel",
          "state": {
            "_view_name": "HTMLView",
            "style": "IPY_MODEL_262ea86043c446a29a4aac97201e12b2",
            "_dom_classes": [],
            "description": "",
            "_model_name": "HTMLModel",
            "placeholder": "​",
            "_view_module": "@jupyter-widgets/controls",
            "_model_module_version": "1.5.0",
            "value": " 443/443 [00:00&lt;00:00, 918B/s]",
            "_view_count": null,
            "_view_module_version": "1.5.0",
            "description_tooltip": null,
            "_model_module": "@jupyter-widgets/controls",
            "layout": "IPY_MODEL_2b5a08547f5f4f6faeaa9bea681cbe49"
          }
        },
        "9961f4f62ec14d82851543ebbe586365": {
          "model_module": "@jupyter-widgets/controls",
          "model_name": "ProgressStyleModel",
          "state": {
            "_view_name": "StyleView",
            "_model_name": "ProgressStyleModel",
            "description_width": "initial",
            "_view_module": "@jupyter-widgets/base",
            "_model_module_version": "1.5.0",
            "_view_count": null,
            "_view_module_version": "1.2.0",
            "bar_color": null,
            "_model_module": "@jupyter-widgets/controls"
          }
        },
        "08dff4be83be4395b8187003a2d8780f": {
          "model_module": "@jupyter-widgets/base",
          "model_name": "LayoutModel",
          "state": {
            "_view_name": "LayoutView",
            "grid_template_rows": null,
            "right": null,
            "justify_content": null,
            "_view_module": "@jupyter-widgets/base",
            "overflow": null,
            "_model_module_version": "1.2.0",
            "_view_count": null,
            "flex_flow": null,
            "width": null,
            "min_width": null,
            "border": null,
            "align_items": null,
            "bottom": null,
            "_model_module": "@jupyter-widgets/base",
            "top": null,
            "grid_column": null,
            "overflow_y": null,
            "overflow_x": null,
            "grid_auto_flow": null,
            "grid_area": null,
            "grid_template_columns": null,
            "flex": null,
            "_model_name": "LayoutModel",
            "justify_items": null,
            "grid_row": null,
            "max_height": null,
            "align_content": null,
            "visibility": null,
            "align_self": null,
            "height": null,
            "min_height": null,
            "padding": null,
            "grid_auto_rows": null,
            "grid_gap": null,
            "max_width": null,
            "order": null,
            "_view_module_version": "1.2.0",
            "grid_template_areas": null,
            "object_position": null,
            "object_fit": null,
            "grid_auto_columns": null,
            "margin": null,
            "display": null,
            "left": null
          }
        },
        "262ea86043c446a29a4aac97201e12b2": {
          "model_module": "@jupyter-widgets/controls",
          "model_name": "DescriptionStyleModel",
          "state": {
            "_view_name": "StyleView",
            "_model_name": "DescriptionStyleModel",
            "description_width": "",
            "_view_module": "@jupyter-widgets/base",
            "_model_module_version": "1.5.0",
            "_view_count": null,
            "_view_module_version": "1.2.0",
            "_model_module": "@jupyter-widgets/controls"
          }
        },
        "2b5a08547f5f4f6faeaa9bea681cbe49": {
          "model_module": "@jupyter-widgets/base",
          "model_name": "LayoutModel",
          "state": {
            "_view_name": "LayoutView",
            "grid_template_rows": null,
            "right": null,
            "justify_content": null,
            "_view_module": "@jupyter-widgets/base",
            "overflow": null,
            "_model_module_version": "1.2.0",
            "_view_count": null,
            "flex_flow": null,
            "width": null,
            "min_width": null,
            "border": null,
            "align_items": null,
            "bottom": null,
            "_model_module": "@jupyter-widgets/base",
            "top": null,
            "grid_column": null,
            "overflow_y": null,
            "overflow_x": null,
            "grid_auto_flow": null,
            "grid_area": null,
            "grid_template_columns": null,
            "flex": null,
            "_model_name": "LayoutModel",
            "justify_items": null,
            "grid_row": null,
            "max_height": null,
            "align_content": null,
            "visibility": null,
            "align_self": null,
            "height": null,
            "min_height": null,
            "padding": null,
            "grid_auto_rows": null,
            "grid_gap": null,
            "max_width": null,
            "order": null,
            "_view_module_version": "1.2.0",
            "grid_template_areas": null,
            "object_position": null,
            "object_fit": null,
            "grid_auto_columns": null,
            "margin": null,
            "display": null,
            "left": null
          }
        },
        "899a63f6f7694375b16f94ade7134a50": {
          "model_module": "@jupyter-widgets/controls",
          "model_name": "HBoxModel",
          "state": {
            "_view_name": "HBoxView",
            "_dom_classes": [],
            "_model_name": "HBoxModel",
            "_view_module": "@jupyter-widgets/controls",
            "_model_module_version": "1.5.0",
            "_view_count": null,
            "_view_module_version": "1.5.0",
            "box_style": "",
            "layout": "IPY_MODEL_d36056feaa0f4e1fb881bfbd2121f60e",
            "_model_module": "@jupyter-widgets/controls",
            "children": [
              "IPY_MODEL_fb7a2bb2eca941089856db329c741e51",
              "IPY_MODEL_c7035b054d1240aabba790d6a9d80534"
            ]
          }
        },
        "d36056feaa0f4e1fb881bfbd2121f60e": {
          "model_module": "@jupyter-widgets/base",
          "model_name": "LayoutModel",
          "state": {
            "_view_name": "LayoutView",
            "grid_template_rows": null,
            "right": null,
            "justify_content": null,
            "_view_module": "@jupyter-widgets/base",
            "overflow": null,
            "_model_module_version": "1.2.0",
            "_view_count": null,
            "flex_flow": null,
            "width": null,
            "min_width": null,
            "border": null,
            "align_items": null,
            "bottom": null,
            "_model_module": "@jupyter-widgets/base",
            "top": null,
            "grid_column": null,
            "overflow_y": null,
            "overflow_x": null,
            "grid_auto_flow": null,
            "grid_area": null,
            "grid_template_columns": null,
            "flex": null,
            "_model_name": "LayoutModel",
            "justify_items": null,
            "grid_row": null,
            "max_height": null,
            "align_content": null,
            "visibility": null,
            "align_self": null,
            "height": null,
            "min_height": null,
            "padding": null,
            "grid_auto_rows": null,
            "grid_gap": null,
            "max_width": null,
            "order": null,
            "_view_module_version": "1.2.0",
            "grid_template_areas": null,
            "object_position": null,
            "object_fit": null,
            "grid_auto_columns": null,
            "margin": null,
            "display": null,
            "left": null
          }
        },
        "fb7a2bb2eca941089856db329c741e51": {
          "model_module": "@jupyter-widgets/controls",
          "model_name": "FloatProgressModel",
          "state": {
            "_view_name": "ProgressView",
            "style": "IPY_MODEL_a3a3bfeb194d4f28a52b0d3870231c4a",
            "_dom_classes": [],
            "description": "Downloading: 100%",
            "_model_name": "FloatProgressModel",
            "bar_style": "success",
            "max": 231508,
            "_view_module": "@jupyter-widgets/controls",
            "_model_module_version": "1.5.0",
            "value": 231508,
            "_view_count": null,
            "_view_module_version": "1.5.0",
            "orientation": "horizontal",
            "min": 0,
            "description_tooltip": null,
            "_model_module": "@jupyter-widgets/controls",
            "layout": "IPY_MODEL_d174cdbfc8484d61ad46cc2a15d23f2a"
          }
        },
        "c7035b054d1240aabba790d6a9d80534": {
          "model_module": "@jupyter-widgets/controls",
          "model_name": "HTMLModel",
          "state": {
            "_view_name": "HTMLView",
            "style": "IPY_MODEL_7060a66e2599490e9a3a0b8821c10cdf",
            "_dom_classes": [],
            "description": "",
            "_model_name": "HTMLModel",
            "placeholder": "​",
            "_view_module": "@jupyter-widgets/controls",
            "_model_module_version": "1.5.0",
            "value": " 232k/232k [00:00&lt;00:00, 1.38MB/s]",
            "_view_count": null,
            "_view_module_version": "1.5.0",
            "description_tooltip": null,
            "_model_module": "@jupyter-widgets/controls",
            "layout": "IPY_MODEL_eab27c63d2724b868195198326fc1fd3"
          }
        },
        "a3a3bfeb194d4f28a52b0d3870231c4a": {
          "model_module": "@jupyter-widgets/controls",
          "model_name": "ProgressStyleModel",
          "state": {
            "_view_name": "StyleView",
            "_model_name": "ProgressStyleModel",
            "description_width": "initial",
            "_view_module": "@jupyter-widgets/base",
            "_model_module_version": "1.5.0",
            "_view_count": null,
            "_view_module_version": "1.2.0",
            "bar_color": null,
            "_model_module": "@jupyter-widgets/controls"
          }
        },
        "d174cdbfc8484d61ad46cc2a15d23f2a": {
          "model_module": "@jupyter-widgets/base",
          "model_name": "LayoutModel",
          "state": {
            "_view_name": "LayoutView",
            "grid_template_rows": null,
            "right": null,
            "justify_content": null,
            "_view_module": "@jupyter-widgets/base",
            "overflow": null,
            "_model_module_version": "1.2.0",
            "_view_count": null,
            "flex_flow": null,
            "width": null,
            "min_width": null,
            "border": null,
            "align_items": null,
            "bottom": null,
            "_model_module": "@jupyter-widgets/base",
            "top": null,
            "grid_column": null,
            "overflow_y": null,
            "overflow_x": null,
            "grid_auto_flow": null,
            "grid_area": null,
            "grid_template_columns": null,
            "flex": null,
            "_model_name": "LayoutModel",
            "justify_items": null,
            "grid_row": null,
            "max_height": null,
            "align_content": null,
            "visibility": null,
            "align_self": null,
            "height": null,
            "min_height": null,
            "padding": null,
            "grid_auto_rows": null,
            "grid_gap": null,
            "max_width": null,
            "order": null,
            "_view_module_version": "1.2.0",
            "grid_template_areas": null,
            "object_position": null,
            "object_fit": null,
            "grid_auto_columns": null,
            "margin": null,
            "display": null,
            "left": null
          }
        },
        "7060a66e2599490e9a3a0b8821c10cdf": {
          "model_module": "@jupyter-widgets/controls",
          "model_name": "DescriptionStyleModel",
          "state": {
            "_view_name": "StyleView",
            "_model_name": "DescriptionStyleModel",
            "description_width": "",
            "_view_module": "@jupyter-widgets/base",
            "_model_module_version": "1.5.0",
            "_view_count": null,
            "_view_module_version": "1.2.0",
            "_model_module": "@jupyter-widgets/controls"
          }
        },
        "eab27c63d2724b868195198326fc1fd3": {
          "model_module": "@jupyter-widgets/base",
          "model_name": "LayoutModel",
          "state": {
            "_view_name": "LayoutView",
            "grid_template_rows": null,
            "right": null,
            "justify_content": null,
            "_view_module": "@jupyter-widgets/base",
            "overflow": null,
            "_model_module_version": "1.2.0",
            "_view_count": null,
            "flex_flow": null,
            "width": null,
            "min_width": null,
            "border": null,
            "align_items": null,
            "bottom": null,
            "_model_module": "@jupyter-widgets/base",
            "top": null,
            "grid_column": null,
            "overflow_y": null,
            "overflow_x": null,
            "grid_auto_flow": null,
            "grid_area": null,
            "grid_template_columns": null,
            "flex": null,
            "_model_name": "LayoutModel",
            "justify_items": null,
            "grid_row": null,
            "max_height": null,
            "align_content": null,
            "visibility": null,
            "align_self": null,
            "height": null,
            "min_height": null,
            "padding": null,
            "grid_auto_rows": null,
            "grid_gap": null,
            "max_width": null,
            "order": null,
            "_view_module_version": "1.2.0",
            "grid_template_areas": null,
            "object_position": null,
            "object_fit": null,
            "grid_auto_columns": null,
            "margin": null,
            "display": null,
            "left": null
          }
        },
        "95dd8670bad84efb9dc5144be6e190e0": {
          "model_module": "@jupyter-widgets/controls",
          "model_name": "HBoxModel",
          "state": {
            "_view_name": "HBoxView",
            "_dom_classes": [],
            "_model_name": "HBoxModel",
            "_view_module": "@jupyter-widgets/controls",
            "_model_module_version": "1.5.0",
            "_view_count": null,
            "_view_module_version": "1.5.0",
            "box_style": "",
            "layout": "IPY_MODEL_807cc28aab76489ea282c209bcf77a51",
            "_model_module": "@jupyter-widgets/controls",
            "children": [
              "IPY_MODEL_7ff832cc4b344f33a03e1311a5d12b2b",
              "IPY_MODEL_bd0ef509b0a8479ea3db357e73677dba"
            ]
          }
        },
        "807cc28aab76489ea282c209bcf77a51": {
          "model_module": "@jupyter-widgets/base",
          "model_name": "LayoutModel",
          "state": {
            "_view_name": "LayoutView",
            "grid_template_rows": null,
            "right": null,
            "justify_content": null,
            "_view_module": "@jupyter-widgets/base",
            "overflow": null,
            "_model_module_version": "1.2.0",
            "_view_count": null,
            "flex_flow": null,
            "width": null,
            "min_width": null,
            "border": null,
            "align_items": null,
            "bottom": null,
            "_model_module": "@jupyter-widgets/base",
            "top": null,
            "grid_column": null,
            "overflow_y": null,
            "overflow_x": null,
            "grid_auto_flow": null,
            "grid_area": null,
            "grid_template_columns": null,
            "flex": null,
            "_model_name": "LayoutModel",
            "justify_items": null,
            "grid_row": null,
            "max_height": null,
            "align_content": null,
            "visibility": null,
            "align_self": null,
            "height": null,
            "min_height": null,
            "padding": null,
            "grid_auto_rows": null,
            "grid_gap": null,
            "max_width": null,
            "order": null,
            "_view_module_version": "1.2.0",
            "grid_template_areas": null,
            "object_position": null,
            "object_fit": null,
            "grid_auto_columns": null,
            "margin": null,
            "display": null,
            "left": null
          }
        },
        "7ff832cc4b344f33a03e1311a5d12b2b": {
          "model_module": "@jupyter-widgets/controls",
          "model_name": "FloatProgressModel",
          "state": {
            "_view_name": "ProgressView",
            "style": "IPY_MODEL_787576301027465eb0392d8b14aaef09",
            "_dom_classes": [],
            "description": "Downloading: 100%",
            "_model_name": "FloatProgressModel",
            "bar_style": "success",
            "max": 1340675298,
            "_view_module": "@jupyter-widgets/controls",
            "_model_module_version": "1.5.0",
            "value": 1340675298,
            "_view_count": null,
            "_view_module_version": "1.5.0",
            "orientation": "horizontal",
            "min": 0,
            "description_tooltip": null,
            "_model_module": "@jupyter-widgets/controls",
            "layout": "IPY_MODEL_8633d2dc0a4e4157873536d0974e932b"
          }
        },
        "bd0ef509b0a8479ea3db357e73677dba": {
          "model_module": "@jupyter-widgets/controls",
          "model_name": "HTMLModel",
          "state": {
            "_view_name": "HTMLView",
            "style": "IPY_MODEL_75e451934ec04ce29906d5745c2554a5",
            "_dom_classes": [],
            "description": "",
            "_model_name": "HTMLModel",
            "placeholder": "​",
            "_view_module": "@jupyter-widgets/controls",
            "_model_module_version": "1.5.0",
            "value": " 1.34G/1.34G [00:22&lt;00:00, 58.8MB/s]",
            "_view_count": null,
            "_view_module_version": "1.5.0",
            "description_tooltip": null,
            "_model_module": "@jupyter-widgets/controls",
            "layout": "IPY_MODEL_70f8d5349ff44dfe854cbe8e7ff5b976"
          }
        },
        "787576301027465eb0392d8b14aaef09": {
          "model_module": "@jupyter-widgets/controls",
          "model_name": "ProgressStyleModel",
          "state": {
            "_view_name": "StyleView",
            "_model_name": "ProgressStyleModel",
            "description_width": "initial",
            "_view_module": "@jupyter-widgets/base",
            "_model_module_version": "1.5.0",
            "_view_count": null,
            "_view_module_version": "1.2.0",
            "bar_color": null,
            "_model_module": "@jupyter-widgets/controls"
          }
        },
        "8633d2dc0a4e4157873536d0974e932b": {
          "model_module": "@jupyter-widgets/base",
          "model_name": "LayoutModel",
          "state": {
            "_view_name": "LayoutView",
            "grid_template_rows": null,
            "right": null,
            "justify_content": null,
            "_view_module": "@jupyter-widgets/base",
            "overflow": null,
            "_model_module_version": "1.2.0",
            "_view_count": null,
            "flex_flow": null,
            "width": null,
            "min_width": null,
            "border": null,
            "align_items": null,
            "bottom": null,
            "_model_module": "@jupyter-widgets/base",
            "top": null,
            "grid_column": null,
            "overflow_y": null,
            "overflow_x": null,
            "grid_auto_flow": null,
            "grid_area": null,
            "grid_template_columns": null,
            "flex": null,
            "_model_name": "LayoutModel",
            "justify_items": null,
            "grid_row": null,
            "max_height": null,
            "align_content": null,
            "visibility": null,
            "align_self": null,
            "height": null,
            "min_height": null,
            "padding": null,
            "grid_auto_rows": null,
            "grid_gap": null,
            "max_width": null,
            "order": null,
            "_view_module_version": "1.2.0",
            "grid_template_areas": null,
            "object_position": null,
            "object_fit": null,
            "grid_auto_columns": null,
            "margin": null,
            "display": null,
            "left": null
          }
        },
        "75e451934ec04ce29906d5745c2554a5": {
          "model_module": "@jupyter-widgets/controls",
          "model_name": "DescriptionStyleModel",
          "state": {
            "_view_name": "StyleView",
            "_model_name": "DescriptionStyleModel",
            "description_width": "",
            "_view_module": "@jupyter-widgets/base",
            "_model_module_version": "1.5.0",
            "_view_count": null,
            "_view_module_version": "1.2.0",
            "_model_module": "@jupyter-widgets/controls"
          }
        },
        "70f8d5349ff44dfe854cbe8e7ff5b976": {
          "model_module": "@jupyter-widgets/base",
          "model_name": "LayoutModel",
          "state": {
            "_view_name": "LayoutView",
            "grid_template_rows": null,
            "right": null,
            "justify_content": null,
            "_view_module": "@jupyter-widgets/base",
            "overflow": null,
            "_model_module_version": "1.2.0",
            "_view_count": null,
            "flex_flow": null,
            "width": null,
            "min_width": null,
            "border": null,
            "align_items": null,
            "bottom": null,
            "_model_module": "@jupyter-widgets/base",
            "top": null,
            "grid_column": null,
            "overflow_y": null,
            "overflow_x": null,
            "grid_auto_flow": null,
            "grid_area": null,
            "grid_template_columns": null,
            "flex": null,
            "_model_name": "LayoutModel",
            "justify_items": null,
            "grid_row": null,
            "max_height": null,
            "align_content": null,
            "visibility": null,
            "align_self": null,
            "height": null,
            "min_height": null,
            "padding": null,
            "grid_auto_rows": null,
            "grid_gap": null,
            "max_width": null,
            "order": null,
            "_view_module_version": "1.2.0",
            "grid_template_areas": null,
            "object_position": null,
            "object_fit": null,
            "grid_auto_columns": null,
            "margin": null,
            "display": null,
            "left": null
          }
        }
      }
    }
  },
  "cells": [
    {
      "cell_type": "markdown",
      "metadata": {
        "id": "view-in-github",
        "colab_type": "text"
      },
      "source": [
        "<a href=\"https://colab.research.google.com/github/ludwigwittgenstein2/Research/blob/master/BERT_PDF_to_Text.ipynb\" target=\"_parent\"><img src=\"https://colab.research.google.com/assets/colab-badge.svg\" alt=\"Open In Colab\"/></a>"
      ]
    },
    {
      "cell_type": "code",
      "metadata": {
        "id": "fziWS-WAscb9",
        "outputId": "08660d68-421a-4cf5-f694-54a0be55d58a",
        "colab": {
          "base_uri": "https://localhost:8080/"
        }
      },
      "source": [
        "!pip install PyPDF2"
      ],
      "execution_count": 4,
      "outputs": [
        {
          "output_type": "stream",
          "text": [
            "Requirement already satisfied: PyPDF2 in /usr/local/lib/python3.6/dist-packages (1.26.0)\n"
          ],
          "name": "stdout"
        }
      ]
    },
    {
      "cell_type": "code",
      "metadata": {
        "id": "4_A5Rm0HZOfT"
      },
      "source": [
        "import PyPDF2"
      ],
      "execution_count": 8,
      "outputs": []
    },
    {
      "cell_type": "code",
      "metadata": {
        "id": "tiCW_mRNsriy"
      },
      "source": [
        "pdfFileObject = open(r\"/content/sample_data/Deep_Learing.pdf\", 'rb')"
      ],
      "execution_count": 25,
      "outputs": []
    },
    {
      "cell_type": "code",
      "metadata": {
        "id": "EF1aeXauZLGY"
      },
      "source": [
        "pdfReader = PyPDF2.PdfFileReader(pdfFileObject)"
      ],
      "execution_count": 26,
      "outputs": []
    },
    {
      "cell_type": "code",
      "metadata": {
        "id": "TciVfnkXZROV",
        "outputId": "79208263-f715-4f2b-c3be-9a04bf668428",
        "colab": {
          "base_uri": "https://localhost:8080/"
        }
      },
      "source": [
        "print(\" No. Of Pages :\", pdfReader.numPages)"
      ],
      "execution_count": 10,
      "outputs": [
        {
          "output_type": "stream",
          "text": [
            " No. Of Pages : 328\n"
          ],
          "name": "stdout"
        }
      ]
    },
    {
      "cell_type": "code",
      "metadata": {
        "id": "SBTakzuFZTrA"
      },
      "source": [
        "pageObject = pdfReader.getPage(0)"
      ],
      "execution_count": 21,
      "outputs": []
    },
    {
      "cell_type": "code",
      "metadata": {
        "id": "-pV42vhqZfmU"
      },
      "source": [
        "reader = PyPDF2.PdfFileReader(pdfFileObject)\n",
        "for page in reader.pages:\n",
        "  pass"
      ],
      "execution_count": 27,
      "outputs": []
    },
    {
      "cell_type": "code",
      "metadata": {
        "id": "dx9O9_9TbpJQ",
        "outputId": "85152c1a-b2bf-4537-930f-0d3ff8c7595b",
        "colab": {
          "base_uri": "https://localhost:8080/"
        }
      },
      "source": [
        "outside = reader.getPage(0)\n",
        "first_text = (page.extractText())\n",
        "print(page.extractText())"
      ],
      "execution_count": 34,
      "outputs": [
        {
          "output_type": "stream",
          "text": [
            "Tommaso TeofiliISBN-13: 978-1-61729-479-2ISBN-10: 1-61729-479-9Deep learning handles the toughest search challenges, \n",
            "including imprecise search terms, badly indexed data, \n",
            "\n",
            "and retrieving images with minimal metadata. And \n",
            "with modern tools like DL4J and TensorFlow, you can apply \n",
            "powerful \n",
            "DL techniques without a deep background in data \n",
            "science or natural language processing \n",
            "(NLP). This book will \n",
            "show you how\n",
            ".Deep Learning for Search teaches you to improve your search \n",
            "results with neural networks. You™ll review how \n",
            "DL relates \n",
            "to search basics like indexing and ranking. Then, you™ll walk \n",
            "\n",
            "through in-depth examples to upgrade your search with \n",
            "DL techniques using Apache Lucene and Deeplearning4j. As the \n",
            "\n",
            "book progresses, you™ll explore advanced topics like searching \n",
            "\n",
            "through images, translating user queries, and designing search \n",
            "\n",
            "engines that improve as they learn!\n",
            " What’s InsideGenerating synonyms\n",
            "Accurate and relevant rankings\n",
            "Searching across languages\n",
            "Content-based image search\n",
            "Search with recommendations\n",
            "For developers comfortable with Java or a similar language \n",
            "and search basics. No experience with deep learning or \n",
            "NLP needed.Tommaso Teofili is a software engineer with a passion for open \n",
            "source and arti˚ cial intelligence. He™s a long-time member of \n",
            "\n",
            "the Apache Software Foundation, contributing to projects for \n",
            "\n",
            "information retrieval, \n",
            "NLP, and distributed computing.To download their free eBook in PDF, ePub, and Kindle formats, \n",
            "owners of this book should visit \n",
            "www.manning.com/books/deep-learning-for-search\n",
            "$59.99 / Can $79.99  [INCLUDING eBOOK]\n",
            "Deep Learning for SearchSEARCH/MACHINE LEARNING\n",
            "MANNINGﬁA practical approach that \n",
            "shows you the state of the art \n",
            "in using neural networks, \n",
            "AI, and deep learning in the development \n",
            "of search engines.\n",
            "ﬂŠFrom the Foreword by \n",
            "Chris Mattmann, \n",
            "NASA JPLﬁA thorough and thoughtful \n",
            "synthesis of traditional search \n",
            "and the latest advancements \n",
            "in deep learning.ﬂŠGreg Zanotti, Marquette Partners\n",
            "ﬁA well-laid-out deep dive \n",
            "into the latest technologies that will take your search \n",
            "engine to the next level.\n",
            "ﬂŠAndrew Wyllie, Thynk Health \n",
            "ﬁHands-on exercises teach \n",
            "you how to master \n",
            "deep learning for   search-based products.\n",
            "ﬂŠAntonio Magnaghi, System1 \n",
            "See first page\n",
            "\n"
          ],
          "name": "stdout"
        }
      ]
    },
    {
      "cell_type": "code",
      "metadata": {
        "id": "MpMG9icBdoy4"
      },
      "source": [
        ""
      ],
      "execution_count": null,
      "outputs": []
    },
    {
      "cell_type": "code",
      "metadata": {
        "id": "IA2gyP_RZVct",
        "outputId": "f6a1bb9d-ebeb-4e12-e805-385354754e92",
        "colab": {
          "base_uri": "https://localhost:8080/"
        }
      },
      "source": [
        "print(pageObject.extractText())"
      ],
      "execution_count": 22,
      "outputs": [
        {
          "output_type": "stream",
          "text": [
            "MANNINGTommaso TeofiliForeword by\n",
            " Chris Mattmann\n"
          ],
          "name": "stdout"
        }
      ]
    },
    {
      "cell_type": "code",
      "metadata": {
        "id": "GxTF5BdeZXf-"
      },
      "source": [
        "pdfFileObject.close()"
      ],
      "execution_count": 18,
      "outputs": []
    },
    {
      "cell_type": "code",
      "metadata": {
        "id": "X1Okv6QAu4Ff",
        "outputId": "109904eb-409a-47bf-c95d-9b691be659bb",
        "colab": {
          "base_uri": "https://localhost:8080/"
        }
      },
      "source": [
        "!pip install transformers"
      ],
      "execution_count": 29,
      "outputs": [
        {
          "output_type": "stream",
          "text": [
            "Collecting transformers\n",
            "\u001b[?25l  Downloading https://files.pythonhosted.org/packages/9c/34/fb092588df61bf33f113ade030d1cbe74fb73a0353648f8dd938a223dce7/transformers-3.5.0-py3-none-any.whl (1.3MB)\n",
            "\r\u001b[K     |▎                               | 10kB 11.6MB/s eta 0:00:01\r\u001b[K     |▌                               | 20kB 1.7MB/s eta 0:00:01\r\u001b[K     |▊                               | 30kB 2.2MB/s eta 0:00:01\r\u001b[K     |█                               | 40kB 2.5MB/s eta 0:00:01\r\u001b[K     |█▎                              | 51kB 2.0MB/s eta 0:00:01\r\u001b[K     |█▌                              | 61kB 2.2MB/s eta 0:00:01\r\u001b[K     |█▊                              | 71kB 2.5MB/s eta 0:00:01\r\u001b[K     |██                              | 81kB 2.7MB/s eta 0:00:01\r\u001b[K     |██▎                             | 92kB 2.9MB/s eta 0:00:01\r\u001b[K     |██▌                             | 102kB 2.7MB/s eta 0:00:01\r\u001b[K     |██▊                             | 112kB 2.7MB/s eta 0:00:01\r\u001b[K     |███                             | 122kB 2.7MB/s eta 0:00:01\r\u001b[K     |███▎                            | 133kB 2.7MB/s eta 0:00:01\r\u001b[K     |███▌                            | 143kB 2.7MB/s eta 0:00:01\r\u001b[K     |███▉                            | 153kB 2.7MB/s eta 0:00:01\r\u001b[K     |████                            | 163kB 2.7MB/s eta 0:00:01\r\u001b[K     |████▎                           | 174kB 2.7MB/s eta 0:00:01\r\u001b[K     |████▌                           | 184kB 2.7MB/s eta 0:00:01\r\u001b[K     |████▉                           | 194kB 2.7MB/s eta 0:00:01\r\u001b[K     |█████                           | 204kB 2.7MB/s eta 0:00:01\r\u001b[K     |█████▎                          | 215kB 2.7MB/s eta 0:00:01\r\u001b[K     |█████▌                          | 225kB 2.7MB/s eta 0:00:01\r\u001b[K     |█████▉                          | 235kB 2.7MB/s eta 0:00:01\r\u001b[K     |██████                          | 245kB 2.7MB/s eta 0:00:01\r\u001b[K     |██████▎                         | 256kB 2.7MB/s eta 0:00:01\r\u001b[K     |██████▌                         | 266kB 2.7MB/s eta 0:00:01\r\u001b[K     |██████▉                         | 276kB 2.7MB/s eta 0:00:01\r\u001b[K     |███████                         | 286kB 2.7MB/s eta 0:00:01\r\u001b[K     |███████▎                        | 296kB 2.7MB/s eta 0:00:01\r\u001b[K     |███████▋                        | 307kB 2.7MB/s eta 0:00:01\r\u001b[K     |███████▉                        | 317kB 2.7MB/s eta 0:00:01\r\u001b[K     |████████                        | 327kB 2.7MB/s eta 0:00:01\r\u001b[K     |████████▎                       | 337kB 2.7MB/s eta 0:00:01\r\u001b[K     |████████▋                       | 348kB 2.7MB/s eta 0:00:01\r\u001b[K     |████████▉                       | 358kB 2.7MB/s eta 0:00:01\r\u001b[K     |█████████                       | 368kB 2.7MB/s eta 0:00:01\r\u001b[K     |█████████▎                      | 378kB 2.7MB/s eta 0:00:01\r\u001b[K     |█████████▋                      | 389kB 2.7MB/s eta 0:00:01\r\u001b[K     |█████████▉                      | 399kB 2.7MB/s eta 0:00:01\r\u001b[K     |██████████                      | 409kB 2.7MB/s eta 0:00:01\r\u001b[K     |██████████▎                     | 419kB 2.7MB/s eta 0:00:01\r\u001b[K     |██████████▋                     | 430kB 2.7MB/s eta 0:00:01\r\u001b[K     |██████████▉                     | 440kB 2.7MB/s eta 0:00:01\r\u001b[K     |███████████                     | 450kB 2.7MB/s eta 0:00:01\r\u001b[K     |███████████▍                    | 460kB 2.7MB/s eta 0:00:01\r\u001b[K     |███████████▋                    | 471kB 2.7MB/s eta 0:00:01\r\u001b[K     |███████████▉                    | 481kB 2.7MB/s eta 0:00:01\r\u001b[K     |████████████                    | 491kB 2.7MB/s eta 0:00:01\r\u001b[K     |████████████▍                   | 501kB 2.7MB/s eta 0:00:01\r\u001b[K     |████████████▋                   | 512kB 2.7MB/s eta 0:00:01\r\u001b[K     |████████████▉                   | 522kB 2.7MB/s eta 0:00:01\r\u001b[K     |█████████████                   | 532kB 2.7MB/s eta 0:00:01\r\u001b[K     |█████████████▍                  | 542kB 2.7MB/s eta 0:00:01\r\u001b[K     |█████████████▋                  | 552kB 2.7MB/s eta 0:00:01\r\u001b[K     |█████████████▉                  | 563kB 2.7MB/s eta 0:00:01\r\u001b[K     |██████████████                  | 573kB 2.7MB/s eta 0:00:01\r\u001b[K     |██████████████▍                 | 583kB 2.7MB/s eta 0:00:01\r\u001b[K     |██████████████▋                 | 593kB 2.7MB/s eta 0:00:01\r\u001b[K     |██████████████▉                 | 604kB 2.7MB/s eta 0:00:01\r\u001b[K     |███████████████▏                | 614kB 2.7MB/s eta 0:00:01\r\u001b[K     |███████████████▍                | 624kB 2.7MB/s eta 0:00:01\r\u001b[K     |███████████████▋                | 634kB 2.7MB/s eta 0:00:01\r\u001b[K     |███████████████▉                | 645kB 2.7MB/s eta 0:00:01\r\u001b[K     |████████████████▏               | 655kB 2.7MB/s eta 0:00:01\r\u001b[K     |████████████████▍               | 665kB 2.7MB/s eta 0:00:01\r\u001b[K     |████████████████▋               | 675kB 2.7MB/s eta 0:00:01\r\u001b[K     |████████████████▉               | 686kB 2.7MB/s eta 0:00:01\r\u001b[K     |█████████████████▏              | 696kB 2.7MB/s eta 0:00:01\r\u001b[K     |█████████████████▍              | 706kB 2.7MB/s eta 0:00:01\r\u001b[K     |█████████████████▋              | 716kB 2.7MB/s eta 0:00:01\r\u001b[K     |██████████████████              | 727kB 2.7MB/s eta 0:00:01\r\u001b[K     |██████████████████▏             | 737kB 2.7MB/s eta 0:00:01\r\u001b[K     |██████████████████▍             | 747kB 2.7MB/s eta 0:00:01\r\u001b[K     |██████████████████▋             | 757kB 2.7MB/s eta 0:00:01\r\u001b[K     |███████████████████             | 768kB 2.7MB/s eta 0:00:01\r\u001b[K     |███████████████████▏            | 778kB 2.7MB/s eta 0:00:01\r\u001b[K     |███████████████████▍            | 788kB 2.7MB/s eta 0:00:01\r\u001b[K     |███████████████████▋            | 798kB 2.7MB/s eta 0:00:01\r\u001b[K     |████████████████████            | 808kB 2.7MB/s eta 0:00:01\r\u001b[K     |████████████████████▏           | 819kB 2.7MB/s eta 0:00:01\r\u001b[K     |████████████████████▍           | 829kB 2.7MB/s eta 0:00:01\r\u001b[K     |████████████████████▋           | 839kB 2.7MB/s eta 0:00:01\r\u001b[K     |█████████████████████           | 849kB 2.7MB/s eta 0:00:01\r\u001b[K     |█████████████████████▏          | 860kB 2.7MB/s eta 0:00:01\r\u001b[K     |█████████████████████▍          | 870kB 2.7MB/s eta 0:00:01\r\u001b[K     |█████████████████████▊          | 880kB 2.7MB/s eta 0:00:01\r\u001b[K     |██████████████████████          | 890kB 2.7MB/s eta 0:00:01\r\u001b[K     |██████████████████████▏         | 901kB 2.7MB/s eta 0:00:01\r\u001b[K     |██████████████████████▍         | 911kB 2.7MB/s eta 0:00:01\r\u001b[K     |██████████████████████▊         | 921kB 2.7MB/s eta 0:00:01\r\u001b[K     |███████████████████████         | 931kB 2.7MB/s eta 0:00:01\r\u001b[K     |███████████████████████▏        | 942kB 2.7MB/s eta 0:00:01\r\u001b[K     |███████████████████████▍        | 952kB 2.7MB/s eta 0:00:01\r\u001b[K     |███████████████████████▊        | 962kB 2.7MB/s eta 0:00:01\r\u001b[K     |████████████████████████        | 972kB 2.7MB/s eta 0:00:01\r\u001b[K     |████████████████████████▏       | 983kB 2.7MB/s eta 0:00:01\r\u001b[K     |████████████████████████▍       | 993kB 2.7MB/s eta 0:00:01\r\u001b[K     |████████████████████████▊       | 1.0MB 2.7MB/s eta 0:00:01\r\u001b[K     |█████████████████████████       | 1.0MB 2.7MB/s eta 0:00:01\r\u001b[K     |█████████████████████████▏      | 1.0MB 2.7MB/s eta 0:00:01\r\u001b[K     |█████████████████████████▌      | 1.0MB 2.7MB/s eta 0:00:01\r\u001b[K     |█████████████████████████▊      | 1.0MB 2.7MB/s eta 0:00:01\r\u001b[K     |██████████████████████████      | 1.1MB 2.7MB/s eta 0:00:01\r\u001b[K     |██████████████████████████▏     | 1.1MB 2.7MB/s eta 0:00:01\r\u001b[K     |██████████████████████████▌     | 1.1MB 2.7MB/s eta 0:00:01\r\u001b[K     |██████████████████████████▊     | 1.1MB 2.7MB/s eta 0:00:01\r\u001b[K     |███████████████████████████     | 1.1MB 2.7MB/s eta 0:00:01\r\u001b[K     |███████████████████████████▏    | 1.1MB 2.7MB/s eta 0:00:01\r\u001b[K     |███████████████████████████▌    | 1.1MB 2.7MB/s eta 0:00:01\r\u001b[K     |███████████████████████████▊    | 1.1MB 2.7MB/s eta 0:00:01\r\u001b[K     |████████████████████████████    | 1.1MB 2.7MB/s eta 0:00:01\r\u001b[K     |████████████████████████████▏   | 1.1MB 2.7MB/s eta 0:00:01\r\u001b[K     |████████████████████████████▌   | 1.2MB 2.7MB/s eta 0:00:01\r\u001b[K     |████████████████████████████▊   | 1.2MB 2.7MB/s eta 0:00:01\r\u001b[K     |█████████████████████████████   | 1.2MB 2.7MB/s eta 0:00:01\r\u001b[K     |█████████████████████████████▎  | 1.2MB 2.7MB/s eta 0:00:01\r\u001b[K     |█████████████████████████████▌  | 1.2MB 2.7MB/s eta 0:00:01\r\u001b[K     |█████████████████████████████▊  | 1.2MB 2.7MB/s eta 0:00:01\r\u001b[K     |██████████████████████████████  | 1.2MB 2.7MB/s eta 0:00:01\r\u001b[K     |██████████████████████████████▎ | 1.2MB 2.7MB/s eta 0:00:01\r\u001b[K     |██████████████████████████████▌ | 1.2MB 2.7MB/s eta 0:00:01\r\u001b[K     |██████████████████████████████▊ | 1.2MB 2.7MB/s eta 0:00:01\r\u001b[K     |███████████████████████████████ | 1.3MB 2.7MB/s eta 0:00:01\r\u001b[K     |███████████████████████████████▎| 1.3MB 2.7MB/s eta 0:00:01\r\u001b[K     |███████████████████████████████▌| 1.3MB 2.7MB/s eta 0:00:01\r\u001b[K     |███████████████████████████████▊| 1.3MB 2.7MB/s eta 0:00:01\r\u001b[K     |████████████████████████████████| 1.3MB 2.7MB/s eta 0:00:01\r\u001b[K     |████████████████████████████████| 1.3MB 2.7MB/s \n",
            "\u001b[?25hRequirement already satisfied: requests in /usr/local/lib/python3.6/dist-packages (from transformers) (2.23.0)\n",
            "Requirement already satisfied: regex!=2019.12.17 in /usr/local/lib/python3.6/dist-packages (from transformers) (2019.12.20)\n",
            "Requirement already satisfied: dataclasses; python_version < \"3.7\" in /usr/local/lib/python3.6/dist-packages (from transformers) (0.7)\n",
            "Requirement already satisfied: numpy in /usr/local/lib/python3.6/dist-packages (from transformers) (1.18.5)\n",
            "Collecting tokenizers==0.9.3\n",
            "\u001b[?25l  Downloading https://files.pythonhosted.org/packages/4c/34/b39eb9994bc3c999270b69c9eea40ecc6f0e97991dba28282b9fd32d44ee/tokenizers-0.9.3-cp36-cp36m-manylinux1_x86_64.whl (2.9MB)\n",
            "\u001b[K     |████████████████████████████████| 2.9MB 15.0MB/s \n",
            "\u001b[?25hRequirement already satisfied: tqdm>=4.27 in /usr/local/lib/python3.6/dist-packages (from transformers) (4.41.1)\n",
            "Requirement already satisfied: packaging in /usr/local/lib/python3.6/dist-packages (from transformers) (20.4)\n",
            "Requirement already satisfied: protobuf in /usr/local/lib/python3.6/dist-packages (from transformers) (3.12.4)\n",
            "Requirement already satisfied: filelock in /usr/local/lib/python3.6/dist-packages (from transformers) (3.0.12)\n",
            "Collecting sentencepiece==0.1.91\n",
            "\u001b[?25l  Downloading https://files.pythonhosted.org/packages/d4/a4/d0a884c4300004a78cca907a6ff9a5e9fe4f090f5d95ab341c53d28cbc58/sentencepiece-0.1.91-cp36-cp36m-manylinux1_x86_64.whl (1.1MB)\n",
            "\u001b[K     |████████████████████████████████| 1.1MB 35.8MB/s \n",
            "\u001b[?25hCollecting sacremoses\n",
            "\u001b[?25l  Downloading https://files.pythonhosted.org/packages/7d/34/09d19aff26edcc8eb2a01bed8e98f13a1537005d31e95233fd48216eed10/sacremoses-0.0.43.tar.gz (883kB)\n",
            "\u001b[K     |████████████████████████████████| 890kB 34.7MB/s \n",
            "\u001b[?25hRequirement already satisfied: certifi>=2017.4.17 in /usr/local/lib/python3.6/dist-packages (from requests->transformers) (2020.6.20)\n",
            "Requirement already satisfied: idna<3,>=2.5 in /usr/local/lib/python3.6/dist-packages (from requests->transformers) (2.10)\n",
            "Requirement already satisfied: urllib3!=1.25.0,!=1.25.1,<1.26,>=1.21.1 in /usr/local/lib/python3.6/dist-packages (from requests->transformers) (1.24.3)\n",
            "Requirement already satisfied: chardet<4,>=3.0.2 in /usr/local/lib/python3.6/dist-packages (from requests->transformers) (3.0.4)\n",
            "Requirement already satisfied: pyparsing>=2.0.2 in /usr/local/lib/python3.6/dist-packages (from packaging->transformers) (2.4.7)\n",
            "Requirement already satisfied: six in /usr/local/lib/python3.6/dist-packages (from packaging->transformers) (1.15.0)\n",
            "Requirement already satisfied: setuptools in /usr/local/lib/python3.6/dist-packages (from protobuf->transformers) (50.3.2)\n",
            "Requirement already satisfied: click in /usr/local/lib/python3.6/dist-packages (from sacremoses->transformers) (7.1.2)\n",
            "Requirement already satisfied: joblib in /usr/local/lib/python3.6/dist-packages (from sacremoses->transformers) (0.17.0)\n",
            "Building wheels for collected packages: sacremoses\n",
            "  Building wheel for sacremoses (setup.py) ... \u001b[?25l\u001b[?25hdone\n",
            "  Created wheel for sacremoses: filename=sacremoses-0.0.43-cp36-none-any.whl size=893257 sha256=314c2d780d39192fce193e328f6f2624e8d7218fc6247846878dbb620ca04175\n",
            "  Stored in directory: /root/.cache/pip/wheels/29/3c/fd/7ce5c3f0666dab31a50123635e6fb5e19ceb42ce38d4e58f45\n",
            "Successfully built sacremoses\n",
            "Installing collected packages: tokenizers, sentencepiece, sacremoses, transformers\n",
            "Successfully installed sacremoses-0.0.43 sentencepiece-0.1.91 tokenizers-0.9.3 transformers-3.5.0\n"
          ],
          "name": "stdout"
        }
      ]
    },
    {
      "cell_type": "code",
      "metadata": {
        "id": "rCphYfJvd4gb",
        "outputId": "427d7c94-290b-4842-cd1d-3e3583f93813",
        "colab": {
          "base_uri": "https://localhost:8080/",
          "height": 164,
          "referenced_widgets": [
            "e20e597ce033487d900dcfd9e2941387",
            "20e79ea24b374fe496899d332d105a51",
            "14194be3f8e946fcbf526b6d21cf80ee",
            "4ff99e29e6914c668bc5edc8bf729cae",
            "9961f4f62ec14d82851543ebbe586365",
            "08dff4be83be4395b8187003a2d8780f",
            "262ea86043c446a29a4aac97201e12b2",
            "2b5a08547f5f4f6faeaa9bea681cbe49",
            "899a63f6f7694375b16f94ade7134a50",
            "d36056feaa0f4e1fb881bfbd2121f60e",
            "fb7a2bb2eca941089856db329c741e51",
            "c7035b054d1240aabba790d6a9d80534",
            "a3a3bfeb194d4f28a52b0d3870231c4a",
            "d174cdbfc8484d61ad46cc2a15d23f2a",
            "7060a66e2599490e9a3a0b8821c10cdf",
            "eab27c63d2724b868195198326fc1fd3",
            "95dd8670bad84efb9dc5144be6e190e0",
            "807cc28aab76489ea282c209bcf77a51",
            "7ff832cc4b344f33a03e1311a5d12b2b",
            "bd0ef509b0a8479ea3db357e73677dba",
            "787576301027465eb0392d8b14aaef09",
            "8633d2dc0a4e4157873536d0974e932b",
            "75e451934ec04ce29906d5745c2554a5",
            "70f8d5349ff44dfe854cbe8e7ff5b976"
          ]
        }
      },
      "source": [
        "from transformers import AutoTokenizer, AutoModelForQuestionAnswering\n",
        "import torch\n",
        "\n",
        "tokenizer = AutoTokenizer.from_pretrained(\"bert-large-uncased-whole-word-masking-finetuned-squad\")\n",
        "model = AutoModelForQuestionAnswering.from_pretrained(\"bert-large-uncased-whole-word-masking-finetuned-squad\")\n"
      ],
      "execution_count": 30,
      "outputs": [
        {
          "output_type": "display_data",
          "data": {
            "application/vnd.jupyter.widget-view+json": {
              "model_id": "e20e597ce033487d900dcfd9e2941387",
              "version_minor": 0,
              "version_major": 2
            },
            "text/plain": [
              "HBox(children=(FloatProgress(value=0.0, description='Downloading', max=443.0, style=ProgressStyle(description_…"
            ]
          },
          "metadata": {
            "tags": []
          }
        },
        {
          "output_type": "stream",
          "text": [
            "\n"
          ],
          "name": "stdout"
        },
        {
          "output_type": "display_data",
          "data": {
            "application/vnd.jupyter.widget-view+json": {
              "model_id": "899a63f6f7694375b16f94ade7134a50",
              "version_minor": 0,
              "version_major": 2
            },
            "text/plain": [
              "HBox(children=(FloatProgress(value=0.0, description='Downloading', max=231508.0, style=ProgressStyle(descripti…"
            ]
          },
          "metadata": {
            "tags": []
          }
        },
        {
          "output_type": "stream",
          "text": [
            "\n"
          ],
          "name": "stdout"
        },
        {
          "output_type": "display_data",
          "data": {
            "application/vnd.jupyter.widget-view+json": {
              "model_id": "95dd8670bad84efb9dc5144be6e190e0",
              "version_minor": 0,
              "version_major": 2
            },
            "text/plain": [
              "HBox(children=(FloatProgress(value=0.0, description='Downloading', max=1340675298.0, style=ProgressStyle(descr…"
            ]
          },
          "metadata": {
            "tags": []
          }
        },
        {
          "output_type": "stream",
          "text": [
            "\n"
          ],
          "name": "stdout"
        }
      ]
    },
    {
      "cell_type": "code",
      "metadata": {
        "id": "fAmoZBaud9c5"
      },
      "source": [
        "text = first_text"
      ],
      "execution_count": 39,
      "outputs": []
    },
    {
      "cell_type": "code",
      "metadata": {
        "id": "h5r-VwFSetlT"
      },
      "source": [
        "questions = [\"How does your Search improve with Deep Learning?\", \"What will this Book show me?\"]\n"
      ],
      "execution_count": 40,
      "outputs": []
    },
    {
      "cell_type": "code",
      "metadata": {
        "id": "mhLCRKyvfAbK",
        "outputId": "b09de98b-2370-4f00-9a63-dbaa83d15641",
        "colab": {
          "base_uri": "https://localhost:8080/"
        }
      },
      "source": [
        "for question in questions:\n",
        "    inputs = tokenizer(question, text, add_special_tokens=True, return_tensors=\"pt\")\n",
        "    input_ids = inputs[\"input_ids\"].tolist()[0]\n",
        "    text_tokens = tokenizer.convert_ids_to_tokens(input_ids)\n",
        "    answer_start_scores, answer_end_scores = model(**inputs)\n",
        "    answer_start = torch.argmax(\n",
        "        answer_start_scores\n",
        "    )  # Get the most likely beginning of answer with the argmax of the score\n",
        "    answer_end = torch.argmax(answer_end_scores) + 1  # Get the most likely end of answer with the argmax of the score\n",
        "    answer = tokenizer.convert_tokens_to_string(tokenizer.convert_ids_to_tokens(input_ids[answer_start:answer_end]))\n",
        "    print(f\"Question: {question}\")\n",
        "    print(f\"Answer: {answer}\")"
      ],
      "execution_count": 42,
      "outputs": [
        {
          "output_type": "stream",
          "text": [
            "Question: How does your Search improve with Deep Learning?\n",
            "Answer: \n"
          ],
          "name": "stdout"
        }
      ]
    }
  ]
}